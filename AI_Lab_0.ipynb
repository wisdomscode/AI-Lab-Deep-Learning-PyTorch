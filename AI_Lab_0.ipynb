{
  "cells": [
    {
      "cell_type": "markdown",
      "metadata": {
        "id": "view-in-github",
        "colab_type": "text"
      },
      "source": [
        "<a href=\"https://colab.research.google.com/github/wisdomscode/AI-Lab-Deep-Learning-PyTorch/blob/main/AI_Lab_0.ipynb\" target=\"_parent\"><img src=\"https://colab.research.google.com/assets/colab-badge.svg\" alt=\"Open In Colab\"/></a>"
      ]
    },
    {
      "cell_type": "markdown",
      "source": [
        "# Working with Tensor"
      ],
      "metadata": {
        "id": "A7FQHMu9RC-J"
      }
    },
    {
      "cell_type": "code",
      "execution_count": 1,
      "metadata": {
        "id": "r3Ii8znuJZV6"
      },
      "outputs": [],
      "source": [
        "import os\n",
        "import sys\n",
        "\n",
        "import matplotlib\n",
        "import matplotlib.pyplot as plt\n",
        "import pandas as pd\n",
        "import PIL\n",
        "import torch\n",
        "import torchvision\n",
        "from PIL import Image\n",
        "from torchvision import transforms"
      ]
    },
    {
      "cell_type": "code",
      "execution_count": 2,
      "metadata": {
        "colab": {
          "base_uri": "https://localhost:8080/"
        },
        "id": "Z-tA5crqonRI",
        "outputId": "62d8cba2-3eba-437e-88f1-9d4de98f58e7"
      },
      "outputs": [
        {
          "output_type": "stream",
          "name": "stdout",
          "text": [
            "Platform: linux\n",
            "Python version: 3.11.11 (main, Dec  4 2024, 08:55:07) [GCC 11.4.0]\n",
            "---\n",
            "matplotlib version: 3.10.0\n",
            "pandas version: 2.2.2\n",
            "PIL version: 11.1.0\n",
            "torch version: 2.5.1+cu124\n",
            "torchvision version: 0.20.1+cu124\n"
          ]
        }
      ],
      "source": [
        "print(\"Platform:\", sys.platform)\n",
        "print(\"Python version:\", sys.version)\n",
        "print(\"---\")\n",
        "print(\"matplotlib version:\", matplotlib.__version__)\n",
        "print(\"pandas version:\", pd.__version__)\n",
        "print(\"PIL version:\", PIL.__version__)\n",
        "print(\"torch version:\", torch.__version__)\n",
        "print(\"torchvision version:\", torchvision.__version__)"
      ]
    },
    {
      "cell_type": "code",
      "execution_count": 3,
      "metadata": {
        "colab": {
          "base_uri": "https://localhost:8080/"
        },
        "id": "IXgd0gQ0pSBv",
        "outputId": "f06c71e5-3b6d-49ad-a15d-0de03fe5cb55"
      },
      "outputs": [
        {
          "output_type": "stream",
          "name": "stdout",
          "text": [
            "my_tensor class: <class 'torch.Tensor'>\n",
            "tensor([[ 1.,  2.,  3.],\n",
            "        [ 4.,  5.,  6.],\n",
            "        [ 7.,  8.,  9.],\n",
            "        [10., 11., 12.]])\n"
          ]
        }
      ],
      "source": [
        "# Declare my_tensor\n",
        "my_values = [[1, 2, 3], [4, 5, 6], [7, 8, 9], [10, 11, 12]]\n",
        "my_tensor = torch.Tensor(my_values)\n",
        "\n",
        "print(\"my_tensor class:\", type(my_tensor))\n",
        "print(my_tensor)"
      ]
    },
    {
      "cell_type": "markdown",
      "source": [
        "Tensor Attributes"
      ],
      "metadata": {
        "id": "7hL4dbXITLAR"
      }
    },
    {
      "cell_type": "markdown",
      "source": [
        "Task 1.1.2"
      ],
      "metadata": {
        "id": "WZBZbZwrVEAJ"
      }
    },
    {
      "cell_type": "code",
      "execution_count": null,
      "metadata": {
        "colab": {
          "base_uri": "https://localhost:8080/"
        },
        "id": "2EZzJ6THpirp",
        "outputId": "289c6b6d-1e0c-4135-e9ea-a5d64d5135cd"
      },
      "outputs": [
        {
          "name": "stdout",
          "output_type": "stream",
          "text": [
            "my_tensor shape: torch.Size([4, 3])\n",
            "my_tensor dtype: torch.float32\n"
          ]
        }
      ],
      "source": [
        "#Tensor attributes eg (dimenstions 'shape' and data type 'dtype')\n",
        "print(\"my_tensor shape:\", my_tensor.shape)\n",
        "\n",
        "print(\"my_tensor dtype:\", my_tensor.dtype)"
      ]
    },
    {
      "cell_type": "markdown",
      "source": [
        "Task 1.1.3"
      ],
      "metadata": {
        "id": "rLxNOiKYVJqp"
      }
    },
    {
      "cell_type": "code",
      "execution_count": null,
      "metadata": {
        "colab": {
          "base_uri": "https://localhost:8080/"
        },
        "id": "0A7A29JRqayu",
        "outputId": "4f5e88aa-fd25-4631-c7b8-6de7555c3747"
      },
      "outputs": [
        {
          "name": "stdout",
          "output_type": "stream",
          "text": [
            "my_tensor device: cpu\n"
          ]
        }
      ],
      "source": [
        "# Tensor Device - Tell us the hardware tensor is installed\n",
        "print(\"my_tensor device:\", my_tensor.device)"
      ]
    },
    {
      "cell_type": "code",
      "execution_count": 4,
      "metadata": {
        "colab": {
          "base_uri": "https://localhost:8080/"
        },
        "id": "PlZSU2S8rHI6",
        "outputId": "33977a1f-f0d0-4595-b5d7-6aedbe304a6c"
      },
      "outputs": [
        {
          "output_type": "stream",
          "name": "stdout",
          "text": [
            "cuda GPUs available: True\n"
          ]
        }
      ],
      "source": [
        "#Some computers come with GPUs, which allow for bigger and faster model building.\n",
        "#In PyTorch, the cuda package is used to access GPUs on Linux and Windows machines;\n",
        "#mps is used on Macs.\n",
        "\n",
        "# Check if GPUs available via `cuda`\n",
        "cuda_gpus_available = torch.cuda.is_available()\n",
        "\n",
        "print(\"cuda GPUs available:\", cuda_gpus_available)\n"
      ]
    },
    {
      "cell_type": "markdown",
      "source": [
        "Task 1.1.4 Change Device"
      ],
      "metadata": {
        "id": "OnVFI4dmV_MZ"
      }
    },
    {
      "cell_type": "code",
      "execution_count": 5,
      "metadata": {
        "colab": {
          "base_uri": "https://localhost:8080/"
        },
        "id": "fSi86kPSsc4l",
        "outputId": "176c1586-1f78-422c-b91e-d909aa89cacb"
      },
      "outputs": [
        {
          "output_type": "stream",
          "name": "stdout",
          "text": [
            "my_tensor device: cuda:0\n"
          ]
        }
      ],
      "source": [
        "# Change the device from cpu to gpu 'cuda'\n",
        "my_tensor = my_tensor.to(\"cuda\")\n",
        "\n",
        "print(\"my_tensor device:\", my_tensor.device)"
      ]
    },
    {
      "cell_type": "markdown",
      "source": [
        "Tensor Slicing"
      ],
      "metadata": {
        "id": "_BY21FJ5Yb-j"
      }
    },
    {
      "cell_type": "markdown",
      "source": [
        "Task 1.1.5"
      ],
      "metadata": {
        "id": "gDwH447GYkTq"
      }
    },
    {
      "cell_type": "code",
      "execution_count": 6,
      "metadata": {
        "colab": {
          "base_uri": "https://localhost:8080/"
        },
        "id": "_pZDTMI8uSse",
        "outputId": "d7fd97ca-21dd-4bba-d34b-1a56459848ab"
      },
      "outputs": [
        {
          "output_type": "stream",
          "name": "stdout",
          "text": [
            "left_tensor class: <class 'torch.Tensor'>\n",
            "left_tensor shape: torch.Size([2, 3])\n",
            "left_tensor data type: torch.float32\n",
            "left_tensor device: cuda:0\n",
            "tensor([[1., 2., 3.],\n",
            "        [4., 5., 6.]], device='cuda:0')\n",
            "\n",
            "right_tensor class: <class 'torch.Tensor'>\n",
            "right_tensor shape: torch.Size([2, 3])\n",
            "right_tensor data type: torch.float32\n",
            "right_tensor device: cuda:0\n",
            "tensor([[ 7.,  8.,  9.],\n",
            "        [10., 11., 12.]], device='cuda:0')\n"
          ]
        }
      ],
      "source": [
        "#Tensor Slicing - using [] and indexing to select a subset of the values in a tensor\n",
        "#Slice my_tensor, assigning its top two rows to left_tensor and its bottom two rows to right_tensor.\n",
        "left_tensor = my_tensor[:2 :]\n",
        "right_tensor = my_tensor[2: :]\n",
        "\n",
        "print(\"left_tensor class:\", type(left_tensor))\n",
        "print(\"left_tensor shape:\", left_tensor.shape)\n",
        "print(\"left_tensor data type:\", left_tensor.dtype)\n",
        "print(\"left_tensor device:\", left_tensor.device)\n",
        "print(left_tensor)\n",
        "print()\n",
        "print(\"right_tensor class:\", type(right_tensor))\n",
        "print(\"right_tensor shape:\", right_tensor.shape)\n",
        "print(\"right_tensor data type:\", right_tensor.dtype)\n",
        "print(\"right_tensor device:\", right_tensor.device)\n",
        "print(right_tensor)"
      ]
    },
    {
      "cell_type": "markdown",
      "source": [
        "Tensor Math"
      ],
      "metadata": {
        "id": "TJz80WKwZE-h"
      }
    },
    {
      "cell_type": "markdown",
      "source": [
        "Task 1.1.6:  Addition"
      ],
      "metadata": {
        "id": "5qOEEuvyZH4a"
      }
    },
    {
      "cell_type": "code",
      "execution_count": 7,
      "metadata": {
        "id": "yDKVK14yvXNM",
        "colab": {
          "base_uri": "https://localhost:8080/"
        },
        "outputId": "8b2bc303-c316-480f-d324-8a0ad53ff079"
      },
      "outputs": [
        {
          "output_type": "stream",
          "name": "stdout",
          "text": [
            "tensor([[ 8., 10., 12.],\n",
            "        [14., 16., 18.]], device='cuda:0')\n",
            "\n",
            "tensor([[ 8., 10., 12.],\n",
            "        [14., 16., 18.]], device='cuda:0')\n"
          ]
        }
      ],
      "source": [
        "#Assign the results to summed_tensor_operator and summed_tensor_method (+ or add())\n",
        "\n",
        "summed_tensor_operator = left_tensor + right_tensor\n",
        "summed_tensor_method = left_tensor.add(right_tensor)\n",
        "\n",
        "print(summed_tensor_operator)\n",
        "print()\n",
        "\n",
        "print(summed_tensor_method)"
      ]
    },
    {
      "cell_type": "markdown",
      "source": [
        "Task 1.1.7: Multiplication"
      ],
      "metadata": {
        "id": "vWq4rK-QaG2r"
      }
    },
    {
      "cell_type": "code",
      "source": [
        "# element-wise multiplication, where the corresponding values of two tensors are multiplied together.\n",
        "# In PyTorch, we can do this using the * operator or the .mul() method\n",
        "# To multiply number of rows of each must be equal\n",
        "# [[2, 5], [7, 3], [3]] and [[8], [9], [2], [5]]\n",
        "\n",
        "ew_tensor_operator = left_tensor * right_tensor\n",
        "ew_tensor_method = left_tensor.mul(right_tensor)\n",
        "\n",
        "\n",
        "print(ew_tensor_operator)\n",
        "print()\n",
        "\n",
        "print(ew_tensor_method)\n",
        "\n",
        "# Note that element-wise multiplication is commutative.\n",
        "# It doesn't matter in what order we multiply the two tensors.\n",
        "# The product of left_tensor * right_tensor is the same as the product of right_tensor * left_tensor.\n",
        "# left_tensor * right_tensor == right_tensor * left_tensor\n"
      ],
      "metadata": {
        "colab": {
          "base_uri": "https://localhost:8080/"
        },
        "id": "oBRLuUjAaRs5",
        "outputId": "b463a5c3-5de4-4ccd-9f14-739f98cd16fb"
      },
      "execution_count": 19,
      "outputs": [
        {
          "output_type": "stream",
          "name": "stdout",
          "text": [
            "tensor([[ 7., 16., 27.],\n",
            "        [40., 55., 72.]], device='cuda:0')\n",
            "\n",
            "tensor([[ 7., 16., 27.],\n",
            "        [40., 55., 72.]], device='cuda:0')\n"
          ]
        }
      ]
    },
    {
      "cell_type": "code",
      "source": [
        "# Experimenting\n",
        "a = torch.Tensor([[2, 5, 1], [7, 3, 2], [4, 5, 3]])\n",
        "b = torch.Tensor([[8], [9], [5]])\n",
        "\n",
        "print(a * b)"
      ],
      "metadata": {
        "colab": {
          "base_uri": "https://localhost:8080/"
        },
        "id": "mWnjP9VagyIL",
        "outputId": "ac2e3ac2-9cf7-41f1-ab05-87b81b93ac42"
      },
      "execution_count": 25,
      "outputs": [
        {
          "output_type": "stream",
          "name": "stdout",
          "text": [
            "tensor([[16., 40.,  8.],\n",
            "        [63., 27., 18.],\n",
            "        [20., 25., 15.]])\n"
          ]
        }
      ]
    },
    {
      "cell_type": "markdown",
      "source": [
        "Matrix multiplication"
      ],
      "metadata": {
        "id": "njLpO3tscS-y"
      }
    },
    {
      "cell_type": "markdown",
      "source": [
        "Matrix multiplication, which combines the rows and columns of two tensors to generate a new one. We can use the @ operator or the .matmul() method."
      ],
      "metadata": {
        "id": "WjoesbpPc9ya"
      }
    },
    {
      "cell_type": "code",
      "source": [
        "# Lets create two new matrices\n",
        "\n",
        "new_left_tensor = torch.Tensor([[2, 5], [7, 3]])\n",
        "new_right_tensor = torch.Tensor([[8], [9]])\n",
        "\n",
        "print(new_left_tensor)\n",
        "print()\n",
        "print(new_right_tensor)"
      ],
      "metadata": {
        "colab": {
          "base_uri": "https://localhost:8080/"
        },
        "id": "stWgNxScdVVK",
        "outputId": "b699c7b2-45d3-4cb9-f17a-7e08908a23c6"
      },
      "execution_count": 9,
      "outputs": [
        {
          "output_type": "stream",
          "name": "stdout",
          "text": [
            "tensor([[2., 5.],\n",
            "        [7., 3.]])\n",
            "\n",
            "tensor([[8.],\n",
            "        [9.]])\n"
          ]
        }
      ]
    },
    {
      "cell_type": "markdown",
      "source": [
        "Task 1.1.8"
      ],
      "metadata": {
        "id": "8CYoYsftdXIL"
      }
    },
    {
      "cell_type": "code",
      "source": [
        "mm_tensor_operator = new_left_tensor @ new_right_tensor\n",
        "mm_tensor_method = new_left_tensor.matmul(new_right_tensor)\n",
        "\n",
        "print(mm_tensor_operator)\n",
        "print()\n",
        "print(mm_tensor_method)\n",
        "\n",
        "# Matrix multiplication is not commutative.\n",
        "# The number of columns in the tensor on the left must equal\n",
        "# the number of rows in the tensor on the right.\n",
        "# If these two dimensions don't match, your code will throw a RunTimeError."
      ],
      "metadata": {
        "colab": {
          "base_uri": "https://localhost:8080/"
        },
        "id": "cvP54HBTc1xi",
        "outputId": "272a058b-9960-4510-b872-5a1f88cd15f6"
      },
      "execution_count": 10,
      "outputs": [
        {
          "output_type": "stream",
          "name": "stdout",
          "text": [
            "tensor([[61.],\n",
            "        [83.]])\n",
            "\n",
            "tensor([[61.],\n",
            "        [83.]])\n"
          ]
        }
      ]
    },
    {
      "cell_type": "markdown",
      "source": [
        "Task 1.1.9: Calculate the mean"
      ],
      "metadata": {
        "id": "rGL52OeviW8E"
      }
    },
    {
      "cell_type": "code",
      "source": [
        "my_tensor_mean = my_tensor.mean()\n",
        "\n",
        "print(\"my_tensor_mean class:\", type(my_tensor_mean))\n",
        "print(\"my_tensor_mean shape:\", my_tensor_mean.shape)\n",
        "print(\"my_tensor_mean data type:\", my_tensor_mean.dtype)\n",
        "print(\"my_tensor_mean device:\", my_tensor_mean.device)\n",
        "print()\n",
        "print(\"my_tensor mean:\", my_tensor_mean)"
      ],
      "metadata": {
        "colab": {
          "base_uri": "https://localhost:8080/"
        },
        "id": "-QaL1uMpc_p7",
        "outputId": "1b4f339f-8d36-4627-9b1b-f2f1599f3c64"
      },
      "execution_count": 27,
      "outputs": [
        {
          "output_type": "stream",
          "name": "stdout",
          "text": [
            "my_tensor_mean class: <class 'torch.Tensor'>\n",
            "my_tensor_mean shape: torch.Size([])\n",
            "my_tensor_mean data type: torch.float32\n",
            "my_tensor_mean device: cuda:0\n",
            "\n",
            "my_tensor mean: tensor(6.5000, device='cuda:0')\n"
          ]
        }
      ]
    },
    {
      "cell_type": "markdown",
      "source": [
        "Task 1.1.10: Calculate the mean for each column in my_tensor."
      ],
      "metadata": {
        "id": "qcGvF218i43z"
      }
    },
    {
      "cell_type": "code",
      "source": [
        "my_tensor_column_means = my_tensor.mean(dim=0)\n",
        "my_tensor_row_means = my_tensor.mean(dim=1)\n",
        "\n",
        "print(\"my_tensor:\", my_tensor)\n",
        "print(\"my_tensor column means:\", my_tensor_column_means)\n",
        "print(\"my_tensor row means:\", my_tensor_row_means)"
      ],
      "metadata": {
        "colab": {
          "base_uri": "https://localhost:8080/"
        },
        "id": "SCvBIr2Wi6cb",
        "outputId": "62c2d2f1-2083-44c2-e5a5-31dd92ffe8b6"
      },
      "execution_count": 30,
      "outputs": [
        {
          "output_type": "stream",
          "name": "stdout",
          "text": [
            "my_tensor: tensor([[ 1.,  2.,  3.],\n",
            "        [ 4.,  5.,  6.],\n",
            "        [ 7.,  8.,  9.],\n",
            "        [10., 11., 12.]], device='cuda:0')\n",
            "my_tensor column means: tensor([5.5000, 6.5000, 7.5000], device='cuda:0')\n",
            "my_tensor row means: tensor([ 2.,  5.,  8., 11.], device='cuda:0')\n"
          ]
        }
      ]
    },
    {
      "cell_type": "markdown",
      "source": [
        "# Explore Files"
      ],
      "metadata": {
        "id": "VCyX1Dhfj6YV"
      }
    },
    {
      "cell_type": "markdown",
      "source": [
        "Task 1.1.11"
      ],
      "metadata": {
        "id": "_pMPHWUukHt7"
      }
    },
    {
      "cell_type": "markdown",
      "source": [
        "Following the pattern of data_dir, assign the path to the multi-class training data to train_dir"
      ],
      "metadata": {
        "id": "9pbMIhmQkKak"
      }
    },
    {
      "cell_type": "code",
      "source": [],
      "metadata": {
        "id": "LPpts28GkNgN"
      },
      "execution_count": null,
      "outputs": []
    }
  ],
  "metadata": {
    "accelerator": "GPU",
    "colab": {
      "gpuType": "T4",
      "provenance": [],
      "toc_visible": true,
      "authorship_tag": "ABX9TyNGU0OTPAVMV/pUiZmW294p",
      "include_colab_link": true
    },
    "kernelspec": {
      "display_name": "Python 3",
      "name": "python3"
    },
    "language_info": {
      "name": "python"
    }
  },
  "nbformat": 4,
  "nbformat_minor": 0
}