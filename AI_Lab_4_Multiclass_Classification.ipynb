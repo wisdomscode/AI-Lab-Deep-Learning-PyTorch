{
  "nbformat": 4,
  "nbformat_minor": 0,
  "metadata": {
    "colab": {
      "provenance": [],
      "gpuType": "T4",
      "authorship_tag": "ABX9TyNSR1cfUa+24jO0aKmoQhRQ",
      "include_colab_link": true
    },
    "kernelspec": {
      "name": "python3",
      "display_name": "Python 3"
    },
    "language_info": {
      "name": "python"
    },
    "accelerator": "GPU"
  },
  "cells": [
    {
      "cell_type": "markdown",
      "metadata": {
        "id": "view-in-github",
        "colab_type": "text"
      },
      "source": [
        "<a href=\"https://colab.research.google.com/github/wisdomscode/AI-Lab-Deep-Learning-PyTorch/blob/main/AI_Lab_4_Multiclass_Classification.ipynb\" target=\"_parent\"><img src=\"https://colab.research.google.com/assets/colab-badge.svg\" alt=\"Open In Colab\"/></a>"
      ]
    },
    {
      "cell_type": "markdown",
      "source": [
        "# Multiclass Classification"
      ],
      "metadata": {
        "id": "2S3SaNdLjuOz"
      }
    },
    {
      "cell_type": "markdown",
      "source": [
        "**Summary:** In this lesson, we'll work with the full wildlife dataset, which has eight classes. This is more than the network in the previous notebook can handle. Here we'll build and train a more complicated neural network, called a Convolutional Neural Network, that is meant for working with images. We'll use this network to get the predictions we need for the competition at [DrivenData.org](https://www.drivendata.org/competitions/87/competition-image-classification-wildlife-conservation/)."
      ],
      "metadata": {
        "id": "jJeltkzakK95"
      }
    },
    {
      "cell_type": "markdown",
      "source": [
        "**Objectives:**\n",
        "\n",
        "* Read in data with multiple classes\n",
        "* Normalize our data to improve performance\n",
        "* Create a Convolutional Neural Network that works well with images\n",
        "* Train that network to do multiclass classification\n",
        "* Reformat the network predictions to complete the competition\n",
        "\n",
        "**New Terms:**\n",
        "\n",
        "* Multiclass\n",
        "* Normalize\n",
        "* Convolution\n",
        "* Max pooling"
      ],
      "metadata": {
        "id": "u-1n7OaqkcIy"
      }
    },
    {
      "cell_type": "markdown",
      "source": [
        "# The Competition"
      ],
      "metadata": {
        "id": "soFaML3Gk3M-"
      }
    },
    {
      "cell_type": "markdown",
      "source": [
        "As a reminder, the data we're working with came from a competition at [DrivenData.org](https://www.drivendata.org/competitions/87/competition-image-classification-wildlife-conservation/). The goal of the competition is to build a model that takes an image and classifies what animal is in it. There are seven animals, plus a 'blank' where no animal is present in the image.\n",
        "\n",
        "So far, we have\n",
        "\n",
        "* Read in image data\n",
        "* Loaded that data in PyTorch\n",
        "* Built a neural network\n",
        "* Used that neural network to do binary classification\n",
        "\n",
        "We're almost ready for the competition now. We need to expand our network to handle all eight categories. We could do this with the simple network we've already built, but it would perform poorly. Instead, we're going to build a more complex network that's meant for working with images. This is called a Convolutional Neural Network, and involves arranging the neurons in a different pattern.\n",
        "\n",
        "Once we have built and trained this network, its output will be what the competition is looking for. We'll get our predictions and save them into the requested format."
      ],
      "metadata": {
        "id": "75g0-AYjlUdy"
      }
    },
    {
      "cell_type": "markdown",
      "source": [
        "# Getting Started"
      ],
      "metadata": {
        "id": "Cse_xpSumPKW"
      }
    },
    {
      "cell_type": "markdown",
      "source": [
        "we'll import the packages we'll need in this notebook."
      ],
      "metadata": {
        "id": "7yf3ny7TmeXR"
      }
    },
    {
      "cell_type": "code",
      "execution_count": null,
      "metadata": {
        "id": "cUe_LgMnjfmN"
      },
      "outputs": [],
      "source": [
        "import os\n",
        "import sys\n",
        "from collections import Counter\n",
        "\n",
        "import matplotlib\n",
        "import matplotlib.pyplot as plt\n",
        "import numpy as np\n",
        "import pandas as pd\n",
        "import PIL\n",
        "import torch\n",
        "import torch.nn as nn\n",
        "import torch.optim as optim\n",
        "import torchvision\n",
        "from sklearn.metrics import ConfusionMatrixDisplay, confusion_matrix\n",
        "from torch.utils.data import DataLoader, random_split\n",
        "from torchinfo import summary\n",
        "from torchvision import datasets, transforms\n",
        "from tqdm.notebook import tqdm\n",
        "\n",
        "torch.backends.cudnn.deterministic = True"
      ]
    },
    {
      "cell_type": "code",
      "source": [
        "pip install torchinfo"
      ],
      "metadata": {
        "colab": {
          "base_uri": "https://localhost:8080/"
        },
        "id": "jdNmkKI1pqc0",
        "outputId": "e07991d2-5717-482c-d9d7-a677394220e6"
      },
      "execution_count": null,
      "outputs": [
        {
          "output_type": "stream",
          "name": "stdout",
          "text": [
            "Collecting torchinfo\n",
            "  Downloading torchinfo-1.8.0-py3-none-any.whl.metadata (21 kB)\n",
            "Downloading torchinfo-1.8.0-py3-none-any.whl (23 kB)\n",
            "Installing collected packages: torchinfo\n",
            "Successfully installed torchinfo-1.8.0\n"
          ]
        }
      ]
    },
    {
      "cell_type": "markdown",
      "source": [
        "Let's print out the versions of our packages again. If we come back to this later, we'll know what we used."
      ],
      "metadata": {
        "id": "SlvrO6wvmxmp"
      }
    },
    {
      "cell_type": "code",
      "source": [
        "print(\"Platform:\", sys.platform)\n",
        "print(\"Python version:\", sys.version)\n",
        "print(\"---\")\n",
        "print(\"matplotlib version:\", matplotlib.__version__)\n",
        "print(\"pandas version:\", pd.__version__)\n",
        "print(\"PIL version:\", PIL.__version__)\n",
        "print(\"torch version:\", torch.__version__)\n",
        "print(\"torchvision version:\", torchvision.__version__)\n",
        "\n"
      ],
      "metadata": {
        "colab": {
          "base_uri": "https://localhost:8080/"
        },
        "id": "Xf7eGY8WmvkB",
        "outputId": "e893268c-65c9-4ae2-9107-f692cc0d4519"
      },
      "execution_count": null,
      "outputs": [
        {
          "output_type": "stream",
          "name": "stdout",
          "text": [
            "Platform: linux\n",
            "Python version: 3.11.11 (main, Dec  4 2024, 08:55:07) [GCC 11.4.0]\n",
            "---\n",
            "matplotlib version: 3.10.0\n",
            "pandas version: 2.2.2\n",
            "PIL version: 11.1.0\n",
            "torch version: 2.5.1+cu124\n",
            "torchvision version: 0.20.1+cu124\n"
          ]
        }
      ]
    },
    {
      "cell_type": "markdown",
      "source": [
        "We should be running on GPUs, so the device should be `cuda`."
      ],
      "metadata": {
        "id": "RAoZwpr4pQsm"
      }
    },
    {
      "cell_type": "code",
      "source": [
        "if torch.cuda.is_available():\n",
        "    device = \"cuda\"\n",
        "elif torch.backends.mps.is_available():\n",
        "    device = \"mps\"\n",
        "else:\n",
        "    device = \"cpu\"\n",
        "\n",
        "print(f\"Using {device} device.\")"
      ],
      "metadata": {
        "colab": {
          "base_uri": "https://localhost:8080/"
        },
        "id": "3qyi1BN7p8_-",
        "outputId": "be572542-efa0-45a1-c316-d0705df32af2"
      },
      "execution_count": null,
      "outputs": [
        {
          "output_type": "stream",
          "name": "stdout",
          "text": [
            "Using cpu device.\n"
          ]
        }
      ]
    },
    {
      "cell_type": "markdown",
      "source": [
        "# Reading files"
      ],
      "metadata": {
        "id": "V5PAZxlwqDbv"
      }
    },
    {
      "cell_type": "markdown",
      "source": [
        "We'll need to read in our data. Since we'll be using images once again, we'll need to convert them to something our network can understand. To start with, we'll use the same set of transformations we used in the previous notebook.\n",
        "\n",
        "These transformations are\n",
        "\n",
        "* Convert any grayscale images to RGB format with a custom class\n",
        "* Resize the image, so that they're all the same size (we chose\n",
        "224 x 224, but other sizes would work as well)\n",
        "* Convert the image to a Tensor of pixel values\n",
        "\n",
        "This should result in each image becoming a Tensor of size\n",
        "3 x 224 x 224. We'll check this once we read in the data."
      ],
      "metadata": {
        "id": "TGWaRwuMqXR5"
      }
    },
    {
      "cell_type": "code",
      "source": [
        "class ConvertToRGB:\n",
        "    def __call__(self, img):\n",
        "        if img.mode != \"RGB\":\n",
        "            img = img.convert(\"RGB\")\n",
        "        return img"
      ],
      "metadata": {
        "id": "puvU6YRpq1cw"
      },
      "execution_count": null,
      "outputs": []
    },
    {
      "cell_type": "code",
      "source": [
        "transform = transforms.Compose(\n",
        "    [\n",
        "        ConvertToRGB(),\n",
        "        transforms.Resize((224, 224)),\n",
        "        transforms.ToTensor(),\n",
        "    ]\n",
        ")"
      ],
      "metadata": {
        "id": "BBAEZ6TEq69T"
      },
      "execution_count": null,
      "outputs": []
    },
    {
      "cell_type": "markdown",
      "source": [
        "In the previous notebook, we were working with only two categories. That data was in the data_binary subdirectory. Here we'll work with all eight categories, in the data_multiclass subdirectory. Let's load that data. We will follow the same pattern we used in the last notebook."
      ],
      "metadata": {
        "id": "pAdUFZVKrLnr"
      }
    },
    {
      "cell_type": "markdown",
      "source": [
        "**Task 1.4.1:** Assign the path to the multi-class training data to train_dir. Then use the ImageFolder tool to open those files and apply our transforms."
      ],
      "metadata": {
        "id": "IB6yk3fIrPC9"
      }
    },
    {
      "cell_type": "code",
      "source": [
        "data_dir = 'data_p1/data_multiclass/'\n",
        "train_dir = os.path.join(data_dir, 'train')\n",
        "\n",
        "print(\"Will read data from\", train_dir)\n",
        "\n",
        "#output\n",
        "Will read data from data_p1/data_multiclass/train"
      ],
      "metadata": {
        "id": "j_pF5RvgsxUW"
      },
      "execution_count": null,
      "outputs": []
    },
    {
      "cell_type": "code",
      "source": [
        "dataset = datasets.ImageFolder(root=train_dir, transform=transform)"
      ],
      "metadata": {
        "id": "flmM7deHtAzF"
      },
      "execution_count": null,
      "outputs": []
    },
    {
      "cell_type": "markdown",
      "source": [
        "Now that we have our data, let's verify that we got what we wanted. We should have classes for each of the seven animals, and one 'blank' for when there wasn't an animal in the image. Additionally, the tensors we get should be of size 3 x 224 x 224."
      ],
      "metadata": {
        "id": "u3rxVHJktJyy"
      }
    },
    {
      "cell_type": "code",
      "source": [
        "print(\"Classes:\")\n",
        "print(dataset.classes)\n",
        "print(f\"That's {len(dataset.classes)} classes\")\n",
        "print()\n",
        "print(\"Tensor shape for one image:\")\n",
        "print(dataset[0][0].shape)\n",
        "\n",
        "#output\n",
        "Classes:\n",
        "['antelope_duiker', 'bird', 'blank', 'civet_genet', 'hog', 'leopard', 'monkey_prosimian', 'rodent']\n",
        "That's 8 classes\n",
        "\n",
        "Tensor shape for one image:\n",
        "torch.Size([3, 224, 224])"
      ],
      "metadata": {
        "id": "iGh5Q3fztVQP"
      },
      "execution_count": null,
      "outputs": []
    },
    {
      "cell_type": "markdown",
      "source": [
        "In principle, we could work with the data like this. But PyTorch is expecting the data to be broken into batches with a DataLoader. This prevents PyTorch from trying to load all of the files into memory at once, which would cause our notebook to crash. Instead, it loads just a few (the batch_size), works with them, then discards them. Since all the tools are expecting it, we should convert ours. The batch size to work with will depend on our system, but something in the\n",
        "20 to 100 range is usually fine. We'll pick 32."
      ],
      "metadata": {
        "id": "DQm_N8W3tSVp"
      }
    },
    {
      "cell_type": "code",
      "source": [
        "batch_size = 32\n",
        "dataset_loader = DataLoader(dataset, batch_size=batch_size)\n",
        "\n",
        "# Get one batch\n",
        "first_batch = next(iter(dataset_loader))\n",
        "\n",
        "print(f\"Shape of one batch: {first_batch[0].shape}\")\n",
        "print(f\"Shape of labels: {first_batch[1].shape}\")\n",
        "\n",
        "#output\n",
        "Shape of one batch: torch.Size([32, 3, 224, 224])\n",
        "Shape of labels: torch.Size([32])"
      ],
      "metadata": {
        "id": "0KeIoJ6Zuesx"
      },
      "execution_count": null,
      "outputs": []
    },
    {
      "cell_type": "markdown",
      "source": [
        "When we loop over this loader, it'll produce small batches of our images. This is what we want — these are the \"minibatches\" that will speed up our computations. In our case, each batch is\n",
        "32 images, with each image\n",
        "3 x 224 x 224\n",
        ". It also provides us with the labels for the correct answers. This is the information we need to train a network."
      ],
      "metadata": {
        "id": "9K9Vbo11tUg6"
      }
    },
    {
      "cell_type": "markdown",
      "source": [],
      "metadata": {
        "id": "ljfu_BljuX2I"
      }
    },
    {
      "cell_type": "markdown",
      "source": [
        "# Prepare Our Data"
      ],
      "metadata": {
        "id": "-JIlDj8-wnm2"
      }
    },
    {
      "cell_type": "markdown",
      "source": [
        "As we were reading in the data, we already did some preparation. Our images are all the same shape, and have been converted to tensors. But neural networks tend to perform best with data that has a mean of 0 and a standard deviation of 1. Data that has that property is called *normalized*. In our case, that would be the mean and standard deviation of all of the pixels in all of the images.\n",
        "\n",
        "Let's see what they are for our data. Here's a function that computes the mean and standard deviation for each color channel (red, green, and blue) separately. It takes in a DataLoader and returns the mean and standard deviation of each channel."
      ],
      "metadata": {
        "id": "7BnYN6Hgw628"
      }
    },
    {
      "cell_type": "markdown",
      "source": [
        "**Mean and Standard Deviation**"
      ],
      "metadata": {
        "id": "XbLrwTCoX3zT"
      }
    },
    {
      "cell_type": "code",
      "source": [
        "def get_mean_std(loader):\n",
        "    \"\"\"Computes the mean and standard deviation of image data.\n",
        "\n",
        "    Input: a `DataLoader` producing tensors of shape [batch_size, channels, pixels_x, pixels_y]\n",
        "    Output: the mean of each channel as a tensor, the standard deviation of each channel as a tensor\n",
        "            formatted as a tuple (means[channels], std[channels])\"\"\"\n",
        "\n",
        "    channels_sum, channels_squared_sum, num_batches = 0, 0, 0\n",
        "    for data, _ in tqdm(loader, desc=\"Computing mean and std\", leave=False):\n",
        "        channels_sum += torch.mean(data, dim=[0, 2, 3])\n",
        "        channels_squared_sum += torch.mean(data**2, dim=[0, 2, 3])\n",
        "        num_batches += 1\n",
        "    mean = channels_sum / num_batches\n",
        "    std = (channels_squared_sum / num_batches - mean**2) ** 0.5\n",
        "\n",
        "    return mean, std"
      ],
      "metadata": {
        "id": "6Wt-8argXU_M"
      },
      "execution_count": null,
      "outputs": []
    },
    {
      "cell_type": "markdown",
      "source": [
        "**Task 1.4.2:** Run the get_mean_std function. on the training data, and save the means and standard deviations to variables mean and std. There should be a value for each color channel, giving us vectors of length 3."
      ],
      "metadata": {
        "id": "xqcz1oSIXcTh"
      }
    },
    {
      "cell_type": "code",
      "source": [
        "mean, std = get_mean_std(dataset_loader)\n",
        "\n",
        "print(f\"Mean: {mean}\")\n",
        "print(f\"Standard deviation: {std}\")\n",
        "\n",
        "#output\n",
        "Mean: tensor([0.4788, 0.4925, 0.4833])\n",
        "Standard deviation: tensor([0.2541, 0.2470, 0.2501])"
      ],
      "metadata": {
        "id": "Mg90PdyHXwuQ"
      },
      "execution_count": null,
      "outputs": []
    },
    {
      "cell_type": "markdown",
      "source": [
        "Now that we have these values, we can adjust our pixels. To get mean $0$, we need to subtract our measured `mean` from every pixel. To get standard deviation $1$, we divide every pixel by the `std`.\n",
        "\n",
        "We can perform these calculations using the `Normalize` transformation that `torchvision` gives us. We'll add it as an extra step to the transform we created earlier. Since we're doing the three color channels separately, we'll nave to give `Normalize` a vector with three means (and the same for standard deviation). Conveniently, that's what we have."
      ],
      "metadata": {
        "id": "HK3D7jgsYgnm"
      }
    },
    {
      "cell_type": "markdown",
      "source": [
        "**Normalize Data**"
      ],
      "metadata": {
        "id": "R-aX70kqZ7f-"
      }
    },
    {
      "cell_type": "code",
      "source": [
        "transform_norm = transforms.Compose(\n",
        "    [\n",
        "        ConvertToRGB(),\n",
        "        transforms.Resize((224, 224)),\n",
        "        transforms.ToTensor(),\n",
        "        transforms.Normalize(mean=mean, std=std),\n",
        "    ]\n",
        ")"
      ],
      "metadata": {
        "id": "IbIJLukvYr88"
      },
      "execution_count": null,
      "outputs": []
    },
    {
      "cell_type": "markdown",
      "source": [
        "**Task 1.4.3:** Make a new normalized dataset using `ImageFolder` and a new `DataLoader`."
      ],
      "metadata": {
        "id": "PiqQtYsWaBqj"
      }
    },
    {
      "cell_type": "code",
      "source": [
        "norm_dataset = datasets.ImageFolder(root=train_dir, transform=transform_norm)\n",
        "\n",
        "norm_loader = DataLoader(dataset=norm_dataset, batch_size=32)"
      ],
      "metadata": {
        "id": "shpheBC9aJ-Z"
      },
      "execution_count": null,
      "outputs": []
    },
    {
      "cell_type": "markdown",
      "source": [
        "If this did what we wanted, the normalized data should have mean $0$ and standard deviation $1$ in each color channel.\n",
        "\n",
        "**Task 1.4.4:** Use the `get_mean_std` function to verify the mean and standard deviation are correct in the `norm_loader` data."
      ],
      "metadata": {
        "id": "79rzcWBoaSau"
      }
    },
    {
      "cell_type": "code",
      "source": [
        "norm_mean, norm_std = get_mean_std(norm_loader)\n",
        "\n",
        "print(f\"Mean: {norm_mean}\")\n",
        "print(f\"Standard deviation: {norm_std}\")\n",
        "\n",
        "#output\n",
        "Mean: tensor([-2.2570e-07, -7.9987e-07, -1.4907e-07])\n",
        "Standard deviation: tensor([1.0000, 1.0000, 1.0000])"
      ],
      "metadata": {
        "id": "ROAyQ7x5aTaR"
      },
      "execution_count": null,
      "outputs": []
    },
    {
      "cell_type": "markdown",
      "source": [
        "The means may not be _exactly_ zero due to machine precision. But they should be extremely small."
      ],
      "metadata": {
        "id": "YnYLDAvra3BK"
      }
    },
    {
      "cell_type": "markdown",
      "source": [
        "<div class=\"alert alert-info\" role=\"alert\">\n",
        "This sort of \"rounding error\" is extremely common when working with floating point numbers on a computer. The computer only stores a certain number of digits after the decimal point. This rounding means that math operations sometimes don't get the last few digits right. This becomes very obvious when you subtract two numbers that should be the same. If the last digits in the two numbers are different because of this rounding, you won't get zero, you'll get that last digit leftover.\n",
        "\n",
        "As an example, $\\frac{1}{3} - \\frac{1}{5} = \\frac{2}{15}$. But the following cell doesn't quite give you zero.\n",
        "</div>"
      ],
      "metadata": {
        "id": "kzwkvmSga_o7"
      }
    },
    {
      "cell_type": "code",
      "source": [
        "1 / 3 - 1 / 5 - 2 / 15\n",
        "\n",
        "#output\n",
        "-2.7755575615628914e-17"
      ],
      "metadata": {
        "id": "jc5nhqsvbTeF"
      },
      "execution_count": null,
      "outputs": []
    },
    {
      "cell_type": "markdown",
      "source": [
        "# Train and validation splitting"
      ],
      "metadata": {
        "id": "TvFo_O-2v2Mc"
      }
    },
    {
      "cell_type": "markdown",
      "source": [
        "As always, we'll need to divide our data into two parts. We'll train our data on some of our images, and reserve some of them for validation. This will let us see how our model does on images it hasn't seen before. If it makes good predictions on the training data but not on the validation data, we'll know it has overfit."
      ],
      "metadata": {
        "id": "8Fkk-b3nv4zj"
      }
    },
    {
      "cell_type": "markdown",
      "source": [
        "**Task 1.4.5:** Use `random_split` to create a training dataset with 80% of the data, and a validation dataset with 20% of the data. Be sure to use the normalized data."
      ],
      "metadata": {
        "id": "plwqE0AxwJiE"
      }
    },
    {
      "cell_type": "code",
      "source": [
        "# Important, don't change this!\n",
        "g = torch.Generator()\n",
        "g.manual_seed(42)\n",
        "\n",
        "train_dataset, val_dataset = random_split(norm_dataset, [0.8, 0.2])\n",
        "\n",
        "length_train = len(train_dataset)\n",
        "length_val = len(val_dataset)\n",
        "length_dataset = len(norm_dataset)\n",
        "percent_train = np.round(100 * length_train / length_dataset, 2)\n",
        "percent_val = np.round(100 * length_val / length_dataset, 2)\n",
        "\n",
        "print(f\"Train data is {percent_train}% of full data\")\n",
        "print(f\"Validation data is {percent_val}% of full data\")\n",
        "\n",
        "#output\n",
        "Train data is 80.0% of full data\n",
        "Validation data is 20.0% of full data"
      ],
      "metadata": {
        "id": "b1pGESJIwsfV"
      },
      "execution_count": null,
      "outputs": []
    },
    {
      "cell_type": "markdown",
      "source": [
        "We want the training data and validation data to be similar. Ideally, the random split should do that for us. But with multiple categories, it's possible we have too much of one category ending up in training or validation.  For example, we could have gotten really unlucky and wound up with all of our leopards in the validation set.\n",
        "\n",
        "We should check how many of each category we have in each of our data sets. We aren't expecting the same _number_ of each. The different categories started with different amounts, and the training set is $4$ times as big. But we should expect the training and validation sets to have the same _proportion_ of each category.\n",
        "\n",
        "As we did in the last notebook, we can visualize this with a bar chart. We'll use the same function as last time."
      ],
      "metadata": {
        "id": "ITgyhX6qxLfD"
      }
    },
    {
      "cell_type": "markdown",
      "source": [
        "**Get Number of Images in each category**"
      ],
      "metadata": {
        "id": "nv8TN364yKtj"
      }
    },
    {
      "cell_type": "code",
      "source": [
        "def class_counts(dataset):\n",
        "    c = Counter(x[1] for x in tqdm(dataset))\n",
        "    class_to_index = dataset.dataset.class_to_idx\n",
        "    return pd.Series({cat: c[idx] for cat, idx in class_to_index.items()})"
      ],
      "metadata": {
        "id": "P4mKtekGx09i"
      },
      "execution_count": null,
      "outputs": []
    },
    {
      "cell_type": "markdown",
      "source": [
        "We can use it to see how many of each category in our training dataset."
      ],
      "metadata": {
        "id": "ho9JjLuPx32t"
      }
    },
    {
      "cell_type": "code",
      "source": [
        "train_class_distributions = class_counts(train_dataset)\n",
        "\n",
        "train_class_distributions\n",
        "\n",
        "#output\n",
        "100%\n",
        " 13191/13191 [00:55<00:00, 227.41it/s]\n",
        "antelope_duiker     1968\n",
        "bird                1317\n",
        "blank               1779\n",
        "civet_genet         1935\n",
        "hog                  798\n",
        "leopard             1767\n",
        "monkey_prosimian    2024\n",
        "rodent              1603\n",
        "dtype: int64"
      ],
      "metadata": {
        "id": "yPIhaUB1x5uU"
      },
      "execution_count": null,
      "outputs": []
    },
    {
      "cell_type": "markdown",
      "source": [
        "Useful, but visualizations are much easier for humans to understand. Let's make that bar plot."
      ],
      "metadata": {
        "id": "ItGbKu78yaBE"
      }
    },
    {
      "cell_type": "markdown",
      "source": [
        "**Task 1.4.6:** Create a bar plot from these counts. We did this in the previous notebook."
      ],
      "metadata": {
        "id": "90UvZINqymEb"
      }
    },
    {
      "cell_type": "code",
      "source": [
        "# Create a bar plot from train_class_distribution\n",
        "\n",
        "train_class_distributions.plot(kind='bar')\n",
        "\n",
        "# Sort accoring to size\n",
        "train_class_distributions.sort_values().plot(kind='bar')\n",
        "\n",
        "# Add axis labels and title\n",
        "plt.xlabel(\"Class Label\")\n",
        "plt.ylabel(\"Frequency [count]\")\n",
        "plt.title(\"Class Distribution in Training Set\");"
      ],
      "metadata": {
        "id": "OvCEjIqkzFEc"
      },
      "execution_count": null,
      "outputs": []
    },
    {
      "cell_type": "markdown",
      "source": [
        "![Screenshot 2025-02-15 095105.png](data:image/png;base64,iVBORw0KGgoAAAANSUhEUgAAAbcAAAGFCAYAAAB+Jb1NAAAAAXNSR0IArs4c6QAAAARnQU1BAACxjwv8YQUAAAAJcEhZcwAADsMAAA7DAcdvqGQAAE+tSURBVHhe7Z0JoFVT28cfzRqliTRoUilKJVPJEHkNb4WQCFEprxJeUUKazCFTUqZQr1kUQoYoCqXJ0CDNk+ZZ3e/8Hmf3Hddtcs/p7vb9/1idc/beZ59997D+63nWs551QFoME0IIISJEjvirEEIIERkkbkIIISKHxE0IIUTkkLgJIYSIHBI3IYQQkUPiJoQQInJI3MRes337dtu2bZsX3jOahNeJEyfaypUr/XMqYL/85h9//OEl8feD9fz+V1995ct3Btvt7hgXLVpkkydP9ve///67zZgxY7ffyYjE7/B+0qRJuzy2vYH9zZ492491T4+N7RLPYWJh+Z6ycOFCmzVrVvxTxvBbS5YssR9//HGPj29PYF+cw+CYE++BncH6ZB6DCD8SN7HHUDkgHg8//LC1bNnSy1NPPWWbN2/2Subqq692gUsVVGZ33nmnnXfeedasWTO78sorbeDAgbZhw4YdFde3335rTZs23WVFvXTpUhs7duwuK7v333/fbrnlFn/P39S3b9+9FqUVK1bYp59+uuN7vN500022ZcsW/5xZOP7Bgwfbe++9t8cV92+//WYtWrTwc0g599xzd7xv06ZNfKvd88477/i139Xvsu6jjz6ye++9d6/P3a7YuHGj9e/f3y655BK76qqr7PHHH7d169bF12bM+vXr7Y033rDVq1fHl4ioo0HcYo9Zvny5XXrppZY/f3676KKLLE+ePPb2229b5cqV7dZbb7X69evbAw88YI0bN7YDDjgg/q3ksWnTJrvgggu8Qq5QoYItW7bM3nrrLZsyZYq9/vrrdtRRR3klunXrVj+2nR3DF198YU8++aS9+OKLljNnzvjS/4d98FggkOznww8/9G2fe+65DLfPCL6P0Pbu3dteffVVy507ty9D2HZ1bHsLf2uOHDn2+Lio5L/55psdVk+nTp3s/vvv92t64IEHWoMGDXw7jnVXxxhYTPxduyLYLleuXEn5m2nIIMTFihVzcVu1apV9/PHHfp65J3bGnDlz7LTTTrORI0datWrVUnJ/inAhcRN7BJVUr1693A2GMFARApU1FkqJEiXs2GOPdXGjEvn8889t2LBhLoi1atWy//znP1a0aFGvNF977TUXJfZ5+umn2zXXXOPWH1YI36MixLrAOkushBC3888/3+6++2475phjfB2VdZcuXfw7tOBxJfbp08f+97//+W89++yzLk558+a1M844w5o0aWLNmze3efPm2dFHH20nnXSS3Xzzzda1a1e3PLEIjjvuOCtXrpx99tlnds899/j32Q/H+sEHH9iRRx7pFlihQoX87/j111+tc+fOfjxYKp988on/vTQEfvrpJ6tdu7adeOKJdtttt1m3bt3cCuR4OfZ+/fq5OPOb7DNfvnwuWLznb33mmWdceLp3727ly5ePn4k/QTQQ3EMOOcT/rieeeMKPAevk+++/9+vQvn37vwlf8MgjcDRIxowZ4wLJ3895RywqVqzowjdgwAC3XLne7OuEE07w3xgxYoS7Q9u1a+fnmvuiQIECfs7q1q3r14Rzzrn47rvv7MYbb3Rrmc+cWyzjqlWreqOI7/G3YFlxbxx22GH+OzNnzvT1wT3AceMe5jryOxwj8F3g71y7dq0NGTLEGzAlS5a0G264wRtf3Jfcvxwb1417Jf35FNFCbkmxR1ARvvDCC/avf/3LKzoqQwqVMZVRUAEBlc0PP/xgderUcUtr3Lhx9sgjj/hy3HRUOCeffLKLDBU8DB061EXz3//+t1fUtMh3Br8V/D4VFcI0YcIEF0v6x6j4eE8Fh2BeeOGFXiFOnTrVChcu7J8rVapk1113nf89bMtxUXlzXDVr1rQFCxa45RVAxUw5++yz3Q2Ia5bv4eYL+uMo9EUhLAULFnTrFmuC38HaBISC7+FGO+ecc+yXX36xyy67zMaPH+9uQYSN9Vii9913n5111lluoVI5szwRfg8B4Fg5twgp55nlCDEij1DxORHOX1CA88j15Xw9+uijLniIPu4/9s3fUaVKFb+W06dP9/3Nnz/ffv75Z3+PVYSLkm05P4jL8OHDfR0COG3aND8++t8GDRrkYsf54DzymXUILNeRBlKZMmWsZ8+eO/o8EylSpIhfc4SQvjyuN38Hwsbv4QKlz5VjZbsOHTr4vVSvXj1vJNDgCBpaIuLEbgghdkvMAks7+OCD02KWS1qsMoov/X9iFlxazBJKi1k5abFKeEeJiVdaTFTSYhV5Wsw6S3vxxRfTatSokbZ06VLfT7CvmDWW1rRpU9+e72X0G7HKNi0mRmkxgfjL+pUrV6ZVr17d148ePTqtWLFiaTErLy1W4aa1bt3afzfxt2Lil9ayZcu0WIXunzds2ODfj4mDf4aYKKY1btzY3/M3xywr3w7mzp2bFhNB/42YyKW1bdvW98VxxyyptJg4+/mICW5aTKz9PcSEK+2UU07x44yJTlqs8k1bvHixH1esMZAWE960WIXuvxMTXz9HwLk/88wzd/x+AL8ZswbTnn76af+NmIimXX755f73si5WiafFRGLH35kejidmVabFLL20mPWdFrMA02LW347tOS7+Jj7HBDYtZkn738sytotZl75NzLpNi4mVXzvgc8eOHf17XO8rrrjCjy8meGkxCzYtJja+Dz5zHfi72FdMzHf8JscdsyJ3XLMAPscaIn5tYhZgWkyI0+6//37/m/k7YuLo15F7gr8pJrZ+HWbNmpUWs9TSYuL8t32KaCLLTewRWGi40nANxu6b+NKMiVVO9vzzz7triT4cAk9o6QMt+yOOOMItkpjweIs9VtnYxRdfbGvWrLFY5e+WDtbP7n4nAJdm+j4drBF+lwAYXH7sE0tgZ/s86KCDdummwpVGXxngBoxV3H7c/xSsmFKlSrnrjOPGwsP6wPoBlmP9Aa8c9+5+j/1gRQduyLJly/o53VP4PhYtr/wegTcEbGD1YPliXXI+MzqH/C24IYHfjQnW346X/XLugj5HtsNy51zyd2MxAtcOlyOv6eF7WNe4h+k7jIm5W7hY/kRvYs3hWsVy5ZixpHcXbCKiicRN7BGIG0KFSyl95cbnxGVUqLgwYxaFu57oewv66HAHvfzyy76MSoi+pVir3vtF6MehD4n+KVxUiOTu4HdxUWVUGeKWeumll/z36N+hDw9RoYJMD+K4K+jLCSprXvldfo8Kncoz+PvZLvFc7AxcZAgFbkjgnLFfjhkyqtj3hOB7/I0Z/Z27I2gk8Dc89NBDfpxvvvmmX0dchjv72zL6vYy23dkxIeCIKfC9xPOdCOvYB38nDYBrr73W+19x9xYvXtwOP/xwd4mOGjXKCyJII0tkPyRuYo+gMqEfBCEhaIK+JoIysLzob0kPFRCRdFhVVDb03wCBBxTEDmuFbajg6b/BuqNPDCHKqGILIICFvpy5c+e6IBIogJWWGDhBJUigBvuknwbxxErgt4i0C/ZBf0xQCe+s4gXGp9F3yG8++OCDvj9+D2uPvir6zvi7ODfB/g4++GAXsPS/AwTZcA4QXs4jEZUE5RDxuavj2JdwDfgbufb07WXUB5YM2D8CRJAH55HfIgo3IxDA0aNH+zZYZfTtct7xBpQuXdotVyxM7jcK55ZGEueae439s4+gUSGii8RN7BFUuIRQE7BAVB4d9lheBA80bNgwvtWf22F9ECzRqlUrD5JAsBAUKndEjMhCgkno2Mc1iXVAhUTkHcsZX9axY8e/iFUAFSHfJyCB4AAsQFygiZGVvPJbBDIQUEDoOFGQRP5R+WHlcTwErxB0EXwnET4n7g8xwvVFBCPWwH//+1+3cho1auT7x61KhGAQXEPB7UZwBMdGhCfHxPEDbs5XXnnF98n3CfwgiAQhTvzd4DUoiWS0PKPPO4N1wfFA4nd5JfAHMeeaBBZ1sE36bYP3kLg88RUy2pbC2EQCeQj24TzSeMBbkAjnj21p0BBhy/XjPuEeuuKKK/xvoeHB9eH+pMFDkBIih1VHNOjtt9/u9w5/l4g2Ggog9gpul/S3TGJlFZDRbRVsl34dlVL6/QaVXiLptwlI3Db9+vSfd/ZbAYn7obB9RlZk4m+mX5+4v+B3EvcbfDf4jYDE5QEZfU6E305cxraBYAX7Dz6nh3V8P3H74BiCz5REgvXBuuD8JH4v8XP67/M5cV3wOXE7vk/UIxZXjx49fH0irE9P+n0mkvj9YF2wvYguEjchRJaD+5BhG1hvjBvEXUt/afXq1eNbCLF3ZNykE0KIfQgBJVhkDJanbxN3Mf1oQvxTsq3lJoNVCCH2jP3RhZstxY0WIgEMpCmS310IIXYOkaXkiw2G8+wvZEtxY9AoKYWIqCKvnRBCiL+DIUBSaoa4MLRlfyJbihtRWIRuM8h4f7tgQgixr8AQIJsQCa3J4rM/oYASIYQQkUPiJoQQInJI3IQQQkQOiZsQQojIIXETQggROSRuQgghIofETQghROSQuAkhhIgcEjchRLaHTBbJKiIcKEOJMpQIka2ZvnCNbdy6Lf4p8+TMcYAddVgRf93f2Z8zlIRC3JYtW2aDBg2yGTNm2OGHH27XXXedlSpVyvOajRw50k8ssxrffPPNfoI3b95sw4cP9xl3jznmGJ+ZmVmRN2zYYAMHDrTvvvvOmjRp4jM1ZzSbs8RNCBHQ5OHPbebSdfFPmSd3zhw29a4mliunxC0ryXK3JNq6du1an46/e/fuVrhwYWvXrp1t2rTJfv75ZxswYICLHTP+durUyTNUf/PNNzZq1Cif6n/q1Kn2wAMPuGC98847NmvWLBdBJjpkmwB+hwuFMG7ZsiXD2XyFENmPbdvTklq2x+oa/hNZS5aLG1POVKxY0Vq3bm1Vq1a1yy+/3BYtWuRW2LfffmstWrSwevXquWDNnj3b17377rt21VVXWa1ataxbt2729ttv+/Q1iFuw/JprrvGZfQMQN6y6888/32cDmDhxYnyNEEKIqBGqgJKNGzfavffea82bN7ciRYrY/PnzrXTp0r6OuYQwi7HylixZ4usRRtyV69ev98JyLD9g+eLFi92iAyy/q6++2oYNG+ZT2NepU8eXCyGEiB6hETdchv379/e+ti5durgYMfU8ggdYXrzPkyeP5c+f392TLEPU6FfLnTu3L8flCCzPly+f7yeAz4UKFfJCH50QQohoEgpxQ7T69Onj/WVt27bdIUgEi4wdO9ZdjrgoEcCSJUta3bp1bdKkSbZmzRrvVzviiCOsaNGiVrt2bZs+fbov/+STT+yUU05JykzbGfnVM1P+9MkLIYRIFVkeLcnP0/9FRE6NGjV8ZuzDDjvM+vXr55YWojd58mS3zm655RY7+eSTbfny5dajRw+bM2eOW3e4Mum34zPLV6xYYeXLl/cZZEuUKBH/pf9nb6IlOTvXDv3WBSlZHFrkQLvr30dajiQIrxAiczR+6LOkRkvmyZXDpvVs4lGT+zsaCpBJiFxMPAysrcDiYjklWEYJlgXfwdILlgdRkInbp2dvxa3K7SPd4koGsSOyyiUL2sjODS1XBMbBCLG/I3HbORoKkEkQJyyzoARiRQnWBcsgcTklcXn6fWQWHIgIXPKK7zG+dyGEEKlg/29aCJFkpi5YbT/MT16ZunC1N2yEEPsOpd/ajVuSvrYq3Ucl0S1pVrlUQRvV+WS5JUMK13vrtuQN8s+bK4dNjYibKorILblz5JYUQgghQoTETQghROSQuAkhhIgcEjchhBCRQ+ImhBAickjchBBCRA6JmxBCiMghcRNCCBE5JG5CCCEih8RNCCFE5JC4CSGEiBwSNyGEEJFD4iaEECJySNyEEEJEDombEEKIyCFxE0IIETkkbkIIISJHKGbi5hCYHZvXAw44wHLmzLlj2fbtf86IHCzPkSOHbd26dce2lFy5cvkr21MSt80IzcSdNazb/Ifd9saU+KfMw+k7r1ZpO71aqdg1jy9MApqJO3uhmbh3zv48E3coxG3NmjXWt29fe//9961Zs2Z25513uqgde+yxLkSc4EWLFtngwYN9/RFHHOGCljdvXjv33HOtV69evt0LL7xggwYNsiJFiljPnj2tfv36LnTpkbhlDSvWb7G6vUbHP2WeHLHzd0uTqtbu5IoxoUveuZS4JQdqlp+XrI1/Sg5FDsxtpYrk8+coWUjcdo7ELZNs2bLF5s6dazNmzLAJEya4MGF1bdq0yS20X3/91W644QZ79dVXrVChQtagQQMXsYoVK7qFljt3bhs/frx17drVhg4d6tsPGDDAXnrpJV+XHolb1iBxy17i9kfsmanSfaSLXDLgGreoV8b6Nj/Kcibx2ZG47Zz9WdxCcfbz5MljlStXtuLFi8eX/Em+fPm8/PDDD3byySdbwYIFfTlW3TXXXGOtWrWyr776ygXwyy+/tBNOOMHKlCljtWrVst9//91Wrlzp2wPfmTVrlo0dO9a3XbFiRXyNEEKIqBGapkXQf5YehAtrrHHjxjv60HA/vv32227N3X333d4Hh2sTdyT7wGWJYK5atcq3B5YvW7bMBY6yYcOG+BohhBBRI1R2c3oPKZ9xU2KBVatWzZchUoGVd/TRR/s2S5YssZIlS3q/HBYa7kxcnSVKlPDvAN87/vjj7YorrrDWrVtb2bJl42uEEEJEjVCIG4KEMC1evNhWr15t8+bNc3HC3ztkyBC79NJLva8NIVu4cKF99tln/koACqKFsDVp0sS+/vprmzhxoi8//PDD/TtCCCGyH6EQN1yE3bp1s379+nl/WNu2be23335zVyPrsLYQMQrBIASTtGzZ0kaPHm0DBw50FyTBJffdd5/16NHD3nvvPX8l2EQIIUT2IxTiRqAIYf5EPH7zzTc2atQoq1SpkkcyPv/881agQAEXNiBghD63MWPGeLQj27GO/jiCTkaOHGkvvviilStXbsd3hBBCZC9C0+eGOGFpBSWw1NIPxGZZsA3rEgUsWJd+uRBCiOxFaMRNCCGESBYSNyGEEJFD4iaEECJySNyEEEJEDombEEKIyCFxE0IIETkkbkIIISKHxE0IIUTkkLgJIYSIHBI3IYQQkSMUM3HvazQTd9agmbizV1tSM3En73pPW7jGhoydE/+UeTh9HU6pbBVLFIgvyRjNxC2EECJlLFq10V7/bn7SypvfL7BlazclreERRiRuQgghIofETQghROSQuAkhhIgcEjchhBCRQ+ImhBAickjchBBCRA6JmxBCiMgRGnHbvn37jgKMLec9A64pvA/GmwfrEpcB79NvK4QQIvsRCnHbsGGDvfzyy9a5c2d78803d4jXo48+aldddZWXXr167RCtuXPn2m233WZdu3a1WbNm+TLKpEmTrEuXLtazZ09bvHhxfO9CCCGyG6EQN1K8UKpUqWKTJ0/eIVa8b9Wqld177712/fXXW44cOXy79u3bW+3ate24445zMWPZ0qVL7eqrr7Zzzz3XSpYsaf369XMrLhH2mZHFJ4QQIlqEQtwKFy5sV1xxhdWrV2+H6BxwwAG2detWt+iGDBliK1ascFH6/vvvbfPmzda0aVM7++yzXcCmTZtmI0aMsDp16ljjxo3toosushkzZtj69et9XwEvvfSSC2OHDh1sypQp8aVCCCGiRmj63BAzSgDvL730UuvUqZMdeuih7ppct26duyT5nCdPHsubN69babNnz7bffvvNKlWq5NZdwYIFLXfu3H9xTSKaF1xwgd1///1uCVavXj2+RgghRNQIjbilB5HCMsMaa926tZUuXdrGjh1r+fPn9z46QLA2btzoYsbywFLDmsNVWaDA/2e8RiwPPPBAz2xNQfyEEEJEk1CIGyK1ZcsWLwgTr7gkV65c6e95Xb16tRUtWtSOOeYYW7BggS1cuNAWLVrk1hkCiEtz/Pjxvh3WXb58+dyqE0IIkf0IhbhhfRENSRDIyJEjPWoSV+PNN99sHTt2tFtuucXOPPNMFzBckvSb3XrrrR4tieuSOdkaNGhgjRo18v603r17W7t27SxnzpzxXxBCCJGdCIW44VK866677N1337WJEyfaE0884ZGTgwYNsoEDB9ozzzxjN954o/ez4V685ppr7MUXX/SCiOHCxFLr3r27vfDCCzZ06FA755xzfLkQQojsR2hqf6ysXLlyeeE9wkQJPqcPNmFZ+uU7214IIUT2QqaNEEKIyCFxE0IIETkkbkIIISJHUsVt06ZNHvm4s0JmESGEECLVJE3cGDRdtmxZO/roozMsNWvWtLPOOstFTgghhEglSbXcjj/+eBs9erR9+umnfytjxoyxYsWKKYpRCCFEykmauBF+/84779jhhx/ug6pJl3XYYYd5KVWqlH9+9dVXfTyaEEIIkUqSJm5YZBRSaZE9hLRZwOdvvvnGfvjhB1ltQggh9glJDyiZN2+e53jkNSgTJkz42/QzQgghRKpIqriRsJgckSQ07tu3r7/nlbnYqlWrFt9KCCGESC1JFbcjjjjCc0E+++yznh9ywIAB9sgjj9jtt9/uwSRCCCHEviCp4hb0uyFkZPJngtErr7zSZ9meOnVqfCshhBAitSRV3AJuuukmq1u3rgeWdOvWzUuFChXia4UQQojUkhJxK1y4sJ133nl21FFH+eBtSqFCheJrhRBCiNSSEnE7+eSTfa61H3/80WbOnOllw4YN8bUiFazZuNUWr9mUtLIkVtLS4jsXQoj9jJSI25IlSzxi8vnnn7chQ4bY4MGDbcGCBfG1IhX0HTnDTuz3SdJKw/vG2NZt2+N7F0KI/YuUiNsdd9xhPXr08EKkJK/qc0stGFnbY6ZWskrsfyGE2G9Jibhdc801fylt2rSx6dOnx9cKIYQQqSUl4sYYN8rjjz9uN954ox144IFWsmTJ+FohhBAitSRd3BjndtBBB3kpWrSoDwk47bTTPKhECCGE2BckXdxIlPzhhx96+eCDD+x///ufDR061AoWLBjf4u+sWbPGunbtakceeaTdfffdvg8mNu3UqZOLI9GXI0aMsG3btvk6MqHQh1e1alX/HjCf3LBhw+yYY46x008/3SZPnuzbCiGEyH6kxC05ceJEL99++60tXLjQs5VUr149vvbv5MmTx1q2bGk9e/a0rVu37hClpk2b2rvvvutpvB566CFbvXq1ryMDyuuvv25ff/213XXXXb6MWQdwgw4fPtwHj997770uhkIIIbIfKXFLYk1df/311r59e0/B1ahRIxewncEcb7Vr17YyZcrEl5jlzZvXLbBDDz3U54Rjvzly/Hm4zDDQqlUru/zyy23GjBm+jAlRTzzxRLfqjjvuOFu6dKmtXLnS1wUsX77cZs+e7UXj7oQQIrqkxC35xhtveJRk9+7d7T//+Y9bbqtWrYpvsXdgfT366KNuxZH5BIHD/fjZZ5/ZDTfc4PvGJYlVV6RIEf9O7ty5XUwTxY3jIr/lyJEjbdSoUS5+QgghoklK3JKDBg1yt+Bjjz1mzz33nOXPn3+HhbU3MD8cbkcsLqzAwHKjb47oy2OPPda2b9/uA8ZxVbIdIkZ/HZOlFi9e3LcHLD8syI4dO1qHDh18xnAhhBDRJCWWG5YUrkbECFE5+OCDd9n/FQgUBQuMCU5xPd5///0ebELiZT4jWGQ/+eqrrzzjySeffGK5cuWyUqVK2Zlnnmnjxo2z77//3peXK1fOLb1EAtdmIJJCCCGiSUpq+YYNG3qkIxbcbbfdZm+++eYuM5SsW7fO2rZt6y7MV1991ZMuI1R8n2jL+vXrexTktGnTvK/szjvvdCuM9F64LHFB0tdGQAp9fE899ZQLIsInhBAi+5F0ccMqIlrx2muv9cHbxx9/vAsUQSE7AwuLUP/58+e7RTZp0iQfG/frr7/6Z5bznqATRJIhBj///LNHTDIcILDIzjjjDLfc3n//fatUqVJ870IIIbIbKXFLEqJfp04da926tTVv3tyjE9NHLqYn0WW4s8I2kNEySNxH4nIhhBDZi5S4JR944AF/RWAoZCf5JwElQgghxD8hJeIWRCsSKEIgydq1azWgWgghxD4jJeJ21lln+fizhx9+2Me6Eb1YuXLl+FohhBAitaRE3MhOQjqt33//3apVq2avvPKKHXLIIfG1QgghRGpJmrjhgiRwBAjNb9KkifXq1cuuvPJKH/MGc+bM8e2EEEKIVJI0cWPgNim3sNboY2PsWlD4TPothgfQHyeEEEKkkqSJG1GR5HTs3Lmzp7hKXxjUXb58eQ/TF0IIIVJJ0pQmZ86c9t5779mzzz5rQ4YM+VthObNzk+1fCCGESCVJEzcsMtJdYb3trCgdlhBCiH2BfIRCCCEiR0rEjUz+QgghRFaRdHEjtyTJkvv06eNJjzdu3OjLhBBCiH1FSiy3d99912cBYJwbkZIDBw70OdqUgksIIcS+IOnixpAApqW57LLLfDbuU0891VNw1atXz+644w6fj00IIYRIJSlxS77zzjs+8WiXLl18Zu2PP/7Y51ljfjemw5GbUgghRCpJiVuSGbLbtWvn7sjrrrvOatWqZYceeqhdffXVPrmoEEIIkUpSIm633XabValSxce2Mf5t8uTJnoILgStdurQmEhVCCJFSUiJuvXv39vncABfkxIkTberUqf5ZCCGESDUpEbf169f/xTpjJgASKwshhBD7gpSIG3O4kUty4cKFNmbMGHvppZfcHSmEEELsC1Iibj169HBLjdcPP/zQhwQwPGBnbNq0yUaMGOHuTLbHlUlZuXKlPf744z4gHLcmFiDLGTP34IMP2v3332+//vqrL2Pd9OnTrV+/fjZgwABbtmyZLxdCCJH9SLq44Y4sUaKET32DyDC27eijj46vzRiymPz2228+yekXX3yxQ6x69uzpQwlq167tc8URlMLyNm3a2MEHH+zWINGYLGO+OGb/rlGjhu8PQWR5IsF+KRI+IYSILkkXN0SDqW2YgbtDhw47yowZM+Jb/J2iRYt6JpMGDRrEl5iL1fjx413IzjrrLBe4N9980yZNmuTBKhdddJE1a9bMhQqL7e2337Y6derYOeec47/NssQB42w3fPhwH393/fXX25QpU+JrhBBCRI2UiNtrr71mDz30kD3zzDM7ypFHHhnfImOw+BKDUMhLyRxxBx10kL/i1vzll19s9uzZbrExLxylZMmSvnzOnDl2xBFH+LYFCxb06XUWLVoU39uf+z/vvPPs7rvvdotQ4+2EECK6pKTPDSELhgKkF609hWwm5KIMoixxNebPn9+X8z5g8+bNO5YHlhpWGt9jeQDHUKBAAStevLgXTZoqhBDRJSXihiXVuHFja9GihfeDUXbnBkTIKFh+vJYrV8774LDgCDhhIPixxx7r7kkCSlasWGG///67R2TWrVvXl5PaC7FbunSpDyDHqhNCCJH9SLq4kZHkv//9r/e70Y9GGi5KmTJl4lv8HSwuZhAgWpK8lASj4FIkNyUuRL6PG/GUU07x2QauuOIKu+mmm7xccMEFVqxYMTvttNPsmGOO8cCT22+/3fvdEDghhBDZj5T0uTVs2NCtLiwrBIlUXPSD7Qxcit26dfOAEayv/v37W9myZa1p06b23HPP2aBBg1z4ECvci0RIDhkyxAYPHuwBIizj9/r27ev9e3zn/PPP/0fuUCGEEPs/KXFLMv5s1KhR9tRTT3nf28svv2zTpk2Lr/07gTghchT6wwgMwQpkOZ8JEAnEinUsp/Ce5RTes22wXAghRPYkJeL21VdfuWsyCNqoXLmyrVmzxt8LIYQQqSYlbkmiFBmnBlu3brUvv/xyl25JIYQQIpkkXdxwDzJom5m4f/zxRzv55JM9s0jNmjXjWwghhBCpJSXiRuTi0KFDPbiDCUuffPJJjSsTQgixz0iJW/KFF16wzz//3MejkXaLWQEYjyaEEELsC1JiuTGQOigMwn7++efdNSmEEELsC5IubtC+fXu79tprvXTv3t0HVjN9jRBCCLEvSIlbkoz8jGujTJw40caNG+dj1oQQQoh9QUrE7YQTTrDjjjvOjj/+eM8UQo7H3c3pJoQQQiSLpIsbFhppt5hklLFuzJTNhKX58uWLbyGEEEKklpRYbrfeeqtnKLnlllu83HzzzTs+//TTT76NEEIIkSpSIm6LFy/2zCTVqlWzEiVK2LfffutT2OCaVKYSIYQQqSbp4sZQANyRffr08alqsOJ4ZToaspYwZQ3bCCGEEKkiJZYbVhsRkoT/M3Hp6NGjlaFECCHEPiMlltsDDzzg49uqV69up556qs+SjeUmhBBC7AtSIm41atTw+dxGjBjhyZOZUJT52IQQQoh9QUrckuSVxFrr3LmzDw24/vrr7eeff45vIYTILNtx/2/bnrTyx7Y0UwyziBJJFzcYMGCAjRw5ckdkJAO6ly1b5u+FEJln8Ng5Vr3H+0krNe5831as2xzfuxD7PykRNwZwlylTZkdU5B9//GHbt2/390KIzLM9Zmb9EfsnWWVbzBKMvQgRGVIibkxQOmTIEFuxYoXPCED/W4UKFeJr9xwEkcjLLVu2eAlEkleWU3gfDAoPtpeYCiFE9iYlASWMbTvkkEOscuXKPhSACUvLli0b32LPmTRpkhUvXtzdmwUKFLDDDz/cpk6d6jkr+czy5s2bu7gFfX1Vq1b1yMzJkyfH9yKEECK7kXRx27Ztm7Vp08aaNWvmk5QyLKBYsWLxtXsHGU1+++037697+eWXXbgqVapkpUqVciFbunSpDRs2zAV17ty51q1bN3vjjTfsscces7vvvtvnkxNCCJH9SInlxiwAiFLgIsSliOjtLQwfKFKkiFtob731ll1++eWWP39+W79+vWc7ufjii32mbxg7dqxbirVq1fIAFn4bqzEANyV9gcwITtm4cWN8jRBCiKiRkj632bNn+0SlV111lbVt29ZLIEJ7C+7GefPmef8dLkh45JFH7NNPP/WEzJRgBoKiRYu6uObJk8cL30lkzJgx9uijj7plx2wFQgghoklSxQ1riIKVhdsQV+ILL7zgpWbNmvGt9h4SL5900klWqFAhFy+sM6IxCVwpXLiwDxTHwgtm+8Zqw1pMdIcy3g5X6T333GN9+/b17ClCCCGiSVLFDREiMhJrq0uXLrZo0aL4mn8O+3rxxRftjDPOcGFbu3atjR8/3vvbyF+JdValShVr1KiRzZw502f+xkWZO3duXy6EECL7kVRxQ4iCEPwFCxa4BZVZiI5cvny5p/RC3AgS6dGjh9WrV8+DRvr3728HH3ywzzZw3333uSuUaM2ePXu6wAkhhMh+JL3P7euvv7ZXX33VrTaylPCesmTJkvgWewcRk1hiuCSBoQHMMkDAyscff2z169d30cuZM6c1aNDApkyZYhMmTPDv4YoUQgiR/Uhq7c/EpPR7vf/++x62j8jgpqQo/ZYQQoh9RVLFDUEbNGhQhgW3ohBCCLEvSKq4Be7BjArrhBBCiH2BOqWEEEJEDombEEKIyCFxE0IIETkkbkIIISKHxE0IIUTkkLgJIYSIHBI3IYQQkUPiJoQQInJI3IQQQkQOiZsQQojIIXETQggROSRuQgghIofETQghROSQuAkhhIgcEjchhBCRQ+ImhBAickjchBBCRI7Qi1taWtqOEpD+c8DOlgshhMhehFbctm/fbjfccIO1bt3aunXrZvfee68v+/rrr+3CCy+066+/3tfNnj3bBe2NN96wFi1aWKdOnaxNmza2ZMmS+J6EEEJkN0IrbghWjhw57IorrrAePXrYzTffbFu3brV77rnH2rVrZw8++KCdc8459tZbb9mqVatswIAB1r9/f3vooYfskEMOsQkTJvzNigssu/TLhRBCRIvQitsBBxxghx12mL322mtupd1+++22fPlyW7p0qTVq1Mjy5s1r1atXt59//tnF7eCDD3ZRy5UrlzVs2NB+/PHH+J7+nw8++MAtwPvuu89mzpwZXyqEECJqhFbcsNq6dOliTzzxhJdZs2bZyJEj3TWZJ08e3yZnzpxuzW3bts1y587tyyB//vy2adOmv1loDRo0sGuuucauvvpqK1euXHypEEKIqBHqgBIEjoJwFS1a1DZu3GgFCxa0X375xUVu2bJlbq2xDOuN9TB9+nQXL6y/RNiuePHiXgKBFEIIET1CHVBCv9qUKVM8WGT8+PF20UUXWbNmzezGG2/0z3369LEmTZpYiRIlrGrVqta1a1cbM2aMDR482OrWrfs3cRNCCJE9CHVACf1ow4YNszlz5tjw4cOtVKlS1r59e2vZsqWNGjXK++JOPPFEd0/efffdVqtWLfv00089sIT+OCGEENmT0IobgnXllVda7969PVISscISI2CkVatWLmbnnXeef4YiRYq48PXs2dMDSnBnCiGEyJ6EWgEQs6AksrvlQgghsjcyb4QQQkQOiZsQQojIIXETQggROSRuQgghIofETQghROSQuAkhhIgcEjchhBCRQ+ImhBAickjchBBCRA6JmxBCiMghcRNCCBE5JG5CCCEih8RNCCFE5JC4CSGEiBwSNyGEEJFD4iaEECJySNyEEEJEDombEEKIyCFxE0IIETlCLW5paWl/KQG83759u5f0yxOLEEKI7EloxQ3h6tu3rx177LHWsGFD++CDD2zbtm0uWmeffbZVqFDBKleubG3atNmx/ddff23HH3+8nXrqqTZ9+nRfJoQQIvsRWnFDxBCw4cOH22OPPeZCN3/+fF+eI0cOGzZsmH333Xe+DhYuXGhdunSxhx9+2G699Va74447bOvWrb4ugM8bN260TZs2uVAKIYSIJqEVt5w5c1rLli2tYsWKVrVqVcufP78LE6xatcouu+wya9Wqlc2cOdMF7/PPP7dKlSq55daoUSMXsFmzZvn2gBV32223WZkyZaxcuXL20UcfxdcIIYSIGqHuczvggANcuLDSatasaVWqVPFl/fv3d3Hq2LGj3XTTTbZ27Vr7/fffrVixYr4+b968XpYvXx7f05/76t27t82ZM8dF77TTTouvEUIIETVCLW64Dp977jl78803rXv37m7NIVL169d3l+Xpp5/uIvbjjz9a4cKF3aJDDLds2eKlaNGi8T39KW758uXz7QoVKmS5c+eOrxFCCBE1Qt3nhsU2evRo71dDjP744w/bsGGD/fDDD26pTZ482a22ww8/3E466ST75ZdfPJCEvrhcuXK5pSeEECL7EVpxQ8iuu+46e/fdd+2YY47x/jSEbt26ddapUyerVauWde3a1fr06WMlSpRwS+7OO++0iy66yNfTv4ZVJ4QQIvsR6oAS+sxWrFhhixYt8kjJM88804UMkaPfjH43LDZcjkRQnnHGGTZp0iQbN26cDyFguRBCiOxHaMUNscK1mCdPHi+4JYM+N96zjPVsF8B71lESlwshhMheSAGEEEJEDombEEKIyCFxE0IIETkkbkIIISKHxE0IIUTkkLgJIYSIHBI3IYQQkUPiJoQQInJI3IQQQkQOiZsQQojIIXETQggROSRuQgghIofETQghROSQuAkhhIgcEjchhBCRQ+ImhBAickjchBBCRA6JmxBCiMghcRNCCBE5IiVuaWlptm3bNtu6dasX3gshhMh+RErcNm3aZPfcc49deumldtFFF9mgQYMkcFEmLf6adFK2YyHEPiJS4vbbb7/ZtGnT7Nlnn7VnnnnGXnzxRfv111/dogsdYTymdCT9CPcTzdgvDjPZ9098d+G+5mn7w2PjhP0w///49pMT+g84IFbxR+av+/zzz23MmDHWo0cP2759u1133XXWunVrO/HEE13gPv30U5syZYqve/755+2SSy6xAw88MP7tjOHs9B05w7bv7jQF6w844M/XncDaYgXzWvtGFS3HbrbdG0ZMXmiT5q2Kf9o5nIcD9uB3ObZb/1XNcuZI3jFu2LLNHvzwp/innbOnx8gmp1UrZSdULLa7075X9HlvD653jD09Ts4h5zKZ13vcrBX20Ywl8U87Z2+u9w2Nq1iBvLniSzIP57Bv7Fzu9kwG53o3x8nqWmUOsnOPPnSP/qY95clPZ9nydZvjn3ZOVl7vn5esteET5sU/7Zy9ud6XH1/eyhbL73XSzqCuxANG3Vq8ePH40v2DSInbBx98YJMmTbL//ve/flFuuukmO//88+3kk0/2i75o0SJbsWKFv1+/fr0VKFAgaQ8J+0NIhw0bZrlz544vDRe4aHv27Gm33HKLFSxYML40fCxcuNBGjRplbdq0SWollkw2btzo99WXX35pefLkiS8NFzwDQ4YMsXPPPdcOOeSQ+NLwsWbNGnvwwQftzjvvtBw5wulM2rJlizeGX3rppd02iLMK6rXRo0fbQQcdZMcee2xSnh32SfzCUUcdZXnz5o0v3U+IHXxk+Pbbb9M6deqU9scff6Rt3rw5rXnz5mnfffddWuwhj2+ROlatWpV2zDHHpMUegviS8MGxxQQjbfXq1fEl4WT27Nlp9957b/xTOFm7dm1aoUKF0jZt2hRfEj5ijZm0Pn36pM2bNy++JJwsX748rW3btn68YWXDhg1ptWrVSos1YuNLwgfnb/jw4WmffPJJfEn2JlJ9bmXKlLEffvjBRo4caQMHDrSVK1faEUccsU9a/2G1MBLhGPeH44SwH6fOY/LYX+7L/eGe3F/O5b4g510x4u/3e3AX1KlTx01zTGlccPvKT4w7pUaNGnb44YeH+uYqX768HXbYYaF1/wBuPhoqBx98cHxJ+OD8xSx1q1q1aqivd6lSpdwlGVZXOeTMmdMqVKjgxxnWc8n1rl69ulWsWDHUzw4uydKlS1v+/PnjS7IvkepzE0IIISBSbkkhhBACJG5CCCEih8QtE+DRnT17tm3YsCG+RESdjLz48uwLET4kbpmASu3hhx+233//3ccUhbGS45h2VcIEx5N4HnllbF5YjpPj+Prrr32MW8Aff/xhTz31lB93mOBYd1ayGo6B68q5y6iE4RgTyeh4+RwmVq1a5dHhARzf1KlT45+yJwooyQRUaGQ6IcXXxRdfvGNgNJFpYYj84tIyNIK0ZBldZqJLzzjjjPinrAcL+PXXX7dWrVr5uWPgbJ8+fYyA3jBEqFFh9OrVy6699lorWbKkL6NCOfLII23+/PmhikicNWuWp6IL4HwSlVi2bFk/Xt5nFYhD586d/XxSyAlLhCwRzpzD++67z4oVKxbfOuuZPn26Z+kIEkDA8ccf7xmQwgDH9P777/u5PPvss/1ak1SC95999lloI1BTjcQtE3AzcYO//PLLnu2ECoMbifBwsqVkZQUCXNq3337bJk6caJs3b7bhw4dbw4YNrVChQn7Tk3GBrBBhATG7/vrr7YILLvDsHzfccINVqlTJM81ktbhRIZ9wwgm2YMECr3hz5fozTRWVyCmnnGJPPvlkll/vREhDd9VVV1n9+vW9ofXFF19YvXr1PP3crbfeav/+97+z7JxyXy5evNifHzKTnHrqqT6sYu7cuS4ijz76qBUpUiS+ddbTrFkzu/zyy/3ZCYSCbB2FCxf291nNvffe6+mxaGyXK1fOl5H1ZenSpT4sKsxDF1KJxC0TcOp4QKn4uLG4ibj5eaWiy+qbiuMLyiOPPOLjXxAOGD9+vFfICHNWE9yCnEMqvU6dOnnlgbBRETNmJ6tbnxzbuHHjXCRq1669YxwRDQVSEwUNm7Dw2muv2erVqz0lHPz444/WrVs3t4Tbtm3racMCgc4qOKfXXHONPf7445YvXz7/3K9fP7vyyit9nGNYuOKKK9zS5LoHcK3Dcr3fe+89+/bbb/38Mc4WOJ8nnXSSn8cw3Zf7kuwp6UmGfjcsjeXLl3uL+ZNPPgnFDcUxBEK7ZMkSd/kEDyXLcF2FAfqwsNK6dOniUxbhLp0xY4YtW7bMbrvttvhWWQvnkQTcN954o2e94TpXq1bNB5rPmTMnvlV4oB84uNbBffDzzz97AwdrM2hQZDU0ZiZMmOAuSa75V199FboB57hx8dDg5cBKouARCQvnnHOONwLJGct0XxRy6oY5n+i+QJZbJqClRJovKg2iJh966CHvN+Ih+N///pflLeNESCh9++23e3YSKg+SE3fo0CEUfW6I2yuvvOLnMyNIoJzVVjDwqGDxYgHRv0rfEK7Url272rvvvhuq6/3LL7+4O5cMJTQWuN7McUhCXSpm3L9Z7Ubleo8dO9afIRqGWMG4Us8666wsP7ZEBg8e7A2tRMhW0rRp0/inrIfry/PNK54k4JmhLy4Mz05WIHHLBLgk27Vr51Ps4O6h9YQ7jeAS+rTCVNl99NFH7o+nb5BLziv9GmERjeCVQqWXeFsGFmdWw3Hdf//93lLGFUTlRmAJLft58+aFyuLg/GGh4ZrkPsWNipXJeWRdYNFlJVTCWMJ9+/b1z5w/AkvCcK0TCe7HxMYXz02YBPjjjz+2n376yYOxguPiPPKcZ1fklswE3DzHHXecT46KG2jmzJkeFn7eeeeFrrVEC5mKDrcU1hs56MJSiXAcFFxT3bt398ZBixYtdpQwgZgxLyAWG6JBHxz3QNiuN+cSF99jjz3mQRtvvPGGrV271s8zxxqGa88xIGhEIWJd0hhM37AJAzRcaMDSqMH6PfPMM72/OkyQQxcPCMLGuQxKdkaWWybg1BHGTFAGEV5EJOLvxh0UhiCIRIjeJKQeV+Shhx7qy7j5GzRo4O/DAGN1cOlSEq21ZM67lxm43ggE8wUy8wSuScTu1VdftRIlSoTqetOSv/vuu70Pk+hO3L641hC7sICQ0X9JhUxjK7B8GQ6COzUs4Cpt1KiRn7unn37aZ/gnCrVly5bxLbIeoiWx2ooWLeru3eBepPEVpvtyXyJxywScOm4qQsSDCSuxjqjswtJPFIB1icWRCK09WvVhATfaAw884IElPKABYXs4ue6MbUQs6HtB5MJ2jFgWDEkhzJ5jYwgDFTTehbDAeSRqMz0MWSDaLyxwDpn0tWPHjt6vjjuV8/vEE0/Et8h68BwxHo9zmngvEjEpcRN7DS1POsPJBMBNjyuIjnpade3btw+FuAU3Oy60xD4D4PjC1G9Aw6BmzZreUGAMUeA+IytIWI6T80jjhYhYxBiwOAg6CNO5xPrBo8BxYfkS4MQ4x3feeSe+RTjgnuSc4lLjFbj2YTqXN998swdeMZwCix1xwzVJIFFY4DwSTEIjlm4RhgAsWrTInyeJm9hrOHU8kETNUSETbs9N9Z///CcU/Roc37Bhw3zALhFy9MEkgguDjBthgcYBY8nSg+s0DA0FKhDOJ8Jx7rnn7rAuODb6BsNwjAEIL65yBvBzHxJMcscdd4Rq/FjQOMSFSiYdXJFETeJhCJNbct26df4s4cbn2iNuzZs3D9WcaURrI8K4x+kbZFA8AW5Dhw6VuIm9g3RLZAHg9NHqpG+DcSVXX321tzyZ1DAM4kZlQcXGK31aVCgsp2VMZGcw6DMMcFwcH4UhFbxCWIJfOJ7+/ft7q50IyUQxC1sFwrFi8Y4YMcLvUypirneYGjM0DBmwTbQkARsM4EaQiaCkks5KuBdpIOBypp81CK8PoDEbpkhEoqHJSMKzwnll3C2NWhoK2VXcwtPU3M/ANUVLmIKwAQNSGRKALz6omLMSbmoqCYSMwBdcpwyWpvTu3dsf2jCB5cYAWR5K+l1OO+00788M3FVZDefz6KOP9oqY8UP0t1LotKcyDBOjRo3yyFP6LqtUqeIRskE+zLDA+cQaokLmHkUsiJgkMCur4fnF8qGRRQBRMDiaQiAJIhwmOHcMBSCKl3sRF2rYrve+RpbbP4SKeGeVLi36xGi/MIAIkzSXUGaOj0qZ4A0ybYQFLAwiOum3pO+ABMW4fAl6CUMfDI8KfVY0bKiEg3GMHBsBBmFyS+Luo7+FBL+J92GYjjGwhEnBRaOQ/iy8H5xfXOZZCdcakcXapWHIsSZWlVz7MAW94D2iYchzw/UmQpZ7kkH7YaqH9iUSt38InfV03NKXNXny5L/c+DyguFbCUJFwXBRcPnXr1nWXGpCxhJB73FZhgYASUpnRZ8mDyvEhdCTTDYu4UWgdM/aJIRVcYwpuqqy+3hwb3gOOjZb7hx9+6FG7gfuM46OyCwscb+DhwELimMuXL+9RvGF4dgIIzKBRQ79W0KAlz+Rll13m77MSziFwHil0l3C85GXlPIbhuckqJG7/ECoR3CkMQKVSDk5j4GrhIQ1DZcf4NjrrmZrlzTfftMaNG7urik580hwxFios0EJmEDyRpuTy+/77761y5coe5ReGyo7ziXVJMmJcQGQpIUIN65fUR2G43jS2aL1T0REIgXWBlcF9yfG99dZb8a2zHo6XihjrjTB2PAs0CnGjhsna4HpzHxJEEogF2X1w9WY15IclyIVzSQnOW/CefJNhOpf7EolbJuDU0UpG3BKhQuFhyOqbigqOviGstIwuM+IcljmpIPEY6cwnZyfnMSxTi3A+Ge+EwCHEJKfl2BgHxXCQYBCy2DOwgujDwprEhcqUN+ToRJyxOsICrnzc5YxpDAiDYPC8MG4xmAGC6W3wztDPzv2IELMuTFbwvkTilgmo7OgrICKJ04hrhYG9DJYNmyttZ4Thxqe/gH4WzmdAcMxUIrScw3CcHB+5JRkGQCVM4AvRdFxvhDjogxN7BueTaEn6B+nb4jPBWUwxgxUXFpjsFw8H4fVB5qEKFSr4dc9qgueboCbcprhKeVaoh/CAYKlnV8ste0p6kuCmIUM81hEFkUPsaOHtSlD2JRwjN/vOShjgXNHfEhRcVBSmQOFzWB5OjoMxd1R0wfQsRKAyvigs53J/guuOqNE3SL81ycapoOk34vqHIWoSXnrpJXc/k5UGdzT3JJ/DQPB884q1xlhbvB64K4MkA9kVWW6ZgFMXlOAzU42QpodxJ9m5M/efwPmjkkM8qOAYK4g7iDRSYRE4XGm4gsgvSL/rv/71Lw8sCtKviT0HS61OnTr+iisfMeP80ifMs4M1H+RBzUqYaR1PDC7yRMJyTwL9qwRhkSCbc4dHgSAyxruF6Tj3JRK3TMBD+dxzz/ksuMCDSR8c42DoS1Brfu/gAeXcMaU/woZ1RJ9B8MCGAfrbKIlwbAyUxwoRe09iFRTGihjRwAoi80fQr8pQBVyTYYLzSKIGBnNzbNm9wSVxyyRk/kg0/2mBZvcQ3H8KneL0aWGtcf4YS9ipUyd7/PHHQ3E+acw88sgjNmDAAH9PRcwrjRjEmNRcWZ1ZY3+CqodZzBlsTkOG1GA9e/b0vq0wNQzxxOCKTJzpA4uIwd1hgYY1UZP0WdL3TwYdBpoT0SnLTewV9AnQQoL0pxC3Cu4WWW57BiKGOzIYCkB0GoNQcfsxvogIxbCIG4PfqUSY1ojWO1YlLlSyQdDvynALsWdwPgkWItr0qKOO8j4tEjwTYML1z2p4rhEG7k+ONRHuxzAFEDFshv5+sg/hymV4CkW5JcVeQyVM7j5OHx3hzEuF1TZt2jSfbJN+I1lvewZpwHBF0vokcpJziouPPhjOIamkwiJuZExhfCCVMZUGAkwo+4QJEzxlWFgCDfYHuN5ERtKfxbPD+SXPJBGUWR0tyT2IFwHPAdY6gRqJMIgbYQ4LBOUQIYlbn/sS9yTRvDTGJG5ir+FhxEVFfwt9bNxEtN4ZIE0lKHGLFjwqVCJcWzJ/0GlP4BCvVHQkJSZzjdgzEDcaNVTIJPAmIQJWG+60rHbv8mxjhQdZiJgvLREygJAQISyQqAGXLuH/jL3EkiMWgIaDxE3sNTyc+OMRtmBGa9xrTLbJfF8St+hBdnjGPZEHkcASEjufeOKJLny4VRkYL/YMzhmh9WQooe8N127nzp19IHIYXPocH8KANwEI0EAwuO5EUIbJLcnURuPHj/e+QbIR0W+JVZyd+4AlbpmAUzd27FiPpiJbPDc7Y02Ylp7IKvW5RROue1C4xlSANHSolHFRk5pJ7B7OH3k66b/m2WHIBxZSMJNFWMAqpxFLHyvJvLGMLrzwQrc6wwJjLqdMmeIuXe5HCucwO9dBErdMwumj34UceVRwdOaWLl3a19GKqlatmkQuG0DQAa41GjdZndF+f4FnB6uNwAei+nBHEu1H4mxc/WHhpJNO8khYXHwIMH2rzFTx9NNPx7fIeoJGNX2BjMcLGl0EPvGaHVGtm0m4cRA0oiMJLCCcmRsL9xX9MoTlCiH+DuJG3lPGitLHxWfGkYXtmaHLARGmf5U5BhcsWBA69zMBWASQlCtXzq1hXORhyfCSVUjcUoiMYiF2Da4zSvCsEDkbNkuDyWkRDhI6M50VQ31ouIYJrDXGCyaW2267LdtabSBxE2IPoQKmTwj3cwDLGJ8F9LkpefLeweB3xjGSU5LQe4IhwmYVMUwBi5LcsRwrgpE+FVdWwzHhMUpfsjMStxTBzZadW01RBCF7/vnnXeBwo1GIpDv77LP9WjNglmEBYtdwHmkgcP6YjLZWrVoeck/CccLZmQ8xTDC8g/F3wbVloDRDQkS4UUBJEiCYgIAS+t44nYGbhTRSTGJJy0/s33A9qdAQMKa8CawLBs7SH8OAflltewb90R06dPiLBZwI4wjDNJ8b/WzMEE9ENBCZSOLsJ5980j+LcCJxywScOlrxhAQzxQSVH4MnyVLBYErcArLeogFWBg2VL7/80i2NAgUK+LUlLJyMNERK6lrvGTw3JBjfGUQbh6mhQDo4JqYl/B+eeOIJj5DGmhPhReKWCajwyEqBxTZu3Div/DidhDIzmaVa8tGB68r1pn+NUH8i5oKs8IhaYlJdES2YiJagEq4xVif3AUMWwjShqvg76nPLBFR4VHIkfg1ckdz4hOKKaIFwYYljqbVo0cIH9tJ6Z+AsLXi1EaMJ1/WVV17xudHoZiA58TPPPCNh2w+QuGUCKjwykRDlRWZ4XFa06BhMmd0jlaIIFR0zApAL8ZJLLvFWPNbb8OHDd9p/JPZveMax3JiOqXz58j6OLGwBLyJjVANnAgQMcSMlD/0wZIYPKj6JWzRhHBYZKgCxI1pSfavRhrnR6ENn3Bip9ihMxSTCTc6YqX1X/L34B1Cp4ZKkH4ZUW0x9QySdKrtoQj8q1jlTigCZ4wkoIVGtrnk0YSJV3JAkTg66HojmZOiCCC8KKMkEnDr6XK6++mqrUaOG3/x8Ju8c2eJV2UUP3I9ksCdgiD43wsQpCh6KLogZzzqz7nOdabzKWg8/ErdMQEXHZIbM69S0aVO/2ckKT4ABU6KowosWPCpMebJ+/XpvzIRpLJZIHUxjxeTDuKQROmYtYLA5XhoRXtQxlAkQM3LNkbSUmx6xI00PGc5B7Ybowfi2t956ywdyk6mC6Vq47rrW0YW+Nrwzb7zxhhfyTDLWTYQbiVsmQdyuu+46z7hAZdeuXTsfD3PHHXf4FB4iOtCYoV+V6NjXXnvNpz9p27atV3Y0bkQ0wVJjCAhRkjzbuCX5HLgrRTiRWzITcHMzK3OQaxACPzyvPAzqdI4WPC5cawbtk36JzDTkliQLO4FFInp07drVRo0aZccdd5xPI0NUNNPgEERGSq5WrVrteO5FeJC4JQHGuDFdPu4psoUz9kk3e/TgUfnggw980krck82aNbMmTZr4exFdmKh0xYoV8U//D894yZIlPTWXhv6ED4lbJuDUfffddz7O7ZRTTvG+NwJKevfubQ0bNtQNHzG43lRyZKBhpmj6V4NrrMZMdNmZy5n7ga4I3NRKjh4+JG6ZAEvtxhtvtDPOOMNb8DB+/HhP1TNixAi5qSIEWf+JkGQ6f94nPjZcZ/pd1ZjJXiB6JGxgGiRlLQkfehqTBC33oPWuVnz0IOyf60owAa7nxFKlSpWdtu6FEFmDxC0T0FJnuvlHHnnEOnfubDfddJNbbd26dVMrPmJUqlTJW+fkGSSogCASUq8xkzRjGtWgESJcyC2ZSTh99MOQvYD39MXQyazKLnpgnZF664ILLtgxgJdrT8QcUbMatB9Ngioy/TPN8ksvvdSeffZZ9bmFEInbP4RMFUxKmhGMgVFASfRA3F566SUfuE1mGqIk33//fe9zIZGu+lijCQFiuJ7r1Knjk9LSiEHoqDq5J3jO1ZgNHxK3fwgJc6nk0sNNzqBP3JWq7KIFj8q6devslltu8XFuVHJMVPv000/7YH5VcNGEsYzvvfeeT3dE9iEmI65fv76Lmhqw4UXilkk4fWSInzt3rmevoD+GSk9jn6IL13zZsmW2adMmr+zUiMkeMASE/vX77rvP6tat67NBkJ2mWLFi8S1EmJC4ZQJO3ezZs+3KK6/0ZLrknSPggLFvtO7Vqos2XH9Za9GHSWk//vhje/zxx/2aX3bZZT5/I4FE9LX36tVLDZwQoto3E3Cj45IiPQ/zeTHujUCD0aNHKzQ8GyBhyx4wlpVcovSz8tqiRYsdeUVLlSql+yCkSNwyAeJGHwxTz3OD8xkXJfO6CSGiwe233+5J0BG0xIjYQoUK+RAgeWjCia5KJuCmphXHtPMzZ870Tmciq66//nq5KYSICExKSyYSoiVxQ+KtIUJWhBv1uWUCTh3uR/rdSLu1evVqHwJQs2ZNFz65K4TY/yFwpH379p6c4e233/axjY899pjmdAs5stwyAeI2cOBADwdn2ouOHTt6nxtzuanNIEQ0oKuB9Gt4Y2jMLliwwJOki3AjcfuHIF4EkIwdO9Y2bNiww4ojUwXLFFAiRDQg8z+zcS9dutQbs7feeqtnJhHhRm7JfwjhwcwEMG3aNM87GGQtoDAr94UXXqiOZiEiAEFjM2bMsLfeessbrS1btrSyZcv6ZKUivEjc/iGcNjqXJ06caEcddZRHSLKMOb7IHB8InRBi/4aQfwLFcE3yjDPlEVNakWdUhBeJWybg1K1du9a++OIL++WXXzyDAYLGQ8DAbombEPs/REGTO5TB2nhq+vfv7xHS1atXj28hwojELRPgouBGnzx5skdUBZnBGf9Sr149uSWF2E8JqkVeec7fffdde+6557yf/aGHHvKuCD3f4Ubilgm40RnESSJVBngGyGITYv8GQSPUf8mSJS5wPOskS69du7YLG+m3LrroovjWIoxI3DIBD8BHH33kAzqvu+66HR3MWHDly5dXy06I/RSqxR9//NE2bty443MAjVee9QoVKsSXiDAiccsEnLr777/fPv/8c/8cWGyk4xowYIDETYgIQCOWsW0M3uY9SNzCj8Qtk2zdutXHuTG3GyHDQJ/bcccdJ/ekEBGAZMn0syVOb3TCCSd4l4QILxK3TMCpY3obsoYznxuz9M6fP98aNGhggwcPVn5JISJA48aNrV+/fh4kFqCGa/iR3ywT4KJ44YUXPET4tNNO8/meyGBQuHDhv/johRD7LyeeeKJPTktQCc98UES4kbglAeZ0Kl26tA8JYAbuKVOmqGUnRIRg2hsGczPjB+XZZ5+NrxFhRW7JTEDrjWASXkuUKGFt2rSxzZs3W8+ePa1p06YKKBEiAjCdVRA1GUAWIlJwifAicUsSnEZEDtcFKbhkuQkRDXiuJ02a5EFj5JAl3R7ZSdR4DTe6OkkCMSOAhByTEjYhosPw4cPtrrvucpEj3R5JGxjfKsKNLDchhNgFBIs9+OCDnpUEvvzyS3v55ZftySef9M8inMhyE0KIXVCsWDGfbR87gELyZPrcRLiR5SaEELuANFw333yzD/FhHsdNmzZ5BiJS7InwInETQohdgKBhuTHDPgFjhx56qCdsqFmzZnwLEUYkbkIIsQtI1PDMM8+4ezIIFiMLEZmJRHiRuAkhxC449dRT7ZFHHnFLLRA3RUSHH4mbEELsAiYpBaw1xrkBmYhI3CDCi8RNCCF2wYcffmjt2rWzMmXK+DhWwJrr0aOHvxfhROImhBC74PTTT7euXbvaKaecEl9inrBBs36EG41zE0KIXVC/fn1/xSUZFKXeCj+y3IQQYhcwI8Bbb71ltWvXtgMPPNCXHXvsse6qFOFF4iaEELvgl19+8YHbEERJFilSRLMChByJmxBCiMghx7EQmSSr24d78/tqy4rsgsRNiEzyySef+FQo+xqEauXKlTZhwgSfjmV3sD0Tb/IdIaKOxE2IPQDxWLp0qSfQPeuss6xDhw4uKtC8eXP77bff/H0yIJdh7969bcuWLfElO2fGjBl+THsqbkOHDvWs9rLgRNSRuAmxBxBUcNJJJ3kmeObxatWqlQ0aNMjXISyIBYUZm7HkeN26dauvX716tX311Vf26aefuuXE9vPmzfPPn3/+uS1btuwvYsP6n376yZP0BrB+1qxZvj0JfIPvUNhu6tSp/rvsl2XsY8GCBb4984/9/vvvO5bzKkTUkbgJsRsQg1dffdXOPvtsn4W5QoUKnorpiSeeiG/xJwjHmDFjXHiYEmXYsGG+HCtv1KhRtnjxYvvhhx/cMrvjjjs80zxihzDtDo7h9ddft7lz59o333zj3w/EExFjtmisuJtuuskj+9juyiuvtOnTp9v48eOtV69ee2QJChEVJG5C7AaEBQFB0BIT5gZ5BgNY969//ctKlixpRx99tPXv39+XI2AVK1b0sVHnnnuub7d582Y74ogj3MXZqFGj3SbiZX3r1q1dWGvUqOFCuXHjRl+HWJJBo3379j4dC1bmBx984OOyKlWq5Al/f/31V1u/fr1vL0R2QOImxG5AWAoVKuQuv52BAGIlde/e3ebPn+/WEwIEWH0I0V133eUWFGBhffHFF9axY0e3yLD6dgX9feeff759/fXX7uZEqILvMBULiXw5zuLFi9vChQtt+fLlnh6KQJd169a5MObPn9+3FyI7IHETYjcgGiTKxQ05ZcoUW7NmjS1ZssT7uBIZN26cW1XnnXeeD/IN+rcQuksuucQeeOABF0D6yMgoj7uSvrunnnrKt0sEawwRW7Vqlb9iedFvdvnll1u9evVcsAIWLVrkQSKsx2o78sgjrUqVKu4ePeGEEzw3It9Jb2kKEWUkbkLsAQgEc3rdeeed9u9//9s6d+5sc+bM8XXkGUQAmzVrZt99951deOGF3o/GcgQOUUPc6ANr3Lixb8t+iLIkehFrjmUBvEek+B3cnPT1bdiwwRo2bGgXX3yx3XPPPVa0aFHfjkK2+oEDB7plh6sT1yTfQ+D4zRYtWnjwC4IZfEeIqKMMJULsIRk9KghF4nLeB8sCIdmTRyxRcILtg33sLcF3dvW7/2S/QuxPSNyEEEJEDrklhRBCRA6JmxBCiMghcRNCCBE5JG5CCCEih8RNCCFE5JC4CSGEiBwSNyGEEJFD4iaEECJySNyEEEJEDombEEKIyCFxE0IIETkkbkIIISKHxE0IIUTEMPs/yVHnNLaCPpQAAAAASUVORK5CYII=)"
      ],
      "metadata": {
        "id": "IdzxweSMzx07"
      }
    },
    {
      "cell_type": "markdown",
      "source": [
        "**Sorted By Size**\n",
        "\n",
        "![Screenshot 2025-02-15 095140.png](data:image/png;base64,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)"
      ],
      "metadata": {
        "id": "x5JN1n_Mz1CX"
      }
    },
    {
      "cell_type": "markdown",
      "source": [
        "Now we can repeat this for the validation set and compare them by eye."
      ],
      "metadata": {
        "id": "w24i6cTc0GTH"
      }
    },
    {
      "cell_type": "code",
      "source": [
        "# Get the class distribution\n",
        "validation_class_distributions = class_counts(val_dataset)\n",
        "\n",
        "# Create a bar plot from train_class_distribution\n",
        "validation_class_distributions.plot(kind='bar')\n",
        "\n",
        "# Sort accoring to size\n",
        "validation_class_distributions.sort_values().plot(kind='bar')\n",
        "\n",
        "# Add axis labels and title\n",
        "plt.xlabel(\"Class Label\")\n",
        "plt.ylabel(\"Frequency [count]\")\n",
        "plt.title(\"Class Distribution in Validation Set\");"
      ],
      "metadata": {
        "id": "k6S0ju2m1DjG"
      },
      "execution_count": null,
      "outputs": []
    },
    {
      "cell_type": "markdown",
      "source": [
        "![Screenshot 2025-02-15 095838.png](data:image/png;base64,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)"
      ],
      "metadata": {
        "id": "hgOF57Swz7xc"
      }
    },
    {
      "cell_type": "markdown",
      "source": [
        "**Sorted Values**\n",
        "\n",
        "![Screenshot 2025-02-15 100329.png](data:image/png;base64,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)"
      ],
      "metadata": {
        "id": "kFiWxrQj1WNt"
      }
    },
    {
      "cell_type": "markdown",
      "source": [
        "The two graphs should look similar, though they won't be identical. The random process always produces some differences. If they are _too_ different, you can run your train-validation split again to get a better balance. If you do this, remake the graphs to make sure they're actually better."
      ],
      "metadata": {
        "id": "l8sVNPJi2cqy"
      }
    },
    {
      "cell_type": "markdown",
      "source": [
        "Now that we're happy with our split, we'll need to make a `DataLoader` again. We'll need separate ones for the training and validation sets. But for the training data, we'll want it to be shuffled every time we run it. As in the previous notebook, we'll add `shuffle=True` to the arguments. We won't want the validation set shuffled."
      ],
      "metadata": {
        "id": "3605zSUd3MLF"
      }
    },
    {
      "cell_type": "markdown",
      "source": [
        "**Task 1.4.8:** Create data loaders for the train and validation sets. Use a batch size of $32$. Be sure to turn on shuffling for the training set."
      ],
      "metadata": {
        "id": "3dFlr6oi3Tod"
      }
    },
    {
      "cell_type": "code",
      "source": [
        "# Important, don't change this!\n",
        "g = torch.Generator()\n",
        "g.manual_seed(42)\n",
        "\n",
        "\n",
        "batch_size = 32\n",
        "\n",
        "train_loader = DataLoader(train_dataset, batch_size=batch_size, shuffle=True)\n",
        "\n",
        "val_loader = DataLoader(val_dataset, batch_size=batch_size, shuffle=False)\n",
        "\n",
        "single_batch = next(iter(train_loader))[0]\n",
        "print(f\"Shape of one batch: {single_batch.shape}\")\n",
        "\n",
        "#output\n",
        "Shape of one batch: torch.Size([32, 3, 224, 224])"
      ],
      "metadata": {
        "id": "WCjA4rFV4MfA"
      },
      "execution_count": null,
      "outputs": []
    },
    {
      "cell_type": "markdown",
      "source": [
        "# A Better Model"
      ],
      "metadata": {
        "id": "55rDXPUq4ZgW"
      }
    },
    {
      "cell_type": "markdown",
      "source": [
        "**Multiclass Predictions**"
      ],
      "metadata": {
        "id": "ASsoh3nn3UXF"
      }
    },
    {
      "cell_type": "markdown",
      "source": [
        "With our data in hand, we're ready to address our task. As in the last notebook, we want a model that will take a picture, and tell us what's in it. But this time, instead of just \"hog\" or \"not hog\", we want it to tell us which animal is in the image. This makes it a multiclass classification problem.\n",
        "\n",
        "Now we're going to have our model give a confidence for each class. This will give us\n",
        " values. As before, higher numbers mean that the model is more confident that class is the right answer. A possible output for a single image would be the following."
      ],
      "metadata": {
        "id": "NkCOc5Bc4frD"
      }
    },
    {
      "cell_type": "code",
      "source": [
        "sample_confidence = torch.tensor([0.13, 0.01, 0.02, 0.12, 0.10, 0.34, 0.16, 0.12])"
      ],
      "metadata": {
        "id": "7kJBGZVJ4zUe"
      },
      "execution_count": null,
      "outputs": []
    },
    {
      "cell_type": "markdown",
      "source": [
        "Our prediction in this case would be the category with the highest confidence. These categories appear in the order set in the dataset. We can find which one is the largest using `argmax`, as we did in the previous notebook.\n",
        "\n"
      ],
      "metadata": {
        "id": "6fqpBPiP5D6V"
      }
    },
    {
      "cell_type": "markdown",
      "source": [
        "**Task 1.4.9:** Find which animal we should predict, using `argmax` and the list of classes."
      ],
      "metadata": {
        "id": "4WNSdOWM5GVV"
      }
    },
    {
      "cell_type": "code",
      "source": [
        "# To see the categories\n",
        "norm_dataset.classes\n",
        "\n",
        "#output\n",
        "['antelope_duiker',\n",
        " 'bird',\n",
        " 'blank',\n",
        " 'civet_genet',\n",
        " 'hog',\n",
        " 'leopard',\n",
        " 'monkey_prosimian',\n",
        " 'rodent']"
      ],
      "metadata": {
        "id": "y1eMN7cb5HiW"
      },
      "execution_count": null,
      "outputs": []
    },
    {
      "cell_type": "code",
      "source": [
        "classes = norm_dataset.classes\n",
        "\n",
        "# get the class with the highest number\n",
        "class_number = torch.argmax(sample_confidence)\n",
        "\n",
        "# get the animal with that highest number\n",
        "prediction = classes[class_number]\n",
        "\n",
        "print(f\"This image is a {prediction}\")\n",
        "\n",
        "# output\n",
        "This image is a leopard"
      ],
      "metadata": {
        "id": "UfDRllTW7G4b"
      },
      "execution_count": null,
      "outputs": []
    },
    {
      "cell_type": "markdown",
      "source": [
        "<div class=\"alert alert-info\" role=\"alert\">\n",
        "You may notice that these numbers sum to $1$ (try it!). Most tools for doing machine learning produce outputs like this. You will often hear this referred to as the \"probability\" of each class. That the model thinks there's a $13\\%$ chance it's class $0$, a $1\\%$ chance it's a class $1$, etc.\n",
        "</div>"
      ],
      "metadata": {
        "id": "GR8D-eo27vBE"
      }
    },
    {
      "cell_type": "markdown",
      "source": [
        "In our training data, we also already know the correct class. Our model will generate a set of $8$ confidence values for each image, which we can use to make predictions. We can compare these predictions to the right answer to find out how well the model has done."
      ],
      "metadata": {
        "id": "rztIVx7G7v79"
      }
    },
    {
      "cell_type": "markdown",
      "source": [
        "# **Network Architecture**"
      ],
      "metadata": {
        "id": "hEK3Jret8Qy8"
      }
    },
    {
      "cell_type": "markdown",
      "source": [
        "Now we need a model. We'll build another neural network. The one we built last time was a shallow neural network. This is a network made of a sequence of \"dense\" or \"fully connected\" layers. But that's not the only option! You can connect the neurons in different ways, to get different _architectures_.\n",
        "\n",
        "The shallow neural network is the \"standard\", most common one. We could use it for our problem, but to get good accuracy we'd need to add more layers. That network would take a long time to train. We'll be better served by using an architecture meant for images.\n",
        "\n",
        "A good option, and the one we'll use, is the convolutional neural network (CNN). It consists of a sequence of convolutional and max pooling layers. These are usually followed by some fully connected layers and an output layer."
      ],
      "metadata": {
        "id": "WJ-1MXUq8WF0"
      }
    },
    {
      "cell_type": "markdown",
      "source": [
        "**Convolution and Max Pooling Layers**\n",
        "\n",
        "The CNN gets its name from the convolutional layers. These layers take in an image, maintaining the 2D structure, and convolve it with a number of kernels. Each kernel will produce a new image. Thankfully, PyTorch will do all the math and tracking for us. Just like we had `Linear` layers before, we can get a convolutional layer by adding a `Conv2D` to our model.\n",
        "\n",
        "As before, we'll use a `Sequential` model to keep track of how to build things."
      ],
      "metadata": {
        "id": "a73QxO2c83pU"
      }
    },
    {
      "cell_type": "code",
      "source": [
        "model_seq = torch.nn.Sequential()"
      ],
      "metadata": {
        "id": "sYD5wSaE9nl7"
      },
      "execution_count": null,
      "outputs": []
    },
    {
      "cell_type": "markdown",
      "source": [
        "To create a convolution layer, we need to provide it with three arguments: the number of channels it expects as input, the number of kernels to create, and the size of those kernels. We don't have to specify the size of the images, it'll figure that out.\n",
        "\n",
        "This first layer will be looking at our input images. They have three color channels, so we set `in_channels=3`. For our kernels, let's start with $16$ kernels of size $3$ x $3$. We specify the kernel size with `kernel_size=(3,3)`, and the number of kernels with `out_channels=16`. We'll also need padding to keep our image size. With a $3$ x $3$ kernel, we'll set padding to $1$."
      ],
      "metadata": {
        "id": "qjOMRG8L9qC2"
      }
    },
    {
      "cell_type": "code",
      "source": [
        "conv1 = torch.nn.Conv2d(in_channels=3, out_channels=16, kernel_size=(3, 3), padding=1)\n",
        "model_seq.append(conv1)\n",
        "\n",
        "#output\n",
        "Sequential(\n",
        "  (0): Conv2d(3, 16, kernel_size=(3, 3), stride=(1, 1), padding=(1, 1))\n",
        ")"
      ],
      "metadata": {
        "id": "QbtSiTZm-EDe"
      },
      "execution_count": null,
      "outputs": []
    },
    {
      "cell_type": "markdown",
      "source": [
        "Let's also get a single batch of $32$ images, so we can see what the model is doing."
      ],
      "metadata": {
        "id": "Kwn6g9qI85Oc"
      }
    },
    {
      "cell_type": "code",
      "source": [
        "test_batch = next(iter(train_loader))[0]"
      ],
      "metadata": {
        "id": "zvPkzw-u-Ist"
      },
      "execution_count": null,
      "outputs": []
    },
    {
      "cell_type": "markdown",
      "source": [
        "Let's make sure the batch is the shape we expect. It should be $32$ images, with $3$ color channels, of size $224$ x $224$."
      ],
      "metadata": {
        "id": "6h8OFh57-baV"
      }
    },
    {
      "cell_type": "markdown",
      "source": [
        "**Task 1.4.10:** Get the shape of the batch and store it to `batch_shape`."
      ],
      "metadata": {
        "id": "HzQQA11T-d7c"
      }
    },
    {
      "cell_type": "code",
      "source": [
        "batch_shape = test_batch.shape\n",
        "\n",
        "print(f\"Batch shape: {batch_shape}\")\n",
        "\n",
        "#output\n",
        "Batch shape: torch.Size([32, 3, 224, 224])"
      ],
      "metadata": {
        "id": "49VWPSgt-fEu"
      },
      "execution_count": null,
      "outputs": []
    },
    {
      "cell_type": "markdown",
      "source": [
        "Now we can run the model we have so far on the data. Since we only have the one convolutional layer, we'll see its output.\n",
        "\n",
        "This is a useful trick for making sure we're getting what we expect. What _do_ we expect here? We should still have $32$ images, but now they should have $16$ channels corresponding to the $16$ kernels."
      ],
      "metadata": {
        "id": "EhDeogRi_Uwt"
      }
    },
    {
      "cell_type": "code",
      "source": [
        "first_step_out = model_seq(test_batch)"
      ],
      "metadata": {
        "id": "L_YwLIFd_ac9"
      },
      "execution_count": null,
      "outputs": []
    },
    {
      "cell_type": "markdown",
      "source": [
        "**Task 1.4.11:** Get the shape of the output and store it to `first_step_shape`."
      ],
      "metadata": {
        "id": "k_CLXW1m_cnW"
      }
    },
    {
      "cell_type": "code",
      "source": [
        "first_step_shape = first_step_out.shape\n",
        "\n",
        "print(f\"Shape after first convolution layer: {first_step_shape}\")\n",
        "\n",
        "#output\n",
        "Shape after first convolution layer: torch.Size([32, 16, 224, 224])\n",
        "# 32 images in batch, 16 convolution replacing color channel, 224 image size"
      ],
      "metadata": {
        "id": "1BzhfWsW_qBU"
      },
      "execution_count": null,
      "outputs": []
    },
    {
      "cell_type": "markdown",
      "source": [
        "As always with a network, we'll need an activation function. Here we'll use the ReLU like we did in the previous notebook."
      ],
      "metadata": {
        "id": "qaKTI8P0Af99"
      }
    },
    {
      "cell_type": "code",
      "source": [
        "model_seq.append(torch.nn.ReLU())\n",
        "\n",
        "#output\n",
        "Sequential(\n",
        "  (0): Conv2d(3, 16, kernel_size=(3, 3), stride=(1, 1), padding=(1, 1))\n",
        "  (1): ReLU()\n",
        ")"
      ],
      "metadata": {
        "id": "7CADk87EAhe2"
      },
      "execution_count": null,
      "outputs": []
    },
    {
      "cell_type": "markdown",
      "source": [
        "<div class=\"alert alert-info\" role=\"alert\">\n",
        "Be careful here. When we append to our Sequential model, we're modifying it. If we run the cell again, this will add a second ReLU layer. Not what we want! There are other ways to organize the model creation that don't have this problem. But the simplest thing would be to build your whole model in one cell. That way, when you re-run it, it starts from scratch.\n",
        "</div>"
      ],
      "metadata": {
        "id": "DV7k7LqrA7qw"
      }
    },
    {
      "cell_type": "markdown",
      "source": [
        "Our convolution layers transform images into more images. Ultimately, we're going to need to get down to just our $8$ output classes. But our convolution has _increased_ the number of pixels! Max pooling will let us shrink our image.\n",
        "\n",
        "In PyTorch, this is a `MaxPool2D` layer. The 2D is because we're leaving the channels alone, so it'll max pool on each of our $16$ channels separately. We'll need to say how big of a patch to reduce, called the kernel again. We'll set it to $2$ x $2$, a standard choice. We'll set our stride to $2$ as well."
      ],
      "metadata": {
        "id": "IuWRlB1TBNv-"
      }
    },
    {
      "cell_type": "code",
      "source": [
        "max_pool1 = torch.nn.MaxPool2d(kernel_size=(2, 2), stride=2)\n",
        "model_seq.append(max_pool1)\n",
        "\n",
        "#output\n",
        "Sequential(\n",
        "  (0): Conv2d(3, 16, kernel_size=(3, 3), stride=(1, 1), padding=(1, 1))\n",
        "  (1): ReLU()\n",
        "  (2): MaxPool2d(kernel_size=(2, 2), stride=2, padding=0, dilation=1, ceil_mode=False)\n",
        ")"
      ],
      "metadata": {
        "id": "kfetLnSdBR5Q"
      },
      "execution_count": null,
      "outputs": []
    },
    {
      "cell_type": "markdown",
      "source": [
        "Let's verify that this did what we wanted. It should have left us with $32$ images, with $16$ channels, but half as large."
      ],
      "metadata": {
        "id": "2TZK-hvZAkcn"
      }
    },
    {
      "cell_type": "markdown",
      "source": [
        "**Task 1.4.12:** Run the current model on the `test_batch`, and save the output's shape to `max_pool_shape`."
      ],
      "metadata": {
        "id": "54FOsqIeBeaW"
      }
    },
    {
      "cell_type": "code",
      "source": [
        "max_pool_out = model_seq(test_batch)\n",
        "max_pool_shape = max_pool_out.shape\n",
        "\n",
        "print(f\"Shape after first max pool: {max_pool_shape}\")\n",
        "\n",
        "# output\n",
        "Shape after first max pool: torch.Size([32, 16, 112, 112])\n"
      ],
      "metadata": {
        "id": "lEIiUvD6Bjr9"
      },
      "execution_count": null,
      "outputs": []
    },
    {
      "cell_type": "markdown",
      "source": [
        "This sequence of convolution, ReLU, max pool is very common in CNNs. Often networks will have several of these in a row. Let's add two more to ours."
      ],
      "metadata": {
        "id": "IYrfZf01V2WQ"
      }
    },
    {
      "cell_type": "markdown",
      "source": [
        "**Task 1.4.13:** Add a convolution layer taking in our $16$ channels and outputting $32$ channels, with a $3$ x $3$ kernel and padding of $1$. Follow that with a ReLU, and a max pool of size $2$ x $2$."
      ],
      "metadata": {
        "id": "KEhDLHMUV47B"
      }
    },
    {
      "cell_type": "code",
      "source": [
        "second_conv = torch.nn.Conv2d(in_channels=16, out_channels=32, kernel_size=(3,3), padding=1)\n",
        "second_pool = torch.nn.MaxPool2d(kernel_size=(2,2), stride=2)\n",
        "model_seq.append(second_conv)\n",
        "model_seq.append(torch.nn.ReLU())\n",
        "model_seq.append(second_pool)\n",
        "\n",
        "\n",
        "#output\n",
        "Sequential(\n",
        "  (0): Conv2d(3, 16, kernel_size=(3, 3), stride=(1, 1), padding=(1, 1))\n",
        "  (1): ReLU()\n",
        "  (2): MaxPool2d(kernel_size=(2, 2), stride=2, padding=0, dilation=1, ceil_mode=False)\n",
        "  (3): Conv2d(16, 32, kernel_size=(3, 3), stride=(1, 1), padding=(1, 1))\n",
        "  (4): ReLU()\n",
        "  (5): MaxPool2d(kernel_size=(2, 2), stride=2, padding=0, dilation=1, ceil_mode=False)\n",
        ")"
      ],
      "metadata": {
        "id": "z-jVE51vYnZM"
      },
      "execution_count": null,
      "outputs": []
    },
    {
      "cell_type": "markdown",
      "source": [
        "And, as always, let's verify the shape. What should we expect this time?"
      ],
      "metadata": {
        "id": "pJRFaFNQZBMu"
      }
    },
    {
      "cell_type": "markdown",
      "source": [
        "**Task 1.4.14:** Run the current model on the `test_batch`, and save the output's shape to `second_set_shape`."
      ],
      "metadata": {
        "id": "EZi1ZbzZZDZZ"
      }
    },
    {
      "cell_type": "code",
      "source": [
        "second_set_out = model_seq(test_batch)\n",
        "second_set_shape = second_set_out.shape\n",
        "\n",
        "print(f\"Shape after second max pool: {second_set_shape}\")\n",
        "\n",
        "# outputr\n",
        "Shape after second max pool: torch.Size([32, 32, 56, 56])\n"
      ],
      "metadata": {
        "id": "4EAsvvANZbCR"
      },
      "execution_count": null,
      "outputs": []
    },
    {
      "cell_type": "markdown",
      "source": [
        "If things went according to plan, you should now have $32$ channels and a $56$ x $56$ image.\n",
        "\n",
        "You can actually simplify these descriptions. First, you don't have to provide the argument names for most things, IF you provide them in the right order (`padding` is an exception). Second, for the kernels, if you say $2$ it knows you mean $2$ x $2$ (same for $3$, etc). Finally, for the max pool you can leave off the stride, it defaults to the size of the kernel. We can use this to make the description of our third layer set more compact. We'll use $64$ kernels this time."
      ],
      "metadata": {
        "id": "025aZK4hZigp"
      }
    },
    {
      "cell_type": "code",
      "source": [
        "conv3 = torch.nn.Conv2d(32, 64, 3, padding=1)\n",
        "max_pool3 = torch.nn.MaxPool2d(2)\n",
        "model_seq.append(conv3)\n",
        "model_seq.append(torch.nn.ReLU())\n",
        "model_seq.append(max_pool3)\n",
        "\n",
        "#output\n",
        "Sequential(\n",
        "  (0): Conv2d(3, 16, kernel_size=(3, 3), stride=(1, 1), padding=(1, 1))\n",
        "  (1): ReLU()\n",
        "  (2): MaxPool2d(kernel_size=(2, 2), stride=2, padding=0, dilation=1, ceil_mode=False)\n",
        "  (3): Conv2d(16, 32, kernel_size=(3, 3), stride=(1, 1), padding=(1, 1))\n",
        "  (4): ReLU()\n",
        "  (5): MaxPool2d(kernel_size=(2, 2), stride=2, padding=0, dilation=1, ceil_mode=False)\n",
        "  (6): Conv2d(32, 64, kernel_size=(3, 3), stride=(1, 1), padding=(1, 1))\n",
        "  (7): ReLU()\n",
        "  (8): MaxPool2d(kernel_size=2, stride=2, padding=0, dilation=1, ceil_mode=False)\n",
        ")"
      ],
      "metadata": {
        "id": "IVXz0YRTbHVy"
      },
      "execution_count": null,
      "outputs": []
    },
    {
      "cell_type": "markdown",
      "source": [
        "**Task 1.4.15:** Run the current model on the `test_batch`. Save the output's shape to `third_set_shape`."
      ],
      "metadata": {
        "id": "ibz3HKmmbqzg"
      }
    },
    {
      "cell_type": "code",
      "source": [
        "third_set_out = model_seq(test_batch)\n",
        "third_set_shape = third_set_out.shape\n",
        "\n",
        "print(f\"Shape after third max pool: {third_set_shape}\")\n",
        "\n",
        "# output\n",
        "Shape after third max pool: torch.Size([32, 64, 28, 28])\n"
      ],
      "metadata": {
        "id": "6H8eFw6HbtbL"
      },
      "execution_count": null,
      "outputs": []
    },
    {
      "cell_type": "markdown",
      "source": [
        "We should now have a $32$ x $64$ x $28$ x $28$. We could keep adding more of these sets of layers, but this should be plenty. Now we need to move toward getting our final $8$ classes."
      ],
      "metadata": {
        "id": "mj0tlS4BbzRX"
      }
    },
    {
      "cell_type": "markdown",
      "source": [
        "# Finishing the model"
      ],
      "metadata": {
        "id": "7pOkAd3McFOZ"
      }
    },
    {
      "cell_type": "markdown",
      "source": [
        "**Flattened Output Analysis**\n"
      ],
      "metadata": {
        "id": "ddRxO7p_cNDy"
      }
    },
    {
      "cell_type": "markdown",
      "source": [
        "We're going to need an output layer with just $8$ neurons. That's a flat output, without the 3D structure of our images. Conveniently, PyTorch provides a `Flatten` layer for flattening. Let's add that to our model."
      ],
      "metadata": {
        "id": "DDeasZXgchfB"
      }
    },
    {
      "cell_type": "code",
      "source": [
        "model_seq.append(torch.nn.Flatten())\n",
        "\n",
        "# output\n",
        "Sequential(\n",
        "  (0): Conv2d(3, 16, kernel_size=(3, 3), stride=(1, 1), padding=(1, 1))\n",
        "  (1): ReLU()\n",
        "  (2): MaxPool2d(kernel_size=(2, 2), stride=2, padding=0, dilation=1, ceil_mode=False)\n",
        "  (3): Conv2d(16, 32, kernel_size=(3, 3), stride=(1, 1), padding=(1, 1))\n",
        "  (4): ReLU()\n",
        "  (5): MaxPool2d(kernel_size=(2, 2), stride=2, padding=0, dilation=1, ceil_mode=False)\n",
        "  (6): Conv2d(32, 64, kernel_size=(3, 3), stride=(1, 1), padding=(1, 1))\n",
        "  (7): ReLU()\n",
        "  (8): MaxPool2d(kernel_size=2, stride=2, padding=0, dilation=1, ceil_mode=False)\n",
        "  (9): Flatten(start_dim=1, end_dim=-1)\n",
        ")"
      ],
      "metadata": {
        "id": "blcugoR7cvKR"
      },
      "execution_count": null,
      "outputs": []
    },
    {
      "cell_type": "markdown",
      "source": [
        "What shape should we expect now? It should be our batch size of $32$ by however many pixels we had. This layer has just taken all our pixels and laid them out into a big vector. How many is that?"
      ],
      "metadata": {
        "id": "Go9V9L-Dc43L"
      }
    },
    {
      "cell_type": "code",
      "source": [
        "64 * 28 * 28"
      ],
      "metadata": {
        "colab": {
          "base_uri": "https://localhost:8080/"
        },
        "id": "eDz3ErUYc7lr",
        "outputId": "ac531eac-8c02-4a5a-aaa0-3d5d3fcb3655"
      },
      "execution_count": 1,
      "outputs": [
        {
          "output_type": "execute_result",
          "data": {
            "text/plain": [
              "50176"
            ]
          },
          "metadata": {},
          "execution_count": 1
        }
      ]
    },
    {
      "cell_type": "markdown",
      "source": [
        "Once again, then we can use the model to make sure we've got it right."
      ],
      "metadata": {
        "id": "WPrXftNLdj3Z"
      }
    },
    {
      "cell_type": "markdown",
      "source": [
        "**Task 1.4.16:** Run the current model on the `test_batch`. Save the output's shape to `flat_shape`."
      ],
      "metadata": {
        "id": "GFxeJSCYd-2S"
      }
    },
    {
      "cell_type": "code",
      "source": [
        "flat_out = model_seq(test_batch)\n",
        "flat_shape = flat_out.shape\n",
        "\n",
        "print(f\"Shape after flattening: {flat_shape}\")\n",
        "\n",
        "#output\n",
        "Shape after flattening: torch.Size([32, 50176])\n"
      ],
      "metadata": {
        "id": "UF2p93W4eBJr"
      },
      "execution_count": null,
      "outputs": []
    },
    {
      "cell_type": "markdown",
      "source": [
        "**ReLU Layer Addition**"
      ],
      "metadata": {
        "id": "JeqDRfzeeeMj"
      }
    },
    {
      "cell_type": "markdown",
      "source": [
        "At this point we have a flat input, and can build a normal set of dense layers. You can think of the convolution/max pool layers as having done the image processing. Now we need to do the actual classification. It turns out that dense layers are good at that task.\n",
        "\n",
        "We could add a single layer and just go straight to our output $8$ classes. But we'll get better performance by adding a few dense layers, `Linear` in PyTorch's terminology, first. For these layers, we need to tell it the size of the input, and how many neurons we want in the layer. Since the input is our previous layer, we tell it that size. We'll add a layer of $500$ neurons."
      ],
      "metadata": {
        "id": "PiONzjQoejzy"
      }
    },
    {
      "cell_type": "code",
      "source": [
        "linear1 = torch.nn.Linear(in_features=50176, out_features=500)\n",
        "\n",
        "model_seq.append(linear1)\n",
        "\n",
        "# output\n",
        "Sequential(\n",
        "  (0): Conv2d(3, 16, kernel_size=(3, 3), stride=(1, 1), padding=(1, 1))\n",
        "  (1): ReLU()\n",
        "  (2): MaxPool2d(kernel_size=(2, 2), stride=2, padding=0, dilation=1, ceil_mode=False)\n",
        "  (3): Conv2d(16, 32, kernel_size=(3, 3), stride=(1, 1), padding=(1, 1))\n",
        "  (4): ReLU()\n",
        "  (5): MaxPool2d(kernel_size=(2, 2), stride=2, padding=0, dilation=1, ceil_mode=False)\n",
        "  (6): Conv2d(32, 64, kernel_size=(3, 3), stride=(1, 1), padding=(1, 1))\n",
        "  (7): ReLU()\n",
        "  (8): MaxPool2d(kernel_size=2, stride=2, padding=0, dilation=1, ceil_mode=False)\n",
        "  (9): Flatten(start_dim=1, end_dim=-1)\n",
        "  (10): Linear(in_features=50176, out_features=500, bias=True)\n",
        ")"
      ],
      "metadata": {
        "id": "L4mDcGzPfDlD"
      },
      "execution_count": null,
      "outputs": []
    },
    {
      "cell_type": "markdown",
      "source": [
        "**Task 1.4.17:** Add the ReLU activation layer."
      ],
      "metadata": {
        "id": "vy_w4BhCfvPC"
      }
    },
    {
      "cell_type": "code",
      "source": [
        "model_seq.append(torch.nn.ReLU())\n",
        "\n",
        "# output\n",
        "Sequential(\n",
        "  (0): Conv2d(3, 16, kernel_size=(3, 3), stride=(1, 1), padding=(1, 1))\n",
        "  (1): ReLU()\n",
        "  (2): MaxPool2d(kernel_size=(2, 2), stride=2, padding=0, dilation=1, ceil_mode=False)\n",
        "  (3): Conv2d(16, 32, kernel_size=(3, 3), stride=(1, 1), padding=(1, 1))\n",
        "  (4): ReLU()\n",
        "  (5): MaxPool2d(kernel_size=(2, 2), stride=2, padding=0, dilation=1, ceil_mode=False)\n",
        "  (6): Conv2d(32, 64, kernel_size=(3, 3), stride=(1, 1), padding=(1, 1))\n",
        "  (7): ReLU()\n",
        "  (8): MaxPool2d(kernel_size=2, stride=2, padding=0, dilation=1, ceil_mode=False)\n",
        "  (9): Flatten(start_dim=1, end_dim=-1)\n",
        "  (10): Linear(in_features=50176, out_features=500, bias=True)\n",
        "  (11): ReLU()\n",
        ")"
      ],
      "metadata": {
        "id": "A__Wejsef-qb"
      },
      "execution_count": null,
      "outputs": []
    },
    {
      "cell_type": "markdown",
      "source": [
        "And now we should be getting an output shape from the $500$ neurons."
      ],
      "metadata": {
        "id": "eFrYNIRpe6HB"
      }
    },
    {
      "cell_type": "code",
      "source": [
        "linear_out = model_seq(test_batch)\n",
        "linear_shape = linear_out.shape\n",
        "\n",
        "print(f\"Shape after linear layer: {linear_shape}\")\n",
        "\n",
        "# output\n",
        "Shape after linear layer: torch.Size([32, 500])\n"
      ],
      "metadata": {
        "id": "xI9V_MDcgarS"
      },
      "execution_count": null,
      "outputs": []
    },
    {
      "cell_type": "markdown",
      "source": [
        "We could add more of these, but this network has already gotten rather large. Let's put in the final layer on. We'll need a dense layer with $8$ outputs. But this time we don't add the activation function. We need something different for the final layer."
      ],
      "metadata": {
        "id": "thJjNRy9gl1x"
      }
    },
    {
      "cell_type": "markdown",
      "source": [
        "**Add the output dense layer**"
      ],
      "metadata": {
        "id": "z_sNlSa2g69C"
      }
    },
    {
      "cell_type": "markdown",
      "source": [
        "**Task 1.4.18:** Add the output dense layer."
      ],
      "metadata": {
        "id": "M_6SCGPJg1F7"
      }
    },
    {
      "cell_type": "code",
      "source": [
        "output_layer = torch.nn.Linear(500, 8)\n",
        "\n",
        "model_seq.append(output_layer)\n",
        "\n",
        "# output\n",
        "Sequential(\n",
        "  (0): Conv2d(3, 16, kernel_size=(3, 3), stride=(1, 1), padding=(1, 1))\n",
        "  (1): ReLU()\n",
        "  (2): MaxPool2d(kernel_size=(2, 2), stride=2, padding=0, dilation=1, ceil_mode=False)\n",
        "  (3): Conv2d(16, 32, kernel_size=(3, 3), stride=(1, 1), padding=(1, 1))\n",
        "  (4): ReLU()\n",
        "  (5): MaxPool2d(kernel_size=(2, 2), stride=2, padding=0, dilation=1, ceil_mode=False)\n",
        "  (6): Conv2d(32, 64, kernel_size=(3, 3), stride=(1, 1), padding=(1, 1))\n",
        "  (7): ReLU()\n",
        "  (8): MaxPool2d(kernel_size=2, stride=2, padding=0, dilation=1, ceil_mode=False)\n",
        "  (9): Flatten(start_dim=1, end_dim=-1)\n",
        "  (10): Linear(in_features=50176, out_features=500, bias=True)\n",
        "  (11): ReLU()\n",
        "  (12): Linear(in_features=500, out_features=8, bias=True)\n",
        ")"
      ],
      "metadata": {
        "id": "O0wzxI-qieJz"
      },
      "execution_count": null,
      "outputs": []
    },
    {
      "cell_type": "markdown",
      "source": [
        "And one final shape check. If everything has gone according to plan, we should be getting $8$ outputs for each of our input images, giving us a $32$ x $8$ tensor on our test batch."
      ],
      "metadata": {
        "id": "eS0Pm7SqivYo"
      }
    },
    {
      "cell_type": "code",
      "source": [
        "model_seq(test_batch).shape\n",
        "\n",
        "# output\n",
        "torch.Size([32, 8])\n"
      ],
      "metadata": {
        "id": "0Oo3UViyixhS"
      },
      "execution_count": null,
      "outputs": []
    },
    {
      "cell_type": "markdown",
      "source": [
        "That's the model! We're finally done. Now we need to train it."
      ],
      "metadata": {
        "id": "zG13YR7Wi6nw"
      }
    },
    {
      "cell_type": "markdown",
      "source": [
        "# Training the Model\n",
        "\n",
        "\n"
      ],
      "metadata": {
        "id": "y6kw2sjpi-A7"
      }
    },
    {
      "cell_type": "markdown",
      "source": [
        "Before we start training, let's put all the model code in one place. This is how you'd do it in practice, to prevent errors.\n",
        "\n",
        "We have also added `Dropout` layers after the flattened and linear layers. This helps to prevent overfitting."
      ],
      "metadata": {
        "id": "74hKtxBZi_N1"
      }
    },
    {
      "cell_type": "code",
      "source": [
        "# Important! Don't change this\n",
        "torch.manual_seed(42)\n",
        "torch.cuda.manual_seed(42)\n",
        "\n",
        "model = torch.nn.Sequential()\n",
        "\n",
        "conv1 = torch.nn.Conv2d(in_channels=3, out_channels=16, kernel_size=(3, 3), padding=1)\n",
        "max_pool1 = torch.nn.MaxPool2d(kernel_size=(2, 2), stride=2)\n",
        "model.append(conv1)\n",
        "model.append(torch.nn.ReLU())\n",
        "model.append(max_pool1)\n",
        "\n",
        "conv2 = torch.nn.Conv2d(in_channels=16, out_channels=32, kernel_size=(3, 3), padding=1)\n",
        "max_pool2 = torch.nn.MaxPool2d(kernel_size=(2, 2), stride=2)\n",
        "model.append(conv2)\n",
        "model.append(torch.nn.ReLU())\n",
        "model.append(max_pool2)\n",
        "\n",
        "conv3 = torch.nn.Conv2d(32, 64, 3, padding=1)\n",
        "max_pool3 = torch.nn.MaxPool2d(2)\n",
        "model.append(conv3)\n",
        "model.append(torch.nn.ReLU())\n",
        "model.append(max_pool3)\n",
        "\n",
        "model.append(torch.nn.Flatten())\n",
        "model.append(torch.nn.Dropout())\n",
        "\n",
        "linear1 = torch.nn.Linear(in_features=50176, out_features=500)\n",
        "model.append(linear1)\n",
        "model.append(torch.nn.ReLU())\n",
        "model.append(torch.nn.Dropout())\n",
        "\n",
        "output_layer = torch.nn.Linear(500, 8)\n",
        "model.append(output_layer)\n",
        "\n",
        "# output\n",
        "Sequential(\n",
        "  (0): Conv2d(3, 16, kernel_size=(3, 3), stride=(1, 1), padding=(1, 1))\n",
        "  (1): ReLU()\n",
        "  (2): MaxPool2d(kernel_size=(2, 2), stride=2, padding=0, dilation=1, ceil_mode=False)\n",
        "  (3): Conv2d(16, 32, kernel_size=(3, 3), stride=(1, 1), padding=(1, 1))\n",
        "  (4): ReLU()\n",
        "  (5): MaxPool2d(kernel_size=(2, 2), stride=2, padding=0, dilation=1, ceil_mode=False)\n",
        "  (6): Conv2d(32, 64, kernel_size=(3, 3), stride=(1, 1), padding=(1, 1))\n",
        "  (7): ReLU()\n",
        "  (8): MaxPool2d(kernel_size=2, stride=2, padding=0, dilation=1, ceil_mode=False)\n",
        "  (9): Flatten(start_dim=1, end_dim=-1)\n",
        "  (10): Dropout(p=0.5, inplace=False)\n",
        "  (11): Linear(in_features=50176, out_features=500, bias=True)\n",
        "  (12): ReLU()\n",
        "  (13): Dropout(p=0.5, inplace=False)\n",
        "  (14): Linear(in_features=500, out_features=8, bias=True)\n",
        ")"
      ],
      "metadata": {
        "id": "C1KCAUhyjsVB"
      },
      "execution_count": null,
      "outputs": []
    },
    {
      "cell_type": "markdown",
      "source": [
        "And to make sure PyTorch has the model correct, let's look at the summary."
      ],
      "metadata": {
        "id": "57abntr7jIIV"
      }
    },
    {
      "cell_type": "code",
      "source": [
        "height, width = 224, 224\n",
        "summary(model, input_size=(batch_size, 3, height, width))\n",
        "\n",
        "# output\n",
        "==========================================================================================\n",
        "Layer (type:depth-idx)                   Output Shape              Param #\n",
        "==========================================================================================\n",
        "Sequential                               [32, 8]                   --\n",
        "├─Conv2d: 1-1                            [32, 16, 224, 224]        448\n",
        "├─ReLU: 1-2                              [32, 16, 224, 224]        --\n",
        "├─MaxPool2d: 1-3                         [32, 16, 112, 112]        --\n",
        "├─Conv2d: 1-4                            [32, 32, 112, 112]        4,640\n",
        "├─ReLU: 1-5                              [32, 32, 112, 112]        --\n",
        "├─MaxPool2d: 1-6                         [32, 32, 56, 56]          --\n",
        "├─Conv2d: 1-7                            [32, 64, 56, 56]          18,496\n",
        "├─ReLU: 1-8                              [32, 64, 56, 56]          --\n",
        "├─MaxPool2d: 1-9                         [32, 64, 28, 28]          --\n",
        "├─Flatten: 1-10                          [32, 50176]               --\n",
        "├─Dropout: 1-11                          [32, 50176]               --\n",
        "├─Linear: 1-12                           [32, 500]                 25,088,500\n",
        "├─ReLU: 1-13                             [32, 500]                 --\n",
        "├─Dropout: 1-14                          [32, 500]                 --\n",
        "├─Linear: 1-15                           [32, 8]                   4,008\n",
        "==========================================================================================\n",
        "Total params: 25,116,092\n",
        "Trainable params: 25,116,092\n",
        "Non-trainable params: 0\n",
        "Total mult-adds (Units.GIGABYTES): 5.24\n",
        "==========================================================================================\n",
        "Input size (MB): 19.27\n",
        "Forward/backward pass size (MB): 359.79\n",
        "Params size (MB): 100.46\n",
        "Estimated Total Size (MB): 479.52\n",
        "=========================================================================================="
      ],
      "metadata": {
        "id": "5_m7GINXj-cD"
      },
      "execution_count": null,
      "outputs": []
    },
    {
      "cell_type": "markdown",
      "source": [
        "This model has over 25 million parameters. That's fewer than our previous model, but because of the more complicated architecture it'll take more time and resources to train.\n",
        "\n",
        "We can use the same training code we used last time. It can handle binary or multiclass classification. We made a separate file with this code in the previous notebook. Now we can reuse that code by importing it."
      ],
      "metadata": {
        "id": "jDUohcNjkkCb"
      }
    },
    {
      "cell_type": "code",
      "source": [
        "from training import predict, train"
      ],
      "metadata": {
        "id": "haGOLFfskyMq"
      },
      "execution_count": null,
      "outputs": []
    },
    {
      "cell_type": "markdown",
      "source": [
        "As in the previous notebook, we'll use the cross entropy as our loss function. This will take into account how confident the model is in its answer, as well as whether it was right or wrong. We will also print the accuracy as a human-readable measure.\n",
        "\n",
        "We'll need to set up our Cross Entropy loss, and an optimizer. We'll also make sure our model is on the GPU."
      ],
      "metadata": {
        "id": "8nIaScJJk1Z2"
      }
    },
    {
      "cell_type": "code",
      "source": [
        "loss_fn = nn.CrossEntropyLoss()\n",
        "optimizer = optim.Adam(model.parameters(), lr=0.001)\n",
        "model.to(device)\n",
        "\n",
        "#output\n",
        "Sequential(\n",
        "  (0): Conv2d(3, 16, kernel_size=(3, 3), stride=(1, 1), padding=(1, 1))\n",
        "  (1): ReLU()\n",
        "  (2): MaxPool2d(kernel_size=(2, 2), stride=2, padding=0, dilation=1, ceil_mode=False)\n",
        "  (3): Conv2d(16, 32, kernel_size=(3, 3), stride=(1, 1), padding=(1, 1))\n",
        "  (4): ReLU()\n",
        "  (5): MaxPool2d(kernel_size=(2, 2), stride=2, padding=0, dilation=1, ceil_mode=False)\n",
        "  (6): Conv2d(32, 64, kernel_size=(3, 3), stride=(1, 1), padding=(1, 1))\n",
        "  (7): ReLU()\n",
        "  (8): MaxPool2d(kernel_size=2, stride=2, padding=0, dilation=1, ceil_mode=False)\n",
        "  (9): Flatten(start_dim=1, end_dim=-1)\n",
        "  (10): Dropout(p=0.5, inplace=False)\n",
        "  (11): Linear(in_features=50176, out_features=500, bias=True)\n",
        "  (12): ReLU()\n",
        "  (13): Dropout(p=0.5, inplace=False)\n",
        "  (14): Linear(in_features=500, out_features=8, bias=True)\n",
        ")"
      ],
      "metadata": {
        "id": "Se1xrP6Tk6Jl"
      },
      "execution_count": null,
      "outputs": []
    },
    {
      "cell_type": "markdown",
      "source": [
        "And away we go! This is exactly the same code as last time, so it's called the same way."
      ],
      "metadata": {
        "id": "L0cCnliOlwuc"
      }
    },
    {
      "cell_type": "markdown",
      "source": [
        "**Task 1.4.19:** Train the model for $8$ epochs."
      ],
      "metadata": {
        "id": "KxP0tKdLltpJ"
      }
    },
    {
      "cell_type": "code",
      "source": [
        "# function to train model\n",
        "train(model, optimizer, loss_fn, train_loader, val_loader, epochs=8, device=device)"
      ],
      "metadata": {
        "id": "sSgeCM_Cnu3L"
      },
      "execution_count": null,
      "outputs": []
    },
    {
      "cell_type": "markdown",
      "source": [
        "**Pretrained Model:** Load the pre-trained model with the following line:"
      ],
      "metadata": {
        "id": "SEXzdJVtn969"
      }
    },
    {
      "cell_type": "code",
      "source": [
        "model = torch.load(\"model/trained_model.pth\", weights_only=False)"
      ],
      "metadata": {
        "id": "Lv3xPVown_38"
      },
      "execution_count": null,
      "outputs": []
    },
    {
      "cell_type": "markdown",
      "source": [
        "<div class=\"alert alert-info\" role=\"alert\">\n",
        "We've chosen to train for eight epochs. This was pretty arbitrary. We wanted to get a decent result without running for too long. If the validation loss is still decreasing, the model is still improving. In that case, we may benefit from training longer. As models get larger, they generally take longer to train. Thankfully, training more doesn't restart the process. We could just run the training function again and it'll pick up where it left off.\n",
        "</div>"
      ],
      "metadata": {
        "id": "NdldYDa_ofnV"
      }
    },
    {
      "cell_type": "markdown",
      "source": [
        "As we did in the previous notebook, we can use our predict function to get the confidence values, and convert them to predictions."
      ],
      "metadata": {
        "id": "0i2kwurdohRt"
      }
    },
    {
      "cell_type": "markdown",
      "source": [
        "### Validity Predictions Computation"
      ],
      "metadata": {
        "id": "ZRPw7im3okdb"
      }
    },
    {
      "cell_type": "markdown",
      "source": [
        "**Task 1.4.20:** Calculate the predictions for the validation set."
      ],
      "metadata": {
        "id": "7OOVTNZ1osY5"
      }
    },
    {
      "cell_type": "code",
      "source": [
        "probabilities = predict(model, val_loader, device) # predict is function we created ourselve earlier\n",
        "predictions = torch.argmax(probabilities, dim=1)"
      ],
      "metadata": {
        "id": "QT4dYRrxq3c2"
      },
      "execution_count": null,
      "outputs": []
    },
    {
      "cell_type": "code",
      "source": [
        "predictions\n",
        "\n",
        "# output\n",
        "tensor([1, 0, 6,  ..., 7, 3, 3], device='cuda:0')\n"
      ],
      "metadata": {
        "id": "RJvKHvkrq5Ps"
      },
      "execution_count": null,
      "outputs": []
    },
    {
      "cell_type": "markdown",
      "source": [
        "\n",
        "With those and the correct answers, we can generate the confusion matrix. Let's pull the targets into a list.\n",
        "\n"
      ],
      "metadata": {
        "id": "hHX01UiOouWl"
      }
    },
    {
      "cell_type": "markdown",
      "source": [
        "**Confusion Matrix Construction**"
      ],
      "metadata": {
        "id": "gVJld7ABrMMz"
      }
    },
    {
      "cell_type": "code",
      "source": [
        "targets = []\n",
        "\n",
        "for _, labels in tqdm(val_loader):\n",
        "    targets.extend(labels.tolist())"
      ],
      "metadata": {
        "id": "VMnAFGlzrIiE"
      },
      "execution_count": null,
      "outputs": []
    },
    {
      "cell_type": "code",
      "source": [
        "targets[:10]\n",
        "\n",
        "# output\n",
        "[1, 0, 2, 3, 0, 6, 5, 6, 2, 3]\n"
      ],
      "metadata": {
        "id": "u-wiurPrsiGU"
      },
      "execution_count": null,
      "outputs": []
    },
    {
      "cell_type": "markdown",
      "source": [
        "**Task 1.4.21:** Make the same confusion matrix we made last time. You'll need to either move the `predictions` to `cpu` or convert them to a list. The labels will be our classes."
      ],
      "metadata": {
        "id": "f6k4Rz6Wss2E"
      }
    },
    {
      "cell_type": "code",
      "source": [
        "cm = confusion_matrix(targets, predictions.cpu())\n",
        "\n",
        "disp = ConfusionMatrixDisplay(confusion_matrix=cm, display_labels=classes)\n",
        "\n",
        "disp.plot(cmap=plt.cm.Blues, xticks_rotation=\"vertical\")\n",
        "plt.show();"
      ],
      "metadata": {
        "id": "WZg2bjHJuTUj"
      },
      "execution_count": null,
      "outputs": []
    },
    {
      "cell_type": "markdown",
      "source": [
        "**Chart of Confusion Matrix**\n",
        "\n",
        "![Screenshot 2025-02-15 140834.png](data:image/png;base64,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)"
      ],
      "metadata": {
        "id": "L3n3NMocubJ2"
      }
    },
    {
      "cell_type": "markdown",
      "source": [
        "We're doing at least as well as our binary classification, but this time with many more animal choices. It seems some animals are a bit more difficult to distinguish from the `'blank'` images."
      ],
      "metadata": {
        "id": "nJAHYAMHulSS"
      }
    },
    {
      "cell_type": "markdown",
      "source": [
        "### Submission to competition"
      ],
      "metadata": {
        "id": "X8ME-Uwnu7rF"
      }
    },
    {
      "cell_type": "markdown",
      "source": [
        "Now we can use our model to complete the competition. They want our model's confidences for each of the $8$ classes on a test set. We don't know the answer here (it wouldn't be much of a competition if we did!). We'll need to run each image through our model.\n",
        "\n",
        "They want the results saved as a csv file, with the columns labeled by the class, and the row index with a special ID. They've given us a file saying how these IDs map to image files. This will be easiest for us to save as a DataFrame.\n",
        "\n",
        "First, we need to read in the IDs and filenames. All of the test data is in the `data_multiclass/test` directory, and this ID mapping is in the `test_features.csv` file."
      ],
      "metadata": {
        "id": "lS1x3UNbvFP6"
      }
    },
    {
      "cell_type": "markdown",
      "source": [
        "**Open CSV File**"
      ],
      "metadata": {
        "id": "0va7ttbHyry8"
      }
    },
    {
      "cell_type": "markdown",
      "source": [
        "**Task 1.4.22:** Read in the ID mapping csv file with pandas."
      ],
      "metadata": {
        "id": "ZGCbL0F-ve9m"
      }
    },
    {
      "cell_type": "code",
      "source": [
        "test_dir = os.path.join(data_dir, \"test\")  # get folder of interest\n",
        "\n",
        "# Read the CSV file\n",
        "id_file_location = os.path.join(test_dir, 'test_features.csv') # get file of interest\n",
        "df_ids = pd.read_csv(id_file_location)    # open file of interest using pandas\n",
        "\n",
        "df_ids.head()\n",
        "\n",
        "\n",
        "# output\n",
        "    id\t            filepath\n",
        "0\tZJ016488\ttest_features/ZJ016488.jpg\n",
        "1\tZJ016489\ttest_features/ZJ016489.jpg\n",
        "2\tZJ016490\ttest_features/ZJ016490.jpg\n",
        "3\tZJ016491\ttest_features/ZJ016491.jpg\n",
        "4\tZJ016492\ttest_features/ZJ016492.jpg\n"
      ],
      "metadata": {
        "id": "izFyXDDnwkhe"
      },
      "execution_count": null,
      "outputs": []
    },
    {
      "cell_type": "markdown",
      "source": [
        "The ID is really just the filename without the `.jpg` on the end, and all of the images are in the `test_features` subdirectory of the test directory."
      ],
      "metadata": {
        "id": "0DwOaoI8xGy1"
      }
    },
    {
      "cell_type": "markdown",
      "source": [
        "Let's run our model on one of the images. We can get the file location from our DataFrame."
      ],
      "metadata": {
        "id": "zzItlAhcxIY2"
      }
    },
    {
      "cell_type": "markdown",
      "source": [
        "**Load Image From File**"
      ],
      "metadata": {
        "id": "MWwaq8tWy3sd"
      }
    },
    {
      "cell_type": "code",
      "source": [
        "test_image_location = df_ids.iloc[0, 1]\n",
        "test_image_location\n",
        "\n",
        "# output\n",
        "'test_features/ZJ016488.jpg'\n"
      ],
      "metadata": {
        "id": "vid7L04ixcAM"
      },
      "execution_count": null,
      "outputs": []
    },
    {
      "cell_type": "markdown",
      "source": [
        "This is the location within our test folder. Let's open the image and look at it."
      ],
      "metadata": {
        "id": "LeQNjVNjxbRe"
      }
    },
    {
      "cell_type": "markdown",
      "source": [
        "**Open Image using PIL**"
      ],
      "metadata": {
        "id": "Jsk43srdy_0M"
      }
    },
    {
      "cell_type": "markdown",
      "source": [
        "**Task 1.4.23:** Use `PIL` to open this image and assign it to `test_image`."
      ],
      "metadata": {
        "id": "bZ2g1E52xoa2"
      }
    },
    {
      "cell_type": "code",
      "source": [
        "test_image_path = os.path.join(test_dir, test_image_location)\n",
        "test_image = PIL.Image.open(test_image_path)\n",
        "test_image"
      ],
      "metadata": {
        "id": "1NVl2crdyKHu"
      },
      "execution_count": null,
      "outputs": []
    },
    {
      "cell_type": "markdown",
      "source": [
        "![Screenshot 2025-02-15 142517.png](data:image/png;base64,iVBORw0KGgoAAAANSUhEUgAAAf4AAAEfCAYAAACgd6QCAAAAAXNSR0IArs4c6QAAAARnQU1BAACxjwv8YQUAAAAJcEhZcwAADsMAAA7DAcdvqGQAAP+lSURBVHhe7N1Xs29pVff9Zc455wiCdAMChm59JZZlUVpSZOEd3C9BLQqhtQltiS/BI088UMFGG4FuzJhzzvF57s+893c/P+f+r7U3y/s5co+qUVcaeYzruuaca629P+7/+d9w9RAewkN4CA/hITyE/xHw8Xfah/AQHsJDeAgP4SH8D4CHF/9DeAgP4SE8hIfwPwju+dT//Oc//+oTPuETrj7xEz/xaD/lUz7l6uM//uOPvhZg+biP+7i7c8b/+Z//eayZh5/8yZ98IDm7jv6f/umfDhp9rfG///u/X33qp37qQf/pn/7ph2zwH//xHwcv1G9Mpj4+SBb8pE/6pKvP+qzPOpDt5DUP0NL3l3/5l0f/n//5nw+az/u8z7v67M/+7MMGmP3Z+w//8A939f7bv/3b0UL2f9qnfdrdWJCZnX/6p3964L/8y78c61/wBV9w9XVf93VHn2x6ksEGkJ1k0Uc3BGT+/u///oHsMWYLeeyHf/Znf3b4hJcsMeAX+ebJYq8Y5/ujjz569dVf/dVXX/zFX3z1OZ/zOQcf/eBf//VfDzqtmP3u7/7u1W//9m9f/eM//uOhg2/sAPrAPH7+FZvV/Rmf8RkHD5latOIhDmTkE9vMiREa2Di90Nw3fMM3HPZbY+Pv/M7vHGv8B+XFOmDjV33VV1099thjV1//9V9/+E2ndfjHf/zHVz/90z99yPmar/maq2/6pm86/Hn66aevnn322SNGL3zhC69e8pKXXH3pl37pIe/DH/7w1c/+7M8etpVfMiFgJzprdOiTy3Y88vqHf/iHRw7/5m/+5ojD5vflL3/5sT83FmKkT554mgvM8fuv/uqvjtzRZ1984Rd+4dVnfuZnHrz8QEeGdTEqVuX+D/7gD65+8zd/8+rP//zP79pUnbJLTquzF7/4xVfPe97zjjE5ZFdv4mGeLlA80NHDTnFgl/l8zE9tc+TmX3ay70Mf+tDVH/3RH119+Zd/+dVXfuVXXv393//9oV9fbNHpswUv3/72b//20C3nePFYJ//zP//zDx/F/cu+7MuOXPCh2JXf7IHAHFth62IKaskQS0CW/l/8xV8csRaH5otBsopBrVih/+u//uurP/mTPzlqh/2f+7mfe3c9W4GzQ8zEhX9qAh1Aax00h0+srLH97/7u7w495Yvd5vOdrq/92q+9evzxx6++5Eu+5Kj38pn96NcHMthkXD3gKabmjc07e9CC55577upXf/VXj7655G69ZDfdKzMEWvSwvSsuYmRc7OIhF6Qz/lp6iln6tfGgsU4OHkBHstJn3NziAjkLYnI/+IT/9b/hTv+At7zlLYdSzipwfcbVwgLUGAo0GmgN5DxUIKFxgdCXdDJcCAKdPOCykOh4BQ0mN1l0thnZLXHkAIGyriXDxnAQ0ssGPJLscMK7fluvsANzBT99aONBz2YHuENFsUIxhewkjy3k4MnGdO48Hj57iGD3PoQUx2IuHgAvPeKAH6Czjk+fHOjAdqh1OPMDTbRkx1vMirHWvDw5EKLjm3714DCli03Ft3zpx0Mf2/lljgyAJlqQv9rm+OCgIV+O6eM7O9UW/4oFHR7CXLzWAHuSy5/f+73fu/r1X//1I4/s6iB16JEtJ+S4RF06NlyHLrpkgfLBVvN8Ax4a6CfTA5Ucky3OoPh7OPOAYH8Ymxcb/ugDsukoxmi1Lq4v+qIvuus7emv0Jj+72CnOQB+dvSG21Yg8qWf0YkBfdYGWXHP4k013tpkD2vyQ73yOF9+iudAYHVsh+XR7qPEQ66GOHS4nuRTn4qEVfxelmrXuAcCDl31rLWwvQ3R0t0f0+ZA//IB8Kq7Z2zqZrfN582esjtjFN/bHX6yAfjHRTyd+rRx5ybCvyVeffNbHw4b2mjlQDqwlv/gag2LdvDYe/WyE6k0O2AKswXxpLki/ufrkAK056PyTK/b38KrvfImGDPYD/WyiO5lA3zoszvjEygORGO69wOdiDrQbH212VzvpDNFozQN02Q2ygV/b18L4tGFyw9e97nUHzU1wz8X/9re//XASKgqCMiAjUmBe2xoDOB46FDjPOQeFBBmjy9kQv4CTZ5Ohl0wXZ4d48+jRgfRLjkKwWbQVOaBPgui20cnExxfzeNBDcyFgO+RPQF7BLlb6JYHffIUKx9sHtBHpQ4+OHQqZf3xinxagg8bkeVv56Ec/ehxkxYBdIHuKOygnXULJ14+WHDFF9xVf8RWHrdFHg09bHMhgj758eVMWe7aWX/xacskUl3jI7+DMrnLNlmzPXojP2Hzx1ofyJG9sVCPe+sUZzdra4cdOtMYuU28m8ZNXTfPFReCNH4g7uS4WehzO7MaHx2FkDi85dLOZbrFEQ0+1gk/fgwpal35vpNFDY/F92ctedtAC/K2TUwz4Vku2/sZo80SueWNyoiMbopc7Dw32hzy7PF2qeFxQ4oCPvRCtOm8/Fc/0aNORH/jEqdYcvuwJ8zeMtjFAJ8fshsZqSm3lBzvE256r9vXtLW/bySEbyh96lz66fKXTOlgbrIG1bdfi0RYfaI2O3/qt3zrsuu7hotg0D8QCGJuXZ74WO7VQnqFxbXRk1kL0cgjFNFl0WKMDohWj9j4/rLs4fVkhP1uzr36AB6pl8/zJp+bJtr88iEP7kf32Ix5fa/Cgp4NdwFryzWsDfetLT6YHfHK1nRkgWvZUF/ZR6KxJ39qiDfGh08cPyYPm0pOcHUOAdsE8PeFrXvOaOyvXwz0X/zvf+c7D0YogofrQfLBrjOxAyaGCo4XxBHhgsiF6he+ChvFXCIANbAzxSZjDXDFKlrH59JHBNm1FnC/a+BR6vGxDv0kB+uwhGy2e5rMXv+JxEHry9QSMnm/F1zhZFUpyQDY4cBy0HhTw44NbAPJgjmyHRnaZJ5tNXYLZuAXo4rdZ8ZpLBzTOJrQOSJ9EHVRsdMi6lByucmCOfMAOca1O2kjk0i/HfFI77Cz+2vKTrfRlMxmbF/387PMlYCue7OAf3Z7mX/CCFxw2k0VOMdTmp4OYbcBFJ4/0+ApALp/Qqy324YNorEO25bs6owM4FD1M0OPHE/izgT1kQAeot/1iSx594sZfMvlbXWVTesgqTuIgBvjg8oRo2Nblwwb8xnQ5EHsgp8OcBwN13gMkuWwgu1yG2bV+ZqM5SO/aBchbbD4+csyzP/384Kc58ZMbl4SvOfyRE5e+By+5Iif5IJmAHjRy72HCvDmwfDC7mwdoyZNn/fYnGvFkgx9VyK+65H++oTOOB5AFzjTyoQV8jE8rLmjbD1p85qsF69HuPtRC9HwrfmjYbH9oyVQD6lbMyVkbtRCYhwCv+a0Hc8ZqvR8zir2copVfOuTFg0F62Fc/WXRrA3KjtcZuce8s45d1utrLkJ+dW/qdS+jsSzaHzg5ovT5Uh1o25CPbGkPyjLN11/IJZn/46le/+uC5Ce65+N/97ncfzCBlCwxmUAaES5uBglahVURahgJGo6OPTAHcIBYILdBXeB1Aig6QQbZiUwhbrNkS0t0BjMY6eXiXTysxeAA6tpvPLrLwQEXTQ086yKQHrTVPqfqQz2RXeOSi18Liljx9cQFiYx6YR5/t9HVBlMd8x2/T4IXpV7w9nbMbH7SmJRfkNz+8CTsAPZDwDS2bXQAuXn1IHlsg/uSJrY0j32xhP9p8N2aPfvWGro1jPR+t0882MvU9dIlDvgN5tta6S0q8sg2/PAI6HMb8tMnpqTbJdciwhyw86MXWevWbruLQIQzoM+fiZ7MvP2S0hodd+H1id6nymQ758uDlEAT8sMZ+LR4+swEtW/HxQ1/LDrrRs78c0ctO/gK2kIceordOni8UYuAryzd/8zcfB2Y+acnCQ74+JJc8LSQ/PfWjwVsMotcPQWvo0EejLYbyxWa2y+FHPvKR42sOO+05sfSjlvhA9mQTsI6f7x7WtGofqCPyAZ3JwZMc+cFfbeSbXImRWvu1X/u1wyZojpxiCKshfOBso351yR466AusG5svPuRtrOlpDMytPzvW0oNe3ath/Pau353hB//oCvCwIxn6aLIdAnaSp4b9CEy92yfsSga5HuKdOXKhvvMDJJd9xcEaGvOBsdjaS/aacQ+3ZDrzoPPO/mFT5xe/2dy+Lw5a6/ohnZBd6mHBOLROVkj+9q0nI/rwVp/63/GOd9zp/R/Y4OhTsnNAEiqIikLgBFtiFMZi9MlJbrIrOn2OgGTaxJLsgnG4JIsem0/RoSPLvD6aZGeXwtSyZx8WIHogyGtbkJ/myFMwaI0lu7kSUzGTm70ADyhGdNcnI/38zEbyFXh25UMHgxiQQTeaEB9MZ5AteB3gXbZkhsWEHHIVvA3h4lfMDkGbpEMQvSdmb4b4jPmTTebIcHCyhz76tRB9uQP4imX82W2++G6cHQb5Q0coBnQ4kFxU6il9ays9NrfLja/pZ7e11rPJvDH5aEGHtLaLkI74zfObfLzrEzq29cUIrfg6dFwQPnd6a+WTrxAuMTzGYoDOIeVC6+fXfDFHj9xA+0iO2YOf79aN882YH2xtz8k5meLoy4nfl+jTKCSTLIi3uOIF6QDpKsbAOtql/1hw9UKxB2IodmLIH/XhQHex5GsY6LODbdWYOHchkCk/YkkvP7JhfQiqg+jEijwXGzu6+NHBfEne2bbsaw3md7rNsZ+e5rTFBq6OlXUJWwf8ILf46LNf3YqJuJIL4q1vDZb70NheQiPOv/Ebv3F8qTEH6NBns/tA7ZHjTEkuOVrQXPovtc4MZwK+ftHTGdfDMtkucvl27vE1uSG72B4C82ReAvyXYGUWk3Bh6cI3vOENd1avhwe6+Bcp1jI4FLgtmIppC2/XQQ4br4x4BE0Q6TLvYOtnjFoFZdN2qEIbOf7abF5bsw3gsfHOhY+nTS7ZLjZ99GzrSdBcl6V+BYGfPC16dpCb36A5+vlBBkw/WcnJP7KaR2cOxs9+azZFvHS6mNhF5wJ52eXwtmHxsInc+MlCC9CT1dOvdZtBjGwYrYsMnQcRvNlVPjso2Jwe4+RHp28+BMXQGkgWICddHj7UCbvZyUZxgeJpk/fGT2ZYDtD1lI/XPF09tOAD5IuHNUBGcSMHnzHMH2v8BuJlDp24Z4ML3e8giEUPHPS6yNkUL3q2WlMb6tKB5dKXD7WqhtnrgOS3dmPFfjK0ZPCJPshOOiAgy0OEmPpt92/8xm889oB18YT84CtMDzRODqAb0kOnPkCHPtp4b8JsjEfbGn7Aty7+4ukhhu90rzzrych+cwsbL33y1EFxwJ8fsByTSZ+xfg9S6lLdiie+aiZ+esgvVuasg/qhMXuzWYsvGcbo6Nz6PMsB5zm2ac2DZKWT/b6q2X/xgOTURwvZw5/8gs4Q8fSjGH/pYA9mJ95sqKVPa2/kIznkA2vpT7e++pYrcafDA7V9Q7exvBa37EsmyAd4pm2dvvpBczcB+nSm98zXfPjGN77xzsr1cN+Ln9DaFADKQ8ETfNia5AD0yTBvzBEtPthm6LIxbiN663EA+gTjDa4iLXlgbWoeb+vAPDo2kq8P6TNXQenHzwaHnIPTk7jWuqJWVMZQstvAZPADHRprFaADgmxr6dHiwa/42EQvbA0vtIZH/KyLBV140VljrzUFi74DRBEX9zOYR+OJF5IHzQG6+UGulp5o8otesqG+T3JaMtDgAcVI3NnmQaOLAl005OQ/YOPazxYyjcU3f6MHHobUD10uTocruxwo5vtNb/pg+vlFNh09zHSgsyk92vSDfAT6EH2x1KbHGOqz3Twwp4+Xjex2ifPBWEz5oe7Km8OVbDZCB58HFnkRXz8q8MDsgvYWRj6d1tG7wMnVFx+8+uZg8ujsIQWvWiHbQ7lYy2e5zFeYT+ubuAFtcedP/XghEO+dOyOZWlA/BOWJXy4R+1kM+OVBSa7POrIleew/25t8/MWty1ss4iMDXoqLPdXZ0sOqfMdD5xkXmlt7jYunvrnWzIkF3XLVeRVN9oX4tWgWzQH99KmDakAc1Ea+AG18+vgge9gViqd9qvblyphcNUYe+fZDX5nI1Jpjj3iqUbLThQbqw+SwGVqji1586oNetskRu5Yf8jkfwoXG0e+YrEv0i9fB0rBrx29605vuUF0PF3+5j1GAkC0eCBgsuDZKBZAjAtnhi8/BQYbgFUByrIXmgMQlU9LIsxFc+BWTdZsHFMx0ZyvMdm00eLUVPcwPoA/oBvjZ7/BVABWSgmEDvi4vvOnOX3z18WcD2g4Fc2Tynczog2wiFxgnL50B+9irbZ196B3Y9C09oJMN5vnhZ/1sy7/iJUdatpKDxsOYv2X3qc2BB9cn/PhWr9Ycmg4Jem1YMagGrNfGB4pPtlg3B/nbJkZPb5cROvY55G1shytf2/AQP5mA/3Q4QMSytwjrZG8LGtNDDtA6+OhXu8UGkEUuTH++NLbGXnaLhTjJrU+QWvr45xf/7BO+4CdH7Ympn7M6HF3S8oTngx/84PEW5VBVF/SICaDLBcZfb6B+ocobcq2HDvJc+L3RlTfIhvzng37+hOwrDlpz4te8MeDzmScs9mG5saYF5YMcc+qOr3z01QTIsQM+GkhfcdS3ph7IA+ZBdiVbTtrzHqbEVN6rVbqrA7LQ2a9o9c2jIzPdQfY1X2sOaDur6COvGtFvPwNjYE1+Os+AcfpDekJjgDd78JRzY/LQ0qcejNEnI5tB9rGV3fjLEexBU22pZ3ugM0NNa4uplh/WyRCP5NOZb2xCV62ikb9eVvSheXy1C+QsBuf5fI7m0pjs5Nc/8y+ajw5mX/jmN7/5kHUT3HPx/9iP/dghKAQZARtnQMFsviKwDiSzwg8rzJAec/gkxEa0achzoHnj70IgFx0gC3/ytNl8lq0QQMED5IXAfDJhm1mfXQpYsVQwCk0xatHSgb63KZC/1rTQHFl4yeWnMZ7oimU+b2xBOshKr02f/fxG62DWt6YtPgG5eIBN5DJ3mbALv3U86edrm1lO8HhzBi4LdkSLjmwXicMN2sg2mBZ2EePjN3+L87bsIUuc0ZFfnIAYoWET+9Hi62AAeMzxx6HRxU9GMbaGFy3QF182ewhYunQHzaHhh0uf/nJsPnk9oIHo0wmqQfN4qgM6ekMn248CvM3r94DTJe5ipsOlXZz9rPQDH/jA3UPOOtlsVI9QjMRR3OjyWd9DAno5M08f7G3fXDYWl3xubtsFc3xcMI5Xv5q+HwItnmQa85Pt9gHoguZrdvFBnx9rZ/LMgdr4rKWfTHq8OYqXOfXvxy5iqWZhtHjVQ2Py1AHZ6Qcb29ZgtPg9lPma4aFGX87kPV6YLGAv0a9umiP/fnimI4Pt/NJPF5vac+RDY/Po4mMHwJ+cLn4xJEuNqUlIXucCmdmUbv44A8yf7ZBjLdrObDqgMVqwMkGytn+mAebOuJCMwDp+WL/5S/zXwdLf6o3/iSeeOJwPQYZlVGAsURAIrkQ4RARYa66gh4wTgOSVAGAt3ZLs8CLLfJAtBbHN1OXBnhJDjjkb3WXZhZldFY7+6sbPJvTsM1ZQkD0QDzvw0YEeko+vA5puh259F4gxPRU0OebRZH8I0pPd9LQxKlqIDpCN3pg91ppfyGdArku8z3PFBuq3afTZ1Rpgi0/ibAHo+EZ2MWRz+THfHL8hGWxls3VITzVFpovJwwxbzHcAdOkBPPGKLRo6rcevrvjaQ87GGYgFHfjYyFb+lYfaBXPkZA/d2vaDcbrykYziqs0Oa+kwl7/ozIuTN/h+qY69bFRX7C32LoEuAxe4n1+6DIo9OeigOTrEhd1y6a0fvTjIHZ0vetGLjgdENMWpmGRzaL0+P8JLED8oX7Bx6zCbG5NJlzaeaPiovjyY8tHLhBqXD/XAfoCXHkBmLRkBmvKgdsSg3GnLj1jRoc7knIzqAT9bAXvKAd3FC2ibP/sXJkfe5crvLsiXhw+y1YGc0c029Olnp5Z95sjWB6vjEqKNDvAXsrc5+s0VGzqAObqLLf/MJTP71Z/5tReC/MDTPDnkmZcbD6bR0K/N/s4imJ3Jzr/VZxz/ylkasGvwDOe5lVG/+fAM6VhY+ltd/D/+4z/+X4QKiGCGCc/YEhdGJzESrlV8i3v44anwgT60hh9tsvGUyGzsgu0Jnj5JVuh0VTCSm32g9WjIzRctHnaQb846HrRiAthhrDWHFo+C1SfDWsgXMvKBf5BtFXp2Bvw03sLEy0b0IT6IJh6Azzx67SXIX+jriovRxilXxad+8kO2e6t0sTiArOOVhy5NdqClK0hnubSuD8khF+qjY0MXtzd2B6tLz2FqnQ7yi0+5Ky6wnJPTzwflgE6+ZY85cvXlVH15g9q8aheKE74eTlY2HmCsr40+O8yH8dBT7cSj7wLr4QXYB2wVdzweVFx2bIZ8EIv8DOVIa50N5KKRT2+uvam6QPwTxY888shRJ2jQa/OpPmhu++FNwBb60CVr6waYX9y5/MID+aWOxMA6m8W8emEzXfrmAvPFXb2IS7/X4MHHP+Wshb4eaf1Y0rpfoBQjNSo/6oHO/FeX4s42OQNszv5sZw868+zJ1rBYqU35wuPCY2d/EcJuc9Ui0Hb5FRfIX3IbPwgCeslrj2vZpt7Uaxe/Ofr4THf06MpTvythni0AX3FJr/HasHN8tc/p5BOkt7OZrWRFX1yTlb7zOjAOownQndcXzC2sjKWP/xL92Y7twx/8wR885m6Cey7+d73rXXeNlxgJkpxNqBZsMBhsrUMegmSh60CCZKCpNYeGDONkKQCF0C8dKQxzDqOK3TxaybVBbTAJpztIR5veZrSh0UFgHaCtSPTb/ORVLObI0baB8wHSgwf29OmiYV+Xl4OU3X0BSI6Ym9caN9eGoTP7ySXH5hZnNosdG9iqBWwrb5cAD35vKP2cf+NIjnUYPZls8zNn/1ytJ3XxQiPXWut8KbbgLA9a15YzPHzBLzZ9PYHG+Vguob7N3gEXv/rQGouBGPKrGGZLdgXlFz3fyJErgJ8sfPrsx6/Pd7gHLahPB9rqHA9aupKRLbXmIBloyS//6olvLulqja3Gva2zFaYLP7ouJLVnb7GJPDQ9UNtvbPC3+t/+7d9+XGrW2VbctGjWX2MQTePidqbXh9WqdXyQ3cbWIJ+ANtmtAfx8EZf9kgSLBV6fxPnNz/SB9pgY2VsuURe9LyzQ5W4/W0eHPlvE1ANAb9prX3aFaxcgoxhEzzbzZMibOX105u0HfgAPgn78wz762VY+N77AeeJHEH0J2TgH8TTXGK026LwqtnyzTh5a+vWzl250eOSIHb5MOc/3xyIADxqon50gG9KbbRAYm8eXLvEkuzigWZ+j3/Vo8huWn2jAygmih/GfAV80+jsGO98YpH/hVhe/X+4jnFOcdyDkILzkLMgw63g2sORAfCXcesG1afBushbQSpqC6UEglESAXzEosOzIFjr1ySEbzV4Q6EE2VWSK2Xq0wNhm7mmSL9Hrd6D2uRw9Ojz81DePn17284tuvrlYFL3DqBZNl75+B3SXFrkOG3qzR3su0vAMraN3yDk4uvTYymZ6IFpQ7thus9q0bKcXDV42shftQnkOsgtfuozxkweN+S8mHgJ7EBQz/uLpIiwukDzANpcgfjaTxTd52rrDE8h5NaIWxJ3e9Ydd6dCvRVPOzn7xh91iY23rkS1ozYN8qHa0gD0AHz/450FY/hz0Pun79CuGgF683gS9BfoNfxe5v8H3C4D46BYfdMZ0t1/x+E9XtHSihezM1oWd04820CdfyzZtWIzSEQbRLx/Aw1/IbvkSFzkA6OSFj84FdaImXJp4uvzQyYWHYG/xfNYad4mynT78Lk4y1KFcuGzb35Cd6c/WgD3RJROaZxPbPcCpdfaVb7WQv3zBK2fym352yiX6/ILpUn9+BKRWyDBGKy5BtGD565crdnbO5gO6atm8MXvFCS1/7AOxc374x4v4amy+814OoT47F8gG5JPdWL/9BMQzHyH78iEE5ITgTMOHpSEniGZheWGxXDjTLJ7XA/21c+FWF/+TTz55VwEjoeBJ4G6+DCnJzQXxgpIv0RKglQTFomW8+YrzrCfdyctZyQUVdrJhB1YbKFuNFYSNYVOYJ9c8W6LRmqcbXfrx2VhkJJMuOlw6Dgb2ZCsftyBtKpeqscLGSx89xQlvMcGLRrE6yLp8tNZtCG/c+xDE/3SGFQl7F1qjE7LPIcdH9vBH2zrEQz4+m5gfDhCHoDWx4SMa/l/SuWCdLDFusxqXhyD9wBrdoXi0oYslG/gjH/yRR3IdIFAuXfwbA/3sQ88e82Iq1nJRnuhiB9580PK7+GRHOcevzvTJLs4gu/FVx2e7xCbd/G3/uHzUAVo29Qt95PHRG6v/kMhfYfgrgP49jN5afZb2hpg/7GWfNRefz/t4xCx7tGj1b4Jol864uWQYB+wwbt+defGIMToxKK7qrUtDP3qxNPZw5J9hFhu+iQ2+9mI5FTdvzd7yXfjsQOOhQb3Rb8+5qPCJI6xO6CJDDNlebvUX+bBjNJ1LbHQh+oVMb8H08EU9V8vsBZ0r1ujUhmwPi2n8fBcvZwq/Nu54Qfm5hAAPXvbpw9aiI5OtaOiLXpzEkX4Xfv6USzWOHm3nCV55MK+tbx2QIQ90qldAjnU5hGiy7YyAz+C8Zv6MC/FfB8mgX/sg9Gea5i7pB7e6+P0dfwZ18GlhBVMRhQKccVpzFTlZ0XBWX2GURCjJEgVKGpqS4/KxSb3V2qh92q6o6aJHccBktakq8mTjs1HMW2cb2oqRPcboQT7hoV9MgHUYD7nWyGN/h0/y2NkbQwWsJYN8/GzqsjJHN346so8P5hwMNoyDxsW3h1e+h/wvBvUhW7VsC8RWjNngMEETkFW8+Mgmdni7tIGLAb78I39h7YFsAvzFqzVXDQA64zOvNVedoeO/ODgI0IhlgM7YQVBc+ehQZ6s184AsaK58incPXGR1AWYfYBMgG6pXsXS5s8fhBNGpI0i3sbxpk1GfXnoAGVBczXeIATXg4JQLeSDPReSy9kbv87Qf4fgEbS/JEz+Khb66a1+YRyNGLn5+8JVN+YyvvNwEl+iMmyNz1435aY4d2RiaV39qyy+zuXzFAw/b2ruwnMpbn5P7hUU8cgPJxW9vQfkVM36LJT09YIs52ezAK49s8fDbA5c44tWKrToqrov5mO/G9JPHXv/lbL+nwd5yTxYsHsmB9EH5Q9OaFn196+wjj190QrUkhsuLb3mTVa5crHjLgflsi988P3pA7wyhWw7tW7TF9lxrjekRB3nQtq9gZyEEcsNPPOjp1xdjMs9IxxlaC7LjOtqbIB4tPMs+w67H21wyznCri9+f8xFaciWiZIPmahVHhQaNBRpW7LC+lvwCV6GEbT5FUWC0NqLPWA6u/dmaeTJBPNkqyeYA3dYgegWvjZZOhaP4epNKtxY/nS5uY/T5UCGRZa0Nas46EJuKEF8bmI0QLR1kaNHpZxcd6QubA/zMpmJKJ1geyMZFQJc1fHzsrZ8tUK6jRUdfOvnhc78Djxy2A7EsjmckA9QC9soLGfjIzhc85rVAn00AjRjme/kI2OkgcCh0UeKVT/VUXtLBJrg1TbYDmJ9yh56t1ugEeLJRXTr46aDf4aaurNEH8eKpBsjtAM5PsrODzfwS13JvXr70AbvI9UDj4vJ2v5+pt+6LH5n0sxMvmeRo2SFmvRHSba48JaM8mgvQhY2LT+MgPnL4ApN/lgHZxl6fqV3IHqDE3DzAr4Ygu73p92+9819tVyPyVHzIsGbsoUmexAY/enHxdSRaNUUuZAf7PSj14xP2iCmd+vwxDsVx8yC+aoyd7Xs+FF+2qAl29VCOX5v8xeJaPwRadvHJujjRR3cPRoDc+NgcP9DH05nJznJEZrxshnw0H6gtcaPPurV8rSVLP6w+YDKhPh/YohUr8uRKrfBrafFnZzanI72t5/N5XV/beGOzawv0JmPpHwTIS2a2kNE8vNW/3Oe/5U0QAytcLchobf01IF6tgMWvr8i0gg7xlLhL8hYUp0LXRkeusQ1oA2mhuTYazA7JZxtedNllXtEqYLawPdn5QbfN5lDAjw5YK+Bo2ZZvxYKueDuIigGd6Q3IpBuyrU2InjxQfDZuwLpxNoHWYfNnXHl8d1l4Y2UL+8UzQAPYA9jvid3lih5th8ElnSB70itW6TFXXOgqb2isFYeVsTSQHeb5Ano76IKzht4vqjmgt2bwkgGSR6dDvh9p4C9P1skszsZiJ990OHAc6HJMB33qyRp7XPZkooFspQ99NVw94CdXPXkb9ynam7yLSuv3M7QuH5/30bRv8i+go8O++gLlHK05KLcuP2+0fPXwLbb85TefiznYXGy/caC/Y7LoKz/ndWBMDvv4xB4+stm8uPHJPBRjtQjE3oXuM34P8vjYrm/OmvrvoZBs8RXrakXOfIKHLupq3UOBH6mIfw9H7Kym2FsuOn/4I/5kPvPMM8dbvlqzTj9f+FBsxF6OraFJFqSLnuSCYljcQOsQH98hX8XPQwed7NCiYzdavAGf2e2hmH30Zwt6+szzoTMOf3Xjq4a/PrGWbXTVmts20N8xqFarwcALI1t8EZOnaOjfOABz1pqjt5jGA6Jf2ujNhdEtpGNzdB2sHLKLg7mgufBW/1a/v+MHjLNpJESfcAHIAG0bKyzw6GshWEPNkYtGizfa6GrpEaCKzQZxMCokc20km7fDCo8CdkC2qc2RmY54tWzo4OMbeeRYqyXHxrCZ2dtGJBckH3+AlyyHr3mbqKd4gB7mI/2BefaRkb/W0wfiD5JVGy7N/QA9v2wWPwPOB23r5KFhD3R5uNxs/mpDfMT1ku5yEILykX5yxTka6xDEs4CH7pC9ZK3dgFy00JwDlK8dnnSYjz5ZdOJ1MfdGIZ9s7AsUfyFQJ+jlzqWJjkzz6OkTo+LWgwE6uc5HdGyQg3hdQi4mtnvA6CGjh8sOcdieICO/ii19dOkXj+JWvBtbR+uQ95DHr3yyd2A5CPJBu/Obk+wK0JKj3fWlCdCIO5/zES+7gDkohuhcyh70ers3dpGLGxpxQV+stYBMfTTyLgZQ/sTIWWONjR4a+l/pyDKHhm0QXfPJ5gdZLia/4OZHEXJjTVyt7fnEdn5Ut+bKlZZsc9rFbACtB+qEzVo1yT/5rs71g2QBdrHXv+qIViyg+LHFulqxZ8jIxnhd+vZH+b4J16dLUCwDdPY0v+SZbrrozX704Y7TUUv2Jfm15K3MIJqF1vPnQQBdCG7ScauL3xs/sHkESDK1io4yWJHlaJBhaM5GdtDAxtEK6MIWb3107JA4l6dCIsOGVGjaikqLZ3ltnpLHF/M9FJCrKNGlt428smw4uvDTj48NoXny40PvUDbvbak39woI5i/6AD265LgUsv8MyQjw5Ed4prkJ0NPDT5dLB6ANlDzrMJ/VCBs9vVsHNvsle4F5NtXGw1d6QDG1DsUIgkv+mJO3UP6yU82B9CXPYeC32z2Y0Ytv6fK33JDDX3bJh1pUB2h7M7SWTnGxXs2Tg45e4IB12KPDk37xTp74q9P42KqmjFvLVvLJwO8yhOTCBfTo0Otbj7/4m4dg9waILzv6CwJfAxzkLg2XRQ+sYoWHXYDusBgH2ZO+SzTAfHTiZN24HJnPH7Ww8dSyxf7UqgX7DV97kfz2IFnG5EB8Lvj+tM9Fb2xejlzKYo9n7U8WO+liq7mtqR4q2NAeiAafeX2t+PNFH/KV/ekC2rMdOwZ4yDanFtWl84qtkA3quAcA9OJIpz3g9yb6T488VFlDw59edNisHvgG2Ip+6z/71sYzZjPAv7D89EcvzsYemo3TV0yLK9AnFx2oje4M1tMT7drV3ELrZ39uguQ/iI7/1hu/oAgY4zisXwILTCioFV6bA9pUzaEBeAviOnGWpQ2tswPE20Z18NGTfYoUvTX9kqtPRsHWdvHjTQc014HQZko2UNCKxxgvW7SK2tuQeYdAfqO17nLkm3l66AT44doGs9/msWn0QXxg+wC/ueK5eh4E0NLDRhd/F4w4ZBcE4oqenWLi0Ad8YW92gFoQX5DNYiPuxmSQa7619DYXJFusq51kwHKXPKB1QD/vec87Dmv+nSFaMsmDZLE/W8VGbq15swD0m4NiGaLv7Zwt3vQdnNlFLjp1qX6gwwqPA9Ub3h72eCB+OsmHfGGPefLEzXrxKUYADdycyH3+mhNDLTnki5evDS695FpT5w5yl0A/9+630sn36Rw/IBtPuEAX+miy5Qz8zL94yjX6/OSPmCYjneVFnvCZw7N0fO/yIt+cnMu1XGjlCLZHzKEpZuBsf/YCNkSLrt8n0LdGrvXshdbKNx+Trw3Byl3cOf1kyqEHOQ/x5Zad1u1x+9o5Jh7oxcaPOsS8H4+wHQ1avOwXVw8OagKvfJjzMtTDc/bAaqp21/LrzBNdfNbpZwfb2aF2+dK+Yys6tiQzWF3klC/QGqAPmDvzL90Z7re+EG3019kJbnXx++W+DXTCSr5gdaC2wQRZUCXToeTA6rKwFk0BqiWP3NZt0PjI0lqTFGjcwWacTVrFAxVVBy7b8ecPPn3Y5Qvw058NFWV6zAGFSwdZeAJ8/AZobXwx6NBgB7vwgjYrG4F5xZn9xZZuNvLHhszXsLjlEzS3fsOPBdAXDxvZ5ci34sUmskF2mAP9DG2/UGTHQvOt0QXpIMt6MeBLOuJJRn4WA62cQbEK0ZFlXX3JL3R5+XnsvhmLdbJhkB5zcgTYRA6ZbMfXGN3mzLp5FwQ+Mhx64oR2YwGM/Yze52g/clFT/ELLF0j2+r781oqf+Wo5ME83LNb5TQZ6fObFBJ0azQcPhHziI360xu0dwAbrUIz9bB0/WoBu/QX0A3rNLZ6BvWS1Rlb2JhvqJyO/8q0YxG9v8qFazB66yI2GHPLExLlABhpo7+OlQwxA+rO3fjGH2eTMsI/YEKJXM9bpZgssX2zK1uRDa6tzwZidbCwudPt64+HDnNyCYrG1kD50/aNB7O4LAFpnR+cdHjWvHqyZB+0T9rCBLvRhsQ7WT/SL1syHjflBpzp0+Yt75651YE5/5RmbZ1+5ir41dMDa2hbdGcwn+0EhefGkB5gzZgu89d/xC3wFV0LWKVAwwK5xCP8aWXC2CNEXzOji7SAt8c2bUwTZpnC0gDybIueNyU0vOv1obaLkJtuGh0GXMLrk6pN7tpstDsM+Gysqm8eTJT8VnQKPlk3FoA2B1saDLs8OMTbA/MMH6M+GM5DPL20Q3/2ATLpcOv1jPmSlD5KVLcWHjfyA7C5WAN3iAhq0csDe4rUxNp+8lRFv9uFhe0hWtDa9HMmxHPWpNvvRhiA96ZA3rTxpyXcIaq1VS+Q35oeWPnXdBY5HPZBtPmQjX71Nir1fKNPHw0Z61QYb6DZPPh4y2Uun2m1dXNHgLUbW6JezYmSNnPLQGKhJfGrBxc8PMvfQjj5f+1pEr8uwHx0Zh6A4kw8bZ294E1iPD+4c0BqTmU9iUEz5zLZyx4f4+YeuuuA3Wjzi7A0Z2sf45RBNNqc3fxeyL6CHzHg2N9mgr0XXQ3YxT29+8fWsA6AJiwcgy5cov2kfb3UF6VUzfPdg2sOpeqDTlwIPDr5+ogPioibVkIckdGQCsaaTL2BtgsXNXDbg10Ybgp0H0YJ0OqPT65zmEx3RLZgLg7PO7AOXZPzfgLPO1UM/aP1Wv9W/f84HBF8xSbRgKa4OtQqGEfGYE2yJFtQCW8FIMHpjLSQ7fYBs45A+NDsfX/bos4FuCIwrIDTG2dHhH2a3YnCYOVhdYIq1okw/yGeIBn360CtwmxLmv3n8bKZT37yCxC9mjdlY/Np42i3k9C9kF1s3RxuXmyAf0IqRw3oPMmvFIHnZZ82m9+MOfhibD9f2heQWE/Ly1Roe87BxcoybRw/jhcA6+dkjx2g8+Tu4+Fbcl/esIzo5kSs1p5U7XzvKn7j1EOhAFD+0atDFSTYZ6gY9uehcqGzS96XF1wgXphpSix4k/RydrmppH8rIMq/PBnK6oNCA/HcYo83H/JMDMsmwBrNx/YHmxavcwWS0N8lC6+HFZ2BzxROSX6zrQzLRwey7CaKNj20rzzg9+nKV/9kq1uImT3xY/fyCyaQHLT5jF549L0bkALR42L6yFvDuPJ5onQFkspM95OQHFHs08mk+38uB1pjMM6QDFlv85Kovdbby0NBHljr1ew39EiMeNnbWoS+2+PigfjtbAbuTJxfGYO2CQTbm+8YpNHeeB7X8YYPY2Gfy3vkezQJZdC2c5bOL3Oyz/v8HrE6wespzcKtP/T/8wz98t6AkqSADzlHAUcGr8LU2uIJv00CB1WYwOQqj4i2IWkg+eoXQGkw3B8mnnww05tA7yNir36a21uFDHz5z7GIrXSUtn/GmNz/RG6NbBHggWjT0sMPBzj59rXmy0bEn3a3ZNGxmR5gOLX/xo4cgO8+APtv107F81wF6KE7QYd3naTK1Z73lWax7+6GLHLC6axeylxzrfC+/2Z9d9BonxzianQ+sky128iTGWhseeFtRv2yE6QX5mQ501a78ikUXob45svHzgS4x4RcaMtiSfgciHkhuMRBLDw4ufzLQWcdPj9p1cEFzgE52WlNf9IZkomO3g4+8vhgUM4gGdphDUF66xMWBHfygE6wd1Z22c4FMlyJZgK/x0pMN9Vs/y78OrMenlW8xC5O9dWCMz5nSWcY+MlY/X82jk1f8eM3z0f6whtYDTvJbpyNZ7Fggp7XGgB458rBXHbHJujX0bCKfHqiOPHTLazKrK5AO0PrOkcE+MvzrhuyGYgPVpB+P+b2YfmzDNmccn/ONfWwAaDqXATo25Qc6/fzOJrIWszNecxtX2Hzjch8Pej5q2WX/eCBxd6RnoblkBsmHa8MlGf+3YHWC9BhX88GtLv4f+ZEfOYIkWEBy9LWSR1EBLojAuMAqyA6JsMNIq1jbWHjIX6fIqA/WScCObOiSVYDmIVutd6gqrh4YQJuUHqAY8RgrcPbrpzd74893tOTQxTdzFUKx4q858tlChjm0+cN2n8a02V5cKlq0eDcWaM4QLfnsRr8yOyjyRWs+zC4tXoe1XywTM9g8WrzG5oGWjz4T8gVddRSYg9lPBpuSUS6iA3REC5onA0TbPGhNmz9kALGQH7aR6UCjH392gXghyH+8HVjWzLvc1A2/zYuDC7bfYlYr5Z18dOU7HWSSja6f67PNL/VpzdtLao0uPFp2k6mv3XX62APps1+0+8affnmA+vJAVjGnm0z6+YumAz3e9Lefqw8tHjLYZryIln341p5dvx/ggwC9fjKbA108xtkkN+kK8h3WJ1PbHsJvrTOusbjSQy4sBiAfQ/PZqy1+asHFT9bWDhp99VaeydBXS1Be1J6XCXLSQbZWXOgD5ozJxku3X9K1h/ngQcaPw/y/Dr5A+fGTB1Iy5X7rF2jJoJ9M9vWQyRdr9EWvT0a2gWJjDurjSx/EB9gRTXKSlY/6zQF9dtlT7PJwRT4gVz+d9SH+kIzygWcx+nhuAnKC1R2fPkjvYvEFq+/1r3/9MXcT3HPxv+1tbzuYEwQzKKMobPNLhoSWDC06kIGQgx0OClmrWBWxA643FWsSYp0Oa+aNJRkU9A1aOhYLDGyzBvr5tj5lWzTRrV9ostmGp4scwEa61gZzZIoTO9u45ELznjxttOzZ2MEgHrDzgbn00X2Og5izn6/G6NdWthcHdnqbgQ4Ac+jR0KEfvxa/Te4zoY1fPVgL2G7eHBl46CsOxRgUh+Rrmy8G10E6l3+BXvGG5cPcxr8WaNnJZjbiq/aN1awHJDGVS3Ewn//JwS8H1U7yQjLNO2zFHS27klGdZac1Muitxqu/8kQue31lcOGTg5cMfGiri3jZreUfKBbVgJ8DQwdnsvuS4OIxR4aWDPziDMtHbbbkEzivPwhkY6C/8osxueLE941b9GH6Q7Es1nJULNJFhhohTzzRoMVjPT/IDZcfihk6MfTJHY3act7QZx96UyUfLTq+ZU/6zMlNX0K1HkY3/2QD9PrFyEXo4td30fuTV1/G5C4byZRXfPiLfXrtAYDWw6/WWgjwhNkUnmmMdx3gSWfrzcFAv1ivz/wRM/bZd2DlBMlbTB7InuBMexPser5d4mtu17TZUQzgrX7G3//HT0CbBAqUwm7DKG5GSmgbyrjAxWesEHbdYZBs8iq8xgAtMJduSVLgNgK0CbQdjlooodHsBtWSB/IRJD87FtjZ4b42djmSb0wWJKPNhwfg6TBAa10L+En+pYsf1C4Um0tr+MlmW/aJkzd3B4Z+cXOYrE3Nu5TMm4N9VibLmC/FCuqrA/Y7ND760Y/e/dO+M2Q7ncUQ2HiQ/flVHOiobT4510Eyln/BOJv5Ixb85x+IZ/n5iVZfbvFCFx5ZYidOaByw0HyxQouPDvHle3rxWDPv9w4cuPKAjwxYjW1cyoc2++RJC9CqLxezA87hX+zps4ZefbAfn59Xu8Ah/uQln1892BlXP+WTD2yvlsybM9YHbC+udKxvYOPe3P0AXTwg3mpLDI3zI9shvnjCBWP2gfi1wHw85IgBX/mMxhy9MJq1cyE654E/fSNb/MWNnelVS+XTuL1Nd/lFS0eXPpn9g1Fy64sAGVrxUQto1Yp1//qg/9RJPdKBJvvUjrb45SeaHgLpF3PjYn8dJDdMPth+LSh+YoQGmFtsrphDMsypTTETF/aaD+MFyUoOOOc1WFp4P1ia1X3mbW7XtGzYfWN8qzd+v9VPiEDCir2ic6na5ClfoFRAYMVAVjKAsSJQuB4IehrV7kFq3BOrwqlVpIrYGlSsePZgBBskOrO9xJGHz1o2Az6bt062MV86rG2oaMky7jBjgzn0gA8VvHktsF7SzNFz3cW/0FxyzjTGbFHQ3hYdBh2+bC+HsPxANOgdGtbIWNk9EHQAocFXLNFWLw4MB4uLn538X1nm8JFBH+S/AyOIvjigr22+GFwHyVj+BXE2p6Uf8E+s0IuPthjlb7GpTvDz1WUJrPu9CLKSmw48oByQoxXfHsz87NS/r++BgM5iiLc+eWyBHdji7qELjVyLK0CvDu0bh76/ufbPDvPPz2t9pZB79W1/+fmu/Rc9m/qtbb4B6/5ZWReTXBfjPRfIb1zcqh+Q/YDNfIL6eOLTmnsQQCdmeJLF/84JMbTGNqhfXvWBNizmoVjDcmAOnda4OiFbC2rPvsH8XyDfmjPOWzc+9VHs5JXM6k/fuYammko2XnTywKZzPMXFuaNu5F0NWafL53x/nif36PlcC8ijLx/osqZufKlQI2wTd2dpvqPPtgXri+wOosV/BrTWofUzWgd0spfdwJqxc02/fUQOnpURFr/4jbM3iCbctUuQPJCseBea2zUtfd1j+fja1772WL8J7rn43/Oe99wtViBQCkfRaa1lIDRGE1KMTgutZ1CBktQCrS1x+j0AKCLritMm6EGgcQ8D+xCg6PDgJctc8h3GDjHBUuCKky1tKPNk9USMl81tNpvLgQrN4yVbm2/s5psxnY2tadHqw+Jirgea5BV3YMy2ckIuwAuswfLkEO8wdxgsDZ7NAyB3c0QOWiCO0DyZfHcxWo9Hv/yh1boI/XY/fwBd2Z2+7DUv1tr0ZmvYGF80gNxw50HzwJp+8vTLC9/05cB8ccs/dmpB9a9Fy18t+fLHbzknQ5zUFtnqSq2qYX6WA3z5ZM7l6u3KoZtdyUdf3Ogiy9uay8HfTfuFSnXtdwPUOhvFn170wN5Q23xVz/2b9Wz2QOASAHjpYQM/2FW+5IpO+0frgaeHVocoHshWwH7Q3skPYI2P4gjESZ8uyO9iBBrDc1z08QBr5rViwF/7mv98sJ+jre7IKJ+wek2OMTSOnu3lCGjXJjr0W9t1dunTqYXJh2IhtuKsjno467zSx0NOdgBzQXLJ07IJn/zIPzlsNKdPdi8Bzko05Itb/pOTL81B+tUa7P8uIFvtdQ4CfGDtLUa1yWvNOL5akG501Z0+XmgNmIMguUAd9OO59ij5dLJ57UlG68lYG/jbPDpobD2+eMNsBM0tJGfBmC751OeTfvvu1a9+9R3K6+Gei//d7373YRwhFRjcImacMZrmYcVeElpfOrwZW0AEWWsTLJrXKj4tenzG1mrNBWygxxqZ9NHvs5UD0Ry/4lPo5hwMsENM0TvwuvCLAVlk5i+b6OpQN0c+2Q4cdoPW8JEDFR5ZNhZ+QH4bsXhq0QHtIiAbPXv37WxtTmewMthUbgIxITe7e3ASD+O1KTo+uxjEsT/pKwf5kv/m2GVdvPFHt3YAY4gX4AmDnYPJiA+uP9nDBmtsFS8XJz+tm68F5BpXA3LrwMCnBhx43nSsmXNpyjF+6/JMRnmh05r6QufgFWdjdCD76CVXnVS75snpwEXjLd4vA5qnz8GbLrXNDnvBVwUHPL0eIHwFIL+6q360+QDoUddqjL36fCabHvsJD/p4zHfRmKMn5Kec9JBuLp/PdAvGuw5qraUbsM2/Huh3T1ym3nD5TB/gL54wOYE5NmrFsXV85stFNmv5vDagSYa6EVtzAA+0Fg/behMXOxdU+xoNn/wjOR42+SIH8o2vS4weNrKlFi/dWnGWQ/Wu7j0Eqh20IN82JtkKyWgeFB+2sIH8HuphgC6ZZzyvB5d0QbC8xThorfXWioOY+trGbrXcHiVneVZGfWit9bONweo8r7d2P0hfKEfktbayX/Oa1xztTXDPxe//4ydEkQiM5FU4kHDjLabWmof44m8dcFRQFaUi1UJgvg3icIPNL5DFxpxNphaSQWYXKlTQEuxQdTixDS86b0veXiSezJ56FYVN5+BDD/mGL3+BTeayU+zmbU66jdmVnejjE5f8sk52er1x9sZoTj/d+MnCm8/m2RrvHrxoQTFqLh/OdOkQQ/nRWvNA4VIiu5zGI4bJ57c4iom4OVTYhL9/cpZMyKfyBfSzRT8whtaAtTDYPsi2+OJld7nkx9an+PkHc9iKz5p4bHziN8dfNaqm0HrjdhDzH5RDMoB4ip9DvDd7/06Cv4d2EbuQ+1qDt5YMddjlqY7Z6I3dge2yN1YrxVs82Nb+6sGAPvTyxFZzeI3lIV/NVwv80/K3C8Wa/FbrLh868UZf7MWLD2jNLeIht9osN+BMt5CuENQm01jr4Yfd5Ioh+9rT5bcaDJIFkid/fOVbccr2wJy1aED8dLgU1Yk+2tBYXNURWn1nksufvfIsv/rkecj0pYe8ZDtvPBDIBR3m2ZCv4l8tNq++7Est3cUhe8hgH8jW/Nv+xtFZWI108QfFAiTvjAvoyYVnoMt6oL9jsHLpbd1YX9sDVS9+6PIvmcmIN9z1tfO8DqyZW2jtfpA8yLbqqznAbjF53eted4xvgnsufv+AT8ZocwZS1kGZUsltrDUOo80w8iooBWETOZySFQ1Egza5YXLXjug5bnN2YZkDZFvDI8HWbQwbq99At2lsDgcn7MJFT481SF+Qnw4VbxIKhw50/Ksw19b8wWeNbeaMO0it4wXm2KI4tW3+lemCcGG0RoZ5NORvbM2nMzzTiA+fOqQ8OLmkXEzsSTce9PkpxvLJd/G0zh5xLKbZB11g5JXrfM6WIPvYCugKg+2DaOODdNJX3tYPrRj7pTqHbHOtJ0eLF6TTnAsFrZpy8IoBoM9FLH7+HMrfQPstab+17xIWA3bwXezEDX9vpQ54b33qy0XtLU/fwyqa6pp+MRZf9UeWNTaRzXcXvAvYvvOGTwY72VYe+MYfQC5Z+QbYh4bMYkyeWhEPDz1qRv0A/GwSW/KCYomHncD4Ojzn13jXQW0ytQ5y8dPnh1rkK3/Q8LlzolxnW5A8n935VizMRysenWf66M2LVfzmxVsO/W92YgaKJVp0QKzY7kczcqcmxRGyV+7Uhj759iwgxxyZ+Wbf8R2WDzWp9tSMeLCVboiHH1rzi+kId41OD1nqk83W1Yv5gHz2guVNHrBezEB6FlpfWdGD6JMP2YFmx8VNfQL1m8zsgPGA+nDX2VltBK2D6/x4EFiddLRPIT/yRc5u9U/2/uiP/uh/MZYgQpujiAMKU3IZAKyZgwVAG1jPQMFPLtiCx4e2IJlPjrV0FODsSidZ+ueiVYDmbXybSXHaODZytA5GT782iI1BD3laGwZNNpMF6TbvIHXA0CMueED2wGRlvzm8YMfQIeJBQiHamDYpmxzcxhC9cW+J5uhIVrax2fw5ruaK78ZTTFw6Dm8HlfjQ7w0zH9IBkgcdGPgcAMkudhC/sY0G2U8nPV1WINnWIMhO9kSXXGuL2QeBMTnVIFg6MuTdhcxXdjYfnX72JC87+BQP/x22Pp36SqKuHLDyxF+85dcloB7F21gNmfM7Ev4Rlf5CwjzsQUwLPWio5dbZA9WNOLFJ3UB9wA/29mC7FwsQn2jwyLfacvGVV1h8HDjNQfxyKT708pssgD603lxxba14g+gWmtPSGV9zfBcn+9IDElsB2r4C2qvqTqzQ4FcDQL+8x9OXQWeEmKBJl9zJIUBPbg8C64s5MSQL9iAnx+bZIn7iLWZiS7dassflg9342NKeKR76gE7ANsBmvOpQTnoQKNdavJDf9EJ9Mqwbsx+Ue3og/dbVsliqLbLUaDmC+vEWX21YnLSL+Vd/cefZGRYD8+kWg/YBED+04mKfir85GGRXuoA+pKM9AsXUPmrv4CtGxsmCyQHNNU4++s7beNJlTW7yoTy9+c1vPuhugnsufv8tb8oFC2QUZACFZ2RI64o2ZzMWkEsmQxmpbz0n08v4EgXJR6clky7ritC6tTOi6VCTBLxtHBsN9gt+ktVnVgdzT9YlVLu+ZAfUt2Ed1OQpHPq6mAO8Owb5m7zka8XAOt1scZG4KCsqNHhsMDaz01ibHjIC9GJuc5IbHfnmxRK9S8ubhtY80IpjPz+mB1/2list+fIrDmRmJ11hm4JMdoiVvjUy4CVIDjuLTzHMluB+Y8AO8Uyvvs/uDgB24clmuDKaq58/0MFKjgclNQfEQlwcjGrFwe1SV4fk8kfcXQAO9Npy0UWFlq1kFWtovYcntUIeu3ogJIc8B7F85ruYkquGXP7Fn//W8VoD5RQ/mvWfPrq16tR+8vXEQ5T9Vb2xP1wgTy7NR7dQrjfnZ8ie5LBXjL1Z88OcvphbkytzLuxiA7YmyOIvPv9Xvi+E4ismaOQdHX4onmIrTnLibGgfgdbZI39iT6aa0HoYoEu86CkW7X385PqLih702IgOtrfoNK/P1n6spDbN05tdZITW5BDQay7/Xej86azINjzx8Slb6BBTMgAaYA3gTUYIkgXjXVqQTnjmrTW3dGBlJF9MxbYzSH0sn7m1sxhDfWewBwcoZ8Y9WJEp1+Qbl3/5hfWTbz1sLtuBOTKBvIh3eQve9KY33eldDxc/9a8y/VpISUmhWBGYY1DOwAyHydLiYyxefXMOjMZkwehBuskUbDLRdtDEgz4eNgiQwOLTt3nQ9SZNZk96EC1A22FlriRnhz6ZZPHFW4VN7+A1J/E2WFAcguzMVkBuMUgP/R2+CoqtNjEdNqADgIxs2rivfPTkukAcFvr8Q0eGTQ17S7Fh0ZCHhkyxczE4yDcPYP3gAznsI5Pu9R0Ys7n57C/+5XUBTb5Zu7S+cB4HzZPFP2P28lneXVYeAMsxfYv8Cc7r1uRdrNjXG7zLpy9CYiLmLmJ98WKDMRoXvosITQesdfJB9qs7a+bFq4cDNeLhrHzxw2XyS7/0S8ef4LlgoDlfFPZ/UusXCx18HlDYppbFRYzoU4viFsp9cdQXEw893lA7AMmsXtCFC2KH33x0C9a2zs7r8YFoe4hlk7plu33qSx96NoqxS1QMohdHPrFbTZLlUn7/+99/8NPTYS424iKe5ODtwCdbLO0F/sPs9EDW78yoiy5IrViTA1zYnWHVlbx9+MMfPmjJYp+2GBuzzderF7/4xVff8i3fcvehTi3ygU18zP5ksK8aVxP2hZioMTTm9NnnDFUj9BYnY3LVYfxaYJ38MH0Q1KILATrQXLUSrgzjoLmFdAaN+eBstX+7H+ixTmZ7jZ9iZo/1y5Bqq0u/3KsP/eqkcfyL5uiX4zCfQmAerfiyTR7E+xyHW33q75f7IDgHthZYozgDQMWHLjkVUgYKInoFobVBkmFtdSSnlvOAzJXTWAvRClD646XHxiJPkm0ICRNQstAqAEnCz5/ksD05+BW/w9tm8raPF58DT6LRLuZ/NpKx8SCPL+TTqa14tOxiJ/ou6o0ZxJM+Y2uQbAUt1nzis3kHADniEi2aYoa2GChyh9UWasAP+spph2g+LpJlnoxs7hC1jpcNC9GxKZ8DPOYX0F+C5mvJ4Su7xdnP4G1otqAhl9760QNzyWEDyD75caBDF41xB6U8OsSBOYej+pEffTTJhuKUf+wypm/1myOX7R5iHUZ88pb6wQ9+8HioYAM96TIW6/aPvLho2OC34NnmguJ/hz87wmqALezCb0+xgS3m1JncAjzr1wL9+RTdwuYbnNfjA+SQRz9/PMx523U4W+O7GLPLJchXl6g40OPhyzp6MtSiB6cPfehDx7wxvz0gkkGmC94DlbdicZBfdMZ0sGfjhkZs6dAXX/lAR4ccyQ1aMUXDPg9qzzzzzCGXrOKmj4Y9fH3JS15y9aIXvejwn09+p+AXfuEXrp599tnDV36xHw+Inz70ZIL2nPOH7HIO0BUz85A9WrT6aqazPZnlThs2BvljrKUPpiP9+b4y0gGaC1YuYBMgB9r/6lYcxN86Xc47/oiBfdUvyIqfOJrvQmYf+fGZoxNao6PzE+afPlpr53VApnn8bBX3YmqcT+hv9S/3PfXUU3d6/0cIYJh+Qdam0Lw5fQXAGGMBYWgByAlrHTZk2Bx4oDmYXi0+PPHiIRNGA1e/tnk80EaUPPoa21CQLHw2Xm/rAryJDNGhJ0dx9HkuuQ66DstsDIpbsSNfy2ebQ598fTR0oxFLtmv5RJfLmnw0eAB+68V65WWfXCju1ukBbHDgQ7TGeMWSHvrFRNGLnTn2sC8Z+ZtODxvpRlNe2AFW//qiPtiBHqChZ20mI97kRY8u0McLiiVd5sWiMd388gt4fuMeLbnJBnRvTPM3efR3ueeHC8FB6wHLYS0mHSBqjQ3e8D0gkInPHP2QXWJvjg662KSfD9ADmb8M6MGFPm+F0KWiXsSUjuqNHDo6jOh2EXlwwI/O4UYnXvT4euAUf2ta/OLnQbpasY/4ioYfG0tgXEzp4o85tGdIXxgN+myoNkCtNXKN+Srm8tQbr3m2Ajrkh2z2aNHLn7d9DwTAGhniZL/LsTPAxe8MSQ9+9dAncna099glZuWYH+pFbO2XYtIFJO4eUFz67LCOB6phoG79m/oveMELjod0dfWBD3zg6hd/8RePBwZ1wG561Ei/rFvM5U3LPvLZBskXp807uvY/ekCOsXX89IiHmNK7dPxBB82LBXni2b4w37knXmRrQTrQwGJhHuifYeuk+IH4+aZm7c1qwTwbzImpnKtpcsQD8C29coa31lp2ipn5+uzR1qcrf4Bxc7X0tIcB+dYWbvXG/653vesQlsGr+BKc5/FwOF5OSaI+owt8fXoEUB9NCY5vNwfMeXQVnn7BSq85WFDRKqj06it683h6o3FpK774yYdrP102lbcobw8K3Dpb8Soe/XTX5nfxlbwKxFoxTweZkJ2KDShGKGZo0RUfsvaS1Qf5sTYF6cbbxbB2ZJc+GxwWNgFZ5LAPZCtaoHXoObjITh75PVjEs3FCZ70HkGJhHWaTFoJsCKoFYA2fPMPqqcuJTsBeaz5Te5rPtzNGK27JpY+t/ayYb2TTgY7PcsYniN+aeNIJNu7lag/l/DdG07wL3yHuLwVc+nh8YfjlX/7l45OwCyd6dpJbHIqBvvUOMheIfYDOus/+7Mte8+WKf+UCksN+tPYYHWjNLwZ4+F09sPFMA/IhFAtQDZyh+ZVFBluKK2RnP//usuaj1l6GcubLiTOiHKBRJy5yXwLe9773HRd8MfTA5CHKQ4PzQb8XArbxV+ys0+WhiS1stG/wWCdP38OFH0ewAZBRTNSAt3uf9OWOTA8I7FKPxRcPenz+bJX9dENxl7dotOagPhnVKB/4jx4veoDWGhp22/tQ/OhMNsDHJnJcpn4fhk3q2MMjP/pRFb1QPMjWVncLdKyeM25twbNNWvl0vqlb2D3BDjrtJ/nhE/vZRQZZxSdEn+3lG12ArxjTrW0+m/RBccZPdnL0ow1udfH7t/oTnAEZdgnMo8vAxut4DuekZCsQB4jiMcex1uuTBdG21rpNYrNIVInJbjR48MZjAyskugGeaBSpww30+a6irsAB2ei1+wm3CwqgxU82LDZ4sq/WZbAFcfY3OraSaUyXmAborGu7WMjEZ04fHx365uiI1xrsYkKX3uxuTjy6aHpzuSQvf8gTI29DHpDosHHEmx/pgWRUD/rW0YPNZTYVV5B+EF1gjL8YQX5A/GJJl9ig5Zs35+ryEtKPHpCLj0/87A0bDb0ODshXuvjk4MAjhtY69MkWO2vsY0OxAVq2mlPPLiv/lroWvUP+Ix/5yPE51yWhNvlIrjpmKz1QPVXb1vFnswdXqM/W55577vAPHxlk4k0ONCffZMgjv8yTS06xg/mDR1xCvpGL5wxo8YVk0gVbuwTLEx0fAPvZKv6QveIhL/zXNwf4BuRdDr39VSfi7csfW8g3x39+8IksOSKL3XwlQ0zl2xt8XwSAy1KtkGUdncufLD5AutSAt/tXvOIVV89//vOPOb/H4S3fjx/ZylctnoAeD/AufuvpEotsYKO5gB3k0LF5NA6N4+cfv+x7sqwHyaWbHWrYj2PEvXrEQ59YqGM2GjefvgVrYO1bPM8tGFd7cqs21L6HKK38QHUA2SMm8tk+IiO7xJs95QqtFp+2eVBuip0xGWsvPcnEF6+x9YVb/zlfAdwNm3DKF4PtgzYvhztYFbCC0C9o6CRc0cE2BwQcLGgFA51gw3jMlwx0EsGmAuRp26FuHl1r+pJrbLP2yzTpYB/Z0euz32c9v8yjKLMNDf0KusMlvyG67CEn//OXDGM2NkbXoZS9ZKYvOXJGR4VqrHitmfM2aj5b+YZXX04UtTxVWNVA9BB4Gu631clmLzsAmvihWPRlxAamJ11s2Y1FN3uKNzl8TR7Z5suDdvUG0QXG7ETLHgiMy83q4ZfPpeKNd5FcSEaHcLnS98bn5+na/OKP+nZIkynu+OnKTnVnXc2RBegzLh7mjV0ijzzyyPEzXIcmOfRUj97yHbgOJ7Gm7xKSSQd+MWATH6yxswdgb7oufnXO1/jXb7wenOWYvWx0eNoDdKBLX4gvXshe/PlZbBaW3zr+8pb8YGnDeOhjZ3z5wV65Yrs60DfHVzaJB8Aj9i5ddsu5C46M5KG1b+XW2z5Z4obGOnvIVUfGarHfN9Ba5xt57ITm0OLzdtyFzxcPHt7wPfipB/TJJacY0M8OZ2E/tiufWoAHok0vGe0TY3aB4h8dW4D6V5P2P2g9XnQuezFkS7rZDMRVHNRyXz9ANmnJWkg+GdnRHKT3PA7xkMsfZ5x1+8nZRb94sCFf9e0b8+KSTVq8WmvtQ7RyXQzRkoGmGJrL5rUNWMtnPOhB+Vi41cXvv+XNgBSfDVlFDKA8A6wLYsE3jo7zilIwLh3qFZ9Nspsup7MLTXLTZa3AkgfJrmDIswlt4A57NHjQSDa0ETpwQ3IgPXTjV9D8IIOdNnr89JhjUxcqfdlPJr9q6xez+oBcB4e5bIXsIS//yXfheNtUaK2xxaHdWwTATy4/5cA6O/FYMwf4Rq95ffx8tGFdVOccBOitacWITTawMRl08EUc2aombC560bCr/LUxkgeyBZiH5mrPUP6KGWzDtonSLV4+N/ITkLeYDfj0+U2vlg9+lsrXYs4/sukoRsawOOCnt5ygtVYtiHWfQ1/2spcdb0guVzmjz6FPp69QYk1mMVOH9LI9efobq/IgHnwi2wMwWxx+DvDkksWe5GrZ2yHtYdNnWjLap8UnO+hgX3bQaz/11uzSpduaMbpsrV8ekgFbuw7xRMuW8p8urTxAfrA/FDf7lL9QLvgoPi5+8QPsRevByRdGe1dezW0MsoNOYF69uLjtGfRksZFefbR90n/00UcPG+XcW75f3vPwxQ60gL+QbC29+vxhn4cXvua/mqMPfzLM45X79sraX1zNV9fQjybUA3usk40e8E1s1DE7+AfIB2pNXbt09ckD2UVnyBeQfP6Rn33ZCNCuvc2jiYct8iom8iCm6NlAR/38FS8+2vv2IxpjvFrngL51+wwfmmToN4bAfAjohIF+9uZP8/BWf87XP+ATnAsVFDCQMnOMOQcdkgGjl2AoEBVUTpODtk1m07hMoTH5AoJ+A5hcYzpbN48PP14JNWe91kOBgxVNGz5/2IIO1KYXrUNK8eLXKppkoFMYgDzI1nxMvtbcxqwx28nqAhUzcoH1YmG+4gusiWOFia+CpFdsxb/izK9szBZ+p8tB5k1BSzY50DrIN3Ig/x1oNpBxMYf0kQmrBfTFvzoBxQkkJ50AfXgGtHSUv2xIv34tn7xNubzOshrjZ6e2HLKFPJekBzC+iLOWbx5uoDchY/xyYqxPBr9dqg5jdjR2QPvTLL9/IO7ofcr3Nu7icenKYbXBzuIF2aYlb5EOa8UTLzpvYD4DW3cZ+3ENO61D9qlL6+jVjkMaDV6xswfSDTc35by+GLko+CNm7XV87ILxr5zz3E0IklNfvNgOzK+tgP2g/PLb1wBov8uD+MhFtYNXa93lVi7JWt3p0serzl3i5BkDLd2QLG/4LkuyxcvvcdDdhV8exXT9SU9z7HHmqavOw7Dc6AO6gbnsIicMWo/fg9y+bEQrDmrYL9F6uGSPmsIDnHFq2o8q9ssF/mzULy6ADPXcOW/PaJ1v0Dzks/O53DjH1Ln97kFOXvGhI09OqvvioV0/2xP8bM+rqfa7cfs9Oki2dv2CaJK/8a0fPd/5vfPBrd743/rWtx6CAWEV7CoBzYEMUVAChqfElBRz0FiAChjgqL5gWIP65ulRnBLnMNGnh2x6C6I+epit5ujuDYVcATWfbvJc3jZoduPXZjP65Jfw9JCfXdC4lk78bKkFZJVYMtJjvIhOy0cF2FMj2/Mj0BcXtPzUmiuWzbHbGD96fQUaXTLPtkBgI9kkNg8/2V+8l448utjK7r6QkF8c04WfbvZpxcI6X9FGw148ZMoPXWvvTZA+bdhYm+36DgBfNfh3hvSwsxpgS+gQdgna8OzkE7+hQ82DWXHmDyxOZDuY1KKaFWOx7uefYuqSd9j7JOx3CujpcGELueKn/oqRtprMTvPo44EOPZ+OHcoOZ2suI4cw28WK7douf2NvdtbxezgRP2vpSB8dxR4Y85399KgRc2LSWxco3wvkLT4IkL12qMt+OZcOWG3qa9nCF5Av5qp9+bR/oof2iIcfF0sPQMUgW7X48YmhBzd1o36MzeOhx4+eHnvsseP3a9jqF/f8lQHb9zxgOwR4sxfkuzltNmrNQYAfLQTNk9/5E03+QNAccF6xjy/mxACoazWtTviWLjLVkC8XHn7Ewzz9WpCu7OWbOhQXsSbXg6cHCi9hzvV+J4mvLntj+0p9q9f2m71hj7Fp9w/77bugHEPAnnwwJxd8Ka/l0lp00cLO5fjM8U2NlTtzoNhaZ2MxwAeSfas/53viiSeOlsAEF+wUA2NIUWPBEjhGZ3jGN0bH0ZwFgsO5HCdTQDrU9KF1DtNhM2qTzzaIX8sWNJKp2IBN6gBWwOR2wGrZVYD1N/n5mGy2k6HdNf1k4KOf34Cs5PKDHfGbQ2d9Y4yO3w5Eh4uxWLG9p0l89JDvkCnOFV586Vp78QCbuRwExTNsDtg4NpfYsr28Zj99ZBmzg3xP/w4C8yuv+EZvTCZ7yz15aNGgjS4+6+buB2QUA/3sAPr01vcW4AI7Q3ziRS8of8YusP4GPvn0lY9slSt118Vgnk+9kfhRg776FAOXr8+fLn0XrZoQI4ifruqtvUFPcTWfLUGxKB7qweEIXQh41Km3S/kD5PFF/h2cbLOv5IqtDtY+1ZNZrgA9/CTDWrmzlxz2fDGPHl82AOMFdIsPAvmpTTe/XDit8UfuXFxa/qNbXvEWK8g+cZBH/suZ3Mmh+mmPsD9+0Jhs8extXyzZgMdl9vjjjx9v+WLia5JLXy2IFRnllwx8ZEL0ZGjRZD9a/c5GduNtLdq1U58+dcDO8mRtfYPiAV3ckH+ti1c/KhQnQHZnWp/31QObQHpgYE59ibE3dvUqB3xiD8jH8gRbY79Y0etskmc6O5Ozuf2ElrxsKjbZZhxWK9UXnmKK1th8a2Q3h06+6GQrHjYmI7C2CIoPm17/+tcf/Zvgnovfv9xHCGRE2BxjCM/pQL+kCzIeNECbkRzkrCBrBRpwbGWi47R1RSExUN8c+nTSpxDSYc64AxBIMEwW+TamJz/8/BJgMvFUKMYlkn1o2NVDBHmhOQcG1MebTcUjWQ5uGwPQFa12ga8OJ7TZR79LlH6y1laHpc1MH5vEGA1e+vXLYbrIg2Ji7QxoAzTiY8PZxPrkhCAZxujZyV+fwOkBZIZsAtUZfvayXc7IQAOze+vrks35GNTXJqPxArlsdJg4oNDB+MjNnmoXD5QDeXeAafML6OPNVjmTK5e/AxiKJ73eUNQwO+TdhQAdutUv3eULL1navl4Z08GuWn6wcf3PJrLEvDrB7yIzVn90F3/7yqXEXjb21qzu1AW+YpLedBWT/IMuFJ932+vy7jDGyw76QDkgw1pQTD8WIIceX03UpbiIk4cAc3684QELorMuFsWcfrbr89vF4ywRE/53qWr5Wg3h18dnTKYcu8z9YqazQ/78LodP++KJ51d+5VeOT/tiVY7y23q2mE8XBMZiVv6Knb2Fz7o4ZxdIDt/FxJcIv0sgNvSJVXsfD5vIbyyffb1IHp7ezuUUvZzzuc/7+mQBssS9Gsonel365Ih5uclH+iHdnc3kdodAZxLs0hcLY/aQRR8b6TPP5+IOilP60o0vW7WtL6yMrYfqXZzwZTu96NAkd/Wor+KkfdWrXnXIvwkuXvxrGGEp06Y8mvrW0VYQGdK6PhrJKOgFk0yOAjT6raGXDG0oSQ5WLZCgNpnACcSC4HWB4C9BNqlNxjZz9LE/GXxAl8/WFQpZFZCCcqnZHF38+n2GI499dJORn/xHYy49aLXmArrR0isOFYUxX2xMPNmLV59P9OMlI1nWa4GWX5CNZ7AeLUBDv09nkJ4wOvJD9FBsHFrsKQYrNz18aYyvfGUbmcb0oQ3jTQ66BXNnaC6eUL2oJ5+8HegBveLU4aClh95ibs5bucskP0G62hdQnalBD6AOMQ8aDjKyxYoMl8LuFfmG+mJDHjn2HJvVB0B/jos2/dlTPIsvuWoYnUNaywYXoDV+utjY661NHVrH36fV9lRILz1hoD754MLriwLdfLeHrHWpkrO8gN3N5c+DAFqI3wWvNumwH/1mPHvE3sOOvS2+/BJjMcDrrJEHNvJvz7z2PD72VxvpRg+BM4QNLlUxUA8vf/nLD2STuP/cz/3csa4uxTkZgP/8qNaSnY+A7vjKR/Nqr5yRES/QlyMxYIffwRAXNZ48oBULtaBWoQcEORQTMRAf9eKh1md4/NUyvn3AEjcxVGdQ/IA1cSVHrZknp/NdLsjQh/SrJ+udzVpIp9hbY+/2teLKZjFIjtybvw7BxgRuPJtbqGZg9xjIJv5U52ShWznNG2vJ+77v+75j7Sa4ePGDLSaQ4PqLzVEqWLsJ4ILglZx0mNMmi56dl9wcJFcryRsccwqhyxPgVaTo0ENy0HmSVvCCbY4OoOjMsTtdAI0DzlOswiGXPH6wQUuGeYUD2cUHMkqYfsjWDgXjClx/YwHpIgutlnwtnfzEK+767MdfEaMz5oMWrj1k5P8Zog/IYIsN6XM4vTA7lzbZ5sRC7Byul3Qtn7jDagDQW5tMyA9YrpoHtfm9sHQLaMubQ9gvQJFbDOnWh9lHv4vAGA0/XV7ilH1klGsg9z6X+1lnv1hkzcHqRwX9WZ566rBTm+TLa/ZAfO256m/3F8i2bNFvvjVtNa3vkJZnfZeSuNDDVzY7pNQ+W8z3ebv9Q0+6xDUE4gjZ6hM2evLQO2TJpbdaoBMN/9prxuU2fz4WIL89Yk/7s0Wxbz+LhTW6+cVHc9W8NeP8hObRiQGUZ/YXA6BFK57y7WHD266HPp/2/akmueb9LN/bcDXP5nQl09rGYdfDaMyD5vklz+bpZCubrYmv1pp4qIH8NQ/0oRoQDy09fEPTw6AvWS58OeYD2ujJpNPDhzpH46EHir15ddicMXo+0UOOnHWpu6ghe53Z1rr0u/DlPd6wvEN1Jpf04evrBdshH2Gw8ShmcOma14bG4mxv89FcvrAvfebRJdc4udpkyd/3fu/3HvM3wcWLn6AUBikElCw2V9HDNixjtdGQKdmcyuAcCFYmndHleKBPnkRJKOxAWBloJFJfUSlGRdjTZLT4OrTMszt9CsVBrJgUFXnnDUePAiph5vgKyCM3H4wVtQIGZKUre4xh8QT0KUA+t2mypU1XHrJJXBaSG6DJ3ku5yB6QTH44MMSSrvxKLjr97GITO1yIbF+Ip1hWO/GC5KOhP9qzbWhq61+CMy8gE9IlpvoOLXVS/Iu5lh82KSiX/FQjPs2zP19C62LmwvcfqPiq4AHDW5WLxz8A5IuBBySHFl8ddA5Oh7Q+/WwjL5v5Wl1oy6k1UMs3mO/m2amNnh/8o8tlzmY1Tzad7PfgjI4u8uwbfkDzxb8ckBsCuujocMZjb4qj/SP+DkOy7T1xFiMPCQ5h9GjJJ+tSPm+CaPlEZm/6+VPu2GvMJjkBvnS5EOgF6MhjC7tCcbMGrYFaer0V+4Tv0reXvuu7vuv45UqXlP8bwJq4swniXVn0lzNoPiwesHV+sMl+1YpffNnamvliVH3IRz8C88VHDNKBN9nlUv2oh85ZNGj5Ip7yKg7QWD0kJ7lQbZlnhzFQH7Bawet8cf4m0xxdWnT6ZIR82jEExZQf7KfTRUz2xnttBNpz/KNt/YxyQo9Y8rFa7/xBEz8wLo6wGkwPfOUrX3nM3QT3XPxPPvnk0SYEcISBKYPrINCiURySvsW/vECAJaEgkpM+iN5cRSDxFdTKw59tAiUxwJzEA8VnnT62eaJ0mDm82EmGtezPlnRrjR1OLv6KK7Ceffyylg9Aaw1d8rPZHEznGdlkLTtAseMfn603b2yNbH4rJvMdHsWsPBT/MFn6tWijD/DZTDaFQ9ABkj/RavOLDXLHhj6fmkNTDgNzyUoPSDZ52Q2Sbw6CdJOjn56F5gP02YsPvcOCbHUjB2yRXzUAXQT8wdMhSIY1l5OWLPmH4uQLwktf+tLj57femtF76/MpF5LX074DwEHA9y5FmC3yTWd+sjU/8GizCQ0+2DzkJz65AeZAdeSAZ3tvTPpy7sEZbzVYDCAdeM23BoE2nfzzy1x8sYfwqRO1nc/ijcZfM3jzdTmLqwcyb8j0kJlP18Gu6ePBK0/+Dl/s2VR8tGxIPp38t69czuwlJ3o0xvmtNSZjafhKFl/o9YAop9/xHd9x/PsRasE//9uXh+pW3JNHNrAG8z9EFwLrbKDH2Sd/LnAxJE+uy137VF7ZunVmHzg3xUBu2MQWWLzoB8bWycOrta7PHrEWT3vIw5+YOKfUmb4aIBcf4Ce77At7Ai069tFJn5ywsTZb8KIrVoF+MWxt48bevrThZ1tyAjzx3QStJ788sVVe6FDr6TjL3H61BbTZIKbwVp/63/nOd/6XgOmHlED9krxBEHwOlGQGxqsfFGRG7nidxVPxKDIB0t8COxdc+gTOplEoFbI1Rau4FS478aGtyEFPoewgG7JPobmwFJ41vEDLLvblB11ozOeTuexce6OFaMnYxLcOtNYVCDv5RQ4QS7ZB/rCbr4rKBkOPNxtrg2xYyIZL83SIoYuMjnKDNj6QfemyWV1u+MtVOuLRipG2GhEHMthtbnVkj3hYB/GBs69g9QHry8M2MuVdvKEDyiUE/Vy2v6NXYy5INYCPPl82XCr8U28uSm/3Ln1v+g5d8vz5kn+0xQXgEJQr9Qfxsomd+mTTQZ91NvFZ7IF5fXTlIp+sxZvfWj6qDbLwwdb40V9v2E9y1y9V0UM2u8gQP/urryPpANbKiza0n9SC3FY/xS968RdLuh2KxtZckvTprz5tuNBctlQPZPtf68glxzy66g3yUZzFyUXgX5tjp5iJQfED6cFfPBujk3O//OkX9bxIqIvv/M7vvHvpv/e97z1qQkzxsVULyIAg+0F6WufH0hmLrf3qy4KvNXB/GVH86eGrWHeO8LsaTCabrKsJ9BsnNNlDb6260wLyyFbr7S/1XK2SwR75Zbe8Q7akK3v41MWpvqE+lCsyyWcbu8HKqN/aAh72s8FZyt/OUfPgzEdWbXTRmmOz1lx70vmAlnxxvWQLW7M3X4q1ucXv//7vv8N1PVx8408BqKUg5Tmjv2sSyxGByqjoGcpgKIH1YYCWvi20kktmB5s+1DcXHd1aMujTKjB2KQ4PEAUbmpdIRSXoFZhihGThYb8ihewtMWxkWw8mkE3Zi6/4AfJqrdOPBpoTF7Kz3Vw0WjyAHewUJ3RnJAevwsdjI/PHWrYHfFgE6Gp3PmisSPstdBuDTmvsXVnJyUcHnni3fkk+WsDeszxzxuf5WlhsADp9tIsL8ZlHX+zl22HtUva26aJ3SfcWag2dGDhAk+VCsYbfJe+y8C+uOeDVhxj4+a1PzOR04Ysp28sTe8g3J3ZqTS2r4w7nbNbSjV4dkkG/sdrEg8ZcexC/+rAPrKkXyH8y6XI5FEN5NrZOPxn65Ks3LTkAPcgXY/3s8hWNXvrwkQPZViy6XPGSa763bj/6AGwD1sMz4F970uMS9uZNByjOsDyQh17fZ24PcOrXW7nceXixH5d2EfDXJ30PefR5KPRQpSb4ol5+/ud//rCnvAAy852s8nxGkH/iiS5a+Y9O/fRCoA6hPj10Fge09OHNhuziO/v7OmXeOnqy8EabHDLkU76hvPawJJ/9GAt/NqpXtUmXvPNHXbcHws5d/XyC5tIHyk+4wP5zbNGrAzHwkGSuhyJ9PMU82PlL+uTGPF35Ya3fRbgkE8SPV2xrIVl40Ojf6o3ff9KToZDgHVd8BQm0xqkCri9g6K0VxDYU0JIP0IE22+qocNHoQzoURn1B7GCDHXTZ0IHELgc02QrThSiZgq6IFaO2t7UKit1o8EA2kpu/9NBX0VnDLyF0odEaW4PZCgGZtRBtc+jpQMsOdovVuUgqALrx2EBk8IcPZ/q1AYJoktX8Al9tKLHsn7jlH6C33IF8YT9Q5G3m6wBv8Vr9xuS1fmlNa00/WqANz2AOD9urG3PGYineLn+2qw81w371gsa/rOdtGJ84i403Wm8tPus74H0dkTMPEA5/P8934HeBqquALdWU2skXdObEXS23l/hMDtRnkxZ0MJKJn23o2mvVUXsWXTWt5VcHVDTm6dAnU505uK2bJ6OYkk2Pli6Ihw3mk4keVqfi7EJFC8yRh97DlLdlfTwg/sZnoItt1uXGxe3n6C5vsumBe0bhSaYzxj+m4/LH4z/D8XN6ffWQfZCe9AF++N0Nlz8dHpj9Eh95LlAPgdbkJh5y8j2Z/E1Hc823hsecmGrZbg3o0y1X5VgeivnyxRuSrTW/Zx05akx8PPyRxad+H0N8oFjB/lTSnrJ/6NeKIf/1+zGaryD8IZ8uLeRPNhYHNgFxlz8xt1/JrcbXn4Vy13yxaEy2mPHN+QvYdZYD8FbnyVzZ+mImXmKd39l4hrWpdbRsETvrfAb6t37jZ1iwhZcDBdt4UTJKjkBViCBDHW6SSi4n8GV0AQMrPznainKLWmtNn17644P0mnc4Cbag0yngiqN1oCUPjYNdkiWcPsnpsGenObrQs904nfkC9dlvHejjSZd5c+hCwC4YP+QXOxxcYljsAjRsileffBugDbFAXgjSHewasE4uH+VSu7+Vbow+f0B25z86m9rGr77OgAaeZWn50bw22XLmQnTZehApz5foIahvrVzIC17zfK0lJ/3iaK4L1KdTn8BdkGjEnR1+ic8Br+8i6zOvLwcORTUIycJHVy2ki13iBDt0HLA97GaPurCun6940VSTZMibPl+t5zs6gA99cvtFWHQbG/lzoNvPbPFWZI+Rm0wtIKuWDetvMa9PZwe/mKEjxzw9xnwQU/Feu0M0C83RL04euvyZnDfwHkCyNdsBHoifri5+uZPD9oB663eH7AXx6lLES6bYqBP/3j703yjzVwx9HaKnuABxyh90UB9EU1v+6BMjuo3ZplZc9uyC8sQX8gAZ7DNOjnGy6TTfutqG4uYiV9MucvlxVspZv7/g3IFqpQuYbG21oGbJcrby3xqkvz4evuQTm6xr13Yy5aS9SSY0ly/xgHwE5qwB82QBrXk51roz2ERH9At4w2QuHfvlR0u22ESbzgW8KxONNrnN1f+BH/iBO5zXwz0Xv/+PnwFrcILN6WsFGu6coqso9DkmGWTgFyhBUwAuT3NoBVGSyLiEydAmc9dKOjCXPn2FpRVoG49dxvSzhe142zAKy5iMii6/yHRodHCihQB98QBkoO3BoiJhf/GC6LTmQGuAPnEhR598/GQ5FNkWHb5ihB8t382bsxm7NMylx1pz5GkD8kD0reFDSwf7fOaG4kcevjB6fTziJZbGHl4cCq3D9OiTv/kwn418Nice5ceB5heXoD606cWPjvJFbvrIhq3pV7/Wy4GYWwMbJzFGw3cXggMfGLswHbjmbO7e8h2SfT3Yw46N5Rh08KdPC8yRX71aE0s5VpvsIQMWO4C/uNFlTWuOLuvRmodso8flwbYegh34/fOq6srDH1/ZQ0bx3FiD9LAZX7bSZQ6dvelLiAtF7NfuaMjBT35fI8gAS3tG8XFhe/gSL7LNpUdM5D6b6AH89lXHlxuf6NGpL/81r0vcA4F1+8C88wYN/mSoK8heNOkgGx9ZZEA13IOkc6sHPfzoXeBoPEj4s1q8fgThxwb41aJ5Lbr2qJrEz8dyww59LRQnNouL/FefG0d24/UVw4+90OSX+lYX8gCLqRphI7/E0Fpn6covl/qgOTZmM1420hudemM/WWh6seuuWdls0jcH8yeojw6vsfh7sKtessEazGZ9fGxtDPWrLbEy7sEW4M8OCGoDtGurMWQLv9nz2te+9li7CS5e/AxmOAUB4RlkrWIJ0HIqtL7BZZQkSYKEOIzNoxWEnNHGF6Azn77o4gE5z3HYHJ34FDw9+hLn0HDosrNNSh5ItkIyD9B1mJELzUE2FDNjfXOS6oDnL/rkQLZmf4gfnT7QL24KjV948Hrj6EKLBxrTr8WLz7gn32SD9Acr5yawzgf0bBMTm7rDyTzZQTZCtju82ORNx6FhPtg+vhDgXWSDjegQ6VBzIJpzCbFHruVALDyx95mTDfLOXvPx4akN0bKBr+QFZOaTmPiRh7c+eRQTPrJRrlw0/QMoDiO1YS+Qmc/47If8BeTSSZd5MtHIq9alQAcaMskrNtbZYWyeLPz0wGJLf35AsGMoRuJCpnj63QSHvtoWIwe6GGYjzI/kw2KmJaeajI9d6twbMH+Aef5mkz5+uqtve5uvZOWDfpBOcSj+zgBtX57QFBc55yuf/VjBv6TnN+9dsOqGPqiW2gvtMTL71K3G5Z+vkC5x82DjYU09mGMzneJMny9F/qleevuFUPVln8EuT4hHHRc/9tQvrvxjFxvEVuzMiVFxhcVBC5sTN/Ejk7x87nO+ebESD/L5Rze0L/2OiwcRD8HqxByby2F1AaqHheyLRouGHXTj2RhYk2fxtTfyUxsaJ7O5hWjYho7sYk02u80/CLAHP3k9eOFnWzZAUHsdnO1cwHurf7L3He94x2FkKIhno8xVXAXHnI3HIQXcwRdwTvE47PbAo8PhhcdYkZkDZOubh4CekgujDSrSeCVNsSk0tgFvWjYmsHnNoz8XAR+bp4uNFVfr2aIfZjPdPeigB1qxqZ++fMmGLYbkOFT00Tm0FM6CebLyp6Ji48oE1tEvWDMPb4LzOp/9/NqlWozJzp7o018deDNw8ctZkA1AKy7sJwt/h5F5uly03nrk14Yqn9YhevGXO29CXc5ovZ3oOzy1DiRoc7vM1GV99NnNxvKQvXR5u3Ig5zOUI3+f7+fBDl185JQ//NlKnpa/+WxcLEJzDnF+sUtNygG5apsOMXBBmRcvayCZkG5rEBjDYg3oU68OdTGyJmfemqtHF5U3Tba077M/mSF6oC8efc0yrmVbF4O+Oo5XPrUQvXGxMOY3G/At8AOgERd5okMOXA4BndCDpHrxhu/y9VbvzRk/XS50vx/g9zU80PmS48cGvlJAP69X373gFI/yru2hQCzRG3tTdjZFJ8btD31reNC6dNHTg0ad9sWJrsCaunVZQbKtb6zYp+Vf8QXmil05Ukti4MHFQ4sas2/6vQs0bBJHD0q+hthjbKNXPvEDthmTSY91mE6gzx406EP2sJ9cvssr1DfPPjUWPTmL+aNtbsE8FIPi5HxxbvTwWJyiPcugF01y2OdcMZYH62yADwqX7ATJudX/ztc/2ZtwBUFYxjcn2droJEtwFNN58+HDL8E2goBJIlTceAWUPGAeT0XQHDvIhebJ1+LrYcM4fdnn8K7ozCsGhVkSANvYoqUHLd7sMAf4DayRzwbI52KCB72+xPI5oB+tNTRo8Sc3P9GxpxjZKOQYs8dGZit+CNhkjXxg3dh6Bbb01hbMkwFvAnRk4We3vkvBzyzlITv4lTw06Qc9fLlEHGjNB9kiTnSQJybrh3Wb3IEjj9VeuaAfnTjYrB5O0JY3BxO+LhjYGtlasvikVsiRBzZA62xRd2TQ4W2sGgUOH7+45XKoJuWwfJoD7CSLzPjRrv/57I2KXAcHvT2YADZmOz794hW/NZAfbDAfsK95wAb70+Gtb+/4xTjrYiPvDng204mGvWSmN8TDHiDv6MiwZqyurZPhYcNFIq78YzfbomWjMZ8dxPa1i8g4W4J0V5edF/LLTmeEt+x86R9X8oBAP31+vKFen3766eOid2GLhbdbv7DmASJkjxyrczZC+Za3bHV5Q3lszdmoJYNc+qAHAw8a6sgYjVjh5WdfuPT5VA74qg/1+dwDrpwCdNbFQUzZzd6tFSB+1S39WjrFzN5qD5YbOsRPX07Z7aEFemDhk/iQQ1fInsAYyB85IfuqP3ua//Tbp+aseyizV8gw5svqIbO90dxCNK2h1bpL5JAfQXLWdtBYXtiGV4zkjt/xacHZBpAdwSUa68m51f/H//a3v/0IKChQJY4TUPEILgc4hAZWZObRoDXGazMqCM4qHn3zkHygEKPtgEi/xBkDMoExHfRCge0Qxy8Q7LBxrbGVbJuKPHPAnES4YLOFDFDiAJn4yG0enX7+t5YN5Jk7yzVXbACeNl9zNpfianPA4lI8jSHIjuJDR9g4O7MbmAsfBJYP8E3cfc6z+chmI31o9WG2slscHX4uf4dd+tdmuIC3OW011oHTGyf9rYmTsRpwkbBVnvGzSZ89UA2oTZcHtLnlQPz1reNnB5nltH1gztcHFyRf6MfTv86Ghl34OlzRhPmfD/r2WXzo+QMB2Wyzxj85sIfYp1Z620kWf+nR0oVO7Mkj29gaWjq11aTYeQM2dsk5xPnpc7S3fXuJbrpA+jZnyQfa3UvWygGfxJ1dLn4Hu7h6C9fKs5iTgaeLEx+fHfb2jTk05OdPmL/VAh0ufm/1WpcWHfLkvOii0vLd5/pqlx52Q/aQyXaxJ1v8xI1OfpHHRnQwGejxG1dzfMsvbbJDPF1+csRPdldL/IfoQLWqxd8aepgtbJVTdOInr9bR4lFr1ulWf+asG5OLj8/s7quIBxkx68G1mGUHewN9+dn60TZfH5+660Lt7KNDjvKl/ZUfq884eYsAHyQ3VH/i0EMmWYAegJdM2F52RsmRtge/6OPPRqBNd+PwDObW7je/+c13Vq6Hi2/8OZ0DoJYTCgfqp8w6JwW/w8oclCjOCZJChvrxBni6/AH5ZAm2vpaOgllCtk8GoDPo0qdLIdCPhxzAlmwt+Gi3OMiTbMlCr78614b4tehsVvzZmh40bCEzv8yjxeOAsNnZ3IbHC8jdGCZTuzFoDWw/MN45NPeD6LV0sgUobE/42RGdOBZLWJ/vDgI+miOnvMUvZsXUGkRrrBUD8VN3i3JORxsfPfl02rAdrsU3OQ4im7KfwUJjrUvAOhuyR1tOyeiiot8cfX4JzmdZwGYy6GQPmjCQP6geyNHyqdqgh5zF/dxJvouPn+iLBygWQAz45bJhCzn5BOgrly5CFz9buhz8maKHPQdhe0CuQDK2nrK1ObpANWSNb+LdGzR7W+Ojhw3oIYBNDtIuGwcqn+WUjGIA9XuD9pZt3eWAh+3eGPsREPvo9lWDHWLEDjbQB8UBHWQf4HPIN/P4IHp2ujB3f4oZINtYLAC55roYiwFcoMuZKR4u/vi1yXR26KMlN/vkUKzoaI+JlXqg05i9bM9OoG8Opqf48FEfjbEfe4g1+8kMjdkAsw1oQ7Y2B4p3ED8/6OCHdTntRyf0ZAs5G9+F8xikNz4ttJfES/3whQ2ADLqWFqKVI18DxdeZIMborac7+tvA2n+ri9+/3LfGAOMc6lCqUNBB65IOFUTrQNDRKMAODQGLF6Alv43lsEonoFPABbCC2wAnRyvZFZZxiTKmv8LEnw3GzZGXzVq4MrXmyGQXevPNkYMX8LOLP9rkKQCXydpoHY/idSlar7jwZV/yzemba40egAeai0d7htajuR8kQ8tXrZjKvV/gcVg0Tz+Z7ISAncVAPhyyXT6t44Ubz/zBa01rbMN3QKLDo36A2JMt1g79fiZq05pH58KE7CdTzGEbNKSj3OdTdupbU7veGsunOZ+IfRbOxuTGG/Jb7tS3OifLXHVJFn689JtrL8TXmw9a+vhvXk7M2Xt06asxtsidOfZWg2SKB934XbZ9zqdf3rwZ+9KAFg+ItzE7AzEqdq2TTyeeaF1G3tZcug5Kh7q5LnK8/PSA5TDVskts+EIOv3sAcOHLe18qzKERE7zyRZ45deGy8ilf2wMg2aAY+9GAhzxIDr/QiKs+v/ItW7UeLqAHDZe1+PW1Rrzxl2+1rY6MAfs2hqA8sYccuRef6gTKczk2dq54GHU56psjQw31ICi/4gfYQCfb2s9kodevrq0B8XXpip98qTl07V0IkgPj5U/1k4/6wLi5+pBv7LWv5ddDtjOFXrrELz6yQePgPAbpXcAvHvYnvyHbszvbQ/n3MOn3f9SkemKXWAI06Y7nNrD23+ri/4mf+Ik7vf/PKMYLnnHFnIMpNCcgCk9BQICmRHNcEVYoeCFa/EABOvBsBLLo0Zpf2ebJTYbgCyZsA3YIkEU+GgcdPuv5k636MEhucsAmN3rybBYyHQz5gofP+WsdncSba01rjZ3kobUBbbx05y97YPYUA/ZkV/5Eax4kZ2HH1pN7E9BRW794OswcamJgnK0rl86Nh5yA7AV40ZEjJvhb53Pr1syRIY7mbUrzeOmw5lBwEDno0Hs7chiz1YGpvsgVc7GXI7FHSwbMB3T5Sw9Axye162ee3kaz0Wb3b8F7mCCTz+itoVkE5tVCD7npIL/aQWsNOljItmYP8o0/6F1k2Wq9S6A+GmM62oe11SN0sfg5Ljni4KClh+5ssT/LOwSbd3Hbeg35a17+rPHF4c0+touXOZeIPMqPnFrHL04uYLn0xck4EGdy2UuHNT8u8G8r+DEFH9CoCz+SceG7EF1edOKlj2526JunV6xd4upIvPnBfnrETGzUgT3h0ieL3GqVXvGy5sGK7dDDMxv5o57Ipo9s8dgY0ilf6OhCqz7oIN8aGmO67QEPVS5mdOqAX+IgNmJqLF541ID9QRd5QJ8NxuJClja7PGD5WkKG2oo3ntA4Hm3+QH3z6QPGzUVDDh0h2/mUbHMgGfhAcoLzGKzeQM7bm+arK/mWS3P4IF1qQH3YG84BcWJT/sLkN74NrI23uvh/8id/8m6xAC2hkGPGOQk4YM18B1EXtD5HSrRCc7BqFTAkS7FCwUSPV4AFjaxk0lFCAb36m/gOuZJAFqBHUaBp45FrHV3y0ZkjwxjQYR5961p8QEseHkVBd3btYV2xm2eLtTYyfq0NbM6BvTx0sCcbzcXbGv3ZbY4eY/3oyNOaJyeZoTmA3hgdMB+mY2XLn9w6JBxi8kcXmuiBOQjwAnHQTxaMJ33Rld8g+uh6o5Ir9NbE0UXi0mCfS6zDtcuN7dY7xOQsIDfMzqB4kkGXmvVLYWLAfuiy8MavzX+y1Am+6IB5toufWtBHL5cdysbo2zNiYg2yhX/48bLJfBenMb14OiDTm24xwU8HOuBi8Gas9ulnBzr+inPxx0N+/ebpwac1Zqcx0BcbF1Nje7RcswWf9d7ArTt0+aQPxMIl25+8iQP9QKxcpI888sjxIwr5AWR6KPMLmM8888xxYYlVe1bLjpBtbLJmz5oTM7rpMO5sUWt0ihGZsBxmvwcOX4R8zdA3L8Zy72GGPx4GxN7Ylym5cMnDvlTh0bKPHH7JgxyJszfhZ5999pingw9Qjpx94sFm+wA9XjJdWuJPLr+gmIi7PKhLOSEXPVn2mrG18n2G4kg/BHIVWmeHFkQTHyAbmqutpkB0ybBWTWpXPtozBmiN8fFRnOQCLz/l0/rZD/lRh3LpbOlHAyD52XDWGVjLt2xlA11ha/jl7Y1vfONBdxPcc/H7cz4CCg7IKOOcbz1jKFR4Em/dGAKbgYMC1KYyRyZ6haWYO+jIxks+mhwjQxCAsX5z0bTWOjld6opWYVf42QnWR615LfmSpbXGvvUf6sdrPT428Nkhwd/0xIcmzF4bFY0D4nzxA3zW81EfJFd7Xj/j0oFkB9fxhdkfihUUJ/Y7pBxI4kRWdGcgC8iLunBQiBO/swGfVhysN1/8k6F2XOQ+R3uDYk/14YD16Y8eG9al70BWd/TZkA5GB7BDbPVrw8ZBurX5J/8+6zmwzbGTbz6tOtxXVj5cAnvJnhBDNvKBnYBf8QP22lP8UzfW+Ckm+mrQAYWumIllh5BYkQXFxIGVbLRQXl0C/GM/fdp4z3tiAV250AK2ujjY6xIJ2ejCtmfpYCO9Hubw2Lvm0emTES9Z6NnoIsYj12Ihlh7IvOkbo/dm77+/9aeWPZhln3iDYs1PwAc62FAMxVeOioXWpa8G7APr9KmD7OYL2WJDjjGZ5HeO8mP1mxcLX178WarWXnNp04OeLn5oyYByr/7Ms7d8aMn2YCK/bDdf3aoFsuktXx6Mxa2/aOA32vwnq4ez6oBP55oAdJvX1q+Gsi86mN3NGUcDzNWmb+lB8/jY9SCANwRs5Kf4VHPNi4Faq2bFzr73MCSGyQjYsXPndbA+AjT53lot/2518fcv93FijTBn3BoEKawwFVoXKhrrAqy4FaPi1pKF1gYVxAJJfknXV8yrS5/s7LkOFCJ6/G0im87TsA3IRnNkBetfBQPM8yGb4km+dcknM9/jobNNbj57xCodWohHDNDhg/ywRhfIb2OoD7MbtAZaXzotQJMNre1mSEYxZztku7H54qGF1hysLg+HiTXQenYA/Pr8dKk5HNVG8commK36ZOrDLioXuUPeYbu+qDubk3yb0S+ooZcneh2KLnyHGLpA3FcvILeYgPxYO/XZ4VCuNsjym80OTbLIiCcwDgFeewOw0wOrGlM7/K/W0JtPrvgZ208egHqYdpGJa3CpruTLhUV+cgA9ZHSRiSt+Mslgp/XqYf0CxRCfFvJHPOxFfeeCC8MDGrvJRM8O+VJXDk81UpzJ5RM7IRnyTJ556+qDzWpSjeAjxyd9/5Ji5wHeziY1w5etb8iekOz0usi1aDpr2uNy5xLUoqE//vqdjeLCTpetPIhB50G2xFMc2Zx+SJY88hm/sXjIFVnkWu+cYqeLCr2+vKZXDZmTE5d9F75P+XRmO1o8IX/tJTaX+2qC/RDkD9zaMcYHQfTJWogGRKdNX/TJrD3LuQnwwGzEL07iaOwMMSeG9ogcim9ni7a9R87CeQzOc+sjuMQTDXtudfH7GT8HAWEFEKRQCzeoikgBKHr9ipUMdBV3G8BaxaWNNge0ZNg8iq85dOYEVp99Z7vMZVu2GAu+TWAMyGVvEC+50FhxSzL72d6BAhS/DWWtzZgMLbrlQWM++enOVmAe4IN048N/lg2Ma6F58qLPjzD6IN2toRfbjS87FblLRL7E39rZBmve1sTXJkCH13qy04M3W8XRxeszq0Pmkk0QaNnmsPJEbZN1ydHZWzIZUK3JOTm+CKBnH50uGpcPFGeAh94gO2F2B9GtnWT3Nsau6seB6RfM9MnAk09BczB5xUctOFTbDyFfyWtey2c1194SF7LQnWs1nfThpwOdCwWdtWxzqMkvXmveZPRdzHiTAxfIi0cLyHeJJ9/Z4EKREzRyS2aHpjXIjmoqn8wZa9HyEQ2UD/PRqS9/WuZfHiS7y1KM8dINxdU8uWKo9s0ZkwUBG9iOV1/M2S3PZDsfrANy8bMpv9lonm1qU42KszrOh7Uf4oXtG1+r+rzvwUdeXLweaMSYfPtD7vqxgfjq96eL8s5u+1yfH3ST4/cCILn85Bc7+AE9UPXlQf2pVXzyDbP5DPnTejmEG2NjYMyXYtFc0JyWLIAeJDOaYv4ggC5+/gBxUBMepPjMf5/1xcyDT7moHulTE+K1sDZk09mu9XF9CLIN8PtWF7+f8QcFL6EKvwQysnVzHTxoQut4oYAJgtYYvQ2Fxxx5Wkge3MIni0yBw2M++aDNhF+gA+vG5gEbkpX9tek1Rq+FbFPsCrrPdWSSZfOlz5ox2/iGzmYxb/NnBySPHxWCuRJIH1o05o3PYA6iLz7Nkwu04gyXhs78h3Tld8XsAMDnwFh0KOAlj69a8nrrtq7A6XbQiMPqBsaQ7fnrInCA9UYXHRvYIqZkZh99+mjEmQ0OM7TmjOWHXIcvWgcdXfJRXsSXzT3YsNmYPn7Im9gA42Je3C+hA9Dlny10OKC99bPVHFnRi2e50tINepvjB3/YUd6MIUAfdrjQgy+/+ES2muI3P8iLHuLPtmIKjMmSfzEuZ2JjrTdy9NXRAlpYPdNBnjF/oByVE/Lpkgt0DlBvTnShVa9koKOv/FhTGy4zf2boRy7G4uhiVFvFBeBfO8TIVyEXLz9dvmwQv+qQb+IklviLHxlsUu/G/HAB8BdvcdFaRwu0aPikPn2R8qBGB5tAfMb6eNCT70HJJSsX+Qb12cB3fS0breFnvxjzrXOYneaM6WOXmOFlj1iyTZzKjwcVLVQHHhjowCM+bM6P8kautY2HFuirFTRiix4dMI8PaJMTWAd4QGM0+sU9mct7CYp1encsBs674kC2h0p16kWjsyUbQHrPsDZpF5anWIkLe0LzsPq41T/Z67/lBQQQlnBQgtYYyhSNtbCijUYAJF3hlYDWzoEJ0ZCRU83j0wK8ZAPzxvSEAmS9BEBFqeUTHnrIX7n40ADz0JxihgFZbXhgg/WJSwxsTIeZzdPnR8g2NrEhO7MJkGfOWnY3X1sf6Gcn3UAx+pmmA9DmtCkdZv3sySZWtGTTg1cxo7UefbQdEB1ictPDjM3uDddBye4ehlyA5kD2geyvtszjEyubR2yip49utjp46epCFUtP1njoYzM6OS2+ciAv/CarNzD60PEp+aGxA44ectDTlf1n2FygYYeLn+/xOKC9NTkQohfHakXsIZvYra74BNlQzMyzPbS+/faYPnr6yWWL2JFVHaOjPxtr+UqeNfZU495IHXbokkOG+b3ckhPwBz2ZWtAbKR75UTPm2C3u9MoFufKLVh7IAs4c8gAaNvhriv5te29g4mrv+azvDV8tmOODhwI1QYd8qXv/tCwZcufhwSXcP8OMx14QSzLYISb8Yb++fcIW8eMPGnZ2sdoznWlixMdiZZ0eNtERrXUxhnTg5TdfXDIelp0tbJAn2BnTWNzkSlsMyeYHuelIvvn46coH+0KsoPiKGZ+tsVmLl37yraHFl7/5RFcte8pr69WLPgRLB7YfkJdMoDUGyQku8Z9BPNithUCe/K6IM1a+5dpXQ/lQp8VfTMFNNpzhJpuSkdzr4A1veMOd3vVw8Zf7clYSJCBjmoeMsMYI69Yq7oJUAtAJhJbj5mvJstZcchQRNN5gJBPSTWbz+ooFRhOvFg1dip9c+rKjgksuMI+OjdaSH4+N0aEl4VrrdHhLcWC5mOhrA9ZPFlqtMb3Fs3itPUH6A/3mtGz2r6l927d927E5+5mhw9HbjLG+Tck3doNoFbNLwmXRIUSm1hp0YNKlT5acsVnRO2S6bK2hy761FWiLg1i5IMWIPDb39tWB4iDvgUrbRc4PdOxia7FDr+UHOvTG+aPdfAOy+MUGwBf2PSioW5cH38mHbPWjDPaUo+LZw4w5sWBnB7lYdgCzQZ1ZM7+HeTHnG99DfID/ffInp7ih5/fGALKxNfHArx56GzXHfrZbEyuyy/UCOeSzpfruTZX/2W49X2E1oD5dbvmCnw72qHOX/bd+67ce/56+i5p95Pmztfe+971H3NubZPKB3VDNqPkOcZeUXKDrDDKOVn3RqwVizBZjcsSieKH3wGCfGZMvRsUjfn168OPRP9emPr+M+wLidxXUVecJucnWAn1rco5Oy758IjMo19rqD3/11edreZMPLdno2ReKNd7iR2YP0uJELzpr7TM02U1muPWUf8H2ATuC8xoZuw7ONGdAn24t+/3+Tv9CqZj48ZM9bV9CfieXj8UHaM82XIJLdolNsH0QvRbe6lP/E088cVdAChLMEYWi5YAisplKGBCg1gHHraFFZ01RA2Pr1tBbw29dMWjNpwNkGzAXmqu/QF42KTQbMPnpyKZoQ7rjjV6BGudTBZpea5Jvk3Qwg+yOp7ls7lBLlnE8ydYHa5+57CyGbPRU6iDJR3P8b8MrXJvQwSqn5h1oWvrymb02OH9s9g7Q4tDh4aCAeG0AftBBPr3sw5OtYf5p2zzksq3DmD66PVU7eMRUjM910YHOB2M0vX2wh+0uPD6RAdlsrssn//BnI5usnyHdfFqgz+HgELfGbwe0PxtjP5nFl818RUcHW/YAgfRAPrCZfXBrJbTOP3zG5Ikd+V1A8oUmPfnBJsh+NOwWS5dXP3c2ltdo5AcdX/AWs4V8YE+6/OjDxWVtf+F2fdSXTzbLizpEL2a+ZvkPdB577LHjTV2sgTj7fQr/G6I/z1Mz5Fr3IKYe2Vrs2A7LBzTOh/yxHi17ioN5+atOyRQXc+KtRZ/sfCxH8oLPHkGv5tGZb40OoD498HqQ8WOjHmqjhQGbd55d5UHLjy5e8tGYYx9edMUAvb4ciG+5UFds4ot18sgwL4f4yLZGLuzsgXyF/O6LXLrJFCdjmB0w2D5AF83Smt/YBGf+M+Bhv3yy0YsRe+1Tv+jo4Usds5MsZ001cLaBrPy4CdAvf3BdH6QfaG/1b/W/5S1vORQHCSxwWnM7r7885tok+gxbQFvxQ+PoocIXbIUCKgJ05IWgQANzEoVvZSRTYZlrzbz1Di9YkbQZSjy0tsWVDcmAit88m/AC/eJVC6xb44MDOEg2n0tqtkDjbMkH0JrN5aBz4Bhv/Je/uEAyzIs1W9ChcXD275P3Kd6mt/n5i9fl4vDG22VqnXyHrcNPP/shv4tl8bJxoDF6SKbDpktq6wDICz/pcJj0IJLP/EJLro3KB7JcwOQ6PPmjb82hZa7Diy424NdnLyiO2Z8PWjHxmdiPP/jIFjpd/A4KwC72OlDknw0OFGicHjKBsX42NN615mHAzuSLi4OLXjaalzstYCu71HCXmzryFq3FTx4auU9PuTUPyQnWnvYxVFcOT7VSfsnEX7zEn1wPHGTiV0/e8B9//PHjTzddGOj558L3Sd/fq3sTM++BxVcBrQcGvpFVvOQVnbzxA9TX0o8+H/KnOreOln46zYlTewpvctAVK/PqWb7RATXMHzTlBG8PZ+qTb/wUs/JP1hkDtkZHFhBH/faLfv6yJTq82WJOTuhlMxnFQItWfOl2Xjgn2j8rT01BMRAn8vGIVw8O2dz6gjXykll/x+TV1m8tIAdYZ4s1c8lvnl1+ac9eVidy0AsI39nJRg+UeKun4GzD/QBdmD3krV21YXTR3Orif9vb3nZX4CoKA0o4DQuQAMSjX0AZDtFmYHNAEaFVdFA/XjwKL105ly3NN0d3vOvD2hTgM3bgRNN8CCo+6+g7AEu4g6k3E5upDS8mID/ZDuJFw75imQ/BpT5Z+njpKe5Aa/N403fQ6VvH4/BQlG3UNq3YtwZ3Xt8GttnNZac1FyO55hwIHU4uknTIm4PapdGmLoZo9fGTpyUPr0O0i5kca8WMHLEmV9yT7wtHDxl8Lp7ptGEdmL5c0OHBJDv5XY1pIX+sndfZQi7UB+UjnerDz4j77Awclv6W2sWPlo1sVXv83QeN1XMJdv5Mc+YTU/HlA7li54CujtkiDujMqeEepLzpe4AR82yKx7oWqkNxru5XfzECxZAul77feRBnsWEfGWwAYsFu9npYUdN+rvzoo48en/TtO7TiRo63e3+e5/O+3Iqvz7K+DPRzc7Fmf3bSSUf1zz62sQMdP+jIn3xBb19A9a5Oe6hEi5f+YrUx0RYv8iCddFcTWnrx0WXdZcM/cVMv6cm+1ZOdyS93i4DvbBFjOos/fdmrLz9+NAN7ICNz9wQ++09fnXtRQIu3+iom8lPsyMom9rMHHVR35LYOi5V+Nl4Caw+6nmxgThw8nKgxl77a44sHO+eH+KuXfGKjs4i91W1wkw0PAtmWv5fklQNrYniri9+n/ooIVFiLQcHivEBJKlhjQ0Fq02+/lh4Bb9OZF0QBF+RF9GRmD9qKMERjDuqjoyP7bChovos/WfFr44PFBJjP1vyzrnDFwgMAuXQofHbgCdK3sPIBudkTZE+6HeKKrgNb8blwPKEa4xWzLjkbEXqrdVB5U7ehXUgOly5umxOfg1Uf8C2dDqg+m7Ilf6Mzz9Y+5bHRPFp+8q1W7IB+lz4b+MkfcsnT0kOey55M8h04NqcDrBokuzhpHUQOZ/no4IBsDIt1a+xCb44MG3p5gnSh0+enSwdWW2Lv0GYHYCfbyJeL9KQ3WD0g3YsL5zm6oTk62ME+cVSnwDxEI95i68L0aVPcXawOPXFXC+LgMi33sNwC+gL+AL7xq9j6zA/x5HN+m2NLevzCnbY/GQNqxAXThS+uLmC5Zac9IP5qtJyQWyyKkZZt+MqBXKKvlSttYF+4uNQqHq0ckpGOchmkzxwaMtEVD0iftgdC8bD/xP6555473qTpQYMXPdRvTI/1heYgu7KN7fSwpZYMkC3qxV50Poi5sbyULzT8UU/qxZy8uCDFiQ6tGDlbnOfy5OxBwx9z/ERDfmcln2ohyA9QTB8U+A2SWU6Ni6U9odY8uHuZMHY+9sDFF/qTETh7YA+xdH2s9t0E+XwJ0pNN/+3/jx+2CcMClNP6CsYhoA3RglqBqFgUjuRCYzLaMICTik0QFQIaBbRIHh7JoyP5beCeJrvwzFmju7EWsH3lVHiwAjnbJ7k2gk3ZLyr19E8GmezhA3lkQDKSDWrB9kEFRndxxV8OoGJToA44h7ZDw6Xv8MbnoLa5+jvf/qyJ7ex2+Lap0YoLu+ntLUnxk09mF35v3OzZQwOtMd3G1vuNaDFpjm+1dIkZkBP2iS9/esiA+NlkzlpjSL/4kk8eTBfZ/nZbrszLB4gODUAXH/v12WdeTLTZe0YytGxgizeFDg48/PLg0d/yoxXr6tM4+Wc9C+m5tAbyBZARPeADXXwrjnJlnU7IdhemN33g0ofozDuwHdRqTA6qazGDZ53GtfQD/vsZtVqkj16xgGzr4c4l75ck+0xfPXur9+/qk9FbGL/oV5Ns92MActiCj356ANuar27Nrc3l2xy6aEFxVKPa9lS+drZUZ3RtjMitTtQwHWTyDY+9Zd5YvfirBD6rFXRsWbnaxfxbBNlH/+bCmSi/5RPwQZ6dafxEo+88i5c8utgqP+y27kda5NKjJQt/td7LXLrNobEOrUWLhj66ykt+fKyAt9jIA9nG9gLbXfbqrQdedqovZ6TzPX8APnaQIx/2OUSHj65y/d8BetK1fjeG5Rcdnbf65T7/Ox9muEVDqL5i5agxMGcsUBxXPGjijR8UOIkVmDBd0SgC8+uccaBPjiLdz1TmKlibRuFUQOnUWlOg1gDeML/YYby+FGTzZDkEXZhk0lsBs8tFRT5b2hgKDL/14qlPx84V/9bElDwHGRniTCZgi4vYvM1rzRifjcpGG9Gl08+mzHlAYR8/6aWjt2eHrn5PsXQ7UM1DNPSwVRyym07z7GAfJN+4Hz2gMQfwAHFNhjXINnPiIK/mii/kN0BjrToBxsnSovezX5uyHBZjcrIjyJZkwupP3/pi8hrLhbdUBwifAdvF3o8b+ObAY1/xgyB9gFzz6TROF7vVB7C29YOe7MaBebGk0zwe9kEygXV1ZuzAc7l6G3Ppe4BzEBrzTV2woxiujfoQZA+fgZZc+7D6hmqOXA8V3tgdwi5/NOzygOrNng3iKJ7kWmOv2lNnbOUDvflsj2rZpi6LV3GkI5vJxKdu4jNfjIotGr70cE82+vZV/uKjA55jZa5LF+J3VvDFg7kvGvKgfvDSiU8fX36A1ujThuYXlr49JSbqFqgPMpwRzi86rKFzplSzgHx293Avp3IL0MFypC8mfCyu5rRs0e76ovlkoaUf5ltjYA6Wp2IC4xFfb/bqzC/ielhUM+xXX+qs81KMgtUDGpdjtSBmINsC4+W9BPGg0w/XFxBdvrWmvdXF/+53v/sQRMhZaJukNcqtKxpFWAFr0Vb8yZFYxWNcEvXJt96myElAh360xmTmOL42TzoEXrIkQUtXYF0haQGd5JPBD+PmyGwuG7TZTw+seM07QFy8ioqN5LosjV2iaNlJNjpzCq4HA/rosd4l6xOnwxB6izTuDYhOtOSQawzJ4L/N69K3YdmTjV3qvb2T6dDUd8mziS3o+dZDjLerPpt7G/EJzIEc2iw2jkOrByMyHMbZyA6tWALjsPx5w8FvrtjLpdypIWisFrKvQ0K/+tKyxWGE3hx7yCyX2XAG6+f57Ik3bCwnYuo/g+FzMaTXW6F4yUtytMufvnTUFy95Q0Omg0u90IdH294M4j8DW8QJqB0XuBa/eImfhyS580nbmsNRzXn7VwPqxWFfzWV//XSzrTxAY7nrZ/F8cuj60QL0wKTO6VIv7ESnFtSVeq52yj/5bBcP9YuXLnHGK+78USf08ac93R4C+iB7q6dqLB+gMXo2uvA8sNBNNh3s4Wv0+uayvTiZg+WUzHIh1n6DXz6KJ1g+mP3lYjE++mHjndenG7+Y8Vlfnj3k8dWceujNN0DXxc9/+fFQRia6aNNvXBvuGhSv2uK+tGRnf7C+BskFrYtv+fJgqY7FUH3Zm/1iYl866Kc3SObKFQMyxEFtt7/xWV+es403wfLFSx4gu7E2BLe++HNG28bgmOI0D1Okj2aL0Ng8YxkoeNFnaAFtjLcNoyXDPBltHmCcPIlRiAIN4rOOrkMhewNrNlcHANl8201rLJEQDUgeWdDBQ38Hgzm6HKTeXhxALgF9LZkKAxhDFyzE4xBBQ78HBReHFl1r7GMnnp7Q0euzwaWpaLsktcbs5ouHCcXuU7SLXt9chz9f0YopPhvZhnd4QocBHQ5UvvCdDn1IZ4dHc5A+G458MSrvgZyUa/QOHHKMzWePeNNv3WZlD7uM2enBwxuSNTY6NF38PseSmy6Q/sbZAMpx48C4tXzQQrbKhQPQP/DhIU2+0PCbjWxjc3JA8kA2NKcvXtWrGpBr+YL0ygHa6oMN8cIzqBOxkCPr5FTr5FkTY7GTWzXoT+bM9w/hqBkXdv7B4hEC8tWT2GghuT2I2RsvfvGL716cbEDDRnocxC58PHJqziXVXuIDoLv9JO+9sfUAqnbkwEMt3s4ndqG3nr9sNy+uWnrMR8eG6i56ubHf7SlvkWLjASab6OJT8WIvkCt2aSHbyqmLX71UVwAv2/GQhZZseI5/GN/CjvXZb4+JVWea/eRhns/6fBaLAB875MM5oo7QeymwVr6zLx7QOIgmjPcsA3/YHEhua2JRjo3ZWX78lYe6kw8+eQjtC1K+JxvSH6QPJBvKhThUT/FZWx7jBwV88aarutnxWeatLn7/Vn9BI1DAKrKKcg3QWq+A8ZlrHiqWCqZizVitBKQjHvOC2CFVMsy1QVvvoqG7QyEoQA4U81qXqM2IngzyHabR8KVDVh+dJKJDTx5kg0IxZz2/8dJBHj38Kj5sh2ggGkhHSXao+sTJl+KVr+IAAzLJpl8MOsAAG/GSr9AVvZ9j2aQuYRvBOnl4yCcnH+kvLvwptuxOPjCX/cWhNXPkOxQchGSx90yziF5Oiznbevjgn7XQBSUHNpuL1UZG66kdvTUtGcWNDnC2AdAJzFtvPjBujc/JaE4+5LyfTcsfOiA/LiKHo1gnO35obnWQJ2ZkhnIiF/LAXvT65qoZ/NVlekCygXhAeuQEL33sLQfo+0U5l9BHPvKRI5bqwQHKtmzfWKQDf3UVypWLX92oRz+Pp7s1Oet3MsSLPvaxx5h9LnC2qg/zeNnCbhc+7EFBzbDBg4WHGPzoyfVAiFarZuhfufb4Pmh6oBCHLkI8+mjo4FM50PaAD+1r+TPfngnFrnyLnZr10KMVQ2vAGnp0dAC+mE9G8T8j0FYPzZOjpvhOH1/IMS4m5npQzB4oL3zy4EaOS1882KT+0lUbJCfMvuBMn63n+cbxa7ONfvY5+3yR6JdE1Yjaknf55GNne/tybefLud8YFAd5BWKFrrwsbXY+CKwebb6dx2eZt7r4n3rqqbsCYUXGsYpylZlz6CjkEG38kJECK+D61tG1LsjpIRedBPSUbQPGK5itA2MFSb4WP/kOAXYpRroUNnQBOTTQoKWbDTZmG5YdcDck3Q4KqG+OXQ6VbAO17CKDzvwiz8aC9LbOPuMKprd7fTFw6MTXxVdc+MmWbBAXevBDOhS+gu83362jKydtar6X5y6S4gaN6YNkk+XhQUyLJ3l8gcaQXehdIOjRstlagCYE+d3h7TLgL5vZTj5I/vKWM3T8guwSTzTabLsJLtkIzKVjaeqzkY/e+B2K9Ik5m/ni8kKTHPGu1oLWirNLQ+zkhWz0gE3lW/5WDn10B+laPfjFiUx5Lc/o5AD4WkO/S9+lRyY7fP6Xe8DekMzFzZdWDXv4IdOf5vGPrh4sXPp+M1z+8baHxcyBLZdsxMcO+UVnb6ple6M5tBDkG10uJ/r8/ku/A2N/0anOXOpqr72n71MwOjlE0wOmNfQ9gPKvmqWrXIuvePXwZmy+fELxEnty+Zof0ckdOuN4mquOzmB98xGQYU1M2MTe9NFlfeeiD9KN10O9vgc6PGqk2sN3EwK8+tp0XKJjP7n5cfaLTWxXM850tevBUmuNbR6o1J+8qhm+XZK7erddBOkUR3rVIJn5D5Z/YWXB9aXWfPEB2Vasmg9uffEnLIEc68BYZRzTtyk5HqKHwEbv0NXaCAxX9GjJ1SbXJrGJumQFEQ851kEbmRzzEA0s4OxzKOxFX4GbCx0e3gS0ksae9V1LL12Khm30m7f5u/jTSQ9gexcAXn20Dn0Fl61sED/0NjsbIJnmOnQcQMZ4AJvYCvlvc7IH0sl3csWZvGJcPrTskie26wfm8JO9UGxhsSKXHvHTssN6dgJ98l2EvjTgLa5AP/142cZXb2EOWnErXsA6G/GB+EOgzY7qJYjvDGsT0KdHa62+NhSDeGrFQN32pgHQkqEO1ACf8IqZWBdvdmuTL75qxCWJxpic4qRdf4whwF+sl5adoTnxEV/0Hi7sEwjY41Cn22+Xq3887HagsgskDz1d6QuNAf/tI+BzuK9PLkuftf0YweUq72iqGz47xPFaQ2+erfSzXzztFXrKN38AWjbYG3gd+v383OVv39HXpU2HHKk9ew9GwwZ7ih60XYpaNWufoiUDegAwh7cLIZ/kWT60UK6KIVo24KPLOp7NW7zNwa0FcoD5YqCNxrwYORPll627x9Dxi88rKz3pdr7a28ADmzgnBx0dcHlrw+za+fhbz4agGOCJn03Oc18gXvjCFx5flNSOePYzfH52lhaTs/zk3Q/R0ck/Z6B9U10kJ0B/hktxiKc5NMW6tY3nGW518b/nPe85WgoBRZRUqBnamnFrYQZZbyPqK6AOcGNyeuoF5tvAaCFeMtCTjVaygDY6WCLx2DCSyw6HFBttLH2tJPXUrfDRZXvy6coXMWC7g48uNLuZjdFA9ip+ydfa+Daxg4Bv5tFAhUJvMtlHL7kOogoUDVvZbaPFxy86+UyXll/QOqAH5B/Q4gXlrzwYQzEnjw3s4Qdkl3mALz3sIDf/yj+/zLkIbchyHgI06KE++d6obFT6xCA/0MR3Hax8yLbzmK2N021OfTgIqw99WPzQa/M9WWJmzZx8al2a6iv9dPR2KIfW5JQeeoGWLC0bXHBo8IpBMYX0AvLpC4yrkfVPP/tryRFjbXuDzvaKr0Vqy78aZ3+iI7+vSOiyI7tgOmFz6gDSITby6gJ+3/ved/yc1Rpd9lp9sfDAKKb0s1WfDPNqxWXbxUUfv6thcqpj+w9tOYiebfqQ7uJhjLd6V8MuEjT2gnV0IP/wWmcjpNPDRg/99PLLntKSwV5xVAfsYTud6OVbrtBUR1r0WlA+YVD/PLfz+NQJOcUDmFebQNz4xi6wNrBTTPxYi+/e+LUBOdEvZm+wc83Xvw5Xhr6a9bs1/RPObJNnn/TVrvNXzvYcuQ6specmQMc/KI7yJ69ihrfauA6uk38pbmegO/1Ld6v/pOenfuqn/osShreJOkQYBQpOa6F1aB2/QNsANoPCMi84xg7U5KG1EdCi0yp+9CD91joA66MpWFp8bcBk0CU51tkMgTVItrZkGZOXT+xxGdkg+iU4+pVnjt58aZOz1WHKDoemQrGejdbyk+14+NHhhYZN6CCd+WWjOoz7ikAOHvQd4uYA+ZA9QXEkEw9eB60N4wLu52EOMK1N1MHV4Y9+/REH8oq5T242KN3mtABtLTvw85kuBzo5+Q7w3oRkkM1ffosR/aF5uDxky4eD3VuDA00s9wEAD7rQnDVoLA/FGCSLDWzih7xCdB0W5ccYutToNQf5gkdb7PhBJzn6ydDWz28gL/TjTQ4EWvaJeXbhhepKrn2Czwa0bOyXusgE5IfytQjwATzmXBQufbLpxle9o1Vf/BBDfrgIzeE1Vkt47MkOdfaJy/rUWdJ+xGOMBrKfzOpAi3d9EdNq14VCbmAdAvzpr46dE1r2O0PsKftJ3xp94p5NakLc+U2nfPCXLewv59l/xuvAWnbq5y9fe9iBYi638u/sKq7xkKHPBl9dfNlCJ59n2uK5GERXf9dbax3sXDaoJQ8er3jFK47fRREbZ4YHSg+T4izu5PKt9iZINrwfZHNnhPx0Lhbr6+AsP71ixo/qaGO488baxVv9t7ze+DEzQAKBIpBgCq0FaCi2tpiB1itUgWijkNE8tKGSjyc9u/EAGvNtXrTpiC9ec4JDhsvIwdBmQsMnNqYjX5MHyEFb0M07XLrc+NNGRUMmfrT69LFZMTQXHXSIgvTbePThES/F2psJXZBeQGYXBuyy0EfDLragsWbeGNKFBuqLp03bJzBQ/oxdvp6a+U4uPjazRywg25OXbPwALXn02KCQPcVV/EAtegj4LgbWiqH44K8VM2A9NO/ilO/z5Z3uRTKsO2Q9kDlwy581Mtm/OehypqM+XQCPWLDX2wed+uSYl18YFCt8cO0qR3JR7MlZWnYWDz7qB2iLXzXQHDCmA5JtnN9iwDf1oQbkv9zQ0y+KsiHe1s+ABlin229T/8zP/Mzxc301RLY9wQ5+ouE3O+gQXzWKxjo6seczXjZq8cH8kjOtMdBCcusDcjZuZLBZK3ce4sSDPLr4URzJ0JYPQKc5CJpnf3Vtj5O1+SUTr9bXPTH2wOyhvjyzh67ko4UgW8L8C9Zn63RV28kCHnydHWwVV2Ad5Btb7BW2oXPRthasbebDtcv68gDj+EB84sh/deks8Ybvsz5bxdaF3++jVCvotZDeavAcm5sg+/DUB/rsVD9QXy7pXrpgdV5aB3wsz51ZcMfVQvYk61YX/1NPPXW0AsR4ghW7IuNQiWiTM9AagzIsGi05AtDmYxw+fXOKReGTYRNLnj6gAypKejicTPMLBdN8yUXbWMs+xcKnlYOWTjqyL35zMHttVDavjuR68tW6PBwSLgFY7PDYQGSJCVlkWue3g038tHwFPTCxGZ1coO1nvsXFAYGX3N7E+YIv4CssD3jZBdjlIHIA01M+6cNDnjygSwYgwxy95vhYbLTm6NBCcfHzwOKCH7AnWwB+euhsAxXnUBy0fMyXYuTQciCJi3x0OZOBXsygcX52caPdOuZHB6PcWyM/G8gxRzc7tXjJ5Qd57DC2xi8PSuJdPZijBx9fio2x+R6woH0JotHSs7rNG5ObLTC/WicbDf54AX+hePBRDtjM3uoRn7V+fIMev3mgnzygTw/7fUF6+umnjwO6ByBxyI9iAoxdfvKDtrqijx3mtWwjGx8ekH+L1rJFPzSGZIsFn+wzMXDByDk++4setCB5yQgat65Pf36yH5AVArRiTA8auRJndezNWiy6lOWzGqCHbGMysqn59BYDfbhxIweoFfrIV3PlCA3AT4/a70HZVwy/FyHm6Qn0zQEt3sZ0Li3IfoCOPv7So976B560zhQ0fobv91C02RskHx0kO5u0YkNHUN/6QnHbvjZ5+mKiL4fmlz47Fporj51Pzo3OLjVeKyedXbufAVmve93rjv5NcM/F7+/4BUHBVZiEM6biApyBlGbsmUarCMjRtgnxCYqCculDhwo9HTQVb0VRUMhkX/LR5Dg0B9GaB/ihjdyhnh3xo08GtJ5cbTazkz987SCH+my3IRWiBPEDXTHAb5NlEz+s0eESYZuEJjP9eOn31uMXqvzCigOAbPL44zDgnwO6jVqcyKEPkFPc8JunC/DNJ3w07MkWdHjYQW4xsqblO55ixCe604m3vhh1iLMbP1vKGxlooT6dHUr0dNmyKd78pJfN4uTAtmnEBKKlLyQrv/iBj9xkFx9tMYXGDh+IFl90bCQPsJ1OLX3oiycaNe/iJ5vd4qYvn8aATOP2iL6HRXmqbshEVy3RRz7UT1Y+ZgMe6/ggevKyr7irZbbTjS4+tECr5uUVH0g/2tr6ZLjQ/JO773//++9edkH07EiH+Kl3Ld+tsYGNaDsQQfVHDpqtpVoYNIbFgnx++x0E6NIXA3P0yRO7xeQS0L2IB6yu/LNOJ1nJZad8+61+NWeOT+jw2gPesKtzsZfX5EEygLn44NoDzK3s7EFj39gnbGFbfFp06l7cXcRqwBu2r0J8S3/24IHs0VrXh4Ce+q3JN7n9Zn5nX/rsP7a76PvFUF8n8Vb3+R2SnW3NgeyE10Fry0NXY3LN8UWrFsUyfebOiFcrlnKolp1bas3LQuedXFgvTlrxaS+YE1fjV73qVYe+m+Cei//JJ588itCmKngUMKwDjqIwZa3rcwRoyeC4AHS4uTwUs751Mqz5jIdHIXOU0wqLHrKzo6KABSDd2SNYBanAkiWwzaOtLTlgfYP5w1Z+4JcEa+zmDxQztOYBnWjzpQ1lvhayIX3GgD35Z55PPfFr2eIXhlzUfHIw0Y3PYeFnhy4JdqK3ll9ooL75YsD+foueHb2lomELHjRAfMWTb3iTp3byZ/Vpy4ufwylsvOmm42yjeKkTB49+UBzZoobYy1djNjkQHQz65GcP+YBs+eprE75qnb8QDz3Jj45c8sshzF6QDi16Mqz1ICKO2e63xcluT+i3N9hDLjus02+e3GJhPXvNiQFa8sU6fmhOa56Mxlqwc1DdsKHLxYUL5M86kOsuYhcR38hJVn0ItGLBF7/97WIzRw8Z6W9fZJu+uPOTf3jsO/6hsd7BmDwoJmgCfeshW8wtssNe8qeKLhj+q1Wy6dkzLBvOsDqKA0DLJrbtGmyNTWKMxh62x/uRQL/rUv7F27kCnQH2a2enWCU7XXzDI2/00UFesdLPFqiPvpoEaLJbPOjzBY/NfnTjrR/gD9DvGJgD2Wed3eIt7uLvondWGMuJdXaqHw+PdPms78IXI/mQJ3srXxboMJ8t+iAbzvSXIBlBttcX4/ZQ9+glPaE4iKP4delDZ5ccJi/6oPgBNIuvfOUr76xcDxcvfsYyOoMFMyNKYmhsnvGKRD8DtYqqy1GyoIK2eayRYV2fHgeJuYJBPjmcTw+6noSgIHUJWavwN3DNC27r5pMPdqzAtDtmc7ZBwO42jriR0Xq0xY9eMdpYsoftaAG/0K2/CqGL0pgdLmi/EEW3zeFwRi9nLrR+AQ/YNHTSJ15koI0+//VtJjliD73o2VJu8TqEbXbobYju7LZe3ZBRX1u/hxd+k0s+G2A80Yqr2lEXUL+Lfi9NvOwjtydlcvEvyhGeLnO1B8SG7eXImLzyS1YPE/IZT3YDNtcHfIF04uuXOQGZ7MaTHP31tcOWjSEf0BczLV/N94ti5uTbOh76z3x8y1dzsLqIDo9PqQ53DynsUw/813dG0IfO4czHZOWTNqgv/i60/ibfPN21bCADv/iZs0/4iReP+KCDaAC78FhDx67WgLVFOShHkH4y7Cf/mqB881eM0NtXLl8tFNeVH5z1yIXY5AMd2uqfD+LJHn162aI+yxs6cvguNtVhsap2zVmzJ+176KHM+SGPbEBfHqEc0g/oyictuWpIPI3R0ZlN9pszwJxfoqtO2L0yiwE7+Mcu+9SeUGMvfelLj7d5Z0r7pDOLbmeSmvFwAX1dUD99NWMbv7TF/QzssQ4bo6PjEv0lWH58+ZicxuIrJmoxnuwK0YsJ7NySI7x850+weuMNykfz3/M933Nn5Xq45+J/61vfehS0AqsQGUBgB4g1bQ4wEioSxZBRDEWLz4ZRFDYMuQIU4t0ixlchm9OnZwOxPDBb6DePB41xm4ZdWoHVh/lGZ3Pk7Bpgsw3A3tbpkTS6+IhGmx3sWpl4rZsvhvitOfDJdyAoAhs0VBBigd5lLoYuLshGfw+NBy9ZYu1iFG/6XLT8LiZ4IDu05drFYYM5cPDxwUbND232sUnbYdLhoo9uN36xpct6tuJlk/liFJCBn102D19scjaKVTRsFBvy9LUOFnLpJYN/HV7FOVALDknIJ/moVvCyjazQWmAN0MNOwG+YP+bpVytixHdreNgh1vSQGz07o3EoywWZAA20Rm72WVcXmztr+mRUb1qwOd0+W+KFPrMae0NXU+Ijh3RmKx7x8yMccvCRhUafvbXFyiXhszCbzFlHj0+fzOiN5dTbIH/UAT/Nw2SIoTgXG7R0kaU9A1sBen361LD/898FRBbf8dKnDqE4iykgu9gtmEtmdeOBwuWmdfH1NUHd8QO92PLV3jDvrdfPsiG+HrTRddGzsZxp6WKPXJHVnktfPyawBtlCH3n2A5s727RkmSeHbrwuZ8imzhdInjE71Y43dw9R/QKetv+TgV77tYtOnMVVjOXYWeS88/sgXfZeaMRf3cmv+AfqwFg+L6H1akWsizl/wZn3ErSGB29zwFx1IA/G9PFLf3nVhHiXf6144yd3ZYcBuwF7yScvwPfd3/3dd0bXwz0X/w/90A8dm4bQjNU3Jylt9AzTShpHOQPXEE5LkCS6qEqWebycj6/igfRBgSC7gOJrLduyh4wKf22BJR1YV2wCmI9aMqC+gse/NHSnyzxEU7JKcvKsm28dL3qyQQdyctnUhdimYyte8XNY7j9o0wXh55A2JHq6XZIOaTzkk2ldrNdXLZATB5vNZtOVG3Znx+aXTXwji89ok6dFSx7/+FXczSty9jhEINnFJ3sCdkCy+GPT+yLBDweZA6wHDtjBpSWTXy5XcsUhW+mEfEDPJi371i+6k1FrvnVzaPSbN+az/ubWmM3spIcdeHrQMqabreRa08dbDJtbIL/4iTdEZywOZLIjW5PNHrKsh+QA+vCzU23p+7rkgdKc/IufFpDjwHfYVxvrz9pc7Pgtl2xLP8jfZID/l7U74fUsq+r/z+/xaEJQnABb0TgQxRiZERFBhUQTfSqoCI1Kk+44xTgQp4iCNggCxkY0qA/n/38d6135sO/33ioKV7Ky99l7zWvt4Zx7b5V+B5SLW5dfctksL9aCtgORn2Ihtvyml1xw2pON9MkRn+WJXvNkFUNj5ANjdJIP8MNk5YNn8XKZ6H9t5A9bHaJqz3OXVgcmGqjvgG0ej9a6rM7Tm64zt9nTfsYWOsmw17DBYU1PFzgxYK+Ye3bA+yeaHd4Oc61ndGwjz1r09o7WOJnkqwk2ALGSK3lUA/Korxa80dvfepuHLodd9sW/2oT8XDifTzAfTbFaeBI/SEYxDfZZjMW6da5G8HiGaLViUx3IZXLxg+who1zqN75tffzvfOc7r/5DcOfg//CHP/x4gQSSFe7iYYTCU0gc6WAwF5Rom4YDy6LPCbR4ydDXQjwWrMLAwyl0aCTfeIufPDbFC7MNn/ns1lqsipQskK3Z5Bkmd4PbIicbpqc+3fkF9ZvHD9F4Nmfh4WOP5Ftg/IQVA302sDYyC8QiMJ5vDi4bFp3i1ic3sUNbkbUAswdvC49vzaFnG3ls8Fx+zYsL3WIJ5ZesakO/jZhsPPwmg5182w2M3I1lMadDnw5+8Z1sccpn9uGH2YWnHwXklxi32UExTleILr/wibdNR61p6UaTvniAPh78oFpiE3niwF+bozykk18QPRSnZGnxkxP9CcVWHKqRxvlLV3FxqevSSFZ+5JP86LM3fps/6F88o4Mscssduz3b6NmRL7D4LNAtHjZ6NqE7IbvQ8k+9qGH1qrbxs8Nc8YXsYDe+6q/aNEZmCIwBz2jolaPWU/NsJNeY2iFbPMQSn3m2QCB+xrTlyCbvcOULWfwhK5uN9wZNv3qRk+QmC4Jsayy/6I3vtAHgg8VEHsu952QkM3lQH42YqwV9dMW/XIiLXImR/dpLBZRz6BJvn3LId9Abl1t8clbesgWwBxivH7DlITAfTb4tPIkfJANvNgHP0Fxxl1P5ra6qHfNiqY8+X9VzbYgXrG35nv3oembTO97xjmv8Ibj5qX8hZ0BJzzigaDscci6DAFqbkY3YBoePDLLQ5Ry6NluJ13pus7LRu42mz7yCio7MgqktKeSnU0HiAZJCf0VVGx97FLECxtcmApPHbjRoLQK8dO8iJReghfGhYQNfYAeVOYveXPEgP17xYINndtDPZzxaMXZLJgsv+1vY9JQfMsmxGNFlPxnobUJi7blCzRf85NIhV9kZkk0PHnJBsbCZrd+QHnOQbFicABnkGmtDxFOsteLAljaYfmyRjeJbnWhtSDYZ8SyfQJ/9aPDjw98Gn13o6I2HjR2MaMq/GNMB2dzGLz6AbHOA3GJgjE/65ATZGZgTA7LFiL8AnfHN+eYLspWv5QZ9/hnnl1yJgcsPe4yRQ2ay8ZHPN/WSLHKNL5AP+eftTozRlU+ojya/ySKXvnLKPvYUR/Rso7sLCf/kLT/RFE8tNAYah/yA9AItu+hPZl+f2JCvdGdzfmuTwwfx9BbNRnN4+KtvjzOe/8VAS0++6PMHylXIf7T0ZQu55NVPLl71oj6tlfbndKgPesjBB4E58ceHHz0UC3/D7xD3y3Zy6/9A8CMi/d7gHe693dPZfsF2PgA62ZhOc+UvP5pbMP8Q7HxyFp7ED9BAvGQEPfOherBPadlvfn0EfBJna1JdWxPFVJzhmWNI1tqOpjH63va2tz2auR/uHPy/+Zu/+VhIgqA+oJjjkmNxKeSK1Ris8DKUQ228LRQyCsQ6GppbVGhs8AmuT7MgW2otrmwFxizadLYRe3aI5Kc50DM+9qJVqGwyVsGjyX7oWTzI4Q8+/OJSnMQxO8jCbx59b+g+uxnTVwx0tdDR09Mm4JlM8ryZ0WMRW2B085uPbah0o8FHtgNSXsjiQ0Am+7LVM368+mgr2uICjJU7Y+jVRrK0ntv0jMmlBdKBQZ85OujSB3wml0x85uk3Jkbi1b/SxS/PcgD1uwyIs76c9nZBDj3sIldMxBBdGxO7zIkVWzyXW2M2zf0KVX3iJ19r3CdQF1jx9AzxQP56Jl8c08224mB+wTO72YOejcVQyz7x1WeH+kVDB3q2A/aIPxvQlkd28Q0tmdlV/ZEvDvjZwW9j5S67gTFYHB2e6hAN3dVJOa4F+mSzWx7LASxm2nLp7dpBbYzNEKxdas4zSBYbvHHD9KOVB7Xkcudfp+tyHQ85tenQion4eCbPW34vMHjFgux85wcfxEecPZunS+7af4yhK0/o9JOVT/IC8pMd5tHil1/rwEEsrtUwfemB2YHPODv0objgd8iLTb+/QQ7b+IKXr2F5BexsXr/YecYPjC3khxYN/nwMPJO3iD5Zt2QGdIMdww/ohdmoXbpsUX/i3z4ExBGKibGei2W515JdDLTkQnbgMUYvXYtvfetbL10PwZ2D/7d+67ce9f4XCF5sTBFzzGKEHJRMWEIymoPd7kpSczm1yfEMOEFOrU1CUGxkFrabs8WbTG2bUDLiR2cOkCHIntlKZ0ELgeBaAH6xRKE3R1eBLw4lmf/kK3o+8538DmAbARp2VUDJcwj6mR5+/4mIg6fF3kKjn91acskhz0ZFNl7IHs/sQy82bIIWZYce/qC8kd14OUqPlq1AP/n5gsaYeFcf3nBh/OaBZz6bExt6AZp8A9WEGLQw1EJvXPT0XLzjDYqXWOPPr9C8eJkXd7kz7rn6rA+07DdOt3jKDx5x4A96c2wyzlZ1K1fm8RrvYE02Or628Z5x8Bx6ps+c2Owcn6BcsJVcvuNBD+g3Zq7c8cOzOXT6gExjwDjbtOLmMLMe1QIZbKIbT1CffjodEA4akL3VkNZY4w5MMWObeBVr+rVs0WYrG9QFsIbFBg1I5spfe9WkN36165m99Dn0/fmYw40NxgF7xaA6xy8Wcm2vYjdbPHtxMYaHPjLoYJ9aUXftG8bLmzn66e0SgGb7+Kxpstibv/riBAP9jUGHOV4yrAF98skpvmjFSk2JT35o+SkOxd0zzE+gTU42nbaUe7Tm9INo6oNkLB1oPDzhpF9I3tLU37Glg57Z3x6oL67FVi7FsvXFx8ag5/yGZx9Pda413n4a3TO98T/p4CdYkizwNnboWfIrBLQZymm3yTaddRCiPaFigmgEUavAoXmLy4agXzDIqnCS4RkqQvZbIArdvKAtXfajI5PNNnULj/zo0JDXJgfoNJ9u857R9NbFD+NiB/UhP7zt89FFw9sQ3WJnIbLBJmnhky3eZNloXCr83FsfD9+KKf30ihkZNi63c5B9G6v68RcHrfl4QPmDFS8+fhVziF9rTizQWwSebZKQP+lNd326a/knHmLh587qim/G5DUbknFCc83Xp1s82dWbPn1sBeZBfhinlz45qrbxoEXXxtnGi1Yd+DmunBVHdGRpyUAvz+SKXbaSAbN5ER0EnrMX/R7G5BcjNNlM9/LXR4PXmJjwszohx0bfL4Lpry686IL6dJKvDn0WLo545ACaR0dGMvGzlR3FyjPe6LXFqP3Jc/WpD8jVxxNW3+rRz/n5Qw6ZeNWcr0pqzjha8u1DfhHPGrSGPTvg+zqpNSdGnvlCHhl807e/uLj2y7tsUSNiAfgM6UYndr5K9Xbdjx7Mqx0xlasuAHwtHz2zny10sCt9+MlC19piE/0bR/Kg+NDDZvsYOXx1wdWKpboX49YCKP5adjWuD3Yu0A+jvw/Mw1tywPm8EP1Jw98g/dFFKw7VEmhP5vtCPNlZn73ZHF256zl60FpAYw295S1vucYfgv+Tg1/rOYczkjGKQvF08APjC20SiwVOYdJRgZpTmIpdMBXsfjqjF2jR4iOLDi3YTZYO9i8NPn1FjtZBoN+mkn1kQ8/0JR+Q2yIgH50+O8nmk4Pas0VhcRi34Bxga3txN1+ctfXxi4M+W8UHPXuhOBlrIyAPPRst4hZyOmBxZAc0R/5pExCbDg608aOVM3rE2kFGFzr0aOSuz7L4iiXZWljczZOxm5wNiW9adrAt3oWezRWX1YGPrWIk58aaz6cWVzI801ldJwsteWw1Hw96fjr4HQbiYk4sbPzRk8cfdmQD0AfpgZsLKL7ZGx895QLQAdDwI7pkoteSjY88csUZ0KN+5e7bv/3brz9/c+CpM3P0kI0v2aB+8eejA4zsYgv01SkaNoiZOTqhObrMg9rsz2Y2qHP8fMZHNhvRmTdnXaLjg3XY18RiC/DwX074Z+2idaC7+PiLBvx4+/qhlWd9aJ22FsjlCx3sFwOAPv2QHheQ8keGPhl4ugRbE9YDFFNfB+wF5tWT2tKGHUJksEEs2EM3Hj+rFzOIRry7XIsBGebKsxpOZrGF7VFiTD5Ai1dMgRbyCQIyGi8HQP+h54X4b8kB9/GB6Jem55W54yF/oTyhKY761WrQ2Pp9QrpC8a6GwMqGz/Rb/b/xG79xtYTDHJFEyijIKQWpMBUklOQSjo9BkqzobGwKyDjjyEk2PQAfORajIkm+xaJvDp8itGnY/LWKSsFaFBUyW8lj59oFFC6+7CAbDXvYEh376TKWj+RDNuLLfvzFC79nyDYXALx84ZfndOJhI13kavGj5zcarWe8sHyAYirGFn1vvfznH3naCgsUq+TA4kRXfT5m28aULfXJFk/gWTzNsSkarY3IlwybkVqwcZDJDpud2IBsEhd85Ac2lvLeV5jk0wv5DvSD8qoN8NEFzWkBHWq22giSv0AvxJ8MKG6Aj9mWfnF1IHgbKr500elgUW+gGl2b62tDcoP05NOCnFVv+SIG9GvPeABt8e3Q80yWT+H+Pvs1r3nNdUDxof+ZzSG6MoLVTaaa8MbvQMkf48UfsrlLErnqBT8wrzbLARpgnh/G0cPWAdn5peZcwhze8sEnuXGgm8v2ZMmNvrVrXTvo0dfigem0VuW4uOcj+9gK2eFZHsiE/OUrPdGIOZlkadnbm7Q6a3/lo1xZH/YCaA4aV98Qj2coD3zDy74Ofj4b2/1EH639hm6+ky2PLiBqFq14izVaLRAD8SHDfGuVTrLrg3JczICxMNhnek8avPRCOnYe/YknT/oXjYN0RIc/GiCn6gWIM+Dz2rAy46s1z+Zq1/PaGDYHtM/0d/ze+FMcKDxjlFLiWQFKouLWh5xEtwZL/L6Fmo8uZwVIgVskkFwt2R14nlsEgqdwySNXsZHlQHWooWMP2ejpU+zo+YBecbfZatsY6cIDsk2B9/aebZ57m7BA9zAny7g+W+gnk430WSj0iwtbSpyWX9q1nYyVwyY0fIrHQhRrQBYE6CF+vrGzg9Yzm/m3LdsrWnaIGWyhkkUmoJve4ovGHLvkHxh3WPuMiR6tOXR0ypnYrs74AnLLl7h1gagmxTZ6/Wwujskulnw0jga9+Y2r8VtAHnpt/UVj9LCFj8lpnHwHpTfEbMFHJ9/wdFEWqxM2JoDcwNzaFOhX3/piCdFCftc3X24B+8WdXeSrGfXTP8ziEzdZX/va166/9ZdLh0E2QJB8MvJB7ftxjcOpOIkP9IxendLHdn31aZw9EC15WnZD857N8w0f/9kppnLPTm/q7Hfgy4n1rA7Ns5ucQAyKmzy2RlpD7VPaaomM/Co37GuPQJPNjWmNt8ayA+obQ8en7OVnPwbMxnSqq97+fRWAvgj0p3TirzW2e6L6w8/+fAg8s9Hf7Ktj69ov9tGDL5RXOSbPpZHsYpOtgB59LR+Lm+fwhGKycItuwXx8txCcz/fZsGPlyPPy87N6taaL5dLAhfM5HrLVdPltjaRTv/n3vve9j7jvhzsH/0c+8pFHvW8MFEiZwlegnIL6FSpAI8lt8loyFCy6bS0gqJChxWNO0Oip2PHrm9OSqYWC6mDhtJu3BcGmFg4kC+BT/NqCCNBnR3qXtwXewanPRsA2uhyAXXQ66CwIi8tCMG6BeTO3yCwGtuPlV5tV8iqs4l8MADqxbSybl2efyWdzMS4HkC78/BGHYoUX0tNhpC9O+OnoAmMh4+ODMc8tbvpsAjan7AH0ssnmJWfoNqaBPn/VFDt6U2RPfmrJ1u6Ylq3kki9/asRYPhcL9NUuPzwvkJVcyP5ipwXpbBHmbzzi57LjlzjVUTkwpx7EUpz4iN/4wsYP7Ly5bGIDMG98/eTj2gZa26CaAPkh/vx0QDrw/ROr3jrl4Mtf/vKrvvrVr142O0Qh2mIFtNkC9a1B68HbKUBvjh3sVRO9hZPHfvWJVxzZhNYzO8uZVg7Nk9e6bZ5Mh5Y3fRcAMrfu8OQ3G9WxvMD+LE2O1CK72jvYFz/e4gb1ycw/feP88NzY+gLptqewoz1LnOilk19kiqF9hd+eiyV6LV3kmLc3dRmA+PpCIJ/Vf5iM4qM+xNTXEvUgHn70igbi4Rd9apoPYtX+yI/iEk95DDynE+wc8HyOLf19EN8txL/P4D6Z5QxddY5WP5AjcTInDuIST3gL0nnO4yWjeoLFUCvm8AMf+MAjjvvh3oOfMEh5zlCsb5FAhWcTa+GYY0CbfkWbceYZjlZQtHhtMsmgrzagtyLSek4e2Z4Vq+LKPkGxEAWenclEr+jRVsCK1yZgEaFFF60bK3qLQnG36PcXaywcdlXwFpFD3wUDP/vI43Oy2Y+Wnezgv7FijEYrNsajL67sz0cHGtme4/PcAQDpQMff9PEVDURfTtIP+USfDYGf9OKF7BELmwefPYsTOjHLd5eNZOQfW/XZYoP3lojOM6B7W7LlWJxdLOizgaBnNzvFCODJF4erXzDyZtKljl7y0ImfOPCHLLaRBdAtbFz0w+IM2OAZLzxtat6hqeayX6u+1ZWNWZzZny1B8gJyg2RnU3PsoEPu+UtmaxKgixcdmtYL2g4ch6R/cvXVr371FVN5+MpXvvKqL33pS1e+QT/35g9+tmhDeooNmdYIf+mF2c+GPsHrZxMawC6I9lYNkJ/95rtkkaHWYM94so2vrWX54Jcat579qEp+jNOH16W1Cyvb+VStQvLqV7/tJ+SYh/ItntaOOX3rBz2MzjpKPh/p1FpbrQljAb9qy7HcN96YZ7anjz/Fkz4Qjzl58c8P6/cnfHKBHl/r2zOs9oB5sswXR32gTe8J6Qf6+wxu8SzEcx/Gv88r8+yzlc/VuLHt802NgfZrkPzoFva5+WKCX0tHY3IJ5aj5D37wg48k3A//7/8X/A2a/ZOSGZUTWkAohQrdJurAtKA8V1AZCIlmUAVrjLwWajL10erbgF0m6GmM3GRo0cdDPkRPrgIjA59Cc7t3M2Uv3YraZmPh2PDxkIOHbHIKpOd8MYZXP5u0gC300uPthAwL0Zs+PWSzpQOGPjEln34Xjg699QekD60NI9vFGx//8KED5JLPVzQtqo2N8WJINh5j8aMvtjYgi9qGRC8/LHpo3iYF0bMRvSInm030+yxMpq8f4kYOPWx06HuDfN3rXnf9e+TFCD9gHyQTqgH29E/IktEbjI3Ucz7piw+5/GebSwoZxabaZSsb2Sd36IopW4oPKF7FGRpDbyw0TmbzxoA182M/9mOv+p7v+Z7Lf3Ni4mDxf9T/53/+5+WrMfwQDb/0gWd29byQvmyD/HdwQ3aKhXomM0imuED2iil6NvtnWv1M3yUKvzf9V1555YqXvOF1Kfi+7/u+69Cmt3rTB/nDN3y+FPgvVdUSW4qh+vJVxHoyVj2wUZ3JIdv4QJ4aVANkGmt94nPItzarDXuMNcc+tjlk6SEToONjF1utMb679LTudk2zq9ommx38QoeXzWrV16ryVly0ZKjHYiEH5BtnGx505Fn7/SUBff6xHLXj8EfL/3SYB+lKFrkQ7dpBLx2AP/xC15qxBzgn1IK5l19++VqTAB/5YgLFyf8l4qwwV92Rl06+2iutaeOe16aHID/ArtFg/SwO90HxCtKP15zn1WH8tHH3BbGST3GQU7UpNgvZRj5k42lnc2SaO3WCHRPHJ8GdN/7zH/ABq4xjEg85JZmMUiAwJyy4iseiUiASSk6OVKAWWxuMQsdHD3obIBpyPbe40G7AzBknh74Wmc1AoUkCP/DYbC1gByE+85IC46XXOB72FANyYBukMbZq8bKFbM/kkJ8MPIpAWwzbMEGLnL/4yPCM3xhfIN/pMW4DICd7jAH6+OcZJgt4Lsbsqd8cWsgGPviqYcHS4eDwloMvO21yfS2BxYE+trGDzTZn9NlBR/UkZjYJcosnQAuTB6sldNUL3/OFnVp5tuHQj0dOtWTRab6f8erzg5zqiC46IJliYyy7grU1OOfx0luO0i2WZKOnV81C/q3P5SNdZLALGHsIyyk9UN7oIg8kH515cfRMPx0OYb+971AXK3H8whe+cB36bMWPV+tA9bNzfiWPrCB/1AP96kqs6ZRLewp0WKs1YyAZWrwQj9y2udJngzWX7njEHa2x+OXbnJqw9v3YoQtEX14cSGxUL9/2bd92ffHwpuvLBp1ihB6dww/yzzygh25j5LvckUufQ7qLMxnaxl02Wu99QYsWGkMD5bL9wXplUyAOC8V/c7L0oLqTH3IB+tYBdOGwZtnioEFnHC9/1fZrX/va60dCLl3qHcpBly5rUz2pL/G1b+ze8TSwdKevYOfX51tw6jzpPe/YLXnGyIm2/QO0Xy6gfRobV+YJ4rX4a7/2a49m7ocnHvwEaQuqfsmXYKhvo5VQydVKsDmOKo42Gg7YOEKLzmIVFLLxChReB2+FjA8/Ws/s0bbQCyAZ8aNhF1vSa9GRC8xBciCwmMMKnZzk9kwnOZDtZNsgLFpjCptMC5nvnrOFj30i1NYn30ZHvpgly6IAZHlmC3+APl58EC1d7Bcv9DYcGxmZxvCYFyP062MtoKN404FOHw1bARnFu3iax5ssY+Vb3IztPJvaBIo7yI5agIdN/CIv+/ghtlq2ekO1MalH8nvToJ8MvoiXXHgmo3jZfLTsgOznHxp2F/uHAM3aTwfIN603R35Xq+TbyOVLTXkOAfvQkZdt6TkRXTpBdGSJGfkAjTmy2AHLgb4DzJu+Q89m73Dxed+bujilRzyheNr0HdqeyVnIHzrlok/b8gblRB7lT58NAD3gQ+s9WvkB/LLWAN14swGSzzf6xVJtkGGd+Qez/JKbg9tF12VEjMj35YH//lMaOSOjvcRn7q9//euPedSceJFdnfLP/H/9139dOowDvtSGxWafoxHnxsXA3tnFQC5aX3wD5QV9kOyFYgvST0ayih95YiomvqKpDfuKGKAF/Pa/7/nqI17qQH7sSa1NMdca0xdPLw78ESdxX5segqVj3wk7f/p9wkM6i/uTZIDklC8x0xbThXIFbskmC1YHt+C0+9d//dcf9e6Hpzr4ORDugpJQiZM0h1eJrFA4pRgVv2Rymjz9Nh80MH0tULps1uiSpa/NDi0egIY9W1iKkF02I8WFt9s9uwSsQ4IPaEpSC4CeRTrJwc8+8tDWstFCJ4duQA778GYfm0ILiW5onh420OEgINc4/mJpDB1eetr8jNsMLCCfJ21O+wZRPNOZT2FQDNKFh7/k8B8fv/SD8seWWmPFqxowZ0xLBpt8hnUIio3YZQv+RePJEWe5FPtqg410oVVHWpsiWhszWnQOCHQuljZOG1g/wyUjvyHIVy0b8gHQcQK6xrM7f8VF/LzpOCiqOSBHDh/2oW3N1K82kgc8L5qrnx3a/OEb25NBJhuqQWNsVFc+6fo7fRu4+P3bv/3b9UlZPPGTBcjAq54djv1CHpqFfCmuYi0H2dDhTH9+LHgWh2wvLkANyK8560WNk4kGkEs+XdA8Hm+sUG3j5be3VJ+o+yVAXzHsEfz1dv8///M/F8oV/fxF77/RFQOxQufHGP/+7//++F/7CzYvC57zzTw7taG5YpPv9gRYfRpDS0aIPhnpPJ+rD2P1QeuRHH3+8VX8/NjCZcac9estH/bjVbZa04CebEdffRiHciFm1mX0T4KlIeuEnefXQ3Dq67k4PYkf4IHLU/zkh48Lu4ckX9yTA7aPpueQ7PjhM73xf+xjH3vU+19gWMVDKKMkzyLqEFMA2k0kOgVoIdrEYIatrIorPWSTa4G1mRc4z+g9owtb0ArN4qxlk3E0ZONjI/vYZnF2kCrm5JIXPb362pAd+DpwQDLzUfHS71aMxxxb0JGnxduBKD7FAj0b6EfnMEBTnGEbmxYtHhuXhegXkfDwj1y6ySGfzVp8Ljz5ymY0FaI+3mKudYA6aNGLk2c6yEfDRvzlOMSLho3gnM9fm2ZvYc2hBfXJZ5v4+30H/5IaX/nVIc4msRNvlx6HeeP4xBy9Ph7jWshn8kFxg/yDPUcT7Dg7+bQt5IP6q1WjDhR5bF6sXNrYTF/5AMlDp4XZ0XO6QG12gcYAOeLUOtHKa7XlzQ3a0MX4P/7jP66DTJyyQUs2Pj6R50Kj7j2vvmIDs4e/amplQLJBdFooHtWS+MhX+fRMBtsd3mqKfHP4zNFtrdNhzpu+Q18tyIdLi7dZb6v9XgAkkxz15ndVrDP1LjY+/fvKgY5O/vgxyL/+679eNYoPLfvy6z7gY3msDZpje3GHoNoEaCCaaMtXEH08oH664zO+9risuhCac6Hhr9rpd0DEUKxBvMuvrZ988bGfyIX1aC6Ifn1Yu1f+6kMPjBX79g9xScfSgvhPfBpY/ZBcaF14pp8tyYseaM3VBz3nv3E8PTfGn3L9q7/6qxfPQ3Dn4P/oRz/6DcoLWAr0FXcbRZuGRKMxj6cFqugl0uKMF49AJJfBZDiwW5TAvL4Wchg9GdAGhb6Dvjd8z+TDggEDY2zQstWi19rQ2MlusmF0+As6RGPj0M/f7AT573DtTVZxA+MO6X6j2dtTSGa2iqm4kIWXHfwls0+hbMfDdp+IHXDG0s8e9rETeLZZio2fo/JxfUML21C1nsmSS2Nk0+kwoLd5c8bx0FP8zVWc+aYtXvrmvF2JldzixQMBOvbRXTzos1mkP5nihp8tDn5vlXjQkREmyzjUX0BDXjaYNxZ9vixkc771HPIzX/jpbVIuG2e7+PXzZmMAfZB8rfGV3xxkn+flaZxuhxlUY61hduj3eVuNiJ9fOHToiTlAF7YexZwMhz7Uz4bsANkinvYGX6bUFn5y8AXo6EhOsU8e/yEetWwPcACLqWcyyUBT/aK1dtSvC5Z443Hx9CbLd/aLTXLZgN4/ea2133Tgq1nzas3FyI9CfD3qsAfZe8aj/mI5Wtqdg/pbE9WBuaDneEHxC0ExDKJfvvSKh/i4FNlnHNRiKhZ+WVU81E/yT1khWdmsDqxfe6IaIxdkU/Txgp1rjJxogT4b0KoDfXPiCrIhO4JkLj4tJCukS23Q79mexNdozbMjBPEtGDOvBfpooJxAa4eup/mt/jsHv/+Wt4JIiTZjCO5ADCU6B7QlnYMtNourjQHmKHqHmQVrMWV8UCC1xumisw3CswVKRrYYp2sXfXZ5RkMWGcYVDDvdXKHNyIFCbxsjWWjjg2ThIz892QzJRWcTETOQbHps7jYLG3yfPOmkg1wIPNNtjm8uNlrPdNCtJdeiOf31jBYaw8smh46YoTGX3TasLmtyiId8OTwXJT0QjzmFnS40+I3hb4y+fILsgX7GD9nUQoknIIc99LGHzzZi9OLik7RaYIuYiiF9eE4wBslfDPSzAZ4y2H7C0hfXxfwiSwy8PfW7DY2LuwNJXQTZYj5ZMB2BZ3bRI6bk1oetn+q6PGjxGrd5+0sMNcKGPoWzCyQfTzqyBVrLeMlHe9pYny9q3hogO/u0ZJcP/Oliu7UEXfId2C4nvjJoHfj09zIA+dTh3aaLhiz1pGYcZt5UW6ubW756Vm/qyUEvRvIGXN79/N7P+vXRVKd8DcmA51hxg/kblpfzGW9QnJK5z/EtXbbp73i4skH62CquXYz6wigvfvnT16H2ymTHp10kM5rWcn8y2YVpZYQgOxfMGctXUI3KJ7vZ1rw5sLJOmc8CZKy9sNoF/NyDH6AJbtlQ/BeMhdYfpINfz/R3/LcOfpADFAikIGrbpCtqiB928HcYoNPi00+WhcnoCkTiFSd+LdCi2Y2BjN3EPBvPDn2BJA8YQ4OfHs8bwHi0NiJvz95GJAs9mjYUOtFVtJvQ5Hk2Tp8Nie4Ofa05erRiBBxaYpJM8vmQffykPzp22ADNOejIEyt+5H/AB7bYJN3QbVz4yDYXbXblj1yyo0sL+dkTj5aM8sAf9A5gcvIDb/WFv3xUTzZVm3I5yq7kV1vqimyHhs1CnyxxMe+5Mc/5EpB1C7ItyIbo91kMTjjn97na4os+fx028sBfthpXH37W6dBFu1Dck0VuwHbjUDxhcjfO0NqLHz09aPqMKw/i5+fY/lRMPZSDtQGSSzd+43LgYFCb5ovDAnry6HBxk09y0KMlR87wstW6I08L2afujdkD+NSlwJiWHWgc7DDfyfeMjs3qTR89vWq1OmUjnmxjC9/Yxu7//u//vmLUJ/14yGF7Mes5BMaLz6IxdmlPPnZokwnSaQzq9xzfjrM9HtB4iHaBHuPsESsHv9aLi99xsLf5PRB1jAZ/dmvjNx4aYwMQb/Xl4uSNP9sgWD6wcwtiRqc6sEeqZV9w/AhCTfuiKO90yxUZqyv53wokZ+1ll7rxTG970S2dntlXHG/lb8fD4qz//ve//5G0++HOwe/f6k8BBCmDOaEAtRYFIzMgOgtHQjmqD4yDjCSjQkYTj4NHf/UCuktu/JLMjpyOVmtMkDtA2QmNJzc/FUA8MN34XAD8AkuXAHptFGEbAyzB5JGjtbmxrfkuDvo2G2gzs0np27T4bzHQj7cLjjly+CEW8ZFpMZqnH+/6RIa3I8XvbcXhT5dxdEBfvORsNzFj7OiLQjK15tlCL/1igYZ+Bz8+ciD5aNEUNwjajGyq7ORj8rWg5+3LhwMSvxhBtrMhH6qnE1YuSDY7g9UfeEYD9cNisnPaZPC9Pr99cZEPPvMXLT/EzZujg4XtxpIj5+R4rl29WrLklg5jAC+61pA+yC7PXQi9ObPB532frvXFjx2rJz4tpI9uOZBDNqyu+NhSTbggeutvXZFTLYDqSp2Tmw5AFiBvwTikN/vIsemTY6x1yj761Ks6EneHuH4/xsJTHLVqyxcQn/TtC+qsvJqPFvRcjOjO3vRrzeW/dvOEP19W3sa2eALyFtA3xtfiu3YAz3DpG6PPuENejVi/Dn17okuYA1Z8481efMnS1jeXzXIv1upN7OkzHr3nfM+etbFYqBPrye9nwO/4ju+4fl+jXza1ztiqjtQdve3NgLzkJruWTtDc6gc7X4uG3frsYye94p8P2V4uPVcH+ZycsLF0kKWf7md64//whz/82ImFBDOQYdAitIAyGuCVNM7Z9C0K/TZeDsGMNI5OQPBpgxyE6zjQZkf6YXIBud6CLWIL2zzaggbozLb67M1OfUVJho1YYfoM602THIXkZgn7XOjmaxO1sSs4MsVBi0fMLBwbo2K1YHqDMcYn9tJHP3obF9TPtlAh25xs2Owgr9jTac6C8De1FgQaeoB4oxMPsvB1aFZQWs9t0MXJnHiSxTZgHqKvyMnkt3rJby19coLepcIBIx5ih9YcKFe1gDx2FdtihIedXVKqK7QwIGsx0CcbNqdPLjk7vzRw7dWv1vipbU6efEr3M1Gt/Cw/PZAf3v7ZrSa0ySG7+s+/6sGcWOibE6NsL+b6ZGWnOvW5Vm2IZ2/66l4Myzs+z3jprh7VIDnFWD07JNCsPi1Exy61oda16MirVSfsSg49ZLCjOJCTzvrFI6SPTPziQq5+e4O1bE37bO0wc9FnE50u1Hzhv7WPxi85OqTQqe9g/YOeYbq14LQJjXZz2nP8Yc/JhvkMyA3Wfyjercdi1Fz0oLF9Ls8OTwe/MbFQn+Ljl1StXbaxG2RnkJ6ADVBs5ULNkQfaX1ZG9hhrXCuf3ujtb365UN8+bB9RO9YXmvj4Advr9I0X74C+jUGgH4JotMZ6Jis6+5k1Iv58S18512bfYjTRQXJDsDUIfumXfulR7364c/D7J3szFgItJQJEMScW12jAEAnVSqpFtImE+mha/DBeWBALXo4mV5/uCnJl4iVXEfXmJMFoLHzz2ZgNy9cYZLvNoYPQGFldAsyxRVLNs8nB29ucArTR28A67NiZrauLfeSQJ270oOOjuJs3B4wHxszJQ5cAdhjnr83LL+NYoMkBYuDG3i8EAnbIhTl99pnjp8O0PPGDP3RpybR42Y2vQ19MILtcbNDrs6N4OvDFF68F6osEGv7wIV+1eNiEnny4ffaRR78+HjLwaUPPJzSHZ+ObDMjPMLrFpS/O5Zw/3kC+//u//1Xf+73fe10UxW71shufWOn3N/3G+F2ty6/Pq2Tg7TA2bh4derxinH1oAs9obY7e2KBY+q11h768k2EN6NNBFh75kavyBMVUDqEDYr9kpD8gF8oZ+WQD9osJm9q0+QKynZ4wSB77ILlkaj0HbGArG61h8UVXbfPfAaYGHXBacsXDb+r7AuLHMOJBf35B9p2+lot8iMczO8zjicbYytGiWWw+ILMcA/YWHwiKiZaf2bFygLHkBNkgN/YzdSJn/Qa+faXP/3jRxuc5G1bu2scue4e/ZiE326LvGWizWaxcODrwXaJdXNVMdQOjpweyT43hV5/69kgXBS2eagmkM8yWgH3BaSc56bNWykG6tZDOza1n9PZvcQ+7GLeugnjBL//yL1/tQ/DEgz9HCIYUZ4C2hV+A0QsE5ywoiZRUDifPXAWIxiLUChK6Nhy0ZOoDbRuLObrZkcMVUQvYYbWHkWAJpDnjxvDyC6QfmocuD4rbmHk82aNvw1CwfjblZ81+QaXDlB7g0FdUFkZv9ZAPJRyKI3+KC1vRa0t4MSw22gqvcfatzAqMTGPm89VbpY2M7Wz2TH9yPBv3izziyN4WCh/IJodsfBCdll30yRM/+M+XbC/W6Okii5++mKBXX/mcf9UW+Xg8p1O+2YGufBUDY/rs35iHqyPcuMZbvVRzSx/om6cfD1v44vL13HPPXf9EcZ9FA7T5hF9sgdpSh8A4X6CNliwbH6jW6ANrj7FqgE5z2Sg33pD8Rju/1LFDTt6BuIqplh9oyGFflziAxrotl3Ko7tEWr7UJjTySyXa8aB32W1t40JULbbx0WX8OcG/s0Bu7eobWIbnkW8P6e8lQL/zMRrLp9TNhv6jGfrQuQt7yyaQv/eg3lvUXjfNDm+36dKY3lKf40MJbchtDjw+wh2ygTVfP4hyNfrLxR5fsYPUB614NO/x9JfEXDmR5sTHewR99dqYLnDK19Multd+6JxdEm6/6Wra4mPlq5pN+XzHFdOMG+G1tQX2y0KldtWYtyrW15LLKjuodbbKyo2dIFwzSGX087eFsIJcPZ/6TiUfN8LELg5iE5rR4QPkkW70+85/zZfAigxiaUk7UGs8JkAEWmk3L4pLcgsJQcxYR1DeGBl9BX93xWcSQPkGh3zzHJTW95NLtGZiXAPQ2AWiMzQUTkN2hz+42sl1Y9OFjA5l4swM9PhcGNtCDlx9oQ8+KDip2G56WTPx82Piylf9imz36FZJ5456zle/5rU2Glq1QDB3qLixaaHPkk3m2GBMXciwuPAqZHON81nqmEz8b2N2h75DAly1kl2N+QrLNi4WF2EKuBmBADx1kiRW08Vdrxs0vn5yRD9PJPjGmQ+zA6sPjmR1dxLrA0QPN51OYDHxoHIRvfOMbr7cTeoF5NopDvsTHRrx9tQLVAt297Yu7t1a1hj872L22QzI9Fwfx9UbrkJMfb3D+9txlA2QHHXygn25fs8Qg39jeOqZf7TgMvAmuXvICPPHKpRiwocth9FCfXDRqS0xcVP0NvktKv2BnTCzUK5nizGYQn3m1Tpbcs0081CbfHGAOFPr8jbp/fMdv7LskLLAdFE9tuH4Wa2PluDFtPnqOLqRDe4Kx1VdsQs8Q1CdrMcCfntAYwOeZXdWdr5jWp6+d4s2H/dQPsit55CQTrA79WnLVFj3yoR7kr7gUN+Nq/7u+67uuS5o6Rie+/Neir7bCYpFOfXzqDXbpVDdiou0Syh60ePEF6FYm0A+zmSw+W0tsNGccoCke2ujZpPW8GE06a9nB56c5+O/8Jz3+Pe5bgIzjFovAC4YW7ubJqW7VNmEFYsGZQ1PhOSw64KE5zjC8jWYD7tk4BBWbxHCcDPIctBYp9MxuGzoacgQTrWArZjpKLh1s99awGxmbkgE7zPB1SOmjJZvv6PmMF6AHbLAx0s83NkBy6RczmxM/0RhLJvlihN4cHv2KwXxxNoePP2whxxw++vEUM/56q6E7mWIrtzZRb1R42Ct+gDy87NwFlr304C+2+NOLr9iKHbvw4qPf5utg80lRrMkC+UgfvyAeb3beVG3SLmzFhm3RVwtksKFN38IC7CEHXcAXscTHFwekg1vO8foZp8PSBthFknxAPzCG3ud9SI45ss0FntlpLvs9Wz+f//znrxypIZurw7rad4j5d/OtMfQA7324/veLUOTS4z9b4Yu4kS1f/BcTfNW7GiBDXZnju/VCPnoxlUO/M0B2m1exYSfkM155JKe1gW5p0akPFxJrw9p2yZMv8+wA6pZt9gYHCCy/fMKH30XKwaG+6KE/3WLPly4Sah+w31xrJp1sM06OfIpB4yC/yy9gZ/7F29ponRtjszYE5bB8oi0P/MAP0mVenx42sB+9cWN0Rpvt5rK3MWtfPPuPpfyTzdabOvKJ3Vu3ekJfDskJsz9onA6YbewRf/mVL3sStK6Luzr0lQraP7IfZLeW/PYnLfnsMEcO3H1nc2w90Qfwo1Wr1qEaip+OhfO5NWTdA76QR59xtSCGnvGyjx3Gq8cFNPQWL312rp9y8yS488b/8Y9//DIiXEcyqEWihcbRZUjICI4W3AKuhQxtHOhDsiAd9BkjC5IlOILlQKEfVBRaCeptPz1sxIOXTON4FTRdxgp69kG6BR+Khzc3h5Kbpk3T24HP+B3+PhuFNj06yGVD8ko8e+k2D+nome/6/FGEPq3xiYzsAWj42eaLnmwbnk2QfjSgeJozhsfGRi5kG6C/zZps8hSuWNFfXjt4PZOFFuDDLz9sSBbeFrGDhg9ih0ZMxINMtomfWONlDxu0gWdYTPnOFzYUc8BfujdezeEXE6jPj40BNKdlj03vu7/7uy+bfRLsE7m4yBFb+JEuuvE7ZPCpkbUD5gcEZAB2QPTk22zVnZpz6LOHn/LtjZf+bAdkg+SuHnaR0aEvbl/72teuiwz92YDWmlHX/cxeHz9dfLU5iz1b1Ejx8sxf/MX/tIWN5GjRxOu5OMon+7zZe/N20bEW1Bss/9G7mIi3Lw5saL9xsXOJZa8xNcc2NouBlg0uBT7r29zJE2f5VotkosWnLsWBH/hu+egZ8ocNWj6i5ScatqBpjB/oAN/1jScHz2L5wpevIPm1xsWpeMevT7d+wC9gHGSfGPSLff0inrl+j8l69wzXLi09+qHnaOoDutksvupevHu5Un9sULt92scrTmTKMbS/yHO/37UXPjb70aUDXGtci68zRoz4KFfsgOqFPebI04o3/SEo3mFj4sdG+xu+YsBfdWoe0il+eFZ2KE7pJcPz6gG/+Iu/eLUPwbd88FfIaBnBGImANiUbfQW3cpdneQuIZ7oqQs6SCdBXjOjMFUzPdBUoYExQJE8RWeRksV1hkaNYyJBkm5vWPDry2KHw/BKJDZOMNjV68qnEp7dxtukrMHpAdFq04kVXMSW3Ish/dmRfiS5edJAB8GePuWzUGtOiL1ZadOSX22LATzzobZ42+g59POxKPjo247Uw8ZIB1IKbvA27WFvQ7LRAbehacvu5ocUGyIUbM1De+c2O/F/f2EgHO/jHPvxafmrJ4ZN+NObUDF6bm5/Nqx+ABqoDb+AO5n5HotjTbYPySdJhxN/sNrcx04bGs5/t7BAnOvSNAf7Q6d/PFzebFj4IyIqWP+jlxMbp4moTVY82cZ+1yyXbyeAff9GpuXSzj64uf+jZJxZ0eMZrTP4808+egAy6xL045DsdYkK2g95XFa01ygZ8kA1otdWSt3hvpvJGhnnIVrWrZWN1af23oTsE+ido5VuMXLZCv5gpjy4C6lNsXAzkhb/lsfh7BsVMHGDjjbGFX/GT5dkcG/mijadYFS/66KiFYMeqJTogHeVEnw6+2OOMtY6AZ/qtR7UuPuIkB+LhAtwFPh8A2wJ2QHbIuRY2HjTONiiv4qNu1aBYi7txcpLFFvuS9eBLkPXgC5EDXu34Itjbuhb6HYX+TFttqC++WRPBxps9QL2hYbfxYhrdonF5FGPx332zObHVkl9egmKoheV0x+gxHt8v/MIvXO1DcOdT/3d+53c+6v0vMBIgU4ySYIFLRK0kMBiNBNjYFY7Wm52ESBAHGcdhLQcEEZRAMkKyLUq05MECSqciaGPBS4bA0pstApIPCtOCNibR7LCpsV3BsIVs8mwiQAGRg9enXgWOBo+WbRUnoDdfyINscttsoxQHnyPpEVNxJKNi4DfZZED6xSqZ5Af6aPNTQZIvLm0YeEN0bExez11IjCeTbZ7FXQ614oQeX7xAHOrTbZH2VkqPW3KHE1/5DOUDeNs0Tyb/vSG/6U1vuuJNrrjAdIsdOy1W+bagLWKLma7G6eYDO9gFiy15xj2zS370yTWfH2LoELA2bDp0s0EN6BdXv/Hts7tNhX7xd1H88R//8YsW5kex0xc7ej3DciDv7GCjfrGkE6L1pv4Xf/EXjzcr8/SoR3EG5LNFXNW7/1rWBi6nNkQbo5jRAekGfLXZk0cGMCdO4qUW2C/PUJ/t7GKfg5K+82DLPzbTJxYgHXxgD7vE0prJLvlgt1oxTiZb+MbWfuabHWoAkqM+yHBoO+DQsw+d/cDFU42bY7s1Km75wz7z/CeTHXyQa/IdNOxiO5sAOwBeddTaJhPQJU/m0aLRFy+2NiZG9PbvBgRihQ6KEfv0ychP4EBjrzkx5Je8lBP+eZZra8jBjhaYs9e6wDrk+5NGfH5vxWWLvXj5BfWrcS1ZfGGv5+Kysaim2VQtaZO5deKZr+Rp1QIf1Ux5lA8tSMe24k4/edpiYZy/atoekG/0izG5LqN0snFlZmPAJ7xii1Z9sJkueW0vNO8ZLRtAsVmZ6SouZEIygTh/+tOfvvoPwZ2D34absgTrCw4jBYKhWkWszWj0itJiEHCF1u2LQRwpEOQBBreoOaOF5FWcAA0oKOSYV9xkSHoHK5ujC/hgTDL1LVxAvnHy2YTfPN9aINmiAMSAnWJgnB0uCXiNQzEgg102BT8r9K9StWHaUC0gcRArbyj0sYU8bXaBUmSOHjHlL9nFkc98yPd42UkPXoAGXwsincnGx0Y54IO+TbENzvPWBcBnjL90iRN/vO2isSnix6Ne+I8OjRiKixrR0gtsJm9/+9uvyxaeMxbizBc65bLN14bkl77a6PDR0eKVP33AbkhGeosnoIOt8uvnmA4KvNDc0gJy+gU5m6eY/sRP/MT1ewF0i93yiQc0BvNRzIyTB4zDjTtZDhj/U56ftaIVj2jLd+uTH/1M32UKv9/rcGHK/+LJvi5u+MutVqzlSmyNORwh/7KRfWJODyzPbDJPD/1a/uCrZYf6toG7WNAnNmSyRexdotVktmrtA3KkRa++2UkGWgemA0Es0HiDV1v8JI89fFCz1iNdTwPsqn4dCC5S6o8utrHXVwUHiT3EGF/pYosY87v8ozeHjmwtECt28qOffxsTL7aTKbae1bhP8i5BLtbG0FsjeNItJ8Ueyg87fAH6p3/6p0t/uVT7Lr7sVdsOf/HuZ/4L+YOXXC0bqiM2AGNQrozRw1/2qxkyAL6ALM/QXi32akUds4mfxsUEbTEnW2z1Q3EI6dKyD59+udDW55t6EgO1mU/5wN/sBOjpVmfssi+ZMy7eZJpnZxcAtuUjBPmdXPY2b6x5+Fd/9VcXzUNw5+D398Wg4RJHEQMlhIEMtTi0FREeiRQAgVBoFgCUIICWs5wDFQI+OrT0oUGrCDyTl02eBY1+N1r8Ngv68AsquQsFikz87E4nWvLwmQP8ZoNNIlqJ0/LV5mBB00mGBYFWgsnADxWiDdZiqqjYYRMGNiabTRsOf8WmWHtmGz5ojr/iafOt4Lqw8AENOx22bGvToReNWNmg2EMvm8Wl+GrJIZd9NjTyIDBHbj7GR56Ygew3ptjJYoOYiRMZwALNFzTksdFB9eY3v/lVP/ADP3DZxyc8IYiWn3h9XXIQ/su//Mu1EbMLrzop/0AL2cYnfTLZrLYtcs/G1Zf/rMZFhCy5YIs57S2wOf/jP/7j5RMffFpHTxc74tvY5ZPnHQfFGr/NRjzlxUbXp2nzxQN9cRJHtemTrB9VOIjJ8DNzG2Z+Q7x0qIVqD5ArVmKsnttcyXXoV6NnjuhWX10+AfnkwHzUkq8W+hRLB9rWOWCX3NhP2C7vns07mKwfz/jUgjyoXfHpAqH+vM07xNQhWQ5Ssv2+hjn2oKV7Ib8CcWmsOvQnf778sJ/f7QvWoBjgIV+sPBeX5JqDntmgTza0TrpYeJnwXN7JkTN++IrhFysd/sbIYJuciTvZ7Sli1fosx/aqz3zmM49zJGYuEN74xZd/wP+5L17koTuBfLZpzVcfPcsJm+yP4qWOxIz94uZZXeJhW7GD+vZeObbexYMfgI2ArPY2SI44mee/2FS3ID1ikh5oXi5q2W0PFR+0eMTXXgyTwcbqiC347Ev5QV7IV/ujWubz6gPJFDvjWvZCsPZ+6lOfusYegjs/43/hhRcuwQUEEt4Y40oIFMgNHoMg5xjabZTh4HQo2hzRFqzkGhNkdMmCguxZQAu8ZyAAQQGC5s0lK1uyTzFAG5bi0zdPv4WmUOnCx79+85dsBWU8XexW0DYffOkwzjeFKz42H4eEjVLizSWDbi2dNnu0nulhm41XUSXTXBuKZ/zlzBgb2KJwvUGwnV/xxwON0ctOrXg1jo5eG5o6YE+xRyPG8sE/sTPfBqgvZxaq27N+uSO7AuafDZ39ZCabj6A4AAvbHP/EiI/GLHz2AfL5UQ61kH34YAsWiJkLmjdDmxGgLxuyIzBHBh/N8cuBy36x5xPe5V851SUZgLx4jLFZLfklt95g0bfG0JOFHvhS0f+P7vO+mpZrh74DBJ2a5Sdsg2yzlONskhd61Is65JNLUbVHVvqrvWSaS4487zot5mRbS+wSt2qGHnVgXeiTB/iBh/386gLCFnXljay1SR9ZbHX5ef3rX3/ROkB9nXHwmPcVji42kVteAn6Ur3AhHexxUSSvX/41znbyi238YsPuYkx/KDatPXT4ADr0/OC7Oksn9KMc8QLy0X7Nr/KDn3x2sJ1/9NgbxI/+akT902HeviEffFMreMlAW4zYupj+kH5xsD/6HRUXdpc+vhpHQ07+As8hmWx3afNb7OSk3z7KXhc5l24XQigPYmVfd5mpnooJXnqNmeNjuQLixX908midQ/q0nRf4yEyWHMHqvJgAvgTGyIfAHF2A7ngAGs/NJxO+613vusYegjsH/yc/+ckrkWGGUeBZQApUBQTNUVpwoMUrkcYDffTrEFotXdrmk2te0JJbH635DpjmYfIDYxWMuS0+fjiUFEObiHEbp4TxV0IVeQUD6bc48CgwyUcL6LA5eXvxdsJGdosJfUBsILDZQTaZZyvfPLPZHHlalwRvNDY4c+WEbVtoCrB+OQPlw6ErLuSSxUZ6+QToJgOf+LLVHB6+mKfbpgbKAfliw9dywS4LxLhF2mXHfDLRwXwn2wZmQRWT5kF09C26qPCFTnluwRnjQ4c9nQAPQCe+aNlp83jDG95w5bZ5+unMhoVyqxU3cthefui75QPMBnqLBT3xsF28HPoONLaIG3/o4adnPEDr0uRHdw4E8/z2OwEuDebZVf3Tp2UnzB661Uf6HQpqRc2rd3LRVLeQ7GrDfHnJN9gYm8uLeuwSbb3hr4bZRBb55ODlN7vVfbaQxT9fQ8yjY4t5sfjBH/zBa12L4Ze+9KXHX7PM9+kfPRu1C/xi2yKgo2c2sBmKbfNsBmyq3rXFRB82rxUPhyxf/AhJ7l1WjMmJWKhRB73P7g7iftHUXHrXPlB/bSh/wOWLPvN8lgsXYHukGmCXS5+3fTlK3mJ6A3Ehq9oXc/XoR3MO7l5A1JZaiI5NbNMHZIZsd1nw1Yt8a42dLrli4bC356gdMujPhup9ZWs9N7axQ4+353hbL2pUvsXDfqgm2WPOmHnxtL9sbIydaB4Ug0Af5rs+m/SN4YM/+7M/+4jjfrhz8P/hH/7hY6dABjJCcDlHGRpYINGt4Z7DAoTXgsCTE2t4cnKcPjTmFUry6ADoVx9AbzxIB9CSyRYLvIO8G1u38miSxX6+mkODr4VtMSgwY57jsXAt0H4W1KFpns02KAdEsQB4HIr0k6c1j5b/6PlqcfSPltgILBrj7ETPDvbjh2ynYwvEmJZtgE0WIv3soI8Mm6SFb64DoHiSh98cenzm6BADfS3dXQ4cyuzv4GWDeYiPvey3UPTpdlO3eECxylc85b6WHTYotHR4ZudebkB1IhZ8Ldd4HGzelH0yNcZO+vTjN5Z+aA6gY388fMcT30LjMHnFTb/4sdubqc+sxZqd/Eq/eMWjnr3deuuhX+78+/LqhawO02zw3Fj+Gpdj9PLm7crBD3pzQgPQ0wvFcxGwdZFcbfSAX2qJrNZidby2eY7XuPVrvZjnv0uxrxJoyDbuMPihH/qhy2a+fPnLX74ODL4l18EvbuUZFNvimr+AncDYLTTPz9Yd/+hjF/CsL5dQfYqxQ9cFzVswdOA7/P0YoUsNWmvDAedHUef+A+gE/Anygd72E/7nswu5fzdCa0z8xLe3e/rVnE//vgCIf0AuIJN8z+bJ1dJtzriYOLQ/+9nPXntkdrMJ0itXdKbDmJgBNGLgkiKfLiJsZJMc0pkdQfaBYmNe39zOZ8+OZbu47DhYerrZqk7VsRZPfCHdEB+oViA/6YPVHvQc6BeP/CH33e9+99V/CO4c/J/4xCcuIYRmmH5FwIkcgyCl6EIGFAi8kicIDtr4yDZfAeprAV66tOhaPOsgMB6PMZje5NNHv4XRQW/jYg90iOcP3+IP8gnSX1zQk0Oefjqhg94CtlHqG8v2ID3a9KLLRgvSmORWDC4Tir3P2YqeXXwgP1p8oKIjF5hHZxyPA5Xu5uWCXIubDDEjj16HKV1sLhbFA1/j+QLSlQ1kl7NkFGt0bV4rq0/KYkwOBPEBctDzT7zFxSXG24lDjz/0kocvvTYX/2iV376nw8ZszKEJbTx8IxfES9fqB+czWeJgg85mgC4MyAx3HtLlq9EXv/jFa7NLP7v4hIYerTo3522fX+qT/z7vO/jFhj1QfYm5Fp/4JocMeugQS4epGpA/49WoePLTOB/JA/V73njlZ/OQHDKsF3WiLltTbGMj8JydUL3IERnyh9ZFWN7pVOMub77ciIUvcP3jM9UsQOfgJ4Mt1coCfdkOb8H6SL+6gfXzie7qE/ry4CLiQu+CJ999FSvmEB8QX767FHvLlc/WB7u1sHyCZGQbBOjFnH0ulmJjDr940uHtXozZJTa+LDj8jQE6IL72ErrLVbqAenEx++d//ufrRy3m4ndo+0Lll1CtQ7YlA2S7mnQBEjc56zN+tGSxY31u32kceK5/C8gJ9NFmazb13NjZL45iJWfVgDhk29qTnekSA7gxWFg7zD3TG//v/M7vXMyCswYw3uKruLT1S45+c2ghY8jYMYaSST7nWxjRAjQCpc0WPBDkJDC/fKHNwwalMBSUZ5uEvrH1B5IJyCUvvS1e6GZuIdpMzZMJgTkL1U3W4dxvs5Ox9gbZzAYbj0/KFrECNlds21jdtr2x2fzJxOeN3BcHLR2QHTY/G4gDj7/dnCuiYtmGSRYdfCRbXwzZxc82fbC+6JOHTlGzmR7P5MKKvrxkZzIawwP1bXBiLLbi4suKza2YgeQAssyJNx/wOqygfvmVc3aKsc3MvzjmE3B/4ubTqb6Dk81iIf5kszM9YkLmQrYE8sAWdhfzbD5pzRWPpaFTvm2QfKE7G9imZUcxFGtfK/zyGv+Azdxhpy7F04HNpjYiMddff9IhnmqpT/yAL+RYW2hs4g4vNVQtFWe05EK08spu+tgK06tWbeYORON04OEbOcUjWaA58qC8sNWhyQcHiEPfGnBo+bzvLVpe8EI88u4LD53sBxsPQP/C+QwaK35k6zdOL/usJ3ETUzHms7f9frFRzeFlH8DvOXnksM8brjyLNzAG8y3+0x4IsksMxexzn/vcFSfj4iAe6sl6YKc5YAyiWf/oKGeQXeyht3l++4U8f/pqbeJVk3Lg64ULmD1NDbALjzZ+64odakU9qUM62GePMi9+5qBYadmg9oqFvjmoX3xDkF/a+E4wt7iQPnESD/GsltO/+ool2pVVPM1HEx3f9Y2DZzr4n3/++UsABxmTEoaXCIo8w5Qbz1jzawxnLUr0Oa1fEttYjRdYsvBo2VEAwxyG9dErNGgDcmPUmsNPvk1OoSQbkJe/FYnnEuPZgW6R2uAsXC1+B5K4eO5TrE9XbqIKMRn5t2BjVPD9XIq9bLf4FTBbAX2+Hjj0u3CQ5ZbrULSJA7ziyl8x9WnQJmKswuc3vcbKhzExkAubb7ToXBjYblMwnw98x8d3i9QtXZ7b7LXm6DDOtmLPZ3lBE7IZDcgGzw7oLi7klHt2hMC4WMsT36Gc8F/80dFpY/FP5/oNZW+C4scu+tnlLUZcqwlAH5+MkdMc3xayJehtrTfS7A0XyEz+ohryc9B+AY2cahPIE9vM4VdDLjP+XI3dasYm66BBK5Y2bL6Kb7khA2QHQM/+DiO2ZGP54mNv2OqQfjKh/KNlb7HEzy5zkBxz6OTc2lFraNRK6wddfqJnG8xedrLR5ajP0X727VLHX2M+YfvykT75Y4P8+zrikpDvoJgEeE44x3omhx4+scUbqjg53I3xzzwd/GO3HKMzj1/b/uM5f5Pvsm/fYDd5gE/knmAsxAvZik9fHr3pdymCak0e7U/WuLx4ocHnkBbX6jo5bKTDczWSr/Yx8fengn6hz14m9n4cFbpgkKOe7Dd42UKHWlCD5vpPmNqLW+t4illtlwAy8j1gV0D+icUC5tvK4CO5YTSLoPig2We1kWxgrD5IV3r08a5Oz9HS90wHv1/uIwBQtoolkaI2CmMwQ0Dt8oFahilOc5Io+QJsPCdqKxqB0CbTPHnkKDwHh00HKiTFyj583QDR2/RsTHiSS555aNGxR6uQLNRQgWktELTZ5DM0e/yykJ+5m69okl9M8suYw8DC8Us5NmFzNoU+4ytivmjJpZ+/kH/86S2eLvwKnG3e7NyI8aSXTLbhBeVP7MTZoUgfJNd89ia3AsVn4TuUvXE4LKsJPOjoWpvKcUgGWyAb5ASfBRqIC3vECw197MELyAfkgRa7Z3FCp0+GjcsG5lB0IPDRwdJBRT+wEB0SDsr0Qrr4vjnVT3e2AH12ssXn2w5ZYwAPXoDWM5n5pS+W6H2ed/AD8tDwk394xRXo88PG6c2VPvXkxwP9MiAeXzXUHVo0rQU2ZIdWzugRBwe/+lnf8Vhb8tyXAHGWI2tCnw9ksZEs/PQVb74kyxxZDkD1y1b2lU80+NBDY4Ds1rjcQfuKOHjTl3drwZusw0I9FltrRw1Yg76QyLM5umGxANlo7IRs4g+6QL/1KI7sIr96p4M95tSJfAE6yFr96dVmu3XnsNQ2lh2LAVnimR/lR99buD/hEytj5siyZ1o3atglsnnPLsjWUbKhfEB5ILd9Qf7tRy4XLjhy6c3ehUuu+KB2xKjfYVBDZLKXf2zv61J7HGx/Pvdse6f9XIzxsqv4AWP6dGjNFbP0Qnxoi13xQ1NdQ8+NA30xrJ9sfTWAh5/sjC7wnKzkG8tOLVy6+J7pZ/x+uQ8QlFIgeVCxUigY5igt2ehzIOMyynjouU1D4KCgAjLxCZBCLgkBfmMKR9HtYW+OHeSRDz2z2+1YsaIDe5Bp23QUUBcAY1qoIEtyPrPTgYneYZE+9q7NC3jZ4fOct2TPeC0GxdyC4SN9bCLXonBg9YaqmNmir4jkBR1ZFo4FgoYMxcUXsbLR5XO22oR6E7dRWoT6xT9/tRayrxwOfIcm/eSiE3+xRguqk2LNFuhZPM2hZ7+8QPI9k+tyoc9+smw0bEo2fYBdtcbJwM8Pm7qDsP/Ji3/m0ZIN8YgDexxw3kr8QlWHP51iRB/afA2z5UT58DNbsulFF5iPj454QDGUS5c+dYEmG3cdyqU+mxzo/rZa3NRkmyw7yManXq2bDl5yAblyVJ48qxlfrsSEbvzk0BkC+o2LOT/VKlo81Rlbq1V6N4boIHkd/GpETZLNHvZCctm8NpABzNPj4uGLR4e+z/u+mCXHYaaG/TKYNdgbbfkIsqv8FKv7YHkD9lmH5ujW0pO/WoeU9SA3bOe3HIlV+5U4xit2ahgdP9S5GmVfsvVD9CB9xb5YyvMrr7xy1QqotuhWSy4XbO8Lojn29bs3yZFnvkJ9gA/g4YN9yX7hS4WD3z5Clj3WxUfu2cY3svGRwT81YX/UWpvWh72huqXXnHonz1zYRcDlgAy1QHaxYW/xCZNrHAI87AN8bg4dmfFAMtGi05a3dLKXXewhN3tCz8U1mzyLd/RrS/BMB/+f/MmfXG1BSFHKjOUo4EhzaNcARhnPkQBNCdIWPPTkRy/ZipAOfa3F0AbShiPgitfiIU9A2UcPHvT4K9Dm8CYDdtCTV6CLAQQFG5LHDoXlwiBBycZ3gnE8DjBvXnhs7DYndsdDtnjwR4wsDJuTBWPhKHo6xcgC4SPditrbGf/pYkv269Oh+G3kZNPDH3N7OFhoxUzfBsAGm4zDhf1sAXSxFZ1Y0iUmFm2HuYMgdAEjK9nlstxCsl080LPfwmCbOfLweIaAznypXtDR5XJioxcn/EAc+C/XZNNRfZKDlp/ozYsPuZ61aNOZ3vqL6skbOz3ynX70IVhZkD02hA5d+Saj9VI+xZ0MuRcvXzMcZmz0W+FqK/9aX+g31mSZC6Mln24HsUtEPuNXI5Ce+pA8frIFrdpo00Irb3STsb6mU0sfJK+vc+WJTHXDFuP4jXnW7zByqVar1oIfczgg1IOcWkfmHTq9LasT9m0+2JP8oL5xsHONna04wo27lj4I1Ke4uYSwjY363oS7gKO1ptQmP42LD9utE7/IdrQAAP/0SURBVDTit3Uc8kUe5EP9qCNjbOKDA92Bi5cOcq1BsbTWxQi9vHR5QsdutvDHvDnytYD8fKQfDd6+OrGbffYkfObolSt2dWh7JsvFQE3aL/tdELEF5KDR4oX61Rab+K2WuwjUtw/zjTz7KzTfeqslg6xqGtJTP11sQlu89ZcW6KOjs/1tYWn5FTQGGs/n4GkO/jv/ct9P//RPX8baGHNC8iTXYqSkZ4lXAIrOeE6abzNoUTJYICAaY3TYHB1YgoumRUKGolIMu8ghu8iJFpDZPCTLHMTLDvawm7zsqmjZIvk2mZJLDhqQHHKNe+5w4Tc/ipc5/XgDOvllYdGr8PCxCx+edBY/+ixyC56NCjJZNlLx50/2iws5bOCDlpxTNru95Wh3c9GyjWz8bKzw1yeLjz5zdLCBjWrC4vVMXzqzg91sJY+t2ROYZ0OL3aKkVy34WabN2qbO1nJYPrJNSz4bxA/UVoPFG6DDnx/kkgnUA3vRigvb0BVbiF5Lb+jZp1H/fKZnfz/enwbGB8jNjnjp9HmeXpuyQ1zezbGLPvq7SLCp/zlQ3uj1LwfaKMlGa320qdt4bebyZdMxH9CBR97ZQIZ4ATLEANApVoBPnsn2ydymTgY+9jbPtmJdXWQfVEt+9utHG9mKzqEkX+rVFxw1xg70rVf10OWSLoc9WQ5/9vRnXubQsgUfe8hii7iqk9B8dvIBXbkzBrSwse3jVYddHgG5xtf/eLae2WVOHqwzeeAvMM4ea0SMvJV3eQH4A/3y37rLBjLYJYYQHdnoIH/ZoU7QuYiiwUs3vWJrbRqjg41asqE8sotf5rTqgg1s6WJLdi81fEYjHuT7J6/Z4Xc01GR2lie6xU8L6ADl0zgsfwB/dgK0AD1++mA5Kaee1VAXuF6AosHPdvEjX1zjgfZaMaHX/P74ZH0KA/3006t+5UBsPZvPz7/8y798xHU/3Dz4GSTRpjjDSEoFXMtpyeYAxymnGF+bRIErGNAhV1IZzgk8e/ijJy+HkkEve8i5lfRsNFahh2iMRQeNldRk0s+2bH4I8GUjXvHSPgnyDaBfzMeAnfm+GFQEePmpBcUJ0mVO0aHnH7loPSsem6kfIzTOF32bqM1S7OStmnBL9UtYfT5NJ13eEGyyNgu2ZpOagehshBY8HWSia5HxR02pL/PGHPTZUt2cgHaBzQvsKLbbGhcnfXaQDcU9MAfF7oz/Av/zSesTs0WIx5v4W97ylsd+0UlHdqUfr7cZtcgHFx8/LrDhmTcGs1Fe/ZzUxcIh4IJAZ1+Rkk+nuMoLOgeFmMuf3JIlP+oBn/XYz1qLBf1QjsiDnlujZLvcaG149gfyzMP4kgPFgT/s4LOfdcPq1ThZaPtSpmWrcXbyT1yNy4Ha8qVFDFxwvEVXj5vfkE3a1goQN/lmmzl50ae3Gk1esP1ySg4+sshuXeIlN/kw28w1X21aM3wlz5yW3WwRW/Eynnw8yfTM/moBnT23l45ozGuTr78y2GocoqG3eKDLZ4CHTWJqjB51Bel1wPuRmtruDRtkt1btyKkLLRp//tclivy1F4/nhewHtWiz8T5AA+mIT9+YGOAv5sUfskuO2SjfgA35j14dqh2XJrz2Unm1zvKFDnIgmcZvyaqF7CyX/tOuJ8GdT/0vvvjiY+dyvkBADjK4hFMG0Lc4JIAhBY7Bki25gmIseWhy1LOg2JR6OzBW8AM8CorDigMPzB7zLbL8ICM5xqPLxgoaoMf3JEADyYNPguzQxhN/+syduHpWH2Sz+DWHPohfnADd4mVD9hnRYSqP5vHKn/zIkzclORMf83vJEzvPciTObCh/Cr4cJrN6kh/yeqMo/mRmq4VhsftdBm/3fZJ1WNFXrtAunM/0LRSbWwjIXTR+ysjeEKyceMWHjf4EzyHWhufi4iAC6NCQkw1y6M3OgeXNoHg5/G0OeNi0PN6IvO37NEyHt1yXsvLBFuvIwdi6okee23TIl/PWjDl2uBCwwRiglyx26GtBz2jlEh/kL73R1mY7XxarEzaqAfXJZuizs9rlj5YeQB56l0Oty4DDpF+qdKFVU+yG+CFb4oeAbjnxzGd0+mSS1+9MuISJHYiX7WodklHMzNPl2Zzn9NPXelqbxCc0tvNkg/a6cgyyQR61dEI86PBY79ancfWiZQNboi8P5OIpbtmaneSmM15AV5BcNtFXq8Z8zeqLErogOfTQLa8uc77i0AXEEQ8sVisD9Nz800Dy8pWedAHjrQGwvqkJl1c2FpvkkQX3MtlY+2sXZc900CUGdOAB6SWzWqADjdbYe97znmv8Ibhz8Pv/+BNIaUnOeEatYcYpxcPhDPQsIDZ4m4oNxgIyT47WPIyHXBsF2emGOUYmfcboRt8FxLOgmF+aLfYOOWMC7Jku9qQTsIe+h6BC0IZPgmxDyxdYwgLz/MiWhdUF8d7iT0aIho8OHb/05B+m6RebenuSB4tRYRY7YwqZnXSUTzItRp9eyewXksQUrQK26dNLXnLFHq9FbKF4xkcGdBnxOd9h7+Angx10F7f8W5+BsYVzHsQL+VgfsMtYMTO+MjzzZyH+MF5yHHw+Tap9MeEvFDN+8d04WvWmJtH6zE2GN9vyYHP0ubd6yT5rxWdQn9fR+gLj4CcnX7QOTvEVa/xdvNjDR/Y4ZM2rk/xpreijox/sWsue1hAa+tWNS4nDN3nZtIC/uGrJKD6tbS0+G6s3RbWUfdUa/d4KXZoczHzr6wA6iIYNeLMfgvXPnJwkz+9KwC406hkNxEOXS7K3Nmifg8aTR2+17DlgU8D/bAqLjT4+z8kH5SKZ5iE98Yihlg30QfOw/JJTrKF4tTfGu/z6gAyQzkUxFJ9FusyhJ8OzcbRqxnj+oNM6V+wZ8t8YSA8ZyV3YOfgkyCe04uHMsCb6QqbWxMWYmjMvRuXV/oi3eOUDng50scNjnM8AndiTg0b80RjTZn9y86X4auuL1fvf//5r/iG486nf2wMFFDKCIiRahjEqA9GsIRYk5ylX9G34HR6SCshzcOA1Tk4FV6GhQQ/JJIdzeCo+fJA9xkGBqMXPPs+5qiVTm810ovfM9ubvg5IB8KbjIUCDFrBr6c0ZM8+XYmMsWP4gG7IVX3Ra48Yc8t5+bMaejSffIWBDs5nYwDxX9GKrAMU7nvQYq5g9ix8aMvXVgcUqpmrBIQD8PI9tvdWzy8HkIDvjkj+N5+cZh28W4icTeobJB6tjfQ+WFqBnK5t9Jv+DP/iDK57l0Ly/LPjhH/7hKx/G80u99Y+n+I1nFzObhfj5BTV/X20dkV/cyXjuueeuOOLz99H0AuvLerJhySVZ7JUTMlo7rSOtnLED2mjlrJrQx5vuYsN+evgsf+oFnXF/SeEX1ehFn574Nq/a6se4miEnWQ58XzK8JdKvZvyIymWRfnESAxckMTDmlx3Vuz6Z2VzeegaN0SvOXlQc/J4BG41bC2LrMLA+2JIPfBMHkG9iWczwmieHPrEqHuhh/mevFhgnz9p0sXLJkxMHkANJ7OlIBsBPPnsB3ZCtkKz0NQaNyQUEyQNoyxXawFi2auk2lg0B/ZtXcXax9aMZn/7VmzrJpg6/9uVkZmd6G1torvknARooXn1lEl/PfCCvuJDJF305Fks1KDedH8A8fjkq3+qRLPZ7JkcLyV09fGr/FJvWBV56oiejc9Dl/0lw5+D3p0+YK1SCAaMkwCZCQYsYLWAgQxnFwG6/AkCGeW19vHQA8gqweXPJg4JaoSQDDfsEkS3sgOboxB8YwxtyuaCSq8XDbrpA42gVg7Y+ecBz9kAyS4I+GxfMxQ+TGRprfnUG8S1Eg57e/NanX2y9zTlMFJ94meOfImpB8VsMbEoKmBx8fhbl0GC7MS1ehehAcGEgT+7Q9vP4bEHX1x7P0OLol3b8gzr9sl6+8ac8hZ4DdHzb+cbpFYszF8bYjaZxYA6kwzMbAzzm0IsTSB+f9dkurlp6oIP605/+9BVPz+jIQudn8m9605suH9Quvf7hJz/DBN7gHerm5IQsXw/IYhtbxNrfqftC4tnf66MTZxuWC1WHEp/p9Yy22JFFvhxBuVQH9EC1IR4bSzZBvMWF3MY9o7U21ZyLTjaID93iUYzNQbHpmT76yTKufhx0/sQSv3kXRf9lM//Zvv+Mdb/Q578Yd0Czj594yaebPezwzC4y1aVfJBQHc/jELdvZs1gt4QWNkQ/ZTi8ausnQZ6e1U+1YXy4R9tbd0+gnmy1a8vGQIRYvv/zylW9fNawjbbmFG3NyW8dsat1XUx1W5unJZnLKlXHygDFzAV/ZiQfqJ5Mv+CAZ8aJLtx/P/O3f/u31UoCX7QFa9sAF44vn/AJ5dC8YowsCrRjZv1ym1ZhnwD/IXrnQZpMY8tPaUavFFH065NYZ54LmGV8xA+iKW3Ihv+gTI1jetPRkEyw3YvkkuHPw/9RP/dSlkCBTlDCmgrTZlUiGViShAChGha31DFNDln6FbY6cbq4VF2cLdmgML8TDluwhFy8aC5dccsytjSWsgGcX+RLHZq3AFgO0ElOA09V4Lbnk6LNDu2DeWDwgf7Jp55sLmluIBj2b2AeKo5urDVgh801hWlyKhk75ZWuxxRfId5+15EoN5LcY2cDI0pePFgldDiYLCI9c4EOHl0392ZLnbF5gG1z/T9g46hcLgJdPyfcsN+Y9s8k8/8UCOkDEyHgyqgOglgCZ9HWY+pIBXWC6XPlk7w1cvLODfiCmb3zjG69Ltrj5Gbu3eoe/2PhlJge/Ofr9jbWvAezzbBNxOei3+L3hujR4Q3XQ4RX76pjP8qAe+FuNi0E+eia/uLA1v4sxfsguNOS2xrTVh9joeyN38Af4qp9yW1tsyA2Nab/+9a9fb4RyhF+d8d+/WUC3n/067B3c9h2t2vI1RDwCeukik1728LHPyGJjnvx9ESlO8S1WS9VJvrOLfEBmfpMhT+xEz9YuXerGuqFbLbGdLbAckEOerxsuln4rXM287nWvu35Exib2yCddgC3tr3RC/PzOD7TsVVt8gHySA/Oei199Lag1lp9k4e+CwwZxsV6qmeLDHmvAvyHjRyr04Vm8D07ahyB9AXpjkN1Q/P1ycj8CBXRUi3g8Q3arGSjeXnS3jqoX8u0PLuT96Mv4ygPZAIxDEG0orq1ja0KM5Vzc0aqJJ8Gdg/9973vf5WSbIeEMrwAtht0AOJGRMF6B0Becisd89ApA8tGaU5SwgsBTUDnruQVIBjpFCvWNcZw8Cwuf8Ta8tXNtwVPAAF1sJ4M+z0tLpjiQ69l4sosXn/ElM8j2ZIG1aeXpNxc0txANekUTvT6/FbH/gMa8xe5Tqc+h6DYv8YAWJl36bqk2IYeJeKMTG59fHTpiHY3YWcRkipNDzs0ZKnyfsHszYRP94rWQn2vb6XfzeKODnrXm+3mrvNhYOzg9O5D5AOKPV22yXQz4ZbF6Vp/iIffs1wfi4Tm0YdgAvIWywcJUT/Xp8Eb6Iz/yI9cnazn5u7/7u+uTp3GbuDjxQWxdIrzd8UHOHOwuDmLqDdXB6PCzuYuxNYoPbZcZfkM+G4fiD4s/fWxDLybAfPHMZ2OtC2Nt5uIiFlDs+ObSiTdZ5jxvzjaP2WZcLakvb/viaQydy4R/dtnh6POwOPMNnxaNn++7WIkHfWxkM//ZgEYNiBs96hTyoT0DXTFjm1imIzuLszjwGbYvFRd+FwO01SQb2OTwd+mzPunGy27rjY9QDcorm8hTCy6WvvKoUZccf1FRDKt1uuhgB5lo6XXoqx0xNa9m+U83G+wRYmOOvvyjX18Lyh3/0HmGaAAbgLkQbRdkujzT98ILL1xxSE71AUExXFi6J0E2BXwgk19yJca9tLAL8C2f6KgPzcmj+pGPLpDqJR+0ZJHp93vsI8bIOmUbh+vnSQc9V0f2E/XDBnN09+O+h+DOwe9PjoCEKR7CBEiSGK1VRLBArghGZ2zjiqcF1BgHyTAGBId8Y2SkX2Bzlhxgnm70UOIAGgtR8AWC3ZCu+mHBLdAlS58+ASWD/my0KBxuFk92hmzrrQO95yO0l9zo6QJooLn0N99c0NxCNOj5Feiz0SFh8/Vm7jeSK0yAj7zswpMsMcVfvPjsEqGA0So8hW6zEivzClsxKrziqV5sXH7e6me+ZBiHgO71EeRjvp3znukH8Yt3C1DO5KHPbtWeeXye1QkevrGxzVp+XUz6GV+bU/Fde04fyNNXm8Uzfexik80UGvM53iEvJ/4Ez7zD3KHWwc9um6GD37wN0ydsPybhA1nyUKzpNG5MzuWDjOwubujkl614zbEdsq31y4bygVZd5KvWmLgZFydyQz74BK2/smAxCz3TyVaozzdvgC6YxshRzz7xqzW/xOcvJ+TYpu3gsoGzx7OD0xj/2EkmPeKjbn1FULv9xzDo2JY9Wpc1vuLVL5/sMS6Gal/diAF+Y6ExukH68ZPj2Zy6zBf+8rOLCFSPLoRaftFHhkMfjwuf9eX3HfDmB/sc7nyliwzr156pluwH5NCh7rRsweNHCQ7jLpvsJhsvOuvDuqY7H+lEK77kega7hsyJI3py8MuZWn3ppZcuvejSuTVyC5YG30PA/mwCntnOBrVivedPdOIGPUN6qlHxdUaJZei5ukBLB//lzqWC7PLDdu3qwJMudJ7JQ6v1HMiV+rXGW+fG+hcYH4Kbf85HKWAM5ZIkcYzm0BbXGlkg0XIWSir+FgFadCAZaMxpzeWk5HO0ALWYyEMXkgPwtKjih/mBtsB5LsjZAYFWgVes9LNPYXTwe+Zf8UAj8QKvD0/YpIFkZwe/ejYHmss2sH2AduMRD9ssLgegw7hLTPbhy6b0p1frkJETcy1E8rKzuJrXp5sOKDbiZEHZkPyduc/7bAIVM1g7gD555sk2v4vNQSnW3qJtaj5teevt7c8FzIaFnq1scRh0USy3NlEXET8n9tcODlNvTey0SW4NALaEYG1mq2eY3XgBG8RNLPr6IbbipZ746q3W4jXOJrSAD/zkE7lsZSefxAEvO/knR2j7R0HIsx421rV8yq8g+8msD/DwofrgW3OeexPd9WncJiqO5oKVC/TJL7fAM/QlxIHALzLIcylyYeK7f9iIf3T0i35iZ4MVV/Fna75mh5+B+v/4rQm+kicnoFh1eVJn4qiejNFrs3V4sdlBSq+D0FqB1Tg5oHphQ5BdYmUvkUPyHbp0sIN+Bwl99OsDtHxBTw79DhZy6DbGNjXjFyL9KWJ206fGgH1BHfk6ouWnXwzz70+4dJFnPakll4DQlymXsepVbVtLZOR/dcBOfmZbOZBTPso/Ov6xk/9oit1ZLwuN8/c+XJrinc72J/67SPKhmll+qJ9dbFd3Hfpioi8erR1QvvktLl2Qs+UW4KUjGWDHGs++5PQspr/yK79yjT0Edw7+/f/4oUBUmLDkUVgLBRJtCT8THz3ZJZ18bQVQ0JuHgfEchzmdDmOK3cHbZpfcaNGVmPwzRgYf11725yuQOEWi0NmJNqSnT7lsSD69i+CMRXaA7ITk9owWJiPwnJ1ra4CXbRa9haVPF70Av+d0AH0LmK9+TmoDxWeTEVd0NnoxEJM2IcAG/puzGZBvs/YZ0lcHMRZ/OtKrJb+86MNso5ftNhoHgdusDd8vs3ljc+DbMCw89HTD/VTKB/bYnB0SDgaHO5u87fl0bAwNGwF7AJuKV/2e+V2fL/rG9AF7QH4C82LiwGizxNdlxWZkIzLHBtgFx8bBXn6Js9iIFfDcoS9W1gG5xRXUAvFlF9SH0bN1bTe3NYaueXUq3uKmHrSexdPbuZgXk3Ia7z7zQ0s2GVr57msG373V+rEVOgcTW/vHp8TT2mx90pkO/IBMcXJBdNHq4GSjGtEHNnOHm7qyqYsrdFAadxlxQIlHhz6b6TRGX/6CbIDFTms8GmDfs4eog/YWdaAurTnxTQcfxaTDS7/cuHiL3Ve+8pXrgtNXIWgNW7P5TLaYiMdnP/vZ6wsCO/q653LEJjaDYhiq5dYYu7K7uoDG8fNVv/1DPDYWYuzLB2i8FmysjDUeFPMQRFPcjGvZbY+A/BQH42QEK6vc5bf9Rj34sab9VczgQvaoDTGngx0rd32oX2setIYXF7JZrKyjD33oQ9fzQ3DnU78bNUEMhB32kgXXaJhzaDgo4Z5zkNGM6TAXMIWtAKluwStqxUNGb6YQP0gGTB8eBYTHGL7ectoU2ccmGyw6urINkAMtHGOFAx1eNnQDt1gsRPLIMM8+ybdA+JZf2bmQPfHSgV+L1ngIjIN4yEVHP5uN6ZtPF3l8Zzd6NMUYaFcuREuOxWATsRD4Kr4OEbd+bwt0erNwIRAvPPx0yLSJigGkW579BvvP/MzPXJuD+epBnPTx019Lj3j3lqVPnhYPLMd8YyOb2nz4YIFBc5CdxYIPntUC340HxQYdZN9CcQvIQJOM4omOP/mZr+jMadnRxmjMRm3zRedwd2iKlzmHuTcxFwKXFLZ1wYX6YuVQkivP8dLFJs8QaMUA7hx6NstD9povXsWMTnR4WjsOXLG2ztju03kbHbmQ3HjJxk9P8yE9Ljp+t0E9kCO3/v0Jtck/9cAWdUoHHnbqk0s+XDCuTr3Rujx6VjdsFVu+OOjNaW3sdLGJzfrspcNeqLbtl/YEsoolyBdgfO0iq7l9Vuc+9bt4iKlYsklN0+c5Ps9izia1RgewNtSBy03/0ZS4kyNWLkm+avnCIWYunC7R6NGKofrzi6P207/5m7+5csH2sNzJCbrXv/71jz9jG+ePPOsHa6eaN9e655NxP9L68z//8+uiQYZYVx9g5d3KbzEIoin+YkCWeHrDd7kR515eqvlT9tpR7YmVGhHv9j7zyfAsloB8sVJjfGcHfUH68lML2U1OusPk65sDcsU2+8AXvvCFa+whuHPw+zt+QWcYIwVGQrWQ0QsZV2A52wIEjJPcNkLF3cGPt6DS4faKr4JoQdTHYw6NRSCgbCTHPMfbWASCXLRkd/Bzt0IAWvaaq1/C+EWmBJNrgZc8yDabg83WbVUB0IkvOxfoToeWnejJwZNdZLNXi1bLvmwT52KNJyDfRumNhF3Fr4UfGCsO5Jq3uXp76md95r3V+CyqyIGNxqZu88VHJhn4tZ71LQx28M0vsHnjRy8n3j6gOmCfmNnoLHaLSF99GJd3MsguZiDbQzmxmbHLhmiDq1ZhsT2BnEBMAFr4NJA9aoM/fFYvfPHMBz5Xi/ThYUtvAOwUVxcu9HzvAsZ2fN6CfLK1uapBcUEbunj2RtemSQef8APP+aZfLRUX4+jx8id7jZdrLXo6y4vaZD9/+OJLih+byEF2kEGW2iCb/cU7G0N6xMAlSOtSJ6/2Bno2Z2QXT1iNpM8YIJceY/re5K0RsfTGx2484ugAdNHqcil3+NiMBtLDP7886JC0VunNNnrTlx3xomODcc9LB4sNHT2DYl5+xMKlRb2pNXLNWVteQvqCBMhQT37nwvp1QSPPZdPvCagttWtcTPKLHL97oqZAfmQ7Wpcxv3PhZaBLNjvZuGCMTr6xFR0Z+SPObPYnffZT9GhrAfqgeC2U76D59EF9X2mspX48Uk7OXKRXK4ZibX+yH6oV/fjYBtHh1acP0KF+6bPmd1+Cq8+zNt37HCZfn37P1hbd4uivPZ4Edw5+n9IIARa1RdEhGwrUFjMDwG4OOU285DJQgrstMZIc/G0sNm30xnMEdKAbM4+WTR3m9JuHeEK02YJO65l8vtGtWD2zkVzjJQVYVAqS3WLh54EWETr6bCIWSAWcTjaRA4rT+tviQytZ6MkwTr5FrVg8r03kB8Vqx9nrczibiwG55QOU3+JANr8s9nKgsPnm0LEpoJF7C6aNDm/85tgK5JpvitxF0mXCJcKG6m3KZcI8O9CyT786yq98A+yH+YmPTvNs6p+t7U2ILWJ7xgx4pqtxNOQZo4Pe5oyR4zmsvsRFXThE1LSNtjpNlhZtvoqV/Mst5IMY9snRjyLQsQEdfW3k1YN4QfpsPt7w2KGO6Kez+GULH4tHstmSb2iyFbLBOHp+yDl6NHRrAXvYRab4+xM7PpCbH+Ug2fjNgXzJTnQOX29/ePuHeroIZZs5iJ59+aevDcznCzRnjYiT9UxGdsmheLInXnYBMugwR4Ya88bId88wn/TzRZtteNkHjCUPDbQmXDjktQOdPcY9q20xVi/0u3yw2xxd6Fz4jdFXLNhlLXrr5I+D3o8BrEeHurFoXaLl0BuxteqNv3hkM0CrdsXA7+/4+sE+dZJP+V/sygPwXEzkQv2qY7/E6sd30RabE8wlK1j7tNnQmmOfmDn47a9s5Xd1RCcE6Waf+GSjdWhvlBvj2ZCNtfSTW2udtK+rOzZlbzK06c3/5o3BaEFjbMx2dvqPwZ4Edw5+t/USLSiMhPoKTvAEUZ9DqxgN5JSW0aDgKWpvxtoCjE4BSIJFBPApXnzMa0PFQ68g0lHw0KBNj4VQIJIXfRueosVHlhaSXTF4Zhc7eoMmz63NIcl3t2sHI/vEAawccaOPfrw2ZvLw0i+WFqR4QAcJXhtnbyL4sye0wMnJFzxoADsdrBZRgAfwB69YsgHi9Ybp0LeIyRNDbwM2YG+ReMjnU29fno3ziVwLSmHziW/QL6Kht9H42aFYkecSAOQLb37pVzPAMxvLsefyyEa2yx893lK8bW7MF6qFYBdR8kFxJJ9u42Itx/zVqmEtP+StjZdMsvLDGB/FmzyQXWIp7t6aildfLvjFXvzo1ZnNht+NibtPsDai1hNkKx/Q9IxnY2u+NWTcPPvY3zqLJz72iUfyIDrjxdxfbTgA1Ee6gD761mi2GiOPbrHVOnzVSv76PQx/xWDDTH++eWYfyNbG0pkeoN1xvspdFya88rKxWcDL/vLAZzHbtR9sfdEF6CDTeMhv+ZNLb7rWR4e3w4U+cbGu/JjHZ3XxJd/eAchXM5Bt2Q+ygxy6/F6MfwzK/zvgmT1o+MYf+79LtP7f//3fv+qrX/3qZcsCWnzqyGVC3v3Iw77Vfrpxpju/g6UxLwb2WZ+p/V5CawoW34XmTqCHXBifuKhTLyC+TNir+CffC9mSXfyWM/XRerfe7NPFlQxtzyD92aJFZ73bD8WMTdEu0F/N3ofkpQ+y0zNe/U996lOPpN0Pd3657yMf+cilmCAKFBDMgZSZR0dRhjamD6IFEqmQIZ7m0Auufno4EJ9W0I0pNAmDW9jZCwFaMi0YutJHNhnQM2zeXJsGJDN+fbC62ORNzC0QLzp8EqqwHNx9NjeveMTAYoOeyQcWMjr60brNe7aIyGMvneyl36bo8PEsFujwKkiLx7w5BzFUaIqOHhubTaTLHDqbqkPfHDlsU+R+xMFWNom3xWNxQ/bRjd9GJR5igI7NPivyo5/VWjBo810f1IodPTBgS0guP9moz3aLyMHgK5U3Qz4aF6OVEyR/586x6kj98Ek8ffnw6dmFStunYvFGB9hIL3+SUV89wub1d1xfTKyNLoP8FBM1Yl5sbY6e+aju1B8+8ZAL9PXReCZfyz4QDTTGbzZlm5a+6OQy/qULzKNjt5y3qW6MAZ7wfCa/jVXNdTF0kfMLfdYRHdFnX8/p0l9oHm05zmd+eLP0ZQE6EOXUuvKW3c/4raXQ27E5se+Njy2L5dmcWpczdaJVK9rGIBqXbP8Ak8OYXoc/mtYJeS6ILudeOuhAxw9rWuytNWhdl1t+Q8+tdXKtSS8GdAM0bJe3/sKBr74KsPEEeos12zxXA2S0FwJy0WrRGd9aNAbw42Vfv6cSpOtpgLwQH7/VqD3Q1xJfMsQo3Sd99Q35Uc7UBtRf/4Jk1E9+fpPHb7ZAdi1PULyCbAFLvzR4Ft7xjnc86t0Pdw7+j33sY5dQChjKQAmBDDZOUcWtrdjXsA0sesFqIaDfcahfMAq+MYG3AID5cIsmwIMXj8KhhwyQfS38fERDlsKLrsPJYrf4yTOWTXywAWjRZ4sN22ckC8chBJaWDPQhvy0sBypeNtsAHXAKVYHqsw09WovCG7TN0SZFtwWn9WboYLJo5csm7AsFWZCObp3QRiEeHejiysc+u/G9+JiTf76RhY9dHcTiAo2z24bUm744ssd4MSQXlodiuEhnGwIkk25+ORR8kvQ26BYvBtlAlnj1DMlbSAf9kC02c76Lrc3YYeCX6hz4Nkt5lAN1j56OgA6Qfz2X55MepBeqDbnX5wvfO1j4zla6zeurSX6KhUubrwU2NvUnl3JKfnrSTS554lrMm681Jo/lWAvYEl2gPqHaol9+8JARoC8e6StGq6sfl8iDDdo/UiTP6MXCGrJG1Df/xdUcGWTph6ufnyE92SCfvmr1RcUXqX7J0qXAL8d1MYAusA5nn8CtQ3nit3WRTjrAxorN1iq7+cZPOunyuZ0uus1lP36yyBBPefVVy5oVI/PybD2Lv7ymG8RvHHqWdzaLnUOMXebKgfXp8uZFwKWSv2e+F8iXA7kRSzqsUXpaI+ahuXjKgX55MsYWNS7+cp3e+/TfAvIW5UZ8xGoP/Vu0xtkJ2e8M4Jd8qQ+2rR/6xb04A76E5loP+bj5ggtkrr/6cO1sPGjNNvf2t7/9ah+Cm/87H6EZzFjBK4AMNp6T6CRYMTHAc07leGOcUmyCCtDrF0z0jM8pBYOebOPNAy25QIunQkMPC5j5nulEY4y8+NmXPW0u3ewVodb86tlnMbHp9dut+C12B6jbORno8jWgu0/kaCxqm7YNXczZSEebh82CXeQoTHbIC16bGB18wIPXxkQe+yCZHSR4HO5ai92mgk+xO/wUOkCbrxZ2FxIxg+T3RYEO+m1s/f6DRcNWh1s6qoPyU8tmMqs3svtK4SuKXybyadEnSYeCmJcPcsnxzN5ibbwxbX01Ia9y5S1LnsTXhufCIp5tkHjIYxsdEGR7urXo0p3O4lethfEY56M3Lpc1ccQTom3jFhOtWrNROxT6LWW8LkJiRSYgvzVExuoGbEUTykG5yF407MiveOVIftjgZ/HsMtf8AtlBOgEdrdnWn9+09zVHfhyOPv+6iPmtdweyvrpVd9U3OWE29MyXnptTk+Spz+oxlDO6jYddOPCZExc1b43RTyaf+EZG9eXS6MLg8uBQo9NlUn25QKix6nKBfGNkd8Gjz9pwkLm88yvfNp5sKFda88UIP19ak+bl0D4k7nLINmsXn7yDzR+oLthIlv2plwXj1mRxIGexvOiD4mbvERv7YPpOvcE5nqzk89NeZY+wPvZSurq1IV/ZL9/88aVSWwzYSIZ1pBUD/Z611kT7rP7SylXzxQCsr+vXPmcvWBo27dzb3va2R7374c7B/9u//duPBeWUFjKS4YrEBt4iB8bRcFCfDMjAAiJ4DhMFUZEbg8kuEHjRKUxFFY82npzXjxZGuzZE69kcntr4JBvkk7E2AUgG+5JHFn70fHR42gQUr8XeoYEOSDg6KPHQxqUgxc6zuTayWjrErRunuOOxGVj8nsuRPh504ukTYW/2xtnPJzYqapcI9pPHduCG6+BHF/C3HLOZnnTILbn8Q2ezkwMLvs9jcqilDxRTwK5kFxc11qFPnwPOP1wDvd1We2Ro6QPlaPvix1b5ZBu/IFt6+3K42JB9pXABQEc2frZlX/L06axW6Ar00dQCfNlVnskQdxuug5NvLjN8I9s8+eSw33O2iLkWmEuXPh608u6gQNeGrF8dxLtgHH/2pnNla9cXFxD/dr5aRH9CMgE7FwHZ1gn75IXdLnh8dAj4fwpcyOSq9V0uxQ+qFZDtbA7Tnw316ZLvPawCtp2xMbZ5xceG8tSlwLj175dsHfgukg7SLu0ONbRktMbIZGdxJU+fbOtKHtVJXxMdaHzLp2xdu/PTs3F9fqov60odtBbocllUh2jZLN76QBsC9BsfvrhM2DfE1AXHhQryl618QZdfWuMLDlkXJLJW9y24lR8+ks03aP+zpuyVasQcLG4BXjkRHzbKqz2SHejFXx7EHYoh1G+dQX37qNY8G7IJaNU1WdnBDzphPkDxgcY2h3AhWvNkPM3Bf+eX+9yyOU8YAzmQoVoFw1lBpIxBBask6hsvMXjJcXD5pKX4FRsdeAVcEMhGSw7eFpJFnplauiF7Cig5ZOKxMcANpJa9+vtc8EsEO/U7pNpo0JsPPdPHTnLY3i+O4FU02YCevWjw4dG2ACEbAPvp9GxDtcjFwEZiEdGpmIwrMDLyi0w6k+HZxly+0IgTORa1Aw4dOd6gLXq22bAsXMWfXcXGJmvz4efGAq28Wbi+ctApPzbu4tjih2wGeD2bg+UUyoM3WG8hfr7pYBHPYrpQrdWSTzYQP7Xn2QHDHgvamE3Js3G+VntyiKbaFEfzayu64sOm8qCPL3nxVEty4Y1Nfr3FiWU5QitHkP9k0QPZj78+zIZ0g+wrBt7cHJ7ybix7FshJF55kogXVMtCyjY0uuz/6oz96/ciFf/Jn/AQyk68VX636VdPyIE/sEg81yW6/YObAxM+efAJo7Vf9HgBbyTfehoteW2wCMqzRv/7rv77+pE39tp7NQf2FYg/I5ae6YKt1ISbmxYE/+YQum2uDYhqw0xi5Ykm2LynWQD9KMQ75iZZMvuuz0bM5NZU/5dwzP9Gqb3XhC4p165cHofXrF8Ssi41Bss54GoPlBop/B6N90fpVK+yWX5cMPiaT3daMf2PhT//0Tx9fOuDaEDS3kF1000O3F4Z+FGj8rP3ka8WkvVPuXOCM4av2ThDL5ujmR3HAK//2FuNqTEuevLqU7P7NjmwJijNZoGc0YesNjf4f/dEfXc8PwYMHPwPdYgTR4SRR3WQUeYozuE2Cg4LHEHI4hk/ABVSRaQUN0meO/AreuICRs8HQsmUPfvPoBRWS55l+9GwoYAvm2EY32uxkQ/rJOuWIC9g4iYlfMMPPHmCcHM90FBPFhZcfCqDY0s9+dGLYFwQHtDcGcTMP6LN4HCDeBIo9O22qPl33CZFsv/mOzmLnF3uKib45m4ox+tmoaKExfqGR93yik2w6HKLss2DlRizY7g3A24MLX3rFRQuBPGYPmeKAxmbuN4xtRvlHl3l+3oLG6VJje7j3zHZ50NJNHnoHgdjxnY9AP3vIRl8ts9cYWfLi2TgbixtegEaebUI2cgc+OeRCtNXN5jIM9NGd40ExzTb61Y8Nvl+wNAZX58YETbazpTXVuFaOjcvNT/7kT15fYcSKL2gX0MPki6361Hexa3NUW+qJbPXPZgeBemQHJEcrlg5Cb3Pq0npQb4Ce8pqfcIEcufY3z5/5zGcufcbyP1zgbz4kE3o2DtKTHM871zwwf8YK8E8c1Yjf4veXEg4JvHjkmF/RVm9qXI4dWOLRL7Ppoxf39Yk869LFx2GPnh6/c+Dv6dHiyWbPyx+Y56/4sI1N1Q7dvt74h37Msa0vePY3scEH/NjDvxvgK4l6APSRfQtOW4oLvfJPfn9ZpK6yDYL8CdlBb/uvPp7iXnsLmsML+CUvZFoXsL0XnbjYb8U72/DA1VH9Nu5ZW32FoFj6Xw6fBHc+9X/0ox99rECA2pgYZ2EyOEMp5xzEw0B8nOzPUhSkYHCYnPjR5yh+vGRCSTOm6KIBZGcXOn2Alk5OQ/QbEHTkB9kaXXYDrfHk7RxaPhs7Y2ITl8R0mWejNpmelwfarIwlT+tAtzg8A29qFqZYZhufxcmtlpxyVfzwstVBZ0OwUZoXU3Nu3TZMLV102mgcTN78tTZlNBZQFwO208lfbRusQ98bGp2+HvizNDLjBWxIDr/JcLE0Xk6hvguNPxFysPA5v+niO7qgOnSwu+z4dO+zvcuSLyVsqxblxsHCDvniOz+AhenwTz4spkA9sI3NYgg9k6k2sh20yZJFn3i6xPgkLs540fOL/Z7FNlnVkfnAM/nmQmO1EKDJDvxscSDwDZijOx76FkFyIb/ZGMRvzpuoN246WrcLycRfi6YvYuKv5Xu1xGafi/13xHJCV7FXK2rDf24knvKovq2RZNCT7fkIF/LPuqKL/GwNlheya30B5Q+guQ/4AMUJfXiC2FgX0C+v+sdx+EsPfqCliw0uLy7W//AP/3D9ZYBfRvXFjk8u3cU22/TpyA91xybjXS7UinUD0KT3PkBDJt6NAT5yXQrtJXLHJmvUnD3A+sLDTr806Z8NtmetnM3JQvrCcq5OyBU3e5D1x09gLtm1gI7WSjk1b5ytrVdIRpjuoPrHD9HgYZe5vnSRi89cesQgvScYR5OdyV/65vuP9h6Cm3/OBxgkeBYS0BfADRyljPBsvE3SQW8x2mg56tDXb+NV1GgF2WaeLMGFgiQI5tAE6WFTCcAXXYEDBSRbFxqrUIL8KYAweUGFxU4HrsXi4DDGb7aZoyPZbBMDreJnpzmLAuCJz3y+QcVic/LWlk/mAXlyQk6xI0ds9Tuo0bPRQnDodDC7ddPXrTPbxLM3ZT6xAdKnFSNtscHjmRxv+i4OdNKNRg3IffTsY48DlP0bM3wd+mRtfvLbmD473MzFx48m/FjBYeGNweHvcOET2WrOJuCiw06bThc2dpIpR2zlCxB/dqJ1QIlnlxlvEV0ayCeDX2qmxW2ML34bG/q0jwbwVdzEl41oty6rn2ICi4Wx5qMJogFLLxbWJPuKo3zwEZ0+e8wlP50962cLOfz3lijf5o1pyVo815Gc+TIEqrtsFR8XNW/6PvGnl51y5ZPxG97whuuXIOXLL5D6szMHVXmiD8QLsg2C7PKC4qCsPo3B9bsxoM2X+rXnOEzfSXMfmFcLasXbfj9zL+7qSiysGevUL6E6LB3+4uaixBexsWc4ZI3hUe/iy7f2OfUnBmRbF8bVCR797NUHePNFC/lIPuhZi0dfXZFt/ci9tekizhbrn0w2+G+G5ROs/KeF7MBrXYohnfzmX7UA0GYnxGPdt/YBenEmUz8e/TAZfA3jxVdcyBdrubGPehaX9mttssyBcu6ZXO192Dz+t771rRf/Q3Dn4H/++eevlkJGM0ohlqANYJs/ZLRWYiVR8XTYAU565jz+glVrjJ4ChR6SGRT0bNDiR5ctnkHt08IGLvDcGN1ss0lBuksUvxySaDsE2Gc+uQ4nxS4+FpXDAYgreWTnV7yexcsm2RsSP4sXxGfDyybPxm2A/YMw3spslA4sC8FbEjnsZu/q3suW3IMWQznUonE5YFeXEr50GJIH1IJPeFqIHoqbBZnd+uLmoPQG6ROu8eInHsAz3XTasH2m9G+NO+z7haLo+9rgsCbXs1h14WCnw4T/eLrw4DWHr9+Wt4n06ZSP4iYOeCxmLRlskzO8vlZ4K/W5kZ/Fk+/o2WqdsIE9t6C8hNXiovHoQGO14qrfmqxGjLEZiqs8G68eAH3mksUHLeSTGnM4ATSLwfbznR3sknf6AD3QBU4+A/MuWj4Xi6fLmzXhsPOWKI7ksdkcu+jZmIBit3111O+z0N14vNHri5P5lVML9HtGA3YexHsfii9/xdQncvVaLuRH7MqfGPk07rBUc+bJoEMdqksoVt7ixan9B3ZhdmGQB4ieHHGkB301Q64Y0AHWbnD6zO5sNqfGoX3ARU090mnelwr/sBA/itE3A+izUQyte2vV2rJWq4PshfJd7e86CNBUB6GxWrA1AcHSAzTiUD7sG4E59nb2JWf1eE4PYOOJ8cCneeO/8zN+byaUUOoWwiALCRqTKIZSwBm0GU+UZCokB6Hi4ySHIB6JJ5PseCUb0JFcYx0yOUY/OXglRAvQKZ7sIeNw64mANx180QKy6FQ8dLKFDm3+oTGHTsHZpDpcyGRfhx9IhsOlT7/0pbtYoYMWqD9fsnDpo9e8eHkrtkG4UdOFv0WsL0babKXDokfrcDJPFhqtQ9l8uVGoxnqb0GcTej6T4xJDNmBHv1Ajpsa1eByqYkEu28WHPebkj40uKA5+h2ubnHE0asJG7XOheNrMbExsEEuxd7jr8wuakwsbmbrzDNnOX/rbDMVXjsyJHz5+omEze7IDusixrS8a5tHzwZvpHkJQHPqSggeqK79Xw3ZA9wLdC2QskMsPoDWvDc2TIQ8OVHW0OURjju18oF+czPEZkKmPtrgBufanld5MAT3pBPkN8NNJVrnmezYYN68+vMGzU9/G7eKqxm3k9Jf/DutkkuXCqPbkHq36KX+g5+xyeP7Zn/3ZVUvtQ+ZbgwAvenGCdObbYjFaHrIWsuM+oBefS6M3N1/n+MW/1ibf/BjLP2/rF/PYA7Qbf0B//mjVY2tP3PhjD/GCYM1Z5+rShUN9+5EBXfSiJzv/g3Q2Xj7ZDeS5vUou1ZnfIxBveq1X/2KfHxWiVRugWD4t0MdP61YNWIf8MK4Wig8UCzGVD+O16W5s88c3ePJod3zBWGvL3tLLX3Fiq3Vk/bdX4DFXzsgUT+PA8zmWX/CP//iPr7GH4M7BbxETRqEkQAYoNq2FWEJbBFpj+h0QklphCbr5ZKaSHs9g5wQKWvhkQONo2FAi29jpQl8gOP/NAr50JD+7bYRk0tNmE6JZfRaUX0rzMy19dvncZmO5xeNPuLxN9uZJX7FCC8TUpu0TWZsT2Q45b0EuGooGT/N4+QPloLciMWJTvynsgCv25vqzow4ym6wFadMBFgb7yGUvPguXHH2x0rKvgmanPp/xadlEHxDT/gETF08HITo5ocNlEnpLEAOHJ0DjcPUVwwKnk34gDvyiSyzUSrd/NOayAS2ZNjy05NDL//ihZ3lkg8MbHXnm8DuYbNRyT1+1SBbfLHx+0GteHbDFYSU+/PlmQT7oyNd0hmTKnRypEXUgnx10rRl0EI2LqPyrW35Fl3380XdQqD8/b/ecDUEyAR3ixHeyizMekHy2Osxcdl1M1Wi/nBUve9B6ZkvxlT91qObIVqfm6MjH1hZgq68GDn45JQMkU35AvPJPJ9uBseZqg57T9TSAVj2wkb++brz5zW++agPYV8XFOvBZXB7lP5vw05leaJwf+mxSd3h6lkN7kAPYs7ow1/5FZ//ugJoXA4hmAS9d6RbbxvhSPB3G6otclwpzeOjVkm2sveFpgT722gfk39e56iD/yUQHPdsP2QfZKo6tJ8/JXcineIo3BMYXPPNJbVp71r9+vOzjr/Vpf+p8ZV+1S0brlD34PMP0GUum/+HwSXDnU/9LL710BapEQcAABlG8gSwQAsZBz+ZgfBwLPRfMAkwXIJ9s8iQB5FBQHx1+dBCd5+RDY+HqBfE3pmUHG7Q2kJLCT8my4bANkpmM5c/uDmKbpw3fBrr2QDFTnDY4/GsTXsBftBUDeovVgUeXG2QHIxttXsblgp174Pg07oC1uXiDsgD16WUvWvPeqi1yz9Bm24JY/z1rPVtwPvvapPs87gDvN4W3BujcIocAn8/ivWmLmU3OZcQmYXPmGz6XCfRoxSU/2e9t0KZokzTf4udDNuDJh+JVzYN8yz+20O9QokMtoFEnLh4Ob18qbJhsL042F/Q2Npsd+V1SbMJiIZ9a8k4k69Z4CPiyfTryQ1z8GwUuj2TJj9zIlVpSR8b6sQY0xyeI1kVWvNF3gRAX8cLn7So7i2nIntCctQTw7hxEr97F1GXY5dSPaMjmRxdXcUs/wIPfuNwaP/X3DAP5sRlbF3JDNl3VKDn9aEy+zKsTbTqTt3KB53SHYHPT2s5uX4n8Qp+Yq1vr2foWD/aoORdxXynUk5iA/CIPNgbSSw/gc/TQWirH6tt+ZT1APss3ZCN9bEgOSH56PZtLX3ZpjVlHYswn4+KvNtuv0NUurG+gmJKplStxlS+1oy7ZXZ2hg9WMHNrX8tXeAJJbntiRLfjZtr6v/nQBtqLT0iOX9lTYONCnmw3GtraSRb8+expr/rQPvvOd77yeH4I7B/+LL754tQlOOKU5dzpImZZzDpiSiE7B4pXsAqltYeHlrNY48CwYZG6QgmRozce/GGxQAmM2ET60+VpoNjR9i5C9eBS6YuVTdhSTBc/G8eAlRywsVHHBy9/oIJ02fYvAHD7j+sUGvT5/vQ2RZ7FoLX6Hm5aO5NIlfmLDbnL00WgtdAujgjfGZwenA9ZCFJ82uWxJVsA2SJ8Dz4LjD1kOeweKzSPa7AuNAfptKnjIoYN/fnYPHeQuI/JgEYmrTQr6+abPhmj0oUOfDw41hwdf5Xbrj46wWmMTX7Vs4jt9Dk4/g/TmQy4esZBjny997nZgesYDzGdjh65822i7iKCl12bFvmworvXpewiiX76ADnmVezbJuflsYTPbYAfe1mH1qe1iIE82VT44FOWd3mD7AR/4xx598vFDfXPGrUcXI7bpV6PxkE1GKE942WzOM7s9r/wATQgc+H4G7lleIP1dkHxxcLERG+uOPWSyjdxsYp9xuleHeeP6oHGAR5/99Lok0wVdvly2AF/Mq0X1xG/5a2/yTEYxBNpw/QfsQcsnPrpw6Fs7YtGltn1BPKAa5b+1qgXkk7X+ZcNCeZFL+1jy+3HZyZO8oHnji6C4q1P1ab1Xx+bCbKUPipsxeMoN1674YbDzAA9Iboc+lCtxwx9fOhozr2U70A+D+tr4Fp/54M/pLeyCWzCboyjgJBRQgZVYNJJgoUD85waDHpDLEXwFSB+ekF3Ns+MMgvlozeUTPW3AsAMfZLtE8cUiaGHla3IXjDVOPl/xO0A985lu4/SlN5lii7ZFQJYxvMC4wxCKDZvI47s++TZnPHjz11yHuDmLwsLzv275O2loITtMXSAgu9lAvhyJDV562QGyMTvbqIuXjakFCPixSDZefXx42mBsBn5pzwFOrrc+C9oBiYcOCNgnBnysDsjWQjajsSkUD2MAnTj1bB7w0WFNv9+a9pnThkgeX83zzZ9aecvv4tacWPpxiUMFj0Ny48Aeuoonn9Fku7ls0Rq/D9Avxlsfr/g6oMWSbj6LFRp2mWcHe9AbQyPGxcY4//Cg1+9CQDa/gPkTyIJk1OI/a2HzZ1wfmANqWO32Zccl1YVPrqA6xsN+a2vlB8UHsoXfaBz0Lp3Q26/LjMNX31r1JmztiQleMvHr4wfZay7/ooX6QFsfoFOXDga1D8TU78r4JT9x7u1VPvCKlbWq1jZOqysdnheit0Z9YfP7BOS42KpZ9OTbB7T2FrXDBj63N1ZDK18fzQls4WMxk0c6QTW2kO3B+rhz9IkLlHN5bB9U6wBvtSXfXYCzM3nJXh3pBejJueWfMSiX9fF24KtNMRODbEl2MuOhm5ziGm24tsWz+EwHv0/9gHCKCwJDCqbxEFAWHUNKMHqbBJ4Oe62x+PXRBgVFYvR7PiF90YAcjz4aejrcQ4vZOFsVQm+THZIrl+8LKz9IF1i/jPG5WJjDb05RKAjxcZCYR0cfPn2Ihy0Wio2BzTYgctCuPfzSNtbFoxhbcD6d2zz5bJ7fDjZj7KFTvNpw2O/ZuPlzoRoXU7R8oM/bCmT7LWSjNvvp8iZJNjv4ZxN24Dv4xcdGJVb0AbxkiCO9sDpjr0XO3jYtcxsbcsQFHRBjsfU5zoHinw614YtRPOhtxs8999z1c1Ey8BmXH7bbkMmRC7r5xVbQ+uFnGM3GJgTpvgX0xwfZkQx85V1Mik08AI1nsbPps51N4u8w9ZarTrT9dri3TjHvxwVim73JXVg7astdLTh9Zgfd7JAPB5Pf4veFx6VMbnwJ0vqRENvYyBeXRP6ufJCO9JT7at0lTD7Uj/yJjf3AjwPEgF3qUG2j5b/DRlt9lWu0PadPu7GPFogNX/irpvr9FTWjBn3ds3Z96tfyXZ2Rt7FM3+KCef6x2xcN/oqnH2OJB7usgfYZ/pNRPMWErcaTV17p1ydjwRgZ5unIbn5pTzhtTl7+hHjZI0byJw8OfjVgDp86Ks/afITpQQtXNlg/+NBaX95kGReTRevEuup8iR5tUL912T5EfjaB7Fq92bL4zAd/QYAFVSAluI03IymGGViQPaPnBDAOCxzMCXRbPNFpjelzKEALcjQwTp4x/exksw2PTYBMiaioYXq0MNsAeT2H+W6ODn2txWHDsLBgcUgu+vqwgrTIO/zJYDM+9OKgEBwsNh/2ZsMufHQOEAvZODnFwDzgs8OfDDTFks0n5gN5ZJEhbniTxw5xayNJl2eblrgD/iwUR8AG9OLBPwvFsw3WYiZDXNguXg7zFpO3MIuLTfzPtg56em3QbGFbdVyuQbagxUuORWpjFSt88gDkyS/AekvKNzY5DG3M+mTRI27QocIXcgAdbGYDpLe3FM/ViH4xykZzWj5AdMZCY+xHY46exjdnPaOB5VtfnOn21cIBwy9xdiipQXXjs7QY4Mu25GuhMbqBlmxAd/TZEa1n8uVXTL3VO+gc+GyQe7aRlex4+c12+fa5XA6AuJK7gB62/tDwnyw11NsZ29jiQkevGue7X1LzYyQ/6vFmbsxnc5dUa7A1xBbPofoxpjbpKleguNHh92P65Vt2ZofP8V1C2Kl28r84sjOfPdcCLTpyve2zXSzlmWxyABn8r4V4xTTf6MAL2WJen3xznkPQGECzNqc32PwCdNGujJ7FU1zbQ6NhlxyLM3kwHvYkF+4zQJt/1Vz1CpMDxYcOFyZ5cqGB9ihrUD2RRw6ILx/1g3xvjs5ip0/G8npONnzXu951jT8Edw7+T37yk48VrJP1zcH6gNMWXL+8wGFB4IDA5zgacx08EqJldPoAuorOXLr0yQw8Q2AePRCk89CreEO6C1QyQPLz7SEg1+bfAeOw6dOnPj38Tccpk58VJDl4yTljbZ4scYNsrziSmQ8WpEOGTTYy/q9MKBdw44vH4aglw8agJYMswAYbv2KOlx3ZiZYudH056I2Fjs3dAl7y8EByxaMDn+3GxBKtw7Q/GfTmxRcbszqjmw82TzQ2aJsxX6ovuiAoJhsjc/JCnnjTKQY2br+136GPFo23TW9p7MpmLR408uxN1IYgBtAYnzbX6yvMvhPQxtNz2DMd4qJWPC+9uequmIibnIub2pU7B798Z4u4sNFh5zf59c2RvX6kB8SrDYO1i+ziIpf+nM+Pe7zpy0HzyWCvsR1PpvXnEC7+4S2QPzGqRvlNtn3MnDG5tDYdxPLvwPclih713Zu5Vq31IwI/LuiCAPG7IBjHL2ZypK7LexdLv2lPZjZ1eeWfC5C8gGII8XuujtoDxCg6rfWhlv1CKlt9RXS5Ktf0oSsO7LNPA7FQH+yB9KBDU03hLx8LZIJbc+eYZ/SLC3yh27g+u/hkDXpmrzpiP/vkV52YKw50LAJtNXXW3EMQrTXeumMDbJ/fOg3WL3001TZaz0G8yYLpDcEzH/wFpwBpBVkrqVpAUUkXYE73RphxWoBH8KHCtBHrAzIh4AgE6SsI2XILzLNRAXRYGaO/g5KtISAL4ivI2nRtUk5AQ4fFaBHbaGwEFq7io8NCcpDpl5TVY5yOdHbQtgnlrxatw0UxK6SNSfKARd3FA69Yk1fexINNcoW3eNPNdps/Hsi/YkM/3m6wYkpeus2Rly406gKNGJEH0KNbILvFgZ7eMHn5Co1rxYpsvtrA5MBm9prXvObaOH2Sd5CJCRkwGcVjY5efoWf1ZKMm11uYX4QiE684eiP1ZcCPJbI3eUANuBg4RK0RNObpBej1i2n+sc84PQueYX6A+j0DsYfk0IGHXjrE2hqVdzzpM++Zz+rBgaDeslUtiLF/VVHcs2/xtKNYaMMAXTxkQXapMZ/tfWEwhqd8hGyPJ5npdgDIvfrw3N51gljsGkXTHuKg70dM1pOc66s18UJTbPGkp7Vj3j5gTbFHDXomy2XVnkGWQ6K1KOb+XQ/1ax3yUUsu8GyN9Au9GxP8aDuQ6aAPbwj4iM7bvjUiRv4RH3/WSD4kDx0UX/lQu2yVH3r5xy/86MWwfVZcAJuCbKx/wjkW/eKCZz5p5UB8xVpM1bf1pn5cGttb0PMJDz9PYLvx6qp+tuGLP2guWq04iJFWXOj2fEsneWD93z4evGQnI5ug/toInung//3f//3LMUhYBVDQFLV+DgqqTYuDNpqcNp9xLRSFCC0qbZtgSCf5kmcRwBaa8YIEsivb0uFZILKjoIENWPYFOwfJ2QSfYA4NWvoVHr/YCXyKg+xAI/lgEwnJ8dyhx+c2aljczXtr7BeM1qfkQLosAIvfM1kWYrZ6tnjZFh8bjeORF/346IfotHTbqPCYJyM6OWB/uSr+wBzMxhOMr88wu8XMxtNB65ftLGy66RJ3B5LD3wFsk7YhAbrYQD56z2T2DNLpOQRqzwYKHXQOArLxqnmfRx0cNlL66BEXtkJxzifjgCyxpc+4eHU4GKc7e/N/wbM52FzPkH9qxWZNlvgYN9ZloFpMFznlptinhw981VfjDiZfUjwXJ7ShcRiUa20YoIsHyHMg1w44trKBrpWBD9TXkqNVD/1SnLH1Z4FMhxn/tOblHIpbe488mEsWzB5tsdWSoybIFFs00UF2qBW2sRNNX/F8wfK/HJLvsqg2rEn7Gt3iYw6PfUBcyFabLqQuDP5MV+uS6mtDX73Eoy8R0EVWS7ef7dNHBx+0IJ8BnXJi7fMN8EFNQHECbCKj/CSD78li8wnnmOd4wxMaF08xEE/xd1n1YyJrwH5ljN3sF8PW1SnTHDtrYXalK57a5vHoW8NikF5oLpmnzuK0/uqjBbXGxFUeIHna8pUd+s/0M/7f+73f+wYDtAKl+BQiNEYh5zrsPWsLQDIUquJVHFpJIg9vb48c4CBaBYSGvhaItsIqiHgErQNKa5wd2aIt2NkVZB8wHh2Z7EAPogFosrNnSZZcYzZwrQJzSNPPTvLJQx/UN9e8WOAXK/7Q3YYsVha7AhY7/PjMZaNn+sTM2wkQGzKLEf+gxVHuAFsd+t5I6ITLi4dOdN4E+d0cfW2WntswLUS+4KFPTtGSgxfkgxawMTvFxCbqN+v9a24OWn+NQD+Z6LpokEGmWvHMPvz8E69qk1wgTsbw8BsfGcbRFVOyWsT8kmO6/Ymfwx0v2+mTd+hSIv+QrfLK9zanNkwbsTyRUezopo88ceJjvtKDrtwH+WWMfm86/CrW0WvpSBfEx2doXstecUfnosJWB4jP3A6nYljMFzaX+tGSDdDTu3NgZfLXgeRyqkbjBfrLlw3G2E62XLoIukzls3m0ARvLNTAvR3KsjTY7yQDo8bJRnsjQV99+Ru5S6mfwvgLRjZaMDh3IXvksl/5CQYwd2OrDjzccXH1tyD9yrCv9DmA0LgsuZH11IlfLFzEgowuAw94FVs3xyeWK3faXMx5sDwH91Ue/zyLWbLcurEUyW2/oySsvQeOn/AX68xme0JiWfv7oi3u/C9LeDFubdOWjuOLxnDzzcpJ9xb65AH0xqibxqNdyA6uRrYUF4yBZi/gWyVdrYtt+BpJBNr5neuN/8cUXL2cLCpQ0hVryGmfEGlQ/QxSfw14xK5D4JcTGIkBt0IAOmO7s6CAxRgf5axdnKzaIxrxxLdB/CKKFkgDjTR9b6IzWMzobBT87hFp4fFMIaw96cNrTnAWIXyEXB/odMm7lNkSxNg5PEEtyOoyTAdKptVGJP9vQG0PXIsrO9RegZwu/2ij5zmY08tFmwwb++BGFw4hOch2AyUWPLwRa83T4DW7/barNlF683lb6F/LoD/iOlw598lsoWvmA4skP8+xeH81Fb8ymIU7lhV8Oc/7gg+kAWrVYDsVI7bO7v1CwSYpzGyV78798sY///DBGhrZaSjcbG3fRcGDQKfbJQQNWlxbi1bKZPi0ofuLrs7CfTfO9OC2CZPa8gEdcl/cEY9lZfbNB/LXZA8zRtX3zdLSHOOBcWszzEeoH+tWBvlyoW+u2+XjC/KhGtA4TvxHv9xH8Ww8upw4em74a6OLEJvLUHzme5UkfnQuV+pBDv99Abr8LEC8oZ+x06MuL3x/gv0uxS7JP9+rAHlv8yFATXTzpNlZcy7222qernMJ8h2jac9lCrromG6/xYqYFtUFyb+HqvQ+B2MkdG6xRl0XrlX2Afgj4alxu8rN4atHlX3YXg2Skd4Hc1qu9wR4tf56TdR//6olmAT/5yUmXNrCuyYBo3v3udz+auR/uPfgZkjDPhGsJ3mBkmES3GIyjt/EpeskxplAUogQJPgfQgYoZklcwzJOpD0oWLAj06qcbAs+ArCcBnvyNPjkWiOJS1DZg/kB9YzYMhc92fqC3YbKdv/xmSz6BZAfZjU7BkO1AJZPPfqbnTaCFfJ+c4kKXw4admz/zbVbaNj7QoUhvN+gAH0RvQ+FT/ttE8LGTHpsuXWy1CPhDl7cEh78++V0w1IJP+PLIZvbzy2Hvf2nDI/5+qczfzdskHUJiA+jG24L2LAfNkcceNGxCww9g3Dxec8bxxEeO/IoJP9lrU+W/Pv5qQ87FRC2IgU3b5txFSN96IAef+IZAS59WLNnjgiHebCebrnIqRmyw0blciTU76OAHGegAWnKrg9BYcugWUzroMq8tJgBNsvCEnheiCfA3dtKCHRN3dqgFNvAdyhs6PqQTomHX5lTs/VhGH6321FuOyRM3dMbQlQfIbnTm6dCXfzHvK1RfgNgp7tZSPNUPPcnV56O2+qCbHF+M5MCh7qKYv+xAA9krPnxUD/7qwaFvXdsr+hcsydPiVXddlMmE5NANrUc2s58feCDdxU5bjLRqT52iYXNrhCzyyRGL+APP6O7DaO7D5sUTssU6cbbQGY1xEJ/8sVf+IBvFz1zx1cbDluYaWxAv+uxpHfpsEEO6imFw8psztjpOOOOCTr8cZmNz73nPe67+Q3Dn4H/hhRe+wRBCLZowJVAfDccFsQ3CeIeCoBqXfAEXoDZetHAXJySTfAnNuTZLevBr6T0DDIP6ZD0J0rmYHx3s/LFwut02bgGzReFZ/C0EMj23CSQzfQuezcEWnthZQORZ0P3dbpDMheInPmLG/sYh+eyxOXT5Kmf45MfzLuL4ALvwoSm/Fb8xPGSW5zaSkC/0o5NXhxR5fqvYZiW+fBZLv3DksoDWzzD9/NLhyZ7yTifQWnBtMtA8/Wec+Gks/uwnU5+vaq8WdjHwRiZ2NjyL3Fg0/FELasKmrD7Yu78YBrK5GtAaYw875K76Jt9bjMPAm6Rnc3hgmw1+8sUqf4qBPjDHTuN8K7dsNhc9kFdj5Y1MgD5+bf2F/DIHshXGcwuay37xFDuHEh3yyz42ZAfUN47eVyBx11YrePM7YEu5jkYMtTBaNGRXb2paDqxrlzIX1i7RaFrr9dULerG0XthBn/jWZ7d1io8NLgn8hvrsyRbzdLEPv76f0fu/+PvxQnHhIzvUrnXkoiLX7GAP2mxRs/SpW/r4iXeh2LBXftijZQPUJ4svvfAZU6/VVbZ9q5gs9vODvfysxoyB6i4QMxCdOLCTHM/R6i/ueGBMjum2H3hBUaPyLTbmw2D5gblTx4Lx4g4BOjmohuJv7ud+7ueu/kNw5+D/+Mc/fjFTIhi1lFBG0RpQ8iVXEAQcnYBqzQsMVBzakrIGJ1OBkEsfGebpV7AS242KLLIBeRBfoJ/8+tr6ZAae05+/kK82HZ/r2AIdSr0Rswk9nyTdIu/w1/JfTNitTzf6dK3N2ZSN+IxZkGTZ+LtJ5kN8Cy0wssXIYWAh0o82nTaB3lDWHjGlBy1eNuEF+uW5OJHFP3KyvfzEA8gTL3Hz81d5xMM/Mr05eTMBLh02VRcB4K3HW77NpINPbshmL7TwtN602VucjOWXZ3YXh8bri5058bI56gN2OnzZp/WMng410YGLH5+acfhsjSSrGAG6N1/k8U38+nGC2Io3v/loc5c3tHjYYq3sJcycmlQ3EL94mWcLFCMtevLUl0/E/fKkeuaT/LAdnWcyQP6AYphf9/kLjJ+IHkQnJvzW5puDXL75iwdtvGjE2e9MeEvu7Vpe1BK+dMTLXnZnA0CDljw0zYufvKhZ66Z1yEbPsH1tfcEP5VIeyGIPf/hGV+sS0qt2+KoVb/Ro0JNFtzqUo1q//2KtsCm600fjeNWv+u7AKHZa+tStw1/t8ptfZJGdrXzMPy203luD2Ss+/C5n8fJbX1vfOFy64giM6WtB9MbogvSAeNgSHajf3lEutMbMGdeSEf19NhVvcXUpt47UibgXe/IAfnFJdjKMAfTAuH76tNEmNzls3pxowXvf+96rfQjuHPy/+7u/ewkpAITpKwyKVhngnIArEG2GQXPGmxMkED+5tXRxEE3FU0ECQbbAFJLgkldAasnKrvqwIEHFDQuw1jyMr2eLwGbi4LcQHDxahcI2dlpIDnybAtvZaRwmh62ekw3Sv3ZCUJ/vdCosGz6/k1NBnbByyofNu83QswK1UbRQs8kc5IeWj/kalE+bAl/ZpAX5C7NBv0OJzfrpJ8OXE+M2MT7aQBw64kq2eHtzkzt22bRs6OTbWBxUkC/y1c91qzk+A/zVMJu25vK7OsITkkVOByh7+jk9W8RWjMjyLM5yRo/YVl8BPY3rkwn5Ki4Oe3Hgm3n62cpnuvx+g1/U8nbGH7LlBw255ODlPxvwiHk5II9uNeWw71/D80nY5sVP/A4rsvDzSyzowUvGQnaGbDppQGNLu3TJlmdvqH7UQ3YXK4ehPrvQmcOjPvycW07UovpRR+qB/aBcpg9f+kIxBOwnx2ULyo/69LN3domrHKOzJ/XLZNkDgefWiP1BbPG2/wDP1SI4a695kI3iY/303xdbK8bkPxsWjOFli7qQe89qWU20NkM1LJYuAMXBGsjG6BbyVazItx5hLwD04cfHJ898NNZc/Z5v9cNkBnxmAzhpQvWLplrqcm795lO64gXlNB/FubUmNmpADopT9IA8fbLIb64xeCtv6/NCcsyLn35xBOT8/M///NV/CO4c/J/4xCfuOE94m2ZF0ryCk+w2WsabBwIj8YIF4hf4jM0BLd6CGr1kQXIcsIqJPHoL3gYxBOzAa9NTzBIt4TYDdqATqGzwnE3QhuINUnFkB5l0s8Pis1FLOBuMk5ccfvDBGJp0oDUGPC82hh8v3d2c12eybgE+NJB+ueEv3wGZNq8OXjTpxQPIkEvjFoXNlu/m5YEt/MGPDpTbcoZXTciVZ36glUObqPg5UOSDPmP8LL7igw9N9SKHckk/el8JILl+Y9kvQ7HJxu/gIqcDT0teyE56QTEtrvRButlTfXvu8mdca4wc9uIhlz30k5sOY60FMRc/h4Fc+KVNPz5wgKBjb5eY0FcSBz4f2cBO8uljN1/xNsa2Njb+5od6daD6POzQ9/sK7LJW8Vaj/CGPLLHjJznA/AnFb/E+eGhevNjh8GCnz+hsYQe/+cQeMYQu5mLCPzFX12LKHxc0FyRzbF/b6IA7RjeZ9ImVmLJDjfn5uYuSumWHg9G8Mfr0QXIhOYBc8+pbrMkW5+oIoEWjRR+Sg0ZfqzasA3TWgPypKc/x4lngG17y+ccOfhgv3+arKUiPtWn942O3mtWXC/T40uXZuGdrhQ5+VpPsKsb0aNFDz/RpyYHZAeODC8ZPiC5EQ678q2GXmX7/pv2EDdHl18pmg7itTWIuJn0F4q8xCPCnHz3wvDKag3IHli9sPGyerfrs9pys973vfRfPQ3Dn4N8/5wMJFriSs0o42sZYkoF+z3htiooItpGTzXiQExDgowedoNvsFSs9FXm6QDaHoEVis3D4WaxtHOYAfezJv9CiVBz42KA4gATboG3UDjHJb0Glly/5xUbz4mQMjTH2r71hfhcbxUqHDWj5Vv5Cz8mBFTwf2emgabNKXjygZ7RoHPziwQdFDuUherbSAVtEeHtrFF9x7JMyXjEmV2zZQCZIjvH8l0O5Az5H+30A/44+P9jkX9Lzm+f6Dgt/nkQHHnaTwUbzdKlBoG+cLjbzJ7vQmGO/usML0KGPj436kB6+oqFfDIyTq27IslGwj/0+0+obI4etPvP2Z34O/C5tWnahY4u8lCfP1pqWPnmGAB1b1Cp94tebPVoyi7kDDaoVsaPfPN0dUnhOYAc0B7PrPoh+oXqlQ58/YqaGtHIg3tnIHnXBNnG1Hr11WSfFnQ/iKRbkZmP60hnig0Dc6Hboqzd1K2Z0ibP6EFdfSsR2eclVW9pzjXV4stvFxHqxvquPbGQv8Nzeo2+8+rOGXeTsv3QUuxOMm4d4AV+sObYAOviEFtJFltipP/P42a8F+ZTOnsWhsfw3pm2c/WRaL7v/tqYCdPkbkAHTB/QhukWyqm0XGTG3tuijN31sWX6QnnLLF7kXb3uZeqvmzHWhuyUHeE4mjA6s/Wd/58NzDC0/tM/0qf/5559/LEAwoIQIlL7xjJZIDitYWBGBigOPwO+Bv7IAfSUAko8/tDAUqoXm2TwogDBZAfvosHG1uVVcFRgENjpvBm0qbSgKhN3o6LVB93ZmU9iLjpZOUGsMTXHJRuPkeUYbNr9jaIuv4ts5QM5CdoTp4A/fFGr/C1e8eMLii69iFi/8Fr1NTtGbL2ditDdnMtDKGX7zYuqZXjzyAeTWBoSePDmqxefwkQdyXnnlleu3/L3leGan3PnPctD2G814/QWAA1QfHZvlDt++MapJvPyxqNnfxbCDB515dpvnJ1o2G6ODnA4kz2jEAZ2YiTn7fZp1+Nq0+c1/MhxQ/pEVrVgnp3pFQ556Yk950nomR0svWvayvzd8Pw6xfqwFF1pfSPzYQOv3J3xNgPreiNgh9vyy8YsRfa0ZcQjpgj2f0NjOn3SeyQD08IX/Nms2i3UXMM/qSbyNqYfWo3hAOeRHPmRj8qMzlj71rmWLevGnpP5ET01Zf3Tj2QuA9eRZPyAPkJM8OYFsF2cXVT6wG7Kj/RFmY3ZDcqA5NH4kJLdyH9CX/iBfATkAnZg6tPDjoT8706evFkN+4hOrZK5d8aUze9YG8+j4oF6r78bTb96cNruC9ATpX0iGmKthX83UjLoyl4z6+D0nK5v5qraqQeeAr4pQ357CT0hfdiUP1BaD1Q+0t/DWXHLX5mLk+Zk+9X/sYx+7klHQFYNAtQklPAMExYYCcx5wMEMD9MbJaDy6DYIgC2YLTWsTa2Gv/lt6wD5HT2+FxB+2WuAVh4XY4tN6dkDht0nbYGykbNnCB6c+c6FnsD5m0wnGowe70UM8K8NYYDwdS8NW/tm8HX4+hxpLTzrhLV7PDlh9hW8BmLO5io9YqRl0bJUvdDYVeUTjMBNrmyQ68dfyr0sj28WeLAvUYqUXjd/wd3DaaIspejQOeDlx8PPz1a9+9XVwscWm7U0Xv7czmywbHMb0kkE3WjLVCH/YtvaCDlVoHKonvrGj9YG+S4PPsd4YHfx0ikmHBp3VJH5vI/z1vLLYVQ1kJ9AmSx8tHjQuFuLBBnaLkcuQX37bC4Z48demLk/46eE7Xn64FHdRMw/oCs+auwVLf4uucX5U03Q6+CFb1a+48Bfos93BxV61Boz19+3WsJrKRkB+sexZHw3/5EmtyZsYyhmd1ag+VJfWghwkq9zkDyymYu3f6/cP7oip2vTlRx3Ju/VkXbA3G9MphyvXmL3I5USOojd3gnFgjn14e+aHPEN9MW8tsyNdxtSIdckftPZ88jwnU5sdxWJbaG6fYWsQkEe3/NIbbh7D5N3C7G5tqZ9bMkA2sF2fLVrP8ms/cwZAsfJsXM2hy45khSeUi2yIZu1JDjjH4alLn7xkPtOnfr/VL1gFv35J0AcUcKLiVwT6JRCa17ZICiZsDj0kL5meycPHBmP62vBWwBYEAQ1ZkoOHDwpbyx4Lzq1N36Ijo1scaCFaWA5Ln0htAvn2JFgba087F4pLfPQ8SVcy75NtDL9Nh9/8sEkaJ3t5bsUU2khtvugVvdyQZROQHwiyXTzRtSGKucUndmLZhWF50w3UGdlQHl24HJzecMxV5LD6kDNz/cmfC8KXv/zlV33+85+/3nbxqlM28J9tePHIsU0BsotcMtX6XlCAOc9kABs4fWLEB3psyC4ZNvX+MRU1WC7zNVnG1Cl/fZ6WK7rRZQs8a6FxMZUPtPx22dA69LxdOui95ZPL33jJh/piI2c2Np+11QlfzDlEbfrZm/2BsW8VyEg2na1ZOaK3N075YCv/tHx0KQBy1KHvn6zlszjiz3ZALqRrY4pGffh5voPfwUxHNsFslC/6IBnwjAtov9T6wvLa1772yocL+Oc+97nrQirmcmNdsJ8d9jsoDp5bJ/qAHV0c1CLdMB9BY/m3c40BvtgL+coPNrTO2K1Pf+sYGuc7G/Ob/PJVu5A9sJjlJxugufhbm6Gx4h96hnj2GVoT7FQ3Llb88pxdaBbKoZYtWj6Kr8ugs6EXGjbHs3DKPIH82voPQb4sLF999vKLz8/0xn8e/GHJhxldYBQMbBGY28LyjI/MnDBWYeMxb06/IgB4yOpZf4N9KzCAfOOnLfyAkmfBKfiKz2YiwX29sBAdBpJtM8eTHeQ+CaJZ+/QlKNsWtiCjWbjvWRueYEwMbSz6/QIZ+eKyPGtvKC8WHX4HjENMcfmEarw6wVte0Fkknsmw4Cw+NQLIipcsWP7JYVtfXyw6b6/kOazRtKDbEOiRU5+tHcR+bv7FL37xOvDll5/mycWn7eIhx95+bQwOXuPJNscO+vDQXy2pEQeOt2j+iKs3RG9gvjA4ONWSWLAPf6CfLcVcXbHDL6qJFeAr3lt1YtzaER+1K6cObHUqbt4sHTDZTwZ5xbiWfXj664guKWIhJg5Pb0tkls8Tbo19s7C2tcY9FyM+y1cXNG/5LirWpPj3VcCPKuREfco53nKe/HRoi685+XUQ+3GSQ7W9CQJyWjNQzMXefPKMLxhXS/LqTZ99LlR0qBX1yRd7DFq+dECRSwe57OePGKCDLg+3Dn606YbGwdpmPDDPD3bYA80VMzrrQ7VkjXQRY08xQmtOu7r0z2dAL13FL8wX+sROPCBdYGlAtkG2hp6tYZdp64BdxujHuzYFxbyvSF4oxERr/xKn9OPXXzhlZuMJ+Yr+lh3BQ/MbA5BvH/jABx6N3A93Dn5/zifAoYBLtqAVuIDhgiQgHZYbCEZIAD6LlRzgGZ0gQnTGgOfeFDkVnY3Rs/GFMygFI/4dSx+ZfJNcdntGrx+tPnthb0JtBNHQrV3Inua0ISh+yVgocbB+sDIWGg/5El3PfBV/vu9t9YTsBVo2xGsBlWsLySYrtxY6Pnogmi5U2YLfhiZ+1RPZ5skgW/7TbZ4OutlrU4Rijw+9TYdM+o2Rg98lwb+kpmVrc7B6JoctbLUhODTYaJNhB/1dAMqTMTWIB68adSA6YFw0fFnw81abRW8F6CE/b+UaFl+Hvv8tzc8hjeOrDcoJWXKoRulxSPnCwF8HvoOPT2s/ZAfQou3Ad2Egh8988onc22mf17WtWfrZceL/BZCTreVafCCoXuRC3vRduOTDW6iLCvurCXxkogPGgJieMRFPv8jnn94VD89sCMhCWz7XVs/aoJjQx1a5kFtfo1y0fFFwwVBLeNFZL13iqgky2VANkGXOODpfdnwJIxNkF8i2+ju+LaCfnmrKxURM6ZN3iEYck2OtiLc1WHzRQzRsAfRsvMpBrbG1pT57yKUHVgPFA5YfsthobYub/UENqIn2KnPo2ALx0pXf0LqVB/sXbN936ItLuQfxnlB8gvUtMBay6eTxHKKpD5LHDv1acorpBz/4wat9CO4c/C+++OLjQMKST3HtGiFgNhGFkhEAjcThURzdZCXQWAHXem5htbGurJLUcw56Xlv08cGKMT5zEsfWLhaSqQ9WprkWJbQgbYzGTlvq90zPIrn1m0dLbmNBMkA0O/Y0gD596WKD2IurTULcmwfR1d/xNiEt/y1Ci6lFnp1wF0+LUx7wW4hip08GWWJPhk28xc1Oz+jZikbOLD46jKul9OPJfrR9jpPb9QEtHezJZvYas1Eks1oUs3Kdf8b4RI++Q9/B8/LLL18HqPhWd9UWvuCMK110Oqz8//Z+N8EYu0LyqqFkGRdjG7SfQfc7Gw58KMbojeHhh5YvbBQj9rqwqGv57E25Lw7sANrWbfZnT/h/AWxLXn2+7xi9AXvYbUz+9NVG9NGSUQwBOdWlOAKxcXHyi3wO0g7g5vAUQ7IbTw9Mr/F0ya0acej7D3jIcCn17yZ46fCMRwvUuZyqX76IPd1w9UXrwqf+1EL2AfRg6fUD/eQGxmBxIROwQ3xXFqg2rRvz2RqoMzzyBNhmHk99WD9YHXjFEA8aPrZvaOURoFGj6tYXP9ilxJh5oNbFVuz1tfy0HsS9g74XFzQd+K2ltRuuvYDPC+vbCebwnzzG+AziN5buYO0BeOCHPvSh6/khuHPwv/TSS48DblOE+hRLbkZSKhiSIRF7WKMlA6+EtFl7zim0iocMco03BnOIvhwLsqH5IFpI3gnGSyCb6WE/e/CuTfotSEXGP61xuLq1Z3+RLVqQXaftD8HKehpAl0565IKPxZZfa1PQc7bhkT8Lm8/i4lDxGbiaQAvJFdMuSWiTQwYgQw2IY4czWWqDLvj/cfenv7eu+V3fufaZqs5QBSRucCDYpuyyKXCZwRMCohClSSInPOiOoqSjVpCibjUYu6psHudPiNKdqBPbGA8MBhSFZ3mQziMCphiK8hDHOGAXgigo0MTYhhrOtE+v16/Ou/j4Ouu39z67yh0pn6PvuabvfF33dd33vdZvbb6yp3Qh0tnBT5cxNwbGrRsym1O8bhjEqI2Hz72WpKPY+Yj45OnAOsUTyFciOpNRtyY8vTlE+Sm+dHQ98I8P5ctY14V+sfjc179BYKy11hyR52t+yLMYvX60Wck3+JNGxA4+PuLlA9/02ejcKHiyJSvvPh7xPQBvHOQW2GOfLDl+8jmf8udLjY2TnSV9xqP6+0iCf3KVPJ7Whryqi6f1X35s8N7U+GjIDZR1Wex00BXWPqoP8JWv9c2NlCf93gz50R0Hi/lnP9l8Nv/m1jWUbrryx/zy3ZwqjfG56wPfCf1LZOrP19pIvuTAeuFjfNaBsjzr54/cu8Za943hM0YOaSfL95BdBJvzcgN8ot++wa9yRjc/rGc3gPLOF+PsyKW9RF4d8upKOeug76netZV+9qJ8EH9+Bu3N4yK5WzB2nz5kHKV/28uXjvq//du//a58FG4+8ZscyZS8LhrYiZMMSUWSZSFugsidiyLn8CSvXtIsWhOrv4sIKkMB6q8O6U7ngr5sgLpYyKg30Wwr9dHDb3V9G18l+ehsk0PV1y/1ZB6H1fk4ZKsSmUv2ymvxrb7mNjvNn4PMHMoPGRuY+aQTX/Nk3hy4LiAbxplnNpV48bTB0ueCza4+mx8d1hW7+JX4HJStJz4Uh5Ksi5YsO8B3G4HXfep45aF1pqTHF/QcfHggefzqCD8/urnwp3let3awyhffssNHGzzSh9hA3SB4te/gd3i10fKJPuPNCegTn8NKyZYbGt/Y94W25lkemms68HoydMA5+OXKq3z//kF/8hiaL7LmgS198td4/nypsXGeMMZ2xEfYHK1f8elrzcuJPjJi88RsDh3G6tZkecMH60s21lZlfOk3F97keIvj5sqN1o/+6I/efS4P5iT/yEba7Jsv/lgL+vivNFfxmn/zIhbfzejmM5+C/LAVNa6sb9tsdX3zw0FpXbJJ17kuyfCrAxevMTqsddetayO5kF1IV7E1Z0i9tljpN0/46OicyQYeh73v2HTgq8uPfqX8K/HSDWtn21BuKoF90C7H8Yd4biH/iz1oI+Mom7U395A/4Tu+4zvert2Pdxz8P/RDP3SnlPIoJwpQXYCSL3HdJWk3Ifi6AMgbt4glVUkOaeOju4ndhN9C/oRNgv58XeRTMbQIs2UxKVcvWEzAtxbE2lensz7lLcLTOLClvvYaO5GO+8ZP5A9iR1t8XZD1wfqcnLyUI+PJOmT6pjQyRpf5dGg5oF1o5Sl9gJc+vF1wxjrI1elix6HqSbZNz9oBm5xNJPso/eTwk7Mei8/82ZB65ccP4/hav/yySe/NASirF6vYyKM2ZvGw31M8Yp9/yvKgvw3KmJseT/r+3lyMdNPDJ+PpyQfjbLKnX97kj99s8xEP4qs2fodN3z/wROSVvhsFNx/lOBtyYnPEa8P0lCp/5n19+ZUA/VAc1VG2lwCfXAE+/XhResQkH6BujXq17x+28epdW06BPDk6y+H2Zbe+UN2cWU/mw82Vp3059sVPc2A+8OYjsJN/lfRYY2688OvHT6+SfWsJmS9vnZTpDPjyOwqNkWFDWx21xuSLz/zwlIzP+jXW+mwv1d/1We6M4em6yn52i10/flAic1cfaKN0K+kp564dOeCntes7LPYl+SdXPOsH5IPx9CKI11htWL+MIWPJheU7YSy5RTaNx7M4+Y3HCx/5yEfuykfh5sEPBZPSSgmUYHVJtDgldw/+gsfThozPhtbGVp0+E9di0a8suK0HelGond0WVQlcakzJNjklxFPc/NOmt405u/EYD8bSkRzUxp+voMQTn/FFcouzfYIuesSX/Pqdj0r9q6+xHW/+XNReB3dI0w/sGXfBeWVmnjc3qLiad/xgrCeCbLJn0+mwp1/bGmHbxse2Cx2/uhKPGwYbVLrI0N1r/uJlH+EBfQ5QX8KyQeVvmxaQJdMaJ8OmA5KPbMkR4ufGjJ88PjaVnvC9mvc02FoUs/zR7TDPfjKuM+P0icmBzF98C7xg4+uX+tjwOb7DyGeg9OZ3+unuwPcFN0+RNlG5Icdu8/6lBn+aN75YB2zVf6L+0x995Wz3mPIvHoe9z/Plx6HfnGa7EumXI3rlOV/YxZcPbOaTNepG0mf75siNl4+EOjhhbfFNmd+rj31Pq+bejVrXQOuNT9Z9H1OUD34sLejFR0c+a2dXO9v5aa13oGrzhR+7Rslr80udTHsoZJNstlxT1eVhfVWvXdmc4CXTnNTvGpIrto1nk698LKbWgzrQob5t8mh9iG+Bh66NNZy8C2OrH/RlJ1por9/Q+kHGvuu7vuvtkfvxy0+aK7pQoIBQiVKiko9/N7cc0G8CbCQ2Y5tKG268gijw9G5A7wZ0WAQtxBPGl9Yuf4pziS/8bbM9x05ktxw8DqdPXwrwodieBBsP2hh3LL0RxG/+Pe3LU/xL1kKEVx//8JJx09C4NaONL91y7wK2oZSr7CwPWToAj4vdxuvwb5OzIeCH/NNn0ySfLkQHmWyqt5HwxeHsUHT4rg1kPCSH2CPjy15eA+OzWbHLdzx9Ix/4QcZYeRETIssmWMflgj6HNiLvdb43C34tzg0DfcngdXDY0D2ROhT9Dbs/EyNPX9dlOf/fAuU1ehzMl70A+A/mWIy+Ue/QF7f8iUm+d56R/vYT425SHbx9TEO2OSVnHZgTa8H3Jhz+8stmH5ncgn766FJvXuW7/ccbCn73hUzzagxP60/JD3qW6Fza/uWL2KYLaTfvSuvE+kA+NpJT/XRlmy/eEPl+QzcHxsSlTW+/B4C06UflI32g3/rv/DCf7NCHj33jXdvaZMVhrvhj7thOhs7snEQ2+t8rbq7EJhlJ8pIEIwtPqQ8fSFSLRz09m+SAx4Iw6ZD+p0k2/eS6GNdOOCe1+MiCcilflG2+J53Id2Pl5FHAn1+3fH4ayEG6bvl4olg2HydBG1M+A3756fBWN3bq0l8fAnzGHLY2YDpsjt4auICBXJtbmxGZfFBag3R0cAf8ETkXPH4bMZ0blzrbbl7YzsZJrVm62sQcpK25coSM9YTWWw28nvQd+v5kDvgDYsTXjwEBvXRaf/IrRjmhV0zs8DW7xjzBOtRsyux98zd/891PGvtYAQ/gkze2beTeCvi7ck+lvvjnDQGQ93ZAaUNlp/n7/zfOuXgc+Mnn5rKbwuZAjotFXOYvykZzqc8BpU7W9zJ8POMGjh7zZIxMvH5DQd2TOGJL+4Q+xAdrqpuKYhSDcXF4c+B7Ar6I6I2Ma8ZcGsePB+V3VDxRNk++qLWNtJXJGHONuAn5+Mc/fvcdF9eN+PCWU2vZDaebH3LiaD6sXdeF/Flf8sUG3TsXxURn541Sv5zjx2fcGP35YYwN1x1KP7mdr1uU/f894x2v+n/4h3/4C8FvEkpKEwEmQbK7CzNuTB1fIN9iNoan8fTqo6+xxpXGHwc2TKhy9YfiaMKzFU5+Y/jzDy1PfWHb+NApj1aH8drqj0M67oOx8nzagse179PNNxdPfzJVXObS3PubeQcOfZvT9CmTAXz8NAf5QM5GZj2ZR1B3OBnrKRc/XfqRA9vhZWPnC9nsNYc2Gvbos0l12EKbBzlP8GIUq/7G2Cw2Zeu7dc+2WKwt/G0y6nxR18cPm6FD38ZIts2SvEOl9Uk2e8XIdzcGDi8bnQ2464kPXgm7cfKWzccyXs+bLygGJH66zJuD3g8O0U8XP23Wbhb8JoAn125cbKRsNY9fStCJ+McGKhdQffkeBfmRN7G6YeozcHmRZ+PdZJoXsYe1CdYGOZ/Xf/jDH777eMahJR/yBeVWvn2k4mMc68OfBzr46be+0x2Kx3xbo9YKPdZD/Ur9YJ7d2NFtTvgmDnbEGf8SbFtc+KId06aTL8Bv/ezvGmDfNd9bE2PWSTrxKOVHPHjFT479bNAHeOtPPuQbPUpyXdP8kysl0ofyyXzQS5/rH2866asehcYqw8qF5PJvcfIujIn1lNGObsmffWf7SV713/vlPsSpEtxFoK9kd5ellFgOtFDwWyyIDBhHeNOP6NduI6M7XjC20D5pdedLY9lnJ/9R+mF1If7j3b78jZYXZXPHq/MprFxtPOsPrA/Gotp0JqfEbyxUN9Z484PqWztwjrt4Hbo2PxeU+UEuYoeHJ8T68G+ssL7TqeQH4FW3QVtH1ls2rAc28PcFNnNozdlwOuhs6GTpjujVR16Jx+ZDp3F62LI+2cOvdLDa1Fsr8sA/cekD7fqAfj7xk44IihOv158OfQePfrrFSd4G1bWW/4i/DjAbu48AULk3Ji6HOB56bKT9s6Pyhbe5ZNOh4dWzp3yHvhzKPftkHGo+gvDE6iaIT2Rt6uVJ+0uN4uWrOPjdepE79aUTy2cuHIJei7upEW9PpubbOvaUyZ511DyIjw5EH10OD0+lPirxmX3XgHyYi/4hIOvTDRm9vjypz18KyHM2zK3Y2IVs6S+/7JrbULzlJh0I8Ltp84aHnXJjrrNDrn785YouNsWuz3oRrxLI4On6F5P1wHbXlbXjRlM/PvqyrSSfTDel9OrjA9/Ybv3XxqMeaSMybNCLjJnvva75QZ/1q8223LDNJwT0AF/TbUxdn7xAPhlfn5E6lOvGo/pDMieln7/K1Z1PUf1QOxntpzr4f/AHf/CuzAmTUYIplSx1JChJRcZAP/4NwFiJFIS+k/CYwE1UdtCTgB68dCm184E/+tnnx5PozHZ6l/TFo47OSYb482lR/31Y/urs7MLPdvMFeKP0K9EtHxf0LKXfgWKja/5d8L7sY3NT72KCbJNTbh+6L2ZrDfGRzp6kxWXj4YO6TcdB5yDHhz9fs4FPacxFj8/mEC/Cg5IFG7BNXF83rfzNb/LWe+u4Nt3KbJMFvpJzQ+GJ0dO0cXJtLDapYis32aK3pzkbGf3k9MuPuMjSj8xRT17k8ZszufJv8Pt2eU+//BUneb9t72MBn8tqkwM68PLNHIibzALv0pPglClu9daSGJoX/YuVjegQk5yYcwe9HInfYUCX+eC/A9shLa4+Qtn5Rupy7s8evQHB4+ndfLiBkhfrVd7p86TvjQ6iy+fyXsm37si397CL2KDDTQMZdvEoyRQ/kON7evCQFavr0BO1PqgsN0AX+WxHcoPMO4q3vLkRdlMoX3Ir7nxQ6nM98pc8G/zKLtCDl6/lIh/Z0maPnBLp33gQ3fnqusHDj649cvqRtjNFXviIh471q5wowbg64ufyqqN8OtH4IntRdsI5plyQ58eJ+NHGpP5UB79/j58yydgJKDnrWHdaynMiQRtJeJOtTNcSvg5+dXaiJwU9+Mmnt8UN7HfBGHsc6MLHX1QbrW+N3TdBqJgW+ooXbo1DOrK9/gRtYxB/49kR/+OQjSj/XJAufHbocffub5NdyOYt//JLPR/IV6+9MD/Wmc2PHRepDbsnHzL0uuDx2Xh6dWiM/NoLxVA/Had/SmiNaDv4HZ57ECQnH9azHJAprw6ZNhb94iAjll4TK+loDaqLxybGVvohveL0hTsy5OmVGzkn46DuibODg8/Fh88Tr5+i9YTfzRTg8faBbw42+ec7OXrk2U0Cef0ONjC+yFb0OCxvVNzqrdP0Vl+cNhGfzYF1I0abvwPLQdzBLEb68ffkr88bDjwd3PIauSESv7cG8uHwt/7d+Jp3c2xtyqUbhW4cXRvdnPGJz/xan+nlpydt462vUNxiA+PVrQU3Y+aYL+TKQzxrq/VPJ6qN+GH9tOatS9eA3MiTmOz13u6JC/CQAzdPctE1aU0bl2tEJ93895YJH33ygsTAZ76Q680DueIphg7+9gM5TR6PPrkButlSNu9Q/PjSYywd2Qz1509I31ku9EXkF/WhW7JsdW0skhHDxoX/qQ9+SkyoZAAD6voY4QiyoDep+pTIZFSikpXDJxk3eXSwv7SJfhToiV/ZgkYuivzQ/zisjtPX7AR1feI9YQylb6EPQXy3oD+bSmgO0pEsf9OF4ml+4rsPja9vbNoEeuJ0GPW5vra8lmeUP4jsOafpDWT47WKG82YCrD8kDptPT2n6ms/0Q3bzBU+kzaaNKNvxi4UfYrUhp9s4OTatJZRuelwHDko6yJClm39+oMcBAuToIEuOLXygr9wo5cC36x3arjGbL7jhIuMgs/Grs5tevuK3ETvsPeWbq72+bOi+pOYza5/j84M/5DzN+nM3bwi8LnfIyQt7PUktymlUDPcBz8oAv0A7HxfNQzhtBrblATpQlTZ3a1i+9DXv3pCYG3/x4K2Hz+aVnvLVfU+iG17ynu71yZ26OZFvNun0dOwwMe/4W0NuAMy9MW0ySB2P/l1bjYGYymnrS9t8sU/OHNmPy2P8m6N0lt+odRM/31ubcqW0vr29sKbIp4tc8kofO/DfGFl64iNHl+ukj5jkxfVOpnNEHhFZueEPWIP8028+5WzXPjv8alzdmneDQX+50Z+e1gYb+YjYUuLTj9TRgq5HIZko26H20iKfTpATL/7yAvif6uD/gR/4gTulXRgSktIcKxEtUoYlvoRVR/hO0EF3hN8iKImnTHaj9KqfiQR9CA/dfFTGfwvpibT5tmX68i8Z4NO20xPv6oggvuon1n6Ir3wDHqTP3OFXX3/B2No0luzaXz/1k2PLBuBg6DPlxiF7a1OZP/GtLaW2TcKF7OJHdGUfusj789AOsZNPubrZLRdI3YWOXPjWd76JB2wGNlSbuH46+YhPXR4QWf366LaGbTL0Ij47VD1BgrjokB9gp/kI9NBNpzz7kRmlPpuqg9hrXYeOJ31xFBs9SN2GapNGZNkVj48aHHLIkz7f5B48NXo97Z8z9g1yNwvFJt9iYfNE9qPHIT/TvTJ8lZ/mJFRXlsPT5rbNS3OLWnPyrd/86Ava8aLWCCLjwHIz6CbBoe8Nge9D+M6GXOpzg9A6zaZ15AbAdWN95NdSMsYdivzkTxAPffJlTAnmpHl2I2z94m2+089muU5H0E5fPkfdVDqkO/S7tpX05E82QAx8I9uNkLVOP5IPPrqWlfzCT6frB8oJopsdstrmgj6k3lzGY86M6XfNyRG9+a2kx3i+lSu+4IkvguK9VS+22jsO6mzSWxuRWb701Lf2qycX6eM3Mvaxj33sjv9RuPkZP2UlPSe2NEkd+EpUohh/HG45TleBoScBPYBfPaLTQoAmMt77cI7nQzotivIBt2wq70Pjj4rtlE8vItfkwtbxiTfflMa6qMjmL2yJl2wXzulfbXrk0eZkA7AG8MtJuqP05TvacW1QyquLT0lPd+fpoV8pFjaNZzsd6Q/08HVjR3S1Wdgc2CQXPz35bpPfTQWlmy/xI7DB2MhsMsbIec3si167bviuvocK0At8lmP6PHX7syk+iptu5BDBZ1N1aJPlX761ydm4+8JeT7L9QzyedB1U7NPpwPdmgD1PYPSU03JvnjztlounRXr5uCQmBDufIGf6Ivwn6qdjeZfSA+IwVw42/3CO1/i+DOgLeepufhx43m4h84tao9kxjz0Zt67YaW076Lxh2YOmNUHePJHrxpBevuFR5yOcMZNtXSSzsUX1KemPjOUDYo/PfHFjyU9v1+RA3IEtSC//6ktfa5hONz/iZi8bHcr2EnGpK8kqu8bqy69yKd9KOS/f+JTlHaxbRB9d6eMHxJtvbEZiwg9kokch/hP5lv3H6cvXaHHKnb4+9bf6d4IyUGJBIr+Ygx/oSic5OuBJ5U/QE9FbkiP9j8I5Tgbql5NIX3rZ2X44bSo31vsQf0i3fnlB8WSjBa0fxa/fxdSCWDn1cgTJojP/y2esRQbpXHlk7fCj8uShLz4XXRce3a2lkAxke/1WJ1uf+Ip5kS0bhg0tv/DJFZn62MHnYLTR6MfXeHmgsxjpcF148lI6WB2yDmc8Dmuv6PHSaROz+YmB7iW6PeX7m22bOh766QE8Ntb8dJOSLk9brts2R7YqyZPlAx46HHA+TvCb9Q5A43JZPjcvfOjjhebkiwFb9Adzr033qZ8/9SOy98EYnuKI6lNCusDn9/59/A58n+O7GXIT4GbAmFKukI9BfPcBD35z602Ua87802uOwbrzpsUbEz+V7GbMnPlOQE+bfJbfc42rl5PN1caP1xzpQ+q7Njf2s47Y56t1Ym79FQM5b5i8XSqetVGbPL/4nU9KsViLvYlwPTik08Em/4xZh/rpSF69Nlv45VG+rPXa/FZH5QqKkw42ym2+s42Hrr0OzV97ULqSQY8D3lsgy171+/TVxzZd0WLl4it2Y0998HNQYiQTclL/TkhJ2qSWrMeBrogMHfAk8hs4m/m2ZT6qL/99OHnWD2Ml1QJVFi97XQD6y0F+Jb/j9yH+QAal0zhb2YunuULxmxcXbCCbfSU+eso7GLvlX/aX0kdP9Ygf+Yhgx0E/PhedCxiaM7JdmPFD8sVQH/7afDOe7cgGYdNoo8Wf/nQ0p6DPRuUA5V96gA28ZIpVHsnaLOXdJu+QpMMTtAMCeVVuE6SLXLnUJm/e6PDk7UDRdp0BveyWmw55f29P1hhdYkX4ikeJyOHzmbBDzfcHHHKeHIE9aF2UW/PEvoPB4aXvi0U+5SOb8sHHU399UTJBO5nqZKLkxBPqd3NmjjzVu9HSn1/Ndbk17inVxyJuzjwNN7duDNw4OCyNi0fesmntsWX+fcRijfjIwMcEbgw8GTt88Vg3YO7Zho0x1MbTOHtR8YOx6vUj65s9N7puSOjxhC8fDuVdR5Bu/UpjiA/lC5TWWZ/7i6vrSZzyIW423RgjOeMTWeuNHOJ79tjAV6yuga4JY5Bf2uTpIqMvXeT4UnxiNb/lvLiSQY8D3lsgy7/0RPfxr+1FenYciTPe7/7u774rH4Wbr/pLJgOScjrb5EqQDUNS60N4FjkV0WtjclHsONnasPaMqxc0qPOVj3R1kaVLGe/jED/kf/ar0107u0og28YF+PTlY7obrz8Ul74WcuNkso8PtNXjFbtSHPwol/GFtYsnP/NVG5TVG0tPOumJtNnnD73q+Fx06iEbyTVvfEbp2bkUP0o2HqRuDB+75Sqf6bHBeOJVWnfpXX+0lcAPm5DN0NOPfnJKxI64ioEsIucAsZn4dT6vS/X56Vu/jGdTscl54is/xjd+PJ4uPVV2CLFnDD85tsSpz1i/Esc2n9k3D/ihvOB3s+D1bU+xvWrN/glywbUuXgeVDVyd7uyE5uDsD+WrcfzyTRe/wVj5rQ3FfurW1h/VF9RryxVKV2tAXhxUwJfyhvACPvzNAx55kxv5d2B68hcP3m7C8ik94hKrA9C35nsbgNzI+VjGTSJbdFpv7ChhY4F8TG+5i0+9a0adnHXXge/tAz/IevPjpkZs+JTWlDoiLybXU3lwBmS/GPPJOeGNiNLh71qkT2ktuSasdfmnh06xki+/4q6OR11sxcQvtqqTVZJDbAMZPoodyb82ffJs3jbXdJbD6nQXGxuL/AB68euLL7lo5Y2diA/oyv7q0Lf1Jzn4f7nXV6xCxDEJsiAkBxU4qo33iwGHwyaJfmg8O9oRfiX+Ju2LBZ0nQfa1m1h0C/rxJN8ijeKJT47LNWKrWJJJ15KL10WYDDS29tECb/bRLZBht1jDWY/w80dpPqB101qBtb0X84l0io0f5eg83NIVkUkObwdifrFVrjZn+h2OnlJsRH22SQbFG7LX/Hlq841wGxp/PUV4LWwz9RTYTTJb4mZvb549LTqQ8doMywkbQGbJwb1vB/KHLuP0dk3wxaHUmwKbHh+NI7yIP1FPP0o+i6O/KrBJKk/kK8jXfTlDxvhKPx/UV/7d4rR1H9gQDwJrykHUvPBlc6B0sItZG/EV2MSvr/z5YqQ5cSMhf3SWxwiv9WWdmUe5dFNo7fhOxu/9vb/38vt//++/+0Elh3M3sPjyvzyqd62Xv819fIi8eNOH2HWN8MUbILG2RtpflHgd3vxR0gPZiuQGqYubPjebvkdijVuDQD796cp/8uVVTuVKnuiSz2yFfIzo25irb598sWMu+InSicf4Uv3RF4tiyOa263sclvdJfbr5rX7CFhGSHCWU7BZyi9zkBEk8jZ8BSKBFld4WCYKSWrLjrX954oMuLvbie1IkE7GX/Sid6o0DWb4rN9Zyd/IhuuJNn4WajHFx61tf1CO8DjOluM1FOaQbf/pWht5yWl0/Wz2h0BvlV7nJ/6j48s8FCOvL5gUff9Nt3lzcSvriL1etN2P46adDG9KtXH/E1SZAhm/02LwdqvjzwZg2P4z3itNTuyeSjX/9Icdefip7bev68DmwL+nR5ynZn895kiOHl2z+29D8zb7P28kCG+UB4Y1AjHQb8xqer/qMuy75pMTj81alzVxceLrBEA9efcVRmQ9yYI3JmSdU66Q4TpBJFzQnoXZ25B34box8JT3KxdkGfBHc4lmU+/gcKl7dy4c4zYG8yN+WUXHTIYbyhTrY90manWLKprXmlbpf3vNxAR/YsV7NU3NqDbtpM4f0W7N0sF0uzYV+tlqX2ckmIm88G3TjdVMnfmvEWK/l1R346UbWAogT8Rny5UQ284dOevS7OXKNiI98fscL7GWTT/zprYO2MfpDsvxCfGQL6Mffta/fuLjNWXxwXx7PetBu/d3KRWMLfWzu2NlenP3xss3fp/qM//u///vvHKagiWpRAwO1JcsF4iLI8C1nzz76W5zA8QjowWNSTE4LrUkI8UEXJSzPkyL/I/boySYqDnU+4dNX4qOwPqcX0mvhFqOLrwNX3y5MZCzSH9GTXjJ4+ZZcF0aUjsbZbUw9+ai4xbjroHgQu9X5Q664yZ28YK74xh6dbbL4ldmqrr/NBfItag6AHX14xGST0KbLpm7ztHaN84FPbLjwHb7G8tUB7pAUT7nORzrxZB8Zt2GyS1d/jmfMk5ynN/7gO9eMmwT/UI6nRTrTGy8f1cFYPuFR+rZ+vuord+JR8pVfCGy4nr6M5wPQzU5kLF/ocFiZt/5M8T7gZxf4FFav8XjYoB+M5wc+5eJsA74IbvEs6I+Xf9aFz+gdQN1EL+WLvJ77jX48jal38+bjor4wB/Tkmz65JOdNircEDmBPxHisFQe/m0Vr1ZqyTtkjq0R8SBc+daQ/3yN9+KxT5PDnq/XQNWaPcH3gQ+bFPOGzXrp5VqefD3R3PeRPPoA9Bk/AKxbXh5sfOcDDHzbbR/Dlt7qx1rH8iBevsezFq5+s+WydG9Mfjz62O/i1IZt0ntg4FvqTJ3uisVDulmDrp636Ax2Qr0/153w98VOScbQOtgBQixyWN6zTOaYs8fhh9ZuMJhE1qSffKctW9k6+xthEtaNsRfGq50ulMaiPfgtHecrUzqZYXFQWq4VbvQuNXERm7SiRi6MLo35tOsjQS2cXbGNdIHhQssUTxBGa651n/HjSDenEk5/x6OvmQhupx0O//OHLhpJtZf4o4yGfTWgjNsa/bBQzGzYqG6e6vp4a2OnQx5M9uujvS1flfG2WP7w2Fj7klw28H8/xavT3/b7fd3f404EPyOJ16PzFv/gX7zZ+oI9fxtT5hDdiV4zlxKHvt+TNvXH6kQ2Pn/o9PRaHPk/7PtIQOzv4+UYeslVfVL7YlBs+kM8f46AvGVgdxde8scEvMuU/JJ8+siF9UH/rTz+Z5G7pbUxpnhz8DrXG6eQfX4sLyu/aoD9edWPl3q8CWovJBnzImwFz5aZDW+kgllPzhhz+5s8aRcAGsE9/11T9mxN1/XR2fdBnrJsd4+YC6IFi57drxE1Jh6Q+fHTQWS5A2/UlfrboRuW064ce1w677VP8Ut94jBtD1oqS7vh2nfKB/frYW5v5mf/6zXtz13h6lelVLsSDyKFQe4l8aG7yOTr7TtCzyCelsS/ql/symLLFThwqACjAHFnHtSVwN1C8TUpJhy1NYHW2Woja8Z0ohmh9hHyLtPOvErGthLVFRn+6lWJaoid5ZQvRRVAO6lPmQ/azl63606k/alxdCeTldeerev3xyKd2FP/mOTv8d7HxA07fjYkPf2PJFDcqhvwAbQTp0+aHkgxaf9d/epLraQBslDarnlDo4hPS5/NDRFfzAfz1FO2b2Or1lxu8bOWHTUy/uqcY35yn3+f+nvZtVPlanMb/2l/7a3d/S87Hck0vlBvQv3ngE50OfX8+qI9uZCPjhxjlgq/pMG4Dd7jYzOtrfEEn6OcTf8jQ66nfvBrTjzd/9aWrenxyUB5AXrMD9eNF5MrHqTOfsqt98oTa218pJp9DK/kjr8b4gvIjW3KrZC+b6coXc+vmSqzdeMmbdRJab9nrAHIQ+2KodenQtw7dQCL+4LMO+cG+tSCH0ekLnfjYx+sjCJ/Ti5ctY/woNr6j4lTi08f+OYebG/3a/KBTjPr4S14J1g4yRo5v7RNdb3SU42LTvzcBxta+NpvJ8lGc8o4vyvfirZ0+dsqXOoLsRPWReRxWZkH2vrFgjI/xoWIJT3Xw9wM+KarMCDAsUS26kgU5ko51SF8TUYlfPT59O9npyD5bERjDd1LyEeiLWhQRm12AaBdd40v6Qj4kr0R0VEdklHjysbihXC4Vdzmov4soIttFqN3dOOjb8Uo69Uf682fzDWLp1aANzJOejaqYikfdxehi0SfWzWW5qI0n0tYftQlE+vDxEeGH/C4mPGw47Mg4TG2eynIiNmP4bWZuDFz4QB6yI+a+XCUWkF86ip1tJPf8ocuGb+Pmx7d8y7fc/Xkf5C/ij1e8/o11bwjyr/HmIZSDcqXuNfK3fuu33j018od+8ToYtB02fMebTnUx2AzdAPA9O/EFbdCnjvCTlw/2zY++/I8PiiXEx0/YWNDJz6/60gn1oc1TfbewMiesD5+1G7O+zRt7XWPZ4D/kb0SuEp/45MjbHHPsDQsb5sVn+dYIXtcR/XKAwJzIkfnxFohNr/zNo1y7Bq1Zesma59ZisZFB2hFZ9txEIHasU7aS57u264L/xVs/Kg9iVIdsFHt9UA6TV7dGlX1ZUH854Uf52JhAm69ysdcknnzK5/xhR967bqP8zD/IfnbsQ2jzU9zsKMP6eR9W7uQ/9d3COX7qeKqD/0/+yT95dyGikrakj3OSJIktggUe1IRtG9FdMk3a9rfw8Veu/urpSwblN0pnPOycZCKj2tu/uk6d61d965t6MYT6lMjiQV0MqD4kz5X4lXg2/y3YZBtTsrX+i4keqN2FVVupT73FLicuMAeIQ9AGZGPsRsBmgkeJx4apTE4/vfzZPGW3nLOrni566KcL6eOT0uZFd/6Xo2I2bkwu9tDHky9ArjzKH13k8lHJN77YoNg23jwYy37zpg2+IW1j9ud2/rxPDOysDRuvp33/4hsfs7vYvuwhcYA///I2Qd7ERY/vC4irGzT9iN1yBfzlg01Rf3xQfdvsklWKxQFGrvnQH+/KVSeLX/4Qfn4XjxLv1lE2I+3GGkdQ32J5z7HgkHUIyhEe8TXP+vJJaR7wGOu6g8bzMZ/MCd1+KMi35n23on9K1xq3rkHJlvnwNsZB6MZBnn1p1AHJL3PmptJbJe2uIT6xn29IG+Gxht2oWRduHHyZj25+4qGLzX2yFwvdG3OxIX3FjTZ2+ZMfeslV199NED7XlzXkIwc5oUMeEJBDePW1R3Tw8wHy39rPT6U2e8boYb+x5PQH9vOBfnFBMSir0xPy4z6QwR/hX5l8ahx2XD3fovjCUx/8lGXgdCynBNxkNp5Mk7/yTSKyAZpkZKG7e7WgLco2KbJ4wy0bCE/26kNgrAVr8rJvXN/yN5YeyOaiiTknEMVfe/mMbXkuHnTCGPAJktdWr53fkO/6xNyB2SEq7g5juY+0ERlt82BeyJgXGwVdZI2X02Txd/Eq61fHh/iW/5uP+vIZ0U9H9ezlJzKO8qlxevhBvw0MscE+PcZrs9scaacH6jc3YvdELR/1AV76wGYCzUEHqqdxn/EC2WLlVz+iY8MjR2/5QbsGklPmu3h9b8DvxQN5B8InP/nJu3pfCqNL7OwXV/ocAJ5G9YkBb8iPRW0lfrIOJ3YQ38pJYJM9e0abMr7mw1jIpvFs5S9a+0GseGD7F/pPSi9/zJUvmpm33pjkp3XBz9ajcn1CoB+vMT7Jj5ItcPDQS7+8uTHEa22xo86OEp/DvzcFrkPryJibBx8N+V4C5JOyej5pF4NDnx72vUlQNjf08s966GDkN3k+KfGKR9k4Il/sSuN0FH++kDFW7tVdB3T7OE3djQjow4cHNcfZMm69KYGt/EeQj9adGwo5Ve/siofu6smwQzcqP+SKSZmO+B+HzQPa+vbRh+Dsp6NxZGzbT/Xlvj/xJ/7EFxSsk4smQeCnUTIWmTLSNlEmyUal7GInb8xG3cFijEwXAnu3bGRHH1RXxkNXthpH9C5Bdfai+sSL6od00QvxRsYgX8gtb/pD/i3i09/FJ4fy5SKD8mDcGJ4uwmTkVX77nDFKxnjzQ1Y/vXSwlT39UOwofnaU2sWsr82g8XjLBSz/+r52jG893XyOuulY3nyKV4mvG5v6ED6yzbf8O6jocIi6QaXTGMQPO5c2CAcIO/7JW/kjg7eDz6buW/yeutpMoFwo0eZM/46x70nQ5/tAj8+pvUGwibLrpo08ZCPQpc/BjV8MGwfwFU/rVYnINo82a3HwxwZurHkio64Uu9zoL67m6QS9kM10wjmGQP8tXdlYCmTImy9vSnzk4uCIj12Er/WJWjP68DVHriP88inecp4+lN/ssGuerEVy1iP95tJbAv7gZcvBbR26EfDWwLh+NunNP2U+I9d6hz6f3OCwTS97ZNlDQJaO9DRX+B2u+MQQnzFrHfFFuwMW6AcyYLw68MmbRLH01G88AqVcKsmLk+/p4pO8dMDTqY+MuTj7G1OKa20Bn4sd8NGTnNjwRLDyt3Df+gyrD6VPPVl0on70RR/8qEW7RkuyZMHySxRqwSGJM0EdLvGWPProqm1hmRz9+oytjfTWBrzLkx/Ls8j/KB+2vdRk05Vt/au78Xi08YB2i2h9q466yJaAP+ptOHLZReZC0dfGoZTjNo/sRuxvn3Z6o3xUVi8mdVAv1lC7mPGKCW+ySjrzu/42mfjp0Z/9dEB5ry+7UA7xZEc+5KWcIRuhcvOVbPropkP+wcbkyWz7yGgD2WC9WMN+GMVnqbB+Omg9sfmbfZsJHWSMb7xRfVsi/PzyDXu+0EWvjxlcR8bZFy+5fFAHJdvkPP3JW7Gpo9Z+10Xj5MyhPnraXKG3d3jZAwccXfxunqNbIJcP9BQvkKn/vC6jxa0+oEM/PXz3BsZTNJ3rn1jZV/J9rxdknSG8Sjzy38GXLFv5ybY1Im9y42B2M6o/fvKe+Hsyt0499cutMTcF0Dokt6Rf6YbVOnHY0+eGIR7XAZvmhg1IVmyuD6U+MaH2Nv3t7fYfRJ9+sfGx3KMT9cmJNYPExD/y+tktZ61DfeVcnS9sia+n+ngRXebXeGP5h4q7ki021y5+sZcnZeNR8vcBT6i+8rcoPyKxLs72l+TgB8Ykt4Ur4JKVY/Gr48tJ1ALqgtgkS2hJ7e63z2IEFEE2tv/W+MmXHWV0Av/ibNMjlo2jfACd6vJUrvCr40UuVhcJogMPfVF8tyh9G2+5pcuFp0T007d+JKcP+IqM5zOqP9/VxUZWXZ8x9ZAMMrb5rS+5yur8z3f1xnacj0rt7FbnF3vm17rUVsaDyJeTctTY2ko3W81Hc4McnjZQ+uLVrx3KE5/Y6SkmX103Nnp/NuZ1vE0Y+B82B5AtZRSy7ynbTYnNzb/B76lJHtjitw01P4o1yk4Hd/njL+KbEpKB8saHZFy3Dk5rnU986/r2lEmWP/qLMX0n9OeDfO4ctSbzKz2oeBqDxk7g0U+fnPlnj+1DoA/Snb+QT6CvNcHH6oBPW+6tQeNIf3sSeTatNzdpDk7y+PHJaW8htM2lG0qHbPk2d+xA14p5YZc+61a/GK3BHY+fH/yhx5jrEjXOJ7LmGh8yhsecdhPdmixX5SIbSOz105Nuftr/xWvN0IUAD145oIvvxvKbPFmlPj7gRXx2tnTwx6+fL/mKF/I1H/Gi5ixf4on0PQnwZhNWxy1af04b+Rye6uD3GT9Fa9DkSqI6o4JHyxdtspTJpyMkq8RTYvcujA0Tk+4oH5QlgZ4liCdfd4yf/EHpVDYZxRHhE4OFVunCLC/R8hhHXUD1L+lrAUf61x5ZPPwQS/lps2WXvyjZ/Mn/xmsjqK8ybG4bS6f2Ql8245XnfG0Omg9oHjYPdCSvXjtKL4qfTYgXmkt0yqMT9fEPkiuefDSXNlvzka7yja/YgI/d6OWnXFjffT7r893skFUH7ShZY4hevOWBD/TKh1fA4JW7jdOh4EDA47DoQMnfYqCHDfE7GDwxhewA3nwBdXZBHozzzeZLV4cT/2y4Xk33UVPxvBssf36lBxUPCtvefiBfH789ZfrCnQOifSg0t8rWcXlRr11+GlOXo67x1sMenvTxQ96tGU/05IA+sm7IzI08knGD4KbSWtRvnulHHcDmW769ScBf7sm5KTOOr/XNFvBn10i+ahfb+t11wc949KeXT9oovekIxuSbf/T2hcOVL6fqdDSmThd5vuLLh+xYk5F2/VHQnx1Q5w+9ysYjNhb1Rdla/lNm+W/R8tCxONvwVAe/f50PGLEQJLfJKkkSUBJCjq1z6WhyGiOr3oFmTGKRycNjPB3GF/lwa8JKdH35eerjlwXLvvhgY1XiWaqvcfzq6dMnViVKfyWe/EhPushlP9JG5ak2WWW2VhekE8/mAuJD+qJQm5+I7ohOcsUQ4oXVudR8oS7O0HqgPz1rF+JPH+DPp+orr13OTuRz/OlF+XqO0WkubKDG2E2/Np74Aa85Mkafw8SB7Lf4HTDWev4nf/rd9YGM5RPkA3/l1N9l24AdID0Fsm+Dt9E7/M81A+S12bcx+u5BMQTj+RavsnUN/ClW5OD3BIfXRxti932EYnpSpHdRThq7xfOoMRA335pr/nnid5Caq/YjJZ7yHGmj4i0muujFo0/OI3sBuCkjC/mBHOwOfnNFll7rQN2Nibl1Y2JtmW/5NUaH0jyT782B73d08BtTmhfkNxiQ9dzBDfykS+zWg3UkFv7pR8WIiss64Ade+VO3XtyI9MZJLPrjTReo49VmV4kvAn35gOiH7PIHlHibN3njk7zHo78Y8FVfSn7H61OH+hGbS/kU8Xlx8p+0IA/6V+eJpzr4++W+Np8Sm4ESjNRhHVyHTZZAySan1O/OzqK0YCwsiyyeE6sf8kV/CyC72xdP5VIba9SF2caG1E+K33i6IZvrS21yJ391seBxUVhQkHz+rLzy9BfkTg7LI73pa9HC+ni2I212luqPB+hcO9Wzl00+kgWy65/68iP8YmN3kW2UzfzbOJRyRE+5wt8YWnunv6H12Lo1Tp+1a77Sr6Qb0sGnNlKwxn1O64t3yEZEDq3/6nRG6W5Mfdv8wqO0adrEXVPGyTtokTF9bb7qCPhc2/rhZwefvvxTsqWeD0r6lkcfeYeM7x5An1M7cPiA593gnJt3K38LdMpbeXTo+3Kfp2sQT/Mu7vjlSHxKOdLPH2V1fB2Y9DSX6mQdbHitvdaytoPf/O1HRPxziNPXR6HInHb4O7i98fGv+zn42aKLvfzSxw/6XRP0q5Njjx462eOTQ5IO/ooH6EP86rqpD6xrMt0w4GMT6GaTH2zo50f5QsaLFfDFq2SnMj/KI/l8AmVzRV9zdvKj+E/oOyl+YP9RwI9n6UsBeu/DUx38P/zDP3w3MSbEXaXkliRoE5RA/WcwG2ATQwY/mECfRboDtOgsLovZxOwkLFZ/KPBsbR1ZHPXDjiExhvp2MZ2EP1rdyuTOfjE3rpQ3fmvTo97GQbbY8SJ9tZuD7KSzMXqQC28XNB+au2Qqw9bD8vEvAvrWRvqNay/v6uF3eV//409n2DHYuE/90BjgzR4yVh3lJ6yuCGwUrV2kTk+vTNu4lMnRq7SB6QcyXl36pr2nfU/j8RZfPqzfxbv+LdLhOsLvWmqzlktyxvneq1M323xLdzpAmxz5XiuTwQt48YAyX8VZu3FyDhM/WqSvf9vdE2Z5eTcoB+HMxdOATkRXX7b0MYwcyknxmWM5zqYcWQvN30KsrS97Gr70GMNPv7Wlb0GGbjcebMpf+cyPDjE3Uq51B3+/wOfA5KNxX+60r5p7+sTHtj2dneYy3+i2NuzNSLz6O/jzrXwB3Y3RZZxNtsgVp9J465QPoF6u0q2Nj25tcvqsGSWfKo3lS0hXZTcgiE598SE2lPSob3xQ31LAd9o/gT++J+F/UqwfJ576M36JNTk2CAYkq4mpHp3BNBlLoKTPpNo42TAZNsFew5gAeFRQJ9hDsDb1bdIh35JpcbQAAp7TB22Uj0CHBZj+Sogfj1iNuSDEnE1jbSCQPotcSb48yw9af1GbKP3I4qYHabPHhjo/4jUO6SaHj84QD3vZVOZTlMyOV1fSrZ5d1IWL9BtPtvrqgHhRfelULurLho1N/PKljqxFJb58RunP7+JUp8Mm26tL8nSSQXiyB3TYeD1JOlh8/p4dGyKcMUb5EYHy5Oebki3Xk0PWa2HfIfD6Gukj1yEhjmwo0xX4bNPUl028UN0ctl7xRSB+T5CeQPH4m3Hx9tcHXyzyJWiffY+D9d7c8s9fWMhV8eovvmJlw/jmP7vqeOWWvOvKmD750E+nPCi105NefR2Y1qen5J7Cte3L3pyYG4cr3fJsXL8vjfav/PHBQdwPSZHhB30LsmzzX93bAzcRbgCU9OhH/EP8LXdAlo6e+IvRmmR395biUHYTWvxs4UXq+tnbOYjKvRJB8uwq2Ua770L6I1DSF/EnOmH8xPalo/qWJ1b/fTwn7pNR/+hHP/p263684+D/U3/qT90l2uKg5Nz8Sl6EpwnIgcomA5o8paRbIA5CG8zqJHsr0Qvj2V3btwiq423BKHcM3We3frlwQfIT6BETiCHgxyPWFqmYXQxdBJvX7Osni58sqp9cB3Syxoqn/EblhQxaOxHQYy7oV6Z7c7G8aOsRfjbIu8iy2wZQ23igN//zF+jKfvrpiEdJF4jbZlaebSQ2K/3daFrLbjZtNtV7stGmm8/s0MHGGT+bxuSWXocnWba1i4GcNvvq1rdN12bc307jaz7KXfqRujGU/agxIEcPNGatIPFs7pPpi138XttBv7b+NvBsignUs/cokiO/L8AH8fPJE7/8vFtkc23f1+b7k6D8IYe+v4ZweELrLl3K1gdb6lCsqPXBh9Y76OuQa27S1/zkP+iXe9ektdqDElKnj5/IHirPPsdnn27XGP2uZzcAeMyjOvvWLV/wsllM2Sar7XrxFsCNhWtKDHzAj4eucmLd6Cvu4lOmlw/s0U0PHxBZ7WTFLQb6gX5yePJTiRrLHqKDPEpf1wOd+uQ9fkTHEtCZ/5DNkyeor1/ocWB7cUv32kT1V2Yn2x/5yEfu2o/COw7+P/Nn/sydsCRzqmSVqC2rc0BZHdbRqABMSDrw11Y/ZVA6TzR+C+tH8ZSYU286tJdOFGMLHo8Y0k9PdkyGutKFild9F93m1Tj5ckIHOTL5G6VfSQf+KLv5QR+ok00OsqsEc+0JwYbhQkH8NZ7e/IF810cPX+hozUTpMc/q5PSHfDpjq4/us53feG0exmxUPld2uPjc0mfbnnB7dWm8jZmsDcHBzC/6xIeHLuP4In3G8bFnM7QJ27TozD/QR0acDv2+lNUNVsAD6VbSn71ofRDvAv9iry1kPD36+erwt/nTSZ9y9dRnzhwa2uWZPJw+ZWOpJ35z3pcZzY0cn8CfziehE9t35uRRYNdrcx/B9FaiOUDFsnbTbw2vLePlovyry9kebvIQzAkiB9lWWivIXPloiTxYy/qtLeuXvFxb+3LbOsdPLz/46mbCfPKBvg5r8mziX5nicfi7WVSKh/90IG168p9c+qD8aBvTVuInqzTGXz66RuhVb4/As5Rf5LPDJn6+mUNr7lY9vekmhyBfg3b6F/pP3iB/+YXovo8XzrG1l47Vt9jx2urf+Z3fedd+FN5x8P+5P/fn7kpKTIBkmagmNNq+c2wdiupDeARs8kx4kxgZW/77Etf4LdDTQm4yECTDD9DGs7oag2QjfHzaePVnqwUKjcmRuhIPkN3c6adXn4XaWHlq480H4x3SNgIlHS5EvPnSJoDKdzF0EbBjvtnVNu8dVuzQidgGss1LsRYHHY2jfIhPH53sdEEmQ7+Nbb9ARy7/1288NiQHmd/Dd6j48pg+G6FXlnSVs+Q3VrBRempCvS1gMxlUDkEe2HZDoW4svwCfuiesDn1g0xzhpRup429u2VVH6Y7wGc9W+dIO8pIf8SUjbuP09jqXfMCD9BW/g4LP2uWSzrXJL7yRMfwOCj8n7MDxG/XyrS13J5J7UjqxfcX/OLCJ19uIn/7pn7676aVHnow1H+UCWrdIfUEWH35j9KjTI+fypJ9NdaAne8XgegBy+K0fN5nmrDUBnvj7SMa4dS+3dJvbbn69DcieNeiGwbxa9/xjn+1ihfzHj8x9T/78Y9e64LcxJX4ExVM+2Bc3wqOdvfrx02md4KmPDjF3jSQbT3OhruQf4nd1OrWNR/RWJ3ui+QDj+bM42xBvOitv4RyrTW+xV8/W1qE504f/izr4QbJQQeSUhJewkh/lFGc4cTqO6reI2+C0wTid1VF2T6TrhP4WSLR89OU34IfiUdZHTj1+9ZUv6WTw6juJjMWpFKuLh5w+yGY8/K0/6KefnDlpQdsUKm0AFjebQGcXyQm62UPk8ZJTFltEXj7V2S4H/Ck/ykBHfciGZZOxQfCHLjrpwIv40SbDhnbx00HGpmaDQw4QXxxz2PcE6+BmJzl66GZL3vHwpRsC87AbKps2HkQuP4ujuWkObazqrS/2gAz5/r7aOBKbQ7DcpZsO/qx//BKv68NYJZnTJwRKsTeGQJlNcy1OuuVNP33pQdngs3XVjQteMaS3PBd/RIc+MZgfB2rfbTBv+hf4k3tSomuRT+8G5sh8eNr32bjDkF76+V98+hAbrVNzvT7kFzm5I4u0kbVEPv14gK7mDIyBNYG369s6MmfWHR+sBzo6gPfaaMx6cT10A+Dm2M0BHnbdmLKLb31qHfMZ+IGf3eLDwzc5pIO8ejkD/XTwR4knik+516lSvMtLj7Fs60sW8SsdZO2DSn3NFWq+dt7Ia6P0LvQ1XntxtvkQL918r30Lt8boRGSj+rK3csYhme/4ju+4az8K7zj4//Sf/tN3pWQiyGAONFlKbZORg5G+qEUvKfg5XX+TaTy92YrOdnobQ0Cv+tqMR8l+PitDfeQj0IegfrxK/ezwPz79bGRn5fiTnDLfEKQXwdpVLw5tvBZ0B1QyoC6H5i4fykUbgk1FH5DvMMBjHJRbZzubEVvG8o0uevTxoQ2vMfz6bEZ8QHwiT7cDgi/qCMjj8bRh87KJ2bwckh2W9BUPu2Rd/OLHY1PExzaiDzXWzQL7DuvyUf42x+S1HWj+bKrcGNdPRlvZgVm+9eGRO31klRubjybc0Cht0DZ6upE8kaeXrmxCtvEs2AjxIP64UeoQLgb86Rardpto6wplt/iX+EBWbNq+WOhQhZ748Sxl80kJP2Sv+rbxPQ4+gvixH/uxOx/FmUz+iK88iDn9Sog/PmR8++VaLsobWeNo48arnTw+a8Va7l/qM19u2Lp5NScO/66FrvEof61xPN7C+EjAejMPdHczGn+2gWy68rNrx5iYXG9dM/hWzvr1ZqxrTj+foTUlZrLVs4O33KnzKR8hn5LlA1+09YtNP1ltuhfaUXGbn9Y26INsai+tznTAyRfwb39xRbWLvby1BlFrLBl92uGpDn5f7oN1bInjEiO5Bc14yJkIOApkgJ4CKBi6diFsctJz6o4AH2jnK9CF2M7naG1sP0oHfdpkd0FkZychPXjF0SLKRj7Vrq8JLhfZBONRMrBlesnlZz4EfMbLezJt6sY2hpD+fIrYcJHZmJLDt+P144v4lT5+tLBd3PLAv/w37nByIDow+gyzGNghi58fPqt1wOi3MdkcjUNrCy+wRQe7Sv6Us3KYH2JQN0Y3Xhsnf4oRQXEBWdAWM7IZObh7qncT46BHNsjiw+NGxIav5G8xoHwSnzq7CKqjcr3+NT98YJPuxtXxgNx0uMhrnydbM+ST4W/xIRCH+Mn5SwM6wM2S+YR8XP/eDfKT7C16FIw78Bz6vtjHx+Ypn1qTrY/8FHs69LUe8aojPOKXL/3mqf5yRL4bVHX9Du/mAG95xtcbJHPmZhFP/epsIH7Tw14+mDMlP/W7eaDH4d8acn2yh4ecOr3WQNfJzm/y+uSyG1189LFDDuGniw2+4BWLOrK22AvlU5ldRAfQLx4y1hZ/6Wmf0WcsncbJwJbViyuwk61QuzF0yp14Eh0L7XwCbTbkUj5Q7XIkD+UG/ZE/8kfelr4f9x78OdCiXJLMFlS8IePJA6fU8XPYWI5XGmvSkgur8z6Kj62SQGfUAsiPE/qX8lO9BbT6YG3ja2z1rFx8dBd3F0YXrL74uvhqp4OsGPGSK79IHfJNH3Rx6Et2S0Q/nuY238H4+pfueNRtECuHhy6bU3OLXPDKzQ1ei9gGgWxcNhZfDkMOSXHbYNLHFxe7V5Z+fMUhQ9bTeE/4NhT8KBv05Kc+0C52EK/cdrG1qeSrg9/mCelQonIE2unQz3/xu2noEOypWz+f+Jzf7HpK8zmtmORZ6YbIwc1fvEB/850v4giNiYFePrFNT/61tuKjQ5+NutyTpauxZJasFeWuOzb8OZ+bHchHlG9PCrrJwbuVBTK+zPeX//Jfvnva528xRfwVW3bMTfFk05i8dW3Ejze+xkEbGet6wAtkXUPNI1vmQKzG9FkjeOTQvPmc358gtr6tC+vWGslmdtgEfHTR6XpxeLPJHj664mOvddAaUQd1a7NfaCTfgc5H+uNvzbV+ymOkbUzJTj5Cawro0Y9OebRzpI7wluOQ7kr2iku562sR3y0euk6Zsw3J3zcW8g22HrKf3ejbv/3b3+a4H+84+P0d/yop6ZHES6LEqgO+kBzk7DpmUrVbFJV0WhBtKotsp+MkIJMdvMC/CNgyFu8iPSF7+JIHdb4q13Y8+thBK78y4nVRtllE8Vu4XRzk8lXJr/jl0gUOLfRsnH7Q18GSnnTh6aJOx8YP+pC2fuP1s62PL7WTE0ObW7rbhNJZn5IvNiIHq6dgByS/+G6D81mxL8xpO/D9Cp5+G5iD1KFv4zNuQ//Jn/zJu3+fXp/XjjZG+oqhORA/HhsW+5GNTVz02dTEAF7FG0sPHeVGHdSBbnHJBR6+umlgC48+sbdhNff0ksPHB7noVa8bAZst/nwmRw+dS4Ed1NwZ44sDJF+Sz2ckR/r45O2DXGgbw6dOZ0QnGIP0sNFNHJklfr0bFEMxvRvgt978k8g+25e3fMifYlEH8y7X5JrHeFo/xUkGL1hT8rFzbcwhh7omjNFTXK0HJRn6jZtnvEprwjXgid9NrzisEf1sst26XL35q8+YmNqPjPNr49QH7KorqwNd/HGjTrf1gcjzqVhR/XLQnoD0pbe2Mt/zVR/kl3blrb74lXQDvvxXhx2D8rXAo1+5BOTSuzjbp3z2QvzpQxtL60ofCvlL/g//4T98V38Ubh78KaSsBWdBgwWB4JbjYZ0G8upkWnTJN2aydwFExlookD+N6c8OqKN8wwf1w+k3nXyKyBQDKJON59TBx7UFtaG6knx5YNtFqr+DiHzxrhzIP9tygJee5gmSN75+K7VdfHxNFh/ig03DRWzjYC8/8CPtDoJ0m7NioUefQ7LNY/Wkq9wpO7DIO4Q8BX/1V3/13SGN16bmR0gc5Mjfwyv7QlZvBcjaXPxjMH4s52/8jb9x97fZdBj3tMmX8rp5Uxa/+PjFH8Q/8dCtH6+bkg5ePGDMBi8H+sSuZFO59uIvfz25+ca1zVxcyNO8J218wAd9bMgvfX3BsY27eaIfX2sKij8+dh3EniD5yH9ySyAvdPFFPvTTSQZp083WGWPzbn58ZOOGCfBH2bkP5TFakF3CG/IN8UGu5dUX+hz8Ph6Si3xUp1+soE6HeOIrv0p6jYk5u3jUXUduNuVXXsnInzlW8oWOYJw+fcYQ0M8f+aOrGyvjPqLw5sI1AdYBypf1i24oJjqRdnOmNL8gDohPP7n6A79BrOYWb/F10KPiwp8MbNzWdDnZXBtXalc3Xhmvsjir8zn96UpHuUDaoA/KUeP1n1gdkF9skF9kO9q+9X2hrziVSCxR4/xAf+gP/aG3Je/HvV/uKxCOF3DO5WBOZnD5dtyCQsbpUy+RkQm3sJQl7STILzL6SsTjcOq8hR3PrxPJKtOZD8kutv+cWHFoK11weNXlpw20C9dYuUfJ493FSU4bj7YNp9yztRdWc0u3sos/Sm88XcB051d9ePWxbx5d8PlKV3pAX3U+8cfB6uDtgMbjAHfA29gcig4pTzcORv1i+e2//bffHSbGHPJ/9a/+1bvPbX/qp37qblN0UDqgHdRg06W7p6FygPKXXm8VbF58c1Cwb6xceb3pxkTsYovooxeaT33IXHRjYIxuftu0xejmhk256EZDyYZ8ip3/fJMDdb7yi50OF7x7OKPmlm39SBx80OewcLjrawzUi9FBho8uNtgqH4ie7OBfHcjBYK6UjUfGH4V03QJZORBLevCvD7WtCW+B3BR6E+QNhhiA/3jEgMhE9Mq1vMpHsWe3/oCfHD0OarrlzHc2zB255iPSBmN0sUcPHdYrPQ5+89Ta8RGXnxm2bsx/b4Lo2/lpP1GvD+gXMwL9bLHtBtPa19ec4S+2riH95YIPrgsledS8FA8KZz2/yquS7pB8sanjQduPkoflWVqwvfPxtGAb0vekyJ9b/m1fcW1Mm4un+ozfwc9hZEI5XhtSXnK1G79FdFgcSHvrq89FgQSV3ig+WN368uNxOHmyfx/4vTzZyw+onQ/qLfIuksZQuTTWuNgh/Up8Lirkgu3i2rlIR2P1o3Jsg0Auwr3wk9NWt2k5ZNrQ8BhDZJG+/GyM72TzJRvqxupH7PG/nKRLW87UPbk6UG0QfuLWQe6Qa1Plo43IZs2WQwh/38z22r/NPH/psq4ckvgcpOzYQPlVTvkB/N6/6+ZrcfKh+fJRhA1OP3l6xK7eExnZYjdW27w2J/jpbJNMjj/lKh7xo2KK+OlAc6hoOxD4yiYbrSV+0MlnOujGJ//Wiac1/MAmCup0iM0rXU+fbJJvXGxsyoX6yoN8uQFjq/Go/N+HU9eCrPyUN7z0n34orYG/8Bf+wt2Tvhzoa06BPJnk0i1O+uUKQWtHfzrkSL8cN1/4jVt7fUHPXMh1OoAtvPzKnjE88urwte4QuPl16Jt//hr3tszrfuuLXDrpKZ50kmGj0pj+YtHn+uuml36y6vlGthjyWVzm2A2IOK0TsdMvDjkhA+QiwAO1lc1FbTyofnV2Ed+i8m5c3Xi8yhN0LcEtvseBfqCjOJ8E2XqUTTqLOyqe6Kn+jv9HfuRH7soMtECAUkZKYgGejiQTaVsAjZn8QCd9bUZN1FJ8kF9Kffmh/Sjka3gcPz9PntPeyWOc/2BMe2XOOtldpOLSn7w8RXtYGJPP7CNyzQt9bchk8UblDpRy7mmhDYocXfjwJ5+f+tvc4kH5yz/92U9X/HSAer4bc+h40ndoeVr39EsHv8hYH8Ycjq0T+dDnoNavjy7+sEueT2RtPPz+8Ic/fPfUGV9+0Onm4JOf/OTlx3/8x79weBqjI1/xi9EB5hC0ieuniw0EvS3gU3PevKfDRuoVu6c0bbGKAx/bO5/VxVI+8KTfeH1KNvjEN8AjRsRnJV/Iaytt1GLavITyRU/9bIlXSRee1ufK16bfG51uJJfIPwrpugWyyeNj7/TBuAPI/PbzwWJubssVOX2In3QsyjdYT/iyJ3Y3RN6M0JceehFZ64rO8kyuuTFv5lFdnzEHKD66rRWHOp3eErmJcSNMn3F8bq6sJ76nH5o3bfLG8otNJEd0GcdPpz43Sa5HMl37rSXj2uSU2mTxuqb75Uzr2jVhDPIr8IMsqh6vNv1nPM3FzokyKi7Ak/7oxDl+i+dJkC/8PuN8FJ7ULr0n9EVP9ed8/j1+zrYwQNLRBgT49MPyNkEtfG1QauPFJ8AmyQaiNGay6q8PlPTq241RP1JvEaCw8hG+9f8W0oPwxdvE1DbOF20xKvmXbJOpP/vJpLu84GsD1+ZjF3X507f53Ty6GOWyBZ8tBGwZK3/x6Qf9NsW1zy75DrnyZhPQTpYfySNxkCPfhlEcyZAXgw0Tb6/YgTxyIKJ0mjtx6rORimH94kfzq26cjd/8m3/z5Xf/7t99tymicsemtwuf+MQn7p70sx8PPfxzUPPdpu1tg3kRL7DRRrh+5n83V8bjM0+7XvnRUzu9eBrDx4Y+JcJjTF0J+OQC9OGJt3zG03yAcX3i8jYk20p8COS3tjjE1c0O+fKfz+nQ7+D3BUw5xZuf6/N9oOOk1pB6OVBXBm2+Wid/62/9rbs/3Wt+dtxcNtdy0jWnrd8BHB9fHe4OWWsByRly2OHHx6fklc2BeNODNldIn9jKNf10OPStQeukQ3/5ldapPOPrmjOGz3yxv7Hq52e+IDkJtb2Bc7NBjg39ZOOJT86Km1223LDwR96tF+OBPnLih3SRj7TLR8hecsbkVzvSxpOf+rSBn9rGykFIhm182c23Jbz5hl97fadHX3T6CI3l5yIb+Z7dE/Xz46kOfv8sb05TVB04tkYzJDnIJJpoC66E5VC89QF9yGK0KNVLxiL+dEjAIv3VK+NXnjKQP3COay+ld9tRUF97S41DfeJV5gfSlgsLxGJsQaYXTpnk6MPfwRGvvhYa3ag8N2/KFhdS78IxzgZsvNnFx2a+Np/G8Ni4HKJAvrVhXdFtvQAd+QWtO31ROTNGj5LO9FXiqR/ZfL7t277t7uCxifPVZ62e/nze60DwFwNexQK/9uDnIx39JHA3AZuf4gKlfnYc+OUdscuWmwyHkU3cT9r2T8KecYoj0oeMo82LEtQBn77sJoP4RzefyyNfHWgOMNdxsRhTZ7823eTazMWqDflXHZF3IHmr06GXTuPpfjdIhrw4lYv080+efaGv19aoawwP//llzs21vuZTacw6drCbfyRP1oGDEBmXm66H1rM+8vwzv3KTjXysjm+JTvxuMhz81qe149CnK//ZEAO+bt6yYQzKj7UA2axeHqsnJx45dHPsozRj4kbx82N9yZZSn7zJY2+0+MZ2Nspz80AGAR0oHnV2dwzRe5L+RbxgPJx82QZ1tpX48i2eJxmPznEUTh+g8eTYUY9u4ale9ffv8aMSrQQT26ZuMUiccRPVhGlvQNVzvDoibwJbwNBCug/5skgvMh6Psv6dZNBn0SnhVhLPvvxerD/ZV97iPfuKlQxfkPrmxebRBkVWP8JTDF085XD7Ef6eOulLF8Kbv+yoN4ds6DevDkubov7Q2qD/1JUeFzg5df10kon0ow4Ocvr5reQr/bWLiU90t+YiY3S0gSOb52/5Lb/l8lt/62+9G3Pw+k6Ab3V7ynf4ew3MDl6bps3TRutVpcPe9wLUHYxsstM1oK6U2zb24kB0OhjkUJzs+FzWF/oQ23yyKUJy6VBGzcmt8uwLtU9d5bKceXKXQ7E6QPSR43OywH865cE4eegGZ/1Y2/0QE310pdN4ut8NkiHfGlxo88dn4b7Q50m5+bGudr0hOlov1o8+MXYzZE2YR20xm38kb+bPWwVzaB3IBRvlCUF97LDNjrHsyo2+SJ9X5W5Ywc2hj6TYBTHSxx96+OdVvxuT3lKgzU05Fy+KR399dIK6nLnhkEfxIbHi5588sl0OIRv0RG784pMHPOItF+r8aF7SQaeSnHG6spOvS/XBrbjr27GTjy3ltgGf9lK86ByHbZ/j6YX1IeCB5PDf4ls81cH/gz/4g3eJR02CkjGT1SFdcpUt5rOdg6ez6ij+FnF2ljfo24SdqL9JiL82W4vGEJzjZ3tBNqhve+1vHNW3zL4FH7kwyjue8ry5spmVZyU+82IDUrdh0EUmHWSQTUl/frZ5ofj186G46HLH7iLHs/1dpG1a0Dgb9OhX8hdBfserTndUH/02BiWiq03SE4dSvD1xZQuxnzyyGXu69nSPfCPahi0v+B3sbg6+8Ru/8fI7fsfvuHzN13zN3YZrwxc/f1rbxcF/NvW14XeDpc8YP9lv08s3m2dfMkOBz3jobp6i7CP+lMfyB+qAH+hjOx10Qu2zboN22OQD+fzIpjGQewchMuaAEEs+KBEdbqQ6+GF1ZvvdIBny5SHIhVzpd5PVXLtOWut8cqAja0cMDkul+ZYHdWPmjy6HnuvM3Llhq92BzyZeZf6IF2nnazkQA5JPxKcl/liXdHpb4eBvbZGTQ7bI4sHv0Ldm+Z1uyB991VsLeNT151O65YvP1qpcit1NlL+6MddsWgfWGD6+kVVGYqGzNwX5pT//8oWO6mS186kcqoMxVH/2Ufxh5bcftJNB7JcTMIZHOx4E8W/7HI/o2Pbi9AniWbnlU28sPNU/y+tb/QI+DcIugpKtr0XeJIEJ3aSF9DWGn7y+nax4In0o2/G2eFxIp9/aFmOLq8mrHX+6Qdt4POuDsZMgnwJdjWcT1PHVrlxf5CIeNtcH48bMgYsfaSt72sp3JCds4jeW3nxD9Ac2bB7Fnm1t/WQRnfmLkq0uBjygr01Pna6NTV92to7I2VC6kUGN2dR6irZxm+cOfjaypcxvh5LP0JU2MHnD43D/pm/6psvv+T2/5/L1X//1d0+m9NLJHzrLn7jIQTEh/Ow7LBwaNjey+DsI8ZWXrhu6HEbG6N9Y+Va82SEfAR5+mp/WOr7y5+Dqpmjts8WvfMsGX9SLAegNxopFvcNG3Podrg7C4ssefnn29oRf4tZHRlu5yJ9HkRiAnR5I2CNbHrStf/PuSRmPeeG3mxtPx3zyhgPJP358ctNNnIO9g6+1w2d8+NXpZVeJ9PNRfOAaxVfOjaN8D/qKQW59PMKeN1PWrpjERgf9rQG+m2tvbMSmj+3yRefS6kDaZPQhaP7Y98Qvj/F3k8t364ssHer48WSLHjr5ak3yVdtakQ+82ezmTB+5ZBunTz2Zk0K+b/zVz7Y63+ozf401DvRXX99OH5NZ3vIRkk8Wsgfp066Od8eixUc/+tG3a/fjHQe/n+xlSOCczIkWaIt0Jyq+pXA6FfQXdEmuv4StPv0oPuNdYOvrkkVvMSKT6mJHeNNx6lWmKxg/kQ04dQTtndSts9Ek4tOWU7mNdpz/4swW3viV5kc938sLHcZA7F2gSH5s2Db4Di48+jcH6XCBsgHZRMbxs8dP/mmrZyd/kIs+HyK2yBnPz+aK/uwWG3/pMZ7+fEbZ168sV2zgp9/Tp98B+OZv/ubLhz70obsnUnrxQHkufqUnHZ+v8plu40pt/ir5FbGTfdeODZEfyRirv3xDMZzgQ/4VG9ocqLNtXrOhnyw/TpQrftmIbebgIOwGhs38qx7lg8PRZ8AOp+wUg3EHP1I3TjafT2TrURBPJd+V5NJXrpA56/N9h6MnYk/G5gefw9zB3pO8HJiX1rz+bgL0Ww/61y6IrXWJh+3mBm9zbSzd2urIYYrfvMm/f1GPLl+sQ8bZKk728NbXuhabfjz5FuJd4qfciMU65i/iU2uig5/PxkBe3FDpZ8sNYzrTp795ZkeZb3S7pqwduaFbHzlEh750NZ+odmVo/ERx3oJ+45D//FskWxzRieTTd4sHbsnTvXLVF7f6Fk918HvVHxhg3CJtwTcJOWVClUvGdjL0LbSbUHwtAtSCa6GkM6g3btGjxpNPjl4XER79Lgpj/Mp/JV/UI7yL4ljgoyt9UGkMtDcPyuXZdvVywqcWO5yxZTuUDzqKQTsebRtS/eo2Fk/LHfzyVa6SU9LZwadtPP+Q8TYrZf7R1Y2EetRhiPAhupG+dECbYZswe8aSLT9QvhpHfEX65Vbd5uSVvtf5X/u1X3u3SeIVIx2A12FgQ3MQ2JwcHDY5uhwcfNqNOp+bAzrlubzTSaYDwThf5N71RVcgT0aZXiAH5RdP+dXHf3U57saJPDl+o/wzRj7KP+NKfrsxFBusL9VRum3YXv/2VJodJZ8cSJ5G2eInG8VwIjuPAhv4lHzfuNQRsCHn7PVGRkz89Gdqbgrknw581hko09lhze/61BH75Vkp7+r0NR8I6suG/nJF1lpArklvI+jxPZB+n2Ltpzfb8ki2P6Hba/FE/WSUfNh42Ei/tgPexyVujsA4tG7k0I2JNz7WDZ145IwtviyMmwMl3ebB4Y+XPjbzqZxph+zHV1sZnaD7vnFt46CMFskU2y09cEu+9vLfkl+56uzVdwubF/jYxz72du1+vOPg/2N/7I99wSEKJd0iNYGbYI60aNYxZbLKHF/o24vIosBjkbWBnvpu2VWieOurrD9fkHgQnnTzQxvSnz3YerjPxgn9KFvVtx3lW7Tjq0t/cYKy3KnnWxeu/i7gZIw7HOS+ONiUi1Bs7GUzvSEefc0jXv35pV+ZPPAle9aXevz5oh/h0bZm0o3yW0m2PGVjkT8ObH/W94EPfODuwOcb3eU2fxwKNjM2beQ2Yhtan/ny0w2BzVjbGJ71beNHye6hjLTBxscXwG/eiim9gX66jacH8NDdnAMeesW2c4PUi1msgMchqc8B4rDMfrLbRl3PcmbzL6f6lPzx9OqJn+90y5845e4EnY8DvfiKb2OrNMYePzy1sivPfHTgnDcf+PWtbqCbDX2o3Ib68QHb6uyqx08HYgOMawM++ZBzr/fJOPT9xYd1Jsf8KU685hqfPqRO3truAM6vSFt/axTpB2N8c6Ojbt7YAAe7p37+8qPciAEvH90Y43MTSD8iH3+2Q76TNS+rF4xtX/7Sc45tn1J70Xi0WH5ltEimfN3SAyu/Mkiuwi35+IJ6fpz+hOIP3/Vd3/V27X7cPPgzwElUcnPSeJO6OB1UbhAmuc3sTAiyUFdnAa3ddCK81el2ISi1A57sWdDIwnURKcVnjN71CYqjdnwLfWe/9voesRfv9i+Ry198/Ffm8/IZk88OknihvJSjdEH6oQtPHrqgQ331N390IW0EtdlKt3p9yUTpVqJ4zSE0BvyOyAI+bf7svCurG7Om5EbbweuVfj8ig8+G4wDq4GOT/8a8+vf5b6+FbaheEwP/8DTm0GeHL/mD+Mh2vuMxX3wrJvbwsO+pv7jwG0tWXUm/soNAHdGBhyyC8ovwRvGqN6Yd9LlW8PUvCIqZL/oCGW384iXj7Yi8plMJ3q741Tm+6vNFNXl3YwF0lI9ijm4BH5/YpC/efDSefeRQ2r9/Z3uvHW1kTG7TJ9/66ILmTn+5aEwM6taDkh68qLHeHqgjeeMHHuurL/P1k9VuUMjwgT9klNYwufKffm/y5Jmu1lGEVxnUyVRHcqrPWmSTHnb0eervUAc2yw2SPzfNcs1v60Z8YBw/G+IH/tBNRx+l4IP8VLKn3LEdP8dAeymfdzyor56ovijexY6LZ31dKk/pae3A6tg2JAf1QXr10YW0n+rg/+N//I+/w+BObLQOLPQ3tnWwADi3+rTxKNusjEfh1JlcdclG6iF5i8yCsyirp58PQE9xobDt6rWL4T40vrEkG1bnSWIpznSpB/m0QSD1+MTIHlk5TTbKHyQXHbJK0E+Hi1DOjEF+lefskSOzFzhkvwsBgfHmQF0/3lMv6LPBKhtPr/5bYwj4Y9wGaSP0D/84yOl2MLWxarspiGyciBw79GWD3zZE+fFa1WtjMuagGNcPMvxofvSp6893OTYmH3SzifQpm6fk43XgwfYjetkQV3ObDmUyxqNFfWJE4nPTwxf9fD7Bjn7j/LL5K9NN1psW88BXMcu9A8IrbZs//8A4ehTEgfhHV9hcZBufegcSmebFHPJNG1/XAF8i+tKlxFuu64Ps0EcvWTnAp91TNPtAL13mi6wcyI+bSTejPel3DW5OyHXds2k8+2y5WbOG+VI+8leZz8VWG9Tp6vrnLz65yaf06T91KMm5ATTHfOOHOMkUf+gadfCLu5yd4BMK2Vzbi7OPn4tT144bK8bF6mwsvogeZfrzL7qFlV/cksGzfdr5zuZ3f/d339UfhXcc/D/wAz/wBcUmTElZdDpxIudzpiSQU0KLFJbXAoDGT56oPsifHcv3Nj0LLUp3vKHE6a++OPvvy0N+4M3/eM8NA2rfR2RRbTroVnfRu/jb6PWjjVF/uUTrQ37pd6E6dFx05W31rF0XMb3qxj0BkKmN6CazvPqM0ZuN+FY/Am2ydNgU06U0tjLKBb30k3Ow2FBtLl5DetK0KfFBv9f+nu492bSZpm/9k58+89ffjYGx+PK/GPINlZv68Td3SjxuJDwBO2zp1t+6xVdu+V59beDPJ+MdGvHGj9SBXH3pKia2vYLtJof+BV7gDxm25dAmbl2QB/3+PFKe2eCXGy8/CtPn2eQDnkehtaNku1jyv1jqBweZz6jJsCUm66PcA7/KrRKlq761i3Zfocfc9TFST7H68itZZfnCay0iB2ufp9PNHjny1XfNsEuXMW1jnrTdrPXx06J2OmHzVCzV+R+fHw/yXZfG05V8ZbrF7/N7T//a4jUWmQf9XXdiR+kHOqP1F89SYyFfQr7iTV9Qbxwa275buGUjmcZOO4uzfeK+8e0/bT7Vwe+JHyiQoK2jJgrthRoaA87sZORs+nZc2abSwst+OjdAoCddW++CRPjpSyeedCSDimV9WmR/ZZbAePLp2HY6FsncIshn/nWxK+lysbiwHUBtHjtONqJP3/qaT4CnzaiYktt6/Or4bQou7jZ4ZTb5zB8lHfiNrx2IZ30kD/rTs0gWml96I+Py0pe5bCY2rV4vexpyEHkLIIfsso+gMjj8HPoOKgc/vTZXNuQbfzFErbniVq8vHnbJN3/8chjRhQ+5GZPnza348AD5yMZKD72bi+wF9XKY//lTXb+2Gx56xOzmSB/EG+pvrhz88gb8+uAHP/iFL6zJgz9P8wTpSZxesZNlCw//orWzkAu6igXwNhfQmPw5TMmIzdyVKzzGrZNyjYyZGzAP+tizhrKNgD16xeFmsjcZdLBTTEp9yNpzA+Ip31O62PtBKfqLBS/URx9bsD7gK146zVnrJJCvTO/mj67smHs5My4WH5N4a8JP0B/VJofki365cqPtC4pKusk3B82VNt3NUUg3Pjx41ybog/oRHdsuN9FCOx1wju/Y4hbf+rIlnD6d2LFb42HHTptPdfB///d//12Z4RylWOIkPtKOGs+BnKkN1ZtU7SZ99aBsw47pX+Rn/NW7EOCUq61MbxeHOtClvrzbBvUT66uLk96lFi4o2UnGeLJLjcdDhwvGhuHwsTG14ePHw0cXV6RNfmMJ5bm4oHr+JKds86O3twQrSx8fit8Y3jZTerIplj2s0ovwZDfbkTaoA14yNhl97Pa5vKcNT/o2UzcBDqBe+9vMVn/2gT/0OfBtxn79zY2D3NvU+R7vlvLRjYKN0mHiEOSHNp3Z3DyU6155eiK2EdLVQQN85KucATnxovTgletk6NUP5Qy2P9RXv3iaY4daN0rAHn9WhzrfHKBi54ecedXv82uQJ4e+V8HdOJovT8bsI1Ce/mqLS7nU+MpD/HLoUFFac/wsX/zhA5+taXX9+Fxf5MuBPNNvTD0boF+O/AWDLzKKV1s/3XIlF9Zd5KZH7HxxMHpC5o8cdm0Heprnrht99LYuyKrbG9xM5C/oz2d96zeIE086+GPNk3Et6XMtmTP5IX/qqd14dTm1rn1hkTxd1pIY6DcvP/MzP3P3RiFdleTxIPXsRJAPoG/bsHLqC3rjX30omRPGWodAJ1q5xlZn+vKh9i26hfRHJ99Tf7kvhSCwApIck4QsvCahskCgNqIjpBc4bPwMUh++khofbHt1wannrK8f6ahcZBtOu0Ed1Y/IbF4czOVqy9VDprH8aXzr+eRi0WfDcNF0cOlHLlh8LrI2MhuWun68yiUy5dJ4MfHJxiMOmxU/AX8bA/0u2F0b5Kuvb4g9wCNe+tOtj690Fke+GMe/OTIG6vGS4zefbah02bzo9U1p/zqfJ31PQ2wHcuIoh/LlSdTh5Ff+fvZnf/ZusyLndazc43GQ28wc0B30Dnh9DmyHSHr5oOQbIu9gNF4s8qhNj2+e8yF5MYpfPV7thTZdeMu1/MSrXp92/dkHbQRsRXJpHjxFip/+cr8ydMktXjJuetTdcDngQEzewPSvvpGRK3npxkJf68qc5Dt7/DEe6VMW16JxMvLJJ9cN4Ef8MR+VZNjums2euLr21BE++luz+nqCF691KK6ucTc3veFQ782ROXdjYp041PEYc7OqTBc9fO6mhH3gIx+Ucqkk68Amo50sCuIqR8nLg/Vr/bsB5Tf7bLlZ6zcR9COy6T11n226XR/mwphcseuGwr+p4JqIF1YvW9VD/sd/H5LNZ0imOUz3k+iLB5Gho1zUpx60K6OzfYvyQx3Sv7arw1M98X/f933fO5QKpqBcBBbPLqClsG0LZFG/ks4cziaQyX6EF9WGleFTfta348r04Fs9txBvWJth9SnbDFyU2qs/ntBmhvdWPk8kWxxKebIQ6HJBKWvbwFCI31ikjeijn2y5N9c2OZuWjYn/6U6OTbx42uDIiIlOPLtQ81uJhw350uZrNyn5UA43b/qN42ujzg5KJ39tMEpPm/5uv1+O05cN8dh0bWYOIhubQ8lTvn/j32Zsc/KWgB51MbK9T+cOlDZj430cYIOXG4eFuo0Yj1jdJPR6mT7y4CaCTpuvmIDP/AU5QfpOxKPc3KNkUNex3JZnhG/zDemSazHJAV5QJp8d7eaAnDE3XnICYvcNeznfuXKTYA31lGxu1g7du6Ygm9UBb3L1gXmWZzaN04P0dZOmXTzlqbWi7lpwYJvj1rqxeMgZd+iac/xKpM8B2l+MqIvVmrQOuvnxRsnbAn8CKW9+/8BbhD4+KKbmkr/lRVvd2tTuIxoy+Iot0o92T5CnrgF1eqxbc++GtPXOFhiHdFYP9UfyaK7lW15cB/7RKtdfcSzKa3XjW1aH+O7D6kEgJ+r5V//q2r7ojBu1Du4DHngUT1i9QOa0uTlAf/SP/tG78Ufh5mf8p7EWC2qRNZYjGW3Saje+SFZZwk/eyhbW2sYHW7pwXGAuQjyrB63NNrv6IF1BGw8K8RtD2ggP3+hlX6nf5raH5OYm//C60MnnQ3rTicSH0k+XC89GjA+FjY0d/Ge8gU26jKu7EBFefrko2V2fq5MpdpsXwq+tH08bKdCpnz4br1jU+ZdtvqiHbIlTaVxO092Bmax++viAT+mw9o/0eAJjH/iCH9nIbHA/9VM/dbf5eMpxKHkCoevrvu7rLt/wDd9wtwE3V+ywbfPy5OIAE7/N2kaL8DoAlOK1PpViZhds4rVt/G3+1k6v+dkCPsuHEgXj2vwCdX2tPTKbU+M7d8p0JquEtVdOwQEgLvkxlg786uziF7M2OOzIgdz1JUt68IGbLAeWttyV6/wprvWr2JTV8wm23wEjt3KOx7pC1o+ynKWb/eJmG8TMP37TU+wQv3l22Jpf/NY6HteHHCDx4aGrm2b9bgbcFHizZB11A7FEH/CpnJSX/BSPePUlxzcoJ0i8ZORAbqw/T97+1UqHvzExkucL+LzeDUFzXa5D+SiPW68NbNLv+nHD7XraGII+SDaeYqgOa+9xSIb/6mccITtAL75i3z4868uJ8o8HPc7H9EI+JLdjtdFTf7mvoFDKlwInBJ4zqEWUk9GCTn05CvGRhYI7fUh2dep3IbTJrB/pC9lMx1LITgTK+kMyjdVmu40CpX9zQ4bPLvY2BzJAlwVivINCG08HSPbiaQPWVsePh6xx/epkGoN8A/7lI5nd3NfvdNCH9NkUyKh3Q0KmzQjYRHzJH/zQBkxG3/qnr7F0kc3ffG6cb+XU5unQt4HqpxufDccB48naJufQ9zq/V630eMLxG/6/7bf9trt68uI0Tgci45C2YTv4bejyIYbmgpwyasxcIvr4Y/NzGJbzbgLEzxbQVRwgfvropQcZ0w+NITBeHz31rWyonT6+mFM+y6l5pOuEPnPUGFutJ3V63Fy56ZIvJEYbv1zKgRx2+NOTH6gcRJD/gD/b9SndSLEjv8APeS3HEV7y8XVtAn/E3xpbH8Ssz1g3gNZLuVYnq2yO2RGr/OjDq5TbYierxM9GeWwdWyfGgO/8NS4WOcYnl/zSbxy/cbGTd5C7iXXz+8lPfvLui6zGWkfsWuN8teYRtP5C/Pwo91CekPigvLOtzie0cqE8nLhlA/CvzKnzlAvqjSlPvvRCY/pPO7V3bIHvVv/C+BlDcvfRU33G/0M/9EN3E4xagC2+M+BoJ6syZ9VvoX586ktdZNk6bdKrj1/5mM/JW3xIO9nK9fccp5eeoF9fPgD7kK70pEPf2s7f5LLh4ncRlScUXznH17g4Oyg6OOMDfHTWDtmtpCeebAZtfG26bOy4MTZtIPnQGhGzDaaNVB6aS3oBD33a6i56Nwrx5yPQub4jNsWvXp6ROr2IP56+vSZ1aHs9CnwxzqYnDE/5/o12r/N94Ygf4gEHuN/w99O+nsaSBfZstkp+OKyRTb6Nsc2+3JDFm4/q+jdG8MRvQ+1JTV70AXvNz8rwrbY8oM03G/ljrFi0AW9yqL50VN+2uBxUYk1vMSnp1xdva7YDz0HjT9bERg9em7+D3+EsfnzmwSEHO8/GyuPaQtoo4InoIGueW3uoGyxrd2Phs3zpww9kzbV1ZZ25FoBM14MbRU/txungV2Prj/7mQclv9tgyrr0xlUP5pItf8iVv6uJjh6w6Epv1Ss4TO3/ZEK8bLGT9uwH25TpfYtWmL6izL26x0e8GTe74zUfQT7d281Wct0CnnJOJH60+1LradvmK9G87Hv2QTmUU1MlUbyxf0pltqH/1J1cfrA9iPP15EqwOZXZv0VP9ZO+P/MiP3C2cDEWcLAlNztICT47dCk5/5QawqE3+tJlcF7AS6Ys3u/G2GKMzPrT8226iT5w2tJNTv5UX4/mdnMUAKwvFUVms/EHrZzJAn40DqaMurGylY3NX2+Zic2CP7eyzhadNHOGH4menp4/8zU/jiA8udnw2LZuHfrzFA+Q2RshPtHGxxx9wUNh0HfoOjuLq5sKmZnPzb/J76rQp0oPHuM3RP97jX+pzsEG+G/dZNDnxIZ93evVpU+yVbblZ/5XkEZ+MqTemjw36fcxg/vjMN+Px0KusDfpuAY+55BN7dNKXHtBffPj5pB7yuX5lB5N45UgegM54QL05Mxafg8pr5A4ka6DX8PxTsmEeO2jyaXMa1j9jUTBGLztdF0prsJvVDiC8ZPmrLGfpFq9v7LuxdKPXmwz9rg3x+A6Ejza6MaKr+aZnYwFtY/haz81x+VO2rpStP/3JxA/qCD/il1zyVax/+2//7bvX+T3d++jFDXE5IZMf7LBBR3G5UfPGzPpiE688sQnnXCzh3zbZ8lIcS0AGlQv9yag3HtWXPL2PQnxAZ2X6o9UJ8d4H/LC6aj8Jspn84+Se6uD3Az4S1CR2MXRBMNp4pK+k5FjJueVkgRdQiVkdkK6tIzYBb4sA9FuceNZGOrOF6l+CZNO5/CfqW33rz7Zv8eRrm4o+JeBZXhe6i05fSGeybaraKP3NUXlbH5Ntc2hDUQIZNtIB+JIHG+P6oqSjjZA9MvnePInbBg+NZYO+/Mx+8SBjZzxsgM/yfZHPT/PyDb/SRuXQd+D/+I//+N0XiRxAfGCjHDvwf+fv/J13GxzQzbZx14M3BJ5WjYvPwe+pydMdH2yEDsQ25WKjA858QP4bczh5PdtTXP3FuXrVjSvFWU6CMX4j/Ige/PWdoKN5AHW+l//2g27wHCYdcOsDHxfa8YjRWxL55IcbQE//5gmy78bNIUtWX/6fYDO/i/OMzTz3rwfiEwM/lMW3cbKjLk6lduTwtFb4bq7dLDrs5cL6Uy8nYB7OvAIf9fNB7EhOgCy5qHmH5l+/9dYNhxKfMuK70nrlG35r/0d/9EfvPuJyo8kHcnSoW3t8ZUeM2dUnNmudz27W3Pxoyy854FuxNg/KKP+jEzu2RE7M+bM4eSE7IA+PQnyQ70pkjK6lEO99iHd11X4SZDv5x8k91cH/Pd/zPXcTavGhDDGO1ngUNiCOxn8ivhJYO5x644nq64LQZ7GaWKRunA5j6slEkD5t5dp00TXWOCQD8cfXhapELrAuRmX+xB8BOX5DutLngqTLZqPdOJgj86WvC355Wuybi3woZ/WTA3Js0aVenEoyK2ujKud8cfGLla7kk42APaCrA4iu9JND+Rt/7XThYcvG46MJT93+ZM/vwuOlz0bvtb7XmA79fjQGjNPBZxv1V33VV919ru+7AeyIzXh+e9L/S3/pL90dUj4GEKO+vtwHcmczNB9k89c8aevfuM6cgA3U4Y8nfrKgvrzJ039Cbsglo00far6TVyI5qQ/qi9LXHiEHcm8eV47vIIflsRisE6+KW7sOHzltz9GH14HqG+38hXSsHchHJbtR0G/O+ysNoIc9vhnPf3pAfzCnnuxdh+VUDPwvp3yWC+tgr3f6jKVP/xId5bLvIJBrjtKvpAeKjTy/u8lWuhHhA3+VfOaDa6O3Um6AHPpsa3fTgjc/2Uz/tvHRo+3GyUce1jv/zSGe8h/BtsVxX7sYYdvq8l4e2IGzDKsXdj4hP29hdVZfH9Hy3Id4Ib7aj0Oypw509i+e6uD353wWA+WSfBo8accsrhZ5k3ULOxmrI9ChjaeJVoK+9NcH+k3sHkTLp40nyge6O3gQJIMsbpRMtLzVQZu+NsPIxoHPhkAfuyBOMsWSPcCv38Xogu5A1WfMhWauxEsGn7HmgW5PK3iKH9STw89f8vjXH33GIn31g1wjMpDd+LtAldlC/EDG5Ik+PPmZH/HjQ/qykZ/yanOzeYnfIeFb+PLl4PSE7zWmzy/7m2RP/q1xfnTo29C8KfAKl1+N4xWPzfITn/jE3dM+W+zwuyd+MnwTq42Rb82XPAFbxVQu1JXsgbqDPz+LWT99iMwiWSVeoD/72TJeP8TP53Qkn921Gb+1pxSXA1A+xIwvPVA9m8XaK3fje+DRmb9iJ+OvKcwPXvMAdCytb0p9QWzsWQtuNlwTrW36jeHRt3r4APqsMYeja7lrEQ/Z3lbQKxfki0Gd7mJr3dWvTYePPMw5eb53TWQ/vxAUMxuV4uFXNwDWH38dyq4PY0p+uBa8pndj5SYXH518KYfZ4SP9+tlSmmv5EAM/26PwiVUf++Kgg8z6nP6F8Xi2bEybXnGUm2QQnfkef9DmKxhfXjC+Pp48J+/2RZDPET/xpTuon7xR4/KE1JcXtKNs588X9QM+kLF3g5xc2fSFU6fxJbKgLPitW0xNPl1kSq56MBY16SEf6UJdkHizEQ9Kz7ZXDwI+ufAsehcDP+lqASjpV7IJZOtb3Up9+aJdnGRtEm2e7LjwxWkjNeYi7uaADLBDZi9YcmzQT1c5xGusw1k7P/IZlTekzRcySoQ3++yuL3xgA/jcgQLpx1Ps5POPT+sXW17ve9LxKtPn+MhnyZ7IPfH1eT6kXw5sfJ72PcXb1IDOShv7xz/+8buDnx42/BAQWZ/H00+HnHv9qe61qjxA62/nMv0n+MRHehwqzQkdckVWvXldah7Sj+jTXj3WgFy3FozLM14+KwH/6oTK5kNOld3swMm/vtDZHFRX5svmyJiDSS7xQL6dIItC/PykB/HPAZV9+WSLXH6sXPkw36jDzFp1UJtvpfWhlNP6ydNFL/3qzZESdQ2Tw2MOmgd8ynKRX7UjyG9t4+Iq1uZFHMasKQc/3fLq8DdGlk/8yM/6yOWTeKx7suxkq487zJcbcOOnXTryd5Hf2TzHw/LEFy8/qze+aG2szKlr6+jUWR6UYEwbWRfxRKu39knLH8/ygvaiMdR6Sf4jH/nI21z340t+8Gc8WbrSF06d5/gGod4ibIHZ4Nvw9RvfCQJ1YxHepRY3vnNyjec/GFvdIR+j+E0EX13QLhKljaBxoI8MW/jF08IpXlQ/0NNGQa+6ONKjzB5qoYMxepSQjz29aOcf39T1uWjxaW+OaseL+ICXPmX2+GFji198gVw+e2JSkkmnej6XF+3ixW+jNWaz8drRk91f+St/5e7LS14hxyNfbOFdHfz0tO+zfU+X4saHQPkTP/ETd1+CcuiLR978PoDNztO+J0m5otuB7QnRL9XJQ58R04vYLA4lVOJrjM90kwd98ocn//Qt0qO/+PQhsmTkoXUE5st1xVf+kYPmK3/SpQ9fc4yfj/r3EFkZlD9gPaSr+VDyT7njnlLNKz/pyL8T8oIW5CP+Orz5KLfmki2HmPjJygnectIrc+tDyRfxiZ8OfjYX/LIu2MmmPHeor2/satsXgD425YGectZ6oYsMSnfEdn6QYZ+P4lKS16dt3Fw5hPV1MCO+azen5Tnfm49icnMrH3xsjA5z5VrstwiU9LtBFG9+LvioLxLngu4QT3kBJR9rx3MiO0o24kNkt47KN+gnV262XjueSDtUVy4tf/N9i0d5xrdj9X/nd37nXf1R+BV54s95VAIXp85z3MID8iWVzupAxqS4UJvwk4AtZJEnnw6gowUA2YQm/RbhLz9LZPTzN94uHBc2xLv+dEjiz598oUtfGwzkozGyxWccb0jeOKK/Oht7oYO+yjYivstzm8v6oz+/ij0d5DpsyQZ8qLxUV/Kl+Qf6ygtSZ78SyNmEbDI2F5/j+zzfxkzGZsMPSE5scqDOni+Q+ZEeGz2IgazX7f1kr5sIEI8nG0/8XqN28Nv0jInFXxT4pT/26Cjv+U6/nJcr0N884JVbr2P7tvvmKaKPjiioZ6cSkuNPsaPmurFKKFf5z4f8VAe+yr1xhyTe4ls/1pcdY0u9tcI+6GOjp8fsrp6AL3+ATjzFEj/fzEl/NkmnQ9EhJg7oCb+PkTr0+dCNgrm3DoyZe/3anrDZkDc2+dS1I9f5wa/TX75sbOXQGP7WV23+Im02+YXYbt7ip4s8uQ57POaM7/G3LoynT7sciRVcc/JDhm4lPvXWFFn8vlgoT65Jb0dOFGfEx0U5QOpyRCboL05Iz0Jc5CK5gHjTDdniR/0ou0hdnMoQXwTFUnvHz7jpUq7NZBaN1Z+/6Kme+P2AD+HFLpwcW6NQQiQXGSMj6OVfmYBPfzrIlPCF8cb41EUQ71I+k8kfaHzb6uxauC1iOtcndZR8BPG06NlT6m+cbBco4t/GELEbyAAeso3Hk50ucm08sL51QecnvvWti1RprDZeehycnhI6xNlQ2sy6+9eX7nyMh/zZVi8OcRYHeWCXHzYOY+WwscbJIBsQfT7P95k7f/DnK/klsvjZszF5xd9BTbd8eyL0d/5+0MT3BTwl6SfDpicbTzNuCPDykz3fEfhdv+t33W2MDhgbnfzbSOknX25RUCdfPx75daCqR8bK2ZmT6sG4OFGxr4y2WPQl19zQ32Zu01euvuzHb1NXNh/4Eb341nZzIidsyGs6rbWuFW284IZCTvVB8UA+4ZVDMKavOPnS+qRjbaQ3fzrgOuTJ4iGP8Cj1OegdanibWzlQpz8SO/3519qE8kMWaSeHR2ktkEF8z392OqDpb51BeaGvuLOzcSD9iHxxi8sbEtRbD3npujTP4icfxG6sHOSbXOmzTtpLjJcbtos7VC8e7fzfHAV99W+Jv7VY3uOFdCir73g6Nk/o5M0vWJ36TlmUXJT9KDSP2xf0Qzqe6onfv863ita5gnoSgtP5+4DnlAV19qtDCWjylCUEDx8RkK1t0o3n09oxblLwtDkg/cUPyiVj2VAmb3Eriz2fgzrfLf4uYHGsbjqVdHShr46wsRnnt4uZP+SU6ah9K1b96VPPZ36ibDemj0/KckWf0jh/oHwjvA5+490s8JUcvdnOF/3Gi40OSDf+iC6Hs6dvdpbXuLLcoGwpbUoOfn86Vp4c5j4qcOjT6fDWX2x02PC8ZRCLgz+9H/rQh+5uIvjvS4U2OhukDbVcwebmjE27/HbjxN/mCp+y3IXk4azjQ9kqB2AcrR/G2WsjTx+eta1E+cxXm7zDI7vJZqM85s95WMkZ23iaT0/T8gj5nl4gZ47w6m8sO9WT9RbB/PWGQgxKfjvc1FHXM7lFdooHTr+M8R/xTUx49cuVtVN86YJ0IONklB3++vnWIY06aEM68y3opx9vc0e2HNBZ3B3YSjdD6ko8xYrwr/9054txPtDRTYM2n8mJp5hQoCt99Svzm/1TZvnKIWxd2Tiqr3IJymP81Rtf5HMy9UG2HoVT5y0bJ9IfvmQHP2zQS/qagFCdHrRjt1CSoqB+JiudsMmFfInyWd1CifeUaSG12JVt0nh34pJd3QgvuRYk8JNs5eorBm2UjvSuXdj65mB9XhmbRIerDUZJJhvsZQvSiboQ6covVGzZJsuuC9kYGTbJ8WV1VyLjSjzk8JUD9VNPvtcGfMUovvOtBF3xN7eViDzCZyPz5389uXgF7MD3tO8GgM42XEinQ8grTHVP5UCHnwiWE4eXPx/jh0OrzZK8PvqKDUFj2mITl/i8bXDzob+DAK8YoHjSww6/8CBtcYtPXVlOILvIOF0nT7pDsUB6ybsJ0u9tiI2ervyIny79ZIC8sXLsUMAjB/j0y6HD2nrXl96AH/EBjGVDCcaS0W/u2cp/sZo77Xiys7YCfdlsXNscFcvOF1ts0KufHNK2PmBtGpMDvJExOejgzPf4zzyAsQjIlBOy9LFfiejvBk7bXHZDJIZ8BPpaJ6BdDvHVTrYY5ahreP2D/Ne3OVHSQV8y+nY8CvEhusiWs8bD8gI/1NO/9RPN6Y4Vx/rzKGQD7Rzeh5PnS3LwS071krmO1Qc5oB+06XpcwPhWZ0h/40oLRXKVqAtqF0bt6tuvbqwYtXdRWvgWlTI+9iAdqyt9iIw2GQu5RRAf/eRAP6yu5IGO4tZXPPrzHci4GF2YeMiwm8/ZEV8XdBcNvXRtLiPjdN/yySGopIc+4/Gk6+zjO//00aPOhv7iRGCc/8kYXx51B2GHvLZ8+7zWJoKH7mTEwE99+QD5aHNz8DsEHFq+I+DA9gbBzYRDHR9byvSbzz7Tpde4vwzwr6iR85GDvyggY47IyAU+vjvUUTcWfDeu1HbjUJ7Eyx/j4tLfPLZebdBiUC9Ovirj4fPKyEv9y4/wIXV2s43MkX4lGSVq3fNXXuSWLwhfoIO8/uYJyjG/jNEnR+BGS77FmV+nTj4s8MRnjH6lWOjQb1w+5IBN+aALtNNR3yKbjWXDHC6xx1brUF1s5ZV+Yz1N80efsda5upItftGjrj8/4lPPL3oWbJPPT3x0sVveteVBrvnSuL78zzaSu2TZSwdoI/bI6Xd9uKnuGmMj/c2FEq1NvqYTj76TYOuBjL58i0ccoKxvx+pPfusnzGk8jaefzOOwciH5+3COP9XB/73f+72/zPECVEpWRhqXRCU0ZnJaEPrOgOMP8dBPH7lsZids/yJ5C0WdHqCbPj7pX1lj+Frwu/DwkLNYk4vItCjzGf/GvXFEXbQIb/x0usCUoM8Cyme6kDo9laCeL9lUkmUP+CiuiGx+4Imvi00eHFRtsHRGPYGyi2D1hep8MZ6/8Sbf2MZX3MWVz+uDkt946Ste/XjTRW+6q4MyW76k5cAWtx818TOm/jyvjZls8chHB4S6zzx91q9PvnxcoE7WRwR+3IdetqAD302KJ3htG5++DgiyiM306vdFv/rLiYMVj89g+zMqPomLPr6T5wMevpIxv+LucNamk5y45F1JXl/5RnwoHtDHp/zG32HVZ9/pI4fwp6P8GkfNUf703Qrx9CUx+pLHA3Sg5jpd+PBEeOpPBvDTC8Vd3Rh/5DrbcrJ6kxE3VFcu5BrcUJp7eswBkivgH7/kUdzWizWSr3TKSXnGYxxp848/5SIfNm5jzRk5MCbG5qIcIigX2uqgTWb5yquc4csnkD/2xI7I9uZFXRnt+kHiQNkuH3TzQz8f1IsFkZVn/Qjyt3wguvGp60d0KmH1Z2/loByU8/SAvmwheSEX1Y9vfdl407W81dFT/znfIoOMCYji2mgdamxR344ns9CXTnyn/sWO8SnZ6mH9iV+p/9akgDHJ7iLCZ9O0AF2w6hZim4BSnzIbqMlY3ZAPgEfboiTfgmE/ecCfLosNH2rx8UObTAtFHYzTn9+7uNIP+PhQXPSxVy76Qg7K//yyeFGbs3JjUObPyparfIz0FZ82XvbpZYcN+tSVxvGi9T0q58qQT+L9wAc+cPeU7mD1Z3ue1BvfXNEb5bfSk6j14bNi+sQuT55mbO5yz2eUz8XHr+p0ZYsOJB78NshyYFw/opusQ9z3Crym9oVCdtXdiIjN7xt49e6J2SaLWtNtrPyg20Fb7M1//jfHzfmZJ3X9dBWDnHSNFCe+nSMEqwfWtno3LHSt3MrXzw6qnV4l7BgyFvFbHGAMrxzxv/mHdCiT5ZucxhPY1UeHeMxp7Q6+5iB/zIWPnryJ4hOsPT6aE+vN+qBzr7/mSZtuMaivDvzs8Cm+fMhe/ErjKOi3FsVhnE59qOt3QTcyn/zFj4BMetTLJT1QfMaAnkq+104+feSrA145U2ZbecqfvqdT/Ksv2ZXTPuk+4I9gZbYv7Hi2o49+9KNvc92Pd33wFzRqgtboLeR4SGcoUUCHdpT+Re14Qv5Bk0keLS/5xkHdoreguogsMHw2z/1ilgWE2sxsRFGHDvSaNtDFj3LHF31t3um3EPmw/uOtxFO5/kCLGNHdOOizASjxReVkfVMnH498dJHoz7fq8bUJ6UPGQT+whfI56hA7badn9RmvjWf1RukJW6cj0m/efAvfPPuTPWRDooPfeJB2OVdnh33rxpO0w8gGRS85JV582n7kB7/PqD214m1+WktIPTtk6Smn6qBOjs/IU3s3HR2U+j1B9uqYz/o9OSI3BnjVHSzecCiRtWvMnCu7LqKuFfHITX5BdfNZHvIFiUsfKrdIrKCOh2487CjZJN+X8cR6yuID7aX4jLd2QHspf9nefCcv53yTSySv+oCMPuvJfiFmMulE2vxRL5f00SE2OWscLx+8DvfmCK+YgZ3NI9vyY968RXKTYO70mT8+qBcXXeXAmL2O3M45fjz5sb6ToUPZWHGoQ7mvTx3Ik1GywR5dyfGR3srVQU4fWf3aoB3hKz+QLfz6If/ZP4EX8hnlmzL9kfEdSwayvUjXieSBTLJR2JiXZ/ErcvBbnE1yi+8+B4AcvhKCzuCbEKAjnugEeyWgcWUTcfpx2s1fbaW2ejyNudDEaxFaKMrGUJMvvmIsR3txkUkumXgdADYJmwjsgox/8wfVUbbpt6CBn42t7WTyH+HhZ7Epl/jSK0njcMYVpSdkz1qRE7EisWpHfBAn+S560I7SD8brKy5tudNHn/4TxYwHyPHHQeKJx58COgjx5AMe+vKxuUPq/PcbAA50m76+hXhsxN4i2Nx71U6+vFhnclJe9GcDFRM+c4H4Zyx+8YvB5m/O+KIfr18xRA51vzeg1G/TteF70+HtBHn9dNEfsb/15kidDX7zTZ2fzTMfesMgZm8Y+Ex/cxGRA+PpUWfHOH1ucByq5ct4BDuvS+TBeLEVh3akf/nSB/SYW7rSGTVmLvjpegbXzF7LraH0o/rJGWtcv3Fr2pxmC9hBIAZkLjv4Uf6LSd1hjvikTcZ41/feILAZdQNhTBsffnrSAXJg3pD69vG7vvzS5hudSoRP/OUJzznX+MorPdlXkifbNaGMh75ykV369JOLD0H2yvmWZFYuPSie7KQvpCdoL60fUXzb3vH6wpP8Vv+Dq9Avk/rWb/3WLzgsIBCQJJoEJScWgpTIFoj241BS06XcRC/SZxw1geolvDEwjoA+iwGREVdlMtr5Qle+4KluIZWq8tBEAz597MiBxekCIdsFZSzebKWbTj73tAXskTGeLX0RHcbZxQNs6TcuLuP0Gre5KI0bw8s+e+ljhwwyxm+xmF8yYfn5ro7HRhH41UaIb/1CzSPo5w80vjAeD2IL6AS6+Ar5A/o2x8rWBp/Kiz4HoDkDbXbEQJ4/dMoLP5SePn1M4Fv8DjX6kAOUf0qbsH8gyL9E562AHwlyEMoJu81J+SlHxajOl/zx1wZ+hlie8dLDP5SsmN2MOCh9x4Bt/cbJqdtM2Y5fP2JHbPyhM/t8bM6yg6c5ps8NFFkfNdBp3A0RcgPgzUpzQxcd+OnQV94RX+iw9poXPsiBGwo3UHJOnp+Bnm1nRymfdCvp04/I8FWdbLGztVg/Q7qVtfGwIw+e2I3ro4/u6vzQ7qOi1qJ+Mnygw82aG1IyZPU3R+zoL1euZfL4Wl/mpvjwJwt46SYb8nHJOuuGhm/lEfjtxs64Omp9so3Y3ly11rzN8DbMjac+sRmnW0nWmiEnNmtBPlxbgKe5yraYrRH2jZc7MbKJimvzkG+o/KNF4+SidAHdxulD2nSlL9nq/NI2J3TgN5chXwMZfYvTR3+G/Di844nfP9JDOWMFLvEWPeg3viQoARSkvsU6fsJYxNZ9vPFAdpNpwtVLcn4kZxL4uH4Wn3HtePV1kaeLnAlB6rf68o1+pQUod01qNvI/eQveotZuAfKBXJRuyG8ExluALarktOXGhdDrxKiLJLlkER9avMXL/sZBXnx0sEVOP9JuzMWrT17Ea9MV8+o2Vt6iE3TwkW51PMWab8WgrtSvr41JHpRthmzK/W6YoJ//bTxiLWfs+Wlf/3SvX+izaXuqp8M4m+KyObUZizF7cuKQpC//N3eoeFo/kby1UeJZ/9mSWxsde3gdHG4m8SIxkgH6+amtrJ4/ycRrjD8+2shfvHj090Qux/JmbPNtTF+6yKkvgX76odK6kU9xpbf8xXNL14Is3Ur6+KAOK1ds9LMVPQrlCchqy3Vzs/3K2vIiP/JnfeiLz3zwEwG/+Gy8eteRNh+tv/SA+JbSi6wLOeUfPemlI+DXNkZemX462MbD/2KgAy9o86v5NoayhY99Mcq3ayMecu1bchTps5asQ2P5yx/28oNNoJsN4zvn+VpsgZ/Q2C3kv/IkYAdpp295yAZ1vgDe8ryyJ1YXWjzVl/sc/JAzkt8FVtJQgaES2vjp7OkYrNM7AeiU3yTBJjI/lSWNH+oID7RAk8UvNrIlXWkRRVA8yeVf7fKB5EF/flmAbGjnR2Mhfzd3xaSNX/7TBcZXR3HgTd/2k3WxdMjTl07t9Xv1yJmxwCadcpNOF2L5Mk4W0oWfDhefgylK78ZCRp3ckr5yjidb0cm7BPg7KCLYvCvpp6P4ydmY8Ysjnb4k581Yv9XvqdoP9eBlB8/qtuk4qD2pOIg9+du42GqOyGz82w7afHG4u9GIh9/yab7Ys4kjbxvkWt/yFidSX+Ap1viVwfcTvE1gT1zGrQVrq3WQDvmwMbdxe9OhH8jzC2+2ItBHN36E3yGlNNZ8imF1KKufYI9OpfUoR8WXnlNXfQjvfdixeNmRDzeG/K1fCWzKUWuMvfJiLrtOtOWAHH3q1lbzXL95QOobD5v5p52u8tA4HxB/6IjMbfrI8hN/PtCDxxzvOKjXzh8E5PRbR+Ily57+SLvryjqyhlw73WTKLdvZLZ/yRmfXdddjfvGhOhiD08fKE/o3ruLMj6CdDv3LC9pyuzLi1o/UF+lqvPbiqQ7+7/2e77krOcKh56+Ov/XWdWN84+1D/xpok/LWlSTsoaS+vUDvxuXzSiWWLrV1cR3fRYp2QuBMSsDbWJOKvuDftb568ba4XCAWeROD6kfpyZfk15e1tQtLPOlVb2JrV6+sH5Ktnb/1ZT+7ZBtT54NFr04OxKlO1rgymS6Q9OQTlD99yeTLWc9fMnQudQGWT31kXKAdGOSVcm+MXX3FRZYeJeDByy/60qENyWsbY6e4oDylD18ydK9ca0Xp0Pek78//8HmN7s//bF5eP7fBAxtgA/evofmc3Ubrm/ae+G2UxZh9pbZ6tIjHDQT95VVuxKO9dWPi4Gu2UGtCvbJ6/NmnJ5n+7LEnRX1IH1588tQXHm3MNus2bjytAb4loywH8RjPL23o82762DFWzla+OqQvHfR2IwrxJ1NJ5yL5W9ix7LEjjx1G8grx4hODfjbxy7W88s08djDTY1zejMuDOrnmrBjUm19lcRijB9imD2W7NVIOkt+1UFwRH/VZy63noJ8effXrQ3RXbrziR6Bkk318kTa/rIHWVzceXavdNMmftn51WJ/oy7diDFs/sbyrD/Evot94VL7xka9fvdyg+vCfyHaEf/FUB/8P/qf/yeU6JZcXrgotkeuUX569JvDZN16/PPvm666ay4M3rwfCw+sB8vD61PbGq3f0zMPXLs+89frl9WevSX/ulctzb10n5+Hng3v9meuCffYazDVP19Rctf/yBVESFgIuASUBWhS18eDdBMRfnzJ7JkNpMRhbG1GwcIyzmZ50Abt4GlfqU7b5WtTpyR9oUbTwUO0WCx5ldltMSJsNdbLxuQMHm2zyFr16vukjg7/cZW91GeNvvmUX8CDQh0+cbVb6sgHGi11JX5uK0oWLbJD1q9NRjuWyGFzk+OnCW0zZVHbBG5MX8qgNhmyxrn/6mgd6lDYXn+n7aV//Dj+9Xrn7dT//Tr+nD39OJ3b+8ilbPuf11wIOa7BhORSV+YuaC75B+YV4oHnxRL+85cnY9pNTssUvZaSfH3Ktbry8BHV9YnTTIiaxiNU8dMPTPHoa67BHcqVfHtNF1pxo86NrRGz4oHkFMeDDQxdb+PDED/jwpCuUO/0gPw4HcxQvW9mJwBj+8phP+poLY9kWi/hWpvHqgDfKxh6A2UJy5U0PorvYxC4XeNglC/LSXLOnxAPp1Ne8q+dHyF++GINiVuYnWWsjX8jhJ5sP2W+MDnWkTpe4lI0FsvSAGBtv7vO/Nv3aePMhW8vX/qCND7V/rv1AL0rPqbM+kNfVi4xt3PrINKaEdED1ZOI7eejlGzzVwf893/e9l4eSh567PvlenX/zemK/cfXpuhQvr7/1wuX1663BG9eD/Y23rsm9HuRvXttvPkDXsWt5nfLL81dHnnvreld49e9NcybIq4PXML/g/CZv0cIokHhKPGzwp47qK48/mdqn/uqhBY/yJxnQd/qZDX1diC1m0JdeC6+JR9otRgvTWKTd4lIioIvsydvmmF79bOIvXm0X2/qEj0y8kH+gf+ME8RWrEoyni6/ZQ6CvGKuLu9hRfvMjP7PbmLrShUZWPyJPb3G4oHdj0df8IXqKh750I7l0UHvad/A51HwpyY/9eIq3GfsCmwOwJ3G22bSR+0KSfypYna302Sx3rrO/Oa4d8lUsPj6Qk/jZRctfLFF5pRtp84cfybORDnqT9RTfX0CIjawYOvTFbB7S1zyQbR0o6e8mLD8idvFnG/Q196A//+hH+oyvzAl99dPXesh2OqqnK9SH6NlcK8Wlj85u+lbPaVuZjmT1ayenHx991o9xfcbkSU6V2uTSt1T+o5ANVMzNkTqkA9hF5S3d5tqDRutK/+pFzZExPi7o8wbDjaw48yMCMvIA9AFftuRLuUiWTx3C+epmlb/WaaQfT/HSEdTva1duXPzhozJ9CMSwuk6QKR5YWSBLdz6kKxntpzr4/58O/muC3nr2OoHXnD/7wvVAf/a6qVwVXpfx5eH1sL9O993h/vBaXu/PLw+feeF6wKNr8q5OvvTWq5fr7cJ1hq4Oo6uuZx58/uBXcrUF0SQuBFq/gAoOGjsDLzknL+g7ZbTPhNZWoiZSfScD0lOdvrUByaXXwtNOl5INpL56blF6XUQWqwWNuuCM7+LX14asnS1gzyK0gXcY8jPZxqG+4snfeJA+49nkYxefi0p/8vi181nJRvy188PGwM+VSzZbLuTz0DGeb2JUV+Y/f/A8iujxBOvAd7g7+DzBf+ITn7j7OV6bFd/cFDj4/T08vfzR76bAwe8GgX0QowPTa8peT7IlZrII8qE2lAM58SU+pXgicZW/ys1t/cUvX3zQV46DvuYDOfjlmE/6k5X/5rs5qK+Y0qXNT3njf2tPno0B/mJHgMc4nVC82c3H+O9DusmKVczayS6xiUB756F+ffHRWbv1loyxZPS3DvNHmU/5kkz8eMqjfLXOI2N48OeTtrwVEx7QH9WHL13NXWOAl0/5nQ08bobJxF+ZXTqVQBbyjz5rwbXjxjl+8aH8SGc+oHSQwRevHIF2sViryI1qHw9Yr2yoF3s+5WcxZEMZ2IofmaeuIzcx/Gs+oBLUbxF9qPoiP07gBWNPdfD/me/7Ty/ve+bNy/ufeePy/gefp/c8/NzlhTeuh/mVXnzjs5eX3/jM5b0PP3N58eFnLy9dXru88tZr18P+9Su9dnn/W5+7tj97eea5azKevzr43HUi3rpuQJ70n7k6fZ276//vbgB2Mhc7gZv8eKuXhBLVWOUpG388yZ19JdFE1g90oPxrEVSH1aOeDQQWAWrRtmCyG1/teKrrt5AtXosWnRufkgyf8OrTdkikv/baTF4fH9uUV3fYujHgh4uIT124yi5CutiFNi8lHyN6I+gC8kTA32zljwuZnuSbC3rZIl8uK4FsPiSvTa8S8b9D32t+T+n0+S1/r+5tVJ7C9Pm3+fG6GWDHIcmWp2M3Cv52Hl9gz8GPjx0ybK9/UfMDtenqCbCcGlMvr9p0lhNUmw487NsE2aVTX3k0j72q1yc+/XiM2SzVzUHtvmyVDqCbXX3FaKPvz/Sss3wOxR6R4zMd2rBybKHGbmFzK0/WFfvq2UFsKdu42dVOFpoTJR5ET3GCdnPeOH5lestnNvWXIweIGJtjvOU1IhuRX/1Q3hDgiQ9PfLC+LCUDySTPFh5rqOsouWwC3XQ0Rg4BPge+37qwJrTxQD5ZX9bh6Xt6zj6l3OsvZ3uTmp+BDX14yHRdF3tEJh+gdmS+sqtemz/68EDtfI1C49lZLD/igxLof6qD/+f+y++7fM3Lz16+5r0PLx986a3LVz33+uXXP/fG5Te88ODyG9/77OUDL79++aqXX718xYuvXn7Ty29evvpKX/Xe1y6/6cXP01e8eLn8ul/18uWtq45//OZrlzceXDfXh9fJe+v6tHt9+n/jSi88c71Qn/lni7dkwNZBe5NdsCUl/q2D+sqaWLa0UQlNJv7qldXjTz69C36ZSP2N1862elQcoG1ce2NRp2MXjwXqIsOTfHlhRwliRqCPDshGssVTn8XapgNdFHthw/qsbqzDXr8+/hjPd33daeNDZNhIJn5k83VIuBDlARnPJ7JsLIq1GIzjpduYki19+YK06S0GhyLyTXaHvrG/+3f/7uXjH//43aHv0EA2iw9/+MN3cv6Glm4ybHmyRTY0vugDPtgs6W2zKVfG8lGpL+jTFp8xh4Iclb941YG9ciUmcWqTFbvD3NuJ7PHF4Y283RA/Pjy90i+f9Kg3f9lQzwb7XQP42JAHGz0SB5/1pw8tjJ/zVh0lo6/+R4E+xA83Zsp8Tpa9/Ep3SB6KT4lPjMXZWHxkdg2nu7i19fNHXlCHfvygjuhMb7ZQfeWDHiBfvtMP+I2Vg/SjoJ5+oDf7fLdexN3coHTUZgMlm36lNewaMR/GIXvJVgKZYihfclWdXDduZKxLvqWHvLH4QT+ePnYwHsiJMypX6mTQxkSX9lK5U7JZXzKQX9VrV9/2LbD7VAf/L/3577186Ne8eHfwf+A9r19+4/Xg/8qXnr/8+vc8f/mK9798+fXvf/3yL77vcvngl714+cpXHly+4j1vXH7TS29ePvDSG5evfvHNy298+YXL+66L4Beff3j5e5/99OW1h89c3vvwmvTrU/+b1+v59Wd9cfCasGsiJTMKHF9oN17AlcaWP976l0xQPHAmrv7k4VZJTzyrY+vLh/aCajz57Yu/cYuiRdIC0d/C02exRw66ZPC02KF+C90FgZ++7IG8Gmscv3E62Ms/IIsf9K29eKC4KvHsoY9fmUy8+dtFyJ9d8OWUXWiMjHx16OunswvTOL787eDHY1y/DcwBuAe/0mfqf/2v//W7z+v507wY//qv//o7vQ5++rz6BzcGDjg3CuW0ObRZ9st22oiOzRkqZiDPTwTiNF9iIW+8GNPBn0hs8iYfDnM+6Cerz+Gun0/GaiN88oVviWy+gjLb/DAPeORUv7yZU3OLh474gX/5D+riNY7oWmgnv3pugR768gups1kOyWe/dZYvi/wC4+JoTS/ozMdsp3/Hstt1nG8IKkF957q++qvXz4Y4jMl/63djPf0wzgfzpBSr8W5u6Mt/cUerA7Tr235oPthy6Gtbe3Kon59u+uWEbGslHfjzs5xFZPAVOzlINrvJZs8bOtftgu30VEbFDcWpH9ZPZIxN9op9oR1t+0lANzzVwf+zf/I/vnz5+64b31ufubz45qcvv+bF6yJ+8/XLKy++dPdnei/9c7/68vxLL17eeO2Ny4vXBLz3wcPLyw/eurzvwZuX913evPhtp7eee/by9x5+7vJ3Xr0+pT24bhZvXBfK9anfof/q8w8uL1xvAp65OslRtBNZe6ngl8BYOpKrfqIkRyfP49p0m8x8Mp4fQX8XQvJK/bew/kALA7/6uUAaa+EZs1Bb5HsxW4guEnXyeI3RE+/6ph+ffpRP2cJbXzrzqY2AzXIUn7oSGcODl290Nw50Bv6Ky0Vv4+F7NoEc0jZWrpTkxKCdD/EmzzYfzo1Eqe2QsgH53N5n+3T5Br9/xIf+conXr/f5pr+Ny8HvkPS37g5JfL3Wzidy/KLfwe/zfrmBckVv9XwD+vSBMj/4K7fmtg1PbHww1lqQe20HOvtKtuWDvLHmsvmko3ndvEX5mU9sI7GKmT90ykvj5tQNS2uCbvwoW6uXTO10gPrybvsW8g3JnXhah2JRT1Zf4/qyGdKTbPLZVxZf48lVZiOZcqa0zrKrzBc6lfpdE9nSB+LSv9dosvSaD7obI3vCGJ4eBLTFYS2gruFic1OlWgSrAAAcD0lEQVRYnZ38hvXtRD4q2SHfmyY6QTzlhU9AH97WCuCJLxl8eNafwN/62SfjJt3BT0cwXp6i9MoDP103zQu/9GuT1bdy2QN6UTCGwtafFE918P/Yn/0vLq/8mlcuD9/83OXZ566Tfz3YLy++7/JPn33P5cu/7usvb3zZb7q88cqXX5595csuz7zn/Zd/+tnr5vrP/vDv8tyV/fW3Hl5+9nrw/9z15uDy4JXLS69dN5Hrwf/add2/eqUXHl6T8HbAJVSA1TdRqMWxBMaSSVd0wqQmSx+ZUx8ke+rIBpwyocXQ5NZHTvuWX/qLz3iLuTF2UbqXdjz+U4eLvAuCndOXSn2oPIGx5iK+1aGfnd0I4gP1/ENdEA6A/KPPxdxFjfig3aaD8n99V9eHHxUnHeIG/iN8wI9yyR/tdFTSb+Pxr9p5csfjM30Hv40BH6KDrg9+8IN3P0drw/BDPp6U/bKfzYA+h74v9/Et/5Vy4fC10bXJ0VfelPEGdWPAh/gc4OIpj/rkuQ0JjOtzo6HceUPN5W7iCPKBveI+CS+59c/cmQt+iJVfsAc/H0Ix0acsPlCeFGrHv2MLcUSQDb4r2QXj6sVKXzIhOyieoJ7u1ZPt1nO8oN/8IXXjSjrktblp3iDb9OMjY/73ekH4kPVIv7FkF3hbp3jNET75aV2sjLH840Pj+tauMTbXbr4h/Wzpb42KkR62yfOrdYNfX2suffqLPbsgltNvbSWQpddNuht4OuoHfPEq+ZUO9tH6ynclMqYfrR7Yev4ro6fBUx38P/Vn//PL+1653gldn/jf8+w1+Geev/yjN997+cp//d+5/I1ffOvyjx68ePmHn3tw+e//p//18sz7//nL51579fLCg9cvz/sm/zPXZF+dfe35Fy4/ey1/7npT8NrDly/vefPFy7NvPnN57XoT8caDN6/814XxdgJKnoBB8pqQ6EyCvhDPifqSTT+kc8FuOMeNNZ49pK+SzyZZGZp0JawstEjZ0mdzRBZNOSCbHfVstJDSrw9fPOp0t5F0oK3tFhnU30UT9NMFpwybLXq+5HO6ko1HXDatnjKN2aRccL3O42cHt36ldnbTr61kM3/XP3EYZwfoDcnlL5nsk+Ofg9yP1fDbq32HvgMcr3ySY4cOB7/X/f6u3w/1mEOyNi/Q71V/PkF25c3n/G4W1i+5iTdsu1gBr9zylU9I2waqjz5tNvjEP5s42/KDp7WE6IvYrE5P84bU01E9HdrNg7J5pwPkGtGDHzb2SsSH/NgSQXk4+U7wI5QnhJe/oX568mn1VW88e6sTLYxHxvis3rpUlyvr0Ppa8E2OzCEyd+zS0xgfyHettz7ywzg0pl9fvqPqzVlUDiJ99CDXZtdnvuAJ6d6+9C7Id6DTYY2SoVO8GzM+hzP7fMafnXTltz5tMZ1+Ab7y5vX+7kPk8LGRz+lOpxLw6U8vGb4ri8P1oY3w6QP1KDt4ThjXb/xEfcqn+tf5/taf+n9f3v/y9VB55nP+Ov/65P/85dVX/sXLW1/zrZf/6L/8by7/x2/7tsuDl37V5cc+9fcv/8PPfery0jOvXr7suc9eXn7zF6/81wVw1fFLz7/38nNvPrj83KcfXl69HvzPv/Xi5XpPcHnzeug/fPDG5YXrzYQgYINRl6QmLGoCUElDyVRfKnFnfzpMWnVIx1nPXhOsbcIii66FabHq43+boHY20hXtoiFDBxm0OeAr0KmfHjw2gezh06/OdzItTBfKbiYu1MbyAcitTyioN67MHp/za2Xw6Cs3/N2nSeA73/q8tw2kTSUfgb6gjpcttrXR8vOtjQGM4TGu3oWN6HKxu+jp9G/Xf+hDH7p7QvXLfJ7iPel3Y5B/2mL52q/92rtD1g2CbyabFzp8cY5+P+nrW/3q/Im0+d/rfn1yhtTLJWxu8xvE1BroUKCzOnLgOvRRT/r8xtf6VFanky31/FjSxx75dOWDMf3J1cbDJ3WQx9Zk/OhxPtQG7eYUneMLfIAH8POhdVE/LG/zoR5BPNlbPxrb9o5vP/vARjmxtrKjpD8/kByRx59vYD26jrK3yMel5Jq7CK8xtHMZQb6y2XWLt/klE8gUA+AVI6RPu30Kn7WSHP/Sjcg7+F2TbLdmjGVDfPqV+I0r8fP9ViwOfj7gIRfwaePba5+MPvzqSvk3hvAZR8Afuvgpvvzms3q+w/oH7OMtjlvAg57k4H/HFfLG5T2X1x+89/Lqg5cvr15euXzm+rT+1oOXLv/dX/j45X3XA/8XXr1c/sGn37z8o0+/cfnsaw8u/+QXX7289frVobfec51Rd55eQf0zh+HhQw4VzDsvShB0gRd0JNizjbeJri/SluwSpK2+lK7oRP0SiZ8+dfZMWk8wDgebdk9SNlZ9URujDZhs/oF6i9mYhdOiafEhIJM8fyxQB1XxxIPfItwvxOU/mS4ui3LHtNncxbqUDVDPL2gBQzpB3PLRAbSHTXU+i1cs+dZFxC7QXd7yF+Vz/MnkX2O1l055dX70tO71uy/z/czP/MzdE3sxLcyH+bUeQAz00iMWPtdmh/9ixi9+48b87n6vF9fHWzbpKBflZcma43v/Kp4/Q/TniG4uHPyty576kbq1zC86xNVaQ9kyb0jbuBiKpTW8/PrppV9d/8bQZqdOvpyIuzWhNDf6kBwhdTmiK731KZ8EySaTX3xqTe/4Lehfu3xtXbW2Im3rQkytuRNsrl3U2iQv9nQbC/j5jU6QoUMJt+LSDuWgOUHaeIuleVA/r1228n1tLHbsFhnLD74ha9U+62M4a5lfrhs31Q5c/uhrzfG/GJT84icqJ4g9tvaGWL11W75Of/hoHtj2EYH9wr7reka1+ViO8NPRtcdXlO3aXWt8yX55O5E/0ZPgHafw9b7w+v/rBvvgubtf4nvwzHXSr12f/gd///LWP/4Hl5/+73/i8hM/+ZOX167BvnhN2JddL/yXrgf7C29cD8W3rtKfX1tfwOcn+O3Fdf1PELcgGQhaVBEIiGxJwNvGsUEjIGdCw8qi2tGJeGEX4S6keD4f4+dvCpqsNlHQT0ZZH37+5Yt2C9NCUhon1yZNHpYPtaiQRWbReS1tDG82lMVEdzlSWpBdtOV9iX+QjvxtE1KnSz9bFq+Lk+/n4ZAefGRO2+lZ0rdydO3mfMoq4z11oaBOjg9uUvw9vtf28uif0/UP67RRn2CDXWRcvunCby70aSN1/WTkoDXCR7YQH/hTDOtnwF9c1ZfodbCLwfcTlG4EbJhtMHvYL/GHbyfRy546/TuX+vNL25wsvza9+PXHa1xf/OrpbB7lq9ev5bGxcgT58LjcnUgOyKWbbD7m8y19a0sd8FsPe30utU6TO7FrGqwJ8csDeXq1UesrP25BPx56lPRGO76Ed6+nEK+x7a9PiecWndC3+eNPcaPN58prW0/2Fm/UrBn7ne/QOGj7Nn4H6ZLcll++biz6ummmd28wXCv0sZuP+Z2Ovb6RHDZ35s0NAOJfNwL4ukbE4bpkxz7ErmtS314b7J/Ql1/oSfCOV/2f+tP/8dXg9YJ/5o3L89cD+70Pro49c714X3n58k8++/OXZ5+/JvW5Zy6/8Pf+zuXf+O1fd/nKt37p8uve/IXLe974zN3B/vp1jj773POXT73x8PKpz1zvVN+8TsAbV8f9dq8f9XnumuTLL39KL6ASei4gY4tkyYWCjsjVn+5kkHZ2T/3xI8gP7SbApJnoyAW5JWoxtLii9OnPhv7ipt8iQy06PuGxmPLDguni18+WO882iRZ6RK+SjfwI2xfVz165SgfgB+PlEfHbRWThtmi78Mi3SShdtH2LNnk2G4/0Gcv+Eog3f/DxyZgLR52O4lNmC+r3Zb5v/MZvvLvg/f7+3/ybf/PuIuUL/+jJL/xIXF7ri9Xn+2642KXLBoLfGwNx0gHGxUGWfy70/p5e7sp1eQ3aoTj0ReTiKTflq7WkNB9KtrOHoFxAOdJWxpeO9Merri95SDYip5QXa7YY0offmHJ9MQ5ki3FBBozFo1zooy8Ccoit7EbpSa4SKm/B+uj6b/1mg06y6pAe/cW7PtlPylP+GKuvetc/omOJH3jNjzVXv76w/F0rUbyNq/PjjMU1YK9qXWy+9GlDehuPp5han2TYgHiypcxO+RW7kow4s5evyWRXWazxGN9rI/7GKvUh9lv3rdF8BXU+5WOlWBuP6KYzXdpBvTYd6uyCsrjhqb7c9/f/q//X5a3n3ri8+NILl2euCXnhrQeX9z7/wuXTr/7S5as/+BsuL7//vZfXfukXLl/3a/+5y/s//fOXX/vmP768/NovXB29XD53/d8b15uEf/rwrcvfeePNy89dD/63nn3f5b0Pr4eYlwvXPfrh9fB/7plrUG8nbQ+EgpOEEltyCxQtfyW+5I038cbb3PQna7w+JSS/uoxpWxzJ1TYBXZjqPbW50PQ7jCxGdXd4TTzZYgzphOzmo/5s4MunXTDG2HLoGyNLTuzdrernQ/azFYxXFr86kqc2Z2068gtcKN2hdoDxQQnkoI3J3a/P6Lym60tz2evCKGagq4uRH3JAT3xtbsZ288FPL7t00Q1dpNl18H7DN3zDF35v/6d/+qfvDmtz14GdDH76lfzyz/Oq98tj+Pq1P/C7/m5uoHyWL1/sQ+ryVmzNMb3Kc86RdvlXR4C3+VrSVz+/kXZydJJVbp6Kd3Xh079YPQu65FC/+SDbHJuTYqFX2bpSj9JJNtuNqZPBU39l0EaQLiVKtv5QP5CNp77sZ0dpTKytt+yWs9WBil/JXqX8qJcH+U/+Fk9vARoL+I0r6ZD/5hb0F0O6l5qj1Vm9fNJHFlnH+MVrHC9qrdWnLJ7y5ZpobvWDMjl6y6uSnGuGPnXXWesKP5td/+niF357hD2Iv/ZtiJc9VAzk0ocftLMVHxn+a0fyyjc+l2cE3lDwRSxklcb0sVkO6Fw548jDldK4kg9sfexjH7vjexQeXJX/stX+//m//ObL+/+FX3t55pUXL+/1a3v/62cun/2nn718+oVnLp9+5XoH9OVfcfmHP3+9s/z5T1++8sXnL7/6M//w8tLDX7o8eOnFy4P/w2+4vPaL/+TySz//Dy+feM9Ll5948L7Lq5dfd3n/6++7vPTmdeKuNxSvveBNwue/kFWyBKQO9S8kbXG4/MuSFOg0McoW2KJJiSR9wQdkTFKVLQZ1upvQ+ONR3vLpjAvfIv5dOE06O02udjbyTWkR8mlhMXdBtVCVm5tFuqPiEBfCzwf2ELgYLELUgYJv/aejC7Z/l77XXnzGt7mjm4/Z9rSqLIfdcJEtJjrwxUuX+OnwJiR9+o0nZxPoC33avtD3qU996o6X/nIsLuMRnXL7Ld/yLXc6fvInf/LulSM+f9dPH5/8bb/vCtDDrrzgly83HN3QeL3nFePmrfkubjr4hdTP+Qb8ySS32HGgq5joNC9K4Id40kVO38K80hHIRunGQ4+1Ql6fg6r84pMbpXlJX/aQvNChxLsgAxt38UEx07t+qXdtKU+sPsgvSGd6i9MaR9qtQ/LKbFfKwUI+9MezRIdyoc2O+JsHucKbjnwph8rGlFB8+splwNO6zQd91dl1Pap702U9W9uubesaHNDZKO+IHB6lByUwx3TKhWu5GxptvOKxRsENNXt9nt6DT99zyXc8dET49PNRGUG5iQ+p08s3fPzlB143HOIDuV3gKZ/iEHvXrO/dqLvuPWTwmd7mj73WDLny3RrBx3/9+STOP//n//yd/kfhHQf///ifffvl//vZz1y+5Q/8gcunf/Gzl//hv/5v7bKXz1yud5UvXi6/69/8P13+yl/6sctrv/C5y/veeO3y8qu/cPlVrzx3eXh9avnVv/WbLq996mcuf/8v/zeXl/7Vf+3ytf/n//D6KPgVl1fevN5JuaaevW7+z14X4PW/ILBc2PqvNNhh73G4z6dkf6X8fZxv99m/z9eNo/JxNgL+5bX4Fl3Q9ccfddFEy7P12ieM031eVGBskZ7610blLTvZQF10xfUo4BNfMvQgvupXdtFmVxnvmcvGFmcbyH6pkC+g3Hb1Wz4s1p+VD+lYfSdPNm71b198X2rc58+7xannUTjnf8G+dWP90Fn7FvI129rqyBrcfvpOpDe+E+mH02cyHVhuht28OsR7qu5mdtGNCn6yDukO3g7KZLp5R8b4SsbbQrrZ7U0Dnm7y3VTTwXdjfHIwOrzF4ECnx80FX+mh+8wBXn0OXHrxquv3Z7pucvSxdcbJdgc9fj7gwa8tP/x1E8A+/zbXgI+fDvlunlsXdJOXI3zeHp4+3MI7VtFVxeXTz75y+Z//l39yefCrf8Plw//mv3v5bf/+/+3yL/27f/Dyr/wH/4/Ly1/+VZd/6V//A5d/7d//g5d/+Q/+3y/f/G//Xy8f/Lf+vcvzX/tNl59/8csun3nupct73vv5V60PH/yzz06+QP6lvmkbj6f6Scv/JHTKra5zTLKb8KV44ocWX/2wMku3xrL1KFr+bN9HwJ9zYzgp/keNRcUI278gl7/mORn92qhYyHaXnJy+xtO3tHaXQrGetDaXDyqhugvl5HEBuXDoKqZ0xh/0ofih+CC5Yk+28eRD9upj7z4k+8XQ4uzf+voEjS3hieqDjfkcUxoXZ31w8qJzrm4h3vuQLyH+aGM47d/iP+n/1965hVZ1RGF45XJyq62t2mpp+mKkFJ+CKCgqilJ8acULXlErKoKXJ0VEEUSFiOItKoiXlFg1xpg0RCuiEi8VNaYkig0FodRSqRWjwUtM0pjkdL5VVhj3sZo+9EGdHxaz98xaa2Z2Ts6/1sze+xiix774Y+A82qd9hhEDx/Z/FfVngl/zbXW+H6sD1NGPidUbTNckeu3Nrwn1EGtRUZHs37+/k4ArKytl48aNahMFOtevX5cZM2bItGnT5NChQ2rDdxmrgXPmzJGbN2/qdwf1Rp6ALH/Tpk1qN3fuXN1eIyBgHGfOnJEJEybI9OnT5ezZszo+bLlRd9GiRXpMH/hYunSpjB07VtjtJuO2+VEidj0BWX1xcbFUVFSoPbhw4YKOAeGRX7tOjMVfyWEMfEdcvHhRVq5cqeesBEDYs2fPVvutW7eqnfUJ0VsAhK8DBw7IxIkTZd68eToXxoCf8vJy+col6UheXt5LvzN8JBB/2rMWecf9UT7t+5k8uH1HWrq/J0/a2+Sn27fl3u9/uijpmTxuj0tzcrvUtzbJ094fy11H9k2xTBcydEh6G0s+/yzluI+qI393kTo/V+5iavH8B8s+PHYcFV+3KxK18335QpvBdH0b/5h/kOg/n68TFfuH8qUr8HV926hYO/0Y8UR1fPHh1/k6CH6Q6PyjYm3AtwHW5utQWrtv7/dlsDYT2o08EWz8NhMfpgd8XbPlGJ92Tsm5weoMnJu+9UedD+qA75PSxGx9cE498qL+Kf8v2Lh8WJ0vhuj5y4CezY3Sn7f5QWzefh3i6wH/b/VvYnhRG8IY/PP/gq7o+75tzn4d4l8PX+9FdTZfq4/24YvZ+LrAPzZE68zG/NixCdeeesB5FJAppHjp0iUNnNEpKSmREydOaIYLF1AikBikBvGxnbZr1y4lfYiNbTLIEAKDSCFBbCFly4wZCyTMPTTHjh2TSZMmydGjR5UkyYi3bdumAcjhw4elsLBQ+6utrZUdO3boTbYEElzX06dP6xM86PF6bQKRKJgz9czv4MGDGkgwBup5N8fmzZt17Lt375bly5erX3R5y+f58+d1/MwTkuYdH2vXrtUtCXwyL37lc8WKFXL8+HG9kRjBhpUIrh3BCfasbOC3tLRUli1bpiXXGL1z587p3I4cOSJr1qxRva7g+W8hh/bkdIk7afjtD+nd5xPpiLssKCNLUlxd9/c/lNSkmGTGMiQ1OU1iKS4aa0+SB/UPJd7qIs6WNklq61rEERAQEBDw+gMynjlzpmajkC9kNXnyZM2kISgIEWHvuaysTI9Zoh8/frwuTUPqgwYN0jqeqFm/fr2+ORNbCLKmpkYzW+69gURzcnJ0pYB2AoQRI0YomUL+EB836DIm9Cm5+XbdunWqA2njk+ybwAM/PI0DLNs2cE4flPPnz5dRo0bpOX4IIJgnJWPgKSDqCXx4k+fo0aPVB0v36C1cuFBWr16tY+ScpX50ePkX5yA7O1vnR9u4ceM6tz8ITFgZ4NoxjjFjxmjwxFgIggiyuPYFBQWdqwSvQgLx80fpcBl+t496yl/NjZLR2ijpaUnSr08vyezmAoCmp5Le7KTpiXRraZKURw3S94P3pKe0S6/kuGS5nD4xJgwICAgIeBMBAcEbEB8ZNnvQ7K9DaGTIlvkC04OgIGF+5poslmV49spZvWTPHR1AiQ03z+EbYsSWepbH6Ycbc7GhH9oZjz8m/GJPnenQ95QpU+TUqVP6NI4RqQ8CBHxA3pAxfZh/SJksf9WqVVJXV6cBC/W0A8u8GTMrAwMGDNBVArJ4fAIyeeZCULB48WK9yY/50y/1Nk4yewIMgpR9+/bJkiVLdDyMi5UIVkgICtiGQK8rSCD+WHODtN37Va4V7ZIb330j10r2yI/7d0htxUGpKsh3dYVSW7xHalx7bWmBXHNSV14otyrL5OfvD8mdG9W2oB8QEBAQ8IYDMkUgNMgP4oLoIUoIFxLjeOrUqbo0D7lBjGTa27dv1yV5Hn3FxidmdPA3fPhwzYB53JZzdPbu3SuDBw/WlQZ8A7JjCJgldMicgAB9hAAAUsQW36wS8HQR2wiMD50XgbkwHhsXc8SeVQqW41m+59c5GR9t6FRVVekKBTbY824QxsIKhAUv9EcbgcOGDRukf//+el0YC9dh586dnT/lTVYP2XPvA4EUqwT0RbBCPb8jgm8CHAuYXoWE5/hbf/hWHt+95TL9RxJrvCeZLQ2S9rRe0hofuCy/QdIb70uWCw4ymu5LuqvPbHb1rsxyeuhmtDZJWyxNYjn9pMfnuZKU2l3S4zHhR/4IMzqSO1yRHFYFAgICAl5DGJn6AhHZfj4EbSQIAQ8ZMkRJmToTbLgRkH1t9qwvX76sZEwWCwGyfM7yP1sB2KJPCbGxX44NN9edPHlSs1/IkBICzc/PV39k5CyfQ8D0SaAxcuRIPefXMyFnMuZZs2ZpRm7jMkDwCPX0zfwgV17pTV8s69MXhLxgwQINQKhjmyI3N7fTlrENHDhQ79ynfejQoVp/5coVuXr1qgYQ3HOADW/axPewYcN06wMfXBPmvWXLFl0lgLLxQyDDtgbBU3V1tQYh2DPWVyHhcb76vC/l1i83pVvM/UFbWySWFHek7aKdeLITd/H5Q78ko++Ip8nDrB4SG/WF5Iz9WuIZ2fJuR6Yks/WQIvIstU1v+gvEHxAQEPD6A7IHPpUYgVKHQHQ+yGQJDCA5MlcIDsLHDiHzpc4nYusHOwMkZ+eUkCR6ECX29EMd/ZNJo2NjoaRvxkAben5/UWCLb/rEL/Y2JhsHc/BBO3rocx18W+YIgTNO+ofIbf4GfBJw4NeuIyU2tKHr98G5vVPgZUgg/oCAgICAgIA3Fwl7/AEBAQEBAQFvLgLxBwQEBAQEvEUIxB8QEBAQEPAWIRB/QEBAQEDAWwORvwFYBajqYTCAOwAAAABJRU5ErkJggg==)"
      ],
      "metadata": {
        "id": "OCZvXJaKyLQF"
      }
    },
    {
      "cell_type": "markdown",
      "source": [
        "Our model is expecting images that have had our transformations applied. This is thankfully easy to do."
      ],
      "metadata": {
        "id": "TR5F8ub8yRRX"
      }
    },
    {
      "cell_type": "markdown",
      "source": [
        "**Transform Normalize**"
      ],
      "metadata": {
        "id": "v2r9AKdY0Wc0"
      }
    },
    {
      "cell_type": "code",
      "source": [
        "test_image_trans = transform_norm(test_image)\n",
        "test_image_trans.shape\n",
        "\n",
        "#output\n",
        "torch.Size([3, 224, 224])\n"
      ],
      "metadata": {
        "id": "wT0WR_nG0b4s"
      },
      "execution_count": null,
      "outputs": []
    },
    {
      "cell_type": "markdown",
      "source": [
        "Almost there. Our model is actually expecting a batch of these. Since we only have one, we'll need to change the tensor to a $1$ x $3$ x $224$ x $224$. We could do this with `reshape`, but it's easier to use `unsqueeze`. `unsqueeze` is meant for this exact problem. It adds an extra dimension with one element. We just specify _which_ extra dimension we want. In our case, we want the first dimension (i.e. `0`) to be the extra one."
      ],
      "metadata": {
        "id": "cB9EuUbH0sgF"
      }
    },
    {
      "cell_type": "code",
      "source": [
        "test_unsqueeze = test_image_trans.unsqueeze(0)\n",
        "test_unsqueeze.shape\n",
        "\n",
        "# output\n",
        "torch.Size([1, 3, 224, 224])\n"
      ],
      "metadata": {
        "id": "zfoOOtaC0vIv"
      },
      "execution_count": null,
      "outputs": []
    },
    {
      "cell_type": "markdown",
      "source": [
        "Now we run our model on this. Since our model is on the GPU now, we'll need to move this image there too."
      ],
      "metadata": {
        "id": "lsHRjao006CU"
      }
    },
    {
      "cell_type": "code",
      "source": [
        "test_image_cuda = test_unsqueeze.to(device)\n",
        "test_out = model(test_image_cuda)\n",
        "test_out\n",
        "\n",
        "# output\n",
        "tensor([[ 2.7270, -6.9468,  2.9463, -0.1695, -7.5702, -3.2693, -2.5679,  1.5404]],\n",
        "       device='cuda:0', grad_fn=<AddmmBackward0>)"
      ],
      "metadata": {
        "id": "4o1e71ri09hN"
      },
      "execution_count": null,
      "outputs": []
    },
    {
      "cell_type": "markdown",
      "source": [
        "That's the model's predictions, but it's not in the form we expected. We want a set of numbers between $0$ and $1$, that sum to $1$. What we're seeing is the raw output of the last layer. To convert this to the confidences, we need to run it through a `SoftMax`. This is very much like the logistic or sigmoid you've seen before, except that it works with many inputs. The `dim=1` tells it each row is one prediction."
      ],
      "metadata": {
        "id": "tasUYbqT1WXE"
      }
    },
    {
      "cell_type": "code",
      "source": [
        "test_softmax = torch.nn.functional.softmax(test_out, dim=1)\n",
        "test_softmax\n",
        "\n",
        "# output\n",
        "tensor([[3.8267e-01, 2.4073e-05, 4.7648e-01, 2.1129e-02, 1.2906e-05, 9.5203e-04,\n",
        "         1.9198e-03, 1.1681e-01]], device='cuda:0', grad_fn=<SoftmaxBackward0>)"
      ],
      "metadata": {
        "id": "1LheqNki1Z0M"
      },
      "execution_count": null,
      "outputs": []
    },
    {
      "cell_type": "markdown",
      "source": [
        "confirm if they sum to 1"
      ],
      "metadata": {
        "id": "YqVKw00_2MRs"
      }
    },
    {
      "cell_type": "code",
      "source": [
        "# confirm if they sum to 1\n",
        "test_softmax.sum()\n",
        "\n",
        "# output\n",
        "tensor(1., device='cuda:0', grad_fn=<SumBackward0>)\n"
      ],
      "metadata": {
        "id": "tuev7lbg1_V3"
      },
      "execution_count": null,
      "outputs": []
    },
    {
      "cell_type": "markdown",
      "source": [
        "**Convert to a DataFrame**"
      ],
      "metadata": {
        "id": "QUR7jUib39n8"
      }
    },
    {
      "cell_type": "markdown",
      "source": [
        "Now that we have our numbers, we need to convert to a DataFrame. The predictions are made in the same order as the classes in our dataset. We can't convert a tensor directly to a DataFrame, so we'll convert it to a list first. Then we can set the columns to our classes."
      ],
      "metadata": {
        "id": "6agZudzH4AV-"
      }
    },
    {
      "cell_type": "code",
      "source": [
        "pd.DataFrame(test_softmax.tolist())\n",
        "\n",
        "#output\n",
        "\n",
        "  0\t        1\t        2\t        3\t        4\t        5\t        6\t      7\n",
        "0\t0.382667\t0.000024\t0.476484\t0.021129\t0.000013\t0.000952\t0.00192\t0.116811\n"
      ],
      "metadata": {
        "id": "hTl0hLq-4EFA"
      },
      "execution_count": null,
      "outputs": []
    },
    {
      "cell_type": "code",
      "source": [
        "# converts the columns to classes\n",
        "test_df = pd.DataFrame(test_softmax.tolist())\n",
        "test_df.columns = dataset.classes\n",
        "\n",
        "test_df\n",
        "\n",
        "#output\n",
        "\tantelope_duiker\tbird\t    blank\t    civet_genet\thog\t      leopard\t  monkey_prosimian\trodent\n",
        "0\t0.382667\t      0.000024\t0.476484\t0.021129\t  0.000013\t0.000952\t0.00192\t          0.116811\n"
      ],
      "metadata": {
        "id": "VsMSrGva4p92"
      },
      "execution_count": null,
      "outputs": []
    },
    {
      "cell_type": "markdown",
      "source": [
        "We also should set the index to the ID."
      ],
      "metadata": {
        "id": "STlUVYEc7lFw"
      }
    },
    {
      "cell_type": "code",
      "source": [
        "image_id = df_ids.iloc[0, 0]\n",
        "test_df.index = [image_id]\n",
        "\n",
        "test_df\n",
        "\n",
        "# output\n",
        "\t        antelope_duiker\tbird\t    blank\t    civet_genet\thog\t      leopard\t  monkey_prosimian\trodent\n",
        "ZJ016488\t0.382667\t      0.000024\t0.476484\t0.021129\t  0.000013\t0.000952\t0.00192\t          0.116811"
      ],
      "metadata": {
        "id": "pL6nQCou7o_W"
      },
      "execution_count": null,
      "outputs": []
    },
    {
      "cell_type": "markdown",
      "source": [
        "And we're ready to go. Let's put this into a function to make it easier. We'll also add a few things to make PyTorch run faster."
      ],
      "metadata": {
        "id": "Mj6U8eJJ77Be"
      }
    },
    {
      "cell_type": "code",
      "source": [
        "model.to(device)\n",
        "\n",
        "\n",
        "def file_to_confidence(file_path, image_id):\n",
        "    image = PIL.Image.open(file_path)\n",
        "    transformed = transform_norm(image)\n",
        "    unsqueezed = transformed.unsqueeze(0)\n",
        "    image_cuda = unsqueezed.to(device)\n",
        "\n",
        "    model.eval()\n",
        "    with torch.no_grad():\n",
        "        model_raw = model(image_cuda)\n",
        "        confidence = torch.nn.functional.softmax(model_raw, dim=1)\n",
        "\n",
        "    conf_df = pd.DataFrame(confidence.tolist())\n",
        "    conf_df.columns = dataset.classes\n",
        "    conf_df.index = [image_id]\n",
        "\n",
        "    return conf_df"
      ],
      "metadata": {
        "id": "LJ-2B0NL8XCV"
      },
      "execution_count": null,
      "outputs": []
    },
    {
      "cell_type": "markdown",
      "source": [
        "Let's make sure the function works as expected. We should get the same result as before. Note that the function is expecting the full file path."
      ],
      "metadata": {
        "id": "9E9hJa2V8agX"
      }
    },
    {
      "cell_type": "code",
      "source": [
        "file_to_confidence(test_image_path, image_id)\n",
        "\n",
        "# output\n",
        "\t        antelope_duiker\tbird\t    blank\t    civet_genet\thog\t      leopard\t  monkey_prosimian\trodent\n",
        "ZJ016488\t0.382667\t      0.000024\t0.476484\t0.021129\t  0.000013\t0.000952\t0.00192\t          0.116811\n"
      ],
      "metadata": {
        "id": "ZH1H07M78fNW"
      },
      "execution_count": null,
      "outputs": []
    },
    {
      "cell_type": "markdown",
      "source": [
        "Now we can use this function on each file to get the predictions. We can loop over the ids and filenames and build up a DataFrame."
      ],
      "metadata": {
        "id": "dnV6po4s8uPn"
      }
    },
    {
      "cell_type": "markdown",
      "source": [
        "**Get final predictions**"
      ],
      "metadata": {
        "id": "VLpQyWWh9HeO"
      }
    },
    {
      "cell_type": "markdown",
      "source": [
        "**Task 1.4.24:** Do it! You can use `df_ids.itertuples()` to get one row at a time, and `pd.concat` to assemble many DataFrames into one big one."
      ],
      "metadata": {
        "id": "TSxcKaEd83q1"
      }
    },
    {
      "cell_type": "code",
      "source": [
        "predictions = []\n",
        "for row in df_ids.itertuples(index=False):\n",
        "    image_id = row.id\n",
        "    file_path = os.path.join(test_dir, row.filepath)\n",
        "\n",
        "    if os.path.exists(file_path):\n",
        "        conf_df = file_to_confidence(file_path, image_id)\n",
        "        predictions.append(conf_df)\n",
        "    else:\n",
        "        print(f\"Warning: File {file_path} not found.\")"
      ],
      "metadata": {
        "id": "TxcMX5d3GsK4"
      },
      "execution_count": null,
      "outputs": []
    },
    {
      "cell_type": "code",
      "source": [
        "# Combine all predictions into a single DataFrame\n",
        "confidence_df = pd.concat(predictions)\n",
        "\n",
        "# Display only the first 10\n",
        "confidence_df.head(10)"
      ],
      "metadata": {
        "id": "ro3-EOwIGtau"
      },
      "execution_count": null,
      "outputs": []
    },
    {
      "cell_type": "markdown",
      "source": [
        "![Screenshot 2025-02-15 155614.png](data:image/png;base64,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)"
      ],
      "metadata": {
        "id": "Myw-ILyTHDZW"
      }
    },
    {
      "cell_type": "markdown",
      "source": [
        "**Save As CSV File**"
      ],
      "metadata": {
        "id": "mvP43mL4HKVf"
      }
    },
    {
      "cell_type": "markdown",
      "source": [
        "Finally, the competition wants this as a csv. We can save a pandas DataFrame directly to a csv."
      ],
      "metadata": {
        "id": "M0RXvz8PHFf2"
      }
    },
    {
      "cell_type": "code",
      "source": [
        "confidence_df.to_csv(\"submission.csv\")"
      ],
      "metadata": {
        "id": "brZZovJyHRfv"
      },
      "execution_count": null,
      "outputs": []
    },
    {
      "cell_type": "markdown",
      "source": [
        "### Saving the Model"
      ],
      "metadata": {
        "id": "En4ien3YHjIO"
      }
    },
    {
      "cell_type": "markdown",
      "source": [
        "We've put a lot of effort into this model, and it took a while to train. The training has determined what the best parameters (also called weights) for our network. The only information we need to reproduce it's the network architecture, and the values of those parameters. PyTorch lets us save all of this. Then we can just load the model in the future instead of having to retrain it."
      ],
      "metadata": {
        "id": "cBg6WbMTHlZg"
      }
    },
    {
      "cell_type": "code",
      "source": [
        "torch.save(model, \"model/deepnet\")"
      ],
      "metadata": {
        "id": "rz6LYtEQHoJi"
      },
      "execution_count": null,
      "outputs": []
    },
    {
      "cell_type": "markdown",
      "source": [
        "### Conclusion"
      ],
      "metadata": {
        "id": "Xv5rdOotHq9g"
      }
    },
    {
      "cell_type": "markdown",
      "source": [
        "Good work! This was a long one, but we covered a lot of important ideas. We're now able to use PyTorch to classify any number of images, with any number of classes! Here are the key takeaways:\n",
        "\n",
        "- Some preprocessing of our images, or data in general, can help our models.\n",
        "- In multiclass classification, we get a confidence for each of our classes.\n",
        "- Neural networks can have different ways of connecting their neurons, called architectures\n",
        "- The Convolutional Neural Network architecture does well on images\n",
        "- In PyTorch, we can build one by choosing different layers\n",
        "- With a trained model, we can predict the class of an unlabeled image\n",
        "\n",
        "All together, this let us complete the competition we have been working on. We now have a model that gives us confidences (and thus predictions) on what animals appear in a camera trap image."
      ],
      "metadata": {
        "id": "d0s4cUK3HroI"
      }
    },
    {
      "cell_type": "markdown",
      "source": [],
      "metadata": {
        "id": "CUgKRNSEH17w"
      }
    }
  ]
}