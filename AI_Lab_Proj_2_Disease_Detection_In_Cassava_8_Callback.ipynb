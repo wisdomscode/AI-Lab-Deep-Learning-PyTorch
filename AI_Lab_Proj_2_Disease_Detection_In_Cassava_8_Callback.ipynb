{
  "nbformat": 4,
  "nbformat_minor": 0,
  "metadata": {
    "colab": {
      "provenance": [],
      "authorship_tag": "ABX9TyOmX9q5g+wEK6gG7VqQYwX8",
      "include_colab_link": true
    },
    "kernelspec": {
      "name": "python3",
      "display_name": "Python 3"
    },
    "language_info": {
      "name": "python"
    }
  },
  "cells": [
    {
      "cell_type": "markdown",
      "metadata": {
        "id": "view-in-github",
        "colab_type": "text"
      },
      "source": [
        "<a href=\"https://colab.research.google.com/github/wisdomscode/AI-Lab-Deep-Learning-PyTorch/blob/main/AI_Lab_Proj_2_Disease_Detection_In_Cassava_8_Callback.ipynb\" target=\"_parent\"><img src=\"https://colab.research.google.com/assets/colab-badge.svg\" alt=\"Open In Colab\"/></a>"
      ]
    },
    {
      "cell_type": "markdown",
      "source": [
        "### Transfer Learning and Callbacks"
      ],
      "metadata": {
        "id": "AZnPPf33Yiiu"
      }
    },
    {
      "cell_type": "markdown",
      "source": [
        "Summary: In this lesson, we'll build another classifier model that predicts the crop disease on images of cassava plants from Uganda. We'll again use Transfer Learning, where a model trained for a task is reused as the starting point for a model on a different task. We'll also delve into Callbacks, which are powerful tools to customize the behavior of your model during training. Specifically, we'll focus on Learning Rate Scheduling, Checkpointing, and Early Stopping to enhance our model's training process.\n",
        "\n",
        "**Objectives:**\n",
        "\n",
        "* Read in data with multiple classes\n",
        "* Transform data and prepare it for training\n",
        "* Use Transfer Learning to train a classifier model on cassava images\n",
        "* Improve training by implementing various callbacks\n",
        "* Prepare a submission for our competition by reformatting network predictions on the test set\n",
        "\n",
        "**New Terms:**\n",
        "\n",
        "* Callbacks\n",
        "* Learning Rate Scheduling\n",
        "* Checkpointing\n",
        "* Early Stopping"
      ],
      "metadata": {
        "id": "efOob1c0XkRF"
      }
    },
    {
      "cell_type": "markdown",
      "source": [
        "### Setup and Data Preparation"
      ],
      "metadata": {
        "id": "CjKc_X2PVxik"
      }
    },
    {
      "cell_type": "markdown",
      "source": [
        "Before diving into the model, let's set up our environment and prepare the data. We'll first load the necessary libraries and print out library versions."
      ],
      "metadata": {
        "id": "d2bnCTvwV5xr"
      }
    },
    {
      "cell_type": "code",
      "execution_count": null,
      "metadata": {
        "id": "I2GJQ867UjBZ"
      },
      "outputs": [],
      "source": [
        "import os\n",
        "\n",
        "import matplotlib\n",
        "import matplotlib.pyplot as plt\n",
        "import numpy as np\n",
        "import pandas as pd\n",
        "import PIL\n",
        "import torch\n",
        "import torch.nn as nn\n",
        "import torch.optim as optim\n",
        "import torchinfo\n",
        "import torchvision\n",
        "from sklearn.metrics import ConfusionMatrixDisplay, confusion_matrix\n",
        "from torch.optim.lr_scheduler import StepLR\n",
        "from torch.utils.data import DataLoader, random_split\n",
        "from torchinfo import summary\n",
        "from torchvision import datasets, models, transforms\n",
        "from tqdm import tqdm"
      ]
    },
    {
      "cell_type": "code",
      "source": [
        "print(\"torch version : \", torch.__version__)\n",
        "print(\"torchvision version : \", torchvision.__version__)\n",
        "print(\"torchinfo version : \", torchinfo.__version__)\n",
        "print(\"numpy version : \", np.__version__)\n",
        "print(\"matplotlib version : \", matplotlib.__version__)\n",
        "\n",
        "!python --version\n",
        "\n",
        "#output\n",
        "torch version :  2.2.2+cu121\n",
        "torchvision version :  0.17.2+cu121\n",
        "torchinfo version :  1.8.0\n",
        "numpy version :  1.26.3\n",
        "matplotlib version :  3.9.2\n",
        "Python 3.11.0"
      ],
      "metadata": {
        "id": "DkWh-CM1WIKc"
      },
      "execution_count": null,
      "outputs": []
    },
    {
      "cell_type": "markdown",
      "source": [
        "Let's also check if GPUs are available and set our device accordingly."
      ],
      "metadata": {
        "id": "SPqLLpm7WT87"
      }
    },
    {
      "cell_type": "code",
      "source": [
        "if torch.cuda.is_available():\n",
        "    device = \"cuda\"\n",
        "elif torch.backends.mps.is_available():\n",
        "    device = \"mps\"\n",
        "else:\n",
        "    device = \"cpu\"\n",
        "\n",
        "print(f\"Using {device} device.\")\n",
        "\n",
        "#output\n",
        "Using cuda device.\n"
      ],
      "metadata": {
        "id": "ErQQHt1DWW5c"
      },
      "execution_count": null,
      "outputs": []
    },
    {
      "cell_type": "markdown",
      "source": [
        "The data is in the `data_p2` directory within which is the `data_undersampled` directory. In that folder we have the `train` subdirectory that contains the training data."
      ],
      "metadata": {
        "id": "2tKtN12oVwVd"
      }
    },
    {
      "cell_type": "markdown",
      "source": [
        "**Task 2.5.1:** Assign `data_dir` the path to the training data using `os.path.join`."
      ],
      "metadata": {
        "id": "J_30JqY8WfcT"
      }
    },
    {
      "cell_type": "code",
      "source": [
        "data_dir = os.path.join(\"data_p2\", \"data_undersampled\", \"train\")\n",
        "\n",
        "print(\"Data Directory:\", data_dir)\n",
        "\n",
        "#output\n",
        "Data Directory: data_p2/data_undersampled/train\n"
      ],
      "metadata": {
        "id": "Fjj0vLFVWhvr"
      },
      "execution_count": null,
      "outputs": []
    },
    {
      "cell_type": "markdown",
      "source": [
        "You may remember that images from each class are contained in separate subdirectories within `data_dir`, where the name of each subdirectory is the name of the class."
      ],
      "metadata": {
        "id": "AjScV-NIXOID"
      }
    },
    {
      "cell_type": "markdown",
      "source": [
        "**Task 2.5.2:** Create a list of class names in this data using `os.listdir`."
      ],
      "metadata": {
        "id": "yIW-OT9ZXQTr"
      }
    },
    {
      "cell_type": "code",
      "source": [
        "classes = os.listdir(data_dir)\n",
        "\n",
        "print(\"List of classes:\", classes)\n",
        "\n",
        "#output\n",
        "List of classes: ['cassava-healthy', 'cassava-mosaic-disease-cmd', 'cassava-brown-streak-disease-cbsd', 'cassava-green-mottle-cgm', 'cassava-bacterial-blight-cbb']"
      ],
      "metadata": {
        "id": "NL52bED_Zax9"
      },
      "execution_count": null,
      "outputs": []
    },
    {
      "cell_type": "markdown",
      "source": [
        "As in the previous lessons, we'll standardize the images using the following set of transformations:\n",
        "\n",
        "- Convert any grayscale images to RGB format with a custom class\n",
        "- Resize the image, so that they're all the same size (we chose $224$ x $224$)\n",
        "- Convert the image to a Tensor of pixel values\n",
        "- Normalize the data\n",
        "\n",
        "Here's the custom transformation that we've used before which converts images to RGB format:"
      ],
      "metadata": {
        "id": "2-PAVTeBZuRs"
      }
    },
    {
      "cell_type": "code",
      "source": [
        "class ConvertToRGB(object):\n",
        "    def __call__(self, img):\n",
        "        if img.mode != \"RGB\":\n",
        "            img = img.convert(\"RGB\")\n",
        "        return img"
      ],
      "metadata": {
        "id": "0DYxtLEQZzeN"
      },
      "execution_count": null,
      "outputs": []
    },
    {
      "cell_type": "markdown",
      "source": [
        "Now let's make the transformation pipeline. In the normalization step, use the `mean` and `std` values from our previous lesson."
      ],
      "metadata": {
        "id": "ZKIkEGjmZ4yr"
      }
    },
    {
      "cell_type": "markdown",
      "source": [
        "**Task 2.5.3:** Create the transformation pipeline using `transforms.Compose` from `torchvision` package. Follow what we did in the previous lessons."
      ],
      "metadata": {
        "id": "1ArjK8x6Z6qs"
      }
    },
    {
      "cell_type": "code",
      "source": [
        "transform_normalized = transforms.Compose(\n",
        "    [\n",
        "        ConvertToRGB(),\n",
        "        transforms.Resize((224, 224)),\n",
        "        transforms.ToTensor(),\n",
        "        transforms.Normalize(mean=(0.485, 0.456, 0.406), std=(0.229, 0.224, 0.225))\n",
        "    ]\n",
        "\n",
        ")\n",
        "\n",
        "print(type(transform_normalized))\n",
        "print(\"----------------\")\n",
        "print(transform_normalized)"
      ],
      "metadata": {
        "id": "3mfgQrbehBWv"
      },
      "execution_count": null,
      "outputs": []
    },
    {
      "cell_type": "markdown",
      "source": [
        "Let's create the dataset and apply our transformations."
      ],
      "metadata": {
        "id": "EEdNuC5coYfb"
      }
    },
    {
      "cell_type": "markdown",
      "source": [
        "**Task 2.5.4:** Make a dataset using `ImageFolder` from `datasets` and make sure to apply `transform_normalized` transformation pipeline. Then print the length of the dataset."
      ],
      "metadata": {
        "id": "Jlah3_QLoa0F"
      }
    },
    {
      "cell_type": "code",
      "source": [
        "normalized_dataset = datasets.ImageFolder(root=data_dir, transform=transform_normalized)\n",
        "\n",
        "print('Length of dataset:', len(normalized_dataset))\n",
        "\n",
        "#output\n",
        "Length of dataset: 7615\n"
      ],
      "metadata": {
        "id": "EuGXksD0o_RM"
      },
      "execution_count": null,
      "outputs": []
    },
    {
      "cell_type": "markdown",
      "source": [
        "### Making a train/validation split"
      ],
      "metadata": {
        "id": "OUkSV3b7ppzz"
      }
    },
    {
      "cell_type": "markdown",
      "source": [
        "As usual, we'll divide our data into two parts. One part is for training the model, the other part is for evaluating it on unseen images."
      ],
      "metadata": {
        "id": "ypvrNUYCpskF"
      }
    },
    {
      "cell_type": "markdown",
      "source": [
        "**Task 2.5.5:** Use `random_split` to create a 80/20 split (training dataset should have 80% of the data, validation dataset should have 20% of the data)."
      ],
      "metadata": {
        "id": "8z4y4XhHt8Ka"
      }
    },
    {
      "cell_type": "code",
      "source": [
        "# Important, don't change this!\n",
        "g = torch.Generator()\n",
        "g.manual_seed(42)\n",
        "\n",
        "train_dataset, val_dataset = random_split(normalized_dataset, [0.8, 0.2], generator=g)\n",
        "\n",
        "print(\"Length of training dataset:\", len(train_dataset))\n",
        "print(\"Length of validation dataset:\", len(val_dataset))\n",
        "\n",
        "percent_train = np.round(100 * len(train_dataset) / len(normalized_dataset), 2)\n",
        "percent_val = np.round(100 * len(val_dataset) / len(normalized_dataset), 2)\n",
        "\n",
        "print(f\"Train data is {percent_train}% of full data\")\n",
        "print(f\"Validation data is {percent_val}% of full data\")\n",
        "\n",
        "#output\n",
        "Length of training dataset: 6092\n",
        "Length of validation dataset: 1523\n",
        "Train data is 80.0% of full data\n",
        "Validation data is 20.0% of full data"
      ],
      "metadata": {
        "id": "oIlkfP32wYQT"
      },
      "execution_count": null,
      "outputs": []
    },
    {
      "cell_type": "markdown",
      "source": [
        "Let's again check how the observations are distributed across classes. We'll reuse the `class_counts` function from `training.py` that we used previously. We want to check the distribution of the training and the validation data."
      ],
      "metadata": {
        "id": "-Q-cG1PBwnQ2"
      }
    },
    {
      "cell_type": "markdown",
      "source": [
        "**Task 2.5.6:** Use `class_counts` function on the `train_dataset` and visualize the results with a bar chart."
      ],
      "metadata": {
        "id": "s0PO2YEGwwnk"
      }
    },
    {
      "cell_type": "code",
      "source": [
        "from training import class_counts\n",
        "\n",
        "train_counts = class_counts(train_dataset)\n",
        "\n",
        "# Make a bar chart from the function output\n",
        "train_counts.sort_values().plot(kind='bar')\n",
        "\n",
        "# Add axis labels and title\n",
        "plt.xlabel(\"Class Label\")\n",
        "plt.ylabel(\"Frequency [count]\")\n",
        "plt.title(\"Distribution of Classes in Training Dataset\");"
      ],
      "metadata": {
        "id": "r-AX5HE0zaDy"
      },
      "execution_count": null,
      "outputs": []
    },
    {
      "cell_type": "markdown",
      "source": [
        "![Screenshot 2025-03-03 124331.png](data:image/png;base64,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)"
      ],
      "metadata": {
        "id": "F-Bddqae0aG5"
      }
    },
    {
      "cell_type": "markdown",
      "source": [
        "**Task 2.5.7:** Use the `class_counts` function on the validation split. Make sure to again visualize the results with a bar chart."
      ],
      "metadata": {
        "id": "EEgZWQJu0cz3"
      }
    },
    {
      "cell_type": "code",
      "source": [
        "val_counts = class_counts(val_dataset)\n",
        "\n",
        "# Make a bar chart from the function output\n",
        "val_counts.sort_values().plot(kind='bar')\n",
        "\n",
        "# Add axis labels and title\n",
        "plt.xlabel(\"Class Label\")\n",
        "plt.ylabel(\"Frequency [count]\")\n",
        "plt.title(\"Distribution of Classes in Validation Dataset\");"
      ],
      "metadata": {
        "id": "3R81UAu16kGq"
      },
      "execution_count": null,
      "outputs": []
    },
    {
      "cell_type": "markdown",
      "source": [
        "![Screenshot 2025-03-03 131100.png](data:image/png;base64,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)"
      ],
      "metadata": {
        "id": "ln_yWlgp6mtt"
      }
    },
    {
      "cell_type": "markdown",
      "source": [
        "Now let's create `DataLoader` objects. We'll use a batch size of 32 and create one `DataLoader` for training and another for validation data. Remember that in training we want to shuffle the data after each epoch and in validation we don't."
      ],
      "metadata": {
        "id": "cQ2EaNgt6sh_"
      }
    },
    {
      "cell_type": "markdown",
      "source": [
        "**Task 2.5.8:** Create the training loader (with shuffling on) and the validation loader (with shuffling off)."
      ],
      "metadata": {
        "id": "1jLMf5B663E7"
      }
    },
    {
      "cell_type": "code",
      "source": [
        "batch_size = 32\n",
        "\n",
        "train_loader = DataLoader(train_dataset, batch_size=batch_size, shuffle=True)\n",
        "\n",
        "val_loader = DataLoader(train_dataset, batch_size=batch_size, shuffle=False)\n",
        "\n",
        "print(type(train_loader))\n",
        "print(type(val_loader))\n",
        "\n",
        "#output\n",
        "<class 'torch.utils.data.dataloader.DataLoader'>\n",
        "<class 'torch.utils.data.dataloader.DataLoader'>"
      ],
      "metadata": {
        "id": "B_BFzBiF8FQZ"
      },
      "execution_count": null,
      "outputs": []
    },
    {
      "cell_type": "markdown",
      "source": [
        "### Model Selection for Transfer Learning"
      ],
      "metadata": {
        "id": "iXBy1lgf8LeC"
      }
    },
    {
      "cell_type": "markdown",
      "source": [
        "When we're using Transfer Learning, choosing the right pre-trained model is crucial. We'll select the same model as in the previous lesson. This model has been trained on a large and diverse dataset, ensuring it has learned features that are broadly applicable to various tasks, including ours."
      ],
      "metadata": {
        "id": "ChhbOjqb8OcK"
      }
    },
    {
      "cell_type": "markdown",
      "source": [
        "**Task 2.5.9:** Define a `resnet50` model in the same way we defined it in the previous lesson."
      ],
      "metadata": {
        "id": "Z4xtuSyh8aLd"
      }
    },
    {
      "cell_type": "code",
      "source": [
        "model = models.resnet50(weights=models.ResNet50_Weights.DEFAULT)\n",
        "\n",
        "print(model)"
      ],
      "metadata": {
        "id": "7omdjCVb9pMb"
      },
      "execution_count": null,
      "outputs": []
    },
    {
      "cell_type": "markdown",
      "source": [
        "In Transfer Learning, we don't want to tweak the model weights when we train the model on our data. So let's make sure the weights are fixed!\n"
      ],
      "metadata": {
        "id": "0UPY5Pkk9tnS"
      }
    },
    {
      "cell_type": "markdown",
      "source": [
        "**Task 2.5.10:** Fix the parameters of the model such that they'll not be updated once we train the model on our task. Remember how we did this in the previous lesson?"
      ],
      "metadata": {
        "id": "gnuM0yQU9w18"
      }
    },
    {
      "cell_type": "code",
      "source": [
        "# Freeze the models weights\n",
        "for params in model.parameters():\n",
        "    params.requires_grad = False\n",
        "\n",
        "print(model)"
      ],
      "metadata": {
        "id": "U7PaYT0MMOkS"
      },
      "execution_count": null,
      "outputs": []
    },
    {
      "cell_type": "markdown",
      "source": [
        "Same as we did before, we now want to change the output layer of the model (layer `model.fc`). We want to replace it with a dense layer and an output layer.\n",
        "\n",
        "But we need to know how many features will be going into the dense layer that we want to add. This means we should first compute the number of features going into the last layer of the original model."
      ],
      "metadata": {
        "id": "zMowuJGkUqYI"
      }
    },
    {
      "cell_type": "markdown",
      "source": [
        "**Task 2.5.11:** Compute the number of features going into the last layer of the original model."
      ],
      "metadata": {
        "id": "_oWGOlIXUtqY"
      }
    },
    {
      "cell_type": "code",
      "source": [
        "in_feat = model.fc.in_features\n",
        "\n",
        "print(in_feat)\n",
        "\n",
        "#output\n",
        "2048"
      ],
      "metadata": {
        "id": "EAHCtaf3XC4p"
      },
      "execution_count": null,
      "outputs": []
    },
    {
      "cell_type": "markdown",
      "source": [
        "Well done! Now we can change the last layer (layer `model.fc`). We want to change it to:\n",
        "- a dense layer with 256 neurons\n",
        "- followed by ReLU activation\n",
        "- then add `p=0.5` of Dropout\n",
        "- followed by the output layer with 5 neurons (because our data has 5 classes)"
      ],
      "metadata": {
        "id": "9jAUKX5sXf-5"
      }
    },
    {
      "cell_type": "markdown",
      "source": [
        "**Task 2.5.12:** Fill in the missing parts of code below that changes the last layer of the original model."
      ],
      "metadata": {
        "id": "iov0jfiJXqq4"
      }
    },
    {
      "cell_type": "code",
      "source": [
        "modified_last_layer = nn.Sequential()\n",
        "\n",
        "modified_last_layer.append(nn.Linear(in_feat, 256))\n",
        "\n",
        "relu = nn.ReLU()\n",
        "modified_last_layer.append(relu)\n",
        "\n",
        "modified_last_layer.append(nn.Dropout(p=0.5))\n",
        "\n",
        "linear = nn.Linear(256, 5)\n",
        "modified_last_layer.append(linear)\n",
        "\n",
        "model.fc = modified_last_layer\n",
        "\n",
        "print(model)"
      ],
      "metadata": {
        "id": "7gsYPeVbXsTI"
      },
      "execution_count": null,
      "outputs": []
    },
    {
      "cell_type": "markdown",
      "source": [
        "Observe how the last layer of the model is now different and exactly what we wanted.\n",
        "\n",
        "We're ready to start fitting!"
      ],
      "metadata": {
        "id": "JXpSmyNVYLrZ"
      }
    },
    {
      "cell_type": "markdown",
      "source": [
        "### Training the Model"
      ],
      "metadata": {
        "id": "X669wP9zYNwK"
      }
    },
    {
      "cell_type": "markdown",
      "source": [
        "As always, before we start training, we need to define the loss and what optimizer we'll use. For loss function we'll go with cross entropy. For the optimizer we'll choose the Adam optimizer as we've done before."
      ],
      "metadata": {
        "id": "JkSfVXGMYQHi"
      }
    },
    {
      "cell_type": "markdown",
      "source": [
        "**Task 2.5.13:** Define cross-entropy as the loss function and set Adam optimizer to be the optimizer. You can use the default learning rate and `weight_decay=1e-4`."
      ],
      "metadata": {
        "id": "xk2q1O3YYXk3"
      }
    },
    {
      "cell_type": "code",
      "source": [
        "loss_fn = nn.CrossEntropyLoss()\n",
        "optimizer = optim.Adam(model.parameters(), weight_decay=1e-4)\n",
        "\n",
        "print(loss_fn)\n",
        "print(\"----------------------\")\n",
        "print(optimizer)\n",
        "\n",
        "#output\n",
        "CrossEntropyLoss()\n",
        "----------------------\n",
        "Adam (\n",
        "Parameter Group 0\n",
        "    amsgrad: False\n",
        "    betas: (0.9, 0.999)\n",
        "    capturable: False\n",
        "    differentiable: False\n",
        "    eps: 1e-08\n",
        "    foreach: None\n",
        "    fused: None\n",
        "    lr: 0.001\n",
        "    maximize: False\n",
        "    weight_decay: 0.0001\n",
        ")"
      ],
      "metadata": {
        "id": "0iZfKDlFY_d8"
      },
      "execution_count": null,
      "outputs": []
    },
    {
      "cell_type": "markdown",
      "source": [
        "Next let's make sure that we use the GPU that we have at our disposal."
      ],
      "metadata": {
        "id": "CEKnhXY4ZF8I"
      }
    },
    {
      "cell_type": "markdown",
      "source": [
        "**Task 2.5.14:** Place our model on `device`. The code we provided below prints out the device that the model is on."
      ],
      "metadata": {
        "id": "jueNjEMVZI9j"
      }
    },
    {
      "cell_type": "code",
      "source": [
        "# Place model on device\n",
        "model.to(device)\n",
        "\n",
        "print(next(model.parameters()).device)\n",
        "\n",
        "#output\n",
        "cuda:0"
      ],
      "metadata": {
        "id": "N_qx7b2xZXwq"
      },
      "execution_count": null,
      "outputs": []
    },
    {
      "cell_type": "markdown",
      "source": [
        "Before we continue, let's get more information about our model by calling the `summary` function on the model. You may remember that we've seen this function before. This function requires us to pass in two things: the model itself and the size of input tensors."
      ],
      "metadata": {
        "id": "QGc-hGE0Zdgw"
      }
    },
    {
      "cell_type": "markdown",
      "source": [
        "**Task 2.5.15:** Complete the `input_size` tuple that we are passing to `summary` function in the code below."
      ],
      "metadata": {
        "id": "Ud7A9qEnZf_q"
      }
    },
    {
      "cell_type": "code",
      "source": [
        "height = 224\n",
        "width = 224\n",
        "\n",
        "summary(model, input_size=(batch_size, 3, height, width))\n",
        "\n",
        "#output\n",
        "==========================================================================================\n",
        "Layer (type:depth-idx)                   Output Shape              Param #\n",
        "==========================================================================================\n",
        "ResNet                                   [32, 5]                   --\n",
        "├─Conv2d: 1-1                            [32, 64, 112, 112]        (9,408)\n",
        "├─BatchNorm2d: 1-2                       [32, 64, 112, 112]        (128)\n",
        "├─ReLU: 1-3                              [32, 64, 112, 112]        --\n",
        "├─MaxPool2d: 1-4                         [32, 64, 56, 56]          --\n",
        "├─Sequential: 1-5                        [32, 256, 56, 56]         --\n",
        "│    └─Bottleneck: 2-1                   [32, 256, 56, 56]         --\n",
        "│    │    └─Conv2d: 3-1                  [32, 64, 56, 56]          (4,096)\n",
        "│    │    └─BatchNorm2d: 3-2             [32, 64, 56, 56]          (128)\n",
        "│    │    └─ReLU: 3-3                    [32, 64, 56, 56]          --\n",
        "│    │    └─Conv2d: 3-4                  [32, 64, 56, 56]          (36,864)\n",
        "│    │    └─BatchNorm2d: 3-5             [32, 64, 56, 56]          (128)\n",
        "│    │    └─ReLU: 3-6                    [32, 64, 56, 56]          --\n",
        "│    │    └─Conv2d: 3-7                  [32, 256, 56, 56]         (16,384)\n",
        "│    │    └─BatchNorm2d: 3-8             [32, 256, 56, 56]         (512)\n",
        "│    │    └─Sequential: 3-9              [32, 256, 56, 56]         (16,896)\n",
        "│    │    └─ReLU: 3-10                   [32, 256, 56, 56]         --\n",
        "│    └─Bottleneck: 2-2                   [32, 256, 56, 56]         --\n",
        "│    │    └─Conv2d: 3-11                 [32, 64, 56, 56]          (16,384)\n",
        "│    │    └─BatchNorm2d: 3-12            [32, 64, 56, 56]          (128)\n",
        "│    │    └─ReLU: 3-13                   [32, 64, 56, 56]          --\n",
        "│    │    └─Conv2d: 3-14                 [32, 64, 56, 56]          (36,864)\n",
        "│    │    └─BatchNorm2d: 3-15            [32, 64, 56, 56]          (128)\n",
        "│    │    └─ReLU: 3-16                   [32, 64, 56, 56]          --\n",
        "│    │    └─Conv2d: 3-17                 [32, 256, 56, 56]         (16,384)\n",
        "│    │    └─BatchNorm2d: 3-18            [32, 256, 56, 56]         (512)\n",
        "│    │    └─ReLU: 3-19                   [32, 256, 56, 56]         --\n",
        "│    └─Bottleneck: 2-3                   [32, 256, 56, 56]         --\n",
        "│    │    └─Conv2d: 3-20                 [32, 64, 56, 56]          (16,384)\n",
        "│    │    └─BatchNorm2d: 3-21            [32, 64, 56, 56]          (128)\n",
        "│    │    └─ReLU: 3-22                   [32, 64, 56, 56]          --\n",
        "│    │    └─Conv2d: 3-23                 [32, 64, 56, 56]          (36,864)\n",
        "│    │    └─BatchNorm2d: 3-24            [32, 64, 56, 56]          (128)\n",
        "│    │    └─ReLU: 3-25                   [32, 64, 56, 56]          --\n",
        "│    │    └─Conv2d: 3-26                 [32, 256, 56, 56]         (16,384)\n",
        "│    │    └─BatchNorm2d: 3-27            [32, 256, 56, 56]         (512)\n",
        "│    │    └─ReLU: 3-28                   [32, 256, 56, 56]         --\n",
        "├─Sequential: 1-6                        [32, 512, 28, 28]         --\n",
        "│    └─Bottleneck: 2-4                   [32, 512, 28, 28]         --\n",
        "│    │    └─Conv2d: 3-29                 [32, 128, 56, 56]         (32,768)\n",
        "│    │    └─BatchNorm2d: 3-30            [32, 128, 56, 56]         (256)\n",
        "│    │    └─ReLU: 3-31                   [32, 128, 56, 56]         --\n",
        "│    │    └─Conv2d: 3-32                 [32, 128, 28, 28]         (147,456)\n",
        "│    │    └─BatchNorm2d: 3-33            [32, 128, 28, 28]         (256)\n",
        "│    │    └─ReLU: 3-34                   [32, 128, 28, 28]         --\n",
        "│    │    └─Conv2d: 3-35                 [32, 512, 28, 28]         (65,536)\n",
        "│    │    └─BatchNorm2d: 3-36            [32, 512, 28, 28]         (1,024)\n",
        "│    │    └─Sequential: 3-37             [32, 512, 28, 28]         (132,096)\n",
        "│    │    └─ReLU: 3-38                   [32, 512, 28, 28]         --\n",
        "│    └─Bottleneck: 2-5                   [32, 512, 28, 28]         --\n",
        "│    │    └─Conv2d: 3-39                 [32, 128, 28, 28]         (65,536)\n",
        "│    │    └─BatchNorm2d: 3-40            [32, 128, 28, 28]         (256)\n",
        "│    │    └─ReLU: 3-41                   [32, 128, 28, 28]         --\n",
        "│    │    └─Conv2d: 3-42                 [32, 128, 28, 28]         (147,456)\n",
        "│    │    └─BatchNorm2d: 3-43            [32, 128, 28, 28]         (256)\n",
        "│    │    └─ReLU: 3-44                   [32, 128, 28, 28]         --\n",
        "│    │    └─Conv2d: 3-45                 [32, 512, 28, 28]         (65,536)\n",
        "│    │    └─BatchNorm2d: 3-46            [32, 512, 28, 28]         (1,024)\n",
        "│    │    └─ReLU: 3-47                   [32, 512, 28, 28]         --\n",
        "│    └─Bottleneck: 2-6                   [32, 512, 28, 28]         --\n",
        "│    │    └─Conv2d: 3-48                 [32, 128, 28, 28]         (65,536)\n",
        "│    │    └─BatchNorm2d: 3-49            [32, 128, 28, 28]         (256)\n",
        "│    │    └─ReLU: 3-50                   [32, 128, 28, 28]         --\n",
        "│    │    └─Conv2d: 3-51                 [32, 128, 28, 28]         (147,456)\n",
        "│    │    └─BatchNorm2d: 3-52            [32, 128, 28, 28]         (256)\n",
        "│    │    └─ReLU: 3-53                   [32, 128, 28, 28]         --\n",
        "│    │    └─Conv2d: 3-54                 [32, 512, 28, 28]         (65,536)\n",
        "│    │    └─BatchNorm2d: 3-55            [32, 512, 28, 28]         (1,024)\n",
        "│    │    └─ReLU: 3-56                   [32, 512, 28, 28]         --\n",
        "│    └─Bottleneck: 2-7                   [32, 512, 28, 28]         --\n",
        "│    │    └─Conv2d: 3-57                 [32, 128, 28, 28]         (65,536)\n",
        "│    │    └─BatchNorm2d: 3-58            [32, 128, 28, 28]         (256)\n",
        "│    │    └─ReLU: 3-59                   [32, 128, 28, 28]         --\n",
        "│    │    └─Conv2d: 3-60                 [32, 128, 28, 28]         (147,456)\n",
        "│    │    └─BatchNorm2d: 3-61            [32, 128, 28, 28]         (256)\n",
        "│    │    └─ReLU: 3-62                   [32, 128, 28, 28]         --\n",
        "│    │    └─Conv2d: 3-63                 [32, 512, 28, 28]         (65,536)\n",
        "│    │    └─BatchNorm2d: 3-64            [32, 512, 28, 28]         (1,024)\n",
        "│    │    └─ReLU: 3-65                   [32, 512, 28, 28]         --\n",
        "├─Sequential: 1-7                        [32, 1024, 14, 14]        --\n",
        "│    └─Bottleneck: 2-8                   [32, 1024, 14, 14]        --\n",
        "│    │    └─Conv2d: 3-66                 [32, 256, 28, 28]         (131,072)\n",
        "│    │    └─BatchNorm2d: 3-67            [32, 256, 28, 28]         (512)\n",
        "│    │    └─ReLU: 3-68                   [32, 256, 28, 28]         --\n",
        "│    │    └─Conv2d: 3-69                 [32, 256, 14, 14]         (589,824)\n",
        "│    │    └─BatchNorm2d: 3-70            [32, 256, 14, 14]         (512)\n",
        "│    │    └─ReLU: 3-71                   [32, 256, 14, 14]         --\n",
        "│    │    └─Conv2d: 3-72                 [32, 1024, 14, 14]        (262,144)\n",
        "│    │    └─BatchNorm2d: 3-73            [32, 1024, 14, 14]        (2,048)\n",
        "│    │    └─Sequential: 3-74             [32, 1024, 14, 14]        (526,336)\n",
        "│    │    └─ReLU: 3-75                   [32, 1024, 14, 14]        --\n",
        "│    └─Bottleneck: 2-9                   [32, 1024, 14, 14]        --\n",
        "│    │    └─Conv2d: 3-76                 [32, 256, 14, 14]         (262,144)\n",
        "│    │    └─BatchNorm2d: 3-77            [32, 256, 14, 14]         (512)\n",
        "│    │    └─ReLU: 3-78                   [32, 256, 14, 14]         --\n",
        "│    │    └─Conv2d: 3-79                 [32, 256, 14, 14]         (589,824)\n",
        "│    │    └─BatchNorm2d: 3-80            [32, 256, 14, 14]         (512)\n",
        "│    │    └─ReLU: 3-81                   [32, 256, 14, 14]         --\n",
        "│    │    └─Conv2d: 3-82                 [32, 1024, 14, 14]        (262,144)\n",
        "│    │    └─BatchNorm2d: 3-83            [32, 1024, 14, 14]        (2,048)\n",
        "│    │    └─ReLU: 3-84                   [32, 1024, 14, 14]        --\n",
        "│    └─Bottleneck: 2-10                  [32, 1024, 14, 14]        --\n",
        "│    │    └─Conv2d: 3-85                 [32, 256, 14, 14]         (262,144)\n",
        "│    │    └─BatchNorm2d: 3-86            [32, 256, 14, 14]         (512)\n",
        "│    │    └─ReLU: 3-87                   [32, 256, 14, 14]         --\n",
        "│    │    └─Conv2d: 3-88                 [32, 256, 14, 14]         (589,824)\n",
        "│    │    └─BatchNorm2d: 3-89            [32, 256, 14, 14]         (512)\n",
        "│    │    └─ReLU: 3-90                   [32, 256, 14, 14]         --\n",
        "│    │    └─Conv2d: 3-91                 [32, 1024, 14, 14]        (262,144)\n",
        "│    │    └─BatchNorm2d: 3-92            [32, 1024, 14, 14]        (2,048)\n",
        "│    │    └─ReLU: 3-93                   [32, 1024, 14, 14]        --\n",
        "│    └─Bottleneck: 2-11                  [32, 1024, 14, 14]        --\n",
        "│    │    └─Conv2d: 3-94                 [32, 256, 14, 14]         (262,144)\n",
        "│    │    └─BatchNorm2d: 3-95            [32, 256, 14, 14]         (512)\n",
        "│    │    └─ReLU: 3-96                   [32, 256, 14, 14]         --\n",
        "│    │    └─Conv2d: 3-97                 [32, 256, 14, 14]         (589,824)\n",
        "│    │    └─BatchNorm2d: 3-98            [32, 256, 14, 14]         (512)\n",
        "│    │    └─ReLU: 3-99                   [32, 256, 14, 14]         --\n",
        "│    │    └─Conv2d: 3-100                [32, 1024, 14, 14]        (262,144)\n",
        "│    │    └─BatchNorm2d: 3-101           [32, 1024, 14, 14]        (2,048)\n",
        "│    │    └─ReLU: 3-102                  [32, 1024, 14, 14]        --\n",
        "│    └─Bottleneck: 2-12                  [32, 1024, 14, 14]        --\n",
        "│    │    └─Conv2d: 3-103                [32, 256, 14, 14]         (262,144)\n",
        "│    │    └─BatchNorm2d: 3-104           [32, 256, 14, 14]         (512)\n",
        "│    │    └─ReLU: 3-105                  [32, 256, 14, 14]         --\n",
        "│    │    └─Conv2d: 3-106                [32, 256, 14, 14]         (589,824)\n",
        "│    │    └─BatchNorm2d: 3-107           [32, 256, 14, 14]         (512)\n",
        "│    │    └─ReLU: 3-108                  [32, 256, 14, 14]         --\n",
        "│    │    └─Conv2d: 3-109                [32, 1024, 14, 14]        (262,144)\n",
        "│    │    └─BatchNorm2d: 3-110           [32, 1024, 14, 14]        (2,048)\n",
        "│    │    └─ReLU: 3-111                  [32, 1024, 14, 14]        --\n",
        "│    └─Bottleneck: 2-13                  [32, 1024, 14, 14]        --\n",
        "│    │    └─Conv2d: 3-112                [32, 256, 14, 14]         (262,144)\n",
        "│    │    └─BatchNorm2d: 3-113           [32, 256, 14, 14]         (512)\n",
        "│    │    └─ReLU: 3-114                  [32, 256, 14, 14]         --\n",
        "│    │    └─Conv2d: 3-115                [32, 256, 14, 14]         (589,824)\n",
        "│    │    └─BatchNorm2d: 3-116           [32, 256, 14, 14]         (512)\n",
        "│    │    └─ReLU: 3-117                  [32, 256, 14, 14]         --\n",
        "│    │    └─Conv2d: 3-118                [32, 1024, 14, 14]        (262,144)\n",
        "│    │    └─BatchNorm2d: 3-119           [32, 1024, 14, 14]        (2,048)\n",
        "│    │    └─ReLU: 3-120                  [32, 1024, 14, 14]        --\n",
        "├─Sequential: 1-8                        [32, 2048, 7, 7]          --\n",
        "│    └─Bottleneck: 2-14                  [32, 2048, 7, 7]          --\n",
        "│    │    └─Conv2d: 3-121                [32, 512, 14, 14]         (524,288)\n",
        "│    │    └─BatchNorm2d: 3-122           [32, 512, 14, 14]         (1,024)\n",
        "│    │    └─ReLU: 3-123                  [32, 512, 14, 14]         --\n",
        "│    │    └─Conv2d: 3-124                [32, 512, 7, 7]           (2,359,296)\n",
        "│    │    └─BatchNorm2d: 3-125           [32, 512, 7, 7]           (1,024)\n",
        "│    │    └─ReLU: 3-126                  [32, 512, 7, 7]           --\n",
        "│    │    └─Conv2d: 3-127                [32, 2048, 7, 7]          (1,048,576)\n",
        "│    │    └─BatchNorm2d: 3-128           [32, 2048, 7, 7]          (4,096)\n",
        "│    │    └─Sequential: 3-129            [32, 2048, 7, 7]          (2,101,248)\n",
        "│    │    └─ReLU: 3-130                  [32, 2048, 7, 7]          --\n",
        "│    └─Bottleneck: 2-15                  [32, 2048, 7, 7]          --\n",
        "│    │    └─Conv2d: 3-131                [32, 512, 7, 7]           (1,048,576)\n",
        "│    │    └─BatchNorm2d: 3-132           [32, 512, 7, 7]           (1,024)\n",
        "│    │    └─ReLU: 3-133                  [32, 512, 7, 7]           --\n",
        "│    │    └─Conv2d: 3-134                [32, 512, 7, 7]           (2,359,296)\n",
        "│    │    └─BatchNorm2d: 3-135           [32, 512, 7, 7]           (1,024)\n",
        "│    │    └─ReLU: 3-136                  [32, 512, 7, 7]           --\n",
        "│    │    └─Conv2d: 3-137                [32, 2048, 7, 7]          (1,048,576)\n",
        "│    │    └─BatchNorm2d: 3-138           [32, 2048, 7, 7]          (4,096)\n",
        "│    │    └─ReLU: 3-139                  [32, 2048, 7, 7]          --\n",
        "│    └─Bottleneck: 2-16                  [32, 2048, 7, 7]          --\n",
        "│    │    └─Conv2d: 3-140                [32, 512, 7, 7]           (1,048,576)\n",
        "│    │    └─BatchNorm2d: 3-141           [32, 512, 7, 7]           (1,024)\n",
        "│    │    └─ReLU: 3-142                  [32, 512, 7, 7]           --\n",
        "│    │    └─Conv2d: 3-143                [32, 512, 7, 7]           (2,359,296)\n",
        "│    │    └─BatchNorm2d: 3-144           [32, 512, 7, 7]           (1,024)\n",
        "│    │    └─ReLU: 3-145                  [32, 512, 7, 7]           --\n",
        "│    │    └─Conv2d: 3-146                [32, 2048, 7, 7]          (1,048,576)\n",
        "│    │    └─BatchNorm2d: 3-147           [32, 2048, 7, 7]          (4,096)\n",
        "│    │    └─ReLU: 3-148                  [32, 2048, 7, 7]          --\n",
        "├─AdaptiveAvgPool2d: 1-9                 [32, 2048, 1, 1]          --\n",
        "├─Sequential: 1-10                       [32, 5]                   --\n",
        "│    └─Linear: 2-17                      [32, 256]                 524,544\n",
        "│    └─ReLU: 2-18                        [32, 256]                 --\n",
        "│    └─Dropout: 2-19                     [32, 256]                 --\n",
        "│    └─Linear: 2-20                      [32, 5]                   1,285\n",
        "==========================================================================================\n",
        "Total params: 24,033,861\n",
        "Trainable params: 525,829\n",
        "Non-trainable params: 23,508,032\n",
        "Total mult-adds (Units.GIGABYTES): 130.81\n",
        "==========================================================================================\n",
        "Input size (MB): 19.27\n",
        "Forward/backward pass size (MB): 5690.43\n",
        "Params size (MB): 96.14\n",
        "Estimated Total Size (MB): 5805.83\n",
        "=========================================================================================="
      ],
      "metadata": {
        "id": "E_v2sMSAZ_1q"
      },
      "execution_count": null,
      "outputs": []
    },
    {
      "cell_type": "markdown",
      "source": [
        "Among other things, the output of the summary displays the amount of trainable parameters the model has. And it has many!\n",
        "\n",
        "While we added Dropout, which helps with preventing overfitting, we'll go further and take another step to make sure we don't overfit. When we fit, we'll check model performance at every epoch and stop fitting when the model stops improving. This brings us to callbacks!"
      ],
      "metadata": {
        "id": "YOVkXrziaM7E"
      }
    },
    {
      "cell_type": "markdown",
      "source": [
        "### Training the Model with Callbacks"
      ],
      "metadata": {
        "id": "5u5V9EIvaQuj"
      }
    },
    {
      "cell_type": "markdown",
      "source": [
        "During the training of our model, we can use various callbacks. Callbacks allow us to customize and control the training process in fine-grained ways. We'll implement three key callbacks:\n",
        "        \n",
        "- **Learning Rate Scheduling**: Adjusts the learning rate over time, which can lead to better model performance.\n",
        "- **Early Stopping**: Halts training when the model's performance stops improving, which prevents overfitting. We'll stop if validation loss doesn't improve for at least 5 epochs.\n",
        "- **Checkpointing**: Saves the model every time validation loss gets better than in the epoch prior. This allows us to recover the best model once training completes.\n",
        "\n",
        "In order to use these callbacks, we need to implement them and then update the `train` function.\n",
        "\n",
        "For the Learning Rate Scheduling, we'll use `StepLR` from `torch.optim`. The `StepLR` scheduler decays the learning rate by multiplicative factor `gamma` every `step_size` epochs."
      ],
      "metadata": {
        "id": "eyB9ize_bZTa"
      }
    },
    {
      "cell_type": "markdown",
      "source": [
        "**Task 2.5.16:** Set `step_size` to $4$ and `gamma` factor to $0.2$. The rest of the code creates a `StepLR` Learning Rate Scheduler.\n",
        "\n",
        "**Scheduler**"
      ],
      "metadata": {
        "id": "GVW4VqL4doZC"
      }
    },
    {
      "cell_type": "code",
      "source": [
        "# Period of learning rate decay\n",
        "step_size = 4\n",
        "# Multiplicative factor of learning rate decay\n",
        "gamma = 0.2\n",
        "\n",
        "# Initialize the learning rate scheduler\n",
        "scheduler = StepLR(\n",
        "    optimizer,\n",
        "    step_size=step_size,\n",
        "    gamma=gamma,\n",
        ")\n",
        "\n",
        "print(type(scheduler))\n",
        "\n",
        "#output\n",
        "<class 'torch.optim.lr_scheduler.StepLR'>\n"
      ],
      "metadata": {
        "id": "S4iMVc5peoBs"
      },
      "execution_count": null,
      "outputs": []
    },
    {
      "cell_type": "markdown",
      "source": [
        "For Early Stopping, we'll create a function `early_stopping` that we'll call from within the `train` function. The `early_stopping` function accepts:\n",
        "- the current validation loss,\n",
        "- the best validation loss so far\n",
        "- the number of epochs since validation loss last improved (counter).\n",
        "\n",
        "In the function we need to check if validation loss improved. If yes, we reset the counter. If not, we add one to the counter. We also need to check if validation loss hasn't improved in the last 5 epochs. If that is the case, we should set stopping to `True`."
      ],
      "metadata": {
        "id": "sOxAqeM-e4fv"
      }
    },
    {
      "cell_type": "markdown",
      "source": [
        "**Task 2.5.17:** Fill in the missing code in the definition of the `early_stopping` function below.\n",
        "\n",
        "**Early Stopping**"
      ],
      "metadata": {
        "id": "r6JkdEpUe6pf"
      }
    },
    {
      "cell_type": "code",
      "source": [
        "def early_stopping(validation_loss, best_val_loss, counter):\n",
        "    \"\"\"Function that implements Early Stopping\"\"\"\n",
        "\n",
        "    stop = False\n",
        "\n",
        "    if validation_loss < best_val_loss:\n",
        "        counter = 0\n",
        "    else:\n",
        "        counter += 1\n",
        "\n",
        "    # Check if counter is >= patience (5 epochs in our case)\n",
        "    # Set stop variable accordingly\n",
        "    if counter >= 5:\n",
        "        stop = True\n",
        "\n",
        "    return counter, stop\n",
        "\n",
        "\n",
        "early_stopping?\n",
        "\n",
        "#output\n",
        "early_stopping?\n",
        "Signature: early_stopping(validation_loss, best_val_loss, counter)\n",
        "Docstring: Function that implements Early Stopping\n",
        "File:      /tmp/ipykernel_19/3971621482.py\n",
        "Type:      function"
      ],
      "metadata": {
        "id": "Vhc13MdyaMqo"
      },
      "execution_count": null,
      "outputs": []
    },
    {
      "cell_type": "markdown",
      "source": [
        "Now we'll define a function that will take care of Checkpointing. In this function we need to check if validation loss improved. If yes, we save the model.\n",
        "\n",
        "**Check Pointing**"
      ],
      "metadata": {
        "id": "hAlPVZCagG__"
      }
    },
    {
      "cell_type": "code",
      "source": [
        "def checkpointing(validation_loss, best_val_loss, model, optimizer, save_path):\n",
        "\n",
        "    if validation_loss < best_val_loss:\n",
        "        torch.save(\n",
        "            {\n",
        "                \"model_state_dict\": model.state_dict(),\n",
        "                \"optimizer_state_dict\": optimizer.state_dict(),\n",
        "                \"loss\": best_val_loss,\n",
        "            },\n",
        "            save_path,\n",
        "        )\n",
        "        print(f\"Checkpoint saved with validation loss {validation_loss:.4f}\")"
      ],
      "metadata": {
        "id": "DUVtQRjUgWex"
      },
      "execution_count": null,
      "outputs": []
    },
    {
      "cell_type": "markdown",
      "source": [
        "Now we're ready to modify the `train` function to include an option to use Callbacks.\n",
        "\n",
        "Notice that the modified `train` function below is quite similar to what we've used before. We just added `scheduler`, `checkpoint_path` and `early_stopping` as optional arguments. As you can see at the end of the modified `train` function, we use these three callbacks when function is called with appropriate inputs.\n",
        "\n",
        "**Training Model**"
      ],
      "metadata": {
        "id": "h1pWuIdhgrya"
      }
    },
    {
      "cell_type": "code",
      "source": [
        "from training import score, train_epoch\n",
        "\n",
        "\n",
        "def train(\n",
        "    model,\n",
        "    optimizer,\n",
        "    loss_fn,\n",
        "    train_loader,\n",
        "    val_loader,\n",
        "    epochs=20,\n",
        "    device=\"cpu\",\n",
        "    scheduler=None,\n",
        "    checkpoint_path=None,\n",
        "    early_stopping=None,\n",
        "):\n",
        "    # Track the model progress over epochs\n",
        "    train_losses = []\n",
        "    train_accuracies = []\n",
        "    val_losses = []\n",
        "    val_accuracies = []\n",
        "    learning_rates = []\n",
        "\n",
        "    # Create the trackers if needed for checkpointing and early stopping\n",
        "    best_val_loss = float(\"inf\")\n",
        "    early_stopping_counter = 0\n",
        "\n",
        "    print(\"Model evaluation before start of training...\")\n",
        "    # Test on training set\n",
        "    train_loss, train_accuracy = score(model, train_loader, loss_fn, device)\n",
        "    train_losses.append(train_loss)\n",
        "    train_accuracies.append(train_accuracy)\n",
        "    # Test on validation set\n",
        "    validation_loss, validation_accuracy = score(model, val_loader, loss_fn, device)\n",
        "    val_losses.append(validation_loss)\n",
        "    val_accuracies.append(validation_accuracy)\n",
        "\n",
        "    for epoch in range(1, epochs + 1):\n",
        "        print(\"\\n\")\n",
        "        print(f\"Starting epoch {epoch}/{epochs}\")\n",
        "\n",
        "        # Train one epoch\n",
        "        train_epoch(model, optimizer, loss_fn, train_loader, device)\n",
        "\n",
        "        # Evaluate training results\n",
        "        train_loss, train_accuracy = score(model, train_loader, loss_fn, device)\n",
        "        train_losses.append(train_loss)\n",
        "        train_accuracies.append(train_accuracy)\n",
        "\n",
        "        # Test on validation set\n",
        "        validation_loss, validation_accuracy = score(model, val_loader, loss_fn, device)\n",
        "        val_losses.append(validation_loss)\n",
        "        val_accuracies.append(validation_accuracy)\n",
        "\n",
        "        print(f\"Epoch: {epoch}\")\n",
        "        print(f\"Training loss: {train_loss:.4f}\")\n",
        "        print(f\"Training accuracy: {train_accuracy*100:.4f}%\")\n",
        "        print(f\"Validation loss: {validation_loss:.4f}\")\n",
        "        print(f\"Validation accuracy: {validation_accuracy*100:.4f}%\")\n",
        "\n",
        "        # # Log the learning rate and have the scheduler adjust it\n",
        "        lr = optimizer.param_groups[0][\"lr\"]\n",
        "        learning_rates.append(lr)\n",
        "        if scheduler:\n",
        "            scheduler.step()\n",
        "\n",
        "        # Checkpointing saves the model if current model is better than best so far\n",
        "        if checkpoint_path:\n",
        "            checkpointing(\n",
        "                validation_loss, best_val_loss, model, optimizer, checkpoint_path\n",
        "            )\n",
        "\n",
        "        # Early Stopping\n",
        "        if early_stopping:\n",
        "            early_stopping_counter, stop = early_stopping(\n",
        "                validation_loss, best_val_loss, early_stopping_counter\n",
        "            )\n",
        "            if stop:\n",
        "                print(f\"Early stopping triggered after {epoch} epochs\")\n",
        "                break\n",
        "\n",
        "        if validation_loss < best_val_loss:\n",
        "            best_val_loss = validation_loss\n",
        "\n",
        "    return (\n",
        "        learning_rates,\n",
        "        train_losses,\n",
        "        val_losses,\n",
        "        train_accuracies,\n",
        "        val_accuracies,\n",
        "        epoch,\n",
        "    )"
      ],
      "metadata": {
        "id": "udZ0vi2UhIaZ"
      },
      "execution_count": null,
      "outputs": []
    },
    {
      "cell_type": "markdown",
      "source": [
        "With our model and callbacks ready, we'll proceed to train the model. During this phase, we'll observe how callbacks affect the training process and ultimately, the model's performance.\n",
        "\n",
        "Because we implemented early stopping, the model will stop training once its performance no longer improves. So we can set off to train for many epochs and training will stop when the model stops improving."
      ],
      "metadata": {
        "id": "jQyeCOo-h-Wk"
      }
    },
    {
      "cell_type": "markdown",
      "source": [
        "**Task 2.5.18:** Define the number of training epochs to equal 50. The rest of the code provided below will call the `train` function and start the training. Note that this can take a while to run."
      ],
      "metadata": {
        "id": "SU0RK0_DiP7T"
      }
    },
    {
      "cell_type": "code",
      "source": [
        "epochs_to_train = 50\n",
        "\n",
        "train_results = train(\n",
        "    model,\n",
        "    optimizer,\n",
        "    loss_fn,\n",
        "    train_loader,\n",
        "    val_loader,\n",
        "    epochs=epochs_to_train,\n",
        "    device=device,\n",
        "    scheduler=scheduler,\n",
        "    checkpoint_path=\"model/LR_model.pth\",\n",
        "    early_stopping=early_stopping,\n",
        ")\n",
        "\n",
        "(\n",
        "    learning_rates,\n",
        "    train_losses,\n",
        "    valid_losses,\n",
        "    train_accuracies,\n",
        "    valid_accuracies,\n",
        "    epochs,\n",
        ") = train_results"
      ],
      "metadata": {
        "id": "fpGiLipMiQxc"
      },
      "execution_count": null,
      "outputs": []
    },
    {
      "cell_type": "markdown",
      "source": [
        "**[RECOMMENDED]** Load the pre-trained model:"
      ],
      "metadata": {
        "id": "rdtLWqeSi9KC"
      }
    },
    {
      "cell_type": "code",
      "source": [
        "epochs = 15\n",
        "model = torch.load(\"model_trained.pth\", weights_only=False)\n",
        "model.to(device)\n",
        "\n",
        "#output\n",
        "ResNet(\n",
        "  (conv1): Conv2d(3, 64, kernel_size=(7, 7), stride=(2, 2), padding=(3, 3), bias=False)\n",
        "  (bn1): BatchNorm2d(64, eps=1e-05, momentum=0.1, affine=True, track_running_stats=True)\n",
        "  (relu): ReLU(inplace=True)\n",
        "  (maxpool): MaxPool2d(kernel_size=3, stride=2, padding=1, dilation=1, ceil_mode=False)\n",
        "  (layer1): Sequential(\n",
        "    (0): Bottleneck(\n",
        "      (conv1): Conv2d(64, 64, kernel_size=(1, 1), stride=(1, 1), bias=False)\n",
        "      (bn1): BatchNorm2d(64, eps=1e-05, momentum=0.1, affine=True, track_running_stats=True)\n",
        "      (conv2): Conv2d(64, 64, kernel_size=(3, 3), stride=(1, 1), padding=(1, 1), bias=False)\n",
        "      (bn2): BatchNorm2d(64, eps=1e-05, momentum=0.1, affine=True, track_running_stats=True)\n",
        "      (conv3): Conv2d(64, 256, kernel_size=(1, 1), stride=(1, 1), bias=False)\n",
        "      (bn3): BatchNorm2d(256, eps=1e-05, momentum=0.1, affine=True, track_running_stats=True)\n",
        "      (relu): ReLU(inplace=True)\n",
        "      (downsample): Sequential(\n",
        "        (0): Conv2d(64, 256, kernel_size=(1, 1), stride=(1, 1), bias=False)\n",
        "        (1): BatchNorm2d(256, eps=1e-05, momentum=0.1, affine=True, track_running_stats=True)\n",
        "      )\n",
        "    )\n",
        "    (1): Bottleneck(\n",
        "      (conv1): Conv2d(256, 64, kernel_size=(1, 1), stride=(1, 1), bias=False)\n",
        "      (bn1): BatchNorm2d(64, eps=1e-05, momentum=0.1, affine=True, track_running_stats=True)\n",
        "      (conv2): Conv2d(64, 64, kernel_size=(3, 3), stride=(1, 1), padding=(1, 1), bias=False)\n",
        "      (bn2): BatchNorm2d(64, eps=1e-05, momentum=0.1, affine=True, track_running_stats=True)\n",
        "      (conv3): Conv2d(64, 256, kernel_size=(1, 1), stride=(1, 1), bias=False)\n",
        "      (bn3): BatchNorm2d(256, eps=1e-05, momentum=0.1, affine=True, track_running_stats=True)\n",
        "      (relu): ReLU(inplace=True)\n",
        "    )\n",
        "    (2): Bottleneck(\n",
        "      (conv1): Conv2d(256, 64, kernel_size=(1, 1), stride=(1, 1), bias=False)\n",
        "      (bn1): BatchNorm2d(64, eps=1e-05, momentum=0.1, affine=True, track_running_stats=True)\n",
        "      (conv2): Conv2d(64, 64, kernel_size=(3, 3), stride=(1, 1), padding=(1, 1), bias=False)\n",
        "      (bn2): BatchNorm2d(64, eps=1e-05, momentum=0.1, affine=True, track_running_stats=True)\n",
        "      (conv3): Conv2d(64, 256, kernel_size=(1, 1), stride=(1, 1), bias=False)\n",
        "      (bn3): BatchNorm2d(256, eps=1e-05, momentum=0.1, affine=True, track_running_stats=True)\n",
        "      (relu): ReLU(inplace=True)\n",
        "    )\n",
        "  )\n",
        "  (layer2): Sequential(\n",
        "    (0): Bottleneck(\n",
        "      (conv1): Conv2d(256, 128, kernel_size=(1, 1), stride=(1, 1), bias=False)\n",
        "      (bn1): BatchNorm2d(128, eps=1e-05, momentum=0.1, affine=True, track_running_stats=True)\n",
        "      (conv2): Conv2d(128, 128, kernel_size=(3, 3), stride=(2, 2), padding=(1, 1), bias=False)\n",
        "      (bn2): BatchNorm2d(128, eps=1e-05, momentum=0.1, affine=True, track_running_stats=True)\n",
        "      (conv3): Conv2d(128, 512, kernel_size=(1, 1), stride=(1, 1), bias=False)\n",
        "      (bn3): BatchNorm2d(512, eps=1e-05, momentum=0.1, affine=True, track_running_stats=True)\n",
        "      (relu): ReLU(inplace=True)\n",
        "      (downsample): Sequential(\n",
        "        (0): Conv2d(256, 512, kernel_size=(1, 1), stride=(2, 2), bias=False)\n",
        "        (1): BatchNorm2d(512, eps=1e-05, momentum=0.1, affine=True, track_running_stats=True)\n",
        "      )\n",
        "    )\n",
        "    (1): Bottleneck(\n",
        "      (conv1): Conv2d(512, 128, kernel_size=(1, 1), stride=(1, 1), bias=False)\n",
        "      (bn1): BatchNorm2d(128, eps=1e-05, momentum=0.1, affine=True, track_running_stats=True)\n",
        "      (conv2): Conv2d(128, 128, kernel_size=(3, 3), stride=(1, 1), padding=(1, 1), bias=False)\n",
        "      (bn2): BatchNorm2d(128, eps=1e-05, momentum=0.1, affine=True, track_running_stats=True)\n",
        "      (conv3): Conv2d(128, 512, kernel_size=(1, 1), stride=(1, 1), bias=False)\n",
        "      (bn3): BatchNorm2d(512, eps=1e-05, momentum=0.1, affine=True, track_running_stats=True)\n",
        "      (relu): ReLU(inplace=True)\n",
        "    )\n",
        "    (2): Bottleneck(\n",
        "      (conv1): Conv2d(512, 128, kernel_size=(1, 1), stride=(1, 1), bias=False)\n",
        "      (bn1): BatchNorm2d(128, eps=1e-05, momentum=0.1, affine=True, track_running_stats=True)\n",
        "      (conv2): Conv2d(128, 128, kernel_size=(3, 3), stride=(1, 1), padding=(1, 1), bias=False)\n",
        "      (bn2): BatchNorm2d(128, eps=1e-05, momentum=0.1, affine=True, track_running_stats=True)\n",
        "      (conv3): Conv2d(128, 512, kernel_size=(1, 1), stride=(1, 1), bias=False)\n",
        "      (bn3): BatchNorm2d(512, eps=1e-05, momentum=0.1, affine=True, track_running_stats=True)\n",
        "      (relu): ReLU(inplace=True)\n",
        "    )\n",
        "    (3): Bottleneck(\n",
        "      (conv1): Conv2d(512, 128, kernel_size=(1, 1), stride=(1, 1), bias=False)\n",
        "      (bn1): BatchNorm2d(128, eps=1e-05, momentum=0.1, affine=True, track_running_stats=True)\n",
        "      (conv2): Conv2d(128, 128, kernel_size=(3, 3), stride=(1, 1), padding=(1, 1), bias=False)\n",
        "      (bn2): BatchNorm2d(128, eps=1e-05, momentum=0.1, affine=True, track_running_stats=True)\n",
        "      (conv3): Conv2d(128, 512, kernel_size=(1, 1), stride=(1, 1), bias=False)\n",
        "      (bn3): BatchNorm2d(512, eps=1e-05, momentum=0.1, affine=True, track_running_stats=True)\n",
        "      (relu): ReLU(inplace=True)\n",
        "    )\n",
        "  )\n",
        "  (layer3): Sequential(\n",
        "    (0): Bottleneck(\n",
        "      (conv1): Conv2d(512, 256, kernel_size=(1, 1), stride=(1, 1), bias=False)\n",
        "      (bn1): BatchNorm2d(256, eps=1e-05, momentum=0.1, affine=True, track_running_stats=True)\n",
        "      (conv2): Conv2d(256, 256, kernel_size=(3, 3), stride=(2, 2), padding=(1, 1), bias=False)\n",
        "      (bn2): BatchNorm2d(256, eps=1e-05, momentum=0.1, affine=True, track_running_stats=True)\n",
        "      (conv3): Conv2d(256, 1024, kernel_size=(1, 1), stride=(1, 1), bias=False)\n",
        "      (bn3): BatchNorm2d(1024, eps=1e-05, momentum=0.1, affine=True, track_running_stats=True)\n",
        "      (relu): ReLU(inplace=True)\n",
        "      (downsample): Sequential(\n",
        "        (0): Conv2d(512, 1024, kernel_size=(1, 1), stride=(2, 2), bias=False)\n",
        "        (1): BatchNorm2d(1024, eps=1e-05, momentum=0.1, affine=True, track_running_stats=True)\n",
        "      )\n",
        "    )\n",
        "    (1): Bottleneck(\n",
        "      (conv1): Conv2d(1024, 256, kernel_size=(1, 1), stride=(1, 1), bias=False)\n",
        "      (bn1): BatchNorm2d(256, eps=1e-05, momentum=0.1, affine=True, track_running_stats=True)\n",
        "      (conv2): Conv2d(256, 256, kernel_size=(3, 3), stride=(1, 1), padding=(1, 1), bias=False)\n",
        "      (bn2): BatchNorm2d(256, eps=1e-05, momentum=0.1, affine=True, track_running_stats=True)\n",
        "      (conv3): Conv2d(256, 1024, kernel_size=(1, 1), stride=(1, 1), bias=False)\n",
        "      (bn3): BatchNorm2d(1024, eps=1e-05, momentum=0.1, affine=True, track_running_stats=True)\n",
        "      (relu): ReLU(inplace=True)\n",
        "    )\n",
        "    (2): Bottleneck(\n",
        "      (conv1): Conv2d(1024, 256, kernel_size=(1, 1), stride=(1, 1), bias=False)\n",
        "      (bn1): BatchNorm2d(256, eps=1e-05, momentum=0.1, affine=True, track_running_stats=True)\n",
        "      (conv2): Conv2d(256, 256, kernel_size=(3, 3), stride=(1, 1), padding=(1, 1), bias=False)\n",
        "      (bn2): BatchNorm2d(256, eps=1e-05, momentum=0.1, affine=True, track_running_stats=True)\n",
        "      (conv3): Conv2d(256, 1024, kernel_size=(1, 1), stride=(1, 1), bias=False)\n",
        "      (bn3): BatchNorm2d(1024, eps=1e-05, momentum=0.1, affine=True, track_running_stats=True)\n",
        "      (relu): ReLU(inplace=True)\n",
        "    )\n",
        "    (3): Bottleneck(\n",
        "      (conv1): Conv2d(1024, 256, kernel_size=(1, 1), stride=(1, 1), bias=False)\n",
        "      (bn1): BatchNorm2d(256, eps=1e-05, momentum=0.1, affine=True, track_running_stats=True)\n",
        "      (conv2): Conv2d(256, 256, kernel_size=(3, 3), stride=(1, 1), padding=(1, 1), bias=False)\n",
        "      (bn2): BatchNorm2d(256, eps=1e-05, momentum=0.1, affine=True, track_running_stats=True)\n",
        "      (conv3): Conv2d(256, 1024, kernel_size=(1, 1), stride=(1, 1), bias=False)\n",
        "      (bn3): BatchNorm2d(1024, eps=1e-05, momentum=0.1, affine=True, track_running_stats=True)\n",
        "      (relu): ReLU(inplace=True)\n",
        "    )\n",
        "    (4): Bottleneck(\n",
        "      (conv1): Conv2d(1024, 256, kernel_size=(1, 1), stride=(1, 1), bias=False)\n",
        "      (bn1): BatchNorm2d(256, eps=1e-05, momentum=0.1, affine=True, track_running_stats=True)\n",
        "      (conv2): Conv2d(256, 256, kernel_size=(3, 3), stride=(1, 1), padding=(1, 1), bias=False)\n",
        "      (bn2): BatchNorm2d(256, eps=1e-05, momentum=0.1, affine=True, track_running_stats=True)\n",
        "      (conv3): Conv2d(256, 1024, kernel_size=(1, 1), stride=(1, 1), bias=False)\n",
        "      (bn3): BatchNorm2d(1024, eps=1e-05, momentum=0.1, affine=True, track_running_stats=True)\n",
        "      (relu): ReLU(inplace=True)\n",
        "    )\n",
        "    (5): Bottleneck(\n",
        "      (conv1): Conv2d(1024, 256, kernel_size=(1, 1), stride=(1, 1), bias=False)\n",
        "      (bn1): BatchNorm2d(256, eps=1e-05, momentum=0.1, affine=True, track_running_stats=True)\n",
        "      (conv2): Conv2d(256, 256, kernel_size=(3, 3), stride=(1, 1), padding=(1, 1), bias=False)\n",
        "      (bn2): BatchNorm2d(256, eps=1e-05, momentum=0.1, affine=True, track_running_stats=True)\n",
        "      (conv3): Conv2d(256, 1024, kernel_size=(1, 1), stride=(1, 1), bias=False)\n",
        "      (bn3): BatchNorm2d(1024, eps=1e-05, momentum=0.1, affine=True, track_running_stats=True)\n",
        "      (relu): ReLU(inplace=True)\n",
        "    )\n",
        "  )\n",
        "  (layer4): Sequential(\n",
        "    (0): Bottleneck(\n",
        "      (conv1): Conv2d(1024, 512, kernel_size=(1, 1), stride=(1, 1), bias=False)\n",
        "      (bn1): BatchNorm2d(512, eps=1e-05, momentum=0.1, affine=True, track_running_stats=True)\n",
        "      (conv2): Conv2d(512, 512, kernel_size=(3, 3), stride=(2, 2), padding=(1, 1), bias=False)\n",
        "      (bn2): BatchNorm2d(512, eps=1e-05, momentum=0.1, affine=True, track_running_stats=True)\n",
        "      (conv3): Conv2d(512, 2048, kernel_size=(1, 1), stride=(1, 1), bias=False)\n",
        "      (bn3): BatchNorm2d(2048, eps=1e-05, momentum=0.1, affine=True, track_running_stats=True)\n",
        "      (relu): ReLU(inplace=True)\n",
        "      (downsample): Sequential(\n",
        "        (0): Conv2d(1024, 2048, kernel_size=(1, 1), stride=(2, 2), bias=False)\n",
        "        (1): BatchNorm2d(2048, eps=1e-05, momentum=0.1, affine=True, track_running_stats=True)\n",
        "      )\n",
        "    )\n",
        "    (1): Bottleneck(\n",
        "      (conv1): Conv2d(2048, 512, kernel_size=(1, 1), stride=(1, 1), bias=False)\n",
        "      (bn1): BatchNorm2d(512, eps=1e-05, momentum=0.1, affine=True, track_running_stats=True)\n",
        "      (conv2): Conv2d(512, 512, kernel_size=(3, 3), stride=(1, 1), padding=(1, 1), bias=False)\n",
        "      (bn2): BatchNorm2d(512, eps=1e-05, momentum=0.1, affine=True, track_running_stats=True)\n",
        "      (conv3): Conv2d(512, 2048, kernel_size=(1, 1), stride=(1, 1), bias=False)\n",
        "      (bn3): BatchNorm2d(2048, eps=1e-05, momentum=0.1, affine=True, track_running_stats=True)\n",
        "      (relu): ReLU(inplace=True)\n",
        "    )\n",
        "    (2): Bottleneck(\n",
        "      (conv1): Conv2d(2048, 512, kernel_size=(1, 1), stride=(1, 1), bias=False)\n",
        "      (bn1): BatchNorm2d(512, eps=1e-05, momentum=0.1, affine=True, track_running_stats=True)\n",
        "      (conv2): Conv2d(512, 512, kernel_size=(3, 3), stride=(1, 1), padding=(1, 1), bias=False)\n",
        "      (bn2): BatchNorm2d(512, eps=1e-05, momentum=0.1, affine=True, track_running_stats=True)\n",
        "      (conv3): Conv2d(512, 2048, kernel_size=(1, 1), stride=(1, 1), bias=False)\n",
        "      (bn3): BatchNorm2d(2048, eps=1e-05, momentum=0.1, affine=True, track_running_stats=True)\n",
        "      (relu): ReLU(inplace=True)\n",
        "    )\n",
        "  )\n",
        "  (avgpool): AdaptiveAvgPool2d(output_size=(1, 1))\n",
        "  (fc): Sequential(\n",
        "    (0): Linear(in_features=2048, out_features=256, bias=True)\n",
        "    (1): ReLU()\n",
        "    (2): Dropout(p=0.5, inplace=False)\n",
        "    (3): Linear(in_features=256, out_features=5, bias=True)\n",
        "  )\n",
        ")"
      ],
      "metadata": {
        "id": "NphIPDdJjBix"
      },
      "execution_count": null,
      "outputs": []
    },
    {
      "cell_type": "markdown",
      "source": [
        "Looks like the training indeed didn't go over all 50 epochs, but stopped earlier."
      ],
      "metadata": {
        "id": "OBXqzwlpjNtZ"
      }
    },
    {
      "cell_type": "code",
      "source": [
        "print(f\"Training went on for {epochs} number of epochs before it stopped.\")\n",
        "\n",
        "#output\n",
        "Training went on for 15 number of epochs before it stopped.\n"
      ],
      "metadata": {
        "id": "hlUqaYNUjRfy"
      },
      "execution_count": null,
      "outputs": []
    },
    {
      "cell_type": "markdown",
      "source": [
        "### Evaluation of the Training Process and the Model"
      ],
      "metadata": {
        "id": "qjRen_JVjYOK"
      }
    },
    {
      "cell_type": "markdown",
      "source": [
        "Now that the training's finished, we'll evaluate our model's performance and draw conclusions. We'll see how effectively our callbacks contributed to the training process and discuss the results. Let's first plot the learning curve!"
      ],
      "metadata": {
        "id": "ZdVVq0HUja6C"
      }
    },
    {
      "cell_type": "code",
      "source": [
        "import pandas as pd\n",
        "\n",
        "eval_metrics_df = pd.read_csv(\"pretrained_model_evaluation_metrics.csv\")\n",
        "train_losses = eval_metrics_df['train_losses'].values\n",
        "valid_losses = eval_metrics_df['valid_losses'].values\n",
        "train_accuracies = eval_metrics_df['train_accuracies'].values\n",
        "valid_accuracies = eval_metrics_df['valid_accuracies'].values\n",
        "learning_rates = eval_metrics_df['learning_rates'].dropna().values"
      ],
      "metadata": {
        "id": "3hD5ge_vlq1J"
      },
      "execution_count": null,
      "outputs": []
    },
    {
      "cell_type": "code",
      "source": [
        "plt.plot(train_losses, label=\"Training Loss\")\n",
        "plt.plot(valid_losses, label=\"Validation Loss\")\n",
        "plt.ylim([0, 1.7])\n",
        "plt.title(\"Loss over epochs\")\n",
        "plt.xlabel(\"Epochs\")\n",
        "plt.ylabel(\"Loss\")\n",
        "plt.legend();"
      ],
      "metadata": {
        "id": "DdsGlZJpl91I"
      },
      "execution_count": null,
      "outputs": []
    },
    {
      "cell_type": "markdown",
      "source": [
        "![Screenshot 2025-03-03 162343.png](data:image/png;base64,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)"
      ],
      "metadata": {
        "id": "aYmepd39m1uB"
      }
    },
    {
      "cell_type": "markdown",
      "source": [
        "**Task 2.5.19:** Complete the code below to plot train and validation accuracies. You can follow what we did above for plotting train and validation losses.\n",
        "\n",
        "**Training Accuracy and Validation Accurancy**"
      ],
      "metadata": {
        "id": "edyFRBsym3R9"
      }
    },
    {
      "cell_type": "code",
      "source": [
        "# Plot train accuracies, use label=\"Training Accuracy\"\n",
        "plt.plot(train_accuracies, label='Training Accuracy')\n",
        "\n",
        "# Plot validation accuracies, use label=\"Validation Accuracy\"\n",
        "plt.plot(valid_accuracies, label='Validation Accurancy')\n",
        "\n",
        "plt.ylim([0, 1])\n",
        "plt.title(\"Accuracy over epochs\")\n",
        "plt.xlabel(\"Epochs\")\n",
        "plt.ylabel(\"Accuracy\")\n",
        "plt.legend();"
      ],
      "metadata": {
        "id": "IqL0gyOZn4Jv"
      },
      "execution_count": null,
      "outputs": []
    },
    {
      "cell_type": "markdown",
      "source": [
        "From the learning curve we see that overall training loss decreases and accuracy increases. Validation loss does not seem to improve that much beyond the first couple of epochs.\n",
        "\n",
        "Let's also inspect how the learning rate was changing during training due to the fact that we used a Learning Rate Scheduling Callback."
      ],
      "metadata": {
        "id": "VG8FfqMQoKdM"
      }
    },
    {
      "cell_type": "markdown",
      "source": [
        "![Screenshot 2025-03-03 162936.png](data:image/png;base64,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)"
      ],
      "metadata": {
        "id": "lr-FrzUjomqp"
      }
    },
    {
      "cell_type": "code",
      "source": [
        "# Plot the learning rates\n",
        "plt.figure(figsize=(10, 6))\n",
        "plt.plot(range(1, epochs + 1), learning_rates, marker=\"o\", label=\"Learning Rate\")\n",
        "plt.title(\"Learning Rate Schedule\")\n",
        "plt.xlabel(\"Epoch\")\n",
        "plt.ylabel(\"Learning Rate\")\n",
        "plt.show()"
      ],
      "metadata": {
        "id": "xq0VxUREoS-k"
      },
      "execution_count": null,
      "outputs": []
    },
    {
      "cell_type": "markdown",
      "source": [
        "![Screenshot 2025-03-03 163100.png](data:image/png;base64,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)"
      ],
      "metadata": {
        "id": "RXftf9H1oX7i"
      }
    },
    {
      "cell_type": "markdown",
      "source": [
        "As expected, the learning rate decreases as our training progresses.\n",
        "\n",
        "Now it's time load the best model that we saved with checkpointing!"
      ],
      "metadata": {
        "id": "kimMpX-9ojEt"
      }
    },
    {
      "cell_type": "code",
      "source": [
        "checkpoint = torch.load(\"model/LR_model.pth\")\n",
        "\n",
        "# Load the state dictionaries\n",
        "model.load_state_dict(checkpoint[\"model_state_dict\"])\n",
        "optimizer.load_state_dict(checkpoint[\"optimizer_state_dict\"])"
      ],
      "metadata": {
        "id": "jsRk4Mjio3Ui"
      },
      "execution_count": null,
      "outputs": []
    },
    {
      "cell_type": "markdown",
      "source": [
        "Let's compute the confusion matrix for our model using the validation data, like we did in previous lessons.\n",
        "\n",
        "We'll obtain the probabilities that our model predicts by using the `predict` function from `training.py`. This function expects the model, the loader and the device as input arguments."
      ],
      "metadata": {
        "id": "jSmaSiyrpRsy"
      }
    },
    {
      "cell_type": "markdown",
      "source": [
        "**Task 2.5.20:** Use the `predict` function from `training.py` to compute probabilities that our model predicts on the validation data. Then use `torch.argmax` and take these probabilities to compute the predicted classes."
      ],
      "metadata": {
        "id": "HHBlQIbLpSpK"
      }
    },
    {
      "cell_type": "code",
      "source": [
        "from training import predict\n",
        "\n",
        "probabilities_val = predict(model, val_loader, device)\n",
        "predictions_val = torch.argmax(probabilities_val, dim=1)\n",
        "\n",
        "print(predictions_val)\n",
        "\n",
        "#output\n",
        "tensor([4, 0, 0,  ..., 1, 4, 1], device='cuda:0')\n"
      ],
      "metadata": {
        "id": "q2rYvze3pU7q"
      },
      "execution_count": null,
      "outputs": []
    },
    {
      "cell_type": "markdown",
      "source": [
        "Now we'll get the target values and compute the confusion matrix. Again, same as we've done before."
      ],
      "metadata": {
        "id": "cgrIVsviqmj5"
      }
    },
    {
      "cell_type": "code",
      "source": [
        "targets_val = torch.cat([labels for _, labels in tqdm(val_loader, desc=\"Get Labels\")])\n",
        "\n",
        "cm = confusion_matrix(targets_val.cpu(), predictions_val.cpu())\n",
        "\n",
        "disp = ConfusionMatrixDisplay(confusion_matrix=cm, display_labels=classes)\n",
        "\n",
        "# Set figure size\n",
        "plt.figure(figsize=(10, 8))\n",
        "\n",
        "disp.plot(cmap=plt.cm.Blues, xticks_rotation=\"vertical\");"
      ],
      "metadata": {
        "id": "fPTAu_EXquUr"
      },
      "execution_count": null,
      "outputs": []
    },
    {
      "cell_type": "markdown",
      "source": [
        "![Screenshot 2025-03-03 175353.png](data:image/png;base64,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)"
      ],
      "metadata": {
        "id": "D5-0TPtiqvfj"
      }
    },
    {
      "cell_type": "markdown",
      "source": [
        "Well done, looks good! We're ready to use this model on our test set and prepare a CSV file that we can submit to the competition."
      ],
      "metadata": {
        "id": "ttgaQoHTq4oQ"
      }
    },
    {
      "cell_type": "markdown",
      "source": [
        "### Submission to Competition"
      ],
      "metadata": {
        "id": "4cUC5l38q7AL"
      }
    },
    {
      "cell_type": "markdown",
      "source": [
        "The competition submission should contain predicted probabilities for each of the $5$ classes on a test set. So we'll need to run each test image through our model.\n",
        "\n",
        "Let's first find the test images. They are located in the `test` subdirectory within the `data_p2` directory."
      ],
      "metadata": {
        "id": "GnZ9ocvVtciC"
      }
    },
    {
      "cell_type": "markdown",
      "source": [
        "**Task 2.5.21:** Assign `test_dir` the path to the test data using `os.path.join`."
      ],
      "metadata": {
        "id": "Qzwyfolrtjst"
      }
    },
    {
      "cell_type": "code",
      "source": [
        "test_dir = os.path.join('data_p2', 'test')\n",
        "\n",
        "print(test_dir)"
      ],
      "metadata": {
        "id": "MFT8XcuatmKL"
      },
      "execution_count": null,
      "outputs": []
    },
    {
      "cell_type": "markdown",
      "source": [
        "The competition requires us to save the model predictions as a CSV file. The first column should be called ID and contains the image filename. The rest of the columns should be labeled by the class name.\n",
        "\n",
        "In order to get predicted probabilities of our model, we'll create a function `file_to_confidence` which is similar to what we created for this purpose in Project 1. The function makes model predictions on a single image. The steps in the function are:\n",
        "- Open the image.\n",
        "- Apply our transformation pipeline to the image as our model expects.\n",
        "- Use `unsqueeze` to change the image tensor to 4D ($1$ x $3$ x $224$ x $224$) as our model is expecting a batch of images.\n",
        "- Place image on device we're using.\n",
        "- Make prediction and pass it through a `SoftMax` to get probabilities (numbers between $0$ and $1$, that sum to $1$).\n",
        "- Convert result to a DataFrame"
      ],
      "metadata": {
        "id": "3nuSOjX9txbT"
      }
    },
    {
      "cell_type": "code",
      "source": [
        "model.to(device)\n",
        "\n",
        "\n",
        "def file_to_confidence(model, datadir, filename, transform_pipeline):\n",
        "    file_path = os.path.join(datadir, filename)\n",
        "    image = PIL.Image.open(file_path)\n",
        "    transformed = transform_pipeline(image)\n",
        "    unsqueezed = transformed.unsqueeze(0)\n",
        "    image_cuda = unsqueezed.to(device)\n",
        "\n",
        "    model.eval()\n",
        "    with torch.no_grad():\n",
        "        model_raw = model(image_cuda)\n",
        "        confidence = torch.nn.functional.softmax(model_raw, dim=1)\n",
        "\n",
        "    conf_df = pd.DataFrame([[filename] + confidence.tolist()[0]])\n",
        "    conf_df.columns = [\"ID\"] + train_dataset.dataset.classes\n",
        "\n",
        "    return conf_df"
      ],
      "metadata": {
        "id": "J-9qkMMYtyq-"
      },
      "execution_count": null,
      "outputs": []
    },
    {
      "cell_type": "markdown",
      "source": [
        "Just to make sure this is working, let's call this function on a training image from the cassava mosaic disease class for example."
      ],
      "metadata": {
        "id": "4q0mRE4Hz_yo"
      }
    },
    {
      "cell_type": "code",
      "source": [
        "mosaic_train_dir = os.path.join(\"data_p2\", \"train\", \"cassava-mosaic-disease-cmd\")\n",
        "mosaic_images = os.listdir(mosaic_train_dir)\n",
        "\n",
        "file_to_confidence(model, mosaic_train_dir, mosaic_images[0], transform_normalized)\n"
      ],
      "metadata": {
        "id": "oR3mOvYx0kLl"
      },
      "execution_count": null,
      "outputs": []
    },
    {
      "cell_type": "markdown",
      "source": [
        "![Screenshot 2025-03-03 172526.png](data:image/png;base64,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)"
      ],
      "metadata": {
        "id": "vF5hoAfq07ua"
      }
    },
    {
      "cell_type": "markdown",
      "source": [
        "Looks alright! The largest predicted probability on this mosaic image is for the mosaic disease class.\n",
        "\n",
        "Let's try one more."
      ],
      "metadata": {
        "id": "4cVvx92t09VW"
      }
    },
    {
      "cell_type": "code",
      "source": [
        "file_to_confidence(model, mosaic_train_dir, mosaic_images[1], transform_normalized)"
      ],
      "metadata": {
        "id": "DD_ATYCl1L95"
      },
      "execution_count": null,
      "outputs": []
    },
    {
      "cell_type": "markdown",
      "source": [
        "![Screenshot 2025-03-03 172709.png](data:image/png;base64,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)"
      ],
      "metadata": {
        "id": "v4BXyY261UXI"
      }
    },
    {
      "cell_type": "markdown",
      "source": [
        "**Task 2.5.22:** Fill in the missing code below and use `pd.concat` to assemble the list of DataFrames `small_dfs` into one big DataFrame."
      ],
      "metadata": {
        "id": "Whu7xiw91V21"
      }
    },
    {
      "cell_type": "code",
      "source": [
        "small_dfs = []\n",
        "\n",
        "for filename in tqdm(os.listdir(test_dir), desc=\"Predicting on test set\"):\n",
        "    small_dfs.append(\n",
        "        file_to_confidence(model, test_dir, filename, transform_normalized)\n",
        "    )\n",
        "\n",
        "confidence_df = pd.concat(small_dfs, ignore_index=True)\n",
        "\n",
        "confidence_df = confidence_df.sort_values(\"ID\").reset_index(drop=True)\n",
        "confidence_df.head()"
      ],
      "metadata": {
        "id": "f0VvckQC1k5j"
      },
      "execution_count": null,
      "outputs": []
    },
    {
      "cell_type": "markdown",
      "source": [
        "![Screenshot 2025-03-03 175101.png](data:image/png;base64,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)"
      ],
      "metadata": {
        "id": "__Gf0exF6xxc"
      }
    },
    {
      "cell_type": "markdown",
      "source": [
        "Finally, save the dataframe as a CSV in `submission.csv`."
      ],
      "metadata": {
        "id": "RNZXD3i01dor"
      }
    },
    {
      "cell_type": "code",
      "source": [
        "confidence_df.to_csv(\"submission.csv\", index=False)"
      ],
      "metadata": {
        "id": "XuId2W1s1pOh"
      },
      "execution_count": null,
      "outputs": []
    },
    {
      "cell_type": "markdown",
      "source": [
        "### Conclusion"
      ],
      "metadata": {
        "id": "sVe6Ytjp1sJw"
      }
    },
    {
      "cell_type": "markdown",
      "source": [
        "Great! 🎉 We accomplished a lot in this notebook. Here are the key takeaways:\n",
        "\n",
        "- We used Transfer Learning to take a large existing model and specialize it to our competition.\n",
        "- We trained that model with the balanced dataset we created in an earlier lesson.\n",
        "- We implemented Callbacks using additional code in the training loop.\n",
        "- The Callbacks we implemented were: Learning Rate Scheduling, Checkpointing, and Early Stopping.\n",
        "- By reformatting the predictions of the model on the test set, we obtained a CSV file for competition submission."
      ],
      "metadata": {
        "id": "uSXOhPK51ugT"
      }
    }
  ]
}