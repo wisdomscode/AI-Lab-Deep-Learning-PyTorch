{
  "nbformat": 4,
  "nbformat_minor": 0,
  "metadata": {
    "colab": {
      "provenance": [],
      "gpuType": "T4",
      "authorship_tag": "ABX9TyNgUWraMwQ5VvlwkyqAYwji",
      "include_colab_link": true
    },
    "kernelspec": {
      "name": "python3",
      "display_name": "Python 3"
    },
    "language_info": {
      "name": "python"
    },
    "accelerator": "GPU"
  },
  "cells": [
    {
      "cell_type": "markdown",
      "metadata": {
        "id": "view-in-github",
        "colab_type": "text"
      },
      "source": [
        "<a href=\"https://colab.research.google.com/github/wisdomscode/AI-Lab-Deep-Learning-PyTorch/blob/main/AI_Lab_Disease_Detection_In_Cassava_7_Transfer_Learning.ipynb\" target=\"_parent\"><img src=\"https://colab.research.google.com/assets/colab-badge.svg\" alt=\"Open In Colab\"/></a>"
      ]
    },
    {
      "cell_type": "code",
      "execution_count": null,
      "metadata": {
        "id": "XbGby1wh4tBg"
      },
      "outputs": [],
      "source": []
    },
    {
      "cell_type": "markdown",
      "source": [
        "# Transfer Learning and Cross Validation"
      ],
      "metadata": {
        "id": "pPxM1FaU5v4g"
      }
    },
    {
      "cell_type": "markdown",
      "source": [
        "We'll take a publicly available image classification model that someone else has already trained and alter it to meet our needs. We'll only need to train the altered part, vastly improving both our training speed and model performance. We'll evaluate the model's performance with the more robust k-fold cross-validation method."
      ],
      "metadata": {
        "id": "B45KCv0r5xa2"
      }
    },
    {
      "cell_type": "markdown",
      "source": [
        "**Objectives:**\n",
        "\n",
        "* Load our competition data\n",
        "* Download a pre-trained model\n",
        "* Alter that model to suit our needs with Transfer Learning\n",
        "* Train just the altered part\n",
        "* Test model performance with k-fold cross-validation\n",
        "\n",
        "**New Terms:**\n",
        "\n",
        "* Pre-trained model\n",
        "* Transfer learning\n",
        "* K-fold Cross validation"
      ],
      "metadata": {
        "id": "kwBLTLZh57ZG"
      }
    },
    {
      "cell_type": "markdown",
      "source": [
        "### Setup and Data Loading"
      ],
      "metadata": {
        "id": "17l81Dky6U-9"
      }
    },
    {
      "cell_type": "code",
      "source": [
        "import os\n",
        "\n",
        "import matplotlib\n",
        "import matplotlib.pyplot as plt\n",
        "import numpy as np\n",
        "import sklearn.model_selection\n",
        "import torch\n",
        "import torch.nn as nn\n",
        "import torch.optim as optim\n",
        "import torchinfo\n",
        "import torchvision\n",
        "from sklearn.metrics import ConfusionMatrixDisplay, confusion_matrix\n",
        "from torch.utils.data import DataLoader\n",
        "from torchinfo import summary\n",
        "from torchvision import datasets, transforms\n",
        "from tqdm import tqdm"
      ],
      "metadata": {
        "id": "_Co492XL6bp-"
      },
      "execution_count": null,
      "outputs": []
    },
    {
      "cell_type": "code",
      "source": [
        "pip install torchinfo"
      ],
      "metadata": {
        "colab": {
          "base_uri": "https://localhost:8080/"
        },
        "id": "NL20YjhXPPxn",
        "outputId": "be7c5eaa-7079-4d1c-d494-1ba842a58ad7"
      },
      "execution_count": null,
      "outputs": [
        {
          "output_type": "stream",
          "name": "stdout",
          "text": [
            "Collecting torchinfo\n",
            "  Downloading torchinfo-1.8.0-py3-none-any.whl.metadata (21 kB)\n",
            "Downloading torchinfo-1.8.0-py3-none-any.whl (23 kB)\n",
            "Installing collected packages: torchinfo\n",
            "Successfully installed torchinfo-1.8.0\n"
          ]
        }
      ]
    },
    {
      "cell_type": "code",
      "source": [
        "print(\"torch version : \", torch.__version__)\n",
        "print(\"torchvision version : \", torchvision.__version__)\n",
        "print(\"torchinfo version : \", torchinfo.__version__)\n",
        "print(\"numpy version : \", np.__version__)\n",
        "print(\"matplotlib version : \", matplotlib.__version__)\n",
        "\n",
        "!python --version\n",
        "\n",
        "# output\n"
      ],
      "metadata": {
        "colab": {
          "base_uri": "https://localhost:8080/"
        },
        "id": "QG-LrjxI6hml",
        "outputId": "b8f63354-259a-447d-bfd7-5be920ab5817"
      },
      "execution_count": null,
      "outputs": [
        {
          "output_type": "stream",
          "name": "stdout",
          "text": [
            "torch version :  2.5.1+cu124\n",
            "torchvision version :  0.20.1+cu124\n",
            "torchinfo version :  1.8.0\n",
            "numpy version :  1.26.4\n",
            "matplotlib version :  3.10.0\n",
            "Python 3.11.11\n"
          ]
        }
      ]
    },
    {
      "cell_type": "markdown",
      "source": [
        "We should be running on GPUs, so the device should be `cuda`."
      ],
      "metadata": {
        "id": "s61bdxVd6nrv"
      }
    },
    {
      "cell_type": "code",
      "source": [
        "if torch.cuda.is_available():\n",
        "    device = \"cuda\"\n",
        "elif torch.backends.mps.is_available():\n",
        "    device = \"mps\"\n",
        "else:\n",
        "    device = \"cpu\"\n",
        "\n",
        "print(f\"Using {device} device.\")"
      ],
      "metadata": {
        "colab": {
          "base_uri": "https://localhost:8080/",
          "height": 211
        },
        "id": "pdT5_jwB6qJW",
        "outputId": "ce81e7c3-9c85-4739-e2b4-c7b61151310a"
      },
      "execution_count": null,
      "outputs": [
        {
          "output_type": "error",
          "ename": "NameError",
          "evalue": "name 'torch' is not defined",
          "traceback": [
            "\u001b[0;31m---------------------------------------------------------------------------\u001b[0m",
            "\u001b[0;31mNameError\u001b[0m                                 Traceback (most recent call last)",
            "\u001b[0;32m<ipython-input-3-7888efe15eda>\u001b[0m in \u001b[0;36m<cell line: 0>\u001b[0;34m()\u001b[0m\n\u001b[0;32m----> 1\u001b[0;31m \u001b[0;32mif\u001b[0m \u001b[0mtorch\u001b[0m\u001b[0;34m.\u001b[0m\u001b[0mcuda\u001b[0m\u001b[0;34m.\u001b[0m\u001b[0mis_available\u001b[0m\u001b[0;34m(\u001b[0m\u001b[0;34m)\u001b[0m\u001b[0;34m:\u001b[0m\u001b[0;34m\u001b[0m\u001b[0;34m\u001b[0m\u001b[0m\n\u001b[0m\u001b[1;32m      2\u001b[0m     \u001b[0mdevice\u001b[0m \u001b[0;34m=\u001b[0m \u001b[0;34m\"cuda\"\u001b[0m\u001b[0;34m\u001b[0m\u001b[0;34m\u001b[0m\u001b[0m\n\u001b[1;32m      3\u001b[0m \u001b[0;32melif\u001b[0m \u001b[0mtorch\u001b[0m\u001b[0;34m.\u001b[0m\u001b[0mbackends\u001b[0m\u001b[0;34m.\u001b[0m\u001b[0mmps\u001b[0m\u001b[0;34m.\u001b[0m\u001b[0mis_available\u001b[0m\u001b[0;34m(\u001b[0m\u001b[0;34m)\u001b[0m\u001b[0;34m:\u001b[0m\u001b[0;34m\u001b[0m\u001b[0;34m\u001b[0m\u001b[0m\n\u001b[1;32m      4\u001b[0m     \u001b[0mdevice\u001b[0m \u001b[0;34m=\u001b[0m \u001b[0;34m\"mps\"\u001b[0m\u001b[0;34m\u001b[0m\u001b[0;34m\u001b[0m\u001b[0m\n\u001b[1;32m      5\u001b[0m \u001b[0;32melse\u001b[0m\u001b[0;34m:\u001b[0m\u001b[0;34m\u001b[0m\u001b[0;34m\u001b[0m\u001b[0m\n",
            "\u001b[0;31mNameError\u001b[0m: name 'torch' is not defined"
          ]
        }
      ]
    },
    {
      "cell_type": "markdown",
      "source": [
        "### Loading Data\n"
      ],
      "metadata": {
        "id": "hda9pvrc6x1O"
      }
    },
    {
      "cell_type": "markdown",
      "source": [
        "We'll be working with the same undersampled dataset we created in an earlier lesson, in the `data_p2/data_undersampled/train` directory. We'll also be applying the same transformations. Let's load it."
      ],
      "metadata": {
        "id": "c3alqnN2618H"
      }
    },
    {
      "cell_type": "markdown",
      "source": [
        "**Task 2.4.1:** Create the `data_dir` variable for the undersampled training data."
      ],
      "metadata": {
        "id": "q__0l73b62lu"
      }
    },
    {
      "cell_type": "code",
      "source": [
        "data_dir = os.path.join(\"data_p2/data_undersampled\", 'train')\n",
        "\n",
        "print(\"Data directory:\", data_dir)\n",
        "\n",
        "#output\n",
        "Data directory: data_p2/data_undersampled/train\n"
      ],
      "metadata": {
        "id": "m2Q9TSVN695m"
      },
      "execution_count": null,
      "outputs": []
    },
    {
      "cell_type": "markdown",
      "source": [
        "We'll be applying the same transformations we have been all along:\n",
        "\n",
        "- Convert grayscale images to RGB\n",
        "- Resize images to $224$ x $224$\n",
        "- Convert images to PyTorch tensors\n",
        "- Normalize the tensors\n",
        "\n",
        "Here's the function we've been using to convert to RGB."
      ],
      "metadata": {
        "id": "zocoBr6U7arm"
      }
    },
    {
      "cell_type": "code",
      "source": [
        "class ConvertToRGB(object):\n",
        "    def __call__(self, img):\n",
        "        if img.mode != \"RGB\":\n",
        "            img = img.convert(\"RGB\")\n",
        "        return img"
      ],
      "metadata": {
        "id": "9afFgawv7d-2"
      },
      "execution_count": null,
      "outputs": []
    },
    {
      "cell_type": "markdown",
      "source": [
        "**Task 2.4.2:** Create the set of transformations listed above. Use the means and standard deviations from the `022-explore-dataset` lesson."
      ],
      "metadata": {
        "id": "2OOp3PV37mjW"
      }
    },
    {
      "cell_type": "code",
      "source": [
        "mean, std = [0.4326, 0.4953, 0.3120], [0.2178, 0.2214, 0.2091]"
      ],
      "metadata": {
        "id": "L96ZthUw9RV3"
      },
      "execution_count": null,
      "outputs": []
    },
    {
      "cell_type": "code",
      "source": [
        "transform_normalized = transforms.Compose(\n",
        "    [\n",
        "        ConvertToRGB(),\n",
        "        transforms.Resize((224,224)),\n",
        "        transforms.ToTensor(),\n",
        "        transforms.Normalize(mean=mean, std=std)\n",
        "    ]\n",
        "\n",
        ")\n",
        "transform_normalized\n",
        "\n",
        "#output\n",
        "Compose(\n",
        "    <__main__.ConvertToRGB object at 0x7500f7e8ba10>\n",
        "    Resize(size=(224, 224), interpolation=bilinear, max_size=None, antialias=True)\n",
        "    ToTensor()\n",
        "    Normalize(mean=[0.4326, 0.4952, 0.312], std=[0.2179, 0.2214, 0.2091])\n",
        ")"
      ],
      "metadata": {
        "id": "NKsoY9nC7yQW"
      },
      "execution_count": null,
      "outputs": []
    },
    {
      "cell_type": "markdown",
      "source": [
        "**Task 2.4.3:** Use `ImageFolder` to read the files in our `data_dir` and apply our transformations."
      ],
      "metadata": {
        "id": "V_zOyX8V-LjO"
      }
    },
    {
      "cell_type": "code",
      "source": [
        "dataset = datasets.ImageFolder(data_dir, transform_normalized)\n",
        "\n",
        "dataset\n",
        "\n",
        "#output\n",
        "Dataset ImageFolder\n",
        "    Number of datapoints: 7615\n",
        "    Root location: data_p2/data_undersampled/train\n",
        "    StandardTransform\n",
        "Transform: Compose(\n",
        "               <__main__.ConvertToRGB object at 0x7500f7e8ba10>\n",
        "               Resize(size=(224, 224), interpolation=bilinear, max_size=None, antialias=True)\n",
        "               ToTensor()\n",
        "               Normalize(mean=[0.4326, 0.4952, 0.312], std=[0.2179, 0.2214, 0.2091])\n",
        "           )"
      ],
      "metadata": {
        "id": "m3mvTIrj-MIe"
      },
      "execution_count": null,
      "outputs": []
    },
    {
      "cell_type": "markdown",
      "source": [
        "As a double check, we should have the same $5$ classes as before, with Cassava plants."
      ],
      "metadata": {
        "id": "eo44FHOV-l6N"
      }
    },
    {
      "cell_type": "code",
      "source": [
        "classes = dataset.classes\n",
        "classes\n",
        "\n",
        "#output\n",
        "['cassava-bacterial-blight-cbb',\n",
        " 'cassava-brown-streak-disease-cbsd',\n",
        " 'cassava-green-mottle-cgm',\n",
        " 'cassava-healthy',\n",
        " 'cassava-mosaic-disease-cmd']"
      ],
      "metadata": {
        "id": "uEJY7Vjk-qcy"
      },
      "execution_count": null,
      "outputs": []
    },
    {
      "cell_type": "markdown",
      "source": [
        "We should be using the undersampled data. Let's also make sure that the classes are balanced. We can use the `class_counts` function we've used in previous lessons."
      ],
      "metadata": {
        "id": "QJ4YJ-lh-0Zn"
      }
    },
    {
      "cell_type": "code",
      "source": [
        "from training import class_counts"
      ],
      "metadata": {
        "id": "G2CFSffW-216"
      },
      "execution_count": null,
      "outputs": []
    },
    {
      "cell_type": "markdown",
      "source": [
        "**Task 2.4.4:** Use the `class_counts` function on our dataset to verify all classes have the same number of observations."
      ],
      "metadata": {
        "id": "CJPaW6UK-6xO"
      }
    },
    {
      "cell_type": "code",
      "source": [
        "counts = class_counts(dataset)\n",
        "counts\n",
        "\n",
        "#output\n",
        "100%\n",
        " 7615/7615 [01:58<00:00, 70.95it/s]\n",
        "cassava-bacterial-blight-cbb         1523\n",
        "cassava-brown-streak-disease-cbsd    1523\n",
        "cassava-green-mottle-cgm             1523\n",
        "cassava-healthy                      1523\n",
        "cassava-mosaic-disease-cmd           1523\n",
        "dtype: int64"
      ],
      "metadata": {
        "id": "vqxu7MSn_i1v"
      },
      "execution_count": null,
      "outputs": []
    },
    {
      "cell_type": "markdown",
      "source": [
        "As you'll see later, we'll be handling training and validation differently in this notebook. For now, we'll use the full dataset. Let's make a `DataLoader` for the dataset."
      ],
      "metadata": {
        "id": "Tz2u2FNzDvK5"
      }
    },
    {
      "cell_type": "markdown",
      "source": [
        "**Task 2.4.5:** Create a `DataLoader` for the dataset. Use a batch size of $32$."
      ],
      "metadata": {
        "id": "fePXC5M9DwpK"
      }
    },
    {
      "cell_type": "code",
      "source": [
        "batch_size = 32\n",
        "dataset_loader = DataLoader(dataset, batch_size=batch_size)\n",
        "\n",
        "print(f\"Batch shape: {next(iter(dataset_loader))[0].shape}\")\n",
        "\n",
        "#output\n",
        "Batch shape: torch.Size([32, 3, 224, 224])\n"
      ],
      "metadata": {
        "id": "gL8GJ_vIDyN3"
      },
      "execution_count": null,
      "outputs": []
    },
    {
      "cell_type": "markdown",
      "source": [
        "### Implementing Transfer Learning"
      ],
      "metadata": {
        "id": "FVvxY3yGD0VY"
      }
    },
    {
      "cell_type": "markdown",
      "source": [
        "We have our data, now we need a model. In the last lesson and the previous project, we built our own. But classifying images is a very common task, many people have already done it. Those people have already spent the time and computing resources to design and train a model. If we can get their architecture and weights, we can use theirs!\n",
        "\n",
        "Thankfully, many models like this are publicly available. These are called _pre-trained models_. PyTorch comes with some included. Here we'll load a model called `resnet`."
      ],
      "metadata": {
        "id": "mmbyJRlbEDPx"
      }
    },
    {
      "cell_type": "code",
      "source": [
        "model = torchvision.models.resnet50(weights=torchvision.models.ResNet50_Weights.DEFAULT)"
      ],
      "metadata": {
        "id": "gS7BlH8FEHOY"
      },
      "execution_count": null,
      "outputs": []
    },
    {
      "cell_type": "markdown",
      "source": [
        "This model is very large, and took a long time to train. Let's look at the model summary to see what we're working with. To get a full summary, we'll need to provide the model with the shape of our data."
      ],
      "metadata": {
        "id": "X4zulgpgEMFh"
      }
    },
    {
      "cell_type": "markdown",
      "source": [
        "**Task 2.4.6:** Get the shape of the `test_batch` of data, and use that as the `input_size` when you call `summary` on the model."
      ],
      "metadata": {
        "id": "Go1GoJxUENmn"
      }
    },
    {
      "cell_type": "code",
      "source": [
        "test_batch = next(iter(dataset_loader))[0]\n",
        "batch_shape = test_batch.shape\n",
        "\n",
        "# Create the model summary\n",
        "summary(model, input_size=batch_shape)\n",
        "\n",
        "#output\n",
        "==========================================================================================\n",
        "Layer (type:depth-idx)                   Output Shape              Param #\n",
        "==========================================================================================\n",
        "ResNet                                   [32, 1000]                --\n",
        "├─Conv2d: 1-1                            [32, 64, 112, 112]        9,408\n",
        "├─BatchNorm2d: 1-2                       [32, 64, 112, 112]        128\n",
        "├─ReLU: 1-3                              [32, 64, 112, 112]        --\n",
        "├─MaxPool2d: 1-4                         [32, 64, 56, 56]          --\n",
        "├─Sequential: 1-5                        [32, 256, 56, 56]         --\n",
        "│    └─Bottleneck: 2-1                   [32, 256, 56, 56]         --\n",
        "│    │    └─Conv2d: 3-1                  [32, 64, 56, 56]          4,096\n",
        "│    │    └─BatchNorm2d: 3-2             [32, 64, 56, 56]          128\n",
        "│    │    └─ReLU: 3-3                    [32, 64, 56, 56]          --\n",
        "│    │    └─Conv2d: 3-4                  [32, 64, 56, 56]          36,864\n",
        "│    │    └─BatchNorm2d: 3-5             [32, 64, 56, 56]          128\n",
        "│    │    └─ReLU: 3-6                    [32, 64, 56, 56]          --\n",
        "│    │    └─Conv2d: 3-7                  [32, 256, 56, 56]         16,384\n",
        "│    │    └─BatchNorm2d: 3-8             [32, 256, 56, 56]         512\n",
        "│    │    └─Sequential: 3-9              [32, 256, 56, 56]         16,896\n",
        "│    │    └─ReLU: 3-10                   [32, 256, 56, 56]         --\n",
        "│    └─Bottleneck: 2-2                   [32, 256, 56, 56]         --\n",
        "│    │    └─Conv2d: 3-11                 [32, 64, 56, 56]          16,384\n",
        "│    │    └─BatchNorm2d: 3-12            [32, 64, 56, 56]          128\n",
        "│    │    └─ReLU: 3-13                   [32, 64, 56, 56]          --\n",
        "│    │    └─Conv2d: 3-14                 [32, 64, 56, 56]          36,864\n",
        "│    │    └─BatchNorm2d: 3-15            [32, 64, 56, 56]          128\n",
        "│    │    └─ReLU: 3-16                   [32, 64, 56, 56]          --\n",
        "│    │    └─Conv2d: 3-17                 [32, 256, 56, 56]         16,384\n",
        "│    │    └─BatchNorm2d: 3-18            [32, 256, 56, 56]         512\n",
        "│    │    └─ReLU: 3-19                   [32, 256, 56, 56]         --\n",
        "│    └─Bottleneck: 2-3                   [32, 256, 56, 56]         --\n",
        "│    │    └─Conv2d: 3-20                 [32, 64, 56, 56]          16,384\n",
        "│    │    └─BatchNorm2d: 3-21            [32, 64, 56, 56]          128\n",
        "│    │    └─ReLU: 3-22                   [32, 64, 56, 56]          --\n",
        "│    │    └─Conv2d: 3-23                 [32, 64, 56, 56]          36,864\n",
        "│    │    └─BatchNorm2d: 3-24            [32, 64, 56, 56]          128\n",
        "│    │    └─ReLU: 3-25                   [32, 64, 56, 56]          --\n",
        "│    │    └─Conv2d: 3-26                 [32, 256, 56, 56]         16,384\n",
        "│    │    └─BatchNorm2d: 3-27            [32, 256, 56, 56]         512\n",
        "│    │    └─ReLU: 3-28                   [32, 256, 56, 56]         --\n",
        "├─Sequential: 1-6                        [32, 512, 28, 28]         --\n",
        "│    └─Bottleneck: 2-4                   [32, 512, 28, 28]         --\n",
        "│    │    └─Conv2d: 3-29                 [32, 128, 56, 56]         32,768\n",
        "│    │    └─BatchNorm2d: 3-30            [32, 128, 56, 56]         256\n",
        "│    │    └─ReLU: 3-31                   [32, 128, 56, 56]         --\n",
        "│    │    └─Conv2d: 3-32                 [32, 128, 28, 28]         147,456\n",
        "│    │    └─BatchNorm2d: 3-33            [32, 128, 28, 28]         256\n",
        "│    │    └─ReLU: 3-34                   [32, 128, 28, 28]         --\n",
        "│    │    └─Conv2d: 3-35                 [32, 512, 28, 28]         65,536\n",
        "│    │    └─BatchNorm2d: 3-36            [32, 512, 28, 28]         1,024\n",
        "│    │    └─Sequential: 3-37             [32, 512, 28, 28]         132,096\n",
        "│    │    └─ReLU: 3-38                   [32, 512, 28, 28]         --\n",
        "│    └─Bottleneck: 2-5                   [32, 512, 28, 28]         --\n",
        "│    │    └─Conv2d: 3-39                 [32, 128, 28, 28]         65,536\n",
        "│    │    └─BatchNorm2d: 3-40            [32, 128, 28, 28]         256\n",
        "│    │    └─ReLU: 3-41                   [32, 128, 28, 28]         --\n",
        "│    │    └─Conv2d: 3-42                 [32, 128, 28, 28]         147,456\n",
        "│    │    └─BatchNorm2d: 3-43            [32, 128, 28, 28]         256\n",
        "│    │    └─ReLU: 3-44                   [32, 128, 28, 28]         --\n",
        "│    │    └─Conv2d: 3-45                 [32, 512, 28, 28]         65,536\n",
        "│    │    └─BatchNorm2d: 3-46            [32, 512, 28, 28]         1,024\n",
        "│    │    └─ReLU: 3-47                   [32, 512, 28, 28]         --\n",
        "│    └─Bottleneck: 2-6                   [32, 512, 28, 28]         --\n",
        "│    │    └─Conv2d: 3-48                 [32, 128, 28, 28]         65,536\n",
        "│    │    └─BatchNorm2d: 3-49            [32, 128, 28, 28]         256\n",
        "│    │    └─ReLU: 3-50                   [32, 128, 28, 28]         --\n",
        "│    │    └─Conv2d: 3-51                 [32, 128, 28, 28]         147,456\n",
        "│    │    └─BatchNorm2d: 3-52            [32, 128, 28, 28]         256\n",
        "│    │    └─ReLU: 3-53                   [32, 128, 28, 28]         --\n",
        "│    │    └─Conv2d: 3-54                 [32, 512, 28, 28]         65,536\n",
        "│    │    └─BatchNorm2d: 3-55            [32, 512, 28, 28]         1,024\n",
        "│    │    └─ReLU: 3-56                   [32, 512, 28, 28]         --\n",
        "│    └─Bottleneck: 2-7                   [32, 512, 28, 28]         --\n",
        "│    │    └─Conv2d: 3-57                 [32, 128, 28, 28]         65,536\n",
        "│    │    └─BatchNorm2d: 3-58            [32, 128, 28, 28]         256\n",
        "│    │    └─ReLU: 3-59                   [32, 128, 28, 28]         --\n",
        "│    │    └─Conv2d: 3-60                 [32, 128, 28, 28]         147,456\n",
        "│    │    └─BatchNorm2d: 3-61            [32, 128, 28, 28]         256\n",
        "│    │    └─ReLU: 3-62                   [32, 128, 28, 28]         --\n",
        "│    │    └─Conv2d: 3-63                 [32, 512, 28, 28]         65,536\n",
        "│    │    └─BatchNorm2d: 3-64            [32, 512, 28, 28]         1,024\n",
        "│    │    └─ReLU: 3-65                   [32, 512, 28, 28]         --\n",
        "├─Sequential: 1-7                        [32, 1024, 14, 14]        --\n",
        "│    └─Bottleneck: 2-8                   [32, 1024, 14, 14]        --\n",
        "│    │    └─Conv2d: 3-66                 [32, 256, 28, 28]         131,072\n",
        "│    │    └─BatchNorm2d: 3-67            [32, 256, 28, 28]         512\n",
        "│    │    └─ReLU: 3-68                   [32, 256, 28, 28]         --\n",
        "│    │    └─Conv2d: 3-69                 [32, 256, 14, 14]         589,824\n",
        "│    │    └─BatchNorm2d: 3-70            [32, 256, 14, 14]         512\n",
        "│    │    └─ReLU: 3-71                   [32, 256, 14, 14]         --\n",
        "│    │    └─Conv2d: 3-72                 [32, 1024, 14, 14]        262,144\n",
        "│    │    └─BatchNorm2d: 3-73            [32, 1024, 14, 14]        2,048\n",
        "│    │    └─Sequential: 3-74             [32, 1024, 14, 14]        526,336\n",
        "│    │    └─ReLU: 3-75                   [32, 1024, 14, 14]        --\n",
        "│    └─Bottleneck: 2-9                   [32, 1024, 14, 14]        --\n",
        "│    │    └─Conv2d: 3-76                 [32, 256, 14, 14]         262,144\n",
        "│    │    └─BatchNorm2d: 3-77            [32, 256, 14, 14]         512\n",
        "│    │    └─ReLU: 3-78                   [32, 256, 14, 14]         --\n",
        "│    │    └─Conv2d: 3-79                 [32, 256, 14, 14]         589,824\n",
        "│    │    └─BatchNorm2d: 3-80            [32, 256, 14, 14]         512\n",
        "│    │    └─ReLU: 3-81                   [32, 256, 14, 14]         --\n",
        "│    │    └─Conv2d: 3-82                 [32, 1024, 14, 14]        262,144\n",
        "│    │    └─BatchNorm2d: 3-83            [32, 1024, 14, 14]        2,048\n",
        "│    │    └─ReLU: 3-84                   [32, 1024, 14, 14]        --\n",
        "│    └─Bottleneck: 2-10                  [32, 1024, 14, 14]        --\n",
        "│    │    └─Conv2d: 3-85                 [32, 256, 14, 14]         262,144\n",
        "│    │    └─BatchNorm2d: 3-86            [32, 256, 14, 14]         512\n",
        "│    │    └─ReLU: 3-87                   [32, 256, 14, 14]         --\n",
        "│    │    └─Conv2d: 3-88                 [32, 256, 14, 14]         589,824\n",
        "│    │    └─BatchNorm2d: 3-89            [32, 256, 14, 14]         512\n",
        "│    │    └─ReLU: 3-90                   [32, 256, 14, 14]         --\n",
        "│    │    └─Conv2d: 3-91                 [32, 1024, 14, 14]        262,144\n",
        "│    │    └─BatchNorm2d: 3-92            [32, 1024, 14, 14]        2,048\n",
        "│    │    └─ReLU: 3-93                   [32, 1024, 14, 14]        --\n",
        "│    └─Bottleneck: 2-11                  [32, 1024, 14, 14]        --\n",
        "│    │    └─Conv2d: 3-94                 [32, 256, 14, 14]         262,144\n",
        "│    │    └─BatchNorm2d: 3-95            [32, 256, 14, 14]         512\n",
        "│    │    └─ReLU: 3-96                   [32, 256, 14, 14]         --\n",
        "│    │    └─Conv2d: 3-97                 [32, 256, 14, 14]         589,824\n",
        "│    │    └─BatchNorm2d: 3-98            [32, 256, 14, 14]         512\n",
        "│    │    └─ReLU: 3-99                   [32, 256, 14, 14]         --\n",
        "│    │    └─Conv2d: 3-100                [32, 1024, 14, 14]        262,144\n",
        "│    │    └─BatchNorm2d: 3-101           [32, 1024, 14, 14]        2,048\n",
        "│    │    └─ReLU: 3-102                  [32, 1024, 14, 14]        --\n",
        "│    └─Bottleneck: 2-12                  [32, 1024, 14, 14]        --\n",
        "│    │    └─Conv2d: 3-103                [32, 256, 14, 14]         262,144\n",
        "│    │    └─BatchNorm2d: 3-104           [32, 256, 14, 14]         512\n",
        "│    │    └─ReLU: 3-105                  [32, 256, 14, 14]         --\n",
        "│    │    └─Conv2d: 3-106                [32, 256, 14, 14]         589,824\n",
        "│    │    └─BatchNorm2d: 3-107           [32, 256, 14, 14]         512\n",
        "│    │    └─ReLU: 3-108                  [32, 256, 14, 14]         --\n",
        "│    │    └─Conv2d: 3-109                [32, 1024, 14, 14]        262,144\n",
        "│    │    └─BatchNorm2d: 3-110           [32, 1024, 14, 14]        2,048\n",
        "│    │    └─ReLU: 3-111                  [32, 1024, 14, 14]        --\n",
        "│    └─Bottleneck: 2-13                  [32, 1024, 14, 14]        --\n",
        "│    │    └─Conv2d: 3-112                [32, 256, 14, 14]         262,144\n",
        "│    │    └─BatchNorm2d: 3-113           [32, 256, 14, 14]         512\n",
        "│    │    └─ReLU: 3-114                  [32, 256, 14, 14]         --\n",
        "│    │    └─Conv2d: 3-115                [32, 256, 14, 14]         589,824\n",
        "│    │    └─BatchNorm2d: 3-116           [32, 256, 14, 14]         512\n",
        "│    │    └─ReLU: 3-117                  [32, 256, 14, 14]         --\n",
        "│    │    └─Conv2d: 3-118                [32, 1024, 14, 14]        262,144\n",
        "│    │    └─BatchNorm2d: 3-119           [32, 1024, 14, 14]        2,048\n",
        "│    │    └─ReLU: 3-120                  [32, 1024, 14, 14]        --\n",
        "├─Sequential: 1-8                        [32, 2048, 7, 7]          --\n",
        "│    └─Bottleneck: 2-14                  [32, 2048, 7, 7]          --\n",
        "│    │    └─Conv2d: 3-121                [32, 512, 14, 14]         524,288\n",
        "│    │    └─BatchNorm2d: 3-122           [32, 512, 14, 14]         1,024\n",
        "│    │    └─ReLU: 3-123                  [32, 512, 14, 14]         --\n",
        "│    │    └─Conv2d: 3-124                [32, 512, 7, 7]           2,359,296\n",
        "│    │    └─BatchNorm2d: 3-125           [32, 512, 7, 7]           1,024\n",
        "│    │    └─ReLU: 3-126                  [32, 512, 7, 7]           --\n",
        "│    │    └─Conv2d: 3-127                [32, 2048, 7, 7]          1,048,576\n",
        "│    │    └─BatchNorm2d: 3-128           [32, 2048, 7, 7]          4,096\n",
        "│    │    └─Sequential: 3-129            [32, 2048, 7, 7]          2,101,248\n",
        "│    │    └─ReLU: 3-130                  [32, 2048, 7, 7]          --\n",
        "│    └─Bottleneck: 2-15                  [32, 2048, 7, 7]          --\n",
        "│    │    └─Conv2d: 3-131                [32, 512, 7, 7]           1,048,576\n",
        "│    │    └─BatchNorm2d: 3-132           [32, 512, 7, 7]           1,024\n",
        "│    │    └─ReLU: 3-133                  [32, 512, 7, 7]           --\n",
        "│    │    └─Conv2d: 3-134                [32, 512, 7, 7]           2,359,296\n",
        "│    │    └─BatchNorm2d: 3-135           [32, 512, 7, 7]           1,024\n",
        "│    │    └─ReLU: 3-136                  [32, 512, 7, 7]           --\n",
        "│    │    └─Conv2d: 3-137                [32, 2048, 7, 7]          1,048,576\n",
        "│    │    └─BatchNorm2d: 3-138           [32, 2048, 7, 7]          4,096\n",
        "│    │    └─ReLU: 3-139                  [32, 2048, 7, 7]          --\n",
        "│    └─Bottleneck: 2-16                  [32, 2048, 7, 7]          --\n",
        "│    │    └─Conv2d: 3-140                [32, 512, 7, 7]           1,048,576\n",
        "│    │    └─BatchNorm2d: 3-141           [32, 512, 7, 7]           1,024\n",
        "│    │    └─ReLU: 3-142                  [32, 512, 7, 7]           --\n",
        "│    │    └─Conv2d: 3-143                [32, 512, 7, 7]           2,359,296\n",
        "│    │    └─BatchNorm2d: 3-144           [32, 512, 7, 7]           1,024\n",
        "│    │    └─ReLU: 3-145                  [32, 512, 7, 7]           --\n",
        "│    │    └─Conv2d: 3-146                [32, 2048, 7, 7]          1,048,576\n",
        "│    │    └─BatchNorm2d: 3-147           [32, 2048, 7, 7]          4,096\n",
        "│    │    └─ReLU: 3-148                  [32, 2048, 7, 7]          --\n",
        "├─AdaptiveAvgPool2d: 1-9                 [32, 2048, 1, 1]          --\n",
        "├─Linear: 1-10                           [32, 1000]                2,049,000\n",
        "==========================================================================================\n",
        "Total params: 25,557,032\n",
        "Trainable params: 25,557,032\n",
        "Non-trainable params: 0\n",
        "Total mult-adds (Units.GIGABYTES): 130.86\n",
        "==========================================================================================\n",
        "Input size (MB): 19.27\n",
        "Forward/backward pass size (MB): 5690.62\n",
        "Params size (MB): 102.23\n",
        "Estimated Total Size (MB): 5812.11\n",
        "=========================================================================================="
      ],
      "metadata": {
        "id": "Pk8YOCy76_mV"
      },
      "execution_count": null,
      "outputs": []
    },
    {
      "cell_type": "markdown",
      "source": [
        "<div class=\"alert alert-info\" role=\"alert\">\n",
        "You may notice that this model has about 25 million parameters. This is quite similar to the model we made in the previous lesson. You'd expect it to have more, since it has so many layers.\n",
        "<br><br>\n",
        "In our last lesson, almost all of the parameters were in the first linear layer. But this model is organized differently, so the parameters are more spread out. Even with about the same number of parameters, this model will be <i>tremendously</i> slower to train, as the structure is more complex and the layers are more computationally expensive. Good thing we don't have to train it!\n",
        "</div>"
      ],
      "metadata": {
        "id": "OzuRXaxrFdRY"
      }
    },
    {
      "cell_type": "markdown",
      "source": [
        "This model has _many_ layers! We don't need to worry about the details, since we won't be building or training it. In fact, we need to mark the layers to tell them _not_ to train.\n",
        "\n",
        "All models come with a `parameters` method that gives us access to the model's weights. We can loop through this to set `requires_grad = False` on all of the weights. This tells the system not to take their derivatives, so backpropagation doesn't update them."
      ],
      "metadata": {
        "id": "0275xLIgFfVP"
      }
    },
    {
      "cell_type": "code",
      "source": [
        "# Weight associated with the layer\n",
        "next(model.parameters()).shape\n",
        "\n",
        "#output\n",
        "torch.Size([64, 3, 7, 7])"
      ],
      "metadata": {
        "id": "n2J-parp8HU-"
      },
      "execution_count": null,
      "outputs": []
    },
    {
      "cell_type": "code",
      "source": [
        "for params in model.parameters():\n",
        "    params.requires_grad = False"
      ],
      "metadata": {
        "id": "C81Pba_JFi2u"
      },
      "execution_count": null,
      "outputs": []
    },
    {
      "cell_type": "markdown",
      "source": [
        "This model was trained for a different purpose than we need it for. We can see this by looking at the shape of the output. But our model is very large, so before we run it we'll want to make sure both the model and the `test_batch` are on the GPU."
      ],
      "metadata": {
        "id": "S-S81O4mFkoY"
      }
    },
    {
      "cell_type": "markdown",
      "source": [
        "**Task 2.4.7:** Move the model and the `test_batch` to our `device`."
      ],
      "metadata": {
        "id": "E3285xw28mRG"
      }
    },
    {
      "cell_type": "code",
      "source": [
        "device\n",
        "\n",
        "#output\n",
        "'cuda'"
      ],
      "metadata": {
        "id": "ju9DnkpUFmYH"
      },
      "execution_count": null,
      "outputs": []
    },
    {
      "cell_type": "code",
      "source": [
        "# Move the model to device\n",
        "model.to(device)\n",
        "\n",
        "# Move our test_batch to device\n",
        "\n",
        "test_batch_cuda = test_batch.to(device)\n",
        "\n",
        "print(\"Test batch is running on:\", test_batch_cuda.device)\n",
        "\n",
        "#output\n",
        "Test batch is running on: cuda:0\n"
      ],
      "metadata": {
        "id": "UjeVT_nN9WZs"
      },
      "execution_count": null,
      "outputs": []
    },
    {
      "cell_type": "markdown",
      "source": [
        "Now we should be able to check."
      ],
      "metadata": {
        "id": "lQJEYcoB9fRU"
      }
    },
    {
      "cell_type": "markdown",
      "source": [
        "**Task 2.4.8:** Run the model on the test batch, and check the shape of the output."
      ],
      "metadata": {
        "id": "rAE1k4dS9gDN"
      }
    },
    {
      "cell_type": "code",
      "source": [
        "model_test_out = model(test_batch_cuda)\n",
        "model_test_shape = model_test_out.shape\n",
        "\n",
        "print(\"Output shape:\", model_test_shape)\n",
        "\n",
        "#output\n",
        "Output shape: torch.Size([32, 1000])\n"
      ],
      "metadata": {
        "id": "FoQSi5cg94Se"
      },
      "execution_count": null,
      "outputs": []
    },
    {
      "cell_type": "markdown",
      "source": [
        "### Modifying the Network to Our Task"
      ],
      "metadata": {
        "id": "MDZbYzjy9h7G"
      }
    },
    {
      "cell_type": "markdown",
      "source": [
        "This model was meant for a task with $1000$ classes. We only have $5$, so that's not going to work for us. Even if they were the same number of classes, it wouldn't work, since it was trained for a different task.\n",
        "\n",
        "But we can replace the final layer with our own network. The rest of the network will still do the image processing, and provide our layer with good inputs. Our network will do the final classification. This process of using most of an already trained model is called _transfer learning_.\n",
        "\n",
        "Which layer is the last one? We can access the list of layers with the `named_modules` method. It returns a generator, which we can convert to a list to get the last element."
      ],
      "metadata": {
        "id": "snI7Qzak-F7W"
      }
    },
    {
      "cell_type": "code",
      "source": [
        "list(model.named_modules())[-1]\n",
        "\n",
        "#output\n",
        "('fc', Linear(in_features=2048, out_features=1000, bias=True))\n"
      ],
      "metadata": {
        "id": "mSeissF9_QGH"
      },
      "execution_count": null,
      "outputs": []
    },
    {
      "cell_type": "markdown",
      "source": [
        "This looks right — it's a linear layer with $1000$ neurons (and hence outputs). The thing we really wanted to know was its name — `fc`. Now we can access it with `model.fc`. We'll need to know how many inputs it takes to be able to replace it. It's a `Linear` layer, so the number of inputs it takes is recorded in the `in_features` attribute."
      ],
      "metadata": {
        "id": "WJELxH-z_gX6"
      }
    },
    {
      "cell_type": "markdown",
      "source": [
        "**Task 2.4.9:**: Get the number of input features into the last layer by using `in_features` attribute. Save that to the `in_features` variable."
      ],
      "metadata": {
        "id": "ZF7R6ZyG_iy1"
      }
    },
    {
      "cell_type": "code",
      "source": [
        "in_features = model.fc.in_features\n",
        "in_features\n",
        "\n",
        "#output\n",
        "2048\n"
      ],
      "metadata": {
        "id": "JoGmH3KD_utu"
      },
      "execution_count": null,
      "outputs": []
    },
    {
      "cell_type": "markdown",
      "source": [
        "Let's build a network to replace it. It will need to take the same inputs, but produce _our_ outputs.\n",
        "\n",
        "We'll make a small network to do our classification. As before, we'll build it with the `Sequential` container."
      ],
      "metadata": {
        "id": "lw_WXvhR_5lt"
      }
    },
    {
      "cell_type": "code",
      "source": [
        "classifier = torch.nn.Sequential()"
      ],
      "metadata": {
        "id": "n61H4sY9ANpe"
      },
      "execution_count": null,
      "outputs": []
    },
    {
      "cell_type": "markdown",
      "source": [
        "We'll build up a network with the following structure\n",
        "\n",
        "- Linear layer of 256 neurons\n",
        "- ReLU\n",
        "- Dropout\n",
        "- Linear layer of 5 neurons for output"
      ],
      "metadata": {
        "id": "bCXUTQ8dAQqe"
      }
    },
    {
      "cell_type": "markdown",
      "source": [
        "**Task 2.4.10:** Make a `Linear` layer that takes the same inputs as the `fc` layer and produces $256$ outputs. Add it to our classifier network."
      ],
      "metadata": {
        "id": "1kPNKnhGATVG"
      }
    },
    {
      "cell_type": "code",
      "source": [
        "classification_layer = torch.nn.Linear(in_features=in_features, out_features=256)\n",
        "\n",
        "\n",
        "# Add the layer to our classifier\n",
        "classifier.append(classification_layer)\n",
        "\n",
        "#output\n",
        "Sequential(\n",
        "  (0): Linear(in_features=2048, out_features=256, bias=True)\n",
        ")"
      ],
      "metadata": {
        "id": "D90TuCOUAz0_"
      },
      "execution_count": null,
      "outputs": []
    },
    {
      "cell_type": "markdown",
      "source": [
        "Let's add the ReLU and the Dropout.\n",
        "\n",
        "We'll use the default settings for Dropout, which offer a good balance between speed and preventing overfitting."
      ],
      "metadata": {
        "id": "I38T1FfsBZu7"
      }
    },
    {
      "cell_type": "code",
      "source": [
        "classifier.append(torch.nn.ReLU())\n",
        "classifier.append(torch.nn.Dropout())\n",
        "\n",
        "#output\n",
        "Sequential(\n",
        "  (0): Linear(in_features=2048, out_features=256, bias=True)\n",
        "  (1): ReLU()\n",
        "  (2): Dropout(p=0.5, inplace=False)\n",
        ")"
      ],
      "metadata": {
        "id": "DU2oey3XBrsF"
      },
      "execution_count": null,
      "outputs": []
    },
    {
      "cell_type": "markdown",
      "source": [
        "And we can finish off our classifier with an output layer that produces one output for each of our classes."
      ],
      "metadata": {
        "id": "I94EtodqB009"
      }
    },
    {
      "cell_type": "markdown",
      "source": [
        "**Task 2.4.11:** Make a `Linear` layer that takes the previous layer as input and produces $5$ outputs. Add it to our classifier network."
      ],
      "metadata": {
        "id": "tTSt1a7vB29n"
      }
    },
    {
      "cell_type": "code",
      "source": [
        "output_layer = torch.nn.Linear(in_features=256, out_features=5)\n",
        "\n",
        "# Add the layer to our classifier\n",
        "classifier.append(output_layer)\n",
        "\n",
        "#outputr\n",
        "classifier.append(output_layer)\n",
        "Sequential(\n",
        "  (0): Linear(in_features=2048, out_features=256, bias=True)\n",
        "  (1): ReLU()\n",
        "  (2): Dropout(p=0.5, inplace=False)\n",
        "  (3): Linear(in_features=256, out_features=5, bias=True)\n",
        ")"
      ],
      "metadata": {
        "id": "6_ce-LR-CSll"
      },
      "execution_count": null,
      "outputs": []
    },
    {
      "cell_type": "markdown",
      "source": [
        "And now we want to do two things: remove the output layer in `ResNet` that's wrong for us, and add our classifier. We can do both at the same time by replacing `fc` with our classifier network."
      ],
      "metadata": {
        "id": "g4WWsd4LCiDM"
      }
    },
    {
      "cell_type": "code",
      "source": [
        "model.fc = classifier"
      ],
      "metadata": {
        "id": "nr1fXYXGCu_2"
      },
      "execution_count": null,
      "outputs": []
    },
    {
      "cell_type": "markdown",
      "source": [
        "Let's see what the model now looks like. You can check the number of outputs by looking at the last line in the Output shapes column of the summary, we should be getting `[32, 5]` (for our batch of 32 images)."
      ],
      "metadata": {
        "id": "vGCDQC_rCuEo"
      }
    },
    {
      "cell_type": "markdown",
      "source": [
        "**Task 2.4.12:** Call summary on the model again. You can use the same `batch_shape` we used earlier."
      ],
      "metadata": {
        "id": "pME2LF5JC3LG"
      }
    },
    {
      "cell_type": "code",
      "source": [
        "# Create the model summary\n",
        "summary(model, input_size=batch_shape)\n",
        "\n",
        "#output\n",
        "==========================================================================================\n",
        "Layer (type:depth-idx)                   Output Shape              Param #\n",
        "==========================================================================================\n",
        "ResNet                                   [32, 5]                   --\n",
        "├─Conv2d: 1-1                            [32, 64, 112, 112]        (9,408)\n",
        "├─BatchNorm2d: 1-2                       [32, 64, 112, 112]        (128)\n",
        "├─ReLU: 1-3                              [32, 64, 112, 112]        --\n",
        "├─MaxPool2d: 1-4                         [32, 64, 56, 56]          --\n",
        "├─Sequential: 1-5                        [32, 256, 56, 56]         --\n",
        "│    └─Bottleneck: 2-1                   [32, 256, 56, 56]         --\n",
        "│    │    └─Conv2d: 3-1                  [32, 64, 56, 56]          (4,096)\n",
        "│    │    └─BatchNorm2d: 3-2             [32, 64, 56, 56]          (128)\n",
        "│    │    └─ReLU: 3-3                    [32, 64, 56, 56]          --\n",
        "│    │    └─Conv2d: 3-4                  [32, 64, 56, 56]          (36,864)\n",
        "│    │    └─BatchNorm2d: 3-5             [32, 64, 56, 56]          (128)\n",
        "│    │    └─ReLU: 3-6                    [32, 64, 56, 56]          --\n",
        "│    │    └─Conv2d: 3-7                  [32, 256, 56, 56]         (16,384)\n",
        "│    │    └─BatchNorm2d: 3-8             [32, 256, 56, 56]         (512)\n",
        "│    │    └─Sequential: 3-9              [32, 256, 56, 56]         (16,896)\n",
        "│    │    └─ReLU: 3-10                   [32, 256, 56, 56]         --\n",
        "│    └─Bottleneck: 2-2                   [32, 256, 56, 56]         --\n",
        "│    │    └─Conv2d: 3-11                 [32, 64, 56, 56]          (16,384)\n",
        "│    │    └─BatchNorm2d: 3-12            [32, 64, 56, 56]          (128)\n",
        "│    │    └─ReLU: 3-13                   [32, 64, 56, 56]          --\n",
        "│    │    └─Conv2d: 3-14                 [32, 64, 56, 56]          (36,864)\n",
        "│    │    └─BatchNorm2d: 3-15            [32, 64, 56, 56]          (128)\n",
        "│    │    └─ReLU: 3-16                   [32, 64, 56, 56]          --\n",
        "│    │    └─Conv2d: 3-17                 [32, 256, 56, 56]         (16,384)\n",
        "│    │    └─BatchNorm2d: 3-18            [32, 256, 56, 56]         (512)\n",
        "│    │    └─ReLU: 3-19                   [32, 256, 56, 56]         --\n",
        "│    └─Bottleneck: 2-3                   [32, 256, 56, 56]         --\n",
        "│    │    └─Conv2d: 3-20                 [32, 64, 56, 56]          (16,384)\n",
        "│    │    └─BatchNorm2d: 3-21            [32, 64, 56, 56]          (128)\n",
        "│    │    └─ReLU: 3-22                   [32, 64, 56, 56]          --\n",
        "│    │    └─Conv2d: 3-23                 [32, 64, 56, 56]          (36,864)\n",
        "│    │    └─BatchNorm2d: 3-24            [32, 64, 56, 56]          (128)\n",
        "│    │    └─ReLU: 3-25                   [32, 64, 56, 56]          --\n",
        "│    │    └─Conv2d: 3-26                 [32, 256, 56, 56]         (16,384)\n",
        "│    │    └─BatchNorm2d: 3-27            [32, 256, 56, 56]         (512)\n",
        "│    │    └─ReLU: 3-28                   [32, 256, 56, 56]         --\n",
        "├─Sequential: 1-6                        [32, 512, 28, 28]         --\n",
        "│    └─Bottleneck: 2-4                   [32, 512, 28, 28]         --\n",
        "│    │    └─Conv2d: 3-29                 [32, 128, 56, 56]         (32,768)\n",
        "│    │    └─BatchNorm2d: 3-30            [32, 128, 56, 56]         (256)\n",
        "│    │    └─ReLU: 3-31                   [32, 128, 56, 56]         --\n",
        "│    │    └─Conv2d: 3-32                 [32, 128, 28, 28]         (147,456)\n",
        "│    │    └─BatchNorm2d: 3-33            [32, 128, 28, 28]         (256)\n",
        "│    │    └─ReLU: 3-34                   [32, 128, 28, 28]         --\n",
        "│    │    └─Conv2d: 3-35                 [32, 512, 28, 28]         (65,536)\n",
        "│    │    └─BatchNorm2d: 3-36            [32, 512, 28, 28]         (1,024)\n",
        "│    │    └─Sequential: 3-37             [32, 512, 28, 28]         (132,096)\n",
        "│    │    └─ReLU: 3-38                   [32, 512, 28, 28]         --\n",
        "│    └─Bottleneck: 2-5                   [32, 512, 28, 28]         --\n",
        "│    │    └─Conv2d: 3-39                 [32, 128, 28, 28]         (65,536)\n",
        "│    │    └─BatchNorm2d: 3-40            [32, 128, 28, 28]         (256)\n",
        "│    │    └─ReLU: 3-41                   [32, 128, 28, 28]         --\n",
        "│    │    └─Conv2d: 3-42                 [32, 128, 28, 28]         (147,456)\n",
        "│    │    └─BatchNorm2d: 3-43            [32, 128, 28, 28]         (256)\n",
        "│    │    └─ReLU: 3-44                   [32, 128, 28, 28]         --\n",
        "│    │    └─Conv2d: 3-45                 [32, 512, 28, 28]         (65,536)\n",
        "│    │    └─BatchNorm2d: 3-46            [32, 512, 28, 28]         (1,024)\n",
        "│    │    └─ReLU: 3-47                   [32, 512, 28, 28]         --\n",
        "│    └─Bottleneck: 2-6                   [32, 512, 28, 28]         --\n",
        "│    │    └─Conv2d: 3-48                 [32, 128, 28, 28]         (65,536)\n",
        "│    │    └─BatchNorm2d: 3-49            [32, 128, 28, 28]         (256)\n",
        "│    │    └─ReLU: 3-50                   [32, 128, 28, 28]         --\n",
        "│    │    └─Conv2d: 3-51                 [32, 128, 28, 28]         (147,456)\n",
        "│    │    └─BatchNorm2d: 3-52            [32, 128, 28, 28]         (256)\n",
        "│    │    └─ReLU: 3-53                   [32, 128, 28, 28]         --\n",
        "│    │    └─Conv2d: 3-54                 [32, 512, 28, 28]         (65,536)\n",
        "│    │    └─BatchNorm2d: 3-55            [32, 512, 28, 28]         (1,024)\n",
        "│    │    └─ReLU: 3-56                   [32, 512, 28, 28]         --\n",
        "│    └─Bottleneck: 2-7                   [32, 512, 28, 28]         --\n",
        "│    │    └─Conv2d: 3-57                 [32, 128, 28, 28]         (65,536)\n",
        "│    │    └─BatchNorm2d: 3-58            [32, 128, 28, 28]         (256)\n",
        "│    │    └─ReLU: 3-59                   [32, 128, 28, 28]         --\n",
        "│    │    └─Conv2d: 3-60                 [32, 128, 28, 28]         (147,456)\n",
        "│    │    └─BatchNorm2d: 3-61            [32, 128, 28, 28]         (256)\n",
        "│    │    └─ReLU: 3-62                   [32, 128, 28, 28]         --\n",
        "│    │    └─Conv2d: 3-63                 [32, 512, 28, 28]         (65,536)\n",
        "│    │    └─BatchNorm2d: 3-64            [32, 512, 28, 28]         (1,024)\n",
        "│    │    └─ReLU: 3-65                   [32, 512, 28, 28]         --\n",
        "├─Sequential: 1-7                        [32, 1024, 14, 14]        --\n",
        "│    └─Bottleneck: 2-8                   [32, 1024, 14, 14]        --\n",
        "│    │    └─Conv2d: 3-66                 [32, 256, 28, 28]         (131,072)\n",
        "│    │    └─BatchNorm2d: 3-67            [32, 256, 28, 28]         (512)\n",
        "│    │    └─ReLU: 3-68                   [32, 256, 28, 28]         --\n",
        "│    │    └─Conv2d: 3-69                 [32, 256, 14, 14]         (589,824)\n",
        "│    │    └─BatchNorm2d: 3-70            [32, 256, 14, 14]         (512)\n",
        "│    │    └─ReLU: 3-71                   [32, 256, 14, 14]         --\n",
        "│    │    └─Conv2d: 3-72                 [32, 1024, 14, 14]        (262,144)\n",
        "│    │    └─BatchNorm2d: 3-73            [32, 1024, 14, 14]        (2,048)\n",
        "│    │    └─Sequential: 3-74             [32, 1024, 14, 14]        (526,336)\n",
        "│    │    └─ReLU: 3-75                   [32, 1024, 14, 14]        --\n",
        "│    └─Bottleneck: 2-9                   [32, 1024, 14, 14]        --\n",
        "│    │    └─Conv2d: 3-76                 [32, 256, 14, 14]         (262,144)\n",
        "│    │    └─BatchNorm2d: 3-77            [32, 256, 14, 14]         (512)\n",
        "│    │    └─ReLU: 3-78                   [32, 256, 14, 14]         --\n",
        "│    │    └─Conv2d: 3-79                 [32, 256, 14, 14]         (589,824)\n",
        "│    │    └─BatchNorm2d: 3-80            [32, 256, 14, 14]         (512)\n",
        "│    │    └─ReLU: 3-81                   [32, 256, 14, 14]         --\n",
        "│    │    └─Conv2d: 3-82                 [32, 1024, 14, 14]        (262,144)\n",
        "│    │    └─BatchNorm2d: 3-83            [32, 1024, 14, 14]        (2,048)\n",
        "│    │    └─ReLU: 3-84                   [32, 1024, 14, 14]        --\n",
        "│    └─Bottleneck: 2-10                  [32, 1024, 14, 14]        --\n",
        "│    │    └─Conv2d: 3-85                 [32, 256, 14, 14]         (262,144)\n",
        "│    │    └─BatchNorm2d: 3-86            [32, 256, 14, 14]         (512)\n",
        "│    │    └─ReLU: 3-87                   [32, 256, 14, 14]         --\n",
        "│    │    └─Conv2d: 3-88                 [32, 256, 14, 14]         (589,824)\n",
        "│    │    └─BatchNorm2d: 3-89            [32, 256, 14, 14]         (512)\n",
        "│    │    └─ReLU: 3-90                   [32, 256, 14, 14]         --\n",
        "│    │    └─Conv2d: 3-91                 [32, 1024, 14, 14]        (262,144)\n",
        "│    │    └─BatchNorm2d: 3-92            [32, 1024, 14, 14]        (2,048)\n",
        "│    │    └─ReLU: 3-93                   [32, 1024, 14, 14]        --\n",
        "│    └─Bottleneck: 2-11                  [32, 1024, 14, 14]        --\n",
        "│    │    └─Conv2d: 3-94                 [32, 256, 14, 14]         (262,144)\n",
        "│    │    └─BatchNorm2d: 3-95            [32, 256, 14, 14]         (512)\n",
        "│    │    └─ReLU: 3-96                   [32, 256, 14, 14]         --\n",
        "│    │    └─Conv2d: 3-97                 [32, 256, 14, 14]         (589,824)\n",
        "│    │    └─BatchNorm2d: 3-98            [32, 256, 14, 14]         (512)\n",
        "│    │    └─ReLU: 3-99                   [32, 256, 14, 14]         --\n",
        "│    │    └─Conv2d: 3-100                [32, 1024, 14, 14]        (262,144)\n",
        "│    │    └─BatchNorm2d: 3-101           [32, 1024, 14, 14]        (2,048)\n",
        "│    │    └─ReLU: 3-102                  [32, 1024, 14, 14]        --\n",
        "│    └─Bottleneck: 2-12                  [32, 1024, 14, 14]        --\n",
        "│    │    └─Conv2d: 3-103                [32, 256, 14, 14]         (262,144)\n",
        "│    │    └─BatchNorm2d: 3-104           [32, 256, 14, 14]         (512)\n",
        "│    │    └─ReLU: 3-105                  [32, 256, 14, 14]         --\n",
        "│    │    └─Conv2d: 3-106                [32, 256, 14, 14]         (589,824)\n",
        "│    │    └─BatchNorm2d: 3-107           [32, 256, 14, 14]         (512)\n",
        "│    │    └─ReLU: 3-108                  [32, 256, 14, 14]         --\n",
        "│    │    └─Conv2d: 3-109                [32, 1024, 14, 14]        (262,144)\n",
        "│    │    └─BatchNorm2d: 3-110           [32, 1024, 14, 14]        (2,048)\n",
        "│    │    └─ReLU: 3-111                  [32, 1024, 14, 14]        --\n",
        "│    └─Bottleneck: 2-13                  [32, 1024, 14, 14]        --\n",
        "│    │    └─Conv2d: 3-112                [32, 256, 14, 14]         (262,144)\n",
        "│    │    └─BatchNorm2d: 3-113           [32, 256, 14, 14]         (512)\n",
        "│    │    └─ReLU: 3-114                  [32, 256, 14, 14]         --\n",
        "│    │    └─Conv2d: 3-115                [32, 256, 14, 14]         (589,824)\n",
        "│    │    └─BatchNorm2d: 3-116           [32, 256, 14, 14]         (512)\n",
        "│    │    └─ReLU: 3-117                  [32, 256, 14, 14]         --\n",
        "│    │    └─Conv2d: 3-118                [32, 1024, 14, 14]        (262,144)\n",
        "│    │    └─BatchNorm2d: 3-119           [32, 1024, 14, 14]        (2,048)\n",
        "│    │    └─ReLU: 3-120                  [32, 1024, 14, 14]        --\n",
        "├─Sequential: 1-8                        [32, 2048, 7, 7]          --\n",
        "│    └─Bottleneck: 2-14                  [32, 2048, 7, 7]          --\n",
        "│    │    └─Conv2d: 3-121                [32, 512, 14, 14]         (524,288)\n",
        "│    │    └─BatchNorm2d: 3-122           [32, 512, 14, 14]         (1,024)\n",
        "│    │    └─ReLU: 3-123                  [32, 512, 14, 14]         --\n",
        "│    │    └─Conv2d: 3-124                [32, 512, 7, 7]           (2,359,296)\n",
        "│    │    └─BatchNorm2d: 3-125           [32, 512, 7, 7]           (1,024)\n",
        "│    │    └─ReLU: 3-126                  [32, 512, 7, 7]           --\n",
        "│    │    └─Conv2d: 3-127                [32, 2048, 7, 7]          (1,048,576)\n",
        "│    │    └─BatchNorm2d: 3-128           [32, 2048, 7, 7]          (4,096)\n",
        "│    │    └─Sequential: 3-129            [32, 2048, 7, 7]          (2,101,248)\n",
        "│    │    └─ReLU: 3-130                  [32, 2048, 7, 7]          --\n",
        "│    └─Bottleneck: 2-15                  [32, 2048, 7, 7]          --\n",
        "│    │    └─Conv2d: 3-131                [32, 512, 7, 7]           (1,048,576)\n",
        "│    │    └─BatchNorm2d: 3-132           [32, 512, 7, 7]           (1,024)\n",
        "│    │    └─ReLU: 3-133                  [32, 512, 7, 7]           --\n",
        "│    │    └─Conv2d: 3-134                [32, 512, 7, 7]           (2,359,296)\n",
        "│    │    └─BatchNorm2d: 3-135           [32, 512, 7, 7]           (1,024)\n",
        "│    │    └─ReLU: 3-136                  [32, 512, 7, 7]           --\n",
        "│    │    └─Conv2d: 3-137                [32, 2048, 7, 7]          (1,048,576)\n",
        "│    │    └─BatchNorm2d: 3-138           [32, 2048, 7, 7]          (4,096)\n",
        "│    │    └─ReLU: 3-139                  [32, 2048, 7, 7]          --\n",
        "│    └─Bottleneck: 2-16                  [32, 2048, 7, 7]          --\n",
        "│    │    └─Conv2d: 3-140                [32, 512, 7, 7]           (1,048,576)\n",
        "│    │    └─BatchNorm2d: 3-141           [32, 512, 7, 7]           (1,024)\n",
        "│    │    └─ReLU: 3-142                  [32, 512, 7, 7]           --\n",
        "│    │    └─Conv2d: 3-143                [32, 512, 7, 7]           (2,359,296)\n",
        "│    │    └─BatchNorm2d: 3-144           [32, 512, 7, 7]           (1,024)\n",
        "│    │    └─ReLU: 3-145                  [32, 512, 7, 7]           --\n",
        "│    │    └─Conv2d: 3-146                [32, 2048, 7, 7]          (1,048,576)\n",
        "│    │    └─BatchNorm2d: 3-147           [32, 2048, 7, 7]          (4,096)\n",
        "│    │    └─ReLU: 3-148                  [32, 2048, 7, 7]          --\n",
        "├─AdaptiveAvgPool2d: 1-9                 [32, 2048, 1, 1]          --\n",
        "├─Sequential: 1-10                       [32, 5]                   --\n",
        "│    └─Linear: 2-17                      [32, 256]                 524,544\n",
        "│    └─ReLU: 2-18                        [32, 256]                 --\n",
        "│    └─Dropout: 2-19                     [32, 256]                 --\n",
        "│    └─Linear: 2-20                      [32, 5]                   1,285\n",
        "==========================================================================================\n",
        "Total params: 24,033,861\n",
        "Trainable params: 525,829\n",
        "Non-trainable params: 23,508,032\n",
        "Total mult-adds (Units.GIGABYTES): 130.81\n",
        "==========================================================================================\n",
        "Input size (MB): 19.27\n",
        "Forward/backward pass size (MB): 5690.43\n",
        "Params size (MB): 96.14\n",
        "Estimated Total Size (MB): 5805.83\n",
        "=========================================================================================="
      ],
      "metadata": {
        "id": "21jRCt-1DiQ-"
      },
      "execution_count": null,
      "outputs": []
    },
    {
      "cell_type": "markdown",
      "source": [
        "Our new classifier won't be trained, so we'll have to train it. But it's much faster to train two small layers than an entire, huge network!"
      ],
      "metadata": {
        "id": "NSKVEtyiDue2"
      }
    },
    {
      "cell_type": "markdown",
      "source": [
        "### K-fold Cross-Validation"
      ],
      "metadata": {
        "id": "zXRJKouYDxDm"
      }
    },
    {
      "cell_type": "markdown",
      "source": [
        "Normally, at this point we'd split our data into training and validation sets. We'd train on the training set, and check that the model is performing well on the validation set. This lets us see how the model does on data it wasn't trained on and detect overfitting. Instead, we'll use _k-fold cross-validation_, which splits our data into $k$ \"folds\".\n",
        "\n",
        "PyTorch doesn't have a dedicated tool for this. Instead, we'll use the `KFold` splitting tool from `scikit-learn`. It needs to know how many splits to make and if we want to shuffle the order of observations. Since our data is ordered (we get all of one class, then all of the next class, and so on), we do want to shuffle. We have been using 20% of our data for validation so far, so let's keep doing that."
      ],
      "metadata": {
        "id": "C6CdKG2UEXWW"
      }
    },
    {
      "cell_type": "markdown",
      "source": [
        "**Task 2.4.13:** Set $k$ to get each fold to be 20% of the data. How many parts should we break the data into to get that?"
      ],
      "metadata": {
        "id": "_n0AjXOrEZhO"
      }
    },
    {
      "cell_type": "markdown",
      "source": [
        "<div class=\"alert alert-info\" role=\"alert\">\n",
        "    <p><b>About random number generators</b></p>\n",
        "<p>The following cell adds a <code>random_state=42</code> line of code that is not present in the video. This is something we have added to make sure you always get the same results in your predictions. Please don't change it or remove it.\n",
        "</p>\n",
        "</div>"
      ],
      "metadata": {
        "id": "yu9sDFfdElVe"
      }
    },
    {
      "cell_type": "code",
      "source": [
        "k = 5\n",
        "\n",
        "kfold_splitter = sklearn.model_selection.KFold(n_splits=k, shuffle=True, random_state=42)\n",
        "\n",
        "train_nums, val_nums = next(kfold_splitter.split(range(100)))\n",
        "fold_fraction = len(val_nums) / (len(train_nums) + len(val_nums))\n",
        "print(f\"One fold is {100*fold_fraction:.2f}%\")\n",
        "\n",
        "#output\n",
        "One fold is 20.00%\n"
      ],
      "metadata": {
        "id": "5CukRByiEmFG"
      },
      "execution_count": null,
      "outputs": []
    },
    {
      "cell_type": "markdown",
      "source": [
        "<div class=\"alert alert-info\" role=\"alert\">\n",
        "Cross validation is pretty common with smaller models, but often not used with neural networks. If it gives a better measure of how our model is doing, why wouldn't we? Because of how it works — we will fit our model once for each fold. It's pretty common to see $k$ values between $3$ and $10$. That means our model will take $3$ to $10$ times as long to train! If our model trains in a few minutes, that's no problem. But large neural networks can take hours or days (or more!) to train. In that case, it's often seen as too high of a price to pay for a better validation measure.\n",
        "</div>"
      ],
      "metadata": {
        "id": "mDQsV7aKFcRI"
      }
    },
    {
      "cell_type": "markdown",
      "source": [
        "### Training with k-fold"
      ],
      "metadata": {
        "id": "MlLwFb22Fv49"
      }
    },
    {
      "cell_type": "markdown",
      "source": [
        "We'll need to adjust our training somewhat to use cross-validation. We won't be using a fixed training and validation set. Instead, we'll get a training set of 80% of the data, and a validation set of 20% of the data from our splitter. We'll train with this, then reset our model and get the next training and validation sets and repeat.\n",
        "\n",
        "We'll still be able to reuse most of our code from before. Let's import it from the `training.py` file."
      ],
      "metadata": {
        "id": "raeRucQlFz_e"
      }
    },
    {
      "cell_type": "code",
      "source": [
        "from training import predict, train"
      ],
      "metadata": {
        "id": "EnFMRQ1lGHTY"
      },
      "execution_count": null,
      "outputs": []
    },
    {
      "cell_type": "markdown",
      "source": [
        "We'll be using the `train` function that we've used a few times now. Let's remind ourselves of what it needs."
      ],
      "metadata": {
        "id": "gvtJBawOGm52"
      }
    },
    {
      "cell_type": "code",
      "source": [
        "train?\n",
        "\n",
        "#output\n",
        "Signature:\n",
        "train(\n",
        "    model,\n",
        "    optimizer,\n",
        "    loss_fn,\n",
        "    train_loader,\n",
        "    val_loader,\n",
        "    epochs=20,\n",
        "    device='cpu',\n",
        "    use_train_accuracy=True,\n",
        ")\n",
        "Docstring: <no docstring>\n",
        "File:      /app/training.py\n",
        "Type:      function"
      ],
      "metadata": {
        "id": "cH7wCkiDGqzv"
      },
      "execution_count": null,
      "outputs": []
    },
    {
      "cell_type": "markdown",
      "source": [
        "We have the model, and with k-fold we'll need to create the training and validation loaders as we go. Let's create the optimizer and the loss function. We'll use the same ones we've been using so far, `Adam` and `CrossEntropyLoss`."
      ],
      "metadata": {
        "id": "DA69HWkJG5wt"
      }
    },
    {
      "cell_type": "markdown",
      "source": [
        "**Task 2.4.14:** Define cross-entropy as the loss function and set the Adam optimizer to be the optimizer. You can use the default learning settings."
      ],
      "metadata": {
        "id": "Dul3KKIrG7rP"
      }
    },
    {
      "cell_type": "code",
      "source": [
        "loss_fn = torch.nn.CrossEntropyLoss()\n",
        "optimizer = torch.optim.Adam(model.parameters())"
      ],
      "metadata": {
        "id": "lWVd9TlZHpP2"
      },
      "execution_count": null,
      "outputs": []
    },
    {
      "cell_type": "markdown",
      "source": [
        "To get an accurate measure, we'll need to reset the model when we change which fold is the validation set. Otherwise the model _will_ have seen that data, which means it's not a good validation set!\n",
        "\n",
        "We only want to reset the part we added, since we're not training the rest of the model. We can do that using `reset_parameters` on just the layers that we added.\n",
        "\n",
        "`Sequential` named the layers for us, as `\"0\"`, `\"1\"`, etc."
      ],
      "metadata": {
        "id": "fl4_alVpHwW2"
      }
    },
    {
      "cell_type": "code",
      "source": [
        "model.fc\n",
        "\n",
        "#output\n",
        "Sequential(\n",
        "  (0): Linear(in_features=2048, out_features=256, bias=True)\n",
        "  (1): ReLU()\n",
        "  (2): Dropout(p=0.5, inplace=False)\n",
        "  (3): Linear(in_features=256, out_features=5, bias=True)\n",
        ")"
      ],
      "metadata": {
        "id": "OtX18tw_IWpC"
      },
      "execution_count": null,
      "outputs": []
    },
    {
      "cell_type": "markdown",
      "source": [
        "We'll make a function to reset them, to simplify our training code."
      ],
      "metadata": {
        "id": "KymVb_b2Ib0t"
      }
    },
    {
      "cell_type": "code",
      "source": [
        "def reset_classifier(model):\n",
        "    model.fc.get_submodule(\"0\").reset_parameters()\n",
        "    model.fc.get_submodule(\"3\").reset_parameters()"
      ],
      "metadata": {
        "id": "80-inccUId2f"
      },
      "execution_count": null,
      "outputs": []
    },
    {
      "cell_type": "markdown",
      "source": [
        "<div class=\"alert alert-info\" role=\"alert\">\n",
        "We were quite specific here. There are other ways we could have organized this. We could have built something that generically resets all parameters, and called that on just the part we added instead of the bigger model. But that code is a fair bit more complex, and runs the danger of accidentally resetting the <i>whole</i> model. We chose a safer but less portable route.\n",
        "</div>"
      ],
      "metadata": {
        "id": "L_dD7vSRIhpS"
      }
    },
    {
      "cell_type": "markdown",
      "source": [
        "We have one more thing to set before we can start training. We'll need to decide how many epoch to train our model. Through some testing, we found the model stops improving by the $7$ epoch mark. To prevent this from becoming overfitting, we'll do a form of early stopping and only train for $6$ epochs."
      ],
      "metadata": {
        "id": "aSqCJk4QIt4O"
      }
    },
    {
      "cell_type": "markdown",
      "source": [
        "**Task 2.4.15:** Set `num_epochs` so the model only trains for $6$ epochs."
      ],
      "metadata": {
        "id": "mgUaPPDrIvqv"
      }
    },
    {
      "cell_type": "code",
      "source": [
        "num_epochs = 6"
      ],
      "metadata": {
        "id": "wX3hprjvI8B1"
      },
      "execution_count": null,
      "outputs": []
    },
    {
      "cell_type": "markdown",
      "source": [
        "We're ready. For k-fold, we'll train in a loop that will run $k$ times. In each run, we'll have one fold as our validation set and the rest as training.\n",
        "\n",
        "On each loop we'll do a few things:\n",
        "\n",
        "- Get which observations are in the training set and which are in the validation set from our k-fold splitter.\n",
        "- Create a training and a validation data loader\n",
        "- Reset the classifier part of our model\n",
        "- Train the model with this training set and validation set\n",
        "- Record the losses and accuracies from the training process\n",
        "\n",
        "We're setting an option on the `train` function we haven't used before: `use_train_accuracy=False`. We won't get the accuracy on the training data, but it will make the training process faster.\n",
        "\n",
        "This next cell runs the training process. It can take quite a while."
      ],
      "metadata": {
        "id": "mhxMiI-lJOEO"
      }
    },
    {
      "cell_type": "markdown",
      "source": [
        "<div class=\"alert alert-info\" role=\"alert\"> <strong>Regarding Model Training Times</strong>\n",
        "\n",
        "The following cell will train the model for 6 epochs, for each one of the 5 folds. This can take more than 60 minutes. Instead, we recommend you to skip the following cell and look at the next one that loads a pre-trained version of the cell model.\n",
        "\n",
        "<b>We strongly recommend you to use the saved model instead of training your own.</b>\n",
        "</div>"
      ],
      "metadata": {
        "id": "KUtshCVbJn84"
      }
    },
    {
      "cell_type": "code",
      "source": [
        "# you can safely skip this cell and load the model in the next cell\n",
        "\n",
        "training_records = {}\n",
        "fold_count = 0\n",
        "\n",
        "for train_idx, val_idx in kfold_splitter.split(np.arange(len(dataset))):\n",
        "    fold_count += 1\n",
        "    print(\"*****Fold {}*****\".format(fold_count))\n",
        "\n",
        "    # Make train and validation data loaders\n",
        "    train_dataset = torch.utils.data.Subset(dataset, train_idx)\n",
        "    val_dataset = torch.utils.data.Subset(dataset, val_idx)\n",
        "    train_loader = DataLoader(train_dataset, batch_size=batch_size, shuffle=True)\n",
        "    val_loader = DataLoader(val_dataset, batch_size=batch_size)\n",
        "\n",
        "    # Reset the model\n",
        "    reset_classifier(model)\n",
        "\n",
        "    # Train\n",
        "    train_losses, val_losses, train_accuracies, val_accuracies = train(\n",
        "        model,\n",
        "        optimizer,\n",
        "        loss_fn,\n",
        "        train_loader,\n",
        "        val_loader,\n",
        "        epochs=num_epochs,\n",
        "        device=device,\n",
        "        use_train_accuracy=False,\n",
        "    )\n",
        "\n",
        "    # Save training results for graphing\n",
        "    training_records[fold_count] = {\n",
        "        \"train_losses\": train_losses,\n",
        "        \"val_losses\": val_losses,\n",
        "        \"val_accuracies\": val_accuracies,\n",
        "    }\n",
        "\n",
        "    print(\"\\n\\n\")"
      ],
      "metadata": {
        "id": "IW8tgRfKKPXP"
      },
      "execution_count": null,
      "outputs": []
    },
    {
      "cell_type": "markdown",
      "source": [
        "**[RECOMMENDED]** Load the pre-trained model:"
      ],
      "metadata": {
        "id": "HIA_R3SEKRwu"
      }
    },
    {
      "cell_type": "code",
      "source": [
        "model = torch.load(\"pretrained_model.pth\", weights_only=False)\n",
        "model.to(device)\n",
        "\n",
        "#output\n",
        "ResNet(\n",
        "  (conv1): Conv2d(3, 64, kernel_size=(7, 7), stride=(2, 2), padding=(3, 3), bias=False)\n",
        "  (bn1): BatchNorm2d(64, eps=1e-05, momentum=0.1, affine=True, track_running_stats=True)\n",
        "  (relu): ReLU(inplace=True)\n",
        "  (maxpool): MaxPool2d(kernel_size=3, stride=2, padding=1, dilation=1, ceil_mode=False)\n",
        "  (layer1): Sequential(\n",
        "    (0): Bottleneck(\n",
        "      (conv1): Conv2d(64, 64, kernel_size=(1, 1), stride=(1, 1), bias=False)\n",
        "      (bn1): BatchNorm2d(64, eps=1e-05, momentum=0.1, affine=True, track_running_stats=True)\n",
        "      (conv2): Conv2d(64, 64, kernel_size=(3, 3), stride=(1, 1), padding=(1, 1), bias=False)\n",
        "      (bn2): BatchNorm2d(64, eps=1e-05, momentum=0.1, affine=True, track_running_stats=True)\n",
        "      (conv3): Conv2d(64, 256, kernel_size=(1, 1), stride=(1, 1), bias=False)\n",
        "      (bn3): BatchNorm2d(256, eps=1e-05, momentum=0.1, affine=True, track_running_stats=True)\n",
        "      (relu): ReLU(inplace=True)\n",
        "      (downsample): Sequential(\n",
        "        (0): Conv2d(64, 256, kernel_size=(1, 1), stride=(1, 1), bias=False)\n",
        "        (1): BatchNorm2d(256, eps=1e-05, momentum=0.1, affine=True, track_running_stats=True)\n",
        "      )\n",
        "    )\n",
        "    (1): Bottleneck(\n",
        "      (conv1): Conv2d(256, 64, kernel_size=(1, 1), stride=(1, 1), bias=False)\n",
        "      (bn1): BatchNorm2d(64, eps=1e-05, momentum=0.1, affine=True, track_running_stats=True)\n",
        "      (conv2): Conv2d(64, 64, kernel_size=(3, 3), stride=(1, 1), padding=(1, 1), bias=False)\n",
        "      (bn2): BatchNorm2d(64, eps=1e-05, momentum=0.1, affine=True, track_running_stats=True)\n",
        "      (conv3): Conv2d(64, 256, kernel_size=(1, 1), stride=(1, 1), bias=False)\n",
        "      (bn3): BatchNorm2d(256, eps=1e-05, momentum=0.1, affine=True, track_running_stats=True)\n",
        "      (relu): ReLU(inplace=True)\n",
        "    )\n",
        "    (2): Bottleneck(\n",
        "      (conv1): Conv2d(256, 64, kernel_size=(1, 1), stride=(1, 1), bias=False)\n",
        "      (bn1): BatchNorm2d(64, eps=1e-05, momentum=0.1, affine=True, track_running_stats=True)\n",
        "      (conv2): Conv2d(64, 64, kernel_size=(3, 3), stride=(1, 1), padding=(1, 1), bias=False)\n",
        "      (bn2): BatchNorm2d(64, eps=1e-05, momentum=0.1, affine=True, track_running_stats=True)\n",
        "      (conv3): Conv2d(64, 256, kernel_size=(1, 1), stride=(1, 1), bias=False)\n",
        "      (bn3): BatchNorm2d(256, eps=1e-05, momentum=0.1, affine=True, track_running_stats=True)\n",
        "      (relu): ReLU(inplace=True)\n",
        "    )\n",
        "  )\n",
        "  (layer2): Sequential(\n",
        "    (0): Bottleneck(\n",
        "      (conv1): Conv2d(256, 128, kernel_size=(1, 1), stride=(1, 1), bias=False)\n",
        "      (bn1): BatchNorm2d(128, eps=1e-05, momentum=0.1, affine=True, track_running_stats=True)\n",
        "      (conv2): Conv2d(128, 128, kernel_size=(3, 3), stride=(2, 2), padding=(1, 1), bias=False)\n",
        "      (bn2): BatchNorm2d(128, eps=1e-05, momentum=0.1, affine=True, track_running_stats=True)\n",
        "      (conv3): Conv2d(128, 512, kernel_size=(1, 1), stride=(1, 1), bias=False)\n",
        "      (bn3): BatchNorm2d(512, eps=1e-05, momentum=0.1, affine=True, track_running_stats=True)\n",
        "      (relu): ReLU(inplace=True)\n",
        "      (downsample): Sequential(\n",
        "        (0): Conv2d(256, 512, kernel_size=(1, 1), stride=(2, 2), bias=False)\n",
        "        (1): BatchNorm2d(512, eps=1e-05, momentum=0.1, affine=True, track_running_stats=True)\n",
        "      )\n",
        "    )\n",
        "    (1): Bottleneck(\n",
        "      (conv1): Conv2d(512, 128, kernel_size=(1, 1), stride=(1, 1), bias=False)\n",
        "      (bn1): BatchNorm2d(128, eps=1e-05, momentum=0.1, affine=True, track_running_stats=True)\n",
        "      (conv2): Conv2d(128, 128, kernel_size=(3, 3), stride=(1, 1), padding=(1, 1), bias=False)\n",
        "      (bn2): BatchNorm2d(128, eps=1e-05, momentum=0.1, affine=True, track_running_stats=True)\n",
        "      (conv3): Conv2d(128, 512, kernel_size=(1, 1), stride=(1, 1), bias=False)\n",
        "      (bn3): BatchNorm2d(512, eps=1e-05, momentum=0.1, affine=True, track_running_stats=True)\n",
        "      (relu): ReLU(inplace=True)\n",
        "    )\n",
        "    (2): Bottleneck(\n",
        "      (conv1): Conv2d(512, 128, kernel_size=(1, 1), stride=(1, 1), bias=False)\n",
        "      (bn1): BatchNorm2d(128, eps=1e-05, momentum=0.1, affine=True, track_running_stats=True)\n",
        "      (conv2): Conv2d(128, 128, kernel_size=(3, 3), stride=(1, 1), padding=(1, 1), bias=False)\n",
        "      (bn2): BatchNorm2d(128, eps=1e-05, momentum=0.1, affine=True, track_running_stats=True)\n",
        "      (conv3): Conv2d(128, 512, kernel_size=(1, 1), stride=(1, 1), bias=False)\n",
        "      (bn3): BatchNorm2d(512, eps=1e-05, momentum=0.1, affine=True, track_running_stats=True)\n",
        "      (relu): ReLU(inplace=True)\n",
        "    )\n",
        "    (3): Bottleneck(\n",
        "      (conv1): Conv2d(512, 128, kernel_size=(1, 1), stride=(1, 1), bias=False)\n",
        "      (bn1): BatchNorm2d(128, eps=1e-05, momentum=0.1, affine=True, track_running_stats=True)\n",
        "      (conv2): Conv2d(128, 128, kernel_size=(3, 3), stride=(1, 1), padding=(1, 1), bias=False)\n",
        "      (bn2): BatchNorm2d(128, eps=1e-05, momentum=0.1, affine=True, track_running_stats=True)\n",
        "      (conv3): Conv2d(128, 512, kernel_size=(1, 1), stride=(1, 1), bias=False)\n",
        "      (bn3): BatchNorm2d(512, eps=1e-05, momentum=0.1, affine=True, track_running_stats=True)\n",
        "      (relu): ReLU(inplace=True)\n",
        "    )\n",
        "  )\n",
        "  (layer3): Sequential(\n",
        "    (0): Bottleneck(\n",
        "      (conv1): Conv2d(512, 256, kernel_size=(1, 1), stride=(1, 1), bias=False)\n",
        "      (bn1): BatchNorm2d(256, eps=1e-05, momentum=0.1, affine=True, track_running_stats=True)\n",
        "      (conv2): Conv2d(256, 256, kernel_size=(3, 3), stride=(2, 2), padding=(1, 1), bias=False)\n",
        "      (bn2): BatchNorm2d(256, eps=1e-05, momentum=0.1, affine=True, track_running_stats=True)\n",
        "      (conv3): Conv2d(256, 1024, kernel_size=(1, 1), stride=(1, 1), bias=False)\n",
        "      (bn3): BatchNorm2d(1024, eps=1e-05, momentum=0.1, affine=True, track_running_stats=True)\n",
        "      (relu): ReLU(inplace=True)\n",
        "      (downsample): Sequential(\n",
        "        (0): Conv2d(512, 1024, kernel_size=(1, 1), stride=(2, 2), bias=False)\n",
        "        (1): BatchNorm2d(1024, eps=1e-05, momentum=0.1, affine=True, track_running_stats=True)\n",
        "      )\n",
        "    )\n",
        "    (1): Bottleneck(\n",
        "      (conv1): Conv2d(1024, 256, kernel_size=(1, 1), stride=(1, 1), bias=False)\n",
        "      (bn1): BatchNorm2d(256, eps=1e-05, momentum=0.1, affine=True, track_running_stats=True)\n",
        "      (conv2): Conv2d(256, 256, kernel_size=(3, 3), stride=(1, 1), padding=(1, 1), bias=False)\n",
        "      (bn2): BatchNorm2d(256, eps=1e-05, momentum=0.1, affine=True, track_running_stats=True)\n",
        "      (conv3): Conv2d(256, 1024, kernel_size=(1, 1), stride=(1, 1), bias=False)\n",
        "      (bn3): BatchNorm2d(1024, eps=1e-05, momentum=0.1, affine=True, track_running_stats=True)\n",
        "      (relu): ReLU(inplace=True)\n",
        "    )\n",
        "    (2): Bottleneck(\n",
        "      (conv1): Conv2d(1024, 256, kernel_size=(1, 1), stride=(1, 1), bias=False)\n",
        "      (bn1): BatchNorm2d(256, eps=1e-05, momentum=0.1, affine=True, track_running_stats=True)\n",
        "      (conv2): Conv2d(256, 256, kernel_size=(3, 3), stride=(1, 1), padding=(1, 1), bias=False)\n",
        "      (bn2): BatchNorm2d(256, eps=1e-05, momentum=0.1, affine=True, track_running_stats=True)\n",
        "      (conv3): Conv2d(256, 1024, kernel_size=(1, 1), stride=(1, 1), bias=False)\n",
        "      (bn3): BatchNorm2d(1024, eps=1e-05, momentum=0.1, affine=True, track_running_stats=True)\n",
        "      (relu): ReLU(inplace=True)\n",
        "    )\n",
        "    (3): Bottleneck(\n",
        "      (conv1): Conv2d(1024, 256, kernel_size=(1, 1), stride=(1, 1), bias=False)\n",
        "      (bn1): BatchNorm2d(256, eps=1e-05, momentum=0.1, affine=True, track_running_stats=True)\n",
        "      (conv2): Conv2d(256, 256, kernel_size=(3, 3), stride=(1, 1), padding=(1, 1), bias=False)\n",
        "      (bn2): BatchNorm2d(256, eps=1e-05, momentum=0.1, affine=True, track_running_stats=True)\n",
        "      (conv3): Conv2d(256, 1024, kernel_size=(1, 1), stride=(1, 1), bias=False)\n",
        "      (bn3): BatchNorm2d(1024, eps=1e-05, momentum=0.1, affine=True, track_running_stats=True)\n",
        "      (relu): ReLU(inplace=True)\n",
        "    )\n",
        "    (4): Bottleneck(\n",
        "      (conv1): Conv2d(1024, 256, kernel_size=(1, 1), stride=(1, 1), bias=False)\n",
        "      (bn1): BatchNorm2d(256, eps=1e-05, momentum=0.1, affine=True, track_running_stats=True)\n",
        "      (conv2): Conv2d(256, 256, kernel_size=(3, 3), stride=(1, 1), padding=(1, 1), bias=False)\n",
        "      (bn2): BatchNorm2d(256, eps=1e-05, momentum=0.1, affine=True, track_running_stats=True)\n",
        "      (conv3): Conv2d(256, 1024, kernel_size=(1, 1), stride=(1, 1), bias=False)\n",
        "      (bn3): BatchNorm2d(1024, eps=1e-05, momentum=0.1, affine=True, track_running_stats=True)\n",
        "      (relu): ReLU(inplace=True)\n",
        "    )\n",
        "    (5): Bottleneck(\n",
        "      (conv1): Conv2d(1024, 256, kernel_size=(1, 1), stride=(1, 1), bias=False)\n",
        "      (bn1): BatchNorm2d(256, eps=1e-05, momentum=0.1, affine=True, track_running_stats=True)\n",
        "      (conv2): Conv2d(256, 256, kernel_size=(3, 3), stride=(1, 1), padding=(1, 1), bias=False)\n",
        "      (bn2): BatchNorm2d(256, eps=1e-05, momentum=0.1, affine=True, track_running_stats=True)\n",
        "      (conv3): Conv2d(256, 1024, kernel_size=(1, 1), stride=(1, 1), bias=False)\n",
        "      (bn3): BatchNorm2d(1024, eps=1e-05, momentum=0.1, affine=True, track_running_stats=True)\n",
        "      (relu): ReLU(inplace=True)\n",
        "    )\n",
        "  )\n",
        "  (layer4): Sequential(\n",
        "    (0): Bottleneck(\n",
        "      (conv1): Conv2d(1024, 512, kernel_size=(1, 1), stride=(1, 1), bias=False)\n",
        "      (bn1): BatchNorm2d(512, eps=1e-05, momentum=0.1, affine=True, track_running_stats=True)\n",
        "      (conv2): Conv2d(512, 512, kernel_size=(3, 3), stride=(2, 2), padding=(1, 1), bias=False)\n",
        "      (bn2): BatchNorm2d(512, eps=1e-05, momentum=0.1, affine=True, track_running_stats=True)\n",
        "      (conv3): Conv2d(512, 2048, kernel_size=(1, 1), stride=(1, 1), bias=False)\n",
        "      (bn3): BatchNorm2d(2048, eps=1e-05, momentum=0.1, affine=True, track_running_stats=True)\n",
        "      (relu): ReLU(inplace=True)\n",
        "      (downsample): Sequential(\n",
        "        (0): Conv2d(1024, 2048, kernel_size=(1, 1), stride=(2, 2), bias=False)\n",
        "        (1): BatchNorm2d(2048, eps=1e-05, momentum=0.1, affine=True, track_running_stats=True)\n",
        "      )\n",
        "    )\n",
        "    (1): Bottleneck(\n",
        "      (conv1): Conv2d(2048, 512, kernel_size=(1, 1), stride=(1, 1), bias=False)\n",
        "      (bn1): BatchNorm2d(512, eps=1e-05, momentum=0.1, affine=True, track_running_stats=True)\n",
        "      (conv2): Conv2d(512, 512, kernel_size=(3, 3), stride=(1, 1), padding=(1, 1), bias=False)\n",
        "      (bn2): BatchNorm2d(512, eps=1e-05, momentum=0.1, affine=True, track_running_stats=True)\n",
        "      (conv3): Conv2d(512, 2048, kernel_size=(1, 1), stride=(1, 1), bias=False)\n",
        "      (bn3): BatchNorm2d(2048, eps=1e-05, momentum=0.1, affine=True, track_running_stats=True)\n",
        "      (relu): ReLU(inplace=True)\n",
        "    )\n",
        "    (2): Bottleneck(\n",
        "      (conv1): Conv2d(2048, 512, kernel_size=(1, 1), stride=(1, 1), bias=False)\n",
        "      (bn1): BatchNorm2d(512, eps=1e-05, momentum=0.1, affine=True, track_running_stats=True)\n",
        "      (conv2): Conv2d(512, 512, kernel_size=(3, 3), stride=(1, 1), padding=(1, 1), bias=False)\n",
        "      (bn2): BatchNorm2d(512, eps=1e-05, momentum=0.1, affine=True, track_running_stats=True)\n",
        "      (conv3): Conv2d(512, 2048, kernel_size=(1, 1), stride=(1, 1), bias=False)\n",
        "      (bn3): BatchNorm2d(2048, eps=1e-05, momentum=0.1, affine=True, track_running_stats=True)\n",
        "      (relu): ReLU(inplace=True)\n",
        "    )\n",
        "  )\n",
        "  (avgpool): AdaptiveAvgPool2d(output_size=(1, 1))\n",
        "  (fc): Sequential(\n",
        "    (0): Linear(in_features=2048, out_features=256, bias=True)\n",
        "    (1): ReLU()\n",
        "    (2): Dropout(p=0.5, inplace=False)\n",
        "    (3): Linear(in_features=256, out_features=5, bias=True)\n",
        "  )\n",
        ")"
      ],
      "metadata": {
        "id": "dNyE6LYqKYUG"
      },
      "execution_count": null,
      "outputs": []
    },
    {
      "cell_type": "markdown",
      "source": [
        "We've also made available the `training_records` resulting from the pretrained model:"
      ],
      "metadata": {
        "id": "dB5I-y9oLE2F"
      }
    },
    {
      "cell_type": "code",
      "source": [
        "import pickle\n",
        "with open('training_records.pkl', 'rb') as fp:\n",
        "    training_records = pickle.load(fp)"
      ],
      "metadata": {
        "id": "dQSQHEEwLKtu"
      },
      "execution_count": null,
      "outputs": []
    },
    {
      "cell_type": "markdown",
      "source": [
        "### Model Performance"
      ],
      "metadata": {
        "id": "2ICeWujWLPD2"
      }
    },
    {
      "cell_type": "markdown",
      "source": [
        "We gathered a lot of information as we were training. For each fold, we have the losses and accuracy at each training epoch. Let's visualize these. They were stored in a dictionary with a key for each fold, just numbered $1$ to $5$."
      ],
      "metadata": {
        "id": "mySlMVL_LRXd"
      }
    },
    {
      "cell_type": "code",
      "source": [
        "print(type(training_records))\n",
        "training_records.keys()\n",
        "\n",
        "#output\n",
        "<class 'dict'>\n",
        "dict_keys([1, 2, 3, 4, 5])"
      ],
      "metadata": {
        "id": "TFk3eNFpLc2f"
      },
      "execution_count": null,
      "outputs": []
    },
    {
      "cell_type": "markdown",
      "source": [
        "Each of values is another dictionary, with keys for each kind of information we tracked."
      ],
      "metadata": {
        "id": "93C0PZYKLp_O"
      }
    },
    {
      "cell_type": "code",
      "source": [
        "print(type(training_records[1]))\n",
        "training_records[1].keys()\n",
        "\n",
        "#output\n",
        "<class 'dict'>\n",
        "dict_keys(['train_losses', 'val_losses', 'val_accuracies'])"
      ],
      "metadata": {
        "id": "4kvwP9-TLt9N"
      },
      "execution_count": null,
      "outputs": []
    },
    {
      "cell_type": "markdown",
      "source": [
        "Each of those values is a list with a loss or accuracy per epoch."
      ],
      "metadata": {
        "id": "0KkrQS14L0ss"
      }
    },
    {
      "cell_type": "code",
      "source": [
        "training_records[1][\"train_losses\"]\n",
        "\n",
        "#output\n",
        "[1.2573940041655391,\n",
        " 1.0369858069006581,\n",
        " 0.9532191420728567,\n",
        " 0.9031010592602149,\n",
        " 0.8534171506126539,\n",
        " 0.7998687047670331]"
      ],
      "metadata": {
        "id": "d45Qr9miMCAm"
      },
      "execution_count": null,
      "outputs": []
    },
    {
      "cell_type": "markdown",
      "source": [
        "We'll make a function to plot one kind of value for all folds."
      ],
      "metadata": {
        "id": "PvstuiVwMHQt"
      }
    },
    {
      "cell_type": "code",
      "source": [
        "def plot_all_folds(data, measurement):\n",
        "    for fold in data.keys():\n",
        "        plt.plot(data[fold][measurement], label=f\"Fold {fold}, {measurement}\")\n",
        "    plt.xlabel(\"Epochs\")\n",
        "    plt.legend()"
      ],
      "metadata": {
        "id": "ih_e-EWGMfet"
      },
      "execution_count": null,
      "outputs": []
    },
    {
      "cell_type": "markdown",
      "source": [
        "Let's try it out on the training loss."
      ],
      "metadata": {
        "id": "kXd1Rnc-MhaW"
      }
    },
    {
      "cell_type": "code",
      "source": [
        "plot_all_folds(training_records, \"train_losses\")"
      ],
      "metadata": {
        "id": "j9kRhEF0Mk4P"
      },
      "execution_count": null,
      "outputs": []
    },
    {
      "cell_type": "markdown",
      "source": [
        "![Screenshot 2025-03-02 011253.png](data:image/png;base64,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)"
      ],
      "metadata": {
        "id": "vn_QL7RiMu4H"
      }
    },
    {
      "cell_type": "markdown",
      "source": [
        "Looks like all the folds were very similar. That's good, we expect them to be. Let's look at the other measures."
      ],
      "metadata": {
        "id": "PD0WokEzMxBV"
      }
    },
    {
      "cell_type": "markdown",
      "source": [
        "**Task 2.4.16:** Use the `plot_all_folds` function to look at the validation losses (`val_losses`)."
      ],
      "metadata": {
        "id": "dlaBQ_3YNL-y"
      }
    },
    {
      "cell_type": "code",
      "source": [
        "# Plot the validation losses\n",
        "plot_all_folds(training_records, \"val_losses\")"
      ],
      "metadata": {
        "id": "y0gDkarzNYL4"
      },
      "execution_count": null,
      "outputs": []
    },
    {
      "cell_type": "markdown",
      "source": [
        "![Screenshot 2025-03-02 011603.png](data:image/png;base64,iVBORw0KGgoAAAANSUhEUgAAAeYAAAFZCAYAAABND4xvAAAAAXNSR0IArs4c6QAAAARnQU1BAACxjwv8YQUAAAAJcEhZcwAADsMAAA7DAcdvqGQAALRBSURBVHhe7J0FgFRVG4bf3dnu7gAWFpbuBulSEQR+RcBAUcRABAslFBURBQsLW8QCJKSR7u5YWNju7t7/vGdmcMEFttldzoPHmbn3Tu7Mfc8X5/sMigRQKBQKhUJRIzDUXSoUCoVCoagBKGFWKBQKhaIGoYRZoVAoFIoaRJ2MMfMtpaSkwMTEBAYGBrqtCoVCoVD8F2pGbm4ubG1ta4Rm1ElhTk5ORt++fREdHa3bolAoFArFjXFzc8M///wDOzs73ZbbR50U5qysLDRp0gQHDhyAlZWVbqtCoVAoFP8lPT0dnTp1wvnz52Fubq7bevuo08J85swZJcwKhUKhuCkU5mbNmtUYYVbJXwqFQqFQ1CCUMCsUCoVCUYNQrmyFQlGn4CmNGbYcCkVxDA0NYWZmBo1Go9uipaa5spUwKxSKOkVmZiaioqJgamqq26JQaMnPz5fC7OLiIkVajxLmakAJs0JxZ8LTGZdJci2qs7OzbqtCoSUnJwexsbFyaRQFWo8S5mpACbNCcWdSUFCAyMhIuRbV2tpat1Wh0EKLmd4Ue3v7a7RBZWUrFApFFaMq/ilKorZ8L5QwKxQKhUJRg1DCrFAoFDWMjz76CMuWLdPdupaff/75hvuqE7p933//fekGLom8vDwsXboUmzZtkrF/RelRwnwTCgqLEJaYidSsPN0WhUKhKBtLlixB/fr1ZSawfuzdu1e3t2T279+Ps2fP6m5dy4kTJ0rcRyGkYPfr1w/u7u5SFKuS+Ph47Nmz54bL0hjvP3nyJC5duqSEuYwoYb4Jm87EYNiiPVh/OlqKtEKhqF3wV1soRKGqhvjvlmRnZ6N58+ZSTPWjQ4cOUqwSEhJw4cIFOSh0JVFYWIiIiAicO3cOYWFhNxRCPh4T3h5//HGZkc7nLQ1JSUkIDw/X3dI+TlBQEFJTU6XYM1lK/xrj4uLk6ykPvB8zomlpBwYGyufVw8ZDFy9elO/xypUrMklLfzyfl/fha9QLPLsH8nhu5+vTvyYulbt8+bJ8HE4I0tLS5PbahsrKvgkRSVmYuOSI/HEveqgNfB0ttTsUCkWNRJ+VzaxbS/HbPx+Vij2XSha8yqChixV6+jvD8CZJRd988w3WrVuHFStW6LZoodjOnj1bigfX1LLoBW/7+fnhwQcfRNOmTTFz5kxpPb/zzjuyJaGjoyMOHz6MAQMGYNasWbpH+i/du3fH+PHj5bgVK1eulK7zLVu2wMjISIrhXXfdJV3mrq6u0uIPDg6WS424NvyFF15AQEAAdu/ejfnz5+P777+Hg4OD7tH+hRMDvh8fHx9MnDhRCuWcOXPk34iD7+fNN9+EpaUlXnvtNTkR4ONz8LiMjAzMmDFDirGxsTGcnJzk8RT0Dz74QE5qmMzFx5o0aRJat26Nn376CVu3boWFhYVcDnX//ffLToN6in8/anJWthLmm0ArecXRcLy77hyGtHDH28Oaq2xPhaIGc40wixP+rwdDMf2v07q9lc+wNp74YFRLGBUrVnE9FOZ58+ahY8eO8ravry9effVVuf3UqVNSdCnMFCEPDw8pZqNHj5bCPG3aNCmEFOsJEybI9/bss8+iZ8+eeOutt+TjlURZhJlC16NHD3z99dfo2rUr/vjjj6uTCVrn3E9LnOdVCjhf49NPPy0nDGURZr5nivv06dPl4/J99erVS46hQ4fKlot089N65jrj7du3y+f78ssvYWNjI1+Ht7c3Pv30U+k5mDp1qhRfTiAOHjwot/MxBw8ejHvvvVdaz5zsFH9ttUWYlSv7JmgMDdC/qRs6NnDEH4fDsfNi1c28FQpF5cJJ9H2tPbH31T5VNmbd2xQag1ufRinGL774ohxjx46VFh2FrUuXLlLoKEQUJwoDBVBPYmKitFZHjBghBYbiQWu1eNWqikKRuueee6TA0oVMgeTz0XqmkNHSHzhwoGyL+NVXXyEkJES6uMsK3y8tcVrhFNj+/fvLeDnj75x4DBs2DAsWLJDvn4Lq7+8v3dRPPPEEfvvtN/k66bI+cuSIfK18Pa1atcLbb78tXzM/U96HE5bXX39dWuglTRhqAxX+67LKDmd6/ILxAz969Khuz7XExMTgoYcekrPAIUOGyC+cHs6iOFvr3Lkz2rVrJ2eJ+ngLZ13c161bN+mqmDJlinQBVRd2FsZ4pEs92IvLd9aeQ0xq6eI2CoXi9mNpagQPO/MqG/YWJmICoHuym0CLj+c2Dp4DKXoUHwqhHoodBbe4V47XuU0vhBQmimVl8/DDD2Pbtm3SPU0xHDRokNy+fv16/P3339K1TPHjxILWbnkcrSW9X26jZ2Pjxo3S4qVbf+TIkVJ8aWkzo5vCvHPnTukFYPyZnwFd33ytHHTtc9AF/sorr+CXX36REx26t5k1XhudwhUWZroSmAW4aNEi3ZaS4Yf2wAMPSBcIZz7FYWbfF198Id0ijBFwRsYZEjlw4ADWrFmDd999V2Yc0uXw+++/l2vGVl46N3DAqPbeCEnIwJL9IcjOq/wfhkKhuLOgO3rXrl0y0YpW8fLly9GyZctrXKmMKTds2FCKDY0bGj4M0d1IbGhtMkGL50eKHOOwN0oWKw4nCwz/ffzxx9Ka5Tmaz8G4r6enp7TS+Zi0cMsLrWXGsUNDQ2XyF0W/ffv28jUyIY7egMmTJ6NevXoysYsGGOPd1BfGlvne+BnQgOPnxvdHFzsnKnzPfJ9M+qIo03XO+DITx6piIlPVVFiYWfqOH3jbtm11W0qGx913331o1KiRnCUVh7EExhkY5+Afh26V1atXyw+UMRhuY3yG7g7GD06fPi0TA4rDmRhjChz8A1bmLImJHRN6NEAzD1usPhGJE2HJuj0KhUJRPigcjKk+88wz0mChyNByLQ4NnyeffFIKF/cx9mtiYlKiK5vnSxoxNIAoSIzNPvXUU1fFdNWqVdIqvRGMa+/YsQNt2rSR8Vda6zzv8lxLq5WGU0Xir4899pg8L/P9PP/881Ls+RlQVD/77DMZD+dnQWHVW8eMUfN9M55M9zonLkyMo+eBsepx48ZJ65kWMz2vNN74WT7yyCNSJ+ilpXeitlGpyV90ZXMWdDOR3rBhg1xfx6C+3v/PpIYWLVrIPxahy4R/IH6hGD/grPG5556Tgk4Rp3XNP2TxIvXcxj8U4VvibIop9RVJ/rqeY6HJGPPNfgxs5oY5w5rDyrT2/cEViroMxamk5J7bCQWD1ub1r4fnKe7jIPQq6hsrUAx5vuNtHkeDg4+hFxle6o8tDkN/xWPUFHDGXpnVTAHja2D8tST4+HxeHk/xJ3Qb8/G4j6+Hz8vXQ4HmZ83noyu6pKRYHsf9fA18b/rbfL88nq+f2/kcfH80rridz819fHw+Ny+5nc+pf118PdzH+/LxeTzfIx9f72rnbd6n+CTmRt8PlfxVAvzg+AHr0X/YRL+PHzThZUlfAs7ouM6Ng0F/ul8qmybu1nioo49c17zrYpxuq0KhUNwYik9JkwS9OHHZEEdxoaXY6W/zON6m15GPw1H82OJwO0VHP/i4FChCt/Sjjz4qr5cEj+Nz6MWP8Pyrf25a9BQtCjdfE0War4XZ0rROWUyk+GD+EY/n+yd6ceVj8XXpt/M5+Dj67TxG//h8Tv324q+Lr5Vxe+7jJffpH5/Hcjtft15Hahs14lVTRBlT0MMYBDP1+OGzgg1nOPpZEJPC+Ecs/kciPJZ/CP3gH6myMTfW4P62nvBztsT8DRcQnpSp26NQKBQ1G+YBVYXBwrguE3T5+MXHraqbKW5MhYWZrgHOjBgP4HUG7JnVx+s//PCDzKrTw2N4LN0GTPDicYTBfcY26AZncgMXvDMzj7MdxhSY7MCsPMZZuI8xEIrv7cDf1Roj23khOjUbCzdfRF5B+argKBQKRV2Ay5bmzp0rlzoVH1xLrCgfFRZmWrAMtjNGzCVQTDxgsJ6LxBkrPnbsmO5IyGN4LBMUmOilT3Rglh2z7piKz7VsFF4KM+EfnYF8Bv8p4EyhZ5KCPtZS3RhpDPFgRx809bDB5nMxsmynQqFQ3KnwXFzcW6kf13s1FaVHVf4qJ6cjUjB68X609LTF+6NawdPu9icMKBR3OjdK7lEoiEr+quM0F4I88S4/nBQCvfZkJHKVS1uhUCgUlYAS5grAoiOtvOzw8/5QhMSrRDCFQqFQVBwlzBXA2coUD3fxRUZOPuZvOq/bqlAoFBWDy5ree+893a1r4TrkG+2rTljMg0VBblRZjGuiWUKZTTEUZUMJcwXgiqyuDZ3QL8AV/5yLxV/H/u0XqlAoFITVutiogrX+9YOVqm6GvlBGSbBAR0n7uE755ZdfRu/evWXvglGjRslyx8VrRFQmLAiiL45SEjwXcn/x+tiK0qGEuYKw+hetZiZ/ffLPJVyMTdftUSgUt50iIUoFeVU3CktXh7lDhw6yvrN+cOUJBevQoUP4/PPP5bpf9gUoaWJPEeZSUlZLZFlNrngpCVbmYilLdoDicSxzvHDhwqsNgW7Evn37ZA9jPXw+rkvmclY+F9s/spQnt7G5RHmFlo/LWtl8rMWLF19Tu4KPy+qNrNX9119/XZ2Y8HhWeeTns3nzZnksPyOu9uH75GfHRhasBMbtXJL7448/ys+K7SBZcKo2ooS5EuDSqSd7NkBYYqZscpGRq2aICsVthyJ3aQvw6wNVN/Z9WipxpmiyipV+8DaFibWg2cSB1i47I7E14vWwbwC7JLFoEssU85iSrGAuUWLrSLY+ZA3uvn37ymxjitzNYO0Jdo/STwpYtYvCxipiFHU22GAGM0War6O8jSxY04Lrmym4bGLBvtLsq8zPgZY+y3Lys2GBKR5Dr8Inn3wi3zcLSHGVDWHvZbZ25PHMsubkg54BlmGm6LMKGSt/8fWybkZtRAlzJcAmFw918kGXBo5Yfyoahy7/29JSoVDcRlIihDj/U3UjhmJx6/AVa/xTLDnoambjhm+//VYu0WENa70LmlZecauZgs1uehQx9gtgDwF2myqNe5oiyEYRdKPfDPZFZsEnfcteCihrRnBJERsHsREGa0nw+Sn6tG5LsuxvBcWeTSsYd2ZBEk4kaB1fvnxZiijfI2PrvGSZTQox+yGw3DIHt1OIv/vuO9mcgr0V+HmwRSW3cQJCC5mTE75etn28VXOlmooS5puRHgucXQUkXtFtuDEU5+l3B8i485IDoUjMuHWrNYVCUYXwx9h2HPC6sJqqaty3SPz4b13siEWUKHwcbGnLxjy0RBs3biwLdNCCZicnCjYtQT0ULA4KDCsh8n4sq3mzGtA8nj3yaS2++uqrtyzGxNrSw4cPl+JGC5nCqy/wxJaULO5E8ebE4aeffpKvsTzubL5fThT42vma6M6nxcx4OItPsXMgXy/d14xNDxw4UD4XRZhtf2kJ872x9SMtZrrt2aefbnEez/fBbfRCUMQ5oWEd79qIEuabEXMaWP0ccHo5kH9roW3gbIWxnX2x/3KCbA+pUChuMxRNY/OqG5rSVbeiW9jLy0sOduGjONFtW1w4KDgsbkG3rR42emAFLQoUoQDRPX0ji5XH0bXLIhqMCfO5SgOrMDLOzMHno4BSfBlfZnY147x//vmnbN1Lq7U8FjPfL6tD6uFrpYuc1jET5GhR0xugF2FWeaQHgRY2Pwe+Rn5G/HxeeOEF/P3333Iw/s54M4+hlczrffr0kT2sOdmojShhvhluLQGvDsDRn4CUMN3GG2NqZIihrT3Q1N0an229iMCYNN0ehUKhuBaWH2YbXDZ7YBIYRaRnz57XlLKkhUxrmW5p9limCNGiLQkKKMWNMVoKF4WKrnAK6a1o3ry5FELev2nTplIsCV3mjPfyNdG1zJ4G5YXvl2LJHvtr166VkwDGwfm4LN9Mi7dVq1byOTkp4OfCeDYbGulLPvM98T4UbIo3vQu8P+POnLBQqDlpYLIdXfG0sGsjSphvhoUj0OZhIDsF2HvjBuPF8XW0lLW0s/MK8ebqM6rJhUKhKJEBAwbIwf4CdCXTdcvYaHHo8qXFSGGkO5yCxLgvXd/XQ+ubbl0eQ2FiZz7GiilghG5ijpLg4/F1MN7brl07KYB87nvuuUcKXvv27aXVfNddd+nuUXYmT54se/BTWNkXYebMmdIVTS8As7H5HOyDwOekEDMpju+djYwYg+fzN2jQQPbvHzNmjIx9U8iZNMf4MsWcwkyXO8MCtKwZF6+NqFrZtyIzHlg7FTi3Fnj0b8Cns27HjcnNL8Tzvx7FrosJeOOeAPyvvTc0hpXfhlKhUFzLjWohK4D//e9/ePDBB2UC1p3Kjb4fqlZ2bcPCCWg9FjC1Bra9I1T/1skEJkaGeHlQE9hbGuOPQ2G4HKfWNisUitsL1zUzg7myoRuZLvAPP/zwmqHP8laUHSXMpaF+T6DJECDiCHD6L+36yFvARLAX+vnjfEwaVh6PQHZe6QoRKBQKRVXAxCgLCwvdrcqDj6lfClZ81ATLs7aiXNmlJT0O+LgV4NEaGPY5YF9Pt+PGpGbn4dXlJ7EzMB5/TuyCAHdtQoVCoagalCv79lCSjLAwSE1DubLrGlbOQJ/XgagTwIX1QOGt1/HZmBnjoU6+sDU3xltrzspmFwqFQlHXoAhfPxTlRwlzWWgxCnBrARz9GUgpXQ3Wtj72uLulO46EJOHHfcEorHsOCoVCoVBUIkqYywKXT7V9GEiLAA6VbuG6hYkG4zr7wtvBXNbRPhZaO9fVKRQKhaJ6UMJcFgw1QKMBgFdHbfH6uAu6HTfH28ECrwxqgqiUbPywNxjpyqWtUCgUihughLmsWHL51BjA1AbY9DqQm6HbcXP6N3XFsNae2HMpHv+ci0FhoXJpKxR3AqxZzSpWxds+pqSk6PaWDNcbsx50SUybNq3EfayYxapfXL7E52OXKFb+qipY85uFPlgZrCSYUMVM8KVLl+q2KEqLEuby4C+s5ga9gND9wPm/S7V8iskQz/ZpCEdLE/y8PwSxaTduMK5QKOoOrEb15JNPYuXKlVfHrXoklwdW0GJnqF9//RXLli3DBx98IPsVsx2ionahhLk8GFsAvaeLKwbAid9LnQjm62Apm1xciE7DT/uDdVsVCkVVUVBYgJz8nCobeQV5ume6OWzOwFaH+sHSkrQ02RiCnZxGjBghBbWkdo6sB80+yHfffTdmzZqFqKgo3Z5rYRlNVvV688038c4778i2iOxTTCv6ZixZsgSLFi3S3dI+Hy1hLh3i0iK+XjavYJen5cuX39BCvhV8XPZX5mONHTsWu3fv1u2BfFxWJmM5zjfeeENa+vrjWWOb74tFTAiXZq1atUp6Ffi5ff/997IkJz87egtYsnPIkCF4+umnZV3u2ogS5vLi3Bjo+jwQLL5cl7eLb8uta2IbaQwwpIW7zNT+fFsQTkfc3J2lUCjKD0/gKy6uQIdfOlTZmLl3JvJLsXSS3aRY71o/6EE7fvw43n77bSmCjz32mBSk1atX6+7xL+yWxBaGbOXIblE7d+4ssTEFn4O1qNmAgt2sLl68KLdzze7NYE1tPod+LfK+ffukoLElJRtjsAfzvHnzpJh++umn8vnLAycAf/zxh6x/zRrZFFaK/+HDh2UtbHoVaOW3bt1afj5sbMF+za+//rqckNjZ2cnHoQeCnxsFmC0p2YqSnxsbVvD+bMjB18n64yV9TrUBJcwVgb1enf2Boz8AaSXPYq/H2dpUZmk7WJpg1uozqm+zQlGFOJk7obVL6yobvja+MKDn7BawexQbQHA8/vjjsuHEDz/8IC1BCggtRVq4a9asuUZM2FFp+/bt0mJmEws2uaCo3Qg2cpgzZ47scUyRopXr5OSk21syPJZNLNjpis+9efNmacVTHOvVqyebWtCCZeENWvoU05Is+1tBy5ZNJVgalNYsG2zQ8qUFzgmFpaWlfA5+FmwRyUJRfO18bawkxraPPJZuen5u9BDwdfD109vAiQUnJCwcwutdu3aVIl8bUZW/KgJnykeEKG95E+g+GegxTbfj5uQWFOKdv8/i98PhmNy3EZ7oUR/GGjVHUigqyvWVnQqLCqU7u6owNDCEhqs1bgJ7DVOAfvzxR3mbQkPhoet28ODBUqgJWzqy9SMFm9vYfvHRRx+V19lbme0PyTPPPANnZ2fMnj1b3r4eJl3R0qUlyuekxckuTDeDFjHbSc6fP1+2jGTnJ4ra/v378eWXX0ornK+b9a/ZEYsW7ooVK+REgoJLL8D18HXwuO7du8sJAt35fD36iQUnEBR8JrLxPbPFI+XI19dXvkdOMr744gtERETI6+wYNXToUGkp82/r4eEhH4fiTE8CO1Zt2bJFTjAo4BT58ePHSwtaz/XfDz2q8lddgk3Y/QcBHm2AvZ8B8YG6HTfHRIjw80KQve3N8dexCJyJrLrMSYXiTobCaawxrrJxK1HWwxaEtAo52HeYbmdageHh/+anBAYGXnVD66F4sBY12zESCi7bId7MnuJ9KFSdOnWSt5kVfivopj527Jh0CfP1URwphuy/7OXlJYWarnSKXHmsZcLJRPH3GxQUJC1iCiFbOFKoKaTMWudrYS/ql156SU4sOEF57733pEhzUkOx5/EcjKdzMsHPmK0zOWGhu5ziTPd5bUQJc0Wx9QJaPSimYnnAppmlytAmjlammD20GYLi0rHiaDiyclWTC4XiToJiwxgqx9q1a2Wi07333istUz0Ucrq/2Uf5wIEDMp7KhK6S4BIsWtaMXZ87d04mS1GU6X4mFPMbCbqnpyfatm0r3d/sf8wJAicPvKQlS0GkdczXWl4ouuypTLGnJUzrlolgTAKj1R0TEyPjxMxYp0Wrz2BnEhjj5Xl5eXLCwYQvWvb0QgQHB8vJBJdk8b6MLV+6dEkey8kM3eO1EY2YXZTsD6nFcKbHLwDdISW5WCodBz8gdB8QfkibFObUSGy8ddyJS6fiM3Kw5kQkWnnbop5j7fwSKRQ1BQoPlwfRCquW334poDhSKNjAvzi0IGk1Mz5KC/HZZ5+VosPYLoWV8V26oCmUdLXSDUyhbNOmjXQLX++e5nlv27Zt+OWXX6ToUdRp6TKJi9CqZGLX9a9DDx+br3X06NHw9vaWwkxrmVngnBBwwsCJg5ubm3xNtNyZDd2jRw957PXQbRwSEiInBhwBAQFySRdFlCJMC5iTAW5jXJvrok+fPo0nnnhCPibd3MzW5oiLi5Pudrr3+TgMVXI7xZmC3LdvX5nExskLP0++f05ouI66uAfiRt8PWtdcWsa/AS3v242KMVcW4QeBJSOBet2BuxcA1m66HTfnWGgSXl52Eowx//R4RzgJS1qhUJSPG8UQFeK0dPfd0i3MpKg7FRVjvtPwbA+0fUS3fGqHmJqVLg7T3NMW97XxxOX4dHzyz0XV5EKhUFQJjMUygaqy4VIuZlIzKaz4qIjb+05HWcyVSWoU8P1gwMYDeOBnbdOLUpCWnY+RX+xBTGoOPhndBj39nXV7FApFWVAWc/XDpV8c1yeFMbFLv/a4plBbLOYKCzN986wsw5gB3zTjH8yaK4nY2FgZxOcfkFl/Pj4+cju38TGKvxTGC/hBMY5x9uxZGYcgDOYzzsDMwRtx24SZCWAHvgK2vQ0MeBfoMF6349awhvbEJUfQsZ4D5o5oARfrf+MiCoWidChhVtyMO8aVTeFkNRcmB4waNepqtZnrYcbgK6+8IrMGeezkyZNlRh3hMgFWeWHAnlVduPhc7wbhwnyuheN27mdx9lsVgL9taIyBxoPErKI1sPtDMZUsfdnNrn5OGNPJB4eCk7DxTAzyC5RLW6FQKO5EKizMXGvGcnKMX9wMVmuhaDOzjtl4zJRjFhwZNGiQrO/Khebjxo2TGYGs7KKHGYivvfaa3M/qONx/Pcx65Bo//bhtHnr7+kCLkcJsTwJ2vF/qWLOBAfBwl3po6GqJH/cEIzo1S7dHoVAoFHcSFRZmppzT7Xyrsm8bN26UCQFMtaeYc1kAK90QpuEzRZ2D7meuqeMgXDpAq5lVaHr27Cmtcy4LuB6ui9Mv4GdFmOIL2asVFhxo/ZB2CdWFdcCV0teVdbc1xyNCnKNSs/Hp1kticqHboVAoFIo7hmrLyuY6tOLiTXHmejLGqPXwNuvCspaqPk5Nvz9L2nEROl3hXIjOxfjXW8Rcr6ZPQuC6O66/u22w+1T/t4AC8d6O/Ki1nksBreYejZzRN8AFy4+GY8u5GN0ehUJxJ8FeyvpqX9fD0N+N9lUnXPPMZhc3qgTGeC7XY9+oG5bixlSbMDNpixVc9PA6i5AXr3JDK5cVZtq3b391wToFluXX/Pz8ZEp+//795WL84oJOjIyMZOk6/aClXVGo/dnpecjLKUdVrgZ3Ac1HAMG7yrR8is0t2OTC0dIUC7cEIiQhQ7dHoVDURujxYx2n6dOnXx1XrlzR7S2Zd99994blJJmnc6tSkxREdmRiTk5VQSOKYcmSPJiESbisxMWiJ4qyUW3CzGxtFkTXwwo0LVq0uEaYmfDFTG19pZrroZXM7GyKbmUI760IO5uA9V+fQvTlciSbGYiPtstzgIklcFz8iLJLXw+bbSEf7uyDizHp+OVAKHLzSyfqCoWi5sGSllu3bpXNG/TjZqtKKgorYVH86VlkIwtF7aPCwsykqwsXLsgG1bzOkmpc3sRZFAuQc3ZHWKSc5dIYC2acmF1UWCJOD49nKTkmgulLqHEbS7Wx9BpngD///LMUb1auqY5ye9aOZogLTUPQkdjyWc0O9cWMZBxwaYuwmks/a9QYGmBir4Zo7GaFdaeicCSkdK5whUJxLYViIl8ghKqqRmFG6TxaDOOx8pZ+MBeGFiXbOTKZlZ5BJtDyHHo9DM+x3SPvw5UvrAV9I+g+ppXKEpVcVloaaJ2zHaMernphCU1a+mw0wZrezA1q1KgRPvzww2s8n2WBEwaGHFmGlMYXdYDGFl3hrNHNEqT8nNgGk+0u+Tp4PHOYmHPEEsuEusD3SC8qPztWM2MYlO+dq3dY5pPLodgmkyHQ2kiFhZnrvyiYdJuwmwnrlH777bfyj8dasPoF5vzisRYqxZmFyZmRTRe1Hq4f4wfap08f3RZt4hdd1Jz5sYg725Lxi1H8mKrEyt4M/h1ccflEHJJjyvFllMunhgDubbStIdPjdDtuDcV59r3NkJlbgF8PhiI1678/WIVCcRPEST9FnGsCO3epshE9+00U3cCVWxwuK6WRwUHPIUNxmzZtkoOVs9hCkQmy+taQeihCCxYskDWp6ZYeM2aMXN1CEboeChwtcwogu0WVFiblcrkq70e4LJWeS4YUuaaXbRZpedN9zgYa3F8ePv74Yym4vD/fE1fiUDj5eSxevFh+BmzAMXXqVPm8/KxYa5suc3acGjZsmBRyfka8Hw02fn5cdsttnMBwKS5X7tA4pMZQ1GsjqvLXzRCfTMjZBGxbch6e/vbo/1jpZqDXwJ7N+z4Htr8LtBsvfgVzxHSodK3isvMK8NGWi1h6IBQz722Kke1uY0KbQlELuKaAhKUlssUJOn1H6VdGlBVT/0awEoaCQQlNHPQweVXfOYpQLGiF0kplcuu0ado+7uxJTGHl8Q8//LC0eCdOnCiXo9LwYTlNhvKefPJJaV1S2IrDZCxav+zzTHc5rWyKK4XqZnCSMGTIECnmbGDBvsZs78h6EjSwKIIUTFqwvE6B5GvnElh2nCptP2aGM7nkVf858HUxCXjkyJHy8+Blu3btpIFG7wAnC/Qi8P1wG+9PjwKbXPDv7O/vLx+HoQKe8/l6+HzMXaLHgO9dv7pHzzXfj7pcYKROYwC4NbCFuxiXj8UhJrgcsWb2bG49GnBoCJxZrm12UUrMjDUY3sYT9Z0s8cHG84hKUWubFYpSY2AAMyFuThOfqrJhLQTgZqKsh65h9jPmoLAyGZbuVwqEHrY0pMAUd2fTUqZw0vtIKDoUlJJybGgl0mPJECGFecOGDbL1I0OEJVnYeiiqFGVancz2ZgIuk2xps9FqpduYq2TYUYqWNEXsRpnYN4Pvl4Krh++Jj0W3NkOeXC5Lbys/H1aS5Htg/QpmddNdTVc2LW4+DpfPUqw5KOpcscPXyPApc5foZeUkg6+/NqKE+RaYmhuhUQdXaIwMcOjvYBQVlsPBYCl+VL1fBzLigMM/Anmld4s3drPG/W09kZKdj7dWn0VBeZ5fobhToYBROKtqlDIJlatMmDvDQSGksNLqZX4O3dUUTubpMP7KVSV6GApkotjRo0elGFKYKJwlCSMtavY6pjuXVneXLl3w4IMPyrydktoyFueBBx6QZZEp4pwg8HVwgkBLme0TaaXycTgxKK+Tle+XuUJ87XzPfGx9e0mKKScUdD/zs6DrnELNsCUz2unmZvyY752vjSHOoUOHyn7OHFxiq/9MH3/8cXz55ZcYOHBgrW2kcfO/lkLi08wBzj7WiLmSivAL5UzEYqlOxpuDd2iLjpRy+RQZ0dYLHeo5YHdQPNaejFIdqBSKOgAFhOG2uXPnyiQwLiui5VrcGmaPZIom+8vrB5O/ShJaWtJ0f+sHBV1f0ImPSVHkKAm6bwcPHiytZrqTadFT/Pg4O3fulEJP0eQEobxMmTJFCiyteFrCtJZZ4ZF5R1x2RWuZg8JMK5pCzO10lc+fP19ayawCOX78eGkJ083NJGJ+dozT09XOz/Krr76S2ynuzHuqjWjEbGS27nqdgbMxfoHp+qiM7G1DjSGs7Mxwfl+UnCAz3qwxLuOchnd0aACcXg5kJQN+fQGj0vVeNjEyhL+rFdaciERkcrYUaTuLmtEEXqGoSdCao6uTQlMdKzdKAwWOLmDmvRSHbmxuY9ISLVHGhCkkFFHeZpyXFiXFiNUM4+PjpWDRiqRbuaTSxMXhY1BY9QlQM2fOlI2E6CIuCb5GDlqadDnzdTBpl9f53PXr15fWKV8Dn5ufL2O4jPWWNFHg/fl34PF0W9Oa5fug1U+rnBnXfEw+Dsso83Pg8bTyAwIC5OvnttTU1KvH8/n4GhlvZrIa78fJB70DnIDQ7c/Hp7XPpDZmwNPy1nOj7wfvx4nHs88+e83xtwuV/FVKCguLsOGr04gPT0PfRwKkOJeZ/Gxg+zzgwJfCDF4MNLlHt+PW8K/0075gvLvuHCb39ccTPcUXWkwYFArFv9wouedOh6f53r17S4uUy4zuVG70/VDJX7UUQ0MDtB/si8yUXASfTEB+XjmKfhiZAU3v065v3jQDyNO2siwNNLjva+2JjvUd8P3eKwhPLN9aQoVCcedB65XLjqpClJlxTguasd/iQ1/DQlF2lDCXATs3C/i1ccalI7FIjS9nhrRbc62lnBoB7P1YmOKlL1xia26Mh7vWY7I45m24gKy8chQ9USgUikqEMV8WI+GypeKDa64V5UMJcxkwNjVCg7YuKMgvxJldQljLA5dPtRFfWMabj/4ERJ/S7bg1tJo7C4t5QDNXbL8Qi2VHblMHLYVCodBBlzDjvIxlFx9MIFOUDyXMZYDC6NHQFq71bHBuTxSSYsrZYMLOB+g2BUiL1IpzXumtb2szYzzatT4cLU2weOdlnI8qfQ1uhUKhUNR8lDCXEXNrE/i1cxYqDRxZHyKTssqOuHPL/wHeXYBLm4HwQ7rtpaOhixWe69sIkclZ+GFvsKwQplAoFIq6gRLmclC/pTMc3C0RejoBscHltFhpfvebCeSkAyd/116WgVHtvdGrsQu2XYjDjsA4tbZZoVAo6ghKmG9CXnQMUv5aidzQMN0WLaYWRmg7wBc5Wfm4cCAa+bnltFjdWgAtRgHn1wJhB3QbS4eRoQGm9PeHqZEhluwPQXKmanKhUNQVWOiDTS1KYtWqVTfcV52wLz4bGHEJUkmwrjfrV7P5kKJsKGG+CTmBFxAzdy7StmxBUd61HWR8WzjKOtrh5xOREFHOWLOxOdD8fm3Jzn/eglB43Y7SwaIjYzr5yLaQf6pEMIWiRqJvVcuiGPpxK7Fav369rIhVEuy0VNI+Npxgkwj9c7CONG9XFSwnynrcNxJmFvlgUw4epygbSphvgnnLljBt0hhJv/+GvLhY3VYtGmGpth9SD8mxWQg5kyAztcuOAeDVHmjUH4g5DRz5TmwrvUvaWGOIIS3c0crbDgs2XcCV+HJOEBQKRZXBlo+snkUrVz9YuYtFP9ikgqUkOXi9JHgcK1yx0tXNGkhwOztMsfc9n4OiyTKYt4LPW7zHMp+Pr4cVFPmY+ufmNlrB5a1JxfvxefSPVbxZBx+X2/TvkccWP56j+GvUH8/BglL618THZKUwHs9LvofaiBLmm6CxsYHdqFEoTE5B0o8/oei6H4SLrw18mzng4qEYpCeVvljINXD5VNtHAHtfbXvI+CDdjtLh7WCBBzt4w9RIgzdXn0GKcmkrFFdJic2Uv8+qGtGXU0olVCz/WLz4Bss+sjwmuyKxFjbLULKJA5s0XM/p06cxbtw4eQxbRNKFfKPn5Hb2J2ZN67CwMFkO9FawrjR7Luvh/Tp06IArV67IQav7sccekyVDWdaTlbPKA6tqsXMU3wffM2tdszwmy27yffE9st0le+9TcPk+2PaS2/n8PJ6w2xRfB7tK8Xj2b+brpFjzvbDeOO/D1pRcX10bUcJ8MwwNYdmlCyzElzR5+XJkiR9EcUzMNGjY3hVZabkIPBCt21oOnPyBjk8BaVHA0R+1pTvLwICmbujf1BUHgxOx8niE6kClUAioXWw6s+nbM1U2Tm2PKFU/msDAQNmSkGPhwoXSKmRDB4rzokWL8MUXX0iRYmeo4tCaZVMG1o5mv2YW82Bd55KsZo1GI+trcx/7Jr/99tvy8Xj8zWBNaTZ8CAkJkbc3bdokLfpGjRrJ+tMUUwrehx9+KK1/utJLMxm5Hjav4PpmlgVlU4otW7bIZhQnT56UDTxYQYyxdU5QuAZ679690hpmBbHFixdLweV7Y1MLTjh4PLtIcR01t9FCZg9niviSJUswZ84cWWe8NqKE+RYYiS+m3Yj7Zc/VuI8+RqH4ougxMDSQNbPZeerE1jBkpJTTamaGdttxgEcb4MI6MSU8odtROsxNNHhpUGPYmBtj+dFwBMak6fYoFHcu/FnVb+WMka+0r7LR8d764jyge8KbQFc2m09w0BqlBc2uTT169JBlMtngYcSIEVKkKEZ6KITsJkVRYhEPdn5iTWeW2LwetpSkBUlrkt2baEkyUYz3vxnsFd2qVSv89ttv0l3M1pG0avXQJc7nf+ihh6SLnAJeHhcx3y87WLERBds8sp0kJwR8/2x1yQYS7BLFWtX0KLABx8WLF/HGG2/I+/J1ckJDb8ByYSiNGjUKw4cPl9cp8HwMNsngBIATHR6r72Nd21DCfCvED8BSfIEsOndG9pkzSF0rhLPYbNHK3lT++Avyi3BsU3nXNQuMLYB+s4GUMG0HqjL0bCZuNmaYcXdTnI1KxerjkchRa5sVCljYmMC1vk2VDVtn8xJF8nqcnJykKHF0795dCjOTpoq7milGtAiLW6O8zaHveMQuTrSMS4Kvw9raWlqQtDjZ9YmX7Ax1M/iYdAv/+uuvOHXqlLTc2YGKz0urnuJOK5YWO13Q5Y0zl/R+uY0drGiF051OAWZHKLqmmcC2bt062Wd6wYIF6Nu3r5yo8PlnzZolXy8HLW9mf/O9zps3T1rKjLXzs6blXBtRwlwKaC07T3kBBmIml7JmDfKui7E0bOcCOxdzXDoci8Sosq1Hvga3lkDzkcApIcxRpS/VqaenvzMGN3eXGdrHw5J1WxUKRU2ks5js79u3T8ZsKSSrV6+WXfGKdzeiK9nX11dahWxnyI55jNVSNK+HiU+XL1++mkTFzG0mbpXGaqToUaBpadKCZR9oimZMTIy00jm4ny758sL3yyxtThT4OinC7LFMsWXcmN2vGEemu5vCzM+F75M1t+lK5za6q+mu37NnjxR2Tnj0As/3z/g4rXHGxWlR19alWkqYS4lp/fpwHD8e2adPI23bNhQVc+VwVt6ilxeyMvJkrLl8GdoCE0ug5QPiyayA7e8B+WVzjVuZGmF0Rx95+f7GC0jLVolgCkVNhdYnLcgXX3xRDsaT6YouboHTPcu4MoWIyUyMtzJmXJLVTNftxx9/LK1bJlNxjTGToOgCJly2xVES7H3MXst0CVOEOTnga2Of43PnzsnsbsbCKYDlha+Lk4rJkyfj5Zdflu7zQYMGISgoSMacuX/27Nmy3zJj6nRz0y3P7RRautIZM37iiSekYDNJjI/FfQcPHpSTEH4+fO9044eHh2Po0KG6Z69dqH7MZSA/Nhbhk19AYVoavL/7FsYuLro9Yl9eIZbPOyw+UTH7fKQpnLzK+bysm73pDeDYz8DdC4A2Y3U7SkeumBQs3ByI7/ZcwYQeDTBtYGPdHoWi7kPhqGn9mJl1TNFka8Ti8NRLK1jvaqZ1TAuQUFQolrR2+Z5oUdNa1L8nxpOvt4T1750CRXGna9fV1fWqG/zxxx+Xa5ufeeYZeft6aGXTQmYMWP88nARwG18/Jwl8TZwU8HXy9dDtzeNLcudTPHlf3s/W1vbqbVr0fAy+NlrmnJBwO+Pb3M54PD8LPieT4/ga+B54PF31hK81Li5Oxrr1nxOfh4/D18TPlscyLl98EnOj7wefqyb1Y1bCXBbEFyt51SpEvzUHDo89ChcxgxXfSN1O4NKRGGz+7iy6DPNDyz7eMNTcOvZUItGngaWjAI0JMH4jYO2m21E6YlNz8ODX+5CclYdvHm6Ptr72uj0KRd2mJgpzTYCnecZcGZPlZ1OZ8HxLUb1eSjgxqAkiV5zaIszKlV0WDLXLpyw7dkTSTz8j+7qKNp6N7eHewBYXDkYjU4hjuWHPZq5t5vKpI9+Lb1PZKoK52Jji5UFNkJNfgO+F5ZyYUbb7KxSKugUtWmZXV7YoE1YpmzRpklxWVXxw6ZKifChhLiPGrq6wHXafdFnHffwJCotVozG1MEajjq5IjcvG5eNxuq3lpNOTgFNj4OxqIOaMbmPp4brm4W08setSPLadj1VrmxUKRZXALGquM+Za4uKjf//+uiMUZUUJc1kRM0+rPn1g0aEjMg8dQlqxWaGhoQG8mtjD0csSRzaEyCYX5cbcAegzA0i8LMR5VZmLjmjEa3mqp59cRsV4c4KymhV3EHUwQldjYYyXsWLGkYsPbleUDyXM5cBQfOFcX5qGorw8pKxcibzYf+to2zpbwLe5I3Iy83FyW5g4Q+h2lAffzkDjwcDRn4VAB+s2lh4PO3M82rUeLsdl4PvdV1RrSEWdhy5bLuvRr7VVQ43iQ1//u6Ss9pqESv6qALGffIqkJUvgMm0q7EaMgIHuj50an4U1n55AYX4hhr7QRhYhKBf801zcDKx5HvAWIj3ia21CWBmITs3GrFWnsTMwHt892h5d/LRZnwpFXYXZwszYpdVWUraw4s6EUqefsHGtdHFxVslfdQh7IcYm3t5I/nMZ8hMSdFsBG0dzBHR1R0Zqrix0X1Te+C5PKj6dAL++QOAG4IIYZYSu7DGdfGFmbIj5GwOlUCsUdRlOxrmchydgWkdqqMHB7wPd6/xuKIv5NlBdFnNRQYEQ5T8R+/58OD71FJyeelK3B8jNzsdvcw7C0tYUfR4OgL2bhW5POQg/BCx9ELB2BR5eDViWzerNLyjCvA3n8eO+YEzq5Yfn+jSSMWiFoi5TB09tikqgJC+KspjrEHRdW/XsCfNWrZDw5ZfIK9ayzcTMCO0G+SI+LA0RgUnlt5qJVwegxf+0iWDHfxFnnLJVFjPSGODF/v7wtDPH3yejVLlOxR0BT8BqqHH9qA1UWJhZteX48eOy0DkLnrOSzY1gHVPWg2VZuAvF1gCzyg2LkC9dulQO7qfVSzjrZV1VPj7rxbI8HBeJ1xSMPTxgc++94pM0ROyChSjM+tdVzOYW9u6WCDwYjaz0CpbH7PmisJjdgTN/AXHndRtLDztQzbynKeLTc/Dn4TBk5NTOBuIKhUJR16mwMFOIuXCdBcmffvpp2dy6JFiWjjVPeSx7hbLuq74gOmuisrUXC5lzsKyaXnwpyuwrysfncewcwg4oNQmb/v1g0a4d0nftkkOPmaUx/Du6Ij48HaFnbzxhKRWWzkCv14CEi8C5NWWuo006NXDE0FYeWH86GrsuVnCdtUKhUCiqhAoLs4uLCyZOnCiLj98MWsLsIjJ37ly8+eabsm/mp59+qtsLWZGGws3B9l+MDTNgz3ZgLKbOguXsMcqC7GwFdqvm39WJobW17D5VJKx8Lp/K19W+ZUlO7wAH2Lta4PC6K+VvbqGnYT/Atztw5Acg5V+3eWmxEFbzyHZecLc1wztrzyElSzW5UCgUippGhYWZomlnZ3e1uPiN2LZtG/r16yeXMFB07733XrmNrmo+Bgubs8A624+xhyZd5ExtP3v2rNzOouZcxM4enbSiub84tNwZuOegm5wtwKoTs4AA2I8ZI4uOZOzZK+tqEwcPS3gJcU5LyMa5Pde2iywzFvbaphZsdLF7YZljzaSFp620mmPTcvD+hvPIVxXBFAqFokZRbclftJbZNUQPrzMTjgLK9l8//vijjD+z/dm3334r25zRYuYxLIbOogGE6e68z/Vx5v3790urnYOubwp9dWM/dgyMXFyQvPzf5VNMNmjc0Q2WdqY4tT0CGckVqKHNOqC+XYXl3Bc49QcQvFu3vfTw9TzQwQetvO1kItiOC7FicqTbqVAoFIrbTrUJMy1qiqweXmfrMlrLbIfWoUMH2RD8nnvuudpQm2LMY2gd65c+UJR5H71Q62FfT/Yf5WBTbVrY1Q3raNuNGonss+eQun69bqsQbHdLNGrvgtSELFw6UkEhtBDvq8048WTmwLZ3gcx/10+XFkcrE7w8qLGsBLbkQCgiU7SJdgqFQqG4/VSbMLP5Nq1gPUwAa9269X8EVm8ls/+miYmJjCnTNU1xZjk1urHZl/P6Oqx8HN5HP25HWryBeF7rPn1g1qQx4hd9jryYGO128VJa9/eBxliDKyfjkZZYQSGs1x0IGApEnRCW83LdxrLR1sceE3o2wL5LCdhyNka5tBUKhaKGUGFhZhyY2dLMtmZC1t69e3HgwAF5ferUqfjqq6/kcWwDdvHiRXz44YfSVc2lVVOmTJH79MukKNYLFiyQjzdq1ChZnaVr164yC5uW8J9//ikTvxiHpiVdEzHx8YHNkLtRJN5/3MKPUCQmE8RcWKlt+nsjNiQVUReTr3oAyoWhEdDnDcBIfAZnhDAnBOl2lB5DMVsY09EHAR7W+H5PMCKS/u2SpVAoFIrbR4WFmZbsjh078Ntvv+G+++6TorplyxYp2P7+/vDy8pLHsTYpxZXLoU6cOIFFixahU6dOcp+bmxuOHj0q48wZGRlyHyt3EVrVM2bMkOuXKdwU+x49esh9NRWbu4fArHlzpG/bhox9+3VbAf+ObrCyM0XgoRjZ5KJCWLlol0+xJeSFdUBB2ZPd7C1N8FjX+kjNzsOnWy8hr6CCWeMKhUKhqDCqJOdN4EeTmZ8JU40pjGilloHMg4cQ+uSTsO7dC65vvAEjR0e5XOrophAc2xSK/o81lQVIKkR6LLDscXEZDYz5UyhtPd2O0pOUmYs5f5/F+lPReG9EC9zX2lO3R6FQKO4MGD5VJTlrCcfjjuOFbS/gSMwRFJWxf6NF+3awHTZMLp3iEipmfGmMDOHb1BHWDmY4tC64YmU6CWtmt31YfKtigAPakEFZsbcwwePd6sPCVIOFmy8iLFG5tBUKheJ2ooT5ZgjdvJB0AZ8f/xzRGcIqLQuGhnCc8AQMLS2RvHw5CpK19amdvK3h2dge8WHpCDr6bx/ncmEg/nx+vbRFRw5+DUSd1O0oG808baU4Mzv7uz1XkFPRQigKhUKhKDdKmG9Cc+fmmNhyIoJSgvDRkY+QklO2tdHGzs6we/ABZB05irSt2+Q2VgNr3MkN5tbGOLY5DNkVraHNUp2tHwJMrIB/3gKyU3U7ysZj3eujnY89Np+Nwf7LCRVb0qVQKBSKcqOE+SYYGxrj7gZ3Y0j9Ifgn9B98eeJLZOeXvp+xgYkJrPv1g2nDhoj//HPk65ZPOQuruX5LJyRFZ+DyiUqoWc2CIyzXGboPOL9Gt7FsmBtrMG2gv2wRufRAqEwIUygUCkX1o4T5Ftia2uLpVk8jwDEAf136C8sCl6GwDKUwTevXh82QIShISEDcos9lQhmt5nZD6onHAS4fi0NGSkWqgQlYbKTfLO31k38AyaHa62WkhacdHujgje0XYrHxTBld9wqFQqGoFJQwlwJ7M3u83/N92JrYYun5pTgQdaD065ANDWE7fBhM6tVD2ubNyDpyRG62tjdDy56eiLmSiqiglIq7ju18gB4vAuGHgEtbgMKyt8Y0MTLEPa3c0czDFu+uO6cqgikUCsVtQAlzKXG3dMdb3d5CQVEBvjr5FULSQnR7bo3G1hZOkyejMDsbyX/8gQJdHe+mPTxgbKpB0JFY5GZXQn/k1mMAp8bA0Z+A1PI1zPBztsL/2nshL78Q7649h3TVt1mhUCiqFSXMZaCta1uMbz4el1Mu48NDHyI999/a37fCqkcPWA/oj4y9+5B56LBcPmXlYIZG7V1lr+a4kDTdkRVALp96BEi8DBxfottYNlgR7O6WHujeyBnbL8Rh/akolQimUCgU1YgS5jLAZLB7/e7FoHqDsDdqL94/9D4KSukyNjDSwGniROnaTv5rBQrS0mBkbAjfFo4wtzLG0Y3BuiMrAIug+A8EPNoCez4BEi7pdpQNazMjzLg7QNb4/uNwOK4kZOj2KBQKhaKqUcJcRiyMLDCp9SS0dGqJDcEb8NuF35BXWLoMZhNPT9iNGoWMXbuvlup08bWGRyM7hJ9PRti5RLmtQti4A61Ha0V680wgv3yJZV4OFnhlUGOcikjG2pORyFXlOhUKhaJaUMJcDuxM7TCr6yz4WPvgl3O/YF/kvlJlasvlU/21y6fiPvlE9mw2MtHAv5MbTC2NhNUcUjmx5ib3AD5dgOBdQOAGsaF8vuh7Wnqgm58Tfj0YhnOR5VsfrVAoFIqyoYS5nNSzqYdXO74qr39x4guEpYXJ67fC1M8P1oMGIS8iAgnffSdjze5+tvBuYo/YkDSEnqkEq9nEEujzunxsHP8VSI3S7SgbNubGGNPZV17/YNMFVRFMoVAoqgElzBWgjWsbTGgxAaGpoXhz75ulcmmzZ7PdqJEw9vBA6uo1yDp5UtbQbj+kHvKEtXzpMDtPVUJxD7eWQMcJwmreCVzZIUS67KLKRLCufo7o28QF+y8nYsn+0meiKxQKhaJ8KGGuABoDDQbVH4ShfkNlw4u5B+YiK//Wa3+N7O3h/NyzctlU0u+/ozAzEw4eVmjSxR1Rl1PkuuZyep//hZlbHZ4UZq8ncOQnIKN8FcbMjDV4rFs9eNiZ4csdQTgfpVzaCoVCUZUoYa4g5kbmeKz5Y+jm2Q1/X/5bVgYrTdlO6wEDYNmjh275lLb7VMveXtL7fPl4PPJyy14g5D9w+VT78UD0SeD0Ct3GstPA2QrP9m6INGHRf7cnGClZqlynQqFQVBVKmCsBFwsXvNz+ZdS3rY8lZ5dgf9T+WyaDGWg0cHp6IlBYiJRVq1CYkQFbFwv4tXbGleNxSIyqhCVKGmOg8WDAvRWw+yMg8YpuR9kZ2toTA5u6Yuv5WOy5FC/en1rcrFAoFFWBEuZKwtvGG292fRMF4t/HRz9GTKa2YcXNMGvUCLb33Ye0TZuRefSorALWQAizkYkhjm8pXTLZLbHzBVqMAnLTgK1ztAlh5cDUyBBT+vvD1NgQP+wVVnNlxMEVCoVC8R+UMFcijewb4bnWzyEuKw6z9s5CGsXwJhiYmsJmwACY1K+P2PkfoEBYzS71beDuZ4egozGIDamEeC5jzS2FMLs2B4K2akc5A9ie9uYy3nwiLBl/HAkrr8YrFAqF4iYoYa5EmAzW17cvRjQagSMxR/DR0Y+QmntzcTVt0hjW/fsjNyQEST/9DBNTQzTq4AoTMyMcXheM/LxKiDWzV3OfGUBBvraOdkaCbkfZMNYYYmBTN3Sq74AvtgVJgVYoFApF5aKEuZKxMrbCuKbj0MOzB9YErcGyC8uQW5Cr2/tf5PKpEffD2MsLycuWIef8eXg1sYdrfVtEXUpBRGAliV+9bkCrB3TLp8Qox/Ip4iWs5oc6+cqWle9vPI9k5dJWKBSKSkUJcxXgZO6E2V1mw83SDUvOLcHeyL0ouon7mGuaHZ98EnnR0Uj64w8YGRTIdc1cz3zxQAzycirBajYQf+quzwvr2Ro4JqzmbG2Hq7JiYGCAfk1dMUCMo6HJ+OOwcmkrFApFZaKEuYqwM7PD/J7zYawxxmfHP0Nwyk2aVAixs71vKCzatUPG7j3IPHIU7g1sUK+lE6IuJyMmuJLWDrOOdvvHhNW8BwjcqNtYdowMDfDakCZwsDTGquMROBySiDxVS1uhUCgqBSXMVYifnR8mtZqEhKwEzDs0D3GZNy7yQUvUefLzKMzKRMqa1bLoSJv+PsjNykfwyXjkV8a6Zo2JbvlUS2D7e0BK+Xo2E0crU7w2OACRKdmYtfoMFu+8gtMRKchXAq1QKBQVQglzFWJkaIR+vv0wvOFwHI4+jIVHFiI978Y9nM2aNoXNkCFI2/IPMo8eg6OXFXybO+Hi4VikJty6aEmpcGwINBsBpMcAuxeUO9ZM+jd1xax7msLa1Agf/xOIaX+ewHsbziMwJk2tc1YoFIpyooS5irE0tsQTLZ5AB9cO2BSySRYguVEPZ0Nzc9gKYTZydETchx/A2EhY3W2dUSSs0FPbw3VHVRC2g2wzBnCoD5xdCYTu0+0oOyzXObS1B759pAMW/K+VbHLx/Z5gPPj1fsxdfw7JmTdOelMoFApFyShhrgYsjC3wbo934WvjK0t2bgvbdsPKYGbNm8O6d2/kXApC0i9L4VrfBm4NbXFuTxSSYzJ1R1UQM1ugz0wgJw048oO4LH8Mm40urMyMcHdLD6yf3ANvDW0mM7eXHghD7w924JN/LuJSbDpyVWcqhUKhKBVKmKsJezN7zO46Wy6n+vrk1whMCtTtuRYun7IdOUIun0pcsgSauHD4tXGBxsgAh9cHo7CyYriNBmj7NnPp1JXdFXJp66EFzTaRX49rj1cGNUYLL1t8s/sKJi45gs+2XcKx0CQl0AqFQnELlDBXIwEOAZjQcgISshNkJ6qk7CTdnmsxrV8f9uPGIT9KWMl//glffys4eloh9Gwioq9UUoa2ofjTd39BXBoBJ5ZqredKws3WDA93qYd5I1rg7WHN4WlnLjtTTfvzJOb8fVYmiakYtEKhUJSMEuZqhMlgA3wH4D6/+3A64bQs21li8REDA9j9bxRMmzVF+rZtKLwSiDYDfZGdnofAA9EoqCyr08kfaD0GuLBeu4SqknG3Ncc9Ld3x5di20oo2MzbE0oOheGjxAbzx12nEpuXojlQoFAqFHiXM1QzXNT/e4nF08+iGfZH78N3p75BT8F+BMjQ2huu0aciPi0fq32vh42cBtwY2iLyYjLjQSrJujUy17myXpsDmmUBW+YqO3AzGoM1NjNCrsTNWTOqKD0a1hL+bFdacjETfD7dj3obzssdzdmWUHlUoFIo6gBLm2wAztad3mo5mTs2w/OJybA3dWmKmtlmzZrAeMgSpGzYg+8wZtBtUDxkpuQg5nYCCvEqyml0CgIChQEoYsO+zSok13whTIw2Gt/ESFnQ7zLinKTo3cMTvh8Lw1JIjWLg5EAcuJyBLCbRCobjDMSgS6K6Xi+TkZKxZswY7d+5Ebm4uZs6cCT8/P93ea9m3bx++//57edyIESNw7733yu2HDx/GX3/9hcuXL8PJyQmjRo1Ct27doNFocPToUXzyySfyeYiHhwcmT56Mxo0by9slkZWVhSZNmuCMEDMrKyvd1prH2YSzeGP3GygoKsD8u+bD395ft0eH+NNkHDyI6BkzoXF1hdtnX2Hr0otIiMjAfS+0ho2Tue7ACpIaCSwZoc3O/t9PgGc73Y6qJS49B0dDkvDXsQjZ59nNxkw2yHiggzfa+NhDY2igO1KhUCiqjvT0dDQThtD58+dhbl5J59UKUGGLOSMjA4mJiejevTs2CMsuJaVkd2hERARGjx6N5s2bo3///pg0aRL27NHGNXft2gVnZ2dMmTJFfjjTpk3DlSvapv6xsbHyQ3vjjTcwf/58vPLKK/D19ZX7ajtMBnu61dNIzknGqztfRVZ+lm6PDgMDWLRtC8se3ZF97BiyNqyRnaeyM/Jwbl+U7qBKwMYD6PmyVqCP/AjkV1Ixk1vgbGWKAU3d8PGDbbD0iU5CmE2x/GgExn13EFN+P47QxAzdkbWTorw8ZIpJZ25oqG6LQqFQ3JoKC7Onp6e0YB955BHdlpL56quv0FaIzPPPP48xY8Zg7Nix+Oijj+Q+CvILL7yAjh07ysdp0KABTpw4IfcRGvW0ggsKCmBjYwNTU1Pdnn/hMdzPUVhYO5bksAznXd534X/+/0NoWqi0nq9vEym7T/3vfzASFnPiN9/AySwDbvVtcGpbONKTKzF5qtkwoEFvbb/mkL3SWq8OxEcAUyNDtK/ngF8mdJaJYm197LDzYhwGLNyFmatO42R4MjJy83X3qB0UpKUh/suvEProY4h5dy4KdB4fhUJRefA0VRdXeFRbjPmYsPi6dOmiuwXpqj558qQU0uKEhYUhTZzU6tevL2/b2trK8csvv+C9997DnDlzEFqCBXLo0CHMmzdPjg8++ACpqZW0rKiKMdGYYEzTMTJbe0f4DlkZLCPvWkvRzN8fdg88gLyYGORtWQ3fABsUFhTh2MYQFLH/YmVAhez1mlCUXODE70DujUuHVhXs9zygmRs+H9MOc+5rjn4BLlh3KhpP/XwE89afx87AOKTn1HyBzouMRNyHC5CweLGcUNFqzjhwQLdXoVBUBhRkLr3ccDq6ziWPVpsw0x1taWmpuwV5PScn5xphpiAvWrQIHTp0kDFi0qJFC7zzzjtScKdPny5jzRs3bvyPoNvZ2aFhw4Zy0OI2MjLS7an52JnaYUq7KWjl3Ap/Bv4pBZpx56sI0bQf/SBMhUCnbd4CT4tE2DiZ4fLxOMSHV6KAujUXH/hI4MI6IHS/bmP1Y2tujHtbeWDOsOYyi1smiR0Ow6vLT+G1Faew+1I88itrQlLJ5IaFI3bBQiQvXw7rwYPg8tqrslhM/GeLUJh1XahCoVCUm3/OxeLVFSfx/obziEqpnvBbdVFtwsykroSEBN0tyOtMzDIxMdFtAV5++WVkZmZK17iFhYXcxmPc3d2l1UzRpbv74sWLMoGsOP5CtJg0xjFy5Mir968tOFs4Y1bXWTJjm80uwlLDdHu0aKyt4TJtKvJCQpC/ZytadndBZmouAg9GV57VbGwONBsOWLsDm2YI6/n2zkLtLUxwV2MXvD+yJf6a1A3+btZYezIS4384hCd/OowL0ZVXFKUyyBeTxhgxiUxdt06uQ3efMwfWffrAqmcP5AYHI/n3P3RHKhSK8sJJ+aKtl/DM0qOIS8vBlP7+8HaoXef7W1FhYWZsl5YvBZXXs7Oz5W1eDw8PR1ycttXhgAEDsHnzZnk7KSkJq1atwsCBA+W++Ph4mQwWHR2Nt99+W4ox48R8DLqkaSXzMWNiYnD69Gkp1CVZxIzZctRWvKy8MLntZPHFy8f03dMRnxWv26PFvHlz2AgrLGXlKvg6pMPezQLh55MQH1GJVrN7a21ryMRLwMEvxB/49sbr+deki7upuw2+eaQ9fhzfEd0bOsq489DPdsuOVoeDE5GWnae9w+1AfE9zQ0IRISaUmYcOwfGxx8QkahoMxaTTwNAQtsOHw8jNTZZYpZtboVCUHepBaGImpgsr+ZOtF+Hvao2FD7TG0Faeskd8XUIzW6C7Xi7oov7555/xxx9/YP/+/dIdTQFl9jWXTlFsO3XqJJdQ7d27F9u2bcOOHTukQHO/vb09FixYgC+//FJmdlN4ufSKCV5cGrVp0yb88MMPOHDggLxO4R83bhzcxInuRuTn5+Ozzz7DM888c41FXtPhpMLDykN+ATeHbkZEWgTaubaTTTDkfmNjGFhYIGPXLuQJC8x5+N24cCgWVnamcKlnA8PK+HIaagBbbyDoHyDsIODXG7B01u28vbBYia+jJfoGuErrWWNgiL1B8fj7ZJT4wWrdxE5WprJmd3VRJCaQWceOIfrNt5Bz4QIcxo+H46OPSA+HHiPxHacbO337dhhaWsKiTRsYaKrvNSoUdYG9QQnSbb1PXN7d0h2z7m2Gll52jPRVGHpgP//8czz77LMwFufZ202F1zHTkmUGtd4yJg4ODmjXrh3Onj0La3GC0q9rpkifO3dOxoe5TZ/gxfvTui5OQECA3B8pLIzAwED5PIxLM35Mi9mQtZ5vQG1Zx3wjmJk9/9B8rLuyDo80fUTW1zY30q6tK8zIQMy8eUhZtRp2r8zAgdgG0qU99PnWsBQCXSnwK8GuU+teAjpOAPrOEmarmW5nzYFW8qmIVOne5lpoK1Mjuf55ZDsvWWmMlnaVIkQ5Q1jIsfPnIzfoMpxffgl2994LwxK+cwWpqQh56CEYmJrB/d13YHaTdfgKheJf2PjmlwMh+GFPMLLzC/BkTz/5G2cuSmVR09YxV1iYayK1XZhJdn42xm8cj5DUELze+XUMqjdIWIxaockWk5uwJ4RgiolK9vMfYu/GeHQZ7oeWfYSlW1mwEtl3A4HMeOC+LwDffzPqaxqMOYUlZuKDTRew8XS09Dy08bHDa4OboLU3Z9RV4+ZiNbbwZ5+Tous+7z3Y9OkjzPobTwZSN25ExJQX4TJlChweexQGtShBUaG4HaRm5eFD8bv+7VAYbMyM8eH/WqFbQ6dKLz5U5wqMKKoGMyMz2cPZxcIFi44twrmEc7o9Yl9AgGwNWRATA4sjm+DsZYGjm0KRlVGJcVa6tPu/BWQIYT61TExbK6kXdBXA+FJ9J0t88mAb/PZUZwxo6orQhEw88PV+mSCy+2IckjJLaBZSTopyc5G+cxdCJzwphdjtrTdlD+2biTKx7NxZjE5I/usv5EVF67YqFIrrobkYGJOGV5afxLIj4Wjv64A/J3ZBT3/nO6IioBLmGoy3tTeeaf0M8grzMPfgXISn/evud3z0UZj4CAv56E64mSUiR4jyqa1h4hutO6AycG8FNLsfOLsSiDyq21hz4Q+WP2DOqpnJTXcXXd3P/3Ycs1efwd8nI5GQXrGiLIwVp6xZg6jXX9dmyr/0EmwGDChVzJjH2953Hwri4+VyKoVC8V+4JnntqSi8+McJHAxOxLgu9fDx6NaoJybfdwpKmGswGgMNunt2x+gmoxGYFIj3Dr53tYezxt4eTs8/j/ywMLglnQS9LxcOxCA5thItWxMLoOX/hIluA2x7Byi4jZnPZYDJX5xZv3F3U3z0QGvc38YT2y7EYsaqM5j65wmsOh6BnPyyLwWjpZy8YgXiPvoYhkJkGSu27t9PJuWVCmFRW3bpArNWrZD866/ICbqs26FQKEhyZh6+2B4kJ9JxadnyN/xM74YyqfNOQglzDYcu7bFNx8rSnXsi9+CbU98gTyeQ0jXavTvyN/yFJgEmyEjOQeDBmEq0mg2E2d4J8OurzdA+vlS3vXZgYaJBO197vDYkAJteuAsDm7pi76UETBUz8fs/34vdF+NlBnxpSfrzT8S+Nw8aBwd4f/kFLNq1K3N2tZGLC2yHDEZRfj7iPv20TM+vUNRlUoQoswTvZ9suwd7CGH881QXDWnvC2uzOy8VQwlwLMDY0xuwus9HauTX+vvw31l5ZK9tEaqys5BpZJhG5nlwJC2sjhJ5NQFJMJTZ/0AhrsP1jgI0nsOcjMaW9tvBJbYAubjdbM7x7fwssn9QV94kfe0pWHsb/eAiP/XAI/5yLQfxNXNwFKSmI+2yRrHlt3ro1PISlbOLjo9tbdqwHDIBp48bI3L8fmapUp+IOJ7egEMdCk2XzGnaZG97GE7892VkujayivM0ajxLmWgIrgjE7m+ucvz31LU7EneDCZ2G1sftUD2Rt3YQm9jFIjMpA2LkkWUu70nBpCrR7FEiNAI6y+1QlNs+oRrgOuoWnLeYKgWYcemwnX5nNzVjW63+dxvIj4YhOzb7G4ZAXE4v4zz+Xda+tuneH62uvyT7ZFYFrmZ0nPY3C7GxZLIZZ3QrFnQgnyH8cCsOzS48iJjULz/VthNeHBMDxDnNdX48S5lpEA9sGeLLlkzIZ7J0D7yAqIwoaGxvYjRoFQwsLWP6zBHa2hrJMZ05mJcaDOW3t8ATgHACcWwPEnNbtqJ2YGBmiU31HvDyoMT56oA0e7uyLQ8GJeHPNWdlu8veDocjKLdBayh9/jOQ/l8Fm4EC4zZoJs6biM6gELDp3lpncGfv2IevkSd1WheLOgSsluBSKyxzprl7wv9Z4pIsv7C1rT1GoqkIJcy2C65jv8tK2ieT65td2vYbMvExYtGkNm3vugWF0MFwj9iIuJA1hZxN196okmADG5VMJl4AzK4XVXPuLxjNJrIWXLaYM8Mc/U+/CqPZeOB6WjOnCeh66cBuOP/mcsGhXwubuIXCbOQPGHh66e1Ychh8cJ01CYXo6Utevl4VjFIo7hZjUbDz83UEs2R+CDmz5+kQnuT65Oqv21WSUMNcyKM5sEzm4/mCcjj+NRccXISM/E85PT4Sxoz1swo/C1iQDh9cHIzerklskerbVNrk48RsQe0G3sfZDFzcbZjADdPWkrnjIE3h83acwOn0cJ1r3wqmBoxFbaCTXVlYmJl6esB12H9I2bUZ2YKBuq0JRd8nMLcDGM9Ey+ZJhpMe7N8C8ES3veNf19ShhroWYakzxYrsX0cWji0wGW39FWFx21nB67jmYJQTDMekcUmIzcH5/lO4elYSJFdDqQcDIBNgxT9u7uQ5hUFQIr/hQTDi6HG3SwlE04gH81eoeTN3ClpMnsfRACMKTsipNoA3NzWE9cCA0dnaIX/Q5ivJqx3I0haI8cCnUt7suy8xrC1MNpg8JwIv9/eGgXNf/QQlzLcXezF6Ks5e1FxafXIwz8Wdg3asXrNq1gUvwTpgUZOL0zgikJ1ViohZjzd6dAb8+2iYXZ9fodtQNsgMvInrOHGSfPg3nKS8g4KXJePPhbnj6Lj+cj07Du+vOY/Jvx/D93iuV1s3KvEULubaZXanS/hGfqUJRBwlPysTLy07gayHMTd1t8cHIVrIAkLmJcl2XhBLmWkw923qY1GoSCooKMG3HNKRZGMB2xEhYZsfBWxOBtPhsXDoSozu6kjAVVnP7x8WltbboSGYlx7JvE9kXLyL0scdkMwqXqVNhP3q0eItWaOJug6d7N8S2qb0woUd9XIxJw5y/z6Lfgp0yizuvoGJtMWk1240cITO14z/7TMWaFXUOJlaO+nKfXAo1qLmbXBHRyttOhpAUJVPhto81kdra9rGsGIh/XD7FJg0sPsKYc4/mQ2AUFgvDXX8jyqMbcvIN4elvD1OLSlykb+2mraF9eZvWve3VXihM7Zz5sppXxp49iHhxqvwcnZ5/DvZCKItX8+Lpg52qOvk54u4W7tAYGiIqJUt2tNp6IRamRoawNjOGlZmRfIyyYuzigtzQUGQdOQojJ0eYczlWDT5p0ZNfWFgkJyU5+YXIzi1AhhjpOflIzc5HSlYuEjNzEZ+eKxvZx6TmIFp8XhHJWQhLzMLF2DSciUzFsdAkHAlJkmVSLU2N5FCn6n9Jz01HcGow0nLTYC0mwvomNrUFfh+WHw2Xqx0Y/nmyZwO8NKBJjSwYUufaPtZE6kJ3qbKQkZeBT499ij8D/8QDjR/A2PSWSJ/+FkJceyK4/hB0H9UITTq7waAyi7+nxwE/3qMV5M6ThFi7i2memASxIAkvGYeWt4ttK37d8Pb/OBnTTd20CfGffiYrcTlPfh42gwffsutTgRClC9Fp2Hw2Gv8IK+ByXAaae9rK5hm9mzjLwghltQZyw8MR8tAYmNSvD/d33oaJl5duT9XAX31OQQFy8iiu2kvWKKbQyuvcJq8XiOvFjrnu2JIus3WPKbfp7iMfQ9zOzS9CoXhyI40BzIw0V+cfzMwd1MwNdzV2hqtNzWsxWp3EZ8XjcMxh7I3Yi4PRB2FlbIX3er6HhnYNdUfUfDgJ+2bXZaw6Hgk/ZytMvMsPfZq4XP171zRU28dq4E4TZpKSk4LZ+2bjYNRBTG7xDLr8fhbxf+/AyXbPw75FIwx4ohnMLCt5JshlU389JaxmSyHE4mRKkTYQg5c3un51m3gtxuIHwPvxsvh19p5m/+f/7C++Xb9N3NZv5+OWAVn3+uNPYGhjDbfp02HZqZN4jNJbJbQY2cVqR2AcftwXLC1Df1crKTCjO/nITO+ykPDdd4j/bBFcXn0VdiPuv2W5Twoc11tnCMskI1eMHK3Vmimup2fTiuU27fZ/r/97m+0y8wvEKCyU1wuKXddu190W1zkZKX6dJw2uB2cPbEsTjdbiNRHDTFznpc4C5j4eYyGGlakGFrp99DIYaQyl5X3gSgJ+3BsshZ0FYLhsbUgLd3FM2f6etR3+htdcXoOtoVtxKfmSmMxkI8AhAFdSrqCNaxss6LVA1s+vyVBN6AWZv+k8ToSloL+YrD7XpyEauljVaNe1EuZq4E4UZhKXFYdJmyfJwiNfdV4Aw/89j2D7Trjc4D7c81xL+DZz0h1ZSRTkAJf+AWLOCZMvvdjIEOaY7lJ/m5c54jI/S9yxrF+5Uv6gKdJ0rZuKiYKJtXbCIId+m7gUt4vESNoZhJglO4Rl6gL3F8bCokXzf48x1l+KH2gphZoiTXFmAf6E9FzYmRtjSn9/PNDB+6ZrMyl2FErWCU6NigGmPYdcE1NcfH42Eo0sZD9aVkeSI1sMcZz+drq4LXStRErzCfNTNTMxhK2ZMWzE67WzEJfiuv7SVlxyHy/lfjF4yQb1HCacOJTwpynP6TdVvJeFmy/i1wOh0sJu7mmD2fc2k7XOq6qfdk2BgvzHhT/w/ZnvpdvaTGOGoX5D8VSrp2BjYiOLCa0OWo2ZXWZiRKMRunvVPDhRZHnbmavOIColG0/38pNZ1wwD1XSUMFcDd6ow80+5N3Iv3t7/tvgxGOOd6O7I+nkXzvqNhlUzfwyb0gZGtzsLsrBAW5wkTwh0nrikUMvrYnD7NbeLXS/pWP11NvUoEo/Lx/7PZeE1twsys5F0MhcJZyxg4mgC13aZsHASj3HN/ZjQxZ+FEITiFntxS50Wegn7knI12BmcgTNxucgqNIGTvS08XRyRXmiKxDwjCKMaKbmFQmSLkJpbhHQxcouE5SgsIcMiA/S7chhDT+3A4lbDcLRJOxgYGsFQYySsZ2NoxKVGnOTYf5r1v43EpEHrEtZZrleHzmo1E1aqtFC1Fm3xY6zE94BWbE06afLEfi4qDT/svYJ9QQkyPt0vwBWjO/rIQjCcDNQVKMahqaHYGrYVa4LWyHAUV1h09+iO4Y2Gw9vGW3z7tBOSC4kX8OKOF5Gbn4tF/RbB395fbq9JJGTkYsWRcCzafgkOFiZ4oZ8/hrauvII8VY0S5mrgThVmklsgfiAXV2DhkYVoY9IAE/7KRURqAMI970Lf8S3QuJOb7sg6RGG+Vpy5rppDnMCuXi8U23W3C1ISkfDDUiRvPwWzNh3g8kBPmDmLicrV44s9RvEh91+/j7eFypZ0H93xRWJ/QV4ODMU2Ib1CeAyQCyPkwFiOXJggp0h7Pc/ABAWGJjBOL4DJvlRxorZG7jA/mNgYw1CIvpGJOYxNzWBiZgEzcwuY8tLMHKbiukY/UdCYiskBBycNxS+LXa8Bsf1bwfj00ZBkbDgdLTN5s/IK0NPfSYYIuvg51dpuQwwAMH7McBMn0Puj9iNHfEfau7ZHN49u6OzRGV5WXiV6CP66+Je0nIfUH4Kp7afC1tRWt+f2wsnU2chUfLPrCtafjkI38fd5urcf2vrYy8ljbUEJczVwJwszyczPxOfHP8fSM0twf4gL+m+3xMn6j8KmgTvue6FN5ceaawFsGBE9522kbdwIyx7d4TJlys07RJVgbZd8KY650X4xCsUwEBMHA2nhZ2pd/MI6Qq64ftXNrx/pKMrJROIBYS3uSoRD0wK4tBfCz32ycYj4qV6N0QtxkqOU1w101ynOV138xQbd91wKJ9341w+xXX+dAl9NrmVWiTofnYqVxyLw5+FwmfXe1tde1lNmrfPadOJnH/VVl1ZhS+gWmWmdL74TFNmB9QbKpC4HM4cSBVkPJ9yz9s7C7ojdmN5purzf7c7SZq7BzsA4LNwSKMX50W71ML5rfbjbmVfXV6TSUMJcDdzpwkwKhahM2jIJ54MPYdLaQhgX3Y+4ej3RbVQjNOtee1xMlUFBRgYiX5yK9F27YN2nD9xmzYKRcyXH2yuRgqQkXBn1PxSJyYTP99/BtFEjaYEjO1UIe4r2MpuXxUbO9dt4bLL2Ul4X46Y/9VKeBijuXMNOi83cRlzaaeuoyyGum/JS7Ls6eAyPFYOXFH+NeIxruPVZPCQhA2/+fRbbzsXKw2k9z7inKTyECNRkErIS8NuF3/Dz2Z+lu9raxBpDGwzFhFYT4GjmqDuqdDB35NH1j8LR3BGf9f1MivntZNnRcMxYeRoaocLvDm9Rq1zX16OEuRpQwqwlOiMaU7dPhe2hQDy0yQJnmr4Ej1Ze6PNwACxtheVU1xFfba4Pjl2wEOk7d8puTmzbWJNFWU/ysmWIfmuOLHTi/OIUGJpW8O9F65/x+GssdDGk9c5RzIK/uk23nbdp6RfSRU9PQP51o5Tb+Bpo5dHqpvWtt9LdWwPN79e2F7V21R5TAswS33MpXjY+YP/erNx8PNDRG/e28kQTN2uY14AGCDydJosJEZvM0Dpmudys/CwZP2YDGiZ18bo+flwWaGUvC1yGhUcXYkyTMXimzTPVnqVN13VEEpdCXcEvB0K0TWD6+aNbIycp0LUVJczVgBJmLbSa90ftxwd73sXg34PhnnkPYgLuRs/R/mjYjmsKa+8PqTTkXrmCmA8+QNbhI7C9fzicJk6ExlZYbbWAQvEdDn3iCWE9J8Pj3Xdg3lqI1+2GVjtd6nTLM76uvy4vi48b7b/+uhg5aWIGeVL8aJMAn65Aw35i9AUc6t9QoJmRvjcoARtOR2HXxXgZc+7TxBWDm7uhjY/dbUto46oIrj3Wx49Zka+TeycZP2Zde3dLd92R5ScmMwbvHnhXxqnn3zUf3T276/ZUPXRdHw5OwufbL2H/lQTc08Idj/dogAAxKart5xIlzNWAEuZ/yRMn01VBq/DT5vmY+osZLvk/C48uTaTVbGp+vUux7pATFITIV18TFnMIHB99FA5jx8LQ2lq3t3aQvncvwp99Dg4PCav52WdhYCYszdrMNTF7nRXNRLnUKCBwPXD0ZyBbCLSdL9CoP9DuUSHQDXR3/i/JmblyrewSYblxLTkLk3Tzc8Rj3erD35VioTuwiqGL+e+gv7E5ZDMi0iNgZGgkY8CMIfvY+MDOlOUnK2eywASyQ9GHpCfMzdJNurRdLVx1e6sWVrr7eMtFOTF6vm9DDGvjWea1+jUVJczVgBLma+GfmLPslF/+QM9LAxFafxCGT20Hd7/aYT2Wlexz5xA26RkUJCbC8akn4TRhwjUlNmsL7NUcOWMGMvcfQL3ff7t5slpdgK72Q98C+xcBaUKsWSGu1UNA9xeEWIv3fgNx4/eby6tmrzkry31y3TgTxJ7r00guCasKfaZAcsnTj2d+lO5lXjczMpOV98YFjIOLpYvuyKrho6Mfyece13QcJredXKUu7dz8QszfeB6Ld12Bp5053rqvuaxwV5dqXSthrgaUMP8XZnW+vX4a/L8NRq7NQ3Bu1wRDnmkp18XWFYoKCpB54CBi3n8f+bGxcBw/Hg6PPnLLEps1FvHTTNu6FVEzZsKqX194sKx9GSqT1Voy4oAzfwGnVwAJF8UMRVjaAfcAzUcBLo0BS+cSRZolQFefiMSKo+E4HZEqs7gf6VIP/QJcUN/JSq75rggUY2ZXByUHYUvIFqy9slZOCthMhvHjYQ2HwcWiagVZT2ZeJp7Y9ISMZ8/oPAOd3Tujst3JjCcHRqfj060XZenZtj52mDawMdp4s+iL7qA6ghLmakAJc8lEpoRj4+I5MD7oiTSHrhj8TGvUa1HzE6FKC9smssQml0Y5Pf007O4bWuuFjFY/k8DSd+2EzzffwLxNG92eO4DMBODyDuDSFu1gTLpeT20Mmq5u2//WE+fJjA0ztl+Ik+ugj4YkwdfJEv0DXGVnI5ZMLY+AMZGSseM9EXtwJOaIFGmKYVePrjKO7GrpWq6EropwOPowXtn1Clo6tcSbXd+EDTPiKwmqAmvBf7XzMq7EZ2BEW0+M794A7ra1PJxyA5QwVwNKmEuGyWDnAvci6MOliC4YBAd/N9z3QjsYm97+bNYKIb7CyX/9hbiPPpZtFJ2nTYN1716111Iujnhvadu2IerV12DWogW8P18Eg4pmaNcmeHri8q+kEODsSuDkb9oMcTtvoImwoluPAex9dQf/C+8Wk5ot63B/tycYF6JT4eNgIZdZjenkC9dSCAzFNyo9CisvrcT2sO0ITw+HsaEx7mlwDwb4DoCvra8s9FHdgqyHxUnYi51LsV5s/6J0o1cG9Dx8uSMISw+EykS6F/o1wpCW7rKaXF1FCXM1oIT55hz65WMErjdEhlMLdH2gAZp3qb2xS7qvk//8E7Hvz5fJUZ4fzIdl1666vXWDosJChD35JLJOnIT723NgM3Cgbs8dCNuNHvoG2P+5NqOba6XbjAO6Pg9YOpbo4s7LL5TtB+dvvICkzDy4WJtishAbNupnWdPrDWhOYOmy/v7091h+abl0G1sYWWB0k9F4KOAhOJnXHC8Ti5XM2DMD5xPOY/Ww1XC3qljmd3xaDt5Zdw5rTkTC3c4MnzzYVma613WUMFcDSphvTl5WJo6//BaOZPeEU3M79HukOezsKs8NVl1wSRHX+8Z/9RWMHBzhNmsmLNq10+2tW2SdPo3QRx6FRZcu8HjrTWgcbm9xidtORixwXFjP59cKNbmg3dZiFBAwFHANAMwp0tcqbmJGrlx7Sxf3xdh0NHKxwqNd68kynx5ChJKyExGYFCjjx+uurIPGUAM/Wz/08u4l1x+zsEdNg1b96kur8d7B99DGpQ3m9Zwni5iUFcaTj4cm46N/LorLJHRr6ISZ9zaFu+3tF6nqQAlzNaCE+daknD6Bf97eiAjX5mg41BJ9e3WBCbNgawmMIyd88y2Sli6Fmb8/XKZNhVnz5rq9dZPoOXOQun4D3GbOgM2AAXdGItjN4KmL2dvBu7RdzjhoMdfrplsPLYb1tbXhuRaX/bPZBYm1nYPi0tG6fiHaB8QhOPMYjsUek8ud9PFj1rFmQldNXqfLErxv73tbFjR5oe0L+F/j/8n3UFrYJnTlsUh8s/uKvP5wZ1+MEaMuNQ25FXVOmBMTE/H7779j8+bNyMnJwYIFC9C4cWPd3mvZvn07Pv30U+Tm5mLs2LF44IF/YyLr16/HV8LyKSgowMMPP4xhw4bB2NgYhYWFct/ixYvl4/N+I0eOhOlN4mxKmEuB+LNf/m4Z/tljjGifKAwa3wEdfNrrdtZsuIwoZv4HSF2zRhbecH31FZg2bFjnhSrn8mWETXgSpgFN4PHuu9DY1D4vR5XAUxjXPydcBk79KcYy8SXJ066BbjoMaPXgfwSaVcSOhF/Gxwd/xqnE/TAwiRePY4T2DgMxod19aObSULZcrC2w8MjD6x+Wr/mtbm/JPs6lIT49B59vu4TlRyOEEBsJK7mZtJZrQhW16qSmCXOFz2QUQWr76NGjcfjwYWRkZOj2XEtwcLA8ZvDgwXj88cfxwgsvYNu2bXLfvn378NRTT8n948ePx3vvvYcTJ07Iffv378fcuXOlIE+bNg1ffPGFnAQoKoiwADzu6wcP4xg4RNXH2xvfk8URajoFKSmIFqKUsnw5TIWl7DHvPXl5J1iPJl5esL1vKNK3bUfWqdO6rQp+l2HuAHiJieXgecBEYUG3eRiICwT+eRP4QljQO94XJ6tkYTHnISwtDO8fmouJO0bibOZKONrmoJnFfcgNfhXb93fCOysycTo0V4p3bXEnssjIax1fw8Wki9K1nc0M9lsQm5qDl/48iR/2hqCBkyVWPN1Nttms8aLMiRiL0zAJ8MIGYO+n2nyDOkSlurJdXV2lddu2bVvdln+ZPn06goKCpHVNZs6ciVOnTmHFihVyX15eHj744AMp8jNmzEBaWho+/PBDaWHHxsZiFhsPGBnh888/R0REBGbPnn3NzIaWNQfhZKF58+bKYr4FRfn5CFp/DDvXRCPU8jyC+p3E3J5zZS3fmkhedDTixd8/dd16WHbpAnfGWu3tdXvvDLLEbybqtekwsDCH7w8/wNDCQrdH8R9SI4FjS1B4cSMS4s/jooU1Nnq3wD/ZEcIiMYCfvT96+/TG4HqD4WzhLJcF/bg3WFYRC03MRK/GzrIXdGtvOzhamkr9r8mwSQZjzVtDt8pY843KdTLr+uCVRLyz9hxi03IwvI0nJvdtBFuLGuy6ZhnX9Gjt3zRaTEqviMlXyG5tPXfHRsDYZf/xipSFOmcxlxZawB07dtTdAjp37iyFMzs7G6GhoWijW5/JWA5d4fyA6PIOCQlBw4YNpeuawuzj44O4uDjp1i7Orl278NJLL8lBoU9KStLtUdwILidyb+0DN09juGS0QMGZTCw+tVh2xKlpsBlFzNy5SN2wEbZDh8Jt9qw7TpQJ4+lWvXoh59x5pKxapduqKIkia3eEtXkAvzXrj7fcPPCSlQZ7ks6iT0IUXhfW4nz7DnjYZ6AUZVJfWI2vDQnAh/9rhQk9GiAoNh3T/jwhOyitORmJjBxhpdVgLIwtMNJ/pHw/7Mcemxmr2/MvCek5+G7PFUwV74vx5JcHNcYL/WuoKLNca9RJbanWTTOAlc8Avz8MbJ4FJAcDTe4G+s8BBr8HmNetzPFqE+bMzMxrZiK8TuHlyBeWW/F9FGEKNq1n7jcxMZGCTSjOjENfb+g3aNAA9957rxxDhgypEbOe2oClpzMaNLeFsbEGLcP6YMulTVgdtFpWCqsp5Fy8iEhhJaZv3wG7+++H07PPwMix5mXIVgdcw8yGHJyUJP68BHlRUbo9iuKEp4XLspXPbZuMj6/8hVPmlniw9VP4pM8neKnefRgQHw6n7e+LE/044MBXwoxMlfczNTKUTf65dvfLse3wQAdvHBDW5ezVZzDhp8MyaYwlKmsiXE/d1LGpzCAPTQ3FomOL5NIvPVwK9bawkhdtC4K3vQUWjWkrl4zZmNUgUaYYRxwFts8Dfh4O/CmEeON07RI5lmzt8Djw0O/AqB+Bge8AHScA9bprO5bVIapNmOnmpktaD6/b2trC2toalpaW1+xLTk6Gk5MTNBoNbGxskJqaetVNTYGncHNfcby9vdGnTx85egmLwqy2F/yvLgwN0eiedrCzzIdNfgN0DW6GL098ieOxx3UH3EbE5Cs7MBCRr7+B7OPHYT/mIbi8NA1Gd/hSIVMxCbUbORJ54eFI/mvlfyapdypsi3gl5Qpm752N+1bdJ2tJcw3yUy2ewtr71+K5ts+jab2+sL7nIxg8dwRoJk78seeADa8Cn7QB9n0mTjCJYKMN1ttu4m6D1wYHYNnEruhYz0F2Vpq45Agm/XJEWtOMQdc0WADlwcYPoqF9Q2wO3Szd2lwKdTkuHf/7ap+0/Ac2c8WP4zugpdft68SlRRcrpuCGHxYC/DrwWTvgm77ATjFpihQCbSEm4L1eA148C0z4R1wXf6v6PbTdx1jprKbHF8pJhf8qPClQLCmevM7kLw5eP3funHRTk7vvvhubNm2St6Ojo7Fs2TJp3RoKYejQoQM2btyIyMhIRAkLYPfu3VJcKcAtW7bEwYMHr96PiWLMuFYWceWhMTVB+4FeMCw0hGd6e7jl2OGNPW/gbIL4Mdwu+L0SYhw9azbyIyLg9MJkIcovweC6CdmdCmuAG4nJbvr2bcgNCtJtvfNga0WWy9wVvguz9s7CuHXjsD18O1o7t8YrHV/Br3f/ivEtxsOSvZ+LY+MpTkofipP91n+bZGybCyzuBewQ1lrYwatWdANnS3wxti1+fqITBjd3x+nIVNz72W7MXHkaBy4nIC27Zrm46dJmIhgbWyw5uxTf7juCB7/ej/ScfBlLnnVvM1jfLiuZrUO5xI1W8ck/gb9fBL7oCnw/CDi9XFsHveUDgJg84em9wONbgC6TKhQ/ro1UOPkrJSUF33zzjUzkYmJXv379ZPz4+eefl/HegIAATJ48WSZzvfLKKzL2S3c03dfz58+Hl5eXFGMmgzFpiy5rii6TvTw9PREurAIuwYqPj5ciTrf21KlTb7gki6jlUmWnUMz+1727DTHhGchrcxY/W66En2MjWYO3vq2YnVYn4iuZtn074hZ+hMK0VDg+9RRshw+HoZioKf4lecVfiHnnHThNehoODz9cKztoVYSQ1BDsDN8pa1hz/bGVsRV6evXUrj92ay/bLZYKunsTL2sTii5uAoJ3A+b2QD1hmbEmd4O7tLcF6UKEDwUnYsOZaGw6GwNzI0Pc1dgFd7dwRxc/R2gMa44F9/mxb7D41NfIib8LjUzvwdN3+aN3E1fprq9W2OozOQSIOqEd9FLEnRfiEa5t8enRCnBrCbg0BZybALZi0lSGddiVQZ1bx8xsai6FokDroRgyYSssLEy+STc37WyHokyhpVua2+je1pOQkCCzrfly3N3d4ezsLEWat7mP1rT+fi4uLlKkb4QS5vIRfSEeqxcehrtZFMKGJ+PrkB8xpMEQvNT+JdibVU+iFctPpq5bJ0R5IQoyMuE2YwZs+vW9s+pDl5J8/mZenIp8MWn1+e5bGBf7PdVVeD64nHIZfwb+id0Ru2WCk4OZA4Y3HI6+vn1lj2Jax+WqX02BZuOMmDMymxtnVwGm1oCTMAJajwZa/A8w1obIUrPzcDEmHT/uC8Y/52JhZWqEDr72ePKuBmjhaSvPXbcTFk55ecUenM3/BiYWUfjors/Qq35r8bp0B1QHrG/Oic6lrWLic1EbJuCyJltvXQGYPoBjQ+1SN5ZWNbx93jBV+asaUMJcPnIz87D9x5MIPhyJIYNN8LnbDmwM3ohnWz+LsU3HyvhVVcK616mbNiNWWIEst+n12adyWZTiBoifbvKqVYie/SacJj4lxkTdjroFVxMzfhyZHolvTn2DTcGbkFuYKwX5kWaPyHaLVVIMJPEKsP09IHC9VlDoTu35MtD0PiEmQkgMNDJ+y6VH7649h3PRaTAR1igTqp7t3RAOlibVbkGzstnOwDi8tOyEdF03aRCBRPMlaGjXAF8P+LpMFcFKD2PFwiqmm5rLmc7/DZxaLmb6wjrm83FYe4jPbSjQ/H7AtVm1W8S3QglzNaCEuZyIb8KVY9HY9vN5OEUfRoe3BmB28CKcTzyPmV1moq9PX92BlU9Rbi5S1q5F3IKFMuPY7Y3XYVFseZ2iZPIiIhE1cyayxXe93rI/ZRGSugIzilnRirkOnCBuC9sGa2Nr+Dv4o59PPwysN7BcdaHLBAWHFvSJX7Uubrq82W6S1cQa9NJafMKqzisoxPpT0Vh2NAwnw1NgojHE6E4+GNDUFX7OVjKZrKpJyszFn4fD8c2uy7AUFvz4bvUwtI0zvjj5KX6/8Lss1zk2YKysAV5hKBtZSVohTgoGwg+Jk8dOrZvaRAgbY/i0jH3ExJrJWq4tAE3NEuPiKGGuBpQwl5+s1BwhzGcRdjwKPb0CkfV4V7xzdJ4sXjC3x1xZKL+yKczIQOKSJUj87nuY1K8PlxdfhHm7tirRqzSIn2/SsmWInfserAcPhvubs2t9u0sKMt3VjB/vj9qPU3GnZLy4h1cPdPHoIhO77MzsyueuLi88TbJZBvtDX9woREiINAW6fk/Af6CMQxcZW8h1wrsuxmPdqSjsFpfeDhboG+CCe1t6oKlH1ZX4ZNb159uCsPlcjOwG9fRdfujUQLukMDglGC9ufxGpual4v+f7aOv63wJQpYKfQUacsIRPAhHHhAif1caK6VkwE+/NvaUYrbUWsXNjwMEPMKodISglzNWAEuYKIL4NgQejsOPXQDimBqLPOD/sr5+Lt/a9BU8rT3xw1wfwtflv/9vywrrX7A6VtPRXmPj4wH3uuzBt1EiJchkoSEtD6PjHkR8VCc8FC2qtp4GnoqCUIPx2/jcpyLSWncycZNEMdnhyt3SXGce3FS7v0cehD30HBG0RFqI4xzj5A+3Hy6IXhUZmSMrIlZbzVzsv43hYMpytTKX1/Fj3evCyr7z3wM+ME4H3NpzH5dh03N/WC5N6+8HTzuJqPJmhgB1hO/DCthfQ37c/pneaXracEbbaZGLcpU1ApBBkxoppLfNv0bAv0GiAVpQtnLSx4loixsVRwlwNKGGuGPl5hVjx3gEkB8ejq1sQAl4Zj8VXluKrk19JF+Ibnd+QDeIrSmFmJuK//AqJP/wg6137LP76jqzmVRmw+Er4M8/AZui9cJs1C4a1ZB0/Tz95rF+dGoZvTn+DTSGb5DZnc2c82uxRDG049L9LnWoKTBZjZSquuaUlnZ+lLQ/Z8yVhRQuxMrEEi4WtOxWNDzdfQHRqNhwsTPDUXQ0wsp03rM2MYFiBbCwWOmHf5PfWn5fJaC/298cTPRrcMK7N9d3rg9djesfpuNfvXvHcJSTQ0nXPBiCsQ31JTDq4hClkj3hv2QBzTJid3qC3NlZMV76mbqwEUMJcDShhrjhXTsRh45cn4Jl5Ft1HN4VNv7vw5oE5srXcI00fwaPNH4Wppvwz4/y4eCQsXozk5cth2bUrXN94/Y7IKq4q+DMOn/g0ci5dgvuct7RJc9Wagls6uO44LTcNSdlJSMpJQkRahIwd7wjfId3V7IrEyV//ev1rriBfDwWa63KP/wqE7dN2uXJqqI1Dc8mVEOuUAmP8eTgMa09F4UJ0GnwdLTCmk6/s5ORtbw6jMhb6iEzOwtIDofhpfzB8HSylKPdu4qLbWzJRGVF4butzMBT/6PnysfERW8XpPycDSIvULl+KOq5104cd0O7Tx4o9Wmvfi2dbrVVcx1DCXA0oYa44BQWF+PvT40g8Goh2jkFoOnMSEk3z8Pb+t3Ey7iRe6vAS7m5wt+7ospEbEoK4Tz5F2pYtsBkyRK7DNfEWP35Fhcg8dkxYzc/Cul8/2QqzJjS4oBDHZcbJEpHBqcEITQtFVHqULAoSnRktBZohEn38uIVTi9KvP65p0M3N5Kcrwnpm1yOKG1tPUtAaD0Zhve4ISynAtgux+FtYuifCk9HKyw79m7piaGsPuNveWhCYBc4KZF/tCMLuS/EY2MxNWuAB7ja3tL4LhDW8+vJqLDi8AP28+2CG9yAYRgohjj4FxF0QE4pLQouFxezaXAhxG8CthTZWzAQ3xpCrM6ZfzShhrgaUMFcOEReSsOaTo/AO24rOj3SEw4ihOB1/WsabuX700z6foqVzS93RpSMnOBix781Dxq5dsB05Es6Tn7/jS2xWFgwNxMx7X64D9/n+O5g3FyfYaoaJW7TM+D05FX8K5xLOye9KRn6GLI/JdoSMbzZzbIbmTs3RzKkZfK19ZeMFc6Pbf0KsFOgKZlw28iRw8CsgdK+2fCQLaHScgPz6vRGXbYhdF+Pw9c7L0vr1sDPH6I7eGNXe+4a1q7kUasPpKCzcchEhCRl4rk8jYXX7wMHKtHSSmZ+DlMv/YM6Jz7EjOwpzMoFB8cJSJt4dtbFiZlFzWRibQtzueH41ooS5GlDCXDnkZOVj64/nEHkgEB2Cv0ezlUuhsbXBhisb8PaBt6Vl82X/L+FlVbolOmzbGPXqa8g8cgT2D4+Dy7RpuN2FGOoaGfv3y7aQpuL7773oM1RFn2qeMmgJc20x48MUYtZWPxR9CMfjjkshZvySJSG5btbJ3AktnVqinWs7mRHsbe1dRetpayCM2Ybu0/aD5pIiNodh5jLj0PV7IDnPED8fCMcPe4ORkpknO1xNHeCPHo2cYWFidDUakZNfiF/2B+P9jYGwNTfCu8NboG/ATUI/dK/zudgWkQlbZ1YC59cC2ck4ZWGFyc4OMNaY4gf/x+DefBRg6aS7452JEuZqQAlz5cCvxqUjsdix9ALczq1B+252cH3lZRQZaWShB44enj3weIvH5cmXJRFp9fxHbMXjZJ89i+i330HulStSlB3Hj681CUq1CWa5x8x9DykrV8Lr80Wwuusu3Z7yQwFOyU2RbufE7ETphg5KDkJgUqBszJ+QnSDjwSz4QWvYxdwFfrZ+aOTQCP52/nC3cr9zhPhG8DQbIgT61B9aoabb2L2Vti50vW4IgSd+ORKNHRfiEJqUiQ71HPBgB2+08rZDenaezO5efTwSnRs4YnK/Rmjna/9f17W+DnVKGBB7XjyfsNT5XMwitxIizuVdLgGAb1d8mx2GL84vkRnvz7d5/vZnu99mlDBXA0qYK4+M5Bxs/ekcok+EomPwd2j47muw7NQJ2QXZ+OTIJ1h+cTm8rL3gauEqT8o8ObtYuFwdrmbOMD96AckfL0JueDicn31W27bQuooLQ9zBZB4+jPDnnpdrwr2FOGvsyhazpRBTfBkTZj1qxoWj07UxYW7nelhHM0eZPFTPpp689LD0kOUwOfgduOOF+EYwu5nrfy/vBC6s0zb9d2wgxLI7CvyH4JxRE2y5mIxVQoRjUrNlC8qUrDxcik2XQv1w13qoJ6zqq5JMqzheiDw7MTFezLXW8YHihyvE2Nlfm6zlJiYArEHt1EgItIs46xvKugQv73gZF5IuyFUWrDFeYpb2HYIS5mpACXPlwW/H2V0R2LP8ElxCdqJDw1S4zZwBjY0NUnJSsPbyWhyJOXI1sYd9nJmtzWFmaIoOIUYYuSENRnEp2P9IWzgMGIQGLk1Qz7Ye7E3t/2tdKypMUb4Q1lmzkbp+vUwCs/vf/3R7SoZJQfzbMSbMcT7hvLSCM/MzZVw4pyBHTrwYE6ZLmj1/XS1dYWFkIS0tMyMz6bZWlAFat+mx2gQx9oPWtzj0aIuctk8g2qEdVp6IwU/7Q8QfFJh+dwAGNXOTFb2kezzuHBC4UQj8dm3lraxkQPytpACz4AlrUdNCZqyY66xLEN0LiRfwzD/PoIFtA8y/a36lLIGsrShhrgaUMFcuuVn5WDbvCDJCo9EufAkavTIR1n36iG/PtaLKE3xEegQuJV/CpYRAJB3cg97fHIexgRG+HGqCY/W1sUkex0vGqBvaNZS9YxvZNZLXGX+UJ3pDjTzZ60dNFXD+eooKi2R3Ll5y5OUWICU2C4lRGUiNy4KphRFc6tvA0dMKRsaGsgGLocZAXIr3VEVvKy8mBkGDh8CiVStZtEXj6iIt4fyifOQJUQhLC8PRmKM4HHNYxoU5ydLHhDncLNzQ2qX11bgwb6tJVBXBXvNB/wC7PtRW1WJ/YiZh9ZiGRIfWKBB/FydzAxiwKcTZv7TNNVhtiyUuuWSRlnCTe4CAocL69vvP7/JGMD9gydkl+OTYJ5jSdgrGNRsnvo535t9YCXM1oIS58jm/NwrbfjoNr7DtaOmXCa85s6GxLXmGXZidLZdCxbwjBMHBAVbPPYmU9o0QmRUjhZvNCJgwRJco17Sm56YjLU97yRMDXeAeVh5yGQ0v6SZ1MHeQdZEZx+YlBwW8uk4k/JXkC8HNycyXExUOJsdlpeYiNVG83wQxeBmfhYyUXHF8EUzMjWBiqkFBfhGyM4SFJF6qnYs57Nws4eBmATtXS1jYmsDM0hhmVmKISwp3ZcCTbshH81Hw60rkPTsWFzt7IjDlEgKTA3Ep6ZKMGdua2Eq3sz780Mi+kXaISRJv38muzdsC3dKssHVqGRB+EEgOBTzbA/a+2gQuuqgtXcSXSFjC9nR/C/H26aoV43IW+uAEbc6+OTidcBpf9f9KLle7E1HCXA0oYa588nIKsHLhMWSePY9mwX+i0UtPwPbee3V7/4V1r5OXLZdlNinKdKVadu78n/rNtJhTc1JlkYnk7OSrl3FZcbIUIzN7YzK0lxRwijAtbMax6QJnrWTGOWUc28JVulZ5nSUcjStYjYgCnCkENz0pR8bY08XgZVZaHrLTc6XIZqXzep6skmZmaQRLW1NY2pvCyk5cimEhbpsLoaW1zGMyUnKkeKcK4U4RVjQveX8KMu9LgeallYMpbJ0sYONsDltnM5hbm5TKUqUVHJ4eLmPCrI1M13RqSBD6f34IWeYafDjcEJbO7jImzDCCj7XP1ZiwPj9ACXENgS5pri1mHJptE1n+kvWnubaYyVu0kO18KqVDE8t1bg3Zihl7Z6CJQxPM7zkfjubaGtt3EkqYqwElzFUDq4Ft+OIE6l9ZgwYF5+G3cjk0xT5fdohK/OknxH+9WFbx8ly4AKYNxMy+DEt26G5lTJOxal5yJOcky5n9lZQrclB4KEB0yzKWbaIxuXppaWQprWyKT32b+vKSYlRS0wN+9WndJseIyUR0FpJ4GZMpBZniTEEt0I/8QmGUaLQWr6uwdoXFay8uKaB6S1fDYaTRuqs1/xVTPkZ+Lod4bHFJwY8PS5MjNjRNvAZxQhZ3MzYRj8FhaggLGxM4eVnB2dsGzj5W8nmNxOvgew9KCsLJ+JOy4Mu5xHPS+5CVlyVjw/z86lv6YPhxE7RddQF5Lz4G15EPypgwM+fNNGalEnzFbYRx6Mx47SX7QnNUghhfDyd17x96HysurcBTLZ/CEy2euOMmaUqYqwElzFUDLcWNi08j+XQQWh1eAI+xI+Dy4hQpvBTlhB9+QNynn8G8eTPZTMHY3V13z8qHAk63OJfr0DXLuDYbIMRnxSO/IB8FhYUoLBBf7UJxcJEBXE3c0cSgJXzyG8IuwxWaFCtkxdElXSBef5HMjWHsV6PRDkt7Mzi4W8LRwxIOYtiL69aOZtq4cBVBr0ScEOiY4FTEXElBdHAKsjJzpKBzWapBkXiRmiJk2iQi1Pw8IiwuIc4yArkmmXIi4GXrhQ7u7dHerR3auLaRLmqW6IyaPh15sXHwW7e2RlQDU9Q8mOQ3YvUIObl9q9tbaOXcSrfnzkAJczWghLlqYGLTuX1R2P3HRdS7uBL1Ug7J5TgU4ITvv0fSz0tg2b27FGs2pahq+NXNzS5AbqY23puTmYf45ESEREcgKiYeKQlZyEsRFmiGBSxybaSxUWCchxxNFtINUpGtSUeucRYKLXNhYmcIBycreLg5w9PNBY429ldj2dUVz6Z3gOuEE7MSZVZ0eGo4AsOCERWegOyEQthmucCjyBe2RQ4wzbNAgTCwc3PzYCS+4g7uVnDzsJcWtbWYVJhbM25tAjNzQ6T+9D0SvvoSjhMmwHnS02XyYCjuHNhmc/ru6ejj3Qcvd3xZ5nPcKShhrgaUMFcdjI3+8+M5JF2MQrtDc+HQoQUMra2RtnEjrPr1leuUpfu6ksnNzkdmSg7Skxj7zb4a92WclpZ88UtmSJszdisESsZ8dbFfE2tDFJjkIcsoHSkGCYjMD0NYTgiiM6OuxrUZz+YyILq+GdPWx7UZz5axbF08m5eMxVVkvS6FWF9Dmi56xoX1sXW+Hu5nVTW9O55xYXcTLzgWusAs1wr56eKEIj6L1PhsGbdOicsUn0mumIAYwNLGRMa5Gbs2zU5CwaaV4kSbjQZvTIFD8wbS7a5QFCcrPwsfH/0Ya4LWyNaQ5a2FXxtRwlwNKGGuOvh1ObElDAdWX0a9tCPwPfyD3G47YgRcprxQ5mIW18PmGemJOTLWmxStjfkmRWfKZCzGemXcN18X9xXHMvOZsV7Gfe3dLMWlOWyczGEqtmuM9HFf7eX1buji8Wx9TJtJaPoEKjbr5yWTqngs3XxyGGovGatlcQ19LJvrQXmb2c4lxW/5HFw7eiLuhIwLs3IWa0jzhMjBZWSsmMX64xwBjgFybSmfh4PPeb3VzkmI/Fx0cevsjFwkRmYiLixNusUTItKlV8FQPLdGDBM7K5jaMSvcEs6+2ti1k7eVjJMrFPx+ztw7E/GZ8fjtnt9kDfM7ASXM1YAS5qqFGcYr5h9FTnQcOgR/B7e+neH8wmQY3uQLrV/ry7ivXPMrLrMz85AUlSGERAzdJS0/ioyBEFHtWl/dml8xbJzM4OBhJWO/jPvykhZhVScxUVDD08JlGUq5RjtFjKRLUsQp2BRUJmPxklmuzAz3s/ODn72ftHgTshLkmmEuSeEyJmNDYzmYsEZBb+vSVq4VphjbmLCLT+VRKCYvybFZiLmcjKDvViExxwJ59p4oNDKV+/j34BmASWxuvtZwqW8L13rWsBaTGyMxodF+9iUnsynqJr+c/QUfH/sY3T27Y16PeRVe5VAbUMJcDShhrnqObwnF/pVBaN3TBe3v8YORhbbuNU/0dDtzva8cjP1m5GmXC+nW+6brLrnkyMhUI61bLivipYm4tLAykcuGrB3NYe1gJi7pijarUe5X/my49pprsvWDa7PphqY7XL9Gm6UPaekyEYv1xJkxzoIqDW3FsGsIG3YdqibS/vkHEa+8CosRo2E0bCxSkgpkJnpafLb0SDAMwL8JY/XGpkbS+yC9EW4W0gvBDHGGCGTsWljYSqzrJqwn8MquV2RFP71Lu65XdlPCXA0oYa56ePJe/v4RKZYtenkJpRJfbq77FQJ8Nd6rj/0KgSaWwrr9N+ZrBitxKZOUxEleX2CDw9is5lb6uhW0iLk+m0u8OHiSMxXWKRs70C3IhJrb9d4KUlMRNf11ZJ87B+/FX1/NBaArPCstFxlCnDNTxKX4G+rXW+vXXPMYC2vGrcWwMZUirV1r/e9gWEFRN+Bqh4lbJsqJ5Jtd35RhmrqMEuZqQAlz9XB+P6uBnZdWL79GrHBFFzXFtvhaX8Z+udTIWBwn471Xh4F0WSuqCfE3St20CdGz34TNoEFwmzVTt+NaeEbQrrkukIKcm1MgS4vGhabK9daMXWckaZPMuGZbrrkWlww1OPvYwJkucR9r+TdXa6VrJwzJrLq0SlYFe6TZI3iq1VMy9FJXUcJcDShhrh7osj62KVReyrivGBRkWr/qhFwzKUhKQtSMGUjbth0NVv4F00aNdHtKD08ZrIIWGyKEmmuuxWB+AJPPmJBXKCZovDQTFjRrhLvWs4GLr7ZWOCdnFHROzBi7Vl+TmgtDMUwEOxB1AF/3/1o2MamrKGGuBpQwKxQ3JnXjRkS9MUOWSvV4f95Nk/ZKC61ruryTYjKRHJMlq6kxbk0BZ9yarnIWe7GRldPMYe9iAVsxiWMZUnpYzBm3FhM6CreiZkCr+WDUQczeO1uGYT7t82md7UClhLkaUMKsUNyYwsxMRLz4IrKOHoP73Lmw7ttHt6fy4GklJyNfiHPO1dg1k/9k3Do2U3bfolibWhhrk8q47loMa9YKdxaiLQSccWuuxa7KamuKm5Odn43FpxbjhzM/YFzAODzX9rk6mQimhLkaUMKsUNycrNNnEPzAA7Du1w/ub86u8Prz0sCM/fw8bdyabm9a1IxXx4amyku6wwkTClkPnHFrM2FNO3tr11szds1lcqwlrqg+WOb2yU1Pyqp07/Z4F109uur21B2UMFcDSpgVilsT+cYbSN+6De5vvaW1mm9zwJeiHR+eLuPWscHaJDNm9suCMnIUQaMxkHXLXepZw8XXVoo23eHaQjIGMGTsWlnYlQ7jzM/88ww6uXXCm93elEv/6hJKmKsBJcwKxa3JuXgRoU9MgHnbNlKcNdbWuj01AxaiyUzOQVIs49aZSInJku7wrHRd7DotVzb+YHyacWu5EsDFQq59p2tcxq6tTeT6eJX9XzEoEwuPLMTyi8vxTOtn8L/G/6tQOdqahhLmakAJs0Jxa4pychD32WdI+u13eHz4Aax79tTtqblQiLVJZbnykmvn5ZprindcFtITssVZDVKQGbPmoEXNNdds2WlL4ebSPeUOLzPRGdF4dderspLdx30+rlNrm5UwVwNKmBWK0pF5/DiiXn9dtoOs9/vvwrKsXc0tWOpVrrnO09ZPZ6U51liPDUlDnBjx4XSH50sXuDZ2bSgL2Ni5WsolXHLNtbe1tLDV0q2bU1hUiM0hm/HOgXdkGdmFvRaKz6xufGh1Tpjz8/OxZs0azJ8/H7Gxsejfvz9ee+01+Pj46I7QkpiYiNmzZ2Pbtm0wMjLChAkT5DA2NsacOXPw7bffyscqLCxEUlISxo0bh6+//hobNmzAxIkTkZubK+sm+/n5YcGCBWjXrp3ukf+LEmaFonQU5eUh5v35SF66FG5vz4Hd8OG6PXUDusNZ/lWuuZYjTZYgzcstQKEubs0111b2ZkKoGbfmsJFZ4SxLyri1LIajEROW26VBPEXrTtP/OV0Xv33D61f/J7nmMUpznehus8Ts/IPzhUBvwqwus9Hft5/cfpUbPt7V/2kR+67eKs19il8nxY8TumDk6FihdqZ1TpiPixn362LGTZFt0aKFFE03Nze8/PLLMDX9t1LMpEmTpOC+9dZb8kN4+umn8eqrr2LYsGHIzs5GTk6OPC4kJARTp06V4t6nTx8pzD/99BPeffdd2NvbS3G2ELN7jebGriglzApF6WGJzvBnnoGhpRW8v1kMY1dX3Z66CcvJapdtZSE5NhOpcdnISM2R7nHGrrPThREghJjizJg13d+2zmbQlyKlm5zxawp2VcJJU9axY8gJDhbX88WGQpqt8rJITCakOAlDpkhu198Wgievi+089up1HqO9rzyGl7rH0N6/+GPpr+vuf/UxtPePz4jD2fgzMDc0RWvnVtAUic9Bdz/tc2uPu/oar9mnvf6f59LfT26/9lI/rt7W79ddpyj7LvkZRi4uuk+u7NQ5YV4qZto7duzABx98AGtra2zcuBE//PADPvvsMzhyFqODFu60adMwevRoefv5559HaGgoVq5cKW/rWb16Nb7//nssXrwYTk5OUphpUTdv3hyenp4YOHAgOnToIAW6OLS288QXmVDoW7VqhbNnzyphVihuhTjBxX70ERJ//AnOzz0Lx/HjK2R91Da4jItinMmEslTWDM+RVjVFW4q3EPHcrHxZx10rzMbS9W3j+G/cmgJuZmVUaa7dQmGo8O+R/McfyIuI0IoR4eOLv418Hv6NrrvO/TIcoT9ObhfXDYofK47R3b56PI+Rt7XX9fuveeyr2w2QmZ+FUwmnYWNmi4YO/jA1Nrv6HNfcn4+r3379a+Ol9ETot/M4/T7ddrlft11cyse75jEMYWhlCbv77xcTS0vtZ1QO6pQwFxQUYNGiRYiJicHMmTOlhXzo0CG8/fbb+PLLL+Hu7q47EnjqqacQFRUlXda0nGkp86nPidm6nszMTMyYMQOuYsY+ZcoU6eamuO7duxdeXl7SOl+/fj3mzp2Lrl2vXUvHx6U1Tvi4fC4+jxJmheLWsMHF5XvuhbGY/Lq/8/bVBhd3KsWXaBWwqllC9tU113SHU7ClrshlWoayRaaFnelVVzgv7d0thHYIESkj+fHxiH5rDtJ37oRpo4ZweUGcC729dEJEgRJDz42us3O3/uZ12/91yRe/Lrjusf497NrthPHmdw/Oxa6IXXip/cvo69tX7NIdp7uU/y/hvpJSXJevoNiuf/f9d7uBUcUyxO9YYU5OTsZzzz2H3bt3S0u4bdu22LNnD06fPq07AggPD5cucbqxe5aQIUp3N8WXljnd3RRuPbSW9e5wurJpoSuLWaEoPUm//46Yue/BZdpU2I8eLawVlbl8I+gOjwtLR5wubs3116wZzwQ0Keh5RTLRzMnH6qpYO3pZC6ubcWttEhovr1nGVViIbHHOin5vHrJPnYJFp05wnz0Lxh4eugNqFmFpYZiwaQJcLVwx/675cLEovyv5dlPThLns07liMM5LkY0XMzwmZxFaqYwBm5iYyNt67OzsZKyYYrlr1y4pqu3bt9fu1LFTzBAtLS3lB1QSfD66x1PF7J6TguLw8SjC+nF19qZQKEoFq4CZBTRByl9/IT82VrdVURIsJerV2B5tBvhi4ITmGD2zI+6f1hb9H2+GLsP80PwuD3g3dZAe6OCTCdi+9AJ+f/ugbJW66Zsz2LMiCCe3hSPoaCwiLyUjKSIF8es2I/K16cgTBorj4+Ph9dHCGivKxM3SDeOajsOFpAv47cJv0opWVA4VEmbStGlTREREYOvWrQgKCsKqVavkNorjN998Iy1ownjyiRMnkJCQgBUrVkhxfvbZZ+U+QsOdseVevXrBwcFBbqP4MoHr6NGjMuObFvaWLVvk418v/AqFomKwLKftsOHIDQ1Dyt9rdVsVpUEmizlbwLeZI1r28UbPBxqj7yMB2vFoU/R7pCm6j2yIei2cpBs29FQ89iy/hH9+OoetP57DP2JsXx6OUyadEdfnSWR0G4m0dK1LvaZibGiM/r790cGtA347/xv2Re7T7VFUlEpZLsWELf1yqQEDBlxdLsVErQceeADjx4/HwYMHpRBz2VTDhg3lMT169Lgag+H+kSNHSsH29fWV2/jYy5Ytk4llvJ+HmD2OGTMGY8eOle7sG6GyshWK8sFEI1ptOefOocG6tTBydtbtUVQU/ZprGbcWlzkZeYg6HoyQFduRkG6MdGsfFGpMtMuzdK5uUwsjNGjjjLYDfWFiVvMqbRWJf+xANXXHVOnKXtx/MRzN/036rS3UuazsmogSZoWi/CT+8gviPvgQNsPug9sbb6hYcxVQJIwOxpGj33wLuWFhsBk8GM7TpyMluUAWRpEFUsLSZCWzLCHgrvVt0XtMY1nBrKbVAqeEfHjkQ/x6/lc83PRhTGo9SVrTtQklzNWAEmaFovwUJCYidOLT0nr2XrQI5q1b6fYoKoOCpCSkrF+PhC++gIG5BRwefhh2I0fA0MxMd4QWnpnTErNwZmckzu6JlNZzh7vro35LJ5iY1yzrOS03DRM3T0RyTjJmdpmJjm4da1WeT51K/lIoFHUPjYMDHCdMQGFKCpL/WiH7NysqB1rHsQs/kh4JY3cPuM+aCftRI/8jyoS6xrXS7QfXQ6/RjWXYj3Hpw+uCZdetmoS1iTWmtJuCzPxM/H7hd6Tnpev2KMqDEmaFQvEfrHv3gkXnzsjYswfZZ87otioqQs6VK4h85VWkrFgBq9694fX5Ilh27QqDYhUSS4K1vRu0dcHdk1rAxcdaZnOv++Ik0hOzdUfUDFo6t8SIRiOwI3yHrKmtKD9KmBUKxX9gwQbnZ59BfmISUjduQmFWlm6PoqwUZmcjfccOhIwdh9zLl+H49ERZxMXIiRnapXP38jBWGOv7SFM07e6BhIgMLHv/CK6cjJcNPGoCJhoTDKk/BE0dmuLDwx8iLDVMt0dRVpQwKxSKEjFt1Ag2gwYibcMG5Fy6pNuqKAt5MTFI+PZbREydBiN7e7i8+gocH3+8RNd1aWA50K73+6HLsAYyzrz9l/M4viVU1vmuCdS3rY8R/iNQUFSA+YfnIzU3VbdHURaUMCsUihJhK0hmCxsYGyPhm29k9q2i9OQGB8tKaonffQ+LTh3h/u47sL333nKLsh4jEw2a9fRE77FN4OJjg+ObQqVAJ0Zm6I64fTDhi2ube3v3xv6o/fg76G9VeKQcKGFWKBQlI06yFu3awbx9e6Rv3YbMfaqARGnJPHoUoU9MkC5su1Gj4DFnDsxbtqy0pWcUQPcGtug1tjEadXBFyOlErP38hHRt3+4JlKWxJaa1nwYLYwusvLQSF5Mu6vYoSosSZoVCcUNoNdsNHwZDa2vEffqZytC+BYUZGUj69TeETXgSRTk5cH7uOTi/MFlmulc6BkIEbU3R4wF/dL2/IfJyCrHtp3MyOSwnK1930O2BRUZe6/garqRcwaqgVcjKVzkKZUEJs0KhuCkWHTvCsls35AQGInXTJu0CW8V/yIuMRNwnnyLu449h6t8Ibm/OhuOjj1TYdX0rDDUGaNnHCwOeaAYHTyscXHMF+5Zf0rq2b+OfqrtndwysN1C6sw/HHNZtVZQGJcwKheKmMEPb6emn2UUGaevWy4QmxbVkHT+ByNdfRzKXQvXpDfc5c2Ddp484w1bfKdbT3x69HmoM/46uuHAgGtuWnMeVE3Gy3/TtgK7skf4j4WDugIWHFyIxK1G3R3ErlDArFIpbYlq/HuzHjEHm4cPIPHhIWc06igoLkbLmb4RPnoysY8dlFS/X116DacOGuiOqDy6psnO1QLcRjdD9AX/ZP3rbLxdwemf4bWmGwX7KLZxayCVUoWmh+PjoxyqBsJQoYVYoFLdGnPXt/zcKGicnpKxahYLkZN2OO5eClBQkfvstYt5+W952n/MWnJ59BpqbNNipDoxMDNGsuweGTWkNS1sT7F0RhN3LLiIjJafa51MaQw0ebPIgmjg0wZbQLdgetl2JcylQwqxQKEqFkaMj7EbcLyzDY7Ii2B2LEJacwIuImfc+4r9eDLOWLeH1ycdyKVRNqg/t1sAO/cc3RaP2Lji/J0r2gQ4/n1jt1rONiQ2mtp8KjYFGNrqIzIjU7VHcCCXMCoWiVBiYmMCqVy+Y1K+HuM+/QEFamm7PnUNRQQHStm5D1IwZSF27FrbswDVzhlwKVeMQcwQHDyt0Gd4QnYf5ITEyHTuWXsCZXZEoqOZqYa2dW+PRZo/iRNwJbLiyAbkFNaMgSk1FCbNCoSg1rAZmdVcv5IWHI2npUt3WOwO2akxethxRs2Yh++xZuL7xOlynTYOJt7c2wFtDsbAxQYveXrjn2dYwNDLE3hWXsP3X89VaypOehGGNhqG1S2v8fPZnhKeH6/YoSkIJs0KhKDUGhoawvX84jN3c5Hpddkuq8xQVIT8xEXGffIKYuXNh5OAAn++/h/2oUbdsQFFTYA9n1/o2GPxUc/gEOODioVisXHBUJohVV9a2vZk9Hgp4SIr0/EPzkZ1fs5pw1CSUMCsUijJh4uUFu4cekn2bU5YvR1Fu3XVL0krOPHYMUdNfR+IPP8K6bx94vD8PFu3a6o6oXdi7WaLX2CZo3d8HaQnZ2PzdGbm0Kj+3QHdE1cEs7fau7eXa5gNRB2R7SFWus2SUMCsUijJjN2IETP38kLZte51tcFGUl4fUDRsRPftNZB48CKdJT8P15Zdh1qRJjXZd3wq6tjsMqYdeYxrLutv7/grCnhVB1dLjmeU6RzcZDS8rL/xy7hcZc1b8FyXMCoWizGisreD0/HNSlNO375AiVpfgkp6Eb75F1MyZKEhNhecnH8PxiSdg5OqqO6J2ozEyRL2Wzug/vhmcfaxwdlcEVn9yHAmR6bojqg4fGx9MaTcF0ZnRUpxTc1QHqutRwqxQKMqFRdt2sOrWDSkrVyIvKkq3tZZTWIjcsHBEvDgV8YsWwbxZU3h9/JF8n6yAVpeg0W/vZoEBjzdD024eSI3LwvovTyPoWGyVJobRpd3bpzeG+Q3Dvsh92Ba2TbaJVPyLEmaFQlEuaDXb3DdUWpRJv/2m21p7YTw5fe9eRL32GjJ27oTt/ffDjV2hWrWq1a7rW2FqYYweD/qj28hGMDYxxM5fA3F0YwgyU6o2d+DJlk/Cw8pDu7Y5Xa1tLo4SZoVCUT4MDWHZqRPMW7dG8rJlyD5/Xrej9sHSmpxcxLz1FvIiIuDy8ktwfWkaTOvV0x1Rt2HWdpPObrjrocZw9rXGsU2h2LbkHGKDU8WHozuoknG3dMdDTR5CRHoEvjv1naoIVgwlzAqFotywGpjNPXcDhUWys1JtPLkWpqfLrOvY9+fDwNgE7u/Nhd3IkbLV5Z2EgRBnt/q2Mu4c0NUNIacTsPm7s/KyKv6uLNfZ16cvOrh1wMqgldKlrdCihFmhUJQfAwNY9+sHs4AAZB05gozdu3U7aj60krPPnUf4i1ORumEDLNq1g+fHH0kvgIFGozvqDsMAMDU3Qs8HG6P3uAAUFBRi8w9ncGp7eJVkbduY2mBswFg4mjliwZEF0npWKGFWKBQVhP2G2byhMDdX2+AiJUW3p+bCeHLaps2ytGbOuXNwGDsGngsW3JauUDUVurb7PhwAF18b7F0ehN1/XpQFSSrbem7j0kY2uojKiJJZ2hl5Gbo9dy5KmBUKRYWxaN8eNgMHIvPAQdnkQpy9dXtqHkxWo9s95p13UJiRLuPJTs88A429ne4IBaFr28PfHneN9kfzuzxx6VAMti+9gOCTCSgsrLy/LyuBcW1zR7eO2BS8CUdijtzx8WYlzAqFosLQ9ev41JMozBNW89p1QvBqptWTFx0treTE776DoZ0tPBcuhO3dd8PQ3Fx3hKI4TEa3dbZA1/sbou9jTZESm4nN32td25UJC49Maz8NeYV5WHpuKVJz7+y1zUqYFQpFpWDs7g67+4Yh/Z9/kHWuZmVosytU1smTiJz2EjJ274H1gP7wXbJEW8XLUJ0Gb4WhxgAN27lg8FMt4Ohuhb3LLmHL92eRGp+Fokqynn2sfTCu6TgcijmENUFr7mirWX0jFQpFpcBYMwXPyNkZ8Z99hsKcHN2e2wvbUyYvXyGLhuRFRsrSmu5z5sDI1lZ3hKI00OXs2dgevcc1QeMubrh8PA7//HgOoWcTK6URhrHGWNbRbuvSFl+f+hqn4k/p9tx5KGFWKBSVhlnTprDs3k3GmdM2btRtvX3kxcQg7uNPEDt/PgxNTeE6cwbsHxoDQ0tL3RGKsuLgYYluIxqh68iG0mLe+dsFnNgWVilxZ08rTzzQ+AHkF+Zj4ZGFSMpJ0u25s1DCrFAoKg3GavVrgOO/+FImWt0uKMpRr74m+0abNW8Gn59+hPVdd4nXaKY7QlFeTC2M0Kybh1zzbGSswf6/grBx8ekKL6kyNDBEb+/e6OfTT1rMyy4suyNd2pUizKnix3fmzBkcE7Pk0NBQ5Ofn6/b8Cz/c8PBwnDhxAqdOnUJiYqJuD5CcnCzve/jwYTl4TJ6uKD7vFx8fj5MnT+L48eOIjo4WMzPVKkyhqKlwTbPt4MHIF7/VlL9WyvrT1UlhdjYy9u1DyLhxyD57Fg6PPAKvzz6TxVDqcmnN6kZmbTeyw+CJLeDT1AFhZxOx/stTiApKqZBrm4VHXmz3Itws3bDuyjop0EVVVX6shmIghK9C7zglJQWLFi2SYmthYYGcnBxMmjQJXbp0kTEJPfvED2XBggVwFD8Oiq6RkRHeeecdODk5YeXKlXjxxRcxWPyYiY2NDV555RXY2dlJMf/www+RkJAAjUYDY2NjTJs2Df7+/vLYksjKykKTJk3kZMHKykq3VaFQVBfMfg4e/RBMPDzg/u47MPH11e2pWvLFeSJlxQokfP8DDMVv3/GJx2E7ZIi8rqg6cjLzcWpbGM7uiZKtJFv18ULjzm7yenlhJbCZe2ZKC/qVjq/IzO2qIj09Hc2aNcP58+dhXgMy9CtsMdOKpZX76quv4oMPPkDr1q3xxx9/IDMzU3eElvfee0++8blz5+Ldd99FXFwcfvrpJ91ewNXVVQo3x5tvvglbW1tpLe/cuVNa19zG+1paWuLvv/++alHroZXO59SPCs43FApFBTB2c4Pj448jW0yOM/bskQU9qhq6rmPefx/xX30N00YN4fH+PNgNH65EuRqga7vNAF/0eMBfiLEh9q0Mws7fLyI9KVt3RNnp7N4ZQ+oPweaQzdgVvku39c6gQsJM8bt8+TK8vb3RqFEj2Nvbo1OnToiIiEDGdesY6eIOCAiQx1CEfXx8pKWsh/sp3AMGDMDGjRtRUFAgrW+6sDt27AhfMeN2Ez92WuKc1dAqLs6XX34prW8Ovh5a2gqF4vZhM2ggTBo2lBnRVR1rzgkKQujDjyBt7TpYDxoEr08+gYUwEgyMjXVHKKoajTF7PDtpl1R5WuH83kgZd04IL1+PZ3MjcwxvNBxe1l6Ye3AuUnJqfkW5yqJCwsxYL13ZdD3TzUzoBsjNzZXCWpzRo0fjq6++wvr167Fs2TJs3bpVxotJ8+bN8fPPP2Pt2rV4XMyy58yZI61wPgbj13x8Q91aQ727/PrHf+qpp6QVzkGR9/Ly0u1RKBS3A42YhNuOuF+KZuq69bqtlQsLmaSsWo2QcQ/L61wK5fbqK9CopVC3BUYvrR3NMHRya7Tu74OUuGys//qUXFqVl1v2nsuN7RvjPr/7kJWfhfcOvofs/PJb4LWJCgkzY8gmJiZSiPWuY7qUKdLF48vk2WefxUMPPYTNmzfj9OnT0jJmDJk0FLPqPn36oHHjxhgzZgy6desmBbwsj8/YM93c+nH9foVCUb2wGphV164wb94Mid9+i7wo7US8ssiPj0f8l18hZt48GHt4wOX16XCcMEG5rmsAGiNDdBraAN1HNYSxqQb//HQOh9cFIzXhWk/nreB5/F6/e2W5Tsac6dYuLKr7yb8VEmZasXQv0/LNztbOZGJiYqQwmpqaytt6aOk+8cQTeP/99/H666/jypUr6N27t27vtdAapjVOUaYLO0jMuGklU5RpDTs7O//n8RUKRc3D2MsL1mISXpCcjAQhzpVFzqVLiHzlVST9+qvsBuX+ztsyE1y5rmsOFOeG7VzRZ1wAPPxscWJLGHb+Fih7PJclBcjW1BZT2k2BqcYUywKXITg1WLen7lIhYSZM9oqMjMSPP/6IQ4cOSXc148B0Pz/55JNYsWKFPI5LoNatW4cLFy7gjTfekFYzE8bIn3/+iU2bNsl49TfffCOt6uHDh8vMbcasmQBGN/eOHTtkYlmPHj1qROacQqG4ObSabflbFhP4tA0b5PKlipIuzgehj41H5qGDsL1/ONzenA2zxo11exU1CZbydPaxxqCnWqB1f2+EnUnEuq9OIeJC2QqH+Nn54YW2L+BY7DFsuLIBuQW5uj11kwoLc4MGDWS2NEWZQtuvXz/psqa72czMTIor4eUPP/yA559/XiaGbRA/UiaCER5LQR8/frxcVsXlV61atZL7OnfujNdee03GoOfPn4+JEyeif//+cp9Coaj5aKytZeyXCWDJy5bLdcblgfdPFOeBqNffgIE4n7i8/ApcX34ZGmEEKGo2tJ473tNAlvM0NtHg70UncGRDMDJThcCW0nru59sPfXz64I8Lf+Bcwjnd1rpJhdcx10TUOmaFomZR9P/27gSmqjOLA/hhkccmW1mkLiCOqIgL4lqtqY5C1Yk6XdRq4hAdtLFqRtukY02rZuySVpPWpk5TW22nUmOU6tgYGRdwSV2KWwVGrVqBamUoCIqKoDLz/of7GDqFRzu+6n3X/6+54XHvgzSfvHvud+53z6mtleL0GVp0BM81+ycnG0d+ntqiIilfs0aqtmWJLaGbhM+cKQH2i3ZyLyjbeelMpRzbUSwXTlVIXFKEJI3sIOHtA1tcF4RQdejSIVlycIlE+UfJimErJMjmmosyyz3HTETUEg8fH/useZYWAKnavkPqqn/mrNl+MkYVr+//vECriAWOGCHRixZJQP/+xhvInXh61jfCeGxyF121XZRfLtl/OymFeeXGO5qHwN07src8Hvu45Jfly+r81ZatCMbATET3hF/3BGk9fJhUbtpknzlfMvY2D60ar2zbpou80BQjfPZzEr1ksfjExuIMb7yL3FFgmK/0/11HGTopXtPZKOWZu/W8zqid8fX2lakJUyU6IFoyz2RKbkmuccRa+NdNRPcEOjoFoTymffaM6lwIvM3BzLp81YdSsmix3qNu99eVEp6erveWyRqwMCy+f5Q2woiMaS1Hs4q0jWRFyfWGx2ObEuobqiU6a+tq5dN/fipl1WXGEetgYCaie8PDQ/x69xb/QQPl6j+y5MbhI8aBRurqpPrECSn5y1IpW7lSAgb013vS6ApF1oP0dLuuoZJiD85dB0VLcUG57M44raltZ8F5cNvBMiF+ghz911HZUbhD20RaCQMzEd0zXiEhEjx2rH3WbNPAW9eotC5m0FU5u6Vk8RKp2rVLwtLSJGrhQvHr2dN+puKpysqCIvxk0O87ycCxcXK1/KbsXXdaC5Lcqmk6q+Jh/29yt8n6GFXGqQy5dL3lWyPuhH/tRHRPBQwZIn59k7XBRdXOXcZekcrMTPn++eel9sIFabt8uUTO+5O0io7WmTZZn4+ft3Qf2lZS/9hdZ9KHtxZKzqen6h+pagLaQk7rPk1GxoyUMFuYsdca+LgUEd1zNd98I4WTp4hfch+JmPWcXNm0SSo3bBBf++w4Yu4crebFWfKD63pljexd/40+UhXRPlAGjOskUbFBel/612C2x6UYmInovkCLxsoNG8U7LExbNgaNHiUPpaWJrXNnzpJJaqtvS8G+i5K356LOoHv9tr10GdBGW0y6Gp9jJiKyC504UbwfCpM7V65I5PPztYqXLT6eQZkUUts9Hmsnj03pIt6tPOXQ38/J/syzUvULG2G4I86Yiej+sJ96as4X6ldbRz6bTM2rvXlbtn+YL0X5lyUyNkhSp3fXBWOuwhkzERHYZ8a2uI5i6xTHoExO+fh6S2p6D+k3pqNcu3xTMpcdkTOHSzXdbUX8NBARkemhr3NSagcZMqGz+AfZJGftSclFj+cy66W2GZiJiMgtoDPVb/pESsq0BIlJfEjy91yQnIxTctVi950ZmImIyG14eHpIaHSAjPhDgiSlxEjdrX+Ldysv46g1MDATEZHb8WrlKcmPx8iY2T3Fr7WPsdcaGJiJiMgteXl76sIwqz1hx8BMRERkIgzMREREJsLATEREZCIMzERERCbCwExERGQiDMxEREQmwsBMRERkIgzMREREJsLATEREZCKWDswWbDVNREQuZrZY4WH/H7Jc9HI0vX7ttddM0fSaiIjMq7q6Wl566SUpKCiQwMBAY+/9Y8nAjEFesWKF1NTUGHv+Pxiaw4cP6+u+ffuKh9UKst4ljo9zHB/nOD4tu3PnjmzevFmGDBkiUVFRxl5ycOX42Gw2mTt3rikmc5YMzHDr1i3x9Ly7TH1dXZ2sWrVKX6enp9/177Majo9zHB/nOD4tw3ls2rRp8uKLL0piYqKxlxxcOT74e2zVqpXx3f1l2U8CBtjLy+uuN5wssDV1jBvHp6WN4+N84/i0vCGT0NR+bvWbq8bHLEEZeInqBP7Bg4ODdWOa7ac4Ps5xfJzj+LQM49KmTRvx8bFWv2FXser4WDaV7SolJSX6Ff/49FMcH+c4Ps5xfJzD6fnMmTPSrl078ff3N/aSg1XHh4GZiIjIRJjKJiIiMhEGZiIiIhNhKtuJXbt2yb59+8TX11fGjx8vXbt2NY5QcXGxZGVl6Vc8gzp69GguUGlk//79cuDAAamoqNDnK8eOHSsxMTHGUTpy5Ih+vq5cuaKLv0aOHClJSUnGUWrs5MmT8tlnn8nQoUN1nEhk7969smXLFuM7kbCwMC0QYhWcMTcDAXn+/PkSEREhVVVV+qwcTiJUr7CwUM6dO6dfs7Oz5fbt28YRgrVr1+pjQAg2GKfp06fLzZs3jaP0ww8/SHh4uAwcOFCfH8XnCxd59GOVlZXywQcfyIYNG/RCj+odPXpUz9Gpqam64aLFSjhjbgZmOJgJvvLKK7ryD5VlnnnmGZk9e7bxDoKPP/5YPyRvvPEGV4024+rVq1r8IDMzU/r162fsJQdUb+rTp4+8/PLL8tRTTxl7CeOCmfLFixfl4MGDOkY4H5HI22+/Ldu2bdPPFC6AUbULzyJbBWfMTcDMJi8vr+EqDM/K4XVubq5+T/RL4HEOlPl7+OGHjT0EpaWl8sUXX8g777wjkZGRMnjwYOMIAeo2Hzp0SJ544gm9nUb/hdsfOE9PnTpVpkyZIqtXr7ZU1o6BuQn4B8fValBQkLFH9DVT2fRLIdX/7rvvysyZM6Vt27bGXgJkEr766iu934y0tre3t3GEMDZvvfWWjBo1Sjp37mzsJQfca0cwXrlypTz77LOybNkyzdxZBQNzE5CSxUkC93cc8Do0NNT4jqhluJB79dVX9cSKWtD0Y3FxcbJw4UJtOIOL4U8++cQ4QsePH9c07YIFC/SW2vbt2+X999+XRYsW6a21Bx0KinTq1EkL0yBId+zYURdcWgUDcxOwuhj3Anfs2KFF0tGtKicnR+8zUz2cHJBVwMKdxq+p3o0bN2TOnDlafxfrEgICAnhCbQSBGH8v+KyhzR4uhMvLy42jlJycrJmE9evX60JCLJJ78sknNfPC8qX1fz9IXeO8g+wC7sNjoa5VcPFXM9CObt68eZKSkiJlZWXy7bffSkZGxo/S2w+yS5cuybp16/S+Oz4UY8aMkUGDBlludeT/Ky0tTWc5L7zwQkOmZdiwYRIbG6uvH3RLly7VgIzsFNL9WNz03nvvSbdu3Yx3UGOTJk2ShIQELv4yYBxCQkJ07QZS2JcvX9aFqK1btzbe4d68FtsZr6kRLNTp0aOHXLt2Tdq3by+zZs1iP9RGrl+/rs9XYmxwwsDMEGPWoUMH4x0PNtz6QNYFK0Zra2t1Q+oNz1uS/cTj5aWfLWSkcLGCmWCXLl2Mo/S/cBGD8xHXKdTD5wrnIMwre/furednK322OGMmIiIyEd5jJiIiMhEGZiIiIhNhYCYiIjIRBmYiIiITYWAmIiIyEQZmImqAZ4qPHTumhRuI6P7g41JEbuDzzz/X/sWNDRgwQIv4uxK7hRHdf5wxE7kB1AH+7rvvtAKUY0OZRiKyHgZmIjeBgv2PPvpowxYfH68z3IkTJ2qgRtW1p59+Wk6fPq3vR413dLZCZTYU+UeJWUdjFtQaRoMNHENFshkzZuh+QM1qVFKKiYnR33v27Fndf+LECW0YgEpdqLaEJgtE5HoMzERu4vz587Jx48aGDX2eAXWmEZD37NmjJVLRDg9NNA4cOCCbN2/WrkRbt26VoqIirUeN+8evv/667Ny5U9asWSPZ2dn68w6oE4/vd+/erbWH8TtQOhOt9ZA+x+wdDfxZQpPo18HATOQm0EYSwdixOWa/SGmPGDFCZ8Xjx4/XhiuoQ40mGjiGrmiYGaPLFZqOlJaWateiuXPnaqDFzBgzYQdHMxLMjPGzxcXFDbW+MWvOysrSWsWJiYnGTxCRKzEwE7mJnj17arcqx4bWgBAcHKxNIcDX11fbKWJDcEY3NARRQFu8mpoa3ZDmRmq8KfgZ/D60F0RzErTXwxpRBHL0lc7Pz9cZNWbiROR6DMxEbgKBEgHTsTmgy1dFRYWmm5GuRis8m82m96Bxv7mqqkpnvEh1o0MaAjLaK2JGjXvN+DmkvluCnsmpqany5ptvyvz58xmYiX4lbPtI5AYQRL/++msNsGigj62kpERnvrhXjDQ3jiPNPG7cOJ1NI0W9ZcsW3Y/343dgURcCNraPPvpIzp07JwUFBfLll1/qgrLjx49rr22kxjFbzsvL01Q2Ut3Lly/XVDiec8Z9afSXZv9tItdjYCZyA0hXY6aLtLRjwz7MdDF7TklJ0fchoA4fPlxT2gEBAdKrVy/dj0VcEyZMkEceeUR/Fn19k5KS9BjeizQ5AjmeXca9ZKzwxvsw+46Li9NjSHEjRY6AjSCO1eA+Pj76O4jIdVhghMiNsSAIkfXwHjORG8OsOCQkRO8/E5E1cMZMRERkIpwxExERmQgDMxERkYkwMBMREZkIAzMREZGJMDATERGZCAMzERGRiTAwExERmQgDMxERkWmI/AcRjebogicuqgAAAABJRU5ErkJggg==)"
      ],
      "metadata": {
        "id": "bN93mD7rNdK4"
      }
    },
    {
      "cell_type": "markdown",
      "source": [
        "**Task 2.4.17:** Use the `plot_all_folds` function to look at the validation accuracy (`val_accuracies`)."
      ],
      "metadata": {
        "id": "1XD2nYyXNe3r"
      }
    },
    {
      "cell_type": "code",
      "source": [
        "# Plot the validation accuracies\n",
        "plot_all_folds(training_records, \"val_accuracies\")"
      ],
      "metadata": {
        "id": "6j0OGDQKN_8W"
      },
      "execution_count": null,
      "outputs": []
    },
    {
      "cell_type": "markdown",
      "source": [
        "![Screenshot 2025-03-02 011847.png](data:image/png;base64,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)"
      ],
      "metadata": {
        "id": "FlYKo13zOE4Y"
      }
    },
    {
      "cell_type": "markdown",
      "source": [
        "There's more variation between the folds in the validation metrics, but they're all fairly flat or getting a little worse at the end. This suggests our model is full trained, and we may be getting close to overfitting.\n",
        "\n",
        "Usually the metrics that we actually look at are not the individual folds. Instead, we average the measurements from each fold together, for the last epoch."
      ],
      "metadata": {
        "id": "dKqbht-nOGej"
      }
    },
    {
      "cell_type": "code",
      "source": [
        "def fold_average(data, measurement):\n",
        "    return np.mean([data[fold][measurement][-1] for fold in data])\n",
        "\n",
        "\n",
        "for measurement in training_records[1].keys():\n",
        "    avg_measure = fold_average(training_records, measurement)\n",
        "    print(f\"Averaged {measurement}: {avg_measure}\")\n",
        "\n",
        "#output\n",
        "Averaged train_losses: 0.8110699786767315\n",
        "Averaged val_losses: 0.9762941045143332\n",
        "Averaged val_accuracies: 0.6203125"
      ],
      "metadata": {
        "id": "3SNGindCOv0W"
      },
      "execution_count": null,
      "outputs": []
    },
    {
      "cell_type": "markdown",
      "source": [
        "Let's also make the confusion matrix to see how it did, and if specific classes are the issue. Usually we'd make the confusion matrix on a validation set. But we didn't do a normal train-validation split here.\n",
        "\n",
        "To get around this, we'll note how the k-fold worked. It created a training and validation split at each step, and trained the model. So right now, the model has been trained on the training set for the last fold.\n",
        "\n",
        "The `val_loader` variable should still be the validation set for that last fold. Let's use that. We can use the `predict` function from our `training.py` as we have in previous lessons. This gives us confidences, which we need to convert to actual predictions."
      ],
      "metadata": {
        "id": "BD88WPcoPMNl"
      }
    },
    {
      "cell_type": "markdown",
      "source": [
        "**Task 2.4.18:** Calculate the predictions for `val_loader`. Remember to set the device."
      ],
      "metadata": {
        "id": "exJyiglp4UTV"
      }
    },
    {
      "cell_type": "code",
      "source": [
        "# If you loaded the pre-trained model, make sure you have the correct validation set\n",
        "_, val_idx = list(kfold_splitter.split(np.arange(len(dataset))))[-1]\n",
        "val_dataset = torch.utils.data.Subset(dataset, val_idx)\n",
        "val_loader = DataLoader(val_dataset, batch_size=batch_size)"
      ],
      "metadata": {
        "id": "yU_NxBJz4W5E"
      },
      "execution_count": null,
      "outputs": []
    },
    {
      "cell_type": "code",
      "source": [
        "probabilities = predict(model, val_loader, device)\n",
        "predictions = torch.argmax(probabilities, dim=1)"
      ],
      "metadata": {
        "id": "1AdXxTH-4vQt"
      },
      "execution_count": null,
      "outputs": []
    },
    {
      "cell_type": "markdown",
      "source": [
        "We'll pull the correct answers (the labels) to a list."
      ],
      "metadata": {
        "id": "dJyIcJuH48gW"
      }
    },
    {
      "cell_type": "code",
      "source": [
        "targets = []\n",
        "\n",
        "for _, labels in tqdm(val_loader):\n",
        "    targets.extend(labels.tolist())"
      ],
      "metadata": {
        "id": "7QzYgEBM5DN8"
      },
      "execution_count": null,
      "outputs": []
    },
    {
      "cell_type": "markdown",
      "source": [
        "**Task 2.4.19:** Make the same confusion matrix we made in earlier lessons. You'll need to either move the `predictions` to `cpu` or convert them to a list. The labels will be our classes."
      ],
      "metadata": {
        "id": "P9PYo2Rz5Jom"
      }
    },
    {
      "cell_type": "code",
      "source": [
        "cm = confusion_matrix(targets, predictions.cpu())\n",
        "\n",
        "disp = ConfusionMatrixDisplay(confusion_matrix=cm, display_labels=classes)\n",
        "\n",
        "disp.plot(cmap=plt.cm.Blues, xticks_rotation=\"vertical\")\n",
        "plt.show();"
      ],
      "metadata": {
        "id": "XzmK_jR46Er0"
      },
      "execution_count": null,
      "outputs": []
    },
    {
      "cell_type": "markdown",
      "source": [
        "![Screenshot 2025-03-02 230958.png](data:image/png;base64,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)"
      ],
      "metadata": {
        "id": "0RfuEQWL6MB4"
      }
    },
    {
      "cell_type": "markdown",
      "source": [
        "### Saving the model"
      ],
      "metadata": {
        "id": "N7nso6kW6Ngq"
      }
    },
    {
      "cell_type": "markdown",
      "source": [
        "We'll save the model for future use, so we don't need to retrain it."
      ],
      "metadata": {
        "id": "aXjzUsqm6RVN"
      }
    },
    {
      "cell_type": "code",
      "source": [
        "torch.save(model, \"model/resnet_k_folds\")"
      ],
      "metadata": {
        "id": "tVy0Snty6Th9"
      },
      "execution_count": null,
      "outputs": []
    },
    {
      "cell_type": "markdown",
      "source": [
        "### Conclusion"
      ],
      "metadata": {
        "id": "Eyd1zhy96Van"
      }
    },
    {
      "cell_type": "markdown",
      "source": [
        "Good work! We have gained one of the most important abilities — we can now take advantage of the hard work of professionals. Experts put a lot of time and computing resources into training models, and transfer learning lets us use them for our own purposes. Here are the key takeaways:\n",
        "\n",
        "- Many well trained networks are available publicly\n",
        "- We can download them and modify the last layer to suit our specific task\n",
        "- We only need to train the part we added\n",
        "- Cross validation is an alternative way to measure how well our model performs\n",
        "\n",
        "In the next lesson, we'll do a bit more transfer learning. We'll also look at callbacks, a powerful way of modifying the training process to better meet our needs."
      ],
      "metadata": {
        "id": "lqd1jUE46X0d"
      }
    }
  ]
}