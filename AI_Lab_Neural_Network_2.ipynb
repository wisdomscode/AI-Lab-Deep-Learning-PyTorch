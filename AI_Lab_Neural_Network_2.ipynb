{
  "nbformat": 4,
  "nbformat_minor": 0,
  "metadata": {
    "colab": {
      "provenance": [],
      "toc_visible": true,
      "authorship_tag": "ABX9TyM6ATVXaOemvdxMLwXdYFFl",
      "include_colab_link": true
    },
    "kernelspec": {
      "name": "python3",
      "display_name": "Python 3"
    },
    "language_info": {
      "name": "python"
    }
  },
  "cells": [
    {
      "cell_type": "markdown",
      "metadata": {
        "id": "view-in-github",
        "colab_type": "text"
      },
      "source": [
        "<a href=\"https://colab.research.google.com/github/wisdomscode/AI-Lab-Deep-Learning-PyTorch/blob/main/AI_Lab_Neural_Network_2.ipynb\" target=\"_parent\"><img src=\"https://colab.research.google.com/assets/colab-badge.svg\" alt=\"Open In Colab\"/></a>"
      ]
    },
    {
      "cell_type": "markdown",
      "source": [
        "# Neural Network"
      ],
      "metadata": {
        "id": "mSRVQjyXJZ-l"
      }
    },
    {
      "cell_type": "markdown",
      "source": [
        "What is a Neural Network?"
      ],
      "metadata": {
        "id": "uEqa2GciJeOL"
      }
    },
    {
      "cell_type": "markdown",
      "source": [
        "Networks are structured in layers, which feed information forward from input, to hidden layers, to outputs. These layers are made from artificial neurons, which contain parameters that govern their behavior."
      ],
      "metadata": {
        "id": "B3aCSIH9Jfdz"
      }
    },
    {
      "cell_type": "markdown",
      "source": [],
      "metadata": {
        "id": "X3i9mGBsJv2D"
      }
    },
    {
      "cell_type": "code",
      "execution_count": null,
      "metadata": {
        "id": "fae5fceGI8jg"
      },
      "outputs": [],
      "source": []
    }
  ]
}