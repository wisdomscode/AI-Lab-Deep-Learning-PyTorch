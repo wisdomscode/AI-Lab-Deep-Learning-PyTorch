{
  "nbformat": 4,
  "nbformat_minor": 0,
  "metadata": {
    "colab": {
      "provenance": [],
      "toc_visible": true,
      "authorship_tag": "ABX9TyOP2PE2p7x4z0A4WKj1Iocs",
      "include_colab_link": true
    },
    "kernelspec": {
      "name": "python3",
      "display_name": "Python 3"
    },
    "language_info": {
      "name": "python"
    }
  },
  "cells": [
    {
      "cell_type": "markdown",
      "metadata": {
        "id": "view-in-github",
        "colab_type": "text"
      },
      "source": [
        "<a href=\"https://colab.research.google.com/github/wisdomscode/AI-Lab-Deep-Learning-PyTorch/blob/main/AI_Lab_Neural_Network_2.ipynb\" target=\"_parent\"><img src=\"https://colab.research.google.com/assets/colab-badge.svg\" alt=\"Open In Colab\"/></a>"
      ]
    },
    {
      "cell_type": "markdown",
      "source": [
        "# Neural Network"
      ],
      "metadata": {
        "id": "mSRVQjyXJZ-l"
      }
    },
    {
      "cell_type": "markdown",
      "source": [
        "What is a Neural Network?"
      ],
      "metadata": {
        "id": "uEqa2GciJeOL"
      }
    },
    {
      "cell_type": "markdown",
      "source": [
        "Networks are structured in layers, which feed information forward from input, to hidden layers, to outputs. These layers are made from artificial neurons, which contain parameters that govern their behavior."
      ],
      "metadata": {
        "id": "B3aCSIH9Jfdz"
      }
    },
    {
      "cell_type": "markdown",
      "source": [
        "Types\n",
        "Conventional neural network - Good for image recognition\n",
        "Lon short-term memory network - Good for speech recognition\n"
      ],
      "metadata": {
        "id": "X3i9mGBsJv2D"
      }
    },
    {
      "cell_type": "markdown",
      "source": [
        "Neural network is inspired by the neurons of the brain\n",
        "Neuron - Think of it as something that holds a number (0 - 1)\n"
      ],
      "metadata": {
        "id": "HH7KnHs_VNS5"
      }
    },
    {
      "cell_type": "markdown",
      "source": [
        "An input  is made of 28 x 28 pixels = 784 number neurons of the input image. All these 784 neurons make the first layyer of our network"
      ],
      "metadata": {
        "id": "qrck6SWIVaGP"
      }
    },
    {
      "cell_type": "markdown",
      "source": [
        "Each of this neuron is call \"Activiaton\" it holds a number between 0.00 - 1.00 which is the \"grey scale value\" describing the extend of opacity of the pixel 0 - black, 1 - white"
      ],
      "metadata": {
        "id": "8Wrl6UKbVdsp"
      }
    },
    {
      "cell_type": "markdown",
      "source": [
        "Input layers  -> Hidden layers -> output layer"
      ],
      "metadata": {
        "id": "5TPNVHjHVmHp"
      }
    },
    {
      "cell_type": "markdown",
      "source": [
        "Input layer holds the 784 neurons representing the image grey scale"
      ],
      "metadata": {
        "id": "JnR01s0jVnno"
      }
    },
    {
      "cell_type": "markdown",
      "source": [
        "output layer holds the 10 neurons with number between 0 - 9\n",
        "showing the extent to which the model agrees that the number is same as the image. 9 is the highest ie. how much the system thinks a given image corresponds to a give digit\n"
      ],
      "metadata": {
        "id": "N10wW7prVo71"
      }
    },
    {
      "cell_type": "markdown",
      "source": [
        "The Layers in-between is the Hidden Layers which does the learning and processing"
      ],
      "metadata": {
        "id": "fQp9WgZ6VsPe"
      }
    },
    {
      "cell_type": "markdown",
      "source": [
        "Activitions in one layer brings about activations in the next layer\n",
        "\n",
        "The activiations in based a weighthed sum of the activitions in the previous layer plus some special number called the bias\n"
      ],
      "metadata": {
        "id": "a6PZcBq_VweP"
      }
    },
    {
      "cell_type": "markdown",
      "source": [
        "The Network takes about 13,002 parameters coming from  weight and biases"
      ],
      "metadata": {
        "id": "nHqw9BELV6K1"
      }
    },
    {
      "cell_type": "markdown",
      "source": [
        "Cost functions: Is function whose output tells the computer how good or bad its operation was\n",
        "\n",
        "Note: Network is learning is minimizing a cost function\n"
      ],
      "metadata": {
        "id": "LPb2hj8BWDHH"
      }
    },
    {
      "cell_type": "markdown",
      "source": [
        "Gradient Descent algorithm is used to iteratively adjust the weights and biases to minimize the cost function"
      ],
      "metadata": {
        "id": "E-O4VpqEWKF0"
      }
    }
  ]
}