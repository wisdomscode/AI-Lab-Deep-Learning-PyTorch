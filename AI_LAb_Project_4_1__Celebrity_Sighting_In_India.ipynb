{
  "nbformat": 4,
  "nbformat_minor": 0,
  "metadata": {
    "colab": {
      "provenance": [],
      "authorship_tag": "ABX9TyO5wt8a6cuKrHSgwO6iM8PU",
      "include_colab_link": true
    },
    "kernelspec": {
      "name": "python3",
      "display_name": "Python 3"
    },
    "language_info": {
      "name": "python"
    }
  },
  "cells": [
    {
      "cell_type": "markdown",
      "metadata": {
        "id": "view-in-github",
        "colab_type": "text"
      },
      "source": [
        "<a href=\"https://colab.research.google.com/github/wisdomscode/AI-Lab-Deep-Learning-PyTorch/blob/main/AI_LAb_Project_4_1__Celebrity_Sighting_In_India.ipynb\" target=\"_parent\"><img src=\"https://colab.research.google.com/assets/colab-badge.svg\" alt=\"Open In Colab\"/></a>"
      ]
    },
    {
      "cell_type": "markdown",
      "source": [
        "# 4.1. Fix My Code! 🐞"
      ],
      "metadata": {
        "id": "GcM1lF7lIpIk"
      }
    },
    {
      "cell_type": "markdown",
      "source": [
        "### Using`try-except-else` Blocks"
      ],
      "metadata": {
        "id": "wQ_CNAcUItYz"
      }
    },
    {
      "cell_type": "markdown",
      "source": [
        "Let's say we have a function that tries to find a value at a specific index in a list."
      ],
      "metadata": {
        "id": "Cq9G-yb8IyTc"
      }
    },
    {
      "cell_type": "code",
      "execution_count": null,
      "metadata": {
        "id": "0O32Gu49ICX1"
      },
      "outputs": [],
      "source": [
        "def lookup(my_list, index):\n",
        "    value = my_list[index]\n",
        "    return f\"The value at index {index} is {value}.\"\n",
        "\n",
        "\n",
        "print(lookup(my_list=[\"a\", \"b\", \"c\"], index=2))  # Index in range\n",
        "\n",
        "#output\n",
        "The value at index 2 is c.\n"
      ]
    },
    {
      "cell_type": "code",
      "source": [
        "print(lookup(my_list=[\"a\", \"b\", \"c\"], index=5))  # Index out of range"
      ],
      "metadata": {
        "id": "0SdYctuPJG-L"
      },
      "execution_count": null,
      "outputs": []
    },
    {
      "cell_type": "markdown",
      "source": [
        "This code raises an `IndexError` when an index is out of range. However, there may be situations where we want our program to handle this error gracefully and continue running, rather than stopping with an exception.\n",
        "\n",
        "One way to do this is by using `try-except-else` blocks. These blocks allow our program to attempt potentially error-prone operations and handle exceptions if they occur, thus enabling the code to continue executing. A `try` block attempts to execute potentially error-prone code. An `except` block specifies how to handle a particular type of exception if it occurs. An optional `else` block can be added to run code only if no exceptions were raised in the `try` block.\n",
        "\n",
        "Below is an example demonstrating this approach, using similar logic to the previous example but implemented with `try-except-else` blocks:"
      ],
      "metadata": {
        "id": "UrvfpW0jJyRd"
      }
    },
    {
      "cell_type": "code",
      "source": [
        "def lookup(my_list, index):\n",
        "    try:\n",
        "        value = my_list[index]\n",
        "    except IndexError:\n",
        "        return \"Error: Index out of range.\"\n",
        "    else:\n",
        "        return f\"The value at index {index} is {value}.\"\n",
        "\n",
        "\n",
        "print(lookup(my_list=[\"a\", \"b\", \"c\"], index=2))  # Index in range\n",
        "print(lookup(my_list=[\"a\", \"b\", \"c\"], index=5))  # Index out of range\n",
        "\n",
        "#output\n",
        "The value at index 2 is c.\n",
        "Error: Index out of range."
      ],
      "metadata": {
        "id": "kAw7EQ3TJ9bT"
      },
      "execution_count": null,
      "outputs": []
    },
    {
      "cell_type": "markdown",
      "source": [
        "**Task 4.1.1:** Fix `divide_numbers` by adding `try-except-else` blocks.\n",
        "\n",
        "If the denominator is 0, return the message: \"Error: Cannot divide by zero.\"."
      ],
      "metadata": {
        "id": "gpFVJcEJKIuV"
      }
    },
    {
      "cell_type": "code",
      "source": [
        "def divide_numbers(numerator, denominator):\n",
        "    try:\n",
        "        result = numerator / denominator\n",
        "    except ZeroDivisionError:\n",
        "        return \"Error: Cannot divide by zero.\"\n",
        "    else:\n",
        "        return f\"The result of {numerator} divided by {denominator} is {result}.\"\n",
        "\n",
        "print(divide_numbers(numerator=10, denominator=2))  # Valid division\n",
        "print(divide_numbers(numerator=10, denominator=0))  # Division by zero\n",
        "\n",
        "#output\n",
        "The result of 10 divided by 2 is 5.0.\n",
        "Error: Cannot divide by zero."
      ],
      "metadata": {
        "id": "-0kTamY6MOh8"
      },
      "execution_count": null,
      "outputs": []
    },
    {
      "cell_type": "markdown",
      "source": [
        "**Task 4.1.2:** Fix `find_user_name` by adding `try-except-else` blocks.\n",
        "\n",
        "If the user doesn't exist, return the message: \"Error: User ID {user_id} not found.\". Replace {user_id} with the correct ID of the user."
      ],
      "metadata": {
        "id": "u81_Z4b5MY0u"
      }
    },
    {
      "cell_type": "code",
      "source": [
        "users = {\n",
        "    342: \"Kwame Nkrumah\",\n",
        "    102: \"Nguyen Thi Linh\",\n",
        "    423: \"Muhammad bin Abdullah\",\n",
        "    654: \"Fatou Diop\",\n",
        "    976: \"Diana Martinez\",\n",
        "}\n",
        "\n",
        "\n",
        "def find_user_name(user_id, users):\n",
        "    try:\n",
        "        user_name = users[user_id]\n",
        "    except KeyError:\n",
        "        return f\"Error: User ID {user_id} not found.\"\n",
        "    else:\n",
        "        return f\"User ID {user_id} corresponds to {user_name}.\"\n",
        "\n",
        "print(find_user_name(user_id=654, users=users))\n",
        "print(find_user_name(user_id=999, users=users))\n",
        "\n",
        "#output\n",
        "User ID 654 corresponds to Fatou Diop.\n",
        "Error: User ID 999 not found."
      ],
      "metadata": {
        "id": "EzTObPA5NfbE"
      },
      "execution_count": null,
      "outputs": []
    },
    {
      "cell_type": "markdown",
      "source": [
        "### Tuple Unpacking To Handle Variable Outputs"
      ],
      "metadata": {
        "id": "zfNzB-47PWYO"
      }
    },
    {
      "cell_type": "markdown",
      "source": [
        "Below is a function that sometimes returns two values and other times returns three values."
      ],
      "metadata": {
        "id": "22rdYqpHPvOc"
      }
    },
    {
      "cell_type": "code",
      "source": [
        "import random\n",
        "\n",
        "def unpredictable_function():\n",
        "    if random.choice([True, False]):\n",
        "        return (1, 2)\n",
        "    else:\n",
        "        return (1, 2, 3)\n",
        "\n",
        "\n",
        "for n in range(1, 11):\n",
        "    print(f\"Calling the function for the {n}th time\")\n",
        "    first, second = unpredictable_function()\n",
        "    print(f\"    First item: {first}\")\n",
        "    print(f\"    Second item: {second}\")\n",
        "\n",
        "\n",
        "#output\n",
        "Calling the function for the 1th time\n",
        "    First item: 1\n",
        "    Second item: 2\n",
        "Calling the function for the 2th time"
      ],
      "metadata": {
        "id": "5GthuTYSQHC1"
      },
      "execution_count": null,
      "outputs": []
    },
    {
      "cell_type": "markdown",
      "source": [
        "This code raises a `ValueError`, which occurs when there are too many values to unpack.\n",
        "\n",
        "We sometimes work with code that we cannot modify, such as when using a third-party library or calling an API. As software developers, it's our responsibility to write fault-tolerant code that can handle a variable number of outputs from that type of code.\n",
        "\n",
        "Below is an example of using Python's tuple unpacking with `*` to manage a variable number of outputs. In tuple unpacking, you can prefix a variable name with an asterisk `*` to collect any remaining elements into a list. This is often called \"star unpacking\" or \"extended unpacking\". You can see that below with the variable `*rest`."
      ],
      "metadata": {
        "id": "6FD5pbMHRC9i"
      }
    },
    {
      "cell_type": "code",
      "source": [
        "for n in range(1, 11):\n",
        "    print(f\"Calling the function for the {n}th time\")\n",
        "    # Python tuple unpacking with * has been added on the left-hand side\n",
        "    first, second, *rest = unpredictable_function()\n",
        "\n",
        "    # Handle the common case (always present)\n",
        "    print(f\"    First item: {first}\")\n",
        "    print(f\"    Second item: {second}\")\n",
        "\n",
        "    # Check if there's a third item\n",
        "    if rest:\n",
        "        print(f\"    Third item: {rest[0]}\")\n",
        "    else:\n",
        "        print(\"    No third item present\")"
      ],
      "metadata": {
        "id": "RfJ_7pQjRTtd"
      },
      "execution_count": null,
      "outputs": []
    },
    {
      "cell_type": "markdown",
      "source": [
        "Now it's your turn. Here is a `students` dictionary and a `get_student_info` function. The `get_student_info` function will return a list of just the values for a given entry. For `\"Aisha\"`, the function will return `[18, 'Pass']`. For `\"Carlos\"`, the function will return `[35]`. Use tuple unpacking to handle the output from a function that sometimes returns one item and other times returns two items."
      ],
      "metadata": {
        "id": "sRduYJ73RWf2"
      }
    },
    {
      "cell_type": "code",
      "source": [
        "students = {\n",
        "    \"Aisha\": {\"age\": 18, \"grade\": \"Pass\"},\n",
        "    \"Carlos\": {\"age\": 35},\n",
        "    \"Li Wei\": {\"age\": 22, \"grade\": \"Fail\"},\n",
        "    \"Fatima\": {\"age\": 27},\n",
        "    \"Yuki\": {\"age\": 51, \"grade\": \"Pass\"},\n",
        "}\n",
        "\n",
        "\n",
        "def get_student_info(student_name, students):\n",
        "    student_info = students[student_name]\n",
        "    return list(student_info.values())"
      ],
      "metadata": {
        "id": "Tb45kf-DSBE2"
      },
      "execution_count": null,
      "outputs": []
    },
    {
      "cell_type": "markdown",
      "source": [
        "**Task 4.1.3:** Fix `print_student_info` by adding tuple unpacking `*`. Assume you can't modify `students` or `get_student_info`."
      ],
      "metadata": {
        "id": "H2xnnC9ySdvz"
      }
    },
    {
      "cell_type": "code",
      "source": [
        "def print_student_info(student_name, students):\n",
        "    age, *grade = get_student_info(student_name, students)\n",
        "\n",
        "    print(f\"{student_name} is {age} years old.\")\n",
        "    if grade:\n",
        "        print(f\"{student_name} earned a {grade}.\")\n",
        "\n",
        "\n",
        "print_student_info(student_name=\"Aisha\", students=students)\n",
        "print_student_info(student_name=\"Carlos\", students=students)\n",
        "\n",
        "\n",
        "#output\n",
        "Aisha is 18 years old.\n",
        "Aisha earned a ['Pass'].\n",
        "Carlos is 35 years old."
      ],
      "metadata": {
        "id": "BldKxV6jSdIU"
      },
      "execution_count": null,
      "outputs": []
    },
    {
      "cell_type": "markdown",
      "source": [
        "To recap, we've explored how to write fault-tolerant Python code using `try-except-else` blocks and tuple unpacking. `try-except-else` blocks allow us to gracefully handle errors ensuring our programs don't crash unexpectedly. Tuple unpacking with `*` helps manage functions with variable outputs, enabling our code to seamlessly adapt to different scenarios."
      ],
      "metadata": {
        "id": "DrDvYb0nTVLL"
      }
    }
  ]
}