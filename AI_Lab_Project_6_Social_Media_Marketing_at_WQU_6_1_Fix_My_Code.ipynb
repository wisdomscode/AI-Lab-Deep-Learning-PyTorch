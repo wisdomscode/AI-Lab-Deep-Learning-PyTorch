{
  "nbformat": 4,
  "nbformat_minor": 0,
  "metadata": {
    "colab": {
      "provenance": [],
      "authorship_tag": "ABX9TyM9rFpa/upuLiN4rKJtwUJU",
      "include_colab_link": true
    },
    "kernelspec": {
      "name": "python3",
      "display_name": "Python 3"
    },
    "language_info": {
      "name": "python"
    }
  },
  "cells": [
    {
      "cell_type": "markdown",
      "metadata": {
        "id": "view-in-github",
        "colab_type": "text"
      },
      "source": [
        "<a href=\"https://colab.research.google.com/github/wisdomscode/AI-Lab-Deep-Learning-PyTorch/blob/main/AI_Lab_Project_6_Social_Media_Marketing_at_WQU_6_1_Fix_My_Code.ipynb\" target=\"_parent\"><img src=\"https://colab.research.google.com/assets/colab-badge.svg\" alt=\"Open In Colab\"/></a>"
      ]
    },
    {
      "cell_type": "markdown",
      "source": [
        "Working With Environmental Variables\n"
      ],
      "metadata": {
        "id": "ASAwJYtmIWzv"
      }
    },
    {
      "cell_type": "markdown",
      "source": [
        "Python's dotenv, aka python-dotenv, is a popular third-party library that simplifies the management of environment variables for your projects. Environment variables can store configuration settings, such as general flags or parameters that your application uses, and sensitive information, API keys, database credentials, or application secrets.\n",
        "\n",
        "The dotenv library allows you to store these variables in a separate file called .env, rather than hardcoding them directly into your notebooks or Python scripts. This separation of configuration from code offers several benefits:\n",
        "\n",
        "1. Enhanced security: Sensitive information is kept out of your main codebase.\n",
        "2. Easier maintenance: Configuration can be updated without changing your code.\n",
        "3. Better portability: The same code can run in different environments by simply changing the .env file.\n",
        "4. Improved collaboration: Developers can share code without exposing sensitive data.\n",
        "\n",
        "By using a .env file, your Python application is more secure, flexible, and easier to maintain.\n",
        "\n",
        "An .env file is an example of a \"hidden\" file. Files and directories that begin with a dot (.) are not displayed by default when listing contents using commands like ls or in graphical file managers. This convention helps distinguish these items from regular items and keeps directories less cluttered.\n",
        "\n",
        "Let's explore common errors when using environment variables and the dotenv library."
      ],
      "metadata": {
        "id": "GOuR5lnaIZjd"
      }
    },
    {
      "cell_type": "markdown",
      "source": [
        "**Forgetting To Reload Changes to `.env`**"
      ],
      "metadata": {
        "id": "kdKFRPxPIlQt"
      }
    },
    {
      "cell_type": "markdown",
      "source": [
        "### Using The `dotenv` Module"
      ],
      "metadata": {
        "id": "Hkm3kb68MyMs"
      }
    },
    {
      "cell_type": "markdown",
      "source": [
        "**6.1.1** Load the updated version of .env"
      ],
      "metadata": {
        "id": "mQxC5xIeIvfV"
      }
    },
    {
      "cell_type": "markdown",
      "source": [
        "Load the updated version of .env to get access to the PASSWORD value."
      ],
      "metadata": {
        "id": "ChrhiXvCKYYE"
      }
    },
    {
      "cell_type": "code",
      "execution_count": null,
      "metadata": {
        "id": "FF9TZtejHNmm"
      },
      "outputs": [],
      "source": [
        "import os\n",
        "\n",
        "from dotenv import load_dotenv, set_key, unset_key"
      ]
    },
    {
      "cell_type": "markdown",
      "source": [
        "Environmental variables are conventionally stored in a `.env` file. Environmental variables managed by `dotenv` are typically stored in a file named `.env`. This file is usually placed in the root directory of your project. Let's examine the structure and content of a typical `.env` file:\n",
        "\n",
        "1. Each line in the file represents a single environment variable.\n",
        "2. Variables are defined using the format: KEY=VALUE\n",
        "3. There should be no spaces around the equals sign.\n",
        "4. Values do not need to be enclosed in quotes unless they contain spaces.\n",
        "5. Comments can be added using the # symbol.\n",
        "\n",
        "Let's have a look at the `.env` file in this directory."
      ],
      "metadata": {
        "id": "3WehmXUdMqFs"
      }
    },
    {
      "cell_type": "code",
      "source": [
        "!cat .env"
      ],
      "metadata": {
        "id": "zhgsRWyXL8sl"
      },
      "execution_count": null,
      "outputs": []
    },
    {
      "cell_type": "markdown",
      "source": [
        "Watch out! There could be sensitive information in the output of the previous cell!\n",
        "You must clear the output of that cell, or delete the cell entirely, before sharing this notebook with anyone else."
      ],
      "metadata": {
        "id": "mTyyx9bsM4f0"
      }
    },
    {
      "cell_type": "markdown",
      "source": [
        "The `load_dotenv()` function from the `dotenv` library reads the contents of the `.env` file and adds the defined variables to Python's environment."
      ],
      "metadata": {
        "id": "IPrMekZaM-s1"
      }
    },
    {
      "cell_type": "code",
      "source": [
        "load_dotenv()"
      ],
      "metadata": {
        "id": "8v8yyvxWMBfM"
      },
      "execution_count": null,
      "outputs": []
    },
    {
      "cell_type": "markdown",
      "source": [
        "We can access all the environment variables in the current Python session using `os.environ`. This includes the environment variables we just loaded from the `.env` file in the current directory. `os.environ` is a dictionary-like object, so you can use typical dictionary operations to interact with it. Let's show all the environment variables."
      ],
      "metadata": {
        "id": "MCfrmgWZNB8k"
      }
    },
    {
      "cell_type": "code",
      "source": [
        "for key, value in os.environ.items():\n",
        "    print(f\"{key}: {value}\")"
      ],
      "metadata": {
        "id": "t2K5-7JhMEQ9"
      },
      "execution_count": null,
      "outputs": []
    },
    {
      "cell_type": "code",
      "source": [
        "print(os.environ[\"DATASET_NAME\"])"
      ],
      "metadata": {
        "id": "LBhdQN_PMGdP"
      },
      "execution_count": null,
      "outputs": []
    },
    {
      "cell_type": "markdown",
      "source": [
        "### Set And Unset Keys"
      ],
      "metadata": {
        "id": "fk7PLFV1NHBs"
      }
    },
    {
      "cell_type": "markdown",
      "source": [
        "The `set_key()` function from the `dotenv` library allows you to create or update an environment variable in your `.env` file. Here's how to use it:"
      ],
      "metadata": {
        "id": "hf_bRAg6NJ41"
      }
    },
    {
      "cell_type": "code",
      "source": [
        "set_key(\n",
        "    dotenv_path=\".env\", key_to_set=\"API_KEY\", value_to_set=\"your_sample_api_key_here\"\n",
        ")"
      ],
      "metadata": {
        "id": "vwGYwGQwMH_m"
      },
      "execution_count": null,
      "outputs": []
    },
    {
      "cell_type": "code",
      "source": [
        "# The new key-value pair must be reload from .env\n",
        "load_dotenv()\n",
        "\n",
        "# Use the key to find the value\n",
        "print(os.environ[\"API_KEY\"])"
      ],
      "metadata": {
        "id": "K3HBSnntMKLl"
      },
      "execution_count": null,
      "outputs": []
    },
    {
      "cell_type": "markdown",
      "source": [
        "It's a best practice to keep only the required environmental variables in `.env`. Let's remove the previous example from `.env` with the `unset_key` function."
      ],
      "metadata": {
        "id": "Q6Evv_eeNOIl"
      }
    },
    {
      "cell_type": "code",
      "source": [
        "unset_key(dotenv_path=\".env\", key_to_unset=\"API_KEY\")"
      ],
      "metadata": {
        "id": "_IQ0AosFMM1V"
      },
      "execution_count": null,
      "outputs": []
    },
    {
      "cell_type": "markdown",
      "source": [
        "Key points about `unset_key()`:\n",
        "\n",
        "1. It removes the specified variable from the `.env` file.\n",
        "2. If the variable doesn't exist, it does nothing (no error is raised).\n",
        "3. It only affects the `.env` file, not the current `os.environ`.\n"
      ],
      "metadata": {
        "id": "7Bm7MzoLNSI8"
      }
    },
    {
      "cell_type": "markdown",
      "source": [
        "### Forgetting To Reload Changes to `.env`"
      ],
      "metadata": {
        "id": "kZkoj7EJNUoM"
      }
    },
    {
      "cell_type": "markdown",
      "source": [
        "One of the most common errors is forgetting to reload and updated version of the `.env`."
      ],
      "metadata": {
        "id": "eytOkqpuNWI-"
      }
    },
    {
      "cell_type": "markdown",
      "source": [
        "**Task 6.1.1:** Load the updated version of `.env` to get access to the `PASSWORD` value."
      ],
      "metadata": {
        "id": "MCUOzV_tNYbU"
      }
    },
    {
      "cell_type": "code",
      "source": [
        "set_key(dotenv_path=\".env\", key_to_set=\"PASSWORD\", value_to_set=\"qwerty\")\n",
        "\n",
        "load_dotenv()\n",
        "\n",
        "print(os.environ[\"PASSWORD\"])"
      ],
      "metadata": {
        "id": "u1CAYz_EMPVO"
      },
      "execution_count": null,
      "outputs": []
    },
    {
      "cell_type": "code",
      "source": [
        "# Remove example key\n",
        "unset_key(dotenv_path=\".env\", key_to_unset=\"PASSWORD\")"
      ],
      "metadata": {
        "id": "TiH_j0CrMRaG"
      },
      "execution_count": null,
      "outputs": []
    },
    {
      "cell_type": "markdown",
      "source": [
        "### Spaces in Environment Variable"
      ],
      "metadata": {
        "id": "yEUAC7yANdPf"
      }
    },
    {
      "cell_type": "markdown",
      "source": [
        "It's a best practice to avoid spaces in environment variable names and values, this can prevent many errors in your code. Note that `load_dotenv()` will gracefully handle errors caused by spaces but the associated variable will not be loaded."
      ],
      "metadata": {
        "id": "JYxP1JoHNfNn"
      }
    },
    {
      "cell_type": "markdown",
      "source": [
        "**Task 6.1.2:** Rename the environmental variable to be a valid environmental variable."
      ],
      "metadata": {
        "id": "TUk6GQWYNonG"
      }
    },
    {
      "cell_type": "code",
      "source": [
        "set_key(\n",
        "    dotenv_path=\".env\",\n",
        "    key_to_set=\"DATABASE_URL\",\n",
        "    value_to_set=\"your_sample_database_url\",\n",
        ")\n",
        "\n",
        "load_dotenv()\n",
        "\n",
        "print(os.environ[\"DATABASE_URL\"])"
      ],
      "metadata": {
        "id": "062l3Vw0MT0t"
      },
      "execution_count": null,
      "outputs": []
    },
    {
      "cell_type": "markdown",
      "source": [
        "We should remove the variable with a space from `.env`. That can't be done with `dotenv` but can do in Python."
      ],
      "metadata": {
        "id": "tCwQ1hLpOOuj"
      }
    },
    {
      "cell_type": "code",
      "source": [
        "# Open the .env file\n",
        "with open(\".env\", \"r\") as file:\n",
        "    lines = file.readlines()\n",
        "\n",
        "# Filter out the line with 'DATABASE URL'\n",
        "with open(\".env\", \"w\") as file:\n",
        "    for line in lines:\n",
        "        if not line.startswith(\"DATABASE URL\"):\n",
        "            file.write(line)"
      ],
      "metadata": {
        "id": "TF9oaZx-MV68"
      },
      "execution_count": null,
      "outputs": []
    },
    {
      "cell_type": "code",
      "source": [
        "# Remove example keys with dotenv\n",
        "# Recall trying to remove non-existing keys is okay\n",
        "unset_key(dotenv_path=\".env\", key_to_unset=\"DATABASE_URL\")"
      ],
      "metadata": {
        "id": "A75uefV5MX8E"
      },
      "execution_count": null,
      "outputs": []
    },
    {
      "cell_type": "markdown",
      "source": [
        "### Environment Variable Values As Strings"
      ],
      "metadata": {
        "id": "clc7-FybOkrk"
      }
    },
    {
      "cell_type": "markdown",
      "source": [
        "A common error is not defining environment variable values as strings. Environment variables are\n",
        "expected to be represented as strings to ensure compatibility across systems."
      ],
      "metadata": {
        "id": "6O5SOXpXOquc"
      }
    },
    {
      "cell_type": "markdown",
      "source": [
        "**Task 6.1.3:** Change the `value_to_set` to be a string."
      ],
      "metadata": {
        "id": "NFYxxsgGOsNs"
      }
    },
    {
      "cell_type": "code",
      "source": [
        "set_key(\n",
        "    dotenv_path=\".env\",\n",
        "    key_to_set=\"DEBUG\",\n",
        "    value_to_set=\"True\"\n",
        ")"
      ],
      "metadata": {
        "id": "3jX8cxXWMZF1"
      },
      "execution_count": null,
      "outputs": []
    },
    {
      "cell_type": "markdown",
      "source": [
        "Once you're done, remember to unset the key:"
      ],
      "metadata": {
        "id": "YiA62hbKO4Dk"
      }
    },
    {
      "cell_type": "code",
      "source": [
        "# Remove example key\n",
        "unset_key(dotenv_path=\".env\", key_to_unset=\"DEBUG\")"
      ],
      "metadata": {
        "id": "NvhRC7hUMahV"
      },
      "execution_count": null,
      "outputs": []
    },
    {
      "cell_type": "code",
      "source": [
        "load_dotenv()\n",
        "print(os.environ[\"PORT\"])"
      ],
      "metadata": {
        "id": "Mm-u6ssyMbo-"
      },
      "execution_count": null,
      "outputs": []
    },
    {
      "cell_type": "markdown",
      "source": [
        "### Gracefully Handling A Missing Key"
      ],
      "metadata": {
        "id": "tXK82dZ2O9Ft"
      }
    },
    {
      "cell_type": "markdown",
      "source": [
        "Recall that `os.environ` is a dictionary-like object that represents environment variables as key-value pairs. For standard Python dictionaries, key look-up can be done with either square bracket notation (`[]`) or the `get()` method. For environment variables, key look-up can be performed using either square bracket notation (`os.environ[]`) or the `os.environ.get()` function.\n",
        "\n",
        "In both cases, using the `get` version (`dict.get()` or `os.environ.get()`) is preferred when you want to avoid raising a `KeyError` for non-existent keys and optionally provide a default value / message."
      ],
      "metadata": {
        "id": "XnNqgZUuO-vs"
      }
    },
    {
      "cell_type": "markdown",
      "source": [
        "**Task 6.1.4:** Replace `os.environ[]` with `os.environ.get()`, including a helpful message, for non-existent key look-up."
      ],
      "metadata": {
        "id": "yAyvIKWQPANm"
      }
    },
    {
      "cell_type": "code",
      "source": [
        "load_dotenv()\n",
        "print(os.environ[\"PORT\"])\n",
        "print(os.environ.get(\"PORT\", \"Not Found\"))"
      ],
      "metadata": {
        "id": "HmBIYD1PPCWd"
      },
      "execution_count": null,
      "outputs": []
    },
    {
      "cell_type": "markdown",
      "source": [
        "To recap, we managed environment variables in Python using the `dotenv` library. We were able to load variables from `.env` and create and delete variables in that file. `os.environ` is a dictionary-like object for accessing environment variables. Environment variables store potentially sensitive information so they must be carefully handled."
      ],
      "metadata": {
        "id": "LGBV0OD6PD2s"
      }
    }
  ]
}