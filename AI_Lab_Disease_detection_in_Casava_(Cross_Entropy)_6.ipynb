{
  "nbformat": 4,
  "nbformat_minor": 0,
  "metadata": {
    "colab": {
      "provenance": [],
      "authorship_tag": "ABX9TyMglAhYC4YoExYZJ18ZfHtt",
      "include_colab_link": true
    },
    "kernelspec": {
      "name": "python3",
      "display_name": "Python 3"
    },
    "language_info": {
      "name": "python"
    }
  },
  "cells": [
    {
      "cell_type": "markdown",
      "metadata": {
        "id": "view-in-github",
        "colab_type": "text"
      },
      "source": [
        "<a href=\"https://colab.research.google.com/github/wisdomscode/AI-Lab-Deep-Learning-PyTorch/blob/main/AI_Lab_Disease_detection_in_Casava_(Cross_Entropy)_6.ipynb\" target=\"_parent\"><img src=\"https://colab.research.google.com/assets/colab-badge.svg\" alt=\"Open In Colab\"/></a>"
      ]
    },
    {
      "cell_type": "code",
      "execution_count": null,
      "metadata": {
        "id": "FbkQnYgnruln"
      },
      "outputs": [],
      "source": []
    },
    {
      "cell_type": "markdown",
      "source": [
        "# Cross-Entropy\n"
      ],
      "metadata": {
        "id": "eqbkX8OasH9N"
      }
    },
    {
      "cell_type": "markdown",
      "source": [
        "Intro\n",
        "Classification: categorize input into predefined classes\n",
        "\n",
        "Supervised learning - need an error metric, a loss function\n",
        "Loss function in classification problems\n",
        "\n",
        "Cross-Entropy: is an error metric\n",
        "Measures the difference between predictions and true labels\n",
        "penalizes incorrect predictons and rewards accurate presdictions\n",
        "\n",
        "Correct predictions: Cross-entropy is low\n",
        "Incorrect prediction:  Cross-entropy is high\n",
        "\n",
        "Cross-Entropy works both binary classification and multi-class classsification\n",
        "\n",
        "**Optimization and training**\n",
        "1. During training, cross-entropy loss is minimized\n",
        "2. Trainingwith techniques like gradient descent\n",
        "3. Even a small step towards better predictions improves cross-entropy\n"
      ],
      "metadata": {
        "id": "3ERnX4rGsEBf"
      }
    }
  ]
}