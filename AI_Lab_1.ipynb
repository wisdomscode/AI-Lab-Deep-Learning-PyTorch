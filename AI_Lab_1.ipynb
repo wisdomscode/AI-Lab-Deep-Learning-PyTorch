{
  "nbformat": 4,
  "nbformat_minor": 0,
  "metadata": {
    "colab": {
      "provenance": [],
      "toc_visible": true,
      "gpuType": "T4",
      "authorship_tag": "ABX9TyM1ng7yo5qrte+9rHrEFvA5",
      "include_colab_link": true
    },
    "kernelspec": {
      "name": "python3",
      "display_name": "Python 3"
    },
    "language_info": {
      "name": "python"
    },
    "accelerator": "GPU"
  },
  "cells": [
    {
      "cell_type": "markdown",
      "metadata": {
        "id": "view-in-github",
        "colab_type": "text"
      },
      "source": [
        "<a href=\"https://colab.research.google.com/github/wisdomscode/AI-Lab-Deep-Learning-PyTorch/blob/main/AI_Lab_1.ipynb\" target=\"_parent\"><img src=\"https://colab.research.google.com/assets/colab-badge.svg\" alt=\"Open In Colab\"/></a>"
      ]
    },
    {
      "cell_type": "markdown",
      "source": [
        "# What Are Python Tracebacks?"
      ],
      "metadata": {
        "id": "CC-D3DywYmWk"
      }
    },
    {
      "cell_type": "markdown",
      "source": [
        "In Python, a traceback is a detailed report generated when an error occurs in your code. A traceback, also called a stack trace, offers valuable information about what and where went wrong in the code by providing a step-by-step account of what lead up to the Python raising an exception. While tracebacks may appear daunting at first glance, they contain crucial details that can significantly aid in debugging your code."
      ],
      "metadata": {
        "id": "VuWJBNGNYrKc"
      }
    },
    {
      "cell_type": "markdown",
      "source": [
        "By carefully examining a traceback, you can:\n",
        "\n",
        "* Understand the nature of the exception\n",
        "* See the sequence of code that led to the error\n",
        "* Identify the exact line where the error occurred, sometimes even where in the line the error occurred\n"
      ],
      "metadata": {
        "id": "gnpHc_IQZIY8"
      }
    },
    {
      "cell_type": "markdown",
      "source": [
        "Traceback Example"
      ],
      "metadata": {
        "id": "oWPGjsk-ZVbM"
      }
    },
    {
      "cell_type": "markdown",
      "source": [
        "Below is an example of code that has a bug in it. When the cell is executed, the code does not run because it raises an exception and generates a traceback."
      ],
      "metadata": {
        "id": "N9QYHAJpA1Nb"
      }
    },
    {
      "cell_type": "code",
      "source": [
        "def greet(name):\n",
        "    print(\"Hello,\", name)\n",
        "\n",
        "\n",
        "greet(user_name)"
      ],
      "metadata": {
        "id": "NIgsPCObZdZF",
        "colab": {
          "base_uri": "https://localhost:8080/",
          "height": 176
        },
        "outputId": "e2f7b344-6636-430f-d896-efb76a3e823e"
      },
      "execution_count": 1,
      "outputs": [
        {
          "output_type": "error",
          "ename": "NameError",
          "evalue": "name 'user_name' is not defined",
          "traceback": [
            "\u001b[0;31m---------------------------------------------------------------------------\u001b[0m",
            "\u001b[0;31mNameError\u001b[0m                                 Traceback (most recent call last)",
            "\u001b[0;32m<ipython-input-1-40ce65a1fc51>\u001b[0m in \u001b[0;36m<cell line: 0>\u001b[0;34m()\u001b[0m\n\u001b[1;32m      3\u001b[0m \u001b[0;34m\u001b[0m\u001b[0m\n\u001b[1;32m      4\u001b[0m \u001b[0;34m\u001b[0m\u001b[0m\n\u001b[0;32m----> 5\u001b[0;31m \u001b[0mgreet\u001b[0m\u001b[0;34m(\u001b[0m\u001b[0muser_name\u001b[0m\u001b[0;34m)\u001b[0m\u001b[0;34m\u001b[0m\u001b[0;34m\u001b[0m\u001b[0m\n\u001b[0m",
            "\u001b[0;31mNameError\u001b[0m: name 'user_name' is not defined"
          ]
        }
      ]
    },
    {
      "cell_type": "markdown",
      "source": [
        "In the code above, we did not define the variable user_name before it was used. It's a common mistake to use a variable without defining it first."
      ],
      "metadata": {
        "id": "2cH9_qKSBAqs"
      }
    },
    {
      "cell_type": "markdown",
      "source": [
        "Let's walk through the traceback. We read a traceback by starting with the last line. The first element is NameError, which is the type of exception that was raised. After the colon (:), there's a more detailed explanation: name 'user_name' is not defined. Looking at the next line up, we see an arrow (---->), which points to the line causing the error. Above that, there's also a brief snippet of code for context. The top line repeats some of the information: NameError Traceback (most recent call last).\n",
        "\n",
        "Let's fix the code so it runs."
      ],
      "metadata": {
        "id": "tnoDI2qmBI4M"
      }
    },
    {
      "cell_type": "code",
      "source": [
        "def greet(name):\n",
        "    print(\"Hello,\", name)\n",
        "\n",
        "\n",
        "user_name = \"Wisdom\"\n",
        "greet(user_name)"
      ],
      "metadata": {
        "id": "kVqfUgQPBO1c"
      },
      "execution_count": null,
      "outputs": []
    },
    {
      "cell_type": "markdown",
      "source": [
        "Task 1.2.2: Fix the function"
      ],
      "metadata": {
        "id": "Iqk0EYTkEg_E"
      }
    },
    {
      "cell_type": "markdown",
      "source": [
        "Complete the lower_case_dictionary_values function. Inside the loop, check if each value is a string. If it is, add the key-value pair to new_dict with the value converted to lowercase. If not, add the original key-value pair to new_dict. Test the function with the user_data dictionary. Run the code and use any resulting traceback to identify and fix errors in your implementation."
      ],
      "metadata": {
        "id": "M_VyM8hqEfc0"
      }
    },
    {
      "cell_type": "code",
      "source": [
        "def lower_case_dictionary_values(dictionary):\n",
        "    new_dict = {}\n",
        "    for key, value in dictionary.items():\n",
        "      new_dict[key] = value.lower()\n",
        "\n",
        "    return new_dict\n",
        "\n",
        "\n",
        "user_data = {\n",
        "    \"username\": \"Maria Clara Santos\",\n",
        "    \"email\": \"Maria.Clara.Aantos@example.com\",\n",
        "    \"age\": 30,\n",
        "}\n",
        "\n",
        "lower_case_dictionary_values(user_data)"
      ],
      "metadata": {
        "colab": {
          "base_uri": "https://localhost:8080/",
          "height": 297
        },
        "id": "rZsVs7lyElrV",
        "outputId": "afcf3549-e541-4e74-eeb2-f1028d0e64f2"
      },
      "execution_count": 2,
      "outputs": [
        {
          "output_type": "error",
          "ename": "AttributeError",
          "evalue": "'int' object has no attribute 'lower'",
          "traceback": [
            "\u001b[0;31m---------------------------------------------------------------------------\u001b[0m",
            "\u001b[0;31mAttributeError\u001b[0m                            Traceback (most recent call last)",
            "\u001b[0;32m<ipython-input-2-db09ca179074>\u001b[0m in \u001b[0;36m<cell line: 0>\u001b[0;34m()\u001b[0m\n\u001b[1;32m     13\u001b[0m }\n\u001b[1;32m     14\u001b[0m \u001b[0;34m\u001b[0m\u001b[0m\n\u001b[0;32m---> 15\u001b[0;31m \u001b[0mlower_case_dictionary_values\u001b[0m\u001b[0;34m(\u001b[0m\u001b[0muser_data\u001b[0m\u001b[0;34m)\u001b[0m\u001b[0;34m\u001b[0m\u001b[0;34m\u001b[0m\u001b[0m\n\u001b[0m",
            "\u001b[0;32m<ipython-input-2-db09ca179074>\u001b[0m in \u001b[0;36mlower_case_dictionary_values\u001b[0;34m(dictionary)\u001b[0m\n\u001b[1;32m      2\u001b[0m     \u001b[0mnew_dict\u001b[0m \u001b[0;34m=\u001b[0m \u001b[0;34m{\u001b[0m\u001b[0;34m}\u001b[0m\u001b[0;34m\u001b[0m\u001b[0;34m\u001b[0m\u001b[0m\n\u001b[1;32m      3\u001b[0m     \u001b[0;32mfor\u001b[0m \u001b[0mkey\u001b[0m\u001b[0;34m,\u001b[0m \u001b[0mvalue\u001b[0m \u001b[0;32min\u001b[0m \u001b[0mdictionary\u001b[0m\u001b[0;34m.\u001b[0m\u001b[0mitems\u001b[0m\u001b[0;34m(\u001b[0m\u001b[0;34m)\u001b[0m\u001b[0;34m:\u001b[0m\u001b[0;34m\u001b[0m\u001b[0;34m\u001b[0m\u001b[0m\n\u001b[0;32m----> 4\u001b[0;31m       \u001b[0mnew_dict\u001b[0m\u001b[0;34m[\u001b[0m\u001b[0mkey\u001b[0m\u001b[0;34m]\u001b[0m \u001b[0;34m=\u001b[0m \u001b[0mvalue\u001b[0m\u001b[0;34m.\u001b[0m\u001b[0mlower\u001b[0m\u001b[0;34m(\u001b[0m\u001b[0;34m)\u001b[0m\u001b[0;34m\u001b[0m\u001b[0;34m\u001b[0m\u001b[0m\n\u001b[0m\u001b[1;32m      5\u001b[0m \u001b[0;34m\u001b[0m\u001b[0m\n\u001b[1;32m      6\u001b[0m     \u001b[0;32mreturn\u001b[0m \u001b[0mnew_dict\u001b[0m\u001b[0;34m\u001b[0m\u001b[0;34m\u001b[0m\u001b[0m\n",
            "\u001b[0;31mAttributeError\u001b[0m: 'int' object has no attribute 'lower'"
          ]
        }
      ]
    },
    {
      "cell_type": "code",
      "source": [
        "# solution\n",
        "def lower_case_dictionary_values(dictionary):\n",
        "    new_dict = {}\n",
        "    for key, value in dictionary.items():\n",
        "        if type(value) == str:\n",
        "            new_dict[key] = value.lower()\n",
        "        else:\n",
        "            new_dict[key] = value\n",
        "    return new_dict\n",
        "\n",
        "\n",
        "user_data = {\n",
        "    \"username\": \"Maria Clara Santos\",\n",
        "    \"email\": \"Maria.Clara.Aantos@example.com\",\n",
        "    \"age\": 30,\n",
        "}\n",
        "\n",
        "lower_case_dictionary_values(user_data)"
      ],
      "metadata": {
        "colab": {
          "base_uri": "https://localhost:8080/"
        },
        "id": "jW0_t3i7E4Rr",
        "outputId": "05f2b720-94c1-4592-c7bb-5d185dd6ed50"
      },
      "execution_count": 3,
      "outputs": [
        {
          "output_type": "execute_result",
          "data": {
            "text/plain": [
              "{'username': 'maria clara santos',\n",
              " 'email': 'maria.clara.aantos@example.com',\n",
              " 'age': 30}"
            ]
          },
          "metadata": {},
          "execution_count": 3
        }
      ]
    },
    {
      "cell_type": "markdown",
      "source": [
        "Let's examine an example of a traceback coming from a common PyTorch error."
      ],
      "metadata": {
        "id": "zyrvYjreFIWc"
      }
    },
    {
      "cell_type": "code",
      "source": [
        "import torch\n",
        "\n",
        "tensor_on_cpu = torch.tensor([1, 2, 3])\n",
        "tensor_on_gpu = torch.tensor([4, 5, 6]).cuda()\n",
        "result = tensor_on_cpu + tensor_on_gpu\n"
      ],
      "metadata": {
        "colab": {
          "base_uri": "https://localhost:8080/",
          "height": 332
        },
        "id": "nsUCoL1UFS6L",
        "outputId": "f9b4359a-86b3-4692-f9bc-9f15a37ba622"
      },
      "execution_count": 4,
      "outputs": [
        {
          "output_type": "error",
          "ename": "RuntimeError",
          "evalue": "Found no NVIDIA driver on your system. Please check that you have an NVIDIA GPU and installed a driver from http://www.nvidia.com/Download/index.aspx",
          "traceback": [
            "\u001b[0;31m---------------------------------------------------------------------------\u001b[0m",
            "\u001b[0;31mRuntimeError\u001b[0m                              Traceback (most recent call last)",
            "\u001b[0;32m<ipython-input-4-65e8ce1b44bd>\u001b[0m in \u001b[0;36m<cell line: 0>\u001b[0;34m()\u001b[0m\n\u001b[1;32m      2\u001b[0m \u001b[0;34m\u001b[0m\u001b[0m\n\u001b[1;32m      3\u001b[0m \u001b[0mtensor_on_cpu\u001b[0m \u001b[0;34m=\u001b[0m \u001b[0mtorch\u001b[0m\u001b[0;34m.\u001b[0m\u001b[0mtensor\u001b[0m\u001b[0;34m(\u001b[0m\u001b[0;34m[\u001b[0m\u001b[0;36m1\u001b[0m\u001b[0;34m,\u001b[0m \u001b[0;36m2\u001b[0m\u001b[0;34m,\u001b[0m \u001b[0;36m3\u001b[0m\u001b[0;34m]\u001b[0m\u001b[0;34m)\u001b[0m\u001b[0;34m\u001b[0m\u001b[0;34m\u001b[0m\u001b[0m\n\u001b[0;32m----> 4\u001b[0;31m \u001b[0mtensor_on_gpu\u001b[0m \u001b[0;34m=\u001b[0m \u001b[0mtorch\u001b[0m\u001b[0;34m.\u001b[0m\u001b[0mtensor\u001b[0m\u001b[0;34m(\u001b[0m\u001b[0;34m[\u001b[0m\u001b[0;36m4\u001b[0m\u001b[0;34m,\u001b[0m \u001b[0;36m5\u001b[0m\u001b[0;34m,\u001b[0m \u001b[0;36m6\u001b[0m\u001b[0;34m]\u001b[0m\u001b[0;34m)\u001b[0m\u001b[0;34m.\u001b[0m\u001b[0mcuda\u001b[0m\u001b[0;34m(\u001b[0m\u001b[0;34m)\u001b[0m\u001b[0;34m\u001b[0m\u001b[0;34m\u001b[0m\u001b[0m\n\u001b[0m\u001b[1;32m      5\u001b[0m \u001b[0mresult\u001b[0m \u001b[0;34m=\u001b[0m \u001b[0mtensor_on_cpu\u001b[0m \u001b[0;34m+\u001b[0m \u001b[0mtensor_on_gpu\u001b[0m\u001b[0;34m\u001b[0m\u001b[0;34m\u001b[0m\u001b[0m\n",
            "\u001b[0;32m/usr/local/lib/python3.11/dist-packages/torch/cuda/__init__.py\u001b[0m in \u001b[0;36m_lazy_init\u001b[0;34m()\u001b[0m\n\u001b[1;32m    317\u001b[0m         \u001b[0;32mif\u001b[0m \u001b[0;34m\"CUDA_MODULE_LOADING\"\u001b[0m \u001b[0;32mnot\u001b[0m \u001b[0;32min\u001b[0m \u001b[0mos\u001b[0m\u001b[0;34m.\u001b[0m\u001b[0menviron\u001b[0m\u001b[0;34m:\u001b[0m\u001b[0;34m\u001b[0m\u001b[0;34m\u001b[0m\u001b[0m\n\u001b[1;32m    318\u001b[0m             \u001b[0mos\u001b[0m\u001b[0;34m.\u001b[0m\u001b[0menviron\u001b[0m\u001b[0;34m[\u001b[0m\u001b[0;34m\"CUDA_MODULE_LOADING\"\u001b[0m\u001b[0;34m]\u001b[0m \u001b[0;34m=\u001b[0m \u001b[0;34m\"LAZY\"\u001b[0m\u001b[0;34m\u001b[0m\u001b[0;34m\u001b[0m\u001b[0m\n\u001b[0;32m--> 319\u001b[0;31m         \u001b[0mtorch\u001b[0m\u001b[0;34m.\u001b[0m\u001b[0m_C\u001b[0m\u001b[0;34m.\u001b[0m\u001b[0m_cuda_init\u001b[0m\u001b[0;34m(\u001b[0m\u001b[0;34m)\u001b[0m\u001b[0;34m\u001b[0m\u001b[0;34m\u001b[0m\u001b[0m\n\u001b[0m\u001b[1;32m    320\u001b[0m         \u001b[0;31m# Some of the queued calls may reentrantly call _lazy_init();\u001b[0m\u001b[0;34m\u001b[0m\u001b[0;34m\u001b[0m\u001b[0m\n\u001b[1;32m    321\u001b[0m         \u001b[0;31m# we need to just return without initializing in that case.\u001b[0m\u001b[0;34m\u001b[0m\u001b[0;34m\u001b[0m\u001b[0m\n",
            "\u001b[0;31mRuntimeError\u001b[0m: Found no NVIDIA driver on your system. Please check that you have an NVIDIA GPU and installed a driver from http://www.nvidia.com/Download/index.aspx"
          ]
        }
      ]
    },
    {
      "cell_type": "code",
      "source": [
        "# Solution\n",
        "# to move a tensor to a gpu device\n",
        "tensor_moved_to_gpu = tensor_on_cpu.cuda()\n",
        "result = tensor_moved_to_gpu + tensor_on_gpu"
      ],
      "metadata": {
        "id": "HCp2GlYvHrTV"
      },
      "execution_count": null,
      "outputs": []
    },
    {
      "cell_type": "markdown",
      "source": [
        "Task 1.2.3: Fix PyTorch"
      ],
      "metadata": {
        "id": "Agqmcaj-HzyM"
      }
    },
    {
      "cell_type": "markdown",
      "source": [
        "Write code to move matrix_2 to the GPU"
      ],
      "metadata": {
        "id": "dIbvtDV2H0gj"
      }
    },
    {
      "cell_type": "code",
      "source": [
        "# Important! Don't change this!\n",
        "torch.manual_seed(42)\n",
        "torch.cuda.manual_seed(42)\n",
        "\n",
        "matrix_1 = torch.randn(3, 4).cuda()\n",
        "\n",
        "matrix_2 = torch.randn(4, 2)\n",
        "# your code goes here...\n",
        "# solution\n",
        "matrix_2 = matrix_2.cuda()\n",
        "\n",
        "result = torch.mm(matrix_1, matrix_2)"
      ],
      "metadata": {
        "id": "5TglDREDH6nd"
      },
      "execution_count": null,
      "outputs": []
    }
  ]
}