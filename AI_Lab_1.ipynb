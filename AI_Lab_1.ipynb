{
  "nbformat": 4,
  "nbformat_minor": 0,
  "metadata": {
    "colab": {
      "provenance": [],
      "toc_visible": true,
      "authorship_tag": "ABX9TyN3r1r45EbwGxEXflGzXGAN",
      "include_colab_link": true
    },
    "kernelspec": {
      "name": "python3",
      "display_name": "Python 3"
    },
    "language_info": {
      "name": "python"
    }
  },
  "cells": [
    {
      "cell_type": "markdown",
      "metadata": {
        "id": "view-in-github",
        "colab_type": "text"
      },
      "source": [
        "<a href=\"https://colab.research.google.com/github/wisdomscode/AI-Lab-Deep-Learning-PyTorch/blob/main/AI_Lab_1.ipynb\" target=\"_parent\"><img src=\"https://colab.research.google.com/assets/colab-badge.svg\" alt=\"Open In Colab\"/></a>"
      ]
    },
    {
      "cell_type": "code",
      "execution_count": null,
      "metadata": {
        "id": "AVj_VND9YXmY"
      },
      "outputs": [],
      "source": []
    },
    {
      "cell_type": "markdown",
      "source": [
        "# What Are Python Tracebacks?"
      ],
      "metadata": {
        "id": "CC-D3DywYmWk"
      }
    },
    {
      "cell_type": "markdown",
      "source": [
        "In Python, a traceback is a detailed report generated when an error occurs in your code. A traceback, also called a stack trace, offers valuable information about what and where went wrong in the code by providing a step-by-step account of what lead up to the Python raising an exception. While tracebacks may appear daunting at first glance, they contain crucial details that can significantly aid in debugging your code."
      ],
      "metadata": {
        "id": "VuWJBNGNYrKc"
      }
    },
    {
      "cell_type": "markdown",
      "source": [
        "By carefully examining a traceback, you can:\n",
        "\n",
        "* Understand the nature of the exception\n",
        "* See the sequence of code that led to the error\n",
        "* Identify the exact line where the error occurred, sometimes even where in the line the error occurred\n"
      ],
      "metadata": {
        "id": "gnpHc_IQZIY8"
      }
    },
    {
      "cell_type": "markdown",
      "source": [
        "Traceback Example"
      ],
      "metadata": {
        "id": "oWPGjsk-ZVbM"
      }
    },
    {
      "cell_type": "code",
      "source": [
        "Expected outcome:\n",
        "\n",
        "Your say_hello() function will print the output: Hello!."
      ],
      "metadata": {
        "id": "NIgsPCObZdZF"
      },
      "execution_count": null,
      "outputs": []
    }
  ]
}