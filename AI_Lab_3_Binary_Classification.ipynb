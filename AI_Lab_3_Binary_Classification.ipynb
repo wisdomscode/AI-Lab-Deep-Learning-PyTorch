{
  "nbformat": 4,
  "nbformat_minor": 0,
  "metadata": {
    "colab": {
      "provenance": [],
      "toc_visible": true,
      "authorship_tag": "ABX9TyPjBL6QvC8ifNLTnI2U+JAw",
      "include_colab_link": true
    },
    "kernelspec": {
      "name": "python3",
      "display_name": "Python 3"
    },
    "language_info": {
      "name": "python"
    }
  },
  "cells": [
    {
      "cell_type": "markdown",
      "metadata": {
        "id": "view-in-github",
        "colab_type": "text"
      },
      "source": [
        "<a href=\"https://colab.research.google.com/github/wisdomscode/AI-Lab-Deep-Learning-PyTorch/blob/main/AI_Lab_3_Binary_Classification.ipynb\" target=\"_parent\"><img src=\"https://colab.research.google.com/assets/colab-badge.svg\" alt=\"Open In Colab\"/></a>"
      ]
    },
    {
      "cell_type": "markdown",
      "source": [
        "# Introduction"
      ],
      "metadata": {
        "id": "vh8HIkCtWx5-"
      }
    },
    {
      "cell_type": "markdown",
      "source": [
        "We will build our very first neural network model. We'll use this model to classify if a wildlife camera image shows a hog or not."
      ],
      "metadata": {
        "id": "MHRINpH-W0A3"
      }
    },
    {
      "cell_type": "markdown",
      "source": [
        "**Objectives:**\n",
        "\n",
        "* Convert images from grayscale to RGB\n",
        "* Resizes images\n",
        "* Create a transformation pipeline to standardize images for training\n",
        "* Build and train a simple neural network model in PyTorch\n",
        "* Save our trained neural network to disk"
      ],
      "metadata": {
        "id": "VaGF62YwX6w2"
      }
    },
    {
      "cell_type": "markdown",
      "source": [
        "**New Terms:**\n",
        "\n",
        "* Activation function\n",
        "* Automatic differentiation\n",
        "* Backpropagation\n",
        "* Binary classification\n",
        "* Cross-entropy\n",
        "* Epoch\n",
        "* Layers\n",
        "* Logits\n",
        "* Optimizer"
      ],
      "metadata": {
        "id": "jPMzdch3YGDe"
      }
    },
    {
      "cell_type": "markdown",
      "source": [],
      "metadata": {
        "id": "uuKuQ91zYcMl"
      }
    }
  ]
}