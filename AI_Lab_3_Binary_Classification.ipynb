{
  "nbformat": 4,
  "nbformat_minor": 0,
  "metadata": {
    "colab": {
      "provenance": [],
      "toc_visible": true,
      "gpuType": "T4",
      "authorship_tag": "ABX9TyNVFz9wI83b7IFA0V5w1VLe",
      "include_colab_link": true
    },
    "kernelspec": {
      "name": "python3",
      "display_name": "Python 3"
    },
    "language_info": {
      "name": "python"
    },
    "accelerator": "GPU"
  },
  "cells": [
    {
      "cell_type": "markdown",
      "metadata": {
        "id": "view-in-github",
        "colab_type": "text"
      },
      "source": [
        "<a href=\"https://colab.research.google.com/github/wisdomscode/AI-Lab-Deep-Learning-PyTorch/blob/main/AI_Lab_3_Binary_Classification.ipynb\" target=\"_parent\"><img src=\"https://colab.research.google.com/assets/colab-badge.svg\" alt=\"Open In Colab\"/></a>"
      ]
    },
    {
      "cell_type": "markdown",
      "source": [
        "# Introduction"
      ],
      "metadata": {
        "id": "vh8HIkCtWx5-"
      }
    },
    {
      "cell_type": "markdown",
      "source": [
        "We will build our very first neural network model. We'll use this model to classify if a wildlife camera image shows a hog or not."
      ],
      "metadata": {
        "id": "MHRINpH-W0A3"
      }
    },
    {
      "cell_type": "markdown",
      "source": [
        "**Objectives:**\n",
        "\n",
        "* Convert images from grayscale to RGB\n",
        "* Resizes images\n",
        "* Create a transformation pipeline to standardize images for training\n",
        "* Build and train a simple neural network model in PyTorch\n",
        "* Save our trained neural network to disk"
      ],
      "metadata": {
        "id": "VaGF62YwX6w2"
      }
    },
    {
      "cell_type": "markdown",
      "source": [
        "**New Terms:**\n",
        "\n",
        "* Activation function\n",
        "* Automatic differentiation\n",
        "* Backpropagation\n",
        "* Binary classification\n",
        "* Cross-entropy\n",
        "* Epoch\n",
        "* Layers\n",
        "* Logits\n",
        "* Optimizer"
      ],
      "metadata": {
        "id": "jPMzdch3YGDe"
      }
    },
    {
      "cell_type": "markdown",
      "source": [],
      "metadata": {
        "id": "uuKuQ91zYcMl"
      }
    },
    {
      "cell_type": "code",
      "source": [
        "import os\n",
        "import sys\n",
        "from collections import Counter\n",
        "\n",
        "import cv2\n",
        "import matplotlib\n",
        "import matplotlib.pyplot as plt\n",
        "import numpy as np\n",
        "import pandas as pd\n",
        "import PIL\n",
        "import sklearn\n",
        "import torch\n",
        "import torch.nn as nn\n",
        "import torch.nn.functional as F\n",
        "import torch.optim as optim\n",
        "import torchinfo\n",
        "import torchvision\n",
        "from PIL import Image\n",
        "from sklearn.metrics import ConfusionMatrixDisplay, confusion_matrix\n",
        "from torch.utils.data import DataLoader, random_split\n",
        "from torchinfo import summary\n",
        "from torchvision import datasets, transforms\n",
        "from tqdm.notebook import tqdm\n",
        "from tqdm.version import __version__ as tqdm__version__\n",
        "\n",
        "torch.backends.cudnn.deterministic = True"
      ],
      "metadata": {
        "id": "U_2EMy_C9fJk"
      },
      "execution_count": null,
      "outputs": []
    },
    {
      "cell_type": "code",
      "source": [
        "!pip install torchinfo"
      ],
      "metadata": {
        "colab": {
          "base_uri": "https://localhost:8080/"
        },
        "id": "T0TbtVzt-bxs",
        "outputId": "9cd2460c-52ea-4d6d-ccc2-ccb236f0a5f3"
      },
      "execution_count": null,
      "outputs": [
        {
          "output_type": "stream",
          "name": "stdout",
          "text": [
            "Collecting torchinfo\n",
            "  Downloading torchinfo-1.8.0-py3-none-any.whl.metadata (21 kB)\n",
            "Downloading torchinfo-1.8.0-py3-none-any.whl (23 kB)\n",
            "Installing collected packages: torchinfo\n",
            "Successfully installed torchinfo-1.8.0\n"
          ]
        }
      ]
    },
    {
      "cell_type": "markdown",
      "source": [
        "To test our imports"
      ],
      "metadata": {
        "id": "vvvxuYSY9e7d"
      }
    },
    {
      "cell_type": "code",
      "source": [
        "print(\"Platform:\", sys.platform)\n",
        "print(\"Python version:\", sys.version)\n",
        "print(\"---\")\n",
        "print(\"CV2 version : \", cv2.__version__)\n",
        "print(\"matplotlib version : \", matplotlib.__version__)\n",
        "print(\"numpy version : \", np.__version__)\n",
        "print(\"torch version : \", torch.__version__)\n",
        "print(\"torchinfo version : \", torchinfo.__version__)\n",
        "print(\"torchvision version : \", torchvision.__version__)\n",
        "print(\"PIL version : \", PIL.__version__)\n",
        "print(\"scikit-learn version: \", sklearn.__version__)\n",
        "print(\"tqdm version: \", tqdm__version__)"
      ],
      "metadata": {
        "colab": {
          "base_uri": "https://localhost:8080/"
        },
        "id": "kJ6lYi0a9qZ8",
        "outputId": "2cb43d22-4b1a-4a0b-f219-0d08d047d81f"
      },
      "execution_count": null,
      "outputs": [
        {
          "output_type": "stream",
          "name": "stdout",
          "text": [
            "Platform: linux\n",
            "Python version: 3.11.11 (main, Dec  4 2024, 08:55:07) [GCC 11.4.0]\n",
            "---\n",
            "CV2 version :  4.11.0\n",
            "matplotlib version :  3.10.0\n",
            "numpy version :  1.26.4\n",
            "torch version :  2.5.1+cu124\n",
            "torchinfo version :  1.8.0\n",
            "torchvision version :  0.20.1+cu124\n",
            "PIL version :  11.1.0\n",
            "scikit-learn version:  1.6.1\n",
            "tqdm version:  4.67.1\n"
          ]
        }
      ]
    },
    {
      "cell_type": "markdown",
      "source": [
        "To check if GPUs are available"
      ],
      "metadata": {
        "id": "WmuvSD74-qhE"
      }
    },
    {
      "cell_type": "code",
      "source": [
        "if torch.cuda.is_available():\n",
        "    device = \"cuda\"\n",
        "elif torch.backends.mps.is_available():\n",
        "    device = \"mps\"\n",
        "else:\n",
        "    device = \"cpu\"\n",
        "\n",
        "print(f\"Using {device} device.\")"
      ],
      "metadata": {
        "colab": {
          "base_uri": "https://localhost:8080/"
        },
        "id": "QqtKS-BP-wgM",
        "outputId": "235fa73e-7102-4a64-8d3a-986e8c9560db"
      },
      "execution_count": null,
      "outputs": [
        {
          "output_type": "stream",
          "name": "stdout",
          "text": [
            "Using cuda device.\n"
          ]
        }
      ]
    },
    {
      "cell_type": "markdown",
      "source": [
        "# Exploring Data"
      ],
      "metadata": {
        "id": "cgM5d2Om_Gje"
      }
    },
    {
      "cell_type": "markdown",
      "source": [
        "Our goal is to build a model that can identify wildlife in photos taken by automated surveillance systems, also called \"camera traps.\""
      ],
      "metadata": {
        "id": "204zDPDR_Je0"
      }
    },
    {
      "cell_type": "markdown",
      "source": [
        "It assumed we have the data in our data file.\n",
        "\n",
        "We have our train data folder in\n",
        "data_p1/data_binary/train\n",
        "\n",
        "inside of which we have blank and hog folders"
      ],
      "metadata": {
        "id": "ttYdUSb-_RKc"
      }
    },
    {
      "cell_type": "markdown",
      "source": [
        "Task 1.3.1: Assign train_dir the path to the training data."
      ],
      "metadata": {
        "id": "Mx8NKw6SEiSE"
      }
    },
    {
      "cell_type": "code",
      "source": [
        "data_dir = os.path.join(\"data_p1\", \"data_binary\")\n",
        "train_dir = os.path.join(data_dir, \"train\")\n",
        "\n",
        "print(\"Data Directory:\", data_dir)\n",
        "print(\"Training Data Directory:\", train_dir)"
      ],
      "metadata": {
        "id": "DDD3iNO-ERlN"
      },
      "execution_count": null,
      "outputs": []
    },
    {
      "cell_type": "markdown",
      "source": [
        "List the items inside the train folder, we use listdir"
      ],
      "metadata": {
        "id": "Dy6Or8GSFTOF"
      }
    },
    {
      "cell_type": "code",
      "source": [
        "labels = os.listdir(train_dir)\n",
        "labels\n",
        "\n",
        "# output\n",
        "['hog', 'blank']"
      ],
      "metadata": {
        "id": "k6JmiIJAEZvl"
      },
      "execution_count": null,
      "outputs": []
    },
    {
      "cell_type": "markdown",
      "source": [
        "Count Items in a hog folder"
      ],
      "metadata": {
        "id": "E94n5iAdGz9F"
      }
    },
    {
      "cell_type": "code",
      "source": [
        "hog_path = os.path.join(train_dir, \"hog\")\n",
        "hog_images = os.listdir(hog_path)\n",
        "print(\"length of hog images: \", len(hog_images))\n",
        "\n",
        "# output\n",
        "length of hog images:  978\n",
        "\n"
      ],
      "metadata": {
        "id": "UZs9A4yDG5PV"
      },
      "execution_count": null,
      "outputs": []
    },
    {
      "cell_type": "markdown",
      "source": [
        "Task 1.3.2: Determine the number of blank images in the training data and assign the result to blank_images."
      ],
      "metadata": {
        "id": "EHb1yP7FGs8c"
      }
    },
    {
      "cell_type": "code",
      "source": [
        "blank_path = os.path.join(train_dir, \"blank\")\n",
        "blank_images = os.listdir(blank_path)\n",
        "print(\"length of blank images: \", len(blank_images))\n",
        "\n",
        "# outout\n",
        "length of blank images:  2213\n",
        "\n"
      ],
      "metadata": {
        "id": "MrvjCK9hG4VV"
      },
      "execution_count": null,
      "outputs": []
    },
    {
      "cell_type": "markdown",
      "source": [
        "Create a Path to individual image in the folders"
      ],
      "metadata": {
        "id": "aqHOexAtI3yd"
      }
    },
    {
      "cell_type": "markdown",
      "source": [
        "Task 1.3.3: Display the path of one image of the blank class."
      ],
      "metadata": {
        "id": "ArAzgMzJIOw-"
      }
    },
    {
      "cell_type": "code",
      "source": [
        "# get name of first image in the hog folder\n",
        "hog_image_name = hog_images[0]\n",
        "print(hog_image_name)\n",
        "\n",
        "# get the path\n",
        "hog_image_path = os.path.join(hog_path, hog_image_name)\n",
        "print(hog_image_path)\n",
        "\n",
        "# get name of first image in the blank folder\n",
        "blank_image_name = blank_images[1]\n",
        "print(blank_image_name)\n",
        "\n",
        "# get the path\n",
        "blank_image_path = os.path.join(blank_path, blank_image_name)\n",
        "print(blank_image_path)\n",
        "\n",
        "# outputs\n",
        "ZJ012491.jpg\n",
        "data_p1/data_binary/train/hog/ZJ012491.jpg\n",
        "ZJ001885.jpg\n",
        "data_p1/data_binary/train/blank/ZJ001885.jpg"
      ],
      "metadata": {
        "id": "1teofRATIh4k"
      },
      "execution_count": null,
      "outputs": []
    },
    {
      "cell_type": "markdown",
      "source": [
        "**Mode** (Color and Gray) and **Size** of Image"
      ],
      "metadata": {
        "id": "HdE3CmXxJ0se"
      }
    },
    {
      "cell_type": "markdown",
      "source": [
        "Recall how the mode describes the pixel data of the images. In the past, we've seen both grayscale and red green blue (RGB). It's also important to check out the size of the images"
      ],
      "metadata": {
        "id": "UJZj8uDMKP_t"
      }
    },
    {
      "cell_type": "markdown",
      "source": [
        "Task 1.3.4: Print out the mode and size for the blank image sample."
      ],
      "metadata": {
        "id": "IWkzTYEsKuR2"
      }
    },
    {
      "cell_type": "code",
      "source": [
        "hog_img_pil = Image.open(hog_image_path)\n",
        "print(\"Hog image: \", hog_img_pil.mode, hog_img_pil.size)\n",
        "\n",
        "blank_img_pil = Image.open(blank_image_path)\n",
        "print(\"Blank image: \", blank_img_pil.mode, blank_img_pil.size)\n",
        "\n",
        "#output\n",
        "Hog image:  L (360, 240)\n",
        "Blank image:  RGB (640, 360)"
      ],
      "metadata": {
        "id": "W66ypqGRKvMV"
      },
      "execution_count": null,
      "outputs": []
    },
    {
      "cell_type": "markdown",
      "source": [
        "To see the actual image"
      ],
      "metadata": {
        "id": "ci1NnuwALOpm"
      }
    },
    {
      "cell_type": "code",
      "source": [
        "hog_img_pil"
      ],
      "metadata": {
        "id": "K1nXu_hALSiH"
      },
      "execution_count": null,
      "outputs": []
    },
    {
      "cell_type": "code",
      "source": [
        "blank_img_pil"
      ],
      "metadata": {
        "id": "vPTD-pL_LUT1"
      },
      "execution_count": null,
      "outputs": []
    },
    {
      "cell_type": "markdown",
      "source": [
        "**Preparing Our Data**"
      ],
      "metadata": {
        "id": "Q-zyxNT4LOcF"
      }
    },
    {
      "cell_type": "markdown",
      "source": [
        "We need to make sure all of our images are in the same mode. We want to make sure they're in RGB format. If not, we'll need to convert them. In fact, our sample hog image was in grayscale, denoted by the \"L\" for its mode value. We'll create a custom transformer that will convert an image to RGB mode if it's not."
      ],
      "metadata": {
        "id": "2BPyGjqxNXJW"
      }
    },
    {
      "cell_type": "markdown",
      "source": [
        "Function to Convert image to RGB"
      ],
      "metadata": {
        "id": "eeIxk7qqNYv-"
      }
    },
    {
      "cell_type": "code",
      "source": [
        "class ConvertToRGB:\n",
        "  def __call__(self, img):\n",
        "    if img.mode != \"RGB\":\n",
        "      img = img.convert(\"RGB\")\n",
        "    return img"
      ],
      "metadata": {
        "id": "9B5x9qBuNqrV"
      },
      "execution_count": null,
      "outputs": []
    },
    {
      "cell_type": "markdown",
      "source": [
        "We're using the special method __call__ which makes it a callable class. In other words, it acts like a function. We need this method to use ConvertToRGB in our preprocessing pipeline."
      ],
      "metadata": {
        "id": "ZTavkIASOgyf"
      }
    },
    {
      "cell_type": "markdown",
      "source": [
        "Remember how we previously used utilities from the torchvision package. We'll use transforms.Compose to create a \"pipeline\" of preprocessing sets. The steps defined (in order) will be:\n",
        "* Convert image (if needed) to RGB\n",
        "* Resize the image\n",
        "* Convert the images to PyTorch tensors\n",
        "\n",
        "Afterwards, we'll load the data and apply the transformation pipeline."
      ],
      "metadata": {
        "id": "7DRXmj3GOjxm"
      }
    },
    {
      "cell_type": "markdown",
      "source": [
        "**Task 1.3.5:** Define transformation Pipeline for Image"
      ],
      "metadata": {
        "id": "NHK0HJjDPM5V"
      }
    },
    {
      "cell_type": "code",
      "source": [
        "# Define transformation to apply to the images\n",
        "transform = transforms.Compose(\n",
        "    [\n",
        "        ConvertToRGB(),  # Convert images to RGB format if not already\n",
        "        transforms.Resize((224, 224)),  # Resize images to 224x224\n",
        "        transforms.ToTensor() # Convert images to tensors\n",
        "\n",
        "    ]\n",
        ")\n",
        "\n",
        "print(type(transform))\n",
        "print(transform)\n",
        "\n",
        "# output\n",
        "<class 'torchvision.transforms.transforms.Compose'>\n",
        "Compose(\n",
        "    <__main__.ConvertToRGB object at 0x78adb9991310>\n",
        "    Resize(size=(224, 224), interpolation=bilinear, max_size=None, antialias=True)\n",
        "    ToTensor()\n",
        ")"
      ],
      "metadata": {
        "id": "wjv7cTSYPSbn"
      },
      "execution_count": null,
      "outputs": []
    },
    {
      "cell_type": "markdown",
      "source": [
        "Now we'll load the data by using datasets from the torchvision package."
      ],
      "metadata": {
        "id": "hiBp0-OqQzc9"
      }
    },
    {
      "cell_type": "code",
      "source": [
        "# Load the dataset using `ImageFolder`\n",
        "dataset = datasets.ImageFolder(root=train_dir, transform=transform)\n",
        "print(dataset)\n",
        "\n",
        "# output\n",
        "Dataset ImageFolder\n",
        "    Number of datapoints: 3191\n",
        "    Root location: data_p1/data_binary/train\n",
        "    StandardTransform\n",
        "Transform: Compose(\n",
        "               <__main__.ConvertToRGB object at 0x78adb9991310>\n",
        "               Resize(size=(224, 224), interpolation=bilinear, max_size=None, antialias=True)\n",
        "               ToTensor()\n",
        "           )"
      ],
      "metadata": {
        "id": "zZ6xu7-QRGiO"
      },
      "execution_count": null,
      "outputs": []
    },
    {
      "cell_type": "markdown",
      "source": [
        "The dataset object has the attribute .classes which returns a list of distinct classes."
      ],
      "metadata": {
        "id": "jt3QtuPkRfCO"
      }
    },
    {
      "cell_type": "code",
      "source": [
        "dataset.classes\n",
        "\n",
        "#output\n",
        "['blank', 'hog']"
      ],
      "metadata": {
        "id": "ahVXzBReRjUm"
      },
      "execution_count": null,
      "outputs": []
    },
    {
      "cell_type": "markdown",
      "source": [
        "\n",
        "\n",
        "**Prove Binary Values**\n",
        "\n",
        "\n"
      ],
      "metadata": {
        "id": "KVx5lxmVS3xf"
      }
    },
    {
      "cell_type": "markdown",
      "source": [
        "Note: The .imgs attribute is a list of tuples of path to image and label. The label value will be a number. Since we're doing binary classification, there will only be two distinct numbers. Those numbers are 0 and 1."
      ],
      "metadata": {
        "id": "1g8ONz-3TDMX"
      }
    },
    {
      "cell_type": "markdown",
      "source": [
        "**Task 1.3.6:** Prove that the only distinct values of im are 0 and 1. You should use a set data structure"
      ],
      "metadata": {
        "id": "pGa3-em7THWt"
      }
    },
    {
      "cell_type": "code",
      "source": [
        "im = dataset.imgs\n",
        "print(im[0])\n",
        "\n",
        "distinct_classes = {x[1] for x in im}\n",
        "print()\n",
        "print(distinct_classes)\n",
        "\n",
        "# output\n",
        "('data_p1/data_binary/train/blank/ZJ000013.jpg', 0)\n",
        "\n",
        "{0, 1}"
      ],
      "metadata": {
        "id": "u3mTirNxTPq2"
      },
      "execution_count": null,
      "outputs": []
    },
    {
      "cell_type": "markdown",
      "source": [
        "As we're doing supervised machine learning, we need to perform a train/validation split. A validation set is used to help choose our model when training.\n",
        "\n",
        "It's typical to use an 80/20 split (80 for training, 20 for validation). The random_split function will help us perform the split."
      ],
      "metadata": {
        "id": "7S8_70RaTO4-"
      }
    },
    {
      "cell_type": "markdown",
      "source": [
        "**To Split data into train/validation**"
      ],
      "metadata": {
        "id": "kPJFCmWIVyTh"
      }
    },
    {
      "cell_type": "code",
      "source": [
        "# Important, don't change this!\n",
        "g = torch.Generator()\n",
        "g.manual_seed(42)\n",
        "\n",
        "train_dataset, val_dataset = random_split(dataset, [0.8, 0.2], generator=g)"
      ],
      "metadata": {
        "id": "CgjR5aqHVl-u"
      },
      "execution_count": null,
      "outputs": []
    },
    {
      "cell_type": "markdown",
      "source": [
        "**Task 1.3.7:** Now let's inspect the sizes of the splits."
      ],
      "metadata": {
        "id": "BWHx2FEXVEi3"
      }
    },
    {
      "cell_type": "code",
      "source": [
        "print(f\"Length of training set: {len(train_dataset)}\")\n"
      ],
      "metadata": {
        "id": "HRlsvnIZWHUf"
      },
      "execution_count": null,
      "outputs": []
    },
    {
      "cell_type": "code",
      "source": [
        "print(f\"Length of validation set: {len(val_dataset)}\")\n"
      ],
      "metadata": {
        "id": "chkZ6GDfWKLP"
      },
      "execution_count": null,
      "outputs": []
    },
    {
      "cell_type": "markdown",
      "source": [
        "**Data Visualization**"
      ],
      "metadata": {
        "id": "7BXgg1XyYyBg"
      }
    },
    {
      "cell_type": "markdown",
      "source": [
        "Lets Explore the data. We'll create a visualization to show the breakdown of the two classes. The function below goes through the dataset and counts how many images are in each class."
      ],
      "metadata": {
        "id": "49-qlZgOYSFv"
      }
    },
    {
      "cell_type": "code",
      "source": [
        "def class_counts(dataset):\n",
        "    c = Counter(x[1] for x in tqdm(dataset)) # counts the items, tqdm() shows a progess bar\n",
        "    class_to_index = dataset.dataset.class_to_idx\n",
        "    return pd.Series({cat: c[idx] for cat, idx in class_to_index.items()}) # this ensures that name either blank or hog is return instead of 0 or 1"
      ],
      "metadata": {
        "id": "rclTwZwwY32u"
      },
      "execution_count": null,
      "outputs": []
    },
    {
      "cell_type": "code",
      "source": [
        "train_counts = class_counts(train_dataset)\n",
        "train_counts\n",
        "\n",
        "# output\n",
        "100%\n",
        " 2553/2553 [00:11<00:00, 206.64it/s]\n",
        "blank    1749\n",
        "hog       804\n",
        "dtype: int64"
      ],
      "metadata": {
        "id": "SG_DJCEtY6QI"
      },
      "execution_count": null,
      "outputs": []
    },
    {
      "cell_type": "markdown",
      "source": [
        "**Make a Bar Chart of Train_count**\n",
        "\n",
        "The pandas built-in plotting can make a nice visualization out of it."
      ],
      "metadata": {
        "id": "RXzwaBSxYdnB"
      }
    },
    {
      "cell_type": "code",
      "source": [
        "train_counts.sort_values().plot(kind=\"bar\");"
      ],
      "metadata": {
        "id": "fOugpteGbQzf"
      },
      "execution_count": null,
      "outputs": []
    },
    {
      "cell_type": "markdown",
      "source": [
        "Do same for validation data set"
      ],
      "metadata": {
        "id": "2gf_eXwKbbiu"
      }
    },
    {
      "cell_type": "code",
      "source": [
        "val_counts = class_counts(val_dataset)\n",
        "val_counts"
      ],
      "metadata": {
        "id": "OprfP_u0b4Zo"
      },
      "execution_count": null,
      "outputs": []
    },
    {
      "cell_type": "markdown",
      "source": [
        "Make a Bar Chart for Validation Data"
      ],
      "metadata": {
        "id": "VSKBoK1fb_3X"
      }
    },
    {
      "cell_type": "code",
      "source": [
        "# Make a bar chart from the function output\n",
        "val_counts.sort_values().plot(kind=\"bar\")"
      ],
      "metadata": {
        "id": "OBxTEi9Wp281"
      },
      "execution_count": null,
      "outputs": []
    },
    {
      "cell_type": "markdown",
      "source": [
        "**DataLoader**"
      ],
      "metadata": {
        "id": "ZrTH-KHfqcMN"
      }
    },
    {
      "cell_type": "markdown",
      "source": [
        "The next step is to create DataLoader objects. These objects are iterables that work well with PyTorch when training. We'll use a batch size of 32, which is standard for neural networks. The main difference between the DataLoader for training and validation is that shuffling is turned on for training. Turning on shuffling for the training data randomly rearranges the data after we have gone over all of the batches. Shuffling prevents any particular batch of data from having too much influence on the training."
      ],
      "metadata": {
        "id": "xgrJEf-lqgrs"
      }
    },
    {
      "cell_type": "markdown",
      "source": [
        "Task 1.3.9: Create the train loader, make shuffling on, so that is shuffled each time a batch is taken"
      ],
      "metadata": {
        "id": "LX6zN9anrXVc"
      }
    },
    {
      "cell_type": "code",
      "source": [
        "# Important, don't change this!\n",
        "g = torch.Generator()\n",
        "g.manual_seed(42)\n",
        "\n",
        "batch_size = 32\n",
        "train_loader = DataLoader(train_dataset, batch_size=batch_size, shuffle=True, generator=g)\n"
      ],
      "metadata": {
        "id": "HETNij2Aru3T"
      },
      "execution_count": null,
      "outputs": []
    },
    {
      "cell_type": "markdown",
      "source": [
        "Task 1.3.9: Create the validation loader. Make sure to set shuffling to be off."
      ],
      "metadata": {
        "id": "4PnKhkr3qmtj"
      }
    },
    {
      "cell_type": "code",
      "source": [
        "# Important, don't change this!\n",
        "g = torch.Generator()\n",
        "g.manual_seed(42)\n",
        "\n",
        "batch_size = 32\n",
        "val_loader = DataLoader(val_dataset, batch_size=batch_size, shuffle=False)\n",
        "print(type(val_loader))"
      ],
      "metadata": {
        "id": "EfP4Xf6MrycF"
      },
      "execution_count": null,
      "outputs": []
    },
    {
      "cell_type": "markdown",
      "source": [
        "Now with the DataLoader objects, we'll show they're iterables by using iter and next. There's no need to do this all the time, we're just exploring how PyTorch will make use of the DataLoader objects. iter returns an iterator. This iterator will give us the next value in an iteration.\n",
        "\n",
        "We'll get one sample batch of images and labels and make sure the dimensions match what we expect. One batch of images should be a 4D tensor with dimension [32, 3, 224, 224]. This is because we set the batch to 32, we have RGB images that have 3 color channels, and our images have height 224 and width 224.\n",
        "\n",
        "One batch of labels should be a one dimensional tensor of length 32."
      ],
      "metadata": {
        "id": "fyXuN3_ysvw3"
      }
    },
    {
      "cell_type": "markdown",
      "source": [
        "Task 1.3.10: Print the shape of a batch of images and the shape of a batch of labels."
      ],
      "metadata": {
        "id": "chOJo0WCs0As"
      }
    },
    {
      "cell_type": "code",
      "source": [
        "data_iter = iter(train_loader)\n",
        "images, labels = next(data_iter)\n",
        "\n",
        "# This gives you [batch_size, channels, height, width] for images\n",
        "image_shape = images.shape\n",
        "print(\"Shape of batch of images\", image_shape)\n",
        "\n",
        "# This gives you [batch_size] for labels\n",
        "label_shape = labels.shape\n",
        "print(\"Shape of batch of labels:\", label_shape)\n",
        "\n",
        "# output\n",
        "Shape of batch of images torch.Size([32, 3, 224, 224])\n",
        "Shape of batch of labels: torch.Size([32])\n"
      ],
      "metadata": {
        "id": "8I1TckMys4Ac"
      },
      "execution_count": null,
      "outputs": []
    },
    {
      "cell_type": "markdown",
      "source": [
        "Let's examine the labels tensor to make sure it's nothing but ones and zeros."
      ],
      "metadata": {
        "id": "stspjjqQuOR8"
      }
    },
    {
      "cell_type": "code",
      "source": [
        "labels\n",
        "\n",
        "#output\n",
        "tensor([0, 1, 0, 1, 1, 1, 0, 0, 0, 0, 1, 0, 0, 0, 1, 0, 0, 0, 0, 1, 0, 1, 0, 0,\n",
        "        1, 0, 1, 0, 0, 1, 1, 1])"
      ],
      "metadata": {
        "id": "qSHdpi0HuPu7"
      },
      "execution_count": null,
      "outputs": []
    },
    {
      "cell_type": "code",
      "source": [
        "# the length of the batch\n",
        "len(labels)"
      ],
      "metadata": {
        "id": "1BZIy3KHvoAU"
      },
      "execution_count": null,
      "outputs": []
    },
    {
      "cell_type": "markdown",
      "source": [
        "# Building a Shallow Neural Network"
      ],
      "metadata": {
        "id": "6NrncBqyv0MY"
      }
    },
    {
      "cell_type": "markdown",
      "source": [
        "\n",
        "\n",
        "We're now ready to create our first neural network model. The model will be a shallow fully connected network. It'll not have too many layers, in fact, it'll have four. Here's the architecture:\n",
        "\n",
        "* The input layer\n",
        "* Two hidden layers\n",
        "* The output layer\n",
        "The image below is an example of our architecture. Note, the image shows fewer neurons than what we'll build as it's hard to visualize a model with many neurons. The important part is that we have an input layer, two hidden layers, and two nodes for the output layer.\n",
        "\n",
        "\n",
        "![full_nn_two_hidden_layers.png](data:image/png;base64,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)\n"
      ],
      "metadata": {
        "id": "rIyyUlu_xJpV"
      }
    },
    {
      "cell_type": "markdown",
      "source": [
        "Our input data are images. Each image is a 3D tensor. The shape is 3 x 224 x 224. But there's one problem. This neural network can't accept images in two dimensions. We need to first ***flatten*** the image. As you can imagine, we lose some information when we flatten the image. In a later lesson, we'll see a better neural network architecture at preserving the spatial relational data that is lost when flattening.\n",
        "\n",
        "Let's walk through the flattening process with images. Convenient for us, images is already a PyTorch tensor. In the previous task, we determined that its shape is **32 x 3 x 224 x 224**.\n",
        "\n",
        "The first dimension represents the number of images we have in the batch. If we flatten our images, we should get a tensor of 32 x 150528. Why 150528? It's the product of **3 x 224 x 224**.\n",
        "\n",
        "Each image, instead of being three dimensional, will now just have one dimension."
      ],
      "metadata": {
        "id": "tIhyQUE0zCAr"
      }
    },
    {
      "cell_type": "markdown",
      "source": [
        "**Flattening the Image**"
      ],
      "metadata": {
        "id": "L8XF6IJ_2Dck"
      }
    },
    {
      "cell_type": "markdown",
      "source": [
        "**Task 1.3.11:** Flatten the image and print out the resulting shape of the tensor. Use the nn.Flatten class to flatten."
      ],
      "metadata": {
        "id": "LO-MSwgsx12K"
      }
    },
    {
      "cell_type": "code",
      "source": [
        "flatten = nn.Flatten()\n",
        "tensor_flatten = flatten(images)\n",
        "\n",
        "# Print the shape of the flattened tensor\n",
        "print(f\"Shape of flattened tensor: {tensor_flatten.shape}\")\n",
        "\n",
        "# output\n",
        "Shape of flattened tensor: torch.Size([32, 150528])"
      ],
      "metadata": {
        "id": "UNRq1mdi06Q-"
      },
      "execution_count": null,
      "outputs": []
    },
    {
      "cell_type": "markdown",
      "source": [
        "Flattening the images is the first step or layer of our model. However, it'll be tedious if we have to manually apply all the layers of our network. Instead we'll use the **nn.Sequential** class from PyTorch. It offers an easy way to define the architecture. As the name suggests, this class takes a sequence of layers and runs the data through them in order."
      ],
      "metadata": {
        "id": "uDkXIIiA1eiO"
      }
    },
    {
      "cell_type": "code",
      "source": [
        "# Image size from our transformer\n",
        "height = 224\n",
        "width = 224\n",
        "\n",
        "model = nn.Sequential(\n",
        "    nn.Flatten(),\n",
        "    nn.Linear(3 * height * width, 512),  # 1 inner layer\n",
        "    nn.ReLU(),\n",
        "    nn.Linear(512, 128),      # 2 inner layer\n",
        "    nn.ReLU(),\n",
        ")\n",
        "\n",
        "# we do not have the out layer yet\n",
        "\n",
        "print(\"model type:\", type(model))\n",
        "print(\"model structure:\")\n",
        "print(model)\n",
        "\n",
        "# output\n",
        "model type: <class 'torch.nn.modules.container.Sequential'>\n",
        "model structure:\n",
        "Sequential(\n",
        "  (0): Flatten(start_dim=1, end_dim=-1)\n",
        "  (1): Linear(in_features=150528, out_features=512, bias=True)\n",
        "  (2): ReLU()\n",
        "  (3): Linear(in_features=512, out_features=128, bias=True)\n",
        "  (4): ReLU()\n",
        ")"
      ],
      "metadata": {
        "id": "QkcRzC512rWF"
      },
      "execution_count": null,
      "outputs": []
    },
    {
      "cell_type": "markdown",
      "source": [
        "Now let's add the last layer needed for the model. That layer is a nn.Linear with an input size of 128 and an output size of 2. Additional layers can be added/appended to a model with model.append."
      ],
      "metadata": {
        "id": "9XhiN3JX1fws"
      }
    },
    {
      "cell_type": "markdown",
      "source": [
        "**Task 1.3.12:** Create the output layer. The last line of the cell below will append it to the model."
      ],
      "metadata": {
        "id": "TzBY00As3ofF"
      }
    },
    {
      "cell_type": "code",
      "source": [
        "output_layer = nn.Linear(128, 2) # No of neurons in the last layer, expected no of output\n",
        "model.append(output_layer)\n",
        "\n",
        "print(model)\n",
        "\n",
        "# output\n",
        "Sequential(\n",
        "  (0): Flatten(start_dim=1, end_dim=-1)\n",
        "  (1): Linear(in_features=150528, out_features=512, bias=True)\n",
        "  (2): ReLU()\n",
        "  (3): Linear(in_features=512, out_features=128, bias=True)\n",
        "  (4): ReLU()\n",
        "  (5): Linear(in_features=128, out_features=2, bias=True)\n",
        ")"
      ],
      "metadata": {
        "id": "SbsjEMhE3luu"
      },
      "execution_count": null,
      "outputs": []
    },
    {
      "cell_type": "markdown",
      "source": [
        "We can see three different types of layers being used:\n",
        "\n",
        "* nn.Flatten flattens the three-dimensional input tensors to the one-dimensional tensors that the next layers expect.\n",
        "* nn.Linear is a standard dense, or fully-connected, layer. It takes two arguments, the number of inputs coming into this layer and the number of outputs produced by this layer.\n",
        "* nn.ReLU performs the rectified linear unit activation. Activation functions are necessary for neural networks to work, and ReLU is a popular choice.\n",
        "\n",
        "The last nn.Linear is our output layer. It must have 128 inputs, to match the output of the preceding layer, and it must have 2 outputs to match the two classes. Note that there's no activation function applied after the output layer. This means that the outputs of this layer are the **logits**. Later on, these logits will be the input to a normalization function, called softmax in this case, that will turn the logits into probabilities."
      ],
      "metadata": {
        "id": "mHX0weoW4rTk"
      }
    },
    {
      "cell_type": "code",
      "source": [],
      "metadata": {
        "id": "HaoGZWxX3iAG"
      },
      "execution_count": null,
      "outputs": []
    },
    {
      "cell_type": "markdown",
      "source": [
        "The model will run much more quickly on the GPU."
      ],
      "metadata": {
        "id": "rvlYBUxuaV3y"
      }
    },
    {
      "cell_type": "markdown",
      "source": [
        "**Task 1.3.13**: Use model.to function to place the model on device."
      ],
      "metadata": {
        "id": "vpE-mQOJabtc"
      }
    },
    {
      "cell_type": "code",
      "source": [
        "model.to(\"cuda\")\n",
        "\n",
        "print(model)\n",
        "\n",
        "# output\n",
        "Sequential(\n",
        "  (0): Flatten(start_dim=1, end_dim=-1)\n",
        "  (1): Linear(in_features=150528, out_features=512, bias=True)\n",
        "  (2): ReLU()\n",
        "  (3): Linear(in_features=512, out_features=128, bias=True)\n",
        "  (4): ReLU()\n",
        "  (5): Linear(in_features=128, out_features=2, bias=True)\n",
        ")"
      ],
      "metadata": {
        "id": "0eGJimMqahX7"
      },
      "execution_count": null,
      "outputs": []
    },
    {
      "cell_type": "markdown",
      "source": [
        "The output of the previous cell outlines our architecture. We can get a more detailed look with the summary function."
      ],
      "metadata": {
        "id": "bGLU58vEa2_5"
      }
    },
    {
      "cell_type": "code",
      "source": [
        "summary(model, input_size=(batch_size, 3, height, width))\n",
        "\n",
        "# output\n",
        "==========================================================================================\n",
        "Layer (type:depth-idx)                   Output Shape              Param #\n",
        "==========================================================================================\n",
        "Sequential                               [32, 2]                   --\n",
        "├─Flatten: 1-1                           [32, 150528]              --\n",
        "├─Linear: 1-2                            [32, 512]                 77,070,848\n",
        "├─ReLU: 1-3                              [32, 512]                 --\n",
        "├─Linear: 1-4                            [32, 128]                 65,664\n",
        "├─ReLU: 1-5                              [32, 128]                 --\n",
        "├─Linear: 1-6                            [32, 2]                   258\n",
        "==========================================================================================\n",
        "Total params: 77,136,770\n",
        "Trainable params: 77,136,770\n",
        "Non-trainable params: 0\n",
        "Total mult-adds (Units.GIGABYTES): 2.47\n",
        "==========================================================================================\n",
        "Input size (MB): 19.27\n",
        "Forward/backward pass size (MB): 0.16\n",
        "Params size (MB): 308.55\n",
        "Estimated Total Size (MB): 327.98\n",
        "=========================================================================================="
      ],
      "metadata": {
        "id": "J-s6m2dba5d7"
      },
      "execution_count": null,
      "outputs": []
    },
    {
      "cell_type": "markdown",
      "source": [
        "Several things to notice from above:\n",
        "\n",
        "* how many parameters we have for each layer\n",
        "* how many multiplication and addition operations we're going to perform\n",
        "* the total size of our model\n",
        "\n",
        "Even for a shallow network of just two hidden layers we have over 77 million parameters. This number far exceeds anything you may have worked with in machine learning models that aren't neural networks. You can begin to see why we need to use a specialized package for building and training neural network models."
      ],
      "metadata": {
        "id": "V1zi1ua3bmu8"
      }
    },
    {
      "cell_type": "markdown",
      "source": [],
      "metadata": {
        "id": "qmi-v5FObtEz"
      }
    },
    {
      "cell_type": "markdown",
      "source": [
        "# Training Our Model"
      ],
      "metadata": {
        "id": "-zXc_V8mbvaS"
      }
    },
    {
      "cell_type": "markdown",
      "source": [
        "There are several pieces we need beyond the model object. First, we need to define a loss function."
      ],
      "metadata": {
        "id": "GmNxRE7QcM9K"
      }
    },
    {
      "cell_type": "markdown",
      "source": [
        "**The loss function**\n",
        " - The loss function measures or Error Metrice how well our model does for a given set of model parameters."
      ],
      "metadata": {
        "id": "lsp7CD8LcAuB"
      }
    },
    {
      "cell_type": "markdown",
      "source": [
        "The chosen loss function, cross-entropy, is pretty standard. It's the same loss function used for simpler machine learning models such as logistic regression. Note that this function expects the input to be logits from our model."
      ],
      "metadata": {
        "id": "I48nLXVCcN4F"
      }
    },
    {
      "cell_type": "code",
      "source": [
        "loss_fn = nn.CrossEntropyLoss()"
      ],
      "metadata": {
        "id": "9fFwpuDIcvOy"
      },
      "execution_count": null,
      "outputs": []
    },
    {
      "cell_type": "markdown",
      "source": [
        "**Optimizer**\n",
        "\n",
        "We also need an optimizer. This will adjust the model's parameters to try to minimize the loss function."
      ],
      "metadata": {
        "id": "yRZ5tGEPdgL6"
      }
    },
    {
      "cell_type": "markdown",
      "source": [
        "**Adam optimizer**\n",
        "\n",
        " We've chosen the Adam optimizer, a popular optimizer. The Adam optimizer is a gradient based optimizer like stochastic gradient descent. The Adam optimizer has additional features that make it less likely to get stuck in a local minimum. It converges to a better state faster than standard stochastic gradient descent.\n",
        "\n",
        " The **optim.Adam** class is initialized with the model parameters through **model.parameters**.\n",
        "\n",
        " An optional argument is the learning rate **lr**. This controls how large the step sizes are in gradient descent. Keeping the default value will be fine for our purposes.\n",
        "\n",
        " We've explicitly specified the default value in this case."
      ],
      "metadata": {
        "id": "4vRTZwz8dWiy"
      }
    },
    {
      "cell_type": "code",
      "source": [
        "# Define an optimizer\n",
        "optimizer = optim.Adam(model.parameters(), lr=0.001)"
      ],
      "metadata": {
        "id": "cgRsb43JfDIC"
      },
      "execution_count": null,
      "outputs": []
    },
    {
      "cell_type": "markdown",
      "source": [
        "**train_epoch() function**\n",
        "\n",
        "Now we'll create a function called train_epoch that encapsulates the training process."
      ],
      "metadata": {
        "id": "SEkonvbQd0Mg"
      }
    },
    {
      "cell_type": "markdown",
      "source": [
        "The function accepts\n",
        "\n",
        "* model: The PyTorch model we built with a specific architecture\n",
        "* optimizer: The optimizer that will be used to best adjust the model weights\n",
        "* loss_fn: The loss function that the optimizer is trying to minimize\n",
        "* data_loader: The DataLoader object for the training dataset that makes it easy to iterate over batches\n",
        "* device: The device where we're going to place the tensors"
      ],
      "metadata": {
        "id": "Muxe0D4NgNDQ"
      }
    },
    {
      "cell_type": "markdown",
      "source": [
        "The function returns the average loss function on the training data over the entire epoch. Later, we'll use this to see if the model is making progress in the training process.\n",
        "\n"
      ],
      "metadata": {
        "id": "HBRpkw-UgXFi"
      }
    },
    {
      "cell_type": "code",
      "source": [
        "def train_epoch(model, optimizer, loss_fn, data_loader, device=\"cpu\"):\n",
        "    # We'll report the loss function's average value at the end of the epoch.\n",
        "    training_loss = 0.0\n",
        "\n",
        "    # The train method simply sets the model in training mode. No training\n",
        "    # has happened.\n",
        "    model.train()\n",
        "\n",
        "    # We iterate over all batches in the training set to complete one epoch\n",
        "    for inputs, targets in tqdm(data_loader, desc=\"Training\", leave=False):\n",
        "        # Sets the gradients to zero. We need to do this every time.\n",
        "        optimizer.zero_grad()\n",
        "\n",
        "        # Unpack images (X) and labels (y) from the batch and add those\n",
        "        # tensors to the specified device.\n",
        "        inputs = inputs.to(device)\n",
        "        targets = targets.to(device)\n",
        "\n",
        "        # We make a forward pass through the network and obtain the logits.\n",
        "        # With the logits, we can calculate our loss.\n",
        "        output = model(inputs)\n",
        "        loss = loss_fn(output, targets)\n",
        "\n",
        "        # After calculating our loss, we calculate the numerical value of\n",
        "        # the derivative of our loss function with respect to all the\n",
        "        # trainable model weights. Once we have the gradients calculated,\n",
        "        # we let the optimizer take a \"step\", in other words, update or\n",
        "        # adjust the model weights.\n",
        "        loss.backward()\n",
        "        optimizer.step()\n",
        "\n",
        "        # We increment the training loss for the current batch\n",
        "        training_loss += loss.data.item() * inputs.size(0)\n",
        "\n",
        "    # We calculate the training loss over the completed epoch\n",
        "    return training_loss / len(data_loader.dataset)"
      ],
      "metadata": {
        "id": "8lTDV3_Yg0sZ"
      },
      "execution_count": null,
      "outputs": []
    },
    {
      "cell_type": "markdown",
      "source": [
        "**Trainging the Model**\n",
        "\n",
        "We'll train the model for one epoch. The train_epoch function returns the average training loss, cross-entropy, for the epoch."
      ],
      "metadata": {
        "id": "7bA5p1QEh60C"
      }
    },
    {
      "cell_type": "code",
      "source": [
        "loss_value = train_epoch(model, optimizer, loss_fn, train_loader, device)\n",
        "print(f\"The average loss during the training epoch was {loss_value:.2f}.\")\n",
        "\n",
        "# output\n",
        "The average loss during the training epoch was 3.60."
      ],
      "metadata": {
        "id": "e5GMZDnliBGr"
      },
      "execution_count": null,
      "outputs": []
    },
    {
      "cell_type": "markdown",
      "source": [
        "A nice feature of neural networks is that when we do another training run, it doesn't start training from scratch. In other words, training resumes from the current weights and continues to adjust the weights to improve the model's performance."
      ],
      "metadata": {
        "id": "qEAipGANiUfL"
      }
    },
    {
      "cell_type": "markdown",
      "source": [
        "**Task 1.3.14** Execute another Epoch, that is train the model again"
      ],
      "metadata": {
        "id": "9EJMBmosimE3"
      }
    },
    {
      "cell_type": "code",
      "source": [
        "loss_value = train_epoch(model, optimizer, loss_fn, train_loader, device)\n",
        "print(f\"The average loss during the training epoch was {loss_value:.2f}.\")\n",
        "\n",
        "# output\n",
        "The average loss during the training epoch was 0.56.\n"
      ],
      "metadata": {
        "id": "_cxIn9mfjIEK"
      },
      "execution_count": null,
      "outputs": []
    },
    {
      "cell_type": "markdown",
      "source": [
        "Running another epoch gives a new value"
      ],
      "metadata": {
        "id": "smMx-NgOkKIo"
      }
    },
    {
      "cell_type": "code",
      "source": [
        "loss_value = train_epoch(model, optimizer, loss_fn, train_loader, device)\n",
        "print(f\"The average loss during the training epoch was {loss_value:.2f}.\")\n",
        "\n",
        "#output\n",
        "The average loss during the training epoch was 0.51.\n"
      ],
      "metadata": {
        "id": "Ea8VjJXXkUDw"
      },
      "execution_count": null,
      "outputs": []
    },
    {
      "cell_type": "markdown",
      "source": [
        "**Predict Accuracy Probability**"
      ],
      "metadata": {
        "id": "A1X8GMe_jiVw"
      }
    },
    {
      "cell_type": "code",
      "source": [],
      "metadata": {
        "id": "FwPQVJSCkSJQ"
      },
      "execution_count": null,
      "outputs": []
    },
    {
      "cell_type": "markdown",
      "source": [
        "The loss function we're using in this problem, the cross-entropy, is difficult for humans to interpret. We know that lower is better, but is that number good or bad? To help us humans judge, we'll calculate the accuracy of the model, the fraction of predictions it gets right. To do that, we need the model to make predictions."
      ],
      "metadata": {
        "id": "jYVKpzdOj2KP"
      }
    },
    {
      "cell_type": "markdown",
      "source": [
        "The following function will make a prediction for each row of data in data_loader, using model. As with the train_epoch function above, it's a bit daunting. The comments explain what each section does."
      ],
      "metadata": {
        "id": "e7CiqQC9j-Cw"
      }
    },
    {
      "cell_type": "code",
      "source": [
        "def predict(model, data_loader, device=\"cpu\"):\n",
        "    # This tensor will store all of the predictions.\n",
        "    all_probs = torch.tensor([]).to(device)\n",
        "\n",
        "    # We set the model to evaluation mode. This mode is the opposite of\n",
        "    # train mode we set in the train_epoch function.\n",
        "    model.eval()\n",
        "\n",
        "    # Since we're not training, we don't need any gradient calculations.\n",
        "    # This tells PyTorch not to calculate any gradients, which speeds up\n",
        "    # some calculations.\n",
        "    with torch.no_grad():\n",
        "\n",
        "        # Again, we iterate over the batches in the data loader and feed\n",
        "        # them into the model for the forward pass.\n",
        "        for inputs, targets in tqdm(data_loader, desc=\"Predicting\", leave=False):\n",
        "            inputs = inputs.to(device)\n",
        "            output = model(inputs)\n",
        "\n",
        "            # The model produces the logits.  This softmax function turns the\n",
        "            # logits into probabilities.  These probabilities are concatenated\n",
        "            # into the `all_probs` tensor.\n",
        "            probs = F.softmax(output, dim=1)\n",
        "            all_probs = torch.cat((all_probs, probs), dim=0)\n",
        "\n",
        "    return all_probs"
      ],
      "metadata": {
        "id": "y_A5ivSIlSHQ"
      },
      "execution_count": null,
      "outputs": []
    },
    {
      "cell_type": "markdown",
      "source": [
        "We'll demo using the function above with the *training data*."
      ],
      "metadata": {
        "id": "9QwIIaG0lfkZ"
      }
    },
    {
      "cell_type": "code",
      "source": [
        "probabilities_train = predict(model, train_loader, device)\n",
        "print(probabilities_train.shape)\n",
        "\n",
        "# output\n",
        "torch.Size([2553, 2])"
      ],
      "metadata": {
        "id": "n919eq1Xlkub"
      },
      "execution_count": null,
      "outputs": []
    },
    {
      "cell_type": "markdown",
      "source": [
        "The first dimension (2553) of this tensor is the same as the size of our data set because it has made a prediction for each row.\n",
        "The Second (2) is the number of probalities that our model predicts"
      ],
      "metadata": {
        "id": "lVaFG7-Ll03f"
      }
    },
    {
      "cell_type": "code",
      "source": [
        "# check the length of train_data to confirm\n",
        "len(train_loader.dataset)\n",
        "\n",
        "# output\n",
        "2553"
      ],
      "metadata": {
        "id": "ZU_bKQ94mLko"
      },
      "execution_count": null,
      "outputs": []
    },
    {
      "cell_type": "markdown",
      "source": [
        "**Task 1.3.15:** Make a prediction for each row of the *validation data*."
      ],
      "metadata": {
        "id": "lXhHuQq4mKtp"
      }
    },
    {
      "cell_type": "code",
      "source": [
        "probabilities_val = predict(model, val_loader, device)\n",
        "print(probabilities_val.shape)\n",
        "\n",
        "# outout\n",
        "torch.Size([638, 2])"
      ],
      "metadata": {
        "id": "-1olxvQ_mkfA"
      },
      "execution_count": null,
      "outputs": []
    },
    {
      "cell_type": "markdown",
      "source": [
        "**Get Probalities**"
      ],
      "metadata": {
        "id": "LvdgZoTXngjw"
      }
    },
    {
      "cell_type": "markdown",
      "source": [
        "What are the predictions that predict returned? Let's take a closer look."
      ],
      "metadata": {
        "id": "FBMAF9tJndu_"
      }
    },
    {
      "cell_type": "code",
      "source": [
        "print(probabilities_train[0])\n",
        "\n",
        "# output\n",
        "tensor([0.9612, 0.0388], device='cuda:0')"
      ],
      "metadata": {
        "id": "LrfK83NmnpFn"
      },
      "execution_count": null,
      "outputs": []
    },
    {
      "cell_type": "markdown",
      "source": [
        "We see two numbers here. The first is the probability that this image is of the first class (\"blank\") and the second is the probability that it's of the second class (\"hog\"). Because these are the only two possibilities, they should add up to one."
      ],
      "metadata": {
        "id": "MV5ik6b8n6GR"
      }
    },
    {
      "cell_type": "code",
      "source": [
        "probabilities_train[0].sum()\n",
        "\n",
        "# output\n",
        "tensor(1., device='cuda:0')"
      ],
      "metadata": {
        "id": "0mJ2Pw6Mn745"
      },
      "execution_count": null,
      "outputs": []
    },
    {
      "cell_type": "markdown",
      "source": [
        "\n",
        "**Task 1.3.16:** Print out the prediction for the first row of the validation set."
      ],
      "metadata": {
        "id": "B5Ca56o7oECJ"
      }
    },
    {
      "cell_type": "code",
      "source": [
        "# Print the probabilities of the first row\n",
        "print(probabilities_val[0])\n",
        "\n",
        "# output\n",
        "tensor([0.6012, 0.3988], device='cuda:0')"
      ],
      "metadata": {
        "id": "QaQZ_Nfio7JH"
      },
      "execution_count": null,
      "outputs": []
    },
    {
      "cell_type": "markdown",
      "source": [
        "**Task 1.3.17:** Sum the probabilities to show that they indeed sum to one."
      ],
      "metadata": {
        "id": "XgA_5TSipA7H"
      }
    },
    {
      "cell_type": "code",
      "source": [
        "total_probability = probabilities_val[0].sum()\n",
        "print(f\"Sum of probabilities: {total_probability.item()}\")\n",
        "\n",
        "# output\n",
        "Sum of probabilities: 1.0"
      ],
      "metadata": {
        "id": "5Lo14rFhpbO5"
      },
      "execution_count": null,
      "outputs": []
    },
    {
      "cell_type": "markdown",
      "source": [
        "**torch.argmax()**\n",
        "\n",
        "To make a prediction from these probabilities, we predict the class with the highest probability for each row. This can be done with the **torch.argmax** function, like so:"
      ],
      "metadata": {
        "id": "1mtNO_qvp3SP"
      }
    },
    {
      "cell_type": "code",
      "source": [
        "predictions_train = torch.argmax(probabilities_train, dim=1)\n",
        "\n",
        "print(f\"Predictions shape: {predictions_train.shape}\")\n",
        "print(f\"First 10 predictions: {predictions_train[:10]}\")\n",
        "\n",
        "# output\n",
        "Predictions shape: torch.Size([2553])\n",
        "First 10 predictions: tensor([0, 0, 1, 0, 0, 0, 1, 0, 0, 0], device='cuda:0')"
      ],
      "metadata": {
        "id": "ggJQYoTZqjO6"
      },
      "execution_count": null,
      "outputs": []
    },
    {
      "cell_type": "markdown",
      "source": [
        "**Task 1.3.18:** Predict the most likely class label using the validation set."
      ],
      "metadata": {
        "id": "m96jpNgirFCp"
      }
    },
    {
      "cell_type": "code",
      "source": [
        "predictions_val = torch.argmax(probabilities_val, dim=1)\n",
        "\n",
        "print(f\"Predictions shape: {predictions_val.shape}\")\n",
        "print(f\"First 10 predictions: {predictions_val[:10]}\")\n",
        "\n",
        "# output\n",
        "Predictions shape: torch.Size([638])\n",
        "First 10 predictions: tensor([1, 0, 1, 1, 1, 1, 1, 0, 0, 1], device='cuda:0')"
      ],
      "metadata": {
        "id": "yHIBdNN5rHl_"
      },
      "execution_count": null,
      "outputs": []
    },
    {
      "cell_type": "markdown",
      "source": [
        "**Validation Accuracy**"
      ],
      "metadata": {
        "id": "dfLXA9SeNBya"
      }
    },
    {
      "cell_type": "markdown",
      "source": [
        "**torch.eq function**\n",
        "\n",
        "We'll compare the training set predictions to the actual class labels for the training set. The torch.eq function will help with this. We'll find the fraction that are correct. This is the accuracy."
      ],
      "metadata": {
        "id": "lBSoR7K-MLRA"
      }
    },
    {
      "cell_type": "code",
      "source": [
        "targets_train = torch.cat([labels for _, labels in train_loader]).to(device)\n",
        "is_correct_train = torch.eq(predictions_train, targets_train)\n",
        "total_correct_train = torch.sum(is_correct_train).item()\n",
        "accuracy_train = total_correct_train / len(train_loader.dataset)\n",
        "\n",
        "print(f\"Accuracy on the training data: {accuracy_train}\")\n",
        "\n",
        "# output\n",
        "Accuracy on the training data: 0.4954954954954955\n"
      ],
      "metadata": {
        "id": "bj-mlYS6NXMX"
      },
      "execution_count": null,
      "outputs": []
    },
    {
      "cell_type": "markdown",
      "source": [
        "**Task 1.3.19:** Calculate the accuracy of the model on the validation set."
      ],
      "metadata": {
        "id": "qeH5clJSOxYA"
      }
    },
    {
      "cell_type": "code",
      "source": [
        "targets_val = torch.cat([labels for _, labels in val_loader]).to(device)\n",
        "is_correct_val = torch.eq(predictions_val, targets_val)\n",
        "total_correct_val = torch.sum(is_correct_val).item()\n",
        "accuracy_val = total_correct_val / len(val_loader.dataset)\n",
        "\n",
        "print(f\"Accuracy on the validation data: {accuracy_val}\")\n",
        "\n",
        "# output\n",
        "Accuracy on the validation data: 0.5830721003134797"
      ],
      "metadata": {
        "id": "Lr1HRRQsOy04"
      },
      "execution_count": null,
      "outputs": []
    },
    {
      "cell_type": "markdown",
      "source": [
        "**Validation Confirmation**"
      ],
      "metadata": {
        "id": "L1AS_3UUQcTP"
      }
    },
    {
      "cell_type": "markdown",
      "source": [
        "There was a lot of work we did to get the accuracy. It's more efficient to do this calculation batch by batch. It's best we wrap that code into a function. The score function, below, does just that. It's very similar to the prediction function, but instead of gathering all the predictions, it just calculates the number of correct predictions in each batch. It also calculates the loss function over the whole batch. We'll use this to compare the loss function value on the training set and the validation set, to understand if there's any overfitting."
      ],
      "metadata": {
        "id": "vAdZI856P3B4"
      }
    },
    {
      "cell_type": "code",
      "source": [
        "def score(model, data_loader, loss_fn, device=\"cpu\"):\n",
        "    # Initialize the total loss (cross entropy) and the number of correct\n",
        "    # predictions. We'll increment these values as we loop through the\n",
        "    # data.\n",
        "    total_loss = 0\n",
        "    total_correct = 0\n",
        "\n",
        "    # We set the model to evaluation mode. This mode is the opposite of\n",
        "    # train mode we set in the train_epoch function.\n",
        "    model.eval()\n",
        "\n",
        "    # Since we're not training, we don't need any gradient calculations.\n",
        "    # This tells PyTorch not to calculate any gradients, which speeds up\n",
        "    # some calculations.\n",
        "    with torch.no_grad():\n",
        "        # We iterate over the batches in the data loader and feed\n",
        "        # them into the model for the forward pass.\n",
        "        for inputs, targets in tqdm(data_loader, desc=\"Scoring\", leave=False):\n",
        "            inputs = inputs.to(device)\n",
        "            output = model(inputs)\n",
        "\n",
        "            # Calculating the loss function for this batch\n",
        "            targets = targets.to(device)\n",
        "            loss = loss_fn(output, targets)\n",
        "            total_loss += loss.data.item() * inputs.size(0)\n",
        "\n",
        "            # Calculating the correct predictions for this batch\n",
        "            correct = torch.eq(torch.argmax(output, dim=1), targets)\n",
        "            total_correct += torch.sum(correct).item()\n",
        "\n",
        "    return total_loss / len(data_loader.dataset), total_correct / len(\n",
        "        data_loader.dataset\n",
        "    )"
      ],
      "metadata": {
        "id": "jgzoWkIpP_UU"
      },
      "execution_count": null,
      "outputs": []
    },
    {
      "cell_type": "markdown",
      "source": [
        "In the cell below, we show how easy it's to use the `score` function."
      ],
      "metadata": {
        "id": "82xJ5MY9QFRh"
      }
    },
    {
      "cell_type": "code",
      "source": [
        "loss_train, accuracy_train = score(model, train_loader, loss_fn, device)\n",
        "print(f\"Training accuracy from score function: {accuracy_train}\")\n",
        "\n",
        "# output\n",
        "Training accuracy from score function: 0.6028202115158637"
      ],
      "metadata": {
        "id": "5IyvlpMmQGbx"
      },
      "execution_count": null,
      "outputs": []
    },
    {
      "cell_type": "markdown",
      "source": [
        "**Task 1.3.20:** Use the score function on the validation data, and check that we get the same accuracy as we computed above."
      ],
      "metadata": {
        "id": "OFYiiw4WQul5"
      }
    },
    {
      "cell_type": "code",
      "source": [
        "loss_val, accuracy_val = score(model, val_loader, loss_fn, device)\n",
        "print(f\"Validation accuracy from score function: {accuracy_val}\")\n",
        "\n",
        "# output\n",
        "Validation accuracy from score function: 0.5830721003134797\n"
      ],
      "metadata": {
        "id": "UV2YFLBXQwPj"
      },
      "execution_count": null,
      "outputs": []
    },
    {
      "cell_type": "markdown",
      "source": [
        "**Extended Epoch Training**"
      ],
      "metadata": {
        "id": "SuTpNDNPSaWh"
      }
    },
    {
      "cell_type": "markdown",
      "source": [
        "We now have the pieces we need for our training loop. This loop will run over a number of epochs, calling the train_epoch function and the score function, and printing out some diagnostic information so we can see how the training is going."
      ],
      "metadata": {
        "id": "8ekIVlZARn9H"
      }
    },
    {
      "cell_type": "code",
      "source": [
        "def train(model, optimizer, loss_fn, train_loader, val_loader, epochs=20, device=\"cpu\"):\n",
        "\n",
        "    for epoch in range(1, epochs + 1):\n",
        "        # Run train_epoch once, and capture the training loss.\n",
        "        training_loss = train_epoch(model, optimizer, loss_fn, train_loader, device)\n",
        "\n",
        "        # Score the model on the validation data.\n",
        "        validation_loss, validation_accuracy = score(model, val_loader, loss_fn, device)\n",
        "\n",
        "        print(\n",
        "            f\"Epoch: {epoch}, Training Loss: {training_loss:.2f}, \"\n",
        "            f\"Validation Loss: {validation_loss:.2f}, Validation Accuracy: {validation_accuracy:.2f}\"\n",
        "        )"
      ],
      "metadata": {
        "id": "jMgnKbpwSZ5Y"
      },
      "execution_count": null,
      "outputs": []
    },
    {
      "cell_type": "markdown",
      "source": [
        "Now that we've defined the function for training, let's use it."
      ],
      "metadata": {
        "id": "LOpTnRu4T5E-"
      }
    },
    {
      "cell_type": "code",
      "source": [
        "train(model, optimizer, loss_fn, train_loader, val_loader, epochs=5, device=device)\n",
        "\n",
        "# output\n",
        "Epoch: 1, Training Loss: 0.58, Validation Loss: 0.45, Validation Accuracy: 0.82\n",
        "Epoch: 2, Training Loss: 0.54, Validation Loss: 0.54, Validation Accuracy: 0.81\n",
        "Epoch: 3, Training Loss: 0.48, Validation Loss: 0.41, Validation Accuracy: 0.84\n",
        "Epoch: 4, Training Loss: 0.47, Validation Loss: 0.39, Validation Accuracy: 0.87\n",
        "Epoch: 5, Training Loss: 0.46, Validation Loss: 0.42, Validation Accuracy: 0.84"
      ],
      "metadata": {
        "id": "VjesFeo5T97Y"
      },
      "execution_count": null,
      "outputs": []
    },
    {
      "cell_type": "markdown",
      "source": [
        "\n",
        "Notice how the training loss goes down and the accuracy goes up after each epoch. Can we do better? Let's try. Recall how a nice feature of neural networks is that we can pause and continue training without having to start from scratch."
      ],
      "metadata": {
        "id": "SJ4u4oTlUpgl"
      }
    },
    {
      "cell_type": "markdown",
      "source": [
        "\n",
        "**Task 1.3.21:** Continue training the model for two more epochs."
      ],
      "metadata": {
        "id": "JtnB1zXUUrvI"
      }
    },
    {
      "cell_type": "code",
      "source": [
        "train(model, optimizer, loss_fn, train_loader, val_loader, epochs=2, device=device)\n",
        "\n",
        "#output\n",
        "\n",
        "Epoch: 1, Training Loss: 0.44, Validation Loss: 0.35, Validation Accuracy: 0.87\n",
        "Epoch: 2, Training Loss: 0.46, Validation Loss: 0.51, Validation Accuracy: 0.76"
      ],
      "metadata": {
        "id": "dWhyWihqUtAo"
      },
      "execution_count": null,
      "outputs": []
    },
    {
      "cell_type": "markdown",
      "source": [
        "How many epochs should we train for? To answer that question, we need to balance between underfitting and overfitting. For now, we can train for more epochs until we observe the validation score is not improving or is actually getting worse. In future projects, we'll create a visualization called a learning curve to help us decide the correct number of epochs."
      ],
      "metadata": {
        "id": "pJWaLhFpVE6Y"
      }
    },
    {
      "cell_type": "markdown",
      "source": [
        "**Activity**"
      ],
      "metadata": {
        "id": "6CZf9LTcVu7m"
      }
    },
    {
      "cell_type": "markdown",
      "source": [
        "Load the pre-trained model with the following line:"
      ],
      "metadata": {
        "id": "DWIi29EIVy0f"
      }
    },
    {
      "cell_type": "code",
      "source": [
        "model = torch.load(\"model/trained_model.pth\", weights_only=False)"
      ],
      "metadata": {
        "id": "VGFC3R75V5Lo"
      },
      "execution_count": null,
      "outputs": []
    },
    {
      "cell_type": "markdown",
      "source": [
        "\n",
        "Now with our model trained we want to see how well it performs."
      ],
      "metadata": {
        "id": "OOGETI9fV6oh"
      }
    },
    {
      "cell_type": "markdown",
      "source": [
        "\n",
        "**Task 1.3.22**: Make a prediction for each image in the validation set.\n",
        "Using the predict function, make predictions for each image in the validation set. Store your results in the variable predictions_val."
      ],
      "metadata": {
        "id": "8ZJbAuZBWA4q"
      }
    },
    {
      "cell_type": "code",
      "source": [
        "probabilities_val = predict(model, val_loader, device)\n",
        "predictions_val = torch.argmax(probabilities_val, dim=1)\n",
        "print(predictions_val[:10])\n",
        "\n",
        "# output\n",
        "\n",
        "tensor([1, 0, 0, 0, 1, 0, 1, 0, 0, 0], device='cuda:0')"
      ],
      "metadata": {
        "id": "7Ap7UC3oWG13"
      },
      "execution_count": null,
      "outputs": []
    },
    {
      "cell_type": "markdown",
      "source": [
        "**Confusion matrix**\n",
        "\n",
        "Accuracy only gives us a simplified view of how well the model performed. We'd like to see how many of the mistakes were from predicting a hog when it's really not a hog, and vice versus. In short, we want a confusion matrix."
      ],
      "metadata": {
        "id": "nxDxKdyJXPDw"
      }
    },
    {
      "cell_type": "code",
      "source": [
        "cm = confusion_matrix(targets_val.cpu(), predictions_val.cpu())\n",
        "disp = ConfusionMatrixDisplay(confusion_matrix=cm, display_labels=[\"blank\", \"hog\"])\n",
        "\n",
        "disp.plot(cmap=plt.cm.Blues, xticks_rotation=\"vertical\");"
      ],
      "metadata": {
        "id": "K2mnRz3DXWO-"
      },
      "execution_count": null,
      "outputs": []
    },
    {
      "cell_type": "markdown",
      "source": [
        "![Screenshot 2025-02-13 135321.png](data:image/png;base64,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)"
      ],
      "metadata": {
        "id": "FAPSbViuXxK3"
      }
    },
    {
      "cell_type": "markdown",
      "source": [
        "69% of our validation data is the blank class. If our errors are proportionally distributed, we should expect about 69% of our errors to be when we predict \"blank\" instead of hog. Are the errors uniformly distributed?\n",
        "\n",
        "Let's run our model on one chosen image of a hog."
      ],
      "metadata": {
        "id": "oqn6B2YsX37j"
      }
    },
    {
      "cell_type": "code",
      "source": [
        "img_path = os.path.join(data_dir, \"train/hog/ZJ000072.jpg\")"
      ],
      "metadata": {
        "id": "RKzuIhdbYQ2A"
      },
      "execution_count": null,
      "outputs": []
    },
    {
      "cell_type": "code",
      "source": [
        "from IPython.display import Image as JupyterImage\n",
        "JupyterImage(filename=img_path)"
      ],
      "metadata": {
        "id": "-f2BGefJYTCv"
      },
      "execution_count": null,
      "outputs": []
    },
    {
      "cell_type": "markdown",
      "source": [
        "![Screenshot 2025-02-13 135631.png](data:image/png;base64,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)"
      ],
      "metadata": {
        "id": "zGehegL2YPXo"
      }
    },
    {
      "cell_type": "code",
      "source": [
        "labels = [\"blank\", \"hog\"]\n",
        "\n",
        "img = Image.open(os.path.join(data_dir, \"train/hog/ZJ000072.jpg\"))\n",
        "img = transform(img).to(device)\n",
        "img = torch.unsqueeze(img, 0)\n",
        "\n",
        "model.eval()\n",
        "prediction = F.softmax(model(img), dim=1)\n",
        "prediction = prediction.argmax()\n",
        "print(labels[prediction])\n",
        "\n",
        "# output\n",
        "hog"
      ],
      "metadata": {
        "id": "AZruzjTFYmpi"
      },
      "execution_count": null,
      "outputs": []
    },
    {
      "cell_type": "markdown",
      "source": [
        "Our model predicted correctly! But how confident was it's prediction? Neural networks are probabilistic classifiers. The probabilities are obtained by running the model outputs through the softmax function."
      ],
      "metadata": {
        "id": "Sfw_G76ZYhpI"
      }
    },
    {
      "cell_type": "code",
      "source": [
        "F.softmax(model(img), dim=1)\n",
        "\n",
        "# output\n",
        "tensor([[0.0129, 0.9871]], device='cuda:0', grad_fn=<SoftmaxBackward0>)"
      ],
      "metadata": {
        "id": "i34EHIgkYyrA"
      },
      "execution_count": null,
      "outputs": []
    },
    {
      "cell_type": "markdown",
      "source": [
        "Looks like our model determines that the probability the image shows a hog is much greater than 50%. It's fairly confident that it's correct. These probabilities are useful as they can help us decide whether we should take any action based on the model's prediction. For example, if images are being collected and analyzed in real time, we may only want to alert conservation staff if we're really confident we have spotted a hog."
      ],
      "metadata": {
        "id": "69tTG0j6ZFQn"
      }
    },
    {
      "cell_type": "markdown",
      "source": [
        "# Saving Models"
      ],
      "metadata": {
        "id": "5olU7Z0bZX9c"
      }
    },
    {
      "cell_type": "markdown",
      "source": [
        "We can either save the entire model using save or just the parameters using state_dict. Using the latter is normally preferable, as it allows you to reuse parameters even if the model's structure changes (or apply parameters from one model to another). Saving the model avoids having to retrain the model the next time we want to use it."
      ],
      "metadata": {
        "id": "YAtgL_N9ZbJH"
      }
    },
    {
      "cell_type": "code",
      "source": [
        "torch.save(model, os.path.join(\"model\", \"shallownet\"))\n",
        "model = torch.load(os.path.join(\"model\", \"shallownet\"))"
      ],
      "metadata": {
        "id": "t5tVxDsaZmfo"
      },
      "execution_count": null,
      "outputs": []
    },
    {
      "cell_type": "code",
      "source": [
        "torch.save(model.state_dict(), os.path.join(\"model\", \"shallownet\"))\n",
        "new_model = nn.Sequential(\n",
        "    nn.Flatten(),\n",
        "    nn.Linear(3 * height * width, 512),\n",
        "    nn.ReLU(),\n",
        "    nn.Linear(512, 128),\n",
        "    nn.ReLU(),\n",
        "    nn.Linear(128, 2),\n",
        ")\n",
        "model_state_dict = torch.load(os.path.join(\"model\", \"shallownet\"))\n",
        "new_model.load_state_dict(model_state_dict)\n",
        "\n",
        "# output\n",
        "<All keys matched successfully>"
      ],
      "metadata": {
        "id": "CcTuuusHZsmA"
      },
      "execution_count": null,
      "outputs": []
    },
    {
      "cell_type": "markdown",
      "source": [
        "**Summary**\n",
        "\n",
        "We built our very first neural network model. Here are the key ideas from this notebook:\n",
        "\n",
        "* Our data often needs to be preprocessed. In our case, we had to resize to a standard size and make sure all images were in RGB mode. transform.Compose made it easy to define a preprocessing pipeline.\n",
        "* The fully connected model is made up of layers where the output of one layer is fully connected to all nodes in the next layer.\n",
        "* We used nn.Sequential to easily build our model's architecture by defining the order of the layers.\n",
        "* Training involves iterating through the training set. One pass through the data is called an epoch. An optimizer uses a loss function to determine how to best adjust a model's weights."
      ],
      "metadata": {
        "id": "UcHtm3FXaQlV"
      }
    }
  ]
}