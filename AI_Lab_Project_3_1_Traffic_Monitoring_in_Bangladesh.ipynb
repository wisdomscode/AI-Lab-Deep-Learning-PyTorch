{
  "nbformat": 4,
  "nbformat_minor": 0,
  "metadata": {
    "colab": {
      "provenance": [],
      "authorship_tag": "ABX9TyNwNWIMEdjVyIaTwv/t+mwF",
      "include_colab_link": true
    },
    "kernelspec": {
      "name": "python3",
      "display_name": "Python 3"
    },
    "language_info": {
      "name": "python"
    }
  },
  "cells": [
    {
      "cell_type": "markdown",
      "metadata": {
        "id": "view-in-github",
        "colab_type": "text"
      },
      "source": [
        "<a href=\"https://colab.research.google.com/github/wisdomscode/AI-Lab-Deep-Learning-PyTorch/blob/main/AI_Lab_Project_3_1_Traffic_Monitoring_in_Bangladesh.ipynb\" target=\"_parent\"><img src=\"https://colab.research.google.com/assets/colab-badge.svg\" alt=\"Open In Colab\"/></a>"
      ]
    },
    {
      "cell_type": "markdown",
      "source": [
        "### Starting to use `pathlib`"
      ],
      "metadata": {
        "id": "9rY1T55VTJWt"
      }
    },
    {
      "cell_type": "markdown",
      "source": [
        "The pathlib module in Python provides an elegant interface for working with file system paths. The pathlib module offers many advantages over the older os.path way, such as a consistent way to handle paths across different operating systems. The pathlib module does this by treating paths as objects rather than strings. The module also provides methods for common file operations, making tasks like listing directory contents, creating directories, and searching for files more straightforward.\n",
        "\n"
      ],
      "metadata": {
        "id": "aTsFDIJqTCnc"
      }
    },
    {
      "cell_type": "markdown",
      "source": [
        "### Starting to use `pathlib`"
      ],
      "metadata": {
        "id": "NH1Y9MMgTaGk"
      }
    },
    {
      "cell_type": "markdown",
      "source": [
        "The first step is to import the `Path` class from `pathlib` module with the `from pathlib import Path` statement. This single import gives you access to a powerful set of tools for path manipulation and file system operations."
      ],
      "metadata": {
        "id": "4IkBMFM0Tn6c"
      }
    },
    {
      "cell_type": "code",
      "execution_count": 1,
      "metadata": {
        "id": "whG_Z4hxSu3b"
      },
      "outputs": [],
      "source": [
        "from pathlib import Path"
      ]
    },
    {
      "cell_type": "markdown",
      "source": [
        "Let's access the home directory with `Path.home()`. Note that method-based operation is cross-platform, thus the same code will work the same regardless of the operating system."
      ],
      "metadata": {
        "id": "azlX3-jFTxUa"
      }
    },
    {
      "cell_type": "code",
      "source": [
        "home_directory = Path.home()\n",
        "print(home_directory)"
      ],
      "metadata": {
        "colab": {
          "base_uri": "https://localhost:8080/"
        },
        "id": "771AKswGT1Ts",
        "outputId": "74019128-8406-4f17-ec63-438be53bb50f"
      },
      "execution_count": 2,
      "outputs": [
        {
          "output_type": "stream",
          "name": "stdout",
          "text": [
            "/root\n"
          ]
        }
      ]
    },
    {
      "cell_type": "markdown",
      "source": [
        "Now it's your turn to try to use the `Path` class to explore the file system."
      ],
      "metadata": {
        "id": "VXB9J0gTT-zC"
      }
    },
    {
      "cell_type": "markdown",
      "source": [
        "**Task 3.1.1:** Find the current working directory using the `cwd` method on `Path`."
      ],
      "metadata": {
        "id": "o2wtrJZ0UBNr"
      }
    },
    {
      "cell_type": "code",
      "source": [
        "current_working_directory = Path.cwd()\n",
        "print(current_working_directory)"
      ],
      "metadata": {
        "colab": {
          "base_uri": "https://localhost:8080/"
        },
        "id": "-QG5CGE1Up5D",
        "outputId": "20544aca-7a92-4d6d-afee-70ee89f88903"
      },
      "execution_count": 3,
      "outputs": [
        {
          "output_type": "stream",
          "name": "stdout",
          "text": [
            "/content\n"
          ]
        }
      ]
    },
    {
      "cell_type": "markdown",
      "source": [
        "### The forward slash (/) operator"
      ],
      "metadata": {
        "id": "V--DbsjxVBaL"
      }
    },
    {
      "cell_type": "markdown",
      "source": [
        "The forward slash (`/`) operator in `pathlib` is used for path joining. The `/` operator allows you to combine multiple Path objects or strings to create new paths. It automatically uses the correct path separator for the current operating system (`/` for Unix-based systems and `\\` for Windows). As a result, the same code can run on different operating systems without any rewriting.\n",
        "\n",
        "Below is an example of creating a variable that combines a Path object with several other elements. Note that since this only is a variable right now, it does not need to reference an actual location."
      ],
      "metadata": {
        "id": "N-O8zeriVDvU"
      }
    },
    {
      "cell_type": "code",
      "source": [
        "path = Path(\"folder\") / \"subfolder\" / \"file.txt\"\n",
        "print(path)"
      ],
      "metadata": {
        "colab": {
          "base_uri": "https://localhost:8080/"
        },
        "id": "zX7FcYKpVeAz",
        "outputId": "f958e247-5426-4e6f-aa19-0e046fc8de87"
      },
      "execution_count": 4,
      "outputs": [
        {
          "output_type": "stream",
          "name": "stdout",
          "text": [
            "folder/subfolder/file.txt\n"
          ]
        }
      ]
    },
    {
      "cell_type": "markdown",
      "source": [
        "**Task 3.1.2:** Create a variable that defines a folder named \"scripts\" in the current directory.\n"
      ],
      "metadata": {
        "id": "yl8f9Te_Vh6U"
      }
    },
    {
      "cell_type": "code",
      "source": [
        "current_working_directory = Path.cwd()\n",
        "scripts_path = current_working_directory/Path(\"scripts\")\n",
        "print(scripts_path)"
      ],
      "metadata": {
        "colab": {
          "base_uri": "https://localhost:8080/"
        },
        "id": "VlZfra2LWAsb",
        "outputId": "36a5184a-ef41-41e8-be0d-d96d12888805"
      },
      "execution_count": 5,
      "outputs": [
        {
          "output_type": "stream",
          "name": "stdout",
          "text": [
            "/content/scripts\n"
          ]
        }
      ]
    },
    {
      "cell_type": "markdown",
      "source": [
        "Python Path objects are different from Python strings (`str`). The addition operator (`+`) for Python string does not work with Python Path objects. The forward slash (`/`) operator has to be used with Python Path objects."
      ],
      "metadata": {
        "id": "T9Z4WCcSWLBD"
      }
    },
    {
      "cell_type": "markdown",
      "source": [
        "**Task 3.1.3:** Change the operator to work with a Python Path object."
      ],
      "metadata": {
        "id": "rwZN6wQbWRHL"
      }
    },
    {
      "cell_type": "code",
      "source": [
        "path = Path(\"scripts\") / \"tests\" / \"tests.py\"\n",
        "print(path)"
      ],
      "metadata": {
        "colab": {
          "base_uri": "https://localhost:8080/"
        },
        "id": "1VieYuS0WYlT",
        "outputId": "dd69338f-addf-4789-ff07-5fac4d1fd737"
      },
      "execution_count": 6,
      "outputs": [
        {
          "output_type": "stream",
          "name": "stdout",
          "text": [
            "scripts/tests/tests.py\n"
          ]
        }
      ]
    },
    {
      "cell_type": "markdown",
      "source": [
        "### Absolute vs. Relative Paths"
      ],
      "metadata": {
        "id": "RGGfuloNWcqT"
      }
    },
    {
      "cell_type": "markdown",
      "source": [
        "When working with paths, it's important to understand the distinction between absolute and relative paths. Absolute paths provide the complete route from the root directory to the specified location, while relative paths are based on the current working directory. `pathlib` allows you to create both types: an absolute path might look like `Path('/home/jovyan')` and a relative path could be `Path('03-traffic-in-dhaka/lessons')`. Note that a relative path doesn't start with a root directory indicator (like \"/\" on Unix-based systems or \"C:\" on Windows).\n",
        "\n",
        "Below is an example of converting a relative path to an absolute path by prepending the absolute path to the beginning of the relative path."
      ],
      "metadata": {
        "id": "bGrDHrPudGT9"
      }
    },
    {
      "cell_type": "code",
      "source": [
        "relative_path = Path(\"config\", \"settings\")\n",
        "absolute_path = Path.home() / relative_path\n",
        "print(absolute_path)"
      ],
      "metadata": {
        "colab": {
          "base_uri": "https://localhost:8080/"
        },
        "id": "nezAdwh4d16S",
        "outputId": "1b6c7f7c-e824-4f3c-dfc5-88495855a795"
      },
      "execution_count": 7,
      "outputs": [
        {
          "output_type": "stream",
          "name": "stdout",
          "text": [
            "/root/config/settings\n"
          ]
        }
      ]
    },
    {
      "cell_type": "markdown",
      "source": [
        "**Task 3.1.4:** Convert a relative path to an absolute path based on `Path.cwd()`."
      ],
      "metadata": {
        "id": "2nUyGvHbd7JM"
      }
    },
    {
      "cell_type": "code",
      "source": [
        "relative_path = Path(\"scripts\", \"tests\")\n",
        "absolute_path = Path.home() / relative_path\n",
        "print(absolute_path)"
      ],
      "metadata": {
        "colab": {
          "base_uri": "https://localhost:8080/"
        },
        "id": "s6ZCvh32eLyb",
        "outputId": "96975bc2-531c-40fe-dbc9-d7122a441599"
      },
      "execution_count": 8,
      "outputs": [
        {
          "output_type": "stream",
          "name": "stdout",
          "text": [
            "/root/scripts/tests\n"
          ]
        }
      ]
    },
    {
      "cell_type": "markdown",
      "source": [
        "### Listing directory contents"
      ],
      "metadata": {
        "id": "R_yMm2SrePsL"
      }
    },
    {
      "cell_type": "markdown",
      "source": [
        "Instances of the `Path` class have the `iterdir` method which iterates over the contents, files and subdirectories, of a given directory. Calling the `iterdir` method returns an iterator that doesn't load all the results into memory at once.\n",
        "\n",
        "Below is an example of using the `iterdir` method."
      ],
      "metadata": {
        "id": "OTRAhJCgen2W"
      }
    },
    {
      "cell_type": "code",
      "source": [
        "current_working_directory = Path.cwd()\n",
        "print(current_working_directory.iterdir())"
      ],
      "metadata": {
        "colab": {
          "base_uri": "https://localhost:8080/"
        },
        "id": "4LF5z8n4e02s",
        "outputId": "b1e6f1f6-8f2c-4e8a-c666-8d03981e7764"
      },
      "execution_count": 9,
      "outputs": [
        {
          "output_type": "stream",
          "name": "stdout",
          "text": [
            "<generator object Path.iterdir at 0x7a5efdbe5d20>\n"
          ]
        }
      ]
    },
    {
      "cell_type": "markdown",
      "source": [
        "An iterator can be looped over in Python."
      ],
      "metadata": {
        "id": "A6WxpAmde5Ib"
      }
    },
    {
      "cell_type": "code",
      "source": [
        "current_working_directory = Path.cwd()\n",
        "for item in current_working_directory.iterdir():\n",
        "    print(item)"
      ],
      "metadata": {
        "colab": {
          "base_uri": "https://localhost:8080/"
        },
        "id": "CmRiQHyLe7au",
        "outputId": "85e23ca9-e645-45c6-c49d-adc8a42afd97"
      },
      "execution_count": 10,
      "outputs": [
        {
          "output_type": "stream",
          "name": "stdout",
          "text": [
            "/content/.config\n",
            "/content/sample_data\n"
          ]
        }
      ]
    },
    {
      "cell_type": "markdown",
      "source": [
        "`iterdir()` returns an iterator, not a list. That means you can't directly print it or get its length."
      ],
      "metadata": {
        "id": "DYu5vD3RfLSD"
      }
    },
    {
      "cell_type": "code",
      "source": [
        "print(Path.cwd().iterdir())"
      ],
      "metadata": {
        "colab": {
          "base_uri": "https://localhost:8080/"
        },
        "id": "7riysBEXfVPd",
        "outputId": "a6011d8a-9d82-4196-b5fd-d12badaac57d"
      },
      "execution_count": 11,
      "outputs": [
        {
          "output_type": "stream",
          "name": "stdout",
          "text": [
            "<generator object Path.iterdir at 0x7a5efdbe5d20>\n"
          ]
        }
      ]
    },
    {
      "cell_type": "markdown",
      "source": [
        "If you want to load the data into memory all at once, the iterator can be cast into a list."
      ],
      "metadata": {
        "id": "Q9at2GTIfaRL"
      }
    },
    {
      "cell_type": "code",
      "source": [
        "# Cast to list before printing\n",
        "print(list(Path.cwd().iterdir()))"
      ],
      "metadata": {
        "colab": {
          "base_uri": "https://localhost:8080/"
        },
        "id": "r_38X4lAfm8x",
        "outputId": "31c36bd4-165e-49fa-d28f-79f3d2188b44"
      },
      "execution_count": 12,
      "outputs": [
        {
          "output_type": "stream",
          "name": "stdout",
          "text": [
            "[PosixPath('/content/.config'), PosixPath('/content/sample_data')]\n"
          ]
        }
      ]
    },
    {
      "cell_type": "markdown",
      "source": [
        "**Task 3.1.5:** Fix the code to get the number elements in the current directory with `len`."
      ],
      "metadata": {
        "id": "JesGbCvhftQc"
      }
    },
    {
      "cell_type": "code",
      "source": [
        "current_dir_iter = Path.cwd().iterdir()\n",
        "\n",
        "# Fix the code\n",
        "num_elements = len(list(current_dir_iter))\n",
        "print(f\"Length {num_elements}\")"
      ],
      "metadata": {
        "colab": {
          "base_uri": "https://localhost:8080/"
        },
        "id": "1aKH6ZVXgxNW",
        "outputId": "890c8edd-1fef-49ff-c8c7-03777660a911"
      },
      "execution_count": 13,
      "outputs": [
        {
          "output_type": "stream",
          "name": "stdout",
          "text": [
            "Length 2\n"
          ]
        }
      ]
    },
    {
      "cell_type": "markdown",
      "source": [
        "### Making directories"
      ],
      "metadata": {
        "id": "KxVg8Neyg4VL"
      }
    },
    {
      "cell_type": "markdown",
      "source": [
        "The `pathlib` module has a convenient way to create a new directory. Create an instance of a `Path` class that specifies the location of this new directory, then call the `mkdir` method to actually create it.\n",
        "\n",
        "Below is an example of how this is done. If this cell is run twice it will generate a `FileExistsError`."
      ],
      "metadata": {
        "id": "9MZlGliQg699"
      }
    },
    {
      "cell_type": "code",
      "source": [
        "scripts_dir = Path.cwd() / \"scripts\"\n",
        "scripts_dir.mkdir()\n",
        "\n",
        "print(scripts_dir)"
      ],
      "metadata": {
        "colab": {
          "base_uri": "https://localhost:8080/"
        },
        "id": "a_P8-CQkhMoV",
        "outputId": "fb3f176e-882a-4cf5-ade3-e51d96322f31"
      },
      "execution_count": 14,
      "outputs": [
        {
          "output_type": "stream",
          "name": "stdout",
          "text": [
            "/content/scripts\n"
          ]
        }
      ]
    },
    {
      "cell_type": "markdown",
      "source": [
        "Adding the keyword argument `exist_ok=True` prevents raising an error if the directory already exists."
      ],
      "metadata": {
        "id": "SQ37yhWBhaMD"
      }
    },
    {
      "cell_type": "code",
      "source": [
        "scripts_dir = Path.cwd() / \"scripts\"\n",
        "scripts_dir.mkdir(exist_ok=True)"
      ],
      "metadata": {
        "id": "_Vd-omTChfH7"
      },
      "execution_count": null,
      "outputs": []
    },
    {
      "cell_type": "markdown",
      "source": [
        "**Task 3.1.6:** Make a \"tests\" folder in the current directory, even it already exists."
      ],
      "metadata": {
        "id": "7z8dzGQrhisc"
      }
    },
    {
      "cell_type": "code",
      "source": [
        "tests_dir = Path.cwd()/\"tests\"\n",
        "tests_dir.mkdir(exist_ok=True)\n",
        "\n",
        "print(tests_dir)"
      ],
      "metadata": {
        "colab": {
          "base_uri": "https://localhost:8080/"
        },
        "id": "tEGz9K4Rh7Mk",
        "outputId": "b9cdde24-c1b7-461f-f0c5-59faee854b3b"
      },
      "execution_count": 16,
      "outputs": [
        {
          "output_type": "stream",
          "name": "stdout",
          "text": [
            "/content/tests\n"
          ]
        }
      ]
    },
    {
      "cell_type": "markdown",
      "source": [
        "### Glob patterns"
      ],
      "metadata": {
        "id": "GMiOyYUkiEus"
      }
    },
    {
      "cell_type": "markdown",
      "source": [
        "Glob allows you to search for files and directories using wildcard patterns, making it handy to find files with certain suffixes. We can use the glob to find all the TrueType font (`.ttf`) files in the current directory."
      ],
      "metadata": {
        "id": "F1jn3kyXiWlk"
      }
    },
    {
      "cell_type": "code",
      "source": [
        "current_working_directory = Path.cwd()\n",
        "all_ttf_files = current_working_directory.glob(\"*.ttf\")\n",
        "for file in all_ttf_files:\n",
        "    print(file)"
      ],
      "metadata": {
        "colab": {
          "base_uri": "https://localhost:8080/"
        },
        "id": "k7UHR928idoe",
        "outputId": "83d70d5c-000b-4750-c392-b7e348b5e432"
      },
      "execution_count": 17,
      "outputs": [
        {
          "output_type": "stream",
          "name": "stdout",
          "text": [
            "/content/Arial.ttf\n"
          ]
        }
      ]
    },
    {
      "cell_type": "markdown",
      "source": [
        "**Task 3.1.7:** Find all the Jupyter Notebooks (`.ipynb`) in the current directory."
      ],
      "metadata": {
        "id": "YXgxrZCsjMwM"
      }
    },
    {
      "cell_type": "code",
      "source": [
        "current_working_directory = Path.cwd()\n",
        "all_ipynb_files = current_working_directory.glob(\"*ipynb\")\n",
        "for file in all_ipynb_files:\n",
        "    print(file)"
      ],
      "metadata": {
        "colab": {
          "base_uri": "https://localhost:8080/"
        },
        "id": "XkS46h_8jcXM",
        "outputId": "bdffa376-b357-4725-ef61-ac4986fc50ba"
      },
      "execution_count": 18,
      "outputs": [
        {
          "output_type": "stream",
          "name": "stdout",
          "text": [
            "/content/sample1.ipynb\n",
            "/content/sample2.ipynb\n"
          ]
        }
      ]
    },
    {
      "cell_type": "markdown",
      "source": [
        "In summary, the `pathlib` module provides a powerful and intuitive way to work with file systems in Python. The module's object-oriented approach to handling paths simplifies common operations like listing directory contents, creating directories, and searching for files."
      ],
      "metadata": {
        "id": "vpvfNdEYjkH8"
      }
    }
  ]
}