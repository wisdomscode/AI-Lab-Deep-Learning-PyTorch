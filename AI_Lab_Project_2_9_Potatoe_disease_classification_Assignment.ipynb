{
  "nbformat": 4,
  "nbformat_minor": 0,
  "metadata": {
    "colab": {
      "provenance": [],
      "authorship_tag": "ABX9TyNkk1xIXmbdREdZzHU6/HM3",
      "include_colab_link": true
    },
    "kernelspec": {
      "name": "python3",
      "display_name": "Python 3"
    },
    "language_info": {
      "name": "python"
    }
  },
  "cells": [
    {
      "cell_type": "markdown",
      "metadata": {
        "id": "view-in-github",
        "colab_type": "text"
      },
      "source": [
        "<a href=\"https://colab.research.google.com/github/wisdomscode/AI-Lab-Deep-Learning-PyTorch/blob/main/AI_Lab_Project_2_9_Potatoe_disease_classification_Assignment.ipynb\" target=\"_parent\"><img src=\"https://colab.research.google.com/assets/colab-badge.svg\" alt=\"Open In Colab\"/></a>"
      ]
    },
    {
      "cell_type": "markdown",
      "source": [
        "### Potatoes Disease Classification"
      ],
      "metadata": {
        "id": "2wfifnzK3w7v"
      }
    },
    {
      "cell_type": "markdown",
      "source": [
        "Potatoes are a key vegetable grown worldwide, and are a staple of many diets. But many diseases affect their production, most notoriously blight. For this assignment, we will be given images of potato leaves that have two different kinds of blight (Early blight and Late blight) and healthy leaves. Our task will be to make a classifier that can tell them apart."
      ],
      "metadata": {
        "id": "rs5W4bjI4D9l"
      }
    },
    {
      "cell_type": "markdown",
      "source": [
        "**Prepare the Environment**"
      ],
      "metadata": {
        "id": "dziYguOC4J_y"
      }
    },
    {
      "cell_type": "code",
      "execution_count": null,
      "metadata": {
        "id": "hHxowx9T3scd"
      },
      "outputs": [],
      "source": [
        "import os\n",
        "\n",
        "import matplotlib.pyplot as plt\n",
        "\n",
        "import torch\n",
        "import torch.nn as nn\n",
        "import torch.optim as optim\n",
        "from torch.utils.data import DataLoader, random_split\n",
        "from torchinfo import summary\n",
        "from torchvision import datasets, models, transforms\n",
        "\n",
        "# Important! Don't change this\n",
        "torch.backends.cudnn.deterministic = True"
      ]
    },
    {
      "cell_type": "markdown",
      "source": [
        "We'll be making large networks, so we'll get the GPU if it's available."
      ],
      "metadata": {
        "id": "gIzgu-yN4Tiz"
      }
    },
    {
      "cell_type": "code",
      "source": [
        "if torch.cuda.is_available():\n",
        "    device = \"cuda\"\n",
        "elif torch.backends.mps.is_available():\n",
        "    device = \"mps\"\n",
        "else:\n",
        "    device = \"cpu\"\n",
        "\n",
        "print(f\"Using {device} device.\")\n",
        "\n",
        "#output\n",
        "Using cuda device.\n"
      ],
      "metadata": {
        "id": "YBMqnuBB4ao2"
      },
      "execution_count": null,
      "outputs": []
    },
    {
      "cell_type": "markdown",
      "source": [
        "### Load and Explore the Data"
      ],
      "metadata": {
        "id": "0Xu5Dyp34kAy"
      }
    },
    {
      "cell_type": "code",
      "source": [
        "!ls -l potato_dataset/\n",
        "\n",
        "#output\n",
        "total 8\n",
        "drwxr-xr-x 3 root root 4096 Nov 14 11:56 test\n",
        "drwxr-xr-x 5 root root 4096 Nov 14 11:56 train"
      ],
      "metadata": {
        "id": "U5LJektR4l7T"
      },
      "execution_count": null,
      "outputs": []
    },
    {
      "cell_type": "markdown",
      "source": [
        "This has created a directory called `potato_dataset`. In there we have a directory called `train` and a directory called `test`. In the `train` directory, images from each class are contained in separate subdirectories, where the name of each subdirectory is the name of the class.\n",
        "\n",
        "Our ultimate goal in this assignment is to train our classification model, and then submit predictions about the `test` images to the grader.\n",
        "\n",
        "For start, let's explore the data a bit!"
      ],
      "metadata": {
        "id": "6GfsL89l5E67"
      }
    },
    {
      "cell_type": "markdown",
      "source": [
        "**Task 2.7.1:** Make a list of the names of the classes we'll be working with."
      ],
      "metadata": {
        "id": "LvVwzV8s5k7N"
      }
    },
    {
      "cell_type": "code",
      "source": [
        "train_dir = os.path.join('potato_dataset', 'train')\n",
        "classes = os.listdir(train_dir)\n",
        "\n",
        "print(classes)\n",
        "print(f\"Number of classes: {len(classes)}\")\n",
        "\n",
        "#output\n",
        "['Potato_Late_blight', 'Potato_healthy', 'Potato_Early_blight']\n",
        "Number of classes: 3"
      ],
      "metadata": {
        "id": "9Aw2xgCK5jE8"
      },
      "execution_count": null,
      "outputs": []
    },
    {
      "cell_type": "markdown",
      "source": [
        "Now we're ready to start preparing our dataset. For now, let's use the following set of transformations:\n",
        "\n",
        "- Convert any grayscale images to RGB format with a custom class\n",
        "- Resize the image, so that they're all the same size (we chose $224$ x $224$)\n",
        "- Convert the image to a Tensor of pixel values"
      ],
      "metadata": {
        "id": "EmGO-pYq6k-R"
      }
    },
    {
      "cell_type": "markdown",
      "source": [
        "**Task 2.7.2:** Create the transformation pipeline with steps listed above by using `transforms.Compose` from the `torchvision` package."
      ],
      "metadata": {
        "id": "LzQairr76tUT"
      }
    },
    {
      "cell_type": "code",
      "source": [
        "height = 224\n",
        "width = 224\n",
        "\n",
        "\n",
        "class ConvertToRGB:\n",
        "    def __call__(self, img):\n",
        "        if img.mode != \"RGB\":\n",
        "            img = img.convert(\"RGB\")\n",
        "        return img\n",
        "\n",
        "\n",
        "transform = transforms.Compose(\n",
        "     [\n",
        "        ConvertToRGB(),\n",
        "        transforms.Resize((height, width)),\n",
        "        transforms.ToTensor()\n",
        "    ]\n",
        ")\n",
        "\n",
        "print(transform)\n",
        "\n",
        "#output\n",
        "Compose(\n",
        "    <__main__.ConvertToRGB object at 0x781ddc454b10>\n",
        "    Resize(size=(224, 224), interpolation=bilinear, max_size=None, antialias=True)\n",
        "    ToTensor()\n",
        ")"
      ],
      "metadata": {
        "id": "fC6L5l-z8QkL"
      },
      "execution_count": null,
      "outputs": []
    },
    {
      "cell_type": "markdown",
      "source": [
        "Let's create the dataset and apply our transformations.\n",
        "\n",
        "**Task 2.7.3:** Make a dataset using `ImageFolder` from `datasets` and make sure to apply the `transform` transformation pipeline."
      ],
      "metadata": {
        "id": "mwZw1U6g8eDc"
      }
    },
    {
      "cell_type": "code",
      "source": [
        "dataset = datasets.ImageFolder(root=train_dir, transform=transform)\n",
        "\n",
        "print(\"Length of dataset:\", len(dataset))\n",
        "\n",
        "#output\n",
        "Length of dataset: 421\n"
      ],
      "metadata": {
        "id": "6xMF4HMo88Gj"
      },
      "execution_count": null,
      "outputs": []
    },
    {
      "cell_type": "markdown",
      "source": [
        "Notice how small this training data is, we have just 421 images in total.\n",
        "\n",
        "**Task 2.7.4:** Use this dataset to create a `DataLoader` with batch size 32."
      ],
      "metadata": {
        "id": "BnStT7jZ9Drh"
      }
    },
    {
      "cell_type": "code",
      "source": [
        "batch_size = 32\n",
        "dataset_loader = DataLoader(dataset, batch_size=batch_size)\n",
        "\n",
        "batch_shape = next(iter(dataset_loader))[0].shape\n",
        "print(\"Getting batches of shape:\", batch_shape)\n",
        "\n",
        "#output\n",
        "Getting batches of shape: torch.Size([32, 3, 224, 224])\n"
      ],
      "metadata": {
        "id": "KQ05CjKY_xSC"
      },
      "execution_count": null,
      "outputs": []
    },
    {
      "cell_type": "markdown",
      "source": [
        "Now we can think about normalizing our dataset, so each color channel has a mean of $0$ and a standard deviation of $1$. In order to do this, we first need to get the mean and standard deviation of each channel in this dataset.\n",
        "\n",
        "The `get_mean_std` function we used in the lessons is included in the `training.py` file for this assignment. Let's import it."
      ],
      "metadata": {
        "id": "ypEbNZkvGvU1"
      }
    },
    {
      "cell_type": "code",
      "source": [
        "from training import get_mean_std"
      ],
      "metadata": {
        "id": "azRKPpshGyt9"
      },
      "execution_count": null,
      "outputs": []
    },
    {
      "cell_type": "markdown",
      "source": [
        "**Task 2.7.5:** Use function `get_mean_std` described above and calculate the mean and standard deviation of each channel in this dataset."
      ],
      "metadata": {
        "id": "SXh_xMJuG0qM"
      }
    },
    {
      "cell_type": "code",
      "source": [
        "mean, std = get_mean_std(dataset_loader)\n",
        "\n",
        "print(f\"Mean: {mean}\")\n",
        "print(f\"Standard deviation: {std}\")\n",
        "\n",
        "#output\n",
        "Mean: tensor([0.4938, 0.5135, 0.4351])\n",
        "Standard deviation: tensor([0.1843, 0.1563, 0.2023])"
      ],
      "metadata": {
        "id": "kJq0bh6wH4Fz"
      },
      "execution_count": null,
      "outputs": []
    },
    {
      "cell_type": "markdown",
      "source": [
        "Great! Now we can improve our original transformation pipeline. We'll take the previous one, and add normalization of the channels according to the mean and standard deviation you computed in the previous task. Our transformations should now look like:\n",
        "\n",
        "- Convert any grayscale images to RGB format with a custom class\n",
        "- Resize the image, so that they're all the same size (we chose $224$ x $224$)\n",
        "- Convert the image to a Tensor of pixel values\n",
        "- Normalize the data using `transforms.Normalize`\n",
        "\n",
        "**Task 2.7.6:** Build this new transformation pipeline."
      ],
      "metadata": {
        "id": "2WG9xxt-IC61"
      }
    },
    {
      "cell_type": "code",
      "source": [
        "transform_norm = transforms.Compose(\n",
        "    [\n",
        "        ConvertToRGB(),\n",
        "        transforms.Resize((224, 224)),\n",
        "        transforms.ToTensor(),\n",
        "        transforms.Normalize(mean=mean, std=std)\n",
        "    ]\n",
        "\n",
        ")\n",
        "\n",
        "print(transform_norm)\n",
        "\n",
        "#output\n",
        "Compose(\n",
        "    <__main__.ConvertToRGB object at 0x76da347ba350>\n",
        "    Resize(size=(224, 224), interpolation=bilinear, max_size=None, antialias=True)\n",
        "    ToTensor()\n",
        "    Normalize(mean=tensor([0.4938, 0.5135, 0.4351]), std=tensor([0.1843, 0.1563, 0.2023]))\n",
        ")"
      ],
      "metadata": {
        "id": "RRcHkFAXJhhW"
      },
      "execution_count": null,
      "outputs": []
    },
    {
      "cell_type": "markdown",
      "source": [
        "**Task 2.7.7:** Create a normalized data set, using the transformation pipeline from the previous task. Also split the normalized data set into a training set and a validation set. 80% of the data should be in the training set, and 20% in the validation set."
      ],
      "metadata": {
        "id": "GSZjAZ4bJ9Vk"
      }
    },
    {
      "cell_type": "code",
      "source": [
        "# Important! don't change this.\n",
        "g = torch.Generator()\n",
        "g.manual_seed(42)\n",
        "\n",
        "norm_dataset = datasets.ImageFolder(root=train_dir, transform=transform_norm)\n",
        "\n",
        "# Important, DON'T change the `generator=g` parameter\n",
        "train_dataset, val_dataset = random_split(norm_dataset, [0.8, 0.2], generator=g)\n",
        "\n",
        "print(\"Length of dataset:\", len(norm_dataset))\n",
        "print(\"Training data set size:\", len(train_dataset))\n",
        "print(\"Validation data set size:\", len(val_dataset))\n",
        "\n",
        "#output\n",
        "Length of dataset: 421\n",
        "Training data set size: 337\n",
        "Validation data set size: 84"
      ],
      "metadata": {
        "id": "RbVpslxwLMS_"
      },
      "execution_count": null,
      "outputs": []
    },
    {
      "cell_type": "markdown",
      "source": [
        "Now let's create `DataLoader` objects. We'll use a batch size of 32 and create one `DataLoader` for training and another for validation data.\n",
        "\n",
        "**Task 2.7.8:** Create the training loader (with shuffling on) and the validation loader (with shuffling off)."
      ],
      "metadata": {
        "id": "SomA-hzALUhk"
      }
    },
    {
      "cell_type": "code",
      "source": [
        "# Important! don't change this.\n",
        "g = torch.Generator()\n",
        "g.manual_seed(42)\n",
        "\n",
        "batch_size = 32\n",
        "\n",
        "# Important! Don't change the `generator=g` parameter\n",
        "train_loader = DataLoader(train_dataset, batch_size=batch_size, shuffle=True, generator=g)\n",
        "val_loader = DataLoader(val_dataset, batch_size=batch_size, shuffle=False)\n",
        "\n",
        "print(type(train_loader))\n",
        "print(type(val_loader))\n",
        "\n",
        "#output\n",
        "<class 'torch.utils.data.dataloader.DataLoader'>\n",
        "<class 'torch.utils.data.dataloader.DataLoader'>"
      ],
      "metadata": {
        "id": "w_Psy4BLMA4O"
      },
      "execution_count": null,
      "outputs": []
    },
    {
      "cell_type": "markdown",
      "source": [
        "### Defining and Training a Model"
      ],
      "metadata": {
        "id": "yW_FGtkSMJ88"
      }
    },
    {
      "cell_type": "markdown",
      "source": [
        "We'll start by building a convolutional neural network from scratch."
      ],
      "metadata": {
        "id": "Qeguacd7MKxA"
      }
    },
    {
      "cell_type": "markdown",
      "source": [
        "**Task 2.7.9:** Fill in the missing code below to define a neural network with the following layers:\n",
        "- 2D convolution with **sixteen** $3\\times3$ kernels\n",
        "- Max pooling with $4\\times4$ kernels (and a stride of $4\\times4$)\n",
        "- ReLU activation\n",
        "- 2D convolution with **thirty-two** $3\\times3$ kernels\n",
        "- Max pooling with $4\\times4$ kernels\n",
        "- ReLU activation\n",
        "- 2D convolution with **sixty-four** $3\\times3$ kernels\n",
        "- Max pooling with $4\\times4$ kernels\n",
        "- ReLU activation\n",
        "- Flattening\n",
        "- Drop-out\n",
        "- Linear layer with $500$ outputs\n",
        "- ReLU activation\n",
        "- Drop-out\n",
        "- Linear output layer with the **correct number of outputs**"
      ],
      "metadata": {
        "id": "KgefDRkUMORO"
      }
    },
    {
      "cell_type": "code",
      "source": [
        "# Important! Don't change this\n",
        "torch.manual_seed(42)\n",
        "torch.cuda.manual_seed(42)\n",
        "\n",
        "model = torch.nn.Sequential()\n",
        "conv1_n_kernels = 16\n",
        "conv1 = torch.nn.Conv2d(\n",
        "    in_channels=3, out_channels=conv1_n_kernels, kernel_size=(3, 3), padding=1\n",
        ")\n",
        "max_pool_size = 4\n",
        "max_pool1 = torch.nn.MaxPool2d(max_pool_size)\n",
        "model.append(conv1)\n",
        "model.append(torch.nn.ReLU())\n",
        "model.append(max_pool1)\n",
        "\n",
        "conv2_n_kernels = 32\n",
        "conv2 = torch.nn.Conv2d(\n",
        "    in_channels=16, out_channels=conv2_n_kernels, kernel_size=(3, 3), padding=1\n",
        ")\n",
        "max_pool2 = torch.nn.MaxPool2d(max_pool_size)\n",
        "model.append(conv2)\n",
        "model.append(torch.nn.ReLU())\n",
        "model.append(max_pool2)\n",
        "\n",
        "conv3_n_kernels = 64\n",
        "conv3 = torch.nn.Conv2d(32, conv3_n_kernels, 3, padding=1)\n",
        "max_pool3 = torch.nn.MaxPool2d(max_pool_size)\n",
        "model.append(conv3)\n",
        "model.append(torch.nn.ReLU())\n",
        "model.append(max_pool3)\n",
        "\n",
        "model.append(torch.nn.Flatten())\n",
        "model.append(torch.nn.Dropout())\n",
        "\n",
        "linear1 = torch.nn.Linear(in_features=576, out_features=500)\n",
        "model.append(linear1)\n",
        "model.append(torch.nn.ReLU())\n",
        "model.append(torch.nn.Dropout())\n",
        "\n",
        "n_classes = 3\n",
        "output_layer = torch.nn.Linear(500, n_classes)\n",
        "model.append(output_layer)\n",
        "\n",
        "summary(model, input_size=(batch_size, 3, height, width))\n",
        "\n",
        "#output\n",
        "==========================================================================================\n",
        "Layer (type:depth-idx)                   Output Shape              Param #\n",
        "==========================================================================================\n",
        "Sequential                               [32, 3]                   --\n",
        "├─Conv2d: 1-1                            [32, 16, 224, 224]        448\n",
        "├─ReLU: 1-2                              [32, 16, 224, 224]        --\n",
        "├─MaxPool2d: 1-3                         [32, 16, 56, 56]          --\n",
        "├─Conv2d: 1-4                            [32, 32, 56, 56]          4,640\n",
        "├─ReLU: 1-5                              [32, 32, 56, 56]          --\n",
        "├─MaxPool2d: 1-6                         [32, 32, 14, 14]          --\n",
        "├─Conv2d: 1-7                            [32, 64, 14, 14]          18,496\n",
        "├─ReLU: 1-8                              [32, 64, 14, 14]          --\n",
        "├─MaxPool2d: 1-9                         [32, 64, 3, 3]            --\n",
        "├─Flatten: 1-10                          [32, 576]                 --\n",
        "├─Dropout: 1-11                          [32, 576]                 --\n",
        "├─Linear: 1-12                           [32, 500]                 288,500\n",
        "├─ReLU: 1-13                             [32, 500]                 --\n",
        "├─Dropout: 1-14                          [32, 500]                 --\n",
        "├─Linear: 1-15                           [32, 3]                   1,503\n",
        "==========================================================================================\n",
        "Total params: 313,587\n",
        "Trainable params: 313,587\n",
        "Non-trainable params: 0\n",
        "Total mult-adds (Units.GIGABYTES): 1.31\n",
        "==========================================================================================\n",
        "Input size (MB): 19.27\n",
        "Forward/backward pass size (MB): 234.55\n",
        "Params size (MB): 1.25\n",
        "Estimated Total Size (MB): 255.07\n",
        "=========================================================================================="
      ],
      "metadata": {
        "id": "dOiwo0leMRcl"
      },
      "execution_count": null,
      "outputs": []
    },
    {
      "cell_type": "markdown",
      "source": [
        "**Task 2.7.10:** Define cross-entropy as the loss function and set Adam optimizer to be the optimizer. You can use the default learning settings on Adam (but it needs to know what parameters to use, so don't forget `model.parameters()`). Make sure to also send the model to the GPU device."
      ],
      "metadata": {
        "id": "qSzMd6LSPEk0"
      }
    },
    {
      "cell_type": "code",
      "source": [
        "loss_fn = nn.CrossEntropyLoss()\n",
        "\n",
        "optimizer = optim.Adam(model.parameters(), lr=0.001)\n",
        "\n",
        "# Make sure to send the model to the GPU\n",
        "model.to(device)\n",
        "\n",
        "print(loss_fn)\n",
        "print(\"----------------------\")\n",
        "print(optimizer)\n",
        "print(\"----------------------\")\n",
        "print(next(model.parameters()).device)\n",
        "\n",
        "#output\n",
        "CrossEntropyLoss()\n",
        "----------------------\n",
        "Adam (\n",
        "Parameter Group 0\n",
        "    amsgrad: False\n",
        "    betas: (0.9, 0.999)\n",
        "    capturable: False\n",
        "    differentiable: False\n",
        "    eps: 1e-08\n",
        "    foreach: None\n",
        "    fused: None\n",
        "    lr: 0.001\n",
        "    maximize: False\n",
        "    weight_decay: 0\n",
        ")\n",
        "----------------------\n",
        "cuda:0"
      ],
      "metadata": {
        "id": "e20z84beQAxI"
      },
      "execution_count": null,
      "outputs": []
    },
    {
      "cell_type": "markdown",
      "source": [
        "For training the model, we can first use the functions we have in the `training.py` file. This model should train fairly quickly with such a small dataset, so we should leave the `use_train_accuracy` at default (slower training, better information).\n",
        "\n",
        "**Task 2.7.11:** Use the `train` function from `training.py` to train the model for 15 epochs."
      ],
      "metadata": {
        "id": "MKeHEN6vQPP8"
      }
    },
    {
      "cell_type": "code",
      "source": [
        "# Import the train function from `training.py`\n",
        "from training import train\n",
        "\n",
        "# Train the model for 15 epochs\n",
        "epochs = 15\n",
        "\n",
        "train_losses, val_losses, train_accuracies, val_accuracies = train(model, optimizer, loss_fn, train_loader, val_loader, epochs=epochs, device=device)\n",
        "\n",
        "#output\n",
        "Epoch: 1\n",
        "    Training loss: 0.94\n",
        "    Training accuracy: 0.41\n",
        "    Validation loss: 0.91\n",
        "    Validation accuracy: 0.32\n",
        "Epoch: 2\n",
        "    Training loss: 0.61\n",
        "    Training accuracy: 0.73\n",
        "    Validation loss: 0.62\n",
        "    Validation accuracy: 0.60\n",
        "Epoch: 3\n",
        "    Training loss: 0.69\n",
        "    Training accuracy: 0.64\n",
        "    Validation loss: 0.61\n",
        "    Validation accuracy: 0.61\n",
        "Epoch: 4\n",
        "    Training loss: 0.47\n",
        "    Training accuracy: 0.82\n",
        "    Validation loss: 0.47\n",
        "    Validation accuracy: 0.67\n",
        "Epoch: 5\n",
        "    Training loss: 0.32\n",
        "    Training accuracy: 0.86\n",
        "    Validation loss: 0.38\n",
        "    Validation accuracy: 0.73\n",
        "Epoch: 6\n",
        "    Training loss: 0.23\n",
        "    Training accuracy: 0.88\n",
        "    Validation loss: 0.32\n",
        "    Validation accuracy: 0.72\n",
        "Epoch: 7\n",
        "    Training loss: 0.18\n",
        "    Training accuracy: 0.91\n",
        "    Validation loss: 0.25\n",
        "    Validation accuracy: 0.74\n",
        "Epoch: 8\n",
        "    Training loss: 0.17\n",
        "    Training accuracy: 0.89\n",
        "    Validation loss: 0.28\n",
        "    Validation accuracy: 0.73\n",
        "Epoch: 9\n",
        "    Training loss: 0.19\n",
        "    Training accuracy: 0.88\n",
        "    Validation loss: 0.33\n",
        "    Validation accuracy: 0.74\n",
        "Epoch: 10\n",
        "    Training loss: 0.13\n",
        "    Training accuracy: 0.91\n",
        "    Validation loss: 0.22\n",
        "    Validation accuracy: 0.77\n",
        "Epoch: 11\n",
        "    Training loss: 0.09\n",
        "    Training accuracy: 0.93\n",
        "    Validation loss: 0.16\n",
        "    Validation accuracy: 0.78\n",
        "Epoch: 12\n",
        "    Training loss: 0.07\n",
        "    Training accuracy: 0.94\n",
        "    Validation loss: 0.15\n",
        "    Validation accuracy: 0.81\n",
        "Error displaying widget: model not found\n",
        "Epoch: 13\n",
        "    Training loss: 0.07\n",
        "    Training accuracy: 0.93\n",
        "    Validation loss: 0.17\n",
        "    Validation accuracy: 0.77\n",
        "Error displaying widget: model not found\n",
        "Error displaying widget: model not found\n",
        "Error displaying widget: model not found\n",
        "Epoch: 14\n",
        "    Training loss: 0.07\n",
        "    Training accuracy: 0.93\n",
        "    Validation loss: 0.18\n",
        "    Validation accuracy: 0.77\n",
        "Error displaying widget: model not found\n",
        "Error displaying widget: model not found\n",
        "Error displaying widget: model not found\n",
        "Epoch: 15\n",
        "    Training loss: 0.05\n",
        "    Training accuracy: 0.94\n",
        "    Validation loss: 0.16\n",
        "    Validation accuracy: 0.80"
      ],
      "metadata": {
        "id": "nhaY7IhiRoVE"
      },
      "execution_count": null,
      "outputs": []
    },
    {
      "cell_type": "markdown",
      "source": [
        "Let's plot the learning curve as well as train and validation accuracies."
      ],
      "metadata": {
        "id": "isDO3dvGR2kE"
      }
    },
    {
      "cell_type": "code",
      "source": [
        "plt.figure(figsize=(12, 5))\n",
        "\n",
        "plt.subplot(1, 2, 1)\n",
        "plt.plot(train_losses, label=\"Training Loss\")\n",
        "plt.plot(val_losses, label=\"Validation Loss\")\n",
        "plt.title(\"Loss over epochs\")\n",
        "plt.xlabel(\"Epochs\")\n",
        "plt.ylabel(\"Loss\")\n",
        "plt.legend()\n",
        "\n",
        "plt.subplot(1, 2, 2)\n",
        "plt.plot(train_accuracies, label=\"Training Accuracy\")\n",
        "plt.plot(val_accuracies, label=\"Validation Accuracy\")\n",
        "plt.title(\"Accuracy over epochs\")\n",
        "plt.xlabel(\"Epochs\")\n",
        "plt.ylabel(\"Accuracy\")\n",
        "plt.legend()\n",
        "\n",
        "plt.show()"
      ],
      "metadata": {
        "id": "w-HnWIR9SCNE"
      },
      "execution_count": null,
      "outputs": []
    },
    {
      "cell_type": "markdown",
      "source": [
        "![Screenshot 2025-03-08 112400.png](data:image/png;base64,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)"
      ],
      "metadata": {
        "id": "tTs4qyTlSDBW"
      }
    },
    {
      "cell_type": "markdown",
      "source": [
        "If everything was set up correctly, you'll notice that some learning happened. Well done! The results are not too bad, but we can do better. We could invest energy in preventing overfitting and improving the model, and training longer. But the biggest problem is that our dataset is small. A problem like this calls for Transfer Learning!"
      ],
      "metadata": {
        "id": "Q6u4n4cVSKRj"
      }
    },
    {
      "cell_type": "markdown",
      "source": [
        "### Transfer Learning"
      ],
      "metadata": {
        "id": "KpNn2dcTSZhu"
      }
    },
    {
      "cell_type": "markdown",
      "source": [
        "With so little data, we would be well served by getting a model that's been trained on a larger dataset. The `restnet50` model we used in the lessons does well with a variety of images. Let's fetch that model and use it for Transfer Learning."
      ],
      "metadata": {
        "id": "TZ-RZhR7SkLO"
      }
    },
    {
      "cell_type": "markdown",
      "source": [
        "**Task 2.7.12:** Set up the `resnet50` model. We'll alter it to suit our task in subsequent steps."
      ],
      "metadata": {
        "id": "cID-glgXSmEf"
      }
    },
    {
      "cell_type": "code",
      "source": [
        "model = models.resnet50(weights=models.ResNet50_Weights.DEFAULT)\n",
        "\n",
        "print(model)\n",
        "\n",
        "#output\n",
        "ResNet(\n",
        "  (conv1): Conv2d(3, 64, kernel_size=(7, 7), stride=(2, 2), padding=(3, 3), bias=False)\n",
        "  (bn1): BatchNorm2d(64, eps=1e-05, momentum=0.1, affine=True, track_running_stats=True)\n",
        "  (relu): ReLU(inplace=True)\n",
        "  (maxpool): MaxPool2d(kernel_size=3, stride=2, padding=1, dilation=1, ceil_mode=False)\n",
        "  (layer1): Sequential(\n",
        "    (0): Bottleneck(\n",
        "      (conv1): Conv2d(64, 64, kernel_size=(1, 1), stride=(1, 1), bias=False)\n",
        "      (bn1): BatchNorm2d(64, eps=1e-05, momentum=0.1, affine=True, track_running_stats=True)\n",
        "      (conv2): Conv2d(64, 64, kernel_size=(3, 3), stride=(1, 1), padding=(1, 1), bias=False)\n",
        "      (bn2): BatchNorm2d(64, eps=1e-05, momentum=0.1, affine=True, track_running_stats=True)\n",
        "      (conv3): Conv2d(64, 256, kernel_size=(1, 1), stride=(1, 1), bias=False)\n",
        "      (bn3): BatchNorm2d(256, eps=1e-05, momentum=0.1, affine=True, track_running_stats=True)\n",
        "      (relu): ReLU(inplace=True)\n",
        "      (downsample): Sequential(\n",
        "        (0): Conv2d(64, 256, kernel_size=(1, 1), stride=(1, 1), bias=False)\n",
        "        (1): BatchNorm2d(256, eps=1e-05, momentum=0.1, affine=True, track_running_stats=True)\n",
        "      )\n",
        "    )\n",
        "    (1): Bottleneck(\n",
        "      (conv1): Conv2d(256, 64, kernel_size=(1, 1), stride=(1, 1), bias=False)\n",
        "      (bn1): BatchNorm2d(64, eps=1e-05, momentum=0.1, affine=True, track_running_stats=True)\n",
        "      (conv2): Conv2d(64, 64, kernel_size=(3, 3), stride=(1, 1), padding=(1, 1), bias=False)\n",
        "      (bn2): BatchNorm2d(64, eps=1e-05, momentum=0.1, affine=True, track_running_stats=True)\n",
        "      (conv3): Conv2d(64, 256, kernel_size=(1, 1), stride=(1, 1), bias=False)\n",
        "      (bn3): BatchNorm2d(256, eps=1e-05, momentum=0.1, affine=True, track_running_stats=True)\n",
        "      (relu): ReLU(inplace=True)\n",
        "    )\n",
        "    (2): Bottleneck(\n",
        "      (conv1): Conv2d(256, 64, kernel_size=(1, 1), stride=(1, 1), bias=False)\n",
        "      (bn1): BatchNorm2d(64, eps=1e-05, momentum=0.1, affine=True, track_running_stats=True)\n",
        "      (conv2): Conv2d(64, 64, kernel_size=(3, 3), stride=(1, 1), padding=(1, 1), bias=False)\n",
        "      (bn2): BatchNorm2d(64, eps=1e-05, momentum=0.1, affine=True, track_running_stats=True)\n",
        "      (conv3): Conv2d(64, 256, kernel_size=(1, 1), stride=(1, 1), bias=False)\n",
        "      (bn3): BatchNorm2d(256, eps=1e-05, momentum=0.1, affine=True, track_running_stats=True)\n",
        "      (relu): ReLU(inplace=True)\n",
        "    )\n",
        "  )\n",
        "  (layer2): Sequential(\n",
        "    (0): Bottleneck(\n",
        "      (conv1): Conv2d(256, 128, kernel_size=(1, 1), stride=(1, 1), bias=False)\n",
        "      (bn1): BatchNorm2d(128, eps=1e-05, momentum=0.1, affine=True, track_running_stats=True)\n",
        "      (conv2): Conv2d(128, 128, kernel_size=(3, 3), stride=(2, 2), padding=(1, 1), bias=False)\n",
        "      (bn2): BatchNorm2d(128, eps=1e-05, momentum=0.1, affine=True, track_running_stats=True)\n",
        "      (conv3): Conv2d(128, 512, kernel_size=(1, 1), stride=(1, 1), bias=False)\n",
        "      (bn3): BatchNorm2d(512, eps=1e-05, momentum=0.1, affine=True, track_running_stats=True)\n",
        "      (relu): ReLU(inplace=True)\n",
        "      (downsample): Sequential(\n",
        "        (0): Conv2d(256, 512, kernel_size=(1, 1), stride=(2, 2), bias=False)\n",
        "        (1): BatchNorm2d(512, eps=1e-05, momentum=0.1, affine=True, track_running_stats=True)\n",
        "      )\n",
        "    )\n",
        "    (1): Bottleneck(\n",
        "      (conv1): Conv2d(512, 128, kernel_size=(1, 1), stride=(1, 1), bias=False)\n",
        "      (bn1): BatchNorm2d(128, eps=1e-05, momentum=0.1, affine=True, track_running_stats=True)\n",
        "      (conv2): Conv2d(128, 128, kernel_size=(3, 3), stride=(1, 1), padding=(1, 1), bias=False)\n",
        "      (bn2): BatchNorm2d(128, eps=1e-05, momentum=0.1, affine=True, track_running_stats=True)\n",
        "      (conv3): Conv2d(128, 512, kernel_size=(1, 1), stride=(1, 1), bias=False)\n",
        "      (bn3): BatchNorm2d(512, eps=1e-05, momentum=0.1, affine=True, track_running_stats=True)\n",
        "      (relu): ReLU(inplace=True)\n",
        "    )\n",
        "    (2): Bottleneck(\n",
        "      (conv1): Conv2d(512, 128, kernel_size=(1, 1), stride=(1, 1), bias=False)\n",
        "      (bn1): BatchNorm2d(128, eps=1e-05, momentum=0.1, affine=True, track_running_stats=True)\n",
        "      (conv2): Conv2d(128, 128, kernel_size=(3, 3), stride=(1, 1), padding=(1, 1), bias=False)\n",
        "      (bn2): BatchNorm2d(128, eps=1e-05, momentum=0.1, affine=True, track_running_stats=True)\n",
        "      (conv3): Conv2d(128, 512, kernel_size=(1, 1), stride=(1, 1), bias=False)\n",
        "      (bn3): BatchNorm2d(512, eps=1e-05, momentum=0.1, affine=True, track_running_stats=True)\n",
        "      (relu): ReLU(inplace=True)\n",
        "    )\n",
        "    (3): Bottleneck(\n",
        "      (conv1): Conv2d(512, 128, kernel_size=(1, 1), stride=(1, 1), bias=False)\n",
        "      (bn1): BatchNorm2d(128, eps=1e-05, momentum=0.1, affine=True, track_running_stats=True)\n",
        "      (conv2): Conv2d(128, 128, kernel_size=(3, 3), stride=(1, 1), padding=(1, 1), bias=False)\n",
        "      (bn2): BatchNorm2d(128, eps=1e-05, momentum=0.1, affine=True, track_running_stats=True)\n",
        "      (conv3): Conv2d(128, 512, kernel_size=(1, 1), stride=(1, 1), bias=False)\n",
        "      (bn3): BatchNorm2d(512, eps=1e-05, momentum=0.1, affine=True, track_running_stats=True)\n",
        "      (relu): ReLU(inplace=True)\n",
        "    )\n",
        "  )\n",
        "  (layer3): Sequential(\n",
        "    (0): Bottleneck(\n",
        "      (conv1): Conv2d(512, 256, kernel_size=(1, 1), stride=(1, 1), bias=False)\n",
        "      (bn1): BatchNorm2d(256, eps=1e-05, momentum=0.1, affine=True, track_running_stats=True)\n",
        "      (conv2): Conv2d(256, 256, kernel_size=(3, 3), stride=(2, 2), padding=(1, 1), bias=False)\n",
        "      (bn2): BatchNorm2d(256, eps=1e-05, momentum=0.1, affine=True, track_running_stats=True)\n",
        "      (conv3): Conv2d(256, 1024, kernel_size=(1, 1), stride=(1, 1), bias=False)\n",
        "      (bn3): BatchNorm2d(1024, eps=1e-05, momentum=0.1, affine=True, track_running_stats=True)\n",
        "      (relu): ReLU(inplace=True)\n",
        "      (downsample): Sequential(\n",
        "        (0): Conv2d(512, 1024, kernel_size=(1, 1), stride=(2, 2), bias=False)\n",
        "        (1): BatchNorm2d(1024, eps=1e-05, momentum=0.1, affine=True, track_running_stats=True)\n",
        "      )\n",
        "    )\n",
        "    (1): Bottleneck(\n",
        "      (conv1): Conv2d(1024, 256, kernel_size=(1, 1), stride=(1, 1), bias=False)\n",
        "      (bn1): BatchNorm2d(256, eps=1e-05, momentum=0.1, affine=True, track_running_stats=True)\n",
        "      (conv2): Conv2d(256, 256, kernel_size=(3, 3), stride=(1, 1), padding=(1, 1), bias=False)\n",
        "      (bn2): BatchNorm2d(256, eps=1e-05, momentum=0.1, affine=True, track_running_stats=True)\n",
        "      (conv3): Conv2d(256, 1024, kernel_size=(1, 1), stride=(1, 1), bias=False)\n",
        "      (bn3): BatchNorm2d(1024, eps=1e-05, momentum=0.1, affine=True, track_running_stats=True)\n",
        "      (relu): ReLU(inplace=True)\n",
        "    )\n",
        "    (2): Bottleneck(\n",
        "      (conv1): Conv2d(1024, 256, kernel_size=(1, 1), stride=(1, 1), bias=False)\n",
        "      (bn1): BatchNorm2d(256, eps=1e-05, momentum=0.1, affine=True, track_running_stats=True)\n",
        "      (conv2): Conv2d(256, 256, kernel_size=(3, 3), stride=(1, 1), padding=(1, 1), bias=False)\n",
        "      (bn2): BatchNorm2d(256, eps=1e-05, momentum=0.1, affine=True, track_running_stats=True)\n",
        "      (conv3): Conv2d(256, 1024, kernel_size=(1, 1), stride=(1, 1), bias=False)\n",
        "      (bn3): BatchNorm2d(1024, eps=1e-05, momentum=0.1, affine=True, track_running_stats=True)\n",
        "      (relu): ReLU(inplace=True)\n",
        "    )\n",
        "    (3): Bottleneck(\n",
        "      (conv1): Conv2d(1024, 256, kernel_size=(1, 1), stride=(1, 1), bias=False)\n",
        "      (bn1): BatchNorm2d(256, eps=1e-05, momentum=0.1, affine=True, track_running_stats=True)\n",
        "      (conv2): Conv2d(256, 256, kernel_size=(3, 3), stride=(1, 1), padding=(1, 1), bias=False)\n",
        "      (bn2): BatchNorm2d(256, eps=1e-05, momentum=0.1, affine=True, track_running_stats=True)\n",
        "      (conv3): Conv2d(256, 1024, kernel_size=(1, 1), stride=(1, 1), bias=False)\n",
        "      (bn3): BatchNorm2d(1024, eps=1e-05, momentum=0.1, affine=True, track_running_stats=True)\n",
        "      (relu): ReLU(inplace=True)\n",
        "    )\n",
        "    (4): Bottleneck(\n",
        "      (conv1): Conv2d(1024, 256, kernel_size=(1, 1), stride=(1, 1), bias=False)\n",
        "      (bn1): BatchNorm2d(256, eps=1e-05, momentum=0.1, affine=True, track_running_stats=True)\n",
        "      (conv2): Conv2d(256, 256, kernel_size=(3, 3), stride=(1, 1), padding=(1, 1), bias=False)\n",
        "      (bn2): BatchNorm2d(256, eps=1e-05, momentum=0.1, affine=True, track_running_stats=True)\n",
        "      (conv3): Conv2d(256, 1024, kernel_size=(1, 1), stride=(1, 1), bias=False)\n",
        "      (bn3): BatchNorm2d(1024, eps=1e-05, momentum=0.1, affine=True, track_running_stats=True)\n",
        "      (relu): ReLU(inplace=True)\n",
        "    )\n",
        "    (5): Bottleneck(\n",
        "      (conv1): Conv2d(1024, 256, kernel_size=(1, 1), stride=(1, 1), bias=False)\n",
        "      (bn1): BatchNorm2d(256, eps=1e-05, momentum=0.1, affine=True, track_running_stats=True)\n",
        "      (conv2): Conv2d(256, 256, kernel_size=(3, 3), stride=(1, 1), padding=(1, 1), bias=False)\n",
        "      (bn2): BatchNorm2d(256, eps=1e-05, momentum=0.1, affine=True, track_running_stats=True)\n",
        "      (conv3): Conv2d(256, 1024, kernel_size=(1, 1), stride=(1, 1), bias=False)\n",
        "      (bn3): BatchNorm2d(1024, eps=1e-05, momentum=0.1, affine=True, track_running_stats=True)\n",
        "      (relu): ReLU(inplace=True)\n",
        "    )\n",
        "  )\n",
        "  (layer4): Sequential(\n",
        "    (0): Bottleneck(\n",
        "      (conv1): Conv2d(1024, 512, kernel_size=(1, 1), stride=(1, 1), bias=False)\n",
        "      (bn1): BatchNorm2d(512, eps=1e-05, momentum=0.1, affine=True, track_running_stats=True)\n",
        "      (conv2): Conv2d(512, 512, kernel_size=(3, 3), stride=(2, 2), padding=(1, 1), bias=False)\n",
        "      (bn2): BatchNorm2d(512, eps=1e-05, momentum=0.1, affine=True, track_running_stats=True)\n",
        "      (conv3): Conv2d(512, 2048, kernel_size=(1, 1), stride=(1, 1), bias=False)\n",
        "      (bn3): BatchNorm2d(2048, eps=1e-05, momentum=0.1, affine=True, track_running_stats=True)\n",
        "      (relu): ReLU(inplace=True)\n",
        "      (downsample): Sequential(\n",
        "        (0): Conv2d(1024, 2048, kernel_size=(1, 1), stride=(2, 2), bias=False)\n",
        "        (1): BatchNorm2d(2048, eps=1e-05, momentum=0.1, affine=True, track_running_stats=True)\n",
        "      )\n",
        "    )\n",
        "    (1): Bottleneck(\n",
        "      (conv1): Conv2d(2048, 512, kernel_size=(1, 1), stride=(1, 1), bias=False)\n",
        "      (bn1): BatchNorm2d(512, eps=1e-05, momentum=0.1, affine=True, track_running_stats=True)\n",
        "      (conv2): Conv2d(512, 512, kernel_size=(3, 3), stride=(1, 1), padding=(1, 1), bias=False)\n",
        "      (bn2): BatchNorm2d(512, eps=1e-05, momentum=0.1, affine=True, track_running_stats=True)\n",
        "      (conv3): Conv2d(512, 2048, kernel_size=(1, 1), stride=(1, 1), bias=False)\n",
        "      (bn3): BatchNorm2d(2048, eps=1e-05, momentum=0.1, affine=True, track_running_stats=True)\n",
        "      (relu): ReLU(inplace=True)\n",
        "    )\n",
        "    (2): Bottleneck(\n",
        "      (conv1): Conv2d(2048, 512, kernel_size=(1, 1), stride=(1, 1), bias=False)\n",
        "      (bn1): BatchNorm2d(512, eps=1e-05, momentum=0.1, affine=True, track_running_stats=True)\n",
        "      (conv2): Conv2d(512, 512, kernel_size=(3, 3), stride=(1, 1), padding=(1, 1), bias=False)\n",
        "      (bn2): BatchNorm2d(512, eps=1e-05, momentum=0.1, affine=True, track_running_stats=True)\n",
        "      (conv3): Conv2d(512, 2048, kernel_size=(1, 1), stride=(1, 1), bias=False)\n",
        "      (bn3): BatchNorm2d(2048, eps=1e-05, momentum=0.1, affine=True, track_running_stats=True)\n",
        "      (relu): ReLU(inplace=True)\n",
        "    )\n",
        "  )\n",
        "  (avgpool): AdaptiveAvgPool2d(output_size=(1, 1))\n",
        "  (fc): Linear(in_features=2048, out_features=1000, bias=True)\n",
        ")"
      ],
      "metadata": {
        "id": "gPWtE4VQTVIk"
      },
      "execution_count": null,
      "outputs": []
    },
    {
      "cell_type": "markdown",
      "source": [
        "**Task 2.7.13:** Fix the parameters of the model, so that they won't be updated when we train the model on our data."
      ],
      "metadata": {
        "id": "9GXLtPL-Tf_l"
      }
    },
    {
      "cell_type": "code",
      "source": [
        "# Freeze the models weights\n",
        "for params in model.parameters():\n",
        "    params.requires_grad = False\n",
        "\n",
        "print(model)\n",
        "\n",
        "#output\n",
        "ResNet(\n",
        "  (conv1): Conv2d(3, 64, kernel_size=(7, 7), stride=(2, 2), padding=(3, 3), bias=False)\n",
        "  (bn1): BatchNorm2d(64, eps=1e-05, momentum=0.1, affine=True, track_running_stats=True)\n",
        "  (relu): ReLU(inplace=True)\n",
        "  (maxpool): MaxPool2d(kernel_size=3, stride=2, padding=1, dilation=1, ceil_mode=False)\n",
        "  (layer1): Sequential(\n",
        "    (0): Bottleneck(\n",
        "      (conv1): Conv2d(64, 64, kernel_size=(1, 1), stride=(1, 1), bias=False)\n",
        "      (bn1): BatchNorm2d(64, eps=1e-05, momentum=0.1, affine=True, track_running_stats=True)\n",
        "      (conv2): Conv2d(64, 64, kernel_size=(3, 3), stride=(1, 1), padding=(1, 1), bias=False)\n",
        "      (bn2): BatchNorm2d(64, eps=1e-05, momentum=0.1, affine=True, track_running_stats=True)\n",
        "      (conv3): Conv2d(64, 256, kernel_size=(1, 1), stride=(1, 1), bias=False)\n",
        "      (bn3): BatchNorm2d(256, eps=1e-05, momentum=0.1, affine=True, track_running_stats=True)\n",
        "      (relu): ReLU(inplace=True)\n",
        "      (downsample): Sequential(\n",
        "        (0): Conv2d(64, 256, kernel_size=(1, 1), stride=(1, 1), bias=False)\n",
        "        (1): BatchNorm2d(256, eps=1e-05, momentum=0.1, affine=True, track_running_stats=True)\n",
        "      )\n",
        "    )\n",
        "    (1): Bottleneck(\n",
        "      (conv1): Conv2d(256, 64, kernel_size=(1, 1), stride=(1, 1), bias=False)\n",
        "      (bn1): BatchNorm2d(64, eps=1e-05, momentum=0.1, affine=True, track_running_stats=True)\n",
        "      (conv2): Conv2d(64, 64, kernel_size=(3, 3), stride=(1, 1), padding=(1, 1), bias=False)\n",
        "      (bn2): BatchNorm2d(64, eps=1e-05, momentum=0.1, affine=True, track_running_stats=True)\n",
        "      (conv3): Conv2d(64, 256, kernel_size=(1, 1), stride=(1, 1), bias=False)\n",
        "      (bn3): BatchNorm2d(256, eps=1e-05, momentum=0.1, affine=True, track_running_stats=True)\n",
        "      (relu): ReLU(inplace=True)\n",
        "    )\n",
        "    (2): Bottleneck(\n",
        "      (conv1): Conv2d(256, 64, kernel_size=(1, 1), stride=(1, 1), bias=False)\n",
        "      (bn1): BatchNorm2d(64, eps=1e-05, momentum=0.1, affine=True, track_running_stats=True)\n",
        "      (conv2): Conv2d(64, 64, kernel_size=(3, 3), stride=(1, 1), padding=(1, 1), bias=False)\n",
        "      (bn2): BatchNorm2d(64, eps=1e-05, momentum=0.1, affine=True, track_running_stats=True)\n",
        "      (conv3): Conv2d(64, 256, kernel_size=(1, 1), stride=(1, 1), bias=False)\n",
        "      (bn3): BatchNorm2d(256, eps=1e-05, momentum=0.1, affine=True, track_running_stats=True)\n",
        "      (relu): ReLU(inplace=True)\n",
        "    )\n",
        "  )\n",
        "  (layer2): Sequential(\n",
        "    (0): Bottleneck(\n",
        "      (conv1): Conv2d(256, 128, kernel_size=(1, 1), stride=(1, 1), bias=False)\n",
        "      (bn1): BatchNorm2d(128, eps=1e-05, momentum=0.1, affine=True, track_running_stats=True)\n",
        "      (conv2): Conv2d(128, 128, kernel_size=(3, 3), stride=(2, 2), padding=(1, 1), bias=False)\n",
        "      (bn2): BatchNorm2d(128, eps=1e-05, momentum=0.1, affine=True, track_running_stats=True)\n",
        "      (conv3): Conv2d(128, 512, kernel_size=(1, 1), stride=(1, 1), bias=False)\n",
        "      (bn3): BatchNorm2d(512, eps=1e-05, momentum=0.1, affine=True, track_running_stats=True)\n",
        "      (relu): ReLU(inplace=True)\n",
        "      (downsample): Sequential(\n",
        "        (0): Conv2d(256, 512, kernel_size=(1, 1), stride=(2, 2), bias=False)\n",
        "        (1): BatchNorm2d(512, eps=1e-05, momentum=0.1, affine=True, track_running_stats=True)\n",
        "      )\n",
        "    )\n",
        "    (1): Bottleneck(\n",
        "      (conv1): Conv2d(512, 128, kernel_size=(1, 1), stride=(1, 1), bias=False)\n",
        "      (bn1): BatchNorm2d(128, eps=1e-05, momentum=0.1, affine=True, track_running_stats=True)\n",
        "      (conv2): Conv2d(128, 128, kernel_size=(3, 3), stride=(1, 1), padding=(1, 1), bias=False)\n",
        "      (bn2): BatchNorm2d(128, eps=1e-05, momentum=0.1, affine=True, track_running_stats=True)\n",
        "      (conv3): Conv2d(128, 512, kernel_size=(1, 1), stride=(1, 1), bias=False)\n",
        "      (bn3): BatchNorm2d(512, eps=1e-05, momentum=0.1, affine=True, track_running_stats=True)\n",
        "      (relu): ReLU(inplace=True)\n",
        "    )\n",
        "    (2): Bottleneck(\n",
        "      (conv1): Conv2d(512, 128, kernel_size=(1, 1), stride=(1, 1), bias=False)\n",
        "      (bn1): BatchNorm2d(128, eps=1e-05, momentum=0.1, affine=True, track_running_stats=True)\n",
        "      (conv2): Conv2d(128, 128, kernel_size=(3, 3), stride=(1, 1), padding=(1, 1), bias=False)\n",
        "      (bn2): BatchNorm2d(128, eps=1e-05, momentum=0.1, affine=True, track_running_stats=True)\n",
        "      (conv3): Conv2d(128, 512, kernel_size=(1, 1), stride=(1, 1), bias=False)\n",
        "      (bn3): BatchNorm2d(512, eps=1e-05, momentum=0.1, affine=True, track_running_stats=True)\n",
        "      (relu): ReLU(inplace=True)\n",
        "    )\n",
        "    (3): Bottleneck(\n",
        "      (conv1): Conv2d(512, 128, kernel_size=(1, 1), stride=(1, 1), bias=False)\n",
        "      (bn1): BatchNorm2d(128, eps=1e-05, momentum=0.1, affine=True, track_running_stats=True)\n",
        "      (conv2): Conv2d(128, 128, kernel_size=(3, 3), stride=(1, 1), padding=(1, 1), bias=False)\n",
        "      (bn2): BatchNorm2d(128, eps=1e-05, momentum=0.1, affine=True, track_running_stats=True)\n",
        "      (conv3): Conv2d(128, 512, kernel_size=(1, 1), stride=(1, 1), bias=False)\n",
        "      (bn3): BatchNorm2d(512, eps=1e-05, momentum=0.1, affine=True, track_running_stats=True)\n",
        "      (relu): ReLU(inplace=True)\n",
        "    )\n",
        "  )\n",
        "  (layer3): Sequential(\n",
        "    (0): Bottleneck(\n",
        "      (conv1): Conv2d(512, 256, kernel_size=(1, 1), stride=(1, 1), bias=False)\n",
        "      (bn1): BatchNorm2d(256, eps=1e-05, momentum=0.1, affine=True, track_running_stats=True)\n",
        "      (conv2): Conv2d(256, 256, kernel_size=(3, 3), stride=(2, 2), padding=(1, 1), bias=False)\n",
        "      (bn2): BatchNorm2d(256, eps=1e-05, momentum=0.1, affine=True, track_running_stats=True)\n",
        "      (conv3): Conv2d(256, 1024, kernel_size=(1, 1), stride=(1, 1), bias=False)\n",
        "      (bn3): BatchNorm2d(1024, eps=1e-05, momentum=0.1, affine=True, track_running_stats=True)\n",
        "      (relu): ReLU(inplace=True)\n",
        "      (downsample): Sequential(\n",
        "        (0): Conv2d(512, 1024, kernel_size=(1, 1), stride=(2, 2), bias=False)\n",
        "        (1): BatchNorm2d(1024, eps=1e-05, momentum=0.1, affine=True, track_running_stats=True)\n",
        "      )\n",
        "    )\n",
        "    (1): Bottleneck(\n",
        "      (conv1): Conv2d(1024, 256, kernel_size=(1, 1), stride=(1, 1), bias=False)\n",
        "      (bn1): BatchNorm2d(256, eps=1e-05, momentum=0.1, affine=True, track_running_stats=True)\n",
        "      (conv2): Conv2d(256, 256, kernel_size=(3, 3), stride=(1, 1), padding=(1, 1), bias=False)\n",
        "      (bn2): BatchNorm2d(256, eps=1e-05, momentum=0.1, affine=True, track_running_stats=True)\n",
        "      (conv3): Conv2d(256, 1024, kernel_size=(1, 1), stride=(1, 1), bias=False)\n",
        "      (bn3): BatchNorm2d(1024, eps=1e-05, momentum=0.1, affine=True, track_running_stats=True)\n",
        "      (relu): ReLU(inplace=True)\n",
        "    )\n",
        "    (2): Bottleneck(\n",
        "      (conv1): Conv2d(1024, 256, kernel_size=(1, 1), stride=(1, 1), bias=False)\n",
        "      (bn1): BatchNorm2d(256, eps=1e-05, momentum=0.1, affine=True, track_running_stats=True)\n",
        "      (conv2): Conv2d(256, 256, kernel_size=(3, 3), stride=(1, 1), padding=(1, 1), bias=False)\n",
        "      (bn2): BatchNorm2d(256, eps=1e-05, momentum=0.1, affine=True, track_running_stats=True)\n",
        "      (conv3): Conv2d(256, 1024, kernel_size=(1, 1), stride=(1, 1), bias=False)\n",
        "      (bn3): BatchNorm2d(1024, eps=1e-05, momentum=0.1, affine=True, track_running_stats=True)\n",
        "      (relu): ReLU(inplace=True)\n",
        "    )\n",
        "    (3): Bottleneck(\n",
        "      (conv1): Conv2d(1024, 256, kernel_size=(1, 1), stride=(1, 1), bias=False)\n",
        "      (bn1): BatchNorm2d(256, eps=1e-05, momentum=0.1, affine=True, track_running_stats=True)\n",
        "      (conv2): Conv2d(256, 256, kernel_size=(3, 3), stride=(1, 1), padding=(1, 1), bias=False)\n",
        "      (bn2): BatchNorm2d(256, eps=1e-05, momentum=0.1, affine=True, track_running_stats=True)\n",
        "      (conv3): Conv2d(256, 1024, kernel_size=(1, 1), stride=(1, 1), bias=False)\n",
        "      (bn3): BatchNorm2d(1024, eps=1e-05, momentum=0.1, affine=True, track_running_stats=True)\n",
        "      (relu): ReLU(inplace=True)\n",
        "    )\n",
        "    (4): Bottleneck(\n",
        "      (conv1): Conv2d(1024, 256, kernel_size=(1, 1), stride=(1, 1), bias=False)\n",
        "      (bn1): BatchNorm2d(256, eps=1e-05, momentum=0.1, affine=True, track_running_stats=True)\n",
        "      (conv2): Conv2d(256, 256, kernel_size=(3, 3), stride=(1, 1), padding=(1, 1), bias=False)\n",
        "      (bn2): BatchNorm2d(256, eps=1e-05, momentum=0.1, affine=True, track_running_stats=True)\n",
        "      (conv3): Conv2d(256, 1024, kernel_size=(1, 1), stride=(1, 1), bias=False)\n",
        "      (bn3): BatchNorm2d(1024, eps=1e-05, momentum=0.1, affine=True, track_running_stats=True)\n",
        "      (relu): ReLU(inplace=True)\n",
        "    )\n",
        "    (5): Bottleneck(\n",
        "      (conv1): Conv2d(1024, 256, kernel_size=(1, 1), stride=(1, 1), bias=False)\n",
        "      (bn1): BatchNorm2d(256, eps=1e-05, momentum=0.1, affine=True, track_running_stats=True)\n",
        "      (conv2): Conv2d(256, 256, kernel_size=(3, 3), stride=(1, 1), padding=(1, 1), bias=False)\n",
        "      (bn2): BatchNorm2d(256, eps=1e-05, momentum=0.1, affine=True, track_running_stats=True)\n",
        "      (conv3): Conv2d(256, 1024, kernel_size=(1, 1), stride=(1, 1), bias=False)\n",
        "      (bn3): BatchNorm2d(1024, eps=1e-05, momentum=0.1, affine=True, track_running_stats=True)\n",
        "      (relu): ReLU(inplace=True)\n",
        "    )\n",
        "  )\n",
        "  (layer4): Sequential(\n",
        "    (0): Bottleneck(\n",
        "      (conv1): Conv2d(1024, 512, kernel_size=(1, 1), stride=(1, 1), bias=False)\n",
        "      (bn1): BatchNorm2d(512, eps=1e-05, momentum=0.1, affine=True, track_running_stats=True)\n",
        "      (conv2): Conv2d(512, 512, kernel_size=(3, 3), stride=(2, 2), padding=(1, 1), bias=False)\n",
        "      (bn2): BatchNorm2d(512, eps=1e-05, momentum=0.1, affine=True, track_running_stats=True)\n",
        "      (conv3): Conv2d(512, 2048, kernel_size=(1, 1), stride=(1, 1), bias=False)\n",
        "      (bn3): BatchNorm2d(2048, eps=1e-05, momentum=0.1, affine=True, track_running_stats=True)\n",
        "      (relu): ReLU(inplace=True)\n",
        "      (downsample): Sequential(\n",
        "        (0): Conv2d(1024, 2048, kernel_size=(1, 1), stride=(2, 2), bias=False)\n",
        "        (1): BatchNorm2d(2048, eps=1e-05, momentum=0.1, affine=True, track_running_stats=True)\n",
        "      )\n",
        "    )\n",
        "    (1): Bottleneck(\n",
        "      (conv1): Conv2d(2048, 512, kernel_size=(1, 1), stride=(1, 1), bias=False)\n",
        "      (bn1): BatchNorm2d(512, eps=1e-05, momentum=0.1, affine=True, track_running_stats=True)\n",
        "      (conv2): Conv2d(512, 512, kernel_size=(3, 3), stride=(1, 1), padding=(1, 1), bias=False)\n",
        "      (bn2): BatchNorm2d(512, eps=1e-05, momentum=0.1, affine=True, track_running_stats=True)\n",
        "      (conv3): Conv2d(512, 2048, kernel_size=(1, 1), stride=(1, 1), bias=False)\n",
        "      (bn3): BatchNorm2d(2048, eps=1e-05, momentum=0.1, affine=True, track_running_stats=True)\n",
        "      (relu): ReLU(inplace=True)\n",
        "    )\n",
        "    (2): Bottleneck(\n",
        "      (conv1): Conv2d(2048, 512, kernel_size=(1, 1), stride=(1, 1), bias=False)\n",
        "      (bn1): BatchNorm2d(512, eps=1e-05, momentum=0.1, affine=True, track_running_stats=True)\n",
        "      (conv2): Conv2d(512, 512, kernel_size=(3, 3), stride=(1, 1), padding=(1, 1), bias=False)\n",
        "      (bn2): BatchNorm2d(512, eps=1e-05, momentum=0.1, affine=True, track_running_stats=True)\n",
        "      (conv3): Conv2d(512, 2048, kernel_size=(1, 1), stride=(1, 1), bias=False)\n",
        "      (bn3): BatchNorm2d(2048, eps=1e-05, momentum=0.1, affine=True, track_running_stats=True)\n",
        "      (relu): ReLU(inplace=True)\n",
        "    )\n",
        "  )\n",
        "  (avgpool): AdaptiveAvgPool2d(output_size=(1, 1))\n",
        "  (fc): Linear(in_features=2048, out_features=1000, bias=True)\n",
        ")"
      ],
      "metadata": {
        "id": "IQI3JH1DTzoN"
      },
      "execution_count": null,
      "outputs": []
    },
    {
      "cell_type": "markdown",
      "source": [
        "Now we want to change the output layer of the model (layer `model.fc`). You'll first need to compute the number of features going into the last layer of the original model. Then you can change the last layer into:\n",
        "- a dense layer with 256 neurons\n",
        "- followed by ReLU activation\n",
        "- then add `p=0.5` of Dropout\n",
        "- followed by the output layer with 3 outputs\n",
        "\n",
        "**Task 2.7.14:** Fill in the missing parts of code below that changes the last layer of the original model."
      ],
      "metadata": {
        "id": "R3UNHiHMUUVE"
      }
    },
    {
      "cell_type": "code",
      "source": [
        "# Important! Don't change this\n",
        "torch.manual_seed(42)\n",
        "torch.cuda.manual_seed(42)\n",
        "\n",
        "#in_features = ...\n",
        "in_features = model.fc.in_features\n",
        "\n",
        "modified_last_layer = nn.Sequential()\n",
        "\n",
        "#dense_layer = ...\n",
        "dense_layer = nn.Linear(in_features, 256)\n",
        "\n",
        "modified_last_layer.append(dense_layer)\n",
        "\n",
        "#relu = ...\n",
        "relu = nn.ReLU()\n",
        "\n",
        "modified_last_layer.append(relu)\n",
        "\n",
        "modified_last_layer.append(nn.Dropout(p=0.5))\n",
        "\n",
        "#output_layer = ...\n",
        "output_layer = nn.Linear(256, 3)\n",
        "modified_last_layer.append(output_layer)\n",
        "\n",
        "# Assign `modified_last_layer` to `model.fc`\n",
        "#model.fc = ...\n",
        "model.fc = modified_last_layer\n",
        "\n",
        "print(model)\n",
        "\n",
        "#output\n",
        "ResNet(\n",
        "  (conv1): Conv2d(3, 64, kernel_size=(7, 7), stride=(2, 2), padding=(3, 3), bias=False)\n",
        "  (bn1): BatchNorm2d(64, eps=1e-05, momentum=0.1, affine=True, track_running_stats=True)\n",
        "  (relu): ReLU(inplace=True)\n",
        "  (maxpool): MaxPool2d(kernel_size=3, stride=2, padding=1, dilation=1, ceil_mode=False)\n",
        "  (layer1): Sequential(\n",
        "    (0): Bottleneck(\n",
        "      (conv1): Conv2d(64, 64, kernel_size=(1, 1), stride=(1, 1), bias=False)\n",
        "      (bn1): BatchNorm2d(64, eps=1e-05, momentum=0.1, affine=True, track_running_stats=True)\n",
        "      (conv2): Conv2d(64, 64, kernel_size=(3, 3), stride=(1, 1), padding=(1, 1), bias=False)\n",
        "      (bn2): BatchNorm2d(64, eps=1e-05, momentum=0.1, affine=True, track_running_stats=True)\n",
        "      (conv3): Conv2d(64, 256, kernel_size=(1, 1), stride=(1, 1), bias=False)\n",
        "      (bn3): BatchNorm2d(256, eps=1e-05, momentum=0.1, affine=True, track_running_stats=True)\n",
        "      (relu): ReLU(inplace=True)\n",
        "      (downsample): Sequential(\n",
        "        (0): Conv2d(64, 256, kernel_size=(1, 1), stride=(1, 1), bias=False)\n",
        "        (1): BatchNorm2d(256, eps=1e-05, momentum=0.1, affine=True, track_running_stats=True)\n",
        "      )\n",
        "    )\n",
        "    (1): Bottleneck(\n",
        "      (conv1): Conv2d(256, 64, kernel_size=(1, 1), stride=(1, 1), bias=False)\n",
        "      (bn1): BatchNorm2d(64, eps=1e-05, momentum=0.1, affine=True, track_running_stats=True)\n",
        "      (conv2): Conv2d(64, 64, kernel_size=(3, 3), stride=(1, 1), padding=(1, 1), bias=False)\n",
        "      (bn2): BatchNorm2d(64, eps=1e-05, momentum=0.1, affine=True, track_running_stats=True)\n",
        "      (conv3): Conv2d(64, 256, kernel_size=(1, 1), stride=(1, 1), bias=False)\n",
        "      (bn3): BatchNorm2d(256, eps=1e-05, momentum=0.1, affine=True, track_running_stats=True)\n",
        "      (relu): ReLU(inplace=True)\n",
        "    )\n",
        "    (2): Bottleneck(\n",
        "      (conv1): Conv2d(256, 64, kernel_size=(1, 1), stride=(1, 1), bias=False)\n",
        "      (bn1): BatchNorm2d(64, eps=1e-05, momentum=0.1, affine=True, track_running_stats=True)\n",
        "      (conv2): Conv2d(64, 64, kernel_size=(3, 3), stride=(1, 1), padding=(1, 1), bias=False)\n",
        "      (bn2): BatchNorm2d(64, eps=1e-05, momentum=0.1, affine=True, track_running_stats=True)\n",
        "      (conv3): Conv2d(64, 256, kernel_size=(1, 1), stride=(1, 1), bias=False)\n",
        "      (bn3): BatchNorm2d(256, eps=1e-05, momentum=0.1, affine=True, track_running_stats=True)\n",
        "      (relu): ReLU(inplace=True)\n",
        "    )\n",
        "  )\n",
        "  (layer2): Sequential(\n",
        "    (0): Bottleneck(\n",
        "      (conv1): Conv2d(256, 128, kernel_size=(1, 1), stride=(1, 1), bias=False)\n",
        "      (bn1): BatchNorm2d(128, eps=1e-05, momentum=0.1, affine=True, track_running_stats=True)\n",
        "      (conv2): Conv2d(128, 128, kernel_size=(3, 3), stride=(2, 2), padding=(1, 1), bias=False)\n",
        "      (bn2): BatchNorm2d(128, eps=1e-05, momentum=0.1, affine=True, track_running_stats=True)\n",
        "      (conv3): Conv2d(128, 512, kernel_size=(1, 1), stride=(1, 1), bias=False)\n",
        "      (bn3): BatchNorm2d(512, eps=1e-05, momentum=0.1, affine=True, track_running_stats=True)\n",
        "      (relu): ReLU(inplace=True)\n",
        "      (downsample): Sequential(\n",
        "        (0): Conv2d(256, 512, kernel_size=(1, 1), stride=(2, 2), bias=False)\n",
        "        (1): BatchNorm2d(512, eps=1e-05, momentum=0.1, affine=True, track_running_stats=True)\n",
        "      )\n",
        "    )\n",
        "    (1): Bottleneck(\n",
        "      (conv1): Conv2d(512, 128, kernel_size=(1, 1), stride=(1, 1), bias=False)\n",
        "      (bn1): BatchNorm2d(128, eps=1e-05, momentum=0.1, affine=True, track_running_stats=True)\n",
        "      (conv2): Conv2d(128, 128, kernel_size=(3, 3), stride=(1, 1), padding=(1, 1), bias=False)\n",
        "      (bn2): BatchNorm2d(128, eps=1e-05, momentum=0.1, affine=True, track_running_stats=True)\n",
        "      (conv3): Conv2d(128, 512, kernel_size=(1, 1), stride=(1, 1), bias=False)\n",
        "      (bn3): BatchNorm2d(512, eps=1e-05, momentum=0.1, affine=True, track_running_stats=True)\n",
        "      (relu): ReLU(inplace=True)\n",
        "    )\n",
        "    (2): Bottleneck(\n",
        "      (conv1): Conv2d(512, 128, kernel_size=(1, 1), stride=(1, 1), bias=False)\n",
        "      (bn1): BatchNorm2d(128, eps=1e-05, momentum=0.1, affine=True, track_running_stats=True)\n",
        "      (conv2): Conv2d(128, 128, kernel_size=(3, 3), stride=(1, 1), padding=(1, 1), bias=False)\n",
        "      (bn2): BatchNorm2d(128, eps=1e-05, momentum=0.1, affine=True, track_running_stats=True)\n",
        "      (conv3): Conv2d(128, 512, kernel_size=(1, 1), stride=(1, 1), bias=False)\n",
        "      (bn3): BatchNorm2d(512, eps=1e-05, momentum=0.1, affine=True, track_running_stats=True)\n",
        "      (relu): ReLU(inplace=True)\n",
        "    )\n",
        "    (3): Bottleneck(\n",
        "      (conv1): Conv2d(512, 128, kernel_size=(1, 1), stride=(1, 1), bias=False)\n",
        "      (bn1): BatchNorm2d(128, eps=1e-05, momentum=0.1, affine=True, track_running_stats=True)\n",
        "      (conv2): Conv2d(128, 128, kernel_size=(3, 3), stride=(1, 1), padding=(1, 1), bias=False)\n",
        "      (bn2): BatchNorm2d(128, eps=1e-05, momentum=0.1, affine=True, track_running_stats=True)\n",
        "      (conv3): Conv2d(128, 512, kernel_size=(1, 1), stride=(1, 1), bias=False)\n",
        "      (bn3): BatchNorm2d(512, eps=1e-05, momentum=0.1, affine=True, track_running_stats=True)\n",
        "      (relu): ReLU(inplace=True)\n",
        "    )\n",
        "  )\n",
        "  (layer3): Sequential(\n",
        "    (0): Bottleneck(\n",
        "      (conv1): Conv2d(512, 256, kernel_size=(1, 1), stride=(1, 1), bias=False)\n",
        "      (bn1): BatchNorm2d(256, eps=1e-05, momentum=0.1, affine=True, track_running_stats=True)\n",
        "      (conv2): Conv2d(256, 256, kernel_size=(3, 3), stride=(2, 2), padding=(1, 1), bias=False)\n",
        "      (bn2): BatchNorm2d(256, eps=1e-05, momentum=0.1, affine=True, track_running_stats=True)\n",
        "      (conv3): Conv2d(256, 1024, kernel_size=(1, 1), stride=(1, 1), bias=False)\n",
        "      (bn3): BatchNorm2d(1024, eps=1e-05, momentum=0.1, affine=True, track_running_stats=True)\n",
        "      (relu): ReLU(inplace=True)\n",
        "      (downsample): Sequential(\n",
        "        (0): Conv2d(512, 1024, kernel_size=(1, 1), stride=(2, 2), bias=False)\n",
        "        (1): BatchNorm2d(1024, eps=1e-05, momentum=0.1, affine=True, track_running_stats=True)\n",
        "      )\n",
        "    )\n",
        "    (1): Bottleneck(\n",
        "      (conv1): Conv2d(1024, 256, kernel_size=(1, 1), stride=(1, 1), bias=False)\n",
        "      (bn1): BatchNorm2d(256, eps=1e-05, momentum=0.1, affine=True, track_running_stats=True)\n",
        "      (conv2): Conv2d(256, 256, kernel_size=(3, 3), stride=(1, 1), padding=(1, 1), bias=False)\n",
        "      (bn2): BatchNorm2d(256, eps=1e-05, momentum=0.1, affine=True, track_running_stats=True)\n",
        "      (conv3): Conv2d(256, 1024, kernel_size=(1, 1), stride=(1, 1), bias=False)\n",
        "      (bn3): BatchNorm2d(1024, eps=1e-05, momentum=0.1, affine=True, track_running_stats=True)\n",
        "      (relu): ReLU(inplace=True)\n",
        "    )\n",
        "    (2): Bottleneck(\n",
        "      (conv1): Conv2d(1024, 256, kernel_size=(1, 1), stride=(1, 1), bias=False)\n",
        "      (bn1): BatchNorm2d(256, eps=1e-05, momentum=0.1, affine=True, track_running_stats=True)\n",
        "      (conv2): Conv2d(256, 256, kernel_size=(3, 3), stride=(1, 1), padding=(1, 1), bias=False)\n",
        "      (bn2): BatchNorm2d(256, eps=1e-05, momentum=0.1, affine=True, track_running_stats=True)\n",
        "      (conv3): Conv2d(256, 1024, kernel_size=(1, 1), stride=(1, 1), bias=False)\n",
        "      (bn3): BatchNorm2d(1024, eps=1e-05, momentum=0.1, affine=True, track_running_stats=True)\n",
        "      (relu): ReLU(inplace=True)\n",
        "    )\n",
        "    (3): Bottleneck(\n",
        "      (conv1): Conv2d(1024, 256, kernel_size=(1, 1), stride=(1, 1), bias=False)\n",
        "      (bn1): BatchNorm2d(256, eps=1e-05, momentum=0.1, affine=True, track_running_stats=True)\n",
        "      (conv2): Conv2d(256, 256, kernel_size=(3, 3), stride=(1, 1), padding=(1, 1), bias=False)\n",
        "      (bn2): BatchNorm2d(256, eps=1e-05, momentum=0.1, affine=True, track_running_stats=True)\n",
        "      (conv3): Conv2d(256, 1024, kernel_size=(1, 1), stride=(1, 1), bias=False)\n",
        "      (bn3): BatchNorm2d(1024, eps=1e-05, momentum=0.1, affine=True, track_running_stats=True)\n",
        "      (relu): ReLU(inplace=True)\n",
        "    )\n",
        "    (4): Bottleneck(\n",
        "      (conv1): Conv2d(1024, 256, kernel_size=(1, 1), stride=(1, 1), bias=False)\n",
        "      (bn1): BatchNorm2d(256, eps=1e-05, momentum=0.1, affine=True, track_running_stats=True)\n",
        "      (conv2): Conv2d(256, 256, kernel_size=(3, 3), stride=(1, 1), padding=(1, 1), bias=False)\n",
        "      (bn2): BatchNorm2d(256, eps=1e-05, momentum=0.1, affine=True, track_running_stats=True)\n",
        "      (conv3): Conv2d(256, 1024, kernel_size=(1, 1), stride=(1, 1), bias=False)\n",
        "      (bn3): BatchNorm2d(1024, eps=1e-05, momentum=0.1, affine=True, track_running_stats=True)\n",
        "      (relu): ReLU(inplace=True)\n",
        "    )\n",
        "    (5): Bottleneck(\n",
        "      (conv1): Conv2d(1024, 256, kernel_size=(1, 1), stride=(1, 1), bias=False)\n",
        "      (bn1): BatchNorm2d(256, eps=1e-05, momentum=0.1, affine=True, track_running_stats=True)\n",
        "      (conv2): Conv2d(256, 256, kernel_size=(3, 3), stride=(1, 1), padding=(1, 1), bias=False)\n",
        "      (bn2): BatchNorm2d(256, eps=1e-05, momentum=0.1, affine=True, track_running_stats=True)\n",
        "      (conv3): Conv2d(256, 1024, kernel_size=(1, 1), stride=(1, 1), bias=False)\n",
        "      (bn3): BatchNorm2d(1024, eps=1e-05, momentum=0.1, affine=True, track_running_stats=True)\n",
        "      (relu): ReLU(inplace=True)\n",
        "    )\n",
        "  )\n",
        "  (layer4): Sequential(\n",
        "    (0): Bottleneck(\n",
        "      (conv1): Conv2d(1024, 512, kernel_size=(1, 1), stride=(1, 1), bias=False)\n",
        "      (bn1): BatchNorm2d(512, eps=1e-05, momentum=0.1, affine=True, track_running_stats=True)\n",
        "      (conv2): Conv2d(512, 512, kernel_size=(3, 3), stride=(2, 2), padding=(1, 1), bias=False)\n",
        "      (bn2): BatchNorm2d(512, eps=1e-05, momentum=0.1, affine=True, track_running_stats=True)\n",
        "      (conv3): Conv2d(512, 2048, kernel_size=(1, 1), stride=(1, 1), bias=False)\n",
        "      (bn3): BatchNorm2d(2048, eps=1e-05, momentum=0.1, affine=True, track_running_stats=True)\n",
        "      (relu): ReLU(inplace=True)\n",
        "      (downsample): Sequential(\n",
        "        (0): Conv2d(1024, 2048, kernel_size=(1, 1), stride=(2, 2), bias=False)\n",
        "        (1): BatchNorm2d(2048, eps=1e-05, momentum=0.1, affine=True, track_running_stats=True)\n",
        "      )\n",
        "    )\n",
        "    (1): Bottleneck(\n",
        "      (conv1): Conv2d(2048, 512, kernel_size=(1, 1), stride=(1, 1), bias=False)\n",
        "      (bn1): BatchNorm2d(512, eps=1e-05, momentum=0.1, affine=True, track_running_stats=True)\n",
        "      (conv2): Conv2d(512, 512, kernel_size=(3, 3), stride=(1, 1), padding=(1, 1), bias=False)\n",
        "      (bn2): BatchNorm2d(512, eps=1e-05, momentum=0.1, affine=True, track_running_stats=True)\n",
        "      (conv3): Conv2d(512, 2048, kernel_size=(1, 1), stride=(1, 1), bias=False)\n",
        "      (bn3): BatchNorm2d(2048, eps=1e-05, momentum=0.1, affine=True, track_running_stats=True)\n",
        "      (relu): ReLU(inplace=True)\n",
        "    )\n",
        "    (2): Bottleneck(\n",
        "      (conv1): Conv2d(2048, 512, kernel_size=(1, 1), stride=(1, 1), bias=False)\n",
        "      (bn1): BatchNorm2d(512, eps=1e-05, momentum=0.1, affine=True, track_running_stats=True)\n",
        "      (conv2): Conv2d(512, 512, kernel_size=(3, 3), stride=(1, 1), padding=(1, 1), bias=False)\n",
        "      (bn2): BatchNorm2d(512, eps=1e-05, momentum=0.1, affine=True, track_running_stats=True)\n",
        "      (conv3): Conv2d(512, 2048, kernel_size=(1, 1), stride=(1, 1), bias=False)\n",
        "      (bn3): BatchNorm2d(2048, eps=1e-05, momentum=0.1, affine=True, track_running_stats=True)\n",
        "      (relu): ReLU(inplace=True)\n",
        "    )\n",
        "  )\n",
        "  (avgpool): AdaptiveAvgPool2d(output_size=(1, 1))\n",
        "  (fc): Sequential(\n",
        "    (0): Linear(in_features=2048, out_features=256, bias=True)\n",
        "    (1): ReLU()\n",
        "    (2): Dropout(p=0.5, inplace=False)\n",
        "    (3): Linear(in_features=256, out_features=3, bias=True)\n",
        "  )\n",
        ")"
      ],
      "metadata": {
        "id": "msbyYZi6cHxV"
      },
      "execution_count": null,
      "outputs": []
    },
    {
      "cell_type": "markdown",
      "source": [
        "Now we're ready to train our model, but before doing so, we must re-initialize our dataset loaders in order to ensure we have a deterministic output. This is not required in production, but for this assignment is important in order to validate that you have trained the model correctly."
      ],
      "metadata": {
        "id": "sr5H1xi6cj8t"
      }
    },
    {
      "cell_type": "code",
      "source": [
        "# Important! don't change this.\n",
        "g = torch.Generator()\n",
        "g.manual_seed(42)\n",
        "\n",
        "batch_size = 32\n",
        "\n",
        "train_loader = DataLoader(train_dataset, batch_size=batch_size, shuffle=True, generator=g)\n",
        "val_loader = DataLoader(val_dataset, batch_size=batch_size, shuffle=False)"
      ],
      "metadata": {
        "id": "KFOPeAw9co6u"
      },
      "execution_count": null,
      "outputs": []
    },
    {
      "cell_type": "markdown",
      "source": [
        "**Task 2.7.15:** Define the loss function, create an Adam optimizer and send model to GPU device. Now we are ready to train the model for $10$ epochs."
      ],
      "metadata": {
        "id": "6JYiLjAjcq4w"
      }
    },
    {
      "cell_type": "code",
      "source": [
        "loss_fn = nn.CrossEntropyLoss()\n",
        "optimizer = optim.Adam(model.parameters())\n",
        "\n",
        "# Place the model on device\n",
        "model.to(device)\n",
        "\n",
        "# Train the model for 10 epochs\n",
        "epochs = 10\n",
        "train_losses, val_losses, train_accuracies, val_accuracies = train(\n",
        "    model, optimizer, loss_fn, train_loader, val_loader, epochs, device=device\n",
        ")\n",
        "\n",
        "#output\n",
        "Epoch: 1\n",
        "    Training loss: 0.65\n",
        "    Training accuracy: 0.79\n",
        "    Validation loss: 0.60\n",
        "    Validation accuracy: 0.74\n",
        "Epoch: 2\n",
        "    Training loss: 0.26\n",
        "    Training accuracy: 0.93\n",
        "    Validation loss: 0.28\n",
        "    Validation accuracy: 0.82\n",
        "Epoch: 3\n",
        "    Training loss: 0.13\n",
        "    Training accuracy: 0.93\n",
        "    Validation loss: 0.17\n",
        "    Validation accuracy: 0.83\n",
        "Epoch: 4\n",
        "    Training loss: 0.06\n",
        "    Training accuracy: 0.95\n",
        "    Validation loss: 0.11\n",
        "    Validation accuracy: 0.85\n",
        "Epoch: 5\n",
        "    Training loss: 0.05\n",
        "    Training accuracy: 0.95\n",
        "    Validation loss: 0.08\n",
        "    Validation accuracy: 0.85\n",
        "Epoch: 6\n",
        "    Training loss: 0.03\n",
        "    Training accuracy: 0.96\n",
        "    Validation loss: 0.08\n",
        "    Validation accuracy: 0.85\n",
        "Epoch: 7\n",
        "    Training loss: 0.02\n",
        "    Training accuracy: 0.96\n",
        "    Validation loss: 0.07\n",
        "    Validation accuracy: 0.86\n",
        "Epoch: 8\n",
        "    Training loss: 0.02\n",
        "    Training accuracy: 0.96\n",
        "    Validation loss: 0.08\n",
        "    Validation accuracy: 0.85\n",
        "Epoch: 9\n",
        "    Training loss: 0.01\n",
        "    Training accuracy: 0.96\n",
        "    Validation loss: 0.09\n",
        "    Validation accuracy: 0.84\n",
        "Epoch: 10\n",
        "    Training loss: 0.01\n",
        "    Training accuracy: 0.96\n",
        "    Validation loss: 0.05\n",
        "    Validation accuracy: 0.86"
      ],
      "metadata": {
        "id": "KA4SMbdZd4DW"
      },
      "execution_count": null,
      "outputs": []
    },
    {
      "cell_type": "markdown",
      "source": [
        "Let's again plot the learning curve and train and validation accuracies."
      ],
      "metadata": {
        "id": "vEcGmM0BeIas"
      }
    },
    {
      "cell_type": "code",
      "source": [
        "plt.figure(figsize=(12, 5))\n",
        "\n",
        "plt.subplot(1, 2, 1)\n",
        "plt.plot(train_losses, label=\"Training Loss\")\n",
        "plt.plot(val_losses, label=\"Validation Loss\")\n",
        "plt.title(\"Loss over epochs\")\n",
        "plt.xlabel(\"Epochs\")\n",
        "plt.ylabel(\"Loss\")\n",
        "plt.legend()\n",
        "\n",
        "plt.subplot(1, 2, 2)\n",
        "plt.plot(train_accuracies, label=\"Training Accuracy\")\n",
        "plt.plot(val_accuracies, label=\"Validation Accuracy\")\n",
        "plt.title(\"Accuracy over epochs\")\n",
        "plt.xlabel(\"Epochs\")\n",
        "plt.ylabel(\"Accuracy\")\n",
        "plt.legend()\n",
        "\n",
        "plt.show()"
      ],
      "metadata": {
        "id": "J09Ni9bWeMnG"
      },
      "execution_count": null,
      "outputs": []
    },
    {
      "cell_type": "markdown",
      "source": [
        "![Screenshot 2025-03-08 121706.png](data:image/png;base64,iVBORw0KGgoAAAANSUhEUgAAAoMAAAEvCAYAAAA+WMuGAAAAAXNSR0IArs4c6QAAAARnQU1BAACxjwv8YQUAAAAJcEhZcwAADsMAAA7DAcdvqGQAAJJJSURBVHhe7Z0FgFTV98e/28mybNC7dHdJiYiEiSgCIt1gYIuF2K1/Rf0pigqCIgjSJaIindLdzQIL2x3/+71v3jqsi7LJzpvzwefMvn4z88773nPOPdclUwFBEARBEATB6UhPT4er7b0gCIIgCILghIgYFARBEARBcGJEDAqCIAiCIDgxIgYFQRAEQRCcGBGDgiAIgiAIToyIQUEQBEEQBCdGxKAgCIIgCIITI2JQEARBEATBiRExKAiCIAiC4MSIGBT+AQelSUpKQkpKin4v/Df8nE6ePIlGjRrh1KlT8rkJQjEgLS0NiYmJSEhIkHuyGMDv48Ybb8Tvv/+OjIwM21yhOCBiUPgHvEknTpyIb7/91jZHuBZo6CIiIvSrIAjXnxMnTqB9+/YYO3asHnJLBOH1hc+WyMhIEefFELdXFLb3gqDhDbtu3Tq4uLigRYsW+tWcz1Y2PV8XL17Uf3t7e+ub2n5+cnIyvLy89HKKI07R0dHw8PCAp6en3pcJhRONw5kzZxATE6P3x+NxHo23uX5sbKye5+/vr72W586dw/nz5/WxfHx89Do8No3MpUuX9P5CQkKuOHd6Ojmf2/E9t+Ny7isuLk5vx2O4u7vr4/K6uL/Tp0/rffNvXhe3MYUfJ5431+c+KKJ79uyJ+Ph4/Tevx83NTZ+neWwu8/X11fMFQSgceM//9ttvqFChAjZv3owePXpk3XOpqalZ9yPvcdMW8N6kHaMd4Dq832kXeO/TLnCftAfcDyeKTc47e/asXp/vaU8uXLig73ne/66urnp72jDu+/Lly9q2mbaHx+a+uC2X05bQVppwvv223B+X077QrprnzuPxPEx7aNonrsfr4DFop3lu3B/X9fPz09dlwvPiNqZNNM+fNo7z+fnwM+N6pi3kdXNf3Mb+mnneUVFR+vMyz5vnMGHCBLRr106fJ+fzes3PlvvgccznBSceQyhc+PsUMSj8A96UGzZs0DeuvRik0Rw3bhw+//xz7N+/X7/S5U+B9sYbb2DatGl6/vLly9GwYUMcOXIEffr00UZs1apVWkDVrVs3a388zp49ezBgwADs27cP33//PbZs2aL3OWvWLPz666+6Vc/tPv74Yx1auOWWW/R7TgcPHsRXX32FypUrIywsDB999JGeNm3ahL1796JLly5Zx6L4e/3117W3k8s++eQTlC5dGtWrV8eYMWPw9ddfY+vWrZg/f76+jrvvvlsbuaeeegpTpkzR23zxxRf6fEqUKKHPjefNh8Gff/6JkiVLolSpUtrQcd6uXbvw4Ycf6nm8Zn5W77zzjl62aNEitGzZEgEBAWLoBKGQ4P3Le542iAKGojA0NFQLGd6bb7/9trZNs2fPRpMmTbQdGzVqlLYBtEt//PEHbrjhBm1rKEoqVaqkxRRFZa1atbT9uPPOO7FmzRptvyisFixYgLlz52r7yWPQLtWoUUOLnIEDB2L16tXYvn27tm8dOnRA3759tU0LDAzUAq13797o2rWr3pdpGyiMaGtWrlyJX375BT/88AM6d+6MHTt24Pnnn8d9992nbTXtLq/39ttv17bysccew9GjRzF16lR9/byWv/76C8OGDdPXdujQIW3fzWPRHi9cuBAvvvgiDh8+rO0dxVqzZs30Z/Twww/rY9Leffrpp7jpppsQFBSkbelbb72lt+H8ihUrokqVKjhw4IC+Ph6Tdp2fdePGjbWN5DKuz/cU5a1bt9af4/Dhw/V6FPEUKHXq1NEiUihc+Fnzf4JwBcqIZipDlqlu7ExlOG1zMzPVDZzZtm3bTNVyy1QtwExlADKVYcy8ePFipjJOmerm1ttym6SkpEwl7jIff/zxTGVA9TxlbGx7MuD8IUOGZI4dOzZTibVM1YLMbNq0aaYypJlK0GUqoZapWqR6/506dcpUBiJTtdIzb7vtNj2Py5YsWZKpxFamasVmqnZNZs+ePfWx7c9bicnMzZs3Z1arVi1TGZpMZXQzly5dmnnvvffqdZVxzFRGPVMZXb1/ZbAylVHPXLduXaYyUpnKkOrrVaIxUxmrzMjIyMy77rorc+3atVnXy2Mo45qpxF/msmXL9H7nzZuXqR4A+jq7d++eqR4Aej85fRaCIBQsGzduzOzYsaO+f5XIyXzggQf0vagarJlK4GSqBl7W/cvXSZMm6fuU6/B+5nzer88995y+p2mjaHOUCMpUYkrbESUiM3/++ees/XB9bqsazpkzZ87MHDRokJ737LPPZo4YMUJvY9oLbkPbp4SWfq/EXOaTTz6ZGR8fb7sCg/Hjx2f26tUrMyoqSp8bbdX06dMzldDLVI3uTNWI1duPHDlSr8tjdOvWLVMJVH2+O3fuzFTiNVM1njOVGM1s0KBB5tmzZ/9hhzivfv36mUqUaXtKe6YEa+bJkyczv/vuu0wl8DKPHTumz2H06NGZ48aNy1RCLlMJykwl9vR10sbxM+FnrhrSmf/3f/+X9ZmYn0/NmjUz33zzTf3++PHjmarRrp8pSpzr6+f5m+sLRQM/b5HcwjWhfi/afV+7dm3t7WJLtHnz5rp1pwwRlFjTLVxl8HSrmrAVyFY2l9Ejx7AD92OijIpuBTJkwDBBcHAwlBjUIVm2vDmPrUq2HNlyZSuWHjpl5HVrlftnS54hHWVAdAuS58Dt7FuTPCZbyAyP8Fjs5KEMp96OcF22TBm24MTWvjJ6OrzBa2SrnderhLD2dpqhaHoTOJ/bc+I50oNQtWpVfQ78rMzzUsZZexnZ8merXRm6Kz4LQRAKDt5btD30yivBoUORquGobQnvXUYTOJn3L6HXjvc7711z/n957rnuzTffrNcntA+0H/Xq1cMTTzyhPXLqQaujGKoRmxVC5fqc7rjjDh15UMIIH3zwgfb40YbYQ28cz4u2iddBTyAjMLSXtEm0JwzjMhqhGrj6nJnmw33R1tHTyHAtQ7mEdpRe0OzXx8+G6ynhqSM7tNu0z/QYcj16RulZ5fkp0axtP206IxyMsHA+Ix60efyMd+/erc+H8+0/Z77ye+E8elf5yu/r1ltvxZw5c3RUhtEZhqTFRhYdIgaFa4aGjELIvEH5njcyjdQjjzyiwyMM8Q4dOlQLQgo6uv6ZvE3DoFqD2rCYcFtOvOkJ90tDQoPHfBSGJVasWKFDGjSwnM8QLY0ZwxmLFy+GarFrI07BRoPFc8zJgHNbhmzst2P4hIbJPK4JQyPcD6/LXsDyPHm+fADwGPbXwnU4jxPXMd+b8ykCGcbh6//+9z8dTjL3KwhCwcH7igKMDUnaqEmTJmmRQQHCFBLC+9r+/iUUSJyfHdoONly5X6abcDIxhQ7vcW5L8fPAAw9oWzh+/PisY3A9Cjb7e57bUERRcFG4sqHboEEDvT97aIfshREFG+fRDrHxvXbtWh12rVmzpg7b0qZR6HKfTElZunSpTtNh45nHvJqN5DlynzNmzMjajgKaopPwHMzrYejazENkDjfn8/z4eXPf3A+Xc5n9NZtwObE/DwpXXsszzzyjQ9EMefN7zGl7oeARMSjkCG9u3vBsLdJDxpwXGhq2Bmlk2cqkoGLeC296zmerkZ65cuXK6W3pSaQx4E3OVjH3Y39j0yixxUtDzWXc786dO3XOCY0M802YJzNz5kydn0IDUq1aNW1waFjZImVHDBrh7AbUHrMlSmPG45jb0dCYxojGhzk0bMHPmzdP56qEh4frc2KOD6+XBpKeRebY0PBOnjw56/PJbujt4WdJ7wQNOD2Q9evX15+XIAiFA+9X2hfm7Zk5xvS8sWFJO8YGH+0X7RrvTdopeqTWr1+vowK8rynS6MFnI5INSK7LvGJ6+3KC9oS2iUKMjVM2/mhfaH9oNyiyGKHgudGDSLvAKAtz/NhQppeQnd64vj30PFLMcVvaDdodRiVoD2mnaP+Yk0zPmilOmadIu8XGsylyKWr/DXr+ONlvx3M0G8y8ftpD5j3zeIzO8Dp5TApHfmbMLaTApceP+dXvvvuuXp/L+Dzg/q4GP28KbV4bPZ7MwxQhWHSIGBT+AQ0Ypy+//FIbGE40VDQK9PKxw8U999yjjQATmGkw2XGDidUUcBQ7DJPQcA4ePFi3lukNY0KzvWjj9vQoUkQyjPrcc89p40HBx2NRsHFiCMUM6VB4MlmZ69F4Mxma3kPC5dzOvrVJOI9Gbvr06fo8uB29lwyvEK7P83322WcxZMgQfR4UqTSovN4nn3xSXy8T0Hm+PKcXXnhBH5fXxnNg2Ib74TmYx+dxOdEAMuxBj8H999+vw+A8TvbzFAQh/1BAUARSgFEQ0s5wYgoKBQaFDjs9sPMZbQHvb4pDRjX69eunJ4ZiKSApEhmVoGBklQA2CLm9aWdMm0MojNhJjLaB9oV2kIKNy9l5hGHb/v376zAsj03xyO3ZaYI2gWFl/p2du+66S9sZ7oPb85XhWO6b67dq1Up3uODx+DevlR36aN9ok9mBhgKS6TzZbZQ9vC6GrCn4aO9oy9lZhfaXsHHMdB9+Doz60JbxmmmL2fmPnyUb8xSKtJHs9EJRyPVp+9j5hdfMz8M8B07m58co0qBBg/SxKb7ZwYfXmNO5CgWPi7pxRHoL/yCnFpx5U9r/ZP5tHsk+P/uNzeVXW8d+2dXmE3OZ/bo5kdN2vE6Go5nfx1d7I0X+7VjZ5xPOM42b/XL798T+GIIgFCxXuzc52f9tYt6P5jrmPPM1uz2034e5rfm3/X6JvT2wX8b5/Jsev0cffVT3MKb3zlzfnuzb5nTM/zoPc5lJ9r9JTtvxbzZmGaFhg5oCm5jHy76N/XxivmY/nvm3/bY57UcofOjQ+eevThAUNEjZJ/PmvNZ5Oc3Pzr+tY7/savPtl/HVfr3sXG07Yr/savPtl+U035xnYs7Lvq65viAIhYP9vWdi3ofm/JzuR/v55nrEfl37ZeZ7E3Oe/WSSfRkFJsPWjCx07Ngxy4uYE9m3zemYOc3Lvo39lBM5bWeP/XxzH9m3sZ9vv8z825xM7OfltB+haBDPoODU8Odv5hGxBx2NkCAIQmFDMcjQKfONWRPV7ARX3KCNZBoM86mZ30jRKlgLegYdVgzytKXlIAhCdqxqG0xTLXZPEAR78msbHFYMMgmVdYyu1kVeEATnhR4XJr3n1DPTUaGZZicDdqAiYvcEQSC0DZyY724/ck1ucEgxyNNlF3f2oGKehYT1BEGwh+Up2LuSRXhZusMKsM4de5CaJUVEDAqCQKiJWDqIZd6Yf5qXML7DikGOHMFu7KzjJPkLgiDYwwLiHIeVpY1YU9IKUOCyAcwxsVn/TcSgIAiEmoj1JzkyF0sP0UOYWxxWDDJEzFpErPOWlwsXBMG6UAyyphwHx7eSGGTBcnZ2sso1CYJQMLBzD4cgZG3IvIpBibEKQgHARgpz1XhTyVS0k4O1ZwVBEIod4hkUhAKAOV0cpkqESdHDYf7YWcS0BeIZFATBmSgIz6CIQUHIJ/QInjx5UtcJ4zBMQtHBz55DiXEILnNAfRGDgiA4ExImFoRiABsonOihMsdBlaloJg7fVbJkSS0KBUEQhLwhYlAQnACKVdbn5GD1OQUDOI/LuI4jIb1qBUEQ8o+IQUFwICjaGDLctGkT1q9fr6cNGzbokCjzFq8Gt1uyZIkux3Q1Zs+ejdOnT9v+yh3cf1RUlA6XC4IgCI6F5cUgnSDpGZlIUxPfC0JhYv7eCmLKyOEHS9FF7x1Ho9izZw8GDBigi7BfuHBBi0F69zgxB4TrcTJDqBxXtFOnTln7MD2BXJfce++9qFChgl7fXGYu5zbmPrNvR7h827Zt+O677/R7cx7XsV+f+zb3w4l/28/jq7m9IAh5h3cRbQhtCZ9/qekZSOGUJpMjTEWtWSzfgYQ//tlbTuHXPRH4vG9TeHlIhxOhYKGAoUesXLnySMl0wY8bT+Zb0Li6uqBe+QC0qRZim3Ml3P+RI0e0GFy6dCmWLVuGmTNnonTp0rjvvvu0h2/16tV6EPz27dvrxOLvv/9eb9unTx+0adNGj+ATERGBatWqYezYsfj4449x6623alHWu3dvdO/eHSdOnMAdd9yB+++/X3de+OabbxAaGopjx45h0KBB6NWrl94nBd3KlSv1MV988UUdvuXnMn/+fEyfPl0PHVmlShWMGTMG8+bNw6JFi3RHiJtuugktWrTQx+ffnJ5++ml9HdcaAqYIZgV+nheRDiSCs0P7EBmfgqMX43FETfvPxWD36RicuJRQpAJDyDv3Nq2AxzrWgPc1aBbpTXwNYpCtoXWHI/HCnJ345fGb4OclI5YIBYu9GIxNzcTdn61WLXLbwjziqoRQr+YV8XinmrY5/4RV500xyJEp6Jl7/vnn9ag8HJuXQpAiguLqs88+0yKM0GB07twZP//8s+70wmHOeC9NmTIFt912mxaD/fr108aFonLkyJE6xEyvIgVluXLltBdx+PDhWiSSnMQgvZcUexSE3Ib7fPLJJ/Huu+/iwQcfRNu2bfVYmtyGgvG1115DiRIltHDMzTCTIgYFZ4aeP3qSktLScSAiDr/vi8Af+y7g9OUEuLu5wsPNBWUDfNC+VgiaVw6Cu4u6tyTVtthTNsAbVUP94Ob631+WiMFrEIO8US4npKDLRysxbVhL1CoboB5UtoWCUACYYrB8+fJwdfdAcmq6DtHkB/5E3ZUR93K/+u/bXgwyF5AiiF4/irnXX39dD1tGsbd48WLt0eMrocGg95ACjMs5dJvpwaMY5PU89NBDWLt2LY4fP45u3brpsX7pYaTgo2CjwGzXrt2/isGjR4+ia9euOqeRAu/RRx/VgrJOnTr6ePzMKETpeVy4cKEOe0dHR+Pll19GmTJlxDNoh4hBgc8+Ps9S1XQxLhl7zsRgt5oOnY9DREwSzqspXRmemmX8UadcAGqWLoEKpXxQPtAbwX5e6lnpAjfbPSXPQMeANvBaviopLXMN8Efv5+mO8CBfrDkcqR7SDqV9BQfDXbXi6H32z+fEffybEMwJc5xu3tgUcRynkoItIYGhoSt/99rIZD0YXP6x3PTMmet4eXmhUqVKOHDggC6uvX37dj3fHu6Dwoxjh3Ni2RcKUnosmdfIc2JImiVheG5Dhw7V3kkKSYasR48erddnCDr7+QiCs8CfvhZ96RmIT07DqcsJ2HEqCkt2ncO7S/eh38QNuO/ztXhr8V78se88ElXjs12NELxzX0MsGn0jvujXDE91rol7mlTADVWCULGUL3w83eDp5qq9TJwYeZCp+E9FqdmtLwbVP+Zf1VCtpdUHL6oHj22BIDg4bAFyonAzXyne+L5Ro0Y6n2/atGk6RJt9Pb5yXb6niDTnmcs5z1zOiQLuvffe0167Rx55BGXLls0SnyZc/8cff9R5h126dMHnn3+OL774Am+99ZbOQezRowdq1KihQ830YD777LNaEFIk0mvIefTw1axZM0uEOhLac6OEOKfsYpZ/mx1l+Mq/zXn05HIy5wvWh98yv2p28DA7eegOHmkZuBSfjF/3RuCNhXvxgBJ+/b7eiEGTNmHMrB3aE9ihdml8+kATfDfkBkwdegO+HtBcp5O0rR6CUn6e8PFw0+FhB7yFhOuIU4xAwl45364+gm/XHNN5gyV9PGxLBCH/8AFvhonpDSsOZL+tTXHF+dmFljnPfln29fg3R/pISkrS99+IESPwv//9D02aNLGtYcD1TMx92mO/f5L9b2J/3GuhuISJ6f1kbiXP/84779RD5JnXQrHHMDpD4XXr1tW5lFzG8P7u3bv19bMnd8+ePXO0aRImtg4UfrFJqbiUkIrL8SmIjEvWHT32novFXiX2jl9KQJASdVVD/HTOWO2yATrsW6usvxJ6qgFmuz1yd5cIVkbCxNcIb5rwID99E56OunotNkGwChQa9pOJ/XsTc96/rUexcubMGe3hYz4hO3s0aNDAtvRvuJ05Zf/bnEeu9rf9PEeBnw3F3ptvvqkbAxRu7FzDTjxcRkPLGo4Uz7fccgt++uknbN68WZfcYS9w9uxm7iU79dALKzgefLYkpxlh3ejEVJ3Td1Y9a7Ycv4yft5zCB7/sxyPT/sKdn6xCs9d/RZt3fke3z1Zj2Heb8MKcXZiy/jgS1LYD2lTCL4+3w29Ptcc3g1rgpbvqoleLMDQKKwkfT3rr1b2ijud4d4lQ3HEKzyDd8Ey2HTRpI97u3hCd65axLRGE/FMcPYMFDe87hjEpYCjYeN9lDxNfL663Z5CfTXx8PEaNGoUJEyZoQTd48GB88MEHWXUb2ammWbNm2m6xswzrMTKE/8ILL2hva3h4uN6GHWdMm8b9Mt+T10eByc49q1at0sPvCYULH4rGb55hXDOcC8QlpSIiNll31oiIUa+x7LiRjMsJqUhISUO8mhKS043XlHSdnxfi74XSJbwQql5D+aomev5KeDM/2EO/hqh5zBVmBw+2B5gvJgjXivQmvkYxyCtkj+Lbx6/EiJuqYkjbqrqFJQgFgTOIweJMcRCDp06dwquvvopPP/1Ui8FnnnlGd4ipWrWqXod1FekRHDhwIGbNmqVFHUeR2bFjB3x9ffX7yZMn617WQUFBehvu94cffsCcOXP0b2zjxo3Yu3eviMFChKIvSYm4HaejceBcLM5GJ+KsEn7noo0pLjkNHm6uul6tt/vfr76e7ihb0hvl1FQ+0CfrNViJPubvKU1odArQnTdE7AkFi4SJrxV137F3JvMu2A2fN7wgCEJBwV7Q9N5RwHGiQKVR5nuKQ3r12PmG3lSW6GGnHr5v1aoVGjZsqDvPsGQPy/GY0ANL404RyY453MYRw+iOAJ8J7MDBDhoDJ23EqO+34KtVR7D9VLQu+ntTzVA8fWstfD2wBaYObYmpuvOG8TpFTd8Mao63uzfAox1roEezirozR5UQPwT4eCihqASj2oenEo2sNiBCUCiOOE3OIN31HM1BxKAgCAUNi2dT3LGDyNatW3UPaXrw2GmE+YQM93I5S+vQw/f4449rkcjcQUY66BlkyR52OrHHDMnnpbUvXBsU7DuV6Htxzi70/2YDArw9ML53Y/zx9M34YXgrvNO9IR66uTrualgejcMCUb20P8KCfHW4l2KP3kEReIKj4zTZym7qXm1TLRjHIxOQmPL3mKqC4EjwwcW8PY7uQdc+YU4ac9YYHuV7E65LbxWHjWNPV+ao0cvE+SZczt6tXG4/38TsPcxjcTk7j7DGYE7r/hc8t6ioKH1MK0HBxtI7TzzxBJ577jndueajjz7Snj6O+sLPit8XR11hBxwW2qankNuxGLhZhoffTcWKFW17FQobdvpgRw+OTjXg243YfipKl2z5vF8z3Fg9FO5KrIvEE5wFpxGDNLzM4WCy7taTl21zBaEwoFAqiClnKKaGDRumhRWFBj1P7KzAsiMMT1IYmj1ZKcC4nGKOebYc7YPzuQ+ua3ZO4HoUmeb25rx9+/bhgQceyJr3xhtvoHbt2noZ/2auHgUj/+YxeFxzH9yfvWjkew5Fx1FG7OF+zI4SpujkPO6D883zN/drXltxgvaFopqjvMydO1d/RvQEfvjhh9qrx9xBCsPff/9dl4/hMnoGP/nkEz1qC4cCrFy5sngAiwCWGmNP37eX7EWPL9bpIdzeuKc+fhzeCq2rhcDL3SjOLM4+wZlwGjFIOLxX2ZI+2HxMxKBQGCiBkhIP7F0A7Jmfv2nvQuDcLtt+/4aig6OBcEg3dkSgUGL9vxkzZugQJHutspDzmDFjtEfPFE18Zd7ZzJkztUhjr1fmo1GcUWgRDm/HsYNZFoX5bRR6HPOYycns6cpQ5sMPP6w7PVAA0gNGryNrDnJbijRuS2HKjhIff/yxFnUmPAdT2Jl/c/lXX32lh9XjeXMIPJ7f+PHjMWTIEF3gmsfnkHYUwJwmTZqkty9uUMixAxG/H76n2KPoM99zPofl4zx+j5zH9TkkoLmNUHiYpcWmbzyB3l+tx5pDkbi/RRgmDmiO2xuU0z18mdMnCM5IkYpBGn8+CDjRk5AdczkfGDktzy8eyviyl9dfJy5L3qBQ8GSq32xSNDBnFDB7RP4m7mPnT7YdXwlFRL9+/XSJEoaG2TOVw85VqVIF48aN06N+cAQSiibeU8QUYhRfu3bt0ttQENJbaK4TFhaGt99+W/eI5TwWQ2ZdPArPqVOn6s4OFHwUa/SAMTTKHrD0dL3//vvac8dwKIXdl19+qY9DQXk1eIydO3dqocdzoZB96qmntMeTopBeMwpKll3hqCV333233i9FrCBcC/xlUwRyyLZZW07pcPDHyw+ib6tw3fFjZPuqIgIFQVFkYpCGn0Lvl19+0a1+PgDMh5AJHyZ8wDHfhg8bPrwKErr+KwX74lJ8KmKTCnbfggAXN6BEOeDZY8DzJ/M3PXsU6DjOtuMroVeJw7qxd+mJEye0sKNHjx40ljN56aWX9H3Ev7PDe45j/1L4lSpVCrVq1dKeKs7/888/9X5eeeUV3cmBQpPH4kSvlfmeDbX9+/drTyQ7TlAkcixi3q8cpo618ti7lstML+DVoEeRYx6zswX3x/1TsHbr1k17Hjmx2DU9krQZrMtn5uEJwn+RlJKGhTvOoP/XG/D24r24pVYofhrZCsPaVdUdQKTjhyAYFJkY5INi6dKl2lvB0gr0JPBBZsKw08SJE7VH4N5779WJ1Hww5Bt6axi6S4pSN36m7gnGWlGsEi+PE6HA4W/WzbNgJtecizrzvqBXrmvXrjo8fOHCBZ1vxtEsWF+PIV6OapGTEOO2FF+si8jcvUOHDul7k+sy5/Dpp5/WYpK9Wim4KALpCeQ6pgCjZ5JilGVQmNPH8DFr4/GcuOzf4D64P3oYKfp43ux5S+HJ/VFosu4exSDHNGYeHsPIFL6s40ehyiHfuA8RhMLV4GggG49eQq8v1+O1BXtQoZQP/njmZoy5rTYqh/iJCBSEbBSZGOTDhr0Z2RuRYSeGfOxzf/hwMB8q7FlHL6EJjT63Z24UH3x8veYwcqZ6IO6eC8weBdeMVFQP9ddDBnEwcFGDgqNCUcdQMD3tN954oxZiHA93/fr1WtBRWDE/jWKOyzjRA8gcNQ4jR7HIe5EFjZmzxmXs1UohyVAzxSDn0YNIb9/IkSO1t5Dbm8fiPcocvunTp+vwLo/HZWaOHNflPkx4zpx4XNbVY14hhR9H5uA8dk5hI5H7oSDlvDVr1mQVan700Ue155LXy/1yX4JgwrZBSnoG1h+JxMipm/Ho9K2oVbYEvhrQTI88xTHpWTBahKAg/JMiG4GEvQB79Oih84DomaAX4+eff84ShAwzcfB2GnyGrjiOJ5cx3MRTpPhjeJmjCvAhFBERoWt4/WfSdXoqcOYvYMYA4KF1iHHxR/fP12HwjVXwwA1hYhiEfMOGyvUYgcT06FEU8bh8T28b7xeKMc6naDIbTvybyziP63F9Ygo3/m163HhfmYLLPI65Lwo+cz73w/nc3rxPzXuSy7lvLidczgiA6WXkMgo/7puTeR3EPD/ui/O4DSfzmsz1CO3B9RyBpCjg59G6dWvtvbXKNRUU6qekRGA69p+LxYxNJ/HbvvOophr9HG2qZZUgXexZ7LxgZRxqBBLzgWPWQqMBDwwM1O/5YKCRr169Ovr3769zkFiKgQKScBkvkIVaWYKBSeTc3zXhotYrXRdw9wZOrNN5g00rlcLmY5dsKwiCY0JRxF6opjDiPUIvH71tFFlmD1V7z6Ap5LiM65nr8n7iMv7NXD/O4/rc3lyXx+F8zjPvZzbWzO3NY/G9udwUgoTH5fmx/h4FDbc1r4H75zLugxPfc7k5j+vwvMzzEASKQJaJiU1Oxbh5uzHsu83Ycvwy3uvRUPcQvqlGqB75Q4SgIPw3RSoGGYZijhPH8WQLl6Fi5giylhkfIswLorePIS6uwweBPeZDhtM1Q0Pg5gGUbwTsmQd3ZKKZEoPsUcxeZoIgCIJjQSF4OioB45cfQIf3V2Dv2Rg82bkmZo1qo0Ugh4ATDSgI106RiUGKPeYX0SvA0hMM4zBviT0EOfg6hd+zzz6rS1UwL4g1xugZyDf0DLq6KTHYBDi6Eq5pCahdtgSiE1JxNipJ0gaFAoMebqHoMcPggvXhHXYpPgU/bDiO7p+vxbxtZ/R4wCwY3aN5mB6DXhCE3FNkOYOERtvMF2J4iGEjzqOnz3zP5cQMN2WH27KYLuujrVixQoeQ/pOMdODgMmDBo0jvPR3HvWrrMShfubseOtYpLWEEIV/wN3n27Fn9m5V8rqKF9oKdyoKDg3VDk0jOoLXg/aXDwUlpmLP1NOaqiYJwyI2V0alOWZQP9DaGjhMzLjgpBZEzWKRisCDIkxhkeZnIw8Ck25HZ5Q1crHqvFoMcePzBm6vpPEJByA/seHH+/Hn9+xSKFuYSMv+YDUoiYtCx4R2UocRfWnoGTkUl4mBErB4tZPWhi3pZ+5qhGHpjFT2AAHsHC4KzI2LwmsWgusS0RODrTkC1jkhoPw4jpv6FssqYvNO9AdzFoAgFgAjB64MpAk1EDDoevHU4KlS6mlLTMvDHvvOYuv44jkcmICElHbXLlUDfluFoVTVYjxgiIlAQ/sahehNfV/iscPUAat0JnN0ON2ToHsUnLyco42OsIgj5haJEpqKfBMeGHfkOno/FlHXHMHraVrR/fwVeX7QH5QK98UTnmpj3SFudE9itcQWUCRBvoCAUBk5yV6kHBjuR1FZi8OJ+uKbEoLkSg6cuJ0qPYkEQhCKGhf+PXYzHD+uP497P1+C+L9Zi0ppj2jv47n0N8MfTN+P9Ho3Qo1lFVA72k1QeQShknKeJxV7FgWGATzBcj/yJeuUDkJiSjpOXEnSIQhAEQSgc2OhOSk3H9pNReGvxXgyctBH9vtmAyWuPoU21EEzo1ww/DGuJzx5ogptrlYaPp7v2AFIEivNXEAof5/K3c7zXoMpwObxc16EKD/K1JSWLGhQEQSgo6OFLTc/AhdhkrDscia9WHkH/bzdgxNQtujB0rbIBuprDzAfb4KkuNbUgDFP22MvDzRCAtv0IglA0OJkY9ACCq8Plwl64pSWiRml/rD54AVKmTBAEIe+wOU3vHwUgPYD7zsbilfm7cc//1uDB77dg8tqjaFUlGNOGt8R3g2/Aa0oIdqpTBoG28YLF+ycI1xfnEoOu7kDZRnBJioJrYiSql/bDvnOxiE8xahsKgiAIuYNpNlEJKfhl9zm8ahOAvb5chyMX4tGnZTgmDmyOP5/pgKe61NJjBvt7u0sOoCAUM5xLDLq4AeUaAslxcIk9q8PEqemZOB2VaFtBEARBuFbYEeSNRXtw8/sr8OqCPdhzNgbdm1bE8ifb47shN2Bk+2p6+E+GfwVBKL44mRhUrVH/MkBIdbgcXYmwUj46t+X0ZRGDgiAIuSUyPgXLdp/TxfunKPE3WU2D21ZG6QAveLq7wt3VRY/wJH5AQSjeOJcYJG7uQNVbdCeSCiW9dLjiRKT0KBYEQcgNtJnnY5KQkJqO7k0roGYZfwR4GzmAMsSnIDgWzicGmTdY5SZdb9A39TLqliuBQxditYdQEARBuDZoM7eeiEJYKV+U9PE0Ii+CIDgkzicGmTfoHwoXrwC4nf0LN1YPxqHzcSIGBUEQcgFt5l8n2KBWtlRCwYLg0DihGFSX7FNKTxSDbaoG6TAxE6EFQRCEa4NjCO84FY265QPg6nxPEkGwFE4oBlX71cMXKF0XLhf3o1yApy51sO1klG0FQRAE4b84eTkRaRmZqBTsKzmCguDgOGd7juMUV7sFuHgI7i4ZKFvSW1fFFwRBEK6NIxfj4OXuihB/L9scQRAcFecUgwwVV70ZiD0Hj7gzKBvgjb9OREneoCAIwjXCotJeHq4IFjEoCA6P84pB7xJA6dpw2zcflYO8cTk+BXFJkjcoCILwX7DhfDwyAaFKCAZ4u9vmCoLgqDipGHRRV64MWLnGcN2/CNVDfBCbnIboxFQ9xqYgCIKQM7SRHIeYIzc1CQvUhaUFQXBsnFMMsggCvYNlG8A19gxqeMfo3sSXElIMSycIgiDkjLKRWgxeTkDTSqXgKmJQEBweJxWDCorBkJpwzcxA6dRTCPbzxK7T0crOiRoUBEH4N85EJSIuOR31K5SEi/QkFgSHx3nFIL2DITXUaybcLh1Ek/BAbD52yVgkCIIg5AgbzOuORKJCKW/4eblLsWlBsABO7BlUk6cfULkd3M9tR9OwAGw+HqXDH4IgCELOsOjCusORqBzsp8d2FwTB8XFuzyA7kdS9G64RO1ArxAuxSak6/CFyUBAEIWdS0zOw/VSUIQYlRCwIlsCJxaCCYyhVagPXtEQExB6Cn6c7DkTEqpavyEFBEITs0DRGxqUgKSUD4UEy8oggWAXnFoP0DnoogxYYjoBTf+ph6fZHxGmDJwiCIFwJ8wUvxCYjNSMDYRSDTv4EEQSrUKS3Mj1uycnJiIuL01NqaqptibEsJSUFMTExell8fDwylMEpdNw84BJUGf5n1iDE1x3HLsaLGBQEQcgB2saImCSkp2cqMeijmtPiGRQEK1BkYpBiLy0tDd988w2ef/55vPjii3riPELht2HDBtxwww346quvMHnyZCQlJellhQrzBsvUg2tiJJqXzsTJSwkyLJ0gCEIO0Dbuj4hF+UAfBPp46vr9giA4PkUmBin26Pn77bff8Prrr+O1117Djh07cOLECS0UTfz8/NC8eXPcfvvt8PK6cszL9PT0rKnAcHEzRiJJjkbz0HScupwgPYoFQRBygKZx95kYtKoWLD2JBcFCFKlnMCoqSr+nyHN3d0e9evWy5rFwadmyZTFkyBCcP38eTz31FI4dO6a340QBOG7cOHTs2BF33313wYWQWXy6dG24unugvtsJJCSn6TE37fSpIAiCoMhQanDPmWi0qhokXkFBsBBFmjNIAWgv4hgidrVlIFMMVqtWDSNHjkTXrl3Rv39/HVLm+maF+zFjxmD27Nn48ccf9d8FAvft7gWXyu3gfewPVA72wepDF3SitCAIgmDABjLHI+Y47vXLl5SexIJgIYpMDFL0lShRAp6enoiOjkZiYiK2bduGwMDArM4i7FDCUDJFIvMF7cPEbm5uKFmyJIKCghAQEJAlIgsEV3e4VLsFbsf+RPUQb6w6eFGdj22ZIAiCoPMF6RUs5etpjDwiWlAQLEORiUF69ygEe/fujdGjR+PBBx9E3759ERoaqv9mL+Jff/0VI0aMwKhRo7BmzRr9WqCi72pQDJaupVq6maiecRwHzsUgXrV+BUEQrhWms7BRy8k+D5rYL7Nf/m/bFDd4eswX5DjuXu6u0pNYECxEkYpBeveY7zd9+nQ9DRs2DL6+vjocTA/hHXfcge+++073JP7kk09QunTprBBxocK8Qd9guPiURHjSXqSmp+NMdKJtoSAIwr9DMbdw4UKd4kIbN2fOnKyObhR5p06d0o1bLn/ssccQGRmpIyAbN27Efffdp23flClTdGSkuMLagocvxKN0gLchBkULCoJlKDIxSExBaE70+nGe/av98iIRgoTH8QmEi39ZVE07oo346csiBgVB+G8o9pjiMmvWLF0W68svv8QXX3yBS5cu6WW0J5MmTdJls5jvzNfx48frmqsfffQR3njjDXz77bd6m0OHDtn2auw3NjYWZ8+e1ROF4vX0HiakpONSfApqlSlRdLZZEIQioUjFYPFFGTZXD7hUaYdyaSfh7pKJE5ekR7EgCNcG01wokJjTHBISojvDcZ4p3pgic/Eic5EztFdwyZIlurj+mTNnULFiRQQHB+PGG2/E6dOn9fom69at0yJxwoQJWhheTxJT0pQYTEa9CgG6/SwIgnUQMWjCUHH1TvCOPor6ZXxw8HysFJ8WBOGaoJeP1RJMPDw8svIAGfEYPnw4tm7dirZt22LlypW6Ax09ffaREW9v76wi/ITzOnfujFdffRWvvPKKFozXyyNHS3g5IRXRiWmoV16JQckXFARLIWLQhAa5dG24+ZRA91KHcChCxKAgCNcGPYIUhAwJczp+/LjOhyamx3DatGnYtGkTevTogdtuu01XR2CRfVZToAj866+/tOCzh9ua0/UkMyMT205EoXygN4J8PW1zBUGwCiIGs1AfhZsHXMs1QuOYFTgRGYe4JOlRLAjCv0OhxjJYderUwbvvvquL41evXl2LvSeffBIJCQk4ePAgPv30U0ycOFF3NOGQnD4+PujZsyfee+89vPXWWyhVqpQuxF8cSVcN4y3HL6FOOZb1UsJUHIOCYClcMq9nRnIe4OkyMfuee+7BihUrdEeTAiMjFVjzKaL+/Bx9PD7CM/e0RIdapW0LBUFwBJhb17RpU2zZskXXJC0KaJcY+r1w4YIWh/TwMezLPEG+p7eQIyvxlSLRrJXKULE5n2W2KBA5Pztcr3Xr1vjjjz+K7JrsSUpNR5ePVmJQ28oY1KayFJwWhGIEG5vML2a5vrxoItof8QzaYxuazgNpqOoaoVrCl20LBEEQrg4FIMPClSpVQnh4uA7/0iiXKVNG5xLScxgWFobKlStrD6BZLcF+PrfJSQgWBzjyCAVhlRB1jiIEBcFyiBi8AmXkQmrq3sRByaew/eRlyRsUBMHpOXoxHp7urgj1/3tUKEEQrIOIwStQYrBEebgFVkAD9xO4HJ8seYOCIDg9Ry7Ew8vdDcEiBgXBkogYtIfRDzcPuNW5C03djyEuMRnRiam6rIIgCIIzwujI8ch4BPp6oJSaBEGwHiIGr0CpQVc3uNTrhtDEo0BiFC4npBhFtgRBEJwMmr6MjEycupyIxmGBcGNPYkEQLIeIweywE0mJcnAPKI0Onnuw81S0MoiiBgVBcEKU6Uu3icFmlUpJ5xFBsCgiBnPCzQPuQZXRzmUHNh+7ZJspCILgfETGp+gxiZuEixgUBKsiYjAn3DzhGloDZVOOY/fxszpMIgiC4GwwKrL+SCTKBXrD38sdogUFwZqIGMwJVze4VmiMYNd4uCZe0jW2RA4KguCMrD0cicrBfnCXfEFBsCwiBnPCxQ0u5ZsiwCUBwRmROHAuRo8wIAiC4EykpXMYustKDPpK5xFBsDAiBnPCxQUu/iFwK1MHrVx24kBErBKDtmWCIAhOAG0ecwXjk9MQHuQr+YKCYGFEDF4NVw+4Vu+Am1224fjFOPEMCoLgVDBf8EJcMlLTMxEe7Cf5goJgYUQMXg3WGwxvjWpuEUi+fEaGpRMEwamgybsQm4y0jAyElfIRz6AgWBgRg1fDxQ2uAeXg7u2PwKhdyFAGURAEwVlgNORgRCyC/TwR4u8lnkFBsDAiBq+Giytc/ILh5lsK4Un7cSIyXvIGBUFwGlhRa9eZaLSsGgxX6TwiCJZGxODVYDPYwxcuZeujGk5hzcHzkjcoCILTkK7s3Z4zMWhNMShaUBAsjYjBf4N5gzU6owpOY+3BCMkbFATBKaCpY77ghdgUNA4PlHxBQbA4Igb/DY5TXKUdQt3ikRhxWJdYEARBsDrsSbz7TDQCfT1k5BFBcAJEDP4bFIPeAfAsUwsdsBHnohNsCwRBEKwL8wUZIg7y84S3hxtc1D9BEKyLiMF/QzWHXVzd4VahMbpgHSKi4m0LBEEQrEtaegYOno9DiL8nvNxdxTMoCBanSMUgO2CkpqYiMTERycnJSE9Pty35G5Zw4Tpcfv3LuSgLSO9g2foIQgxSLp2UHsWCIFiexNR0RMaloGaZEpIvKAhOQJGJQQpBir9Nmzbh/vvvR/fu3bF8+fIrBJ8pFufOnYsOHTogIaEYhGVZYia0FtyQjpTzh6QTiSAIlicxJR2X4pNRv0JJ8QoKghNQpGKQQu+zzz7DBx98gPHjx+ONN95ARESEbQ1osXj69Gls3rwZVatW/YdQ5HJOResxVJYwuIYyiC5IObdXn4cgCIJVoYWLSUzD5YRUQwxKvqAgWJ4iE4MUcHFxcdrbV7FiRZQrVw6NGzfG+fNG/T5Oly9fxocffoihQ4fC09PTtqUhBNPS0rB48WJ88cUXmDx5co4h5kKBdtDTDxmVbkKp6N2IT0o25guCIFgQ2tsdp6P0yCOlS3jZ5gqCYGWKNGcwKSkJ7u7ucHU1Duvj46NFHklJScHEiRPRuXNnBAQE6HXNvEJ65bhdu3bt0KtXL9x9991Z+yh8lBp0dYd3g26ol3kEu05dss0XBEGwHhkZmdhy/DLqlAuAG6tNi2NQECxPkYlBCrpSpUppcUehRxG4b98+lChRQoePubxevXrYtWsXvvrqKxw+fFiLQ4pEc/uSJUuidOnSCAkJ0X8XGRSe4a3g556Giwc322YKgiBYjzQlBv9SYrBueUMMihYUBOtTZGKQnjyGflu3bq3F3pdffqnFXYUKFfDCCy9ocdi1a1c899xzeOaZZ9CwYUM88sgj2ntoUqQC8ArUcT19gZIVUeb8Gt1yFgRBsCLnY5MRlZiKaqH+19HmCoJQlBSpZ9DDwwOjRo3CLbfcgk6dOuHzzz+Hl5cXhg0bppdRMLq5uen3Y8aMga+vEmDFBBd3T3iGVEH1pB2SNygIgmU5ejEenm6uCC3hJV5BQXASikwMEgpC5gM2a9YMTZo00SFi5gLWqlVLC0BzHc6rXr26fi0uZLq4IzqgNlzjLyAjgXmD4h0UBMF6HL0QB093V4T4S+cRQXAWilQMmlDw2Ycf7N+b5DTvuuLqBveKTeGTFg335CjRgoJgYZjHfNttt2Ht2rW6AkKRVS+4zrCO6vHIBPh6uunexIKQe9TDMT3FmDKd474pcNJTgbRk9fkVXRm96yIGHREXF1f4V6yHFFcvnN27Xs0RNSgIVoUpK6+//jo2bNiAJ554Quc1r1mzRo+edP1HRio8mA598nICGocFwt1NgsTCNULRQvF3bhfw+1vA1O7ADz2Blf8HnN+nhE2SCMNrgZ9jxB5g2v3An++pG7LoPjMRg9cKPZUe3ogIbIaM/b+oL03EoCBYFYrBpk2bYsSIEXj00Ue1p/DBBx/UOc8sim9FTyEtWrpSgycvJaJ5pVIyDJ3w7/AZSA9W7DngyJ/A3IeUAOwB7FsIhNQEAioAu2YpYXgPsOhp4NhaY13tMbRugypv8LNUn8vhP4AZfYDkWKCe+tyKEBGDucHVHb51OiI8ZjMy6MIVBMGSsPAyh86kGHz55ZfRpk0bzJkzB88++yyef/75rPqolkI9j6ITUnAhLhnNKgeJGBRyQP1ItBdQicDLx4DfXlVi715g1hAgKQbo+jHQfw5wx3vA3Z8CA+YDd/6f+mGdBH7qb3gMV7yr/j5tiB96vpzdscLrp55Y/ZES1KOASu2A+78HStcF3Iy+FEWBiMFc4OLqhsCwejpMFH1sm/yIBcGi0PM3e/ZsPPTQQ/jxxx9x33336SEy2dmNlQ7MDm9WIlP923T8su44UsrXUwdDBOEK6NnbOUuJv8HAVzcDx1YDte8EBi4AHpgG1LgVKFFWO06YZ48SZdTy24F+s5UwnAfUVMsP/Qp8qQTPz8OB3Uo4xkU497M09iyw4HFg40Sg7RNKPH8A+Jc2Pr8iRMRgLsh0cUWqVxBS3P3hepZiUFzdgmBVONJRgwYNdFUDegIZHqbHkKMkFbsObgXEusORqBTsa4w8Igim1+rSUWDRU8AXbYAlz6p5KUB/JfAGLwHaq7/L1DUEYI73hZpHYVO2AXDLi8DQZUDvH4CkKLWvMcAEJQx/HWd4GlOZW+gkz1VeJ/MpJymxfHqLEtQLgRuGAW6eV/kcCxcRg7mAnUg8/IOQ7FMG/lF7RQwKgkWh6OM46eawl4wGTJs2TYvC7NUQrALzBTcfvyRi0OlRAjAjFYg+BWyYAMzoB0y+E7iwH7j5eSVa5gO9JgPlGus8eh3KVM/G/4TrUDC6q23CWwMPTDc8hjc+DpxcD3zXFZg1CNj8LRBzxtab1ooeQ3VNDJH/NRWY3geo0Fx9nlOA4KrXTQgSEYO5gA8AH29v7PdpjNRzIgYFwapQDFL4RUVF6THSWV4mJibGttR68JkblZCKqPhUJQb9IFrQ2aAATANYQ/fkJmD5q4bHisLM3Qfo9j+gzwyg+RCgbH0lAn0Nb19ey5JTGHqo/ZZXgrLVKCPMfMcHxrJ1nxvHXvm+4TFLvGzkKFrhecsbLSFSXduHwJ/vGmFzhoXZ4YZC8DoiYjC3uLriUvmb4Xb5sNFdXhAEy0GPYP/+/TFgwAA8+eST6NWrlx4ik7mCVvQKMl/wYlwyUtIzEB7kK51HnAIlTCiwKAITo4ANXxqdQX7sbfRq7TAW6Pcz0OMboFoHwNNP3RgcCKKAfxsuSlTSW0hhxI4TzC1s9zSwey4wrZfR6WTLd0YHFYpCXW5Fnbujwc86/gIweySwaSLQ5Q2g48uAd6BNWF9fRAzmEhf1ww2v2QiRad7I5A0j3kFBsBwUfew08tFHH+ni0++++64eK53DZVoROiwuxCYjVcSg85CSABxcDix8CvisBbBZib4KzYCeSniN+BNoqIRYYHiR9mjVYjMwDGjaD3hovRKi3xrh6HWfAl+0NvIVD/9unLsjhZCpE1h+Z9Id6tzjgb4zjdIxDLMXk3stX2KQoRTm0vCVdbgYSuGrpVFfXJ0KQdiTWRkJ2+eIGBQEC0KblpKSgqSkJB0e3rlzJ2bOnKntG5dZDV7S4Qtx8PN0R5kA7+LyfBIKGnoB6Z1ao8TVeCWy5owAzvwFdB0PjFoN3P4OUKmNEoCq0XNdfwTq2G5KGFa5yShTQ2HY6TXguDpHnjPF66avgbjzRm5hcYbnt34C8NMAI8Tee5oSuI3UJRYvX5yLMmx5tmzMpfnkk08wcOBAbN26FVOmTNG975555plCa0HzdC9duoR77rkHK1asKPKWOodrSlMPhOVfv4AuiUvh/uBKwDfItlQQhOtNbGysLhi9ZcsWPRZ6XqDoe/XVV1GyZEmsXLlS7+/cuXP49NNPr0uomMK0devW+OOPP/J8Tf9GSloGnp+zE2npGXivRyN4uTtr0Eg9DhmK3DnTyJ2zWmM/4aIxwgVDvvW6K7F1o1HPjvl7DNcW51YAw8OpicC5HcCRFUZZGn5fZZTAqtsNqHaLLZfxar2aixhKK5aNYS3Go6uANqOBRg8AXiUKPCx88OBBrFu3Dn379s2TJmIprXzd8TSYc+fO1fk1y5cv18M3MeHayuN4uqh/vF6X0nXgkp5kdIcXBMFSMOJBMcmGbpUqVTB69Gj4+PhY0itI2MjdfToaraoGO2/nEZ3TpcTSH28Dv78JXNgHRB600HTIKN1y83PAoEVA20eBsBts4qSYCKh/gwLKy9/wXLKczbDlQGslsPidLRtrhGC3TALO7zZCsfSCXq/cQgrX80p0zxkFnNkG3Pmh0fnGWzXkikF+YE7kyzMYHx+Pnj176sKsM2bMwPjx43WOzdixY+Hl5WVbq2C53p5BwgfF0lVr0XltX7irL9ml4X1qrrNaUEEoXhSEZ5CeuOHDh+P999/XI46wI8lnn32GqVOnatuWk2eQjWDaBsIGo71t4nwzpYboBqXaR/Z55vzsFKZnkEc/F5WIWz9ehZ8fao2qIf7OV1qGD28WP+bD+/RfwL1fAlXb20p92NaxAvT+FVMxkmfYkZMjmuz62Qgd8/4pVVWJ3ceAajf/fc36virsL1PdTfwtHfzVyG8MrmYIwcBKhfq5X3fPII3iG2+8oQdwN1vO9evX10VaLY36PfkEheFkepDhss67nhYEoRhCG/biiy/C399fewcXL16MoUOHwtOTI3P884FCUcc0Ga4zaNAgfPHFF1lD1lHsnTx5Uu/n8ccfx+DBg/H777/rNJvHHnsMw4YNwxNPPKFTbq5HVIXnt/dsLEp4u6OkjxOOPEKPIEfF+O5u9VRMBoYtA2rdZnih3JUYpCC0ymQ1IUjYE5miq/0zwOjNwK1vAwHlgfkPGwWtV6i/T6n5RXFv0fO6Som/uQ+q39DtqlExQQnTKg7xuee7A0nZsmW10axQoQImTJiA2rVr52gsrQRDxeWDSmBpegtksA6S7uouCIJVoCfu4Ycf1jaubdu2ePPNN/XII/TcZYfrcP3ffvtNew9pB+fNm4eLFy9mef7Wr1+P0NBQ7Wns06cPJk+erJcx/5ACkmMejxw58h+tem7L9TgVFhmqLbvnbDSC/Dzh7eGq7ZtzoC6cyf1rxhseQfak7TMTCKmlnozOmjPpyKjfLUPe9boZIuzhjUCj3urHPc8oUTOxA7B3kVHnj3mhBRpCVvtifuAPPY3OIl3eBDq9AviF2jySxZ98/eLZ8uVA7uxFzPE7aewmTZpk6ZxBk7Kl/LDCpTnSLhwyemcJgmAZ2KBlqPnw4cPavtGLxxzpq4ky5krTa0hxx9caNWogLi7OthS46aab9N8sT/Pdd9/p8Y3pfWzUqBF2796Njz/+GK+88oruvWxCIfjzzz/rcDWF4vnz5/W8goYjjxyIiEOwvxKD7m7O4RmkNzD6jCECWVj5lpeMXqtZyf3OIoithvreGBZmORx27GSomEPmdZ9o5Ef+8jww5R5g8dPA0dUFk1vI39KRlcD0vkBStFErsUEPwN1LnYvjNCrydaY0jJcvX9a5g4cOHUKnTp10PkthtmKLBcpaent6oHzFKjif6mv0FBIEwTLQA3jgwAGdD82wL0O5nK5m27KLtOzREeb0UFRSDFJk/vDDD/oYzEVkg5rRlT///BNHjhyxbWHAGodvv/229kwGBgba5hYsSanpOB+bjGqlnSRXkF6hszuB2cONJP87PwKa9DOS+51CCTsL6rtkxxj/0kCNTkbZnEELgTp3G2MCzx5hDLW3azZw8bDRU1lH+a5RGPKeT00Atk83wsLMC2SR7vBWDicESb7OlsaMhVm7deuG8PBw+Pr66nBJTqEUK0FzQaPZskZ5nMgIMYpgFkKLXRCE6wNtGPP+fvrpJ53L98EHH+jpaikwFGq0fYyW0INIjyLtIaMknMfk7htvvBH16tVDly5dsGzZMj3fDAMzPGy+N+GxmLNYunRpPV0tXzG/JKakIzI+GQ0qlLS4FlI2mkLwwC/AT/2NHLr+c4xOBnx4izfQwqjv1tXDKKLd/mkl2mYBfZSIKxlmdPSY0g2Y94hqJGw3UgfoLdRlha7yXOcydlxZ+iKw7CWg1UPAXf9nhIUdNC8zX72JCY0de/eyMwmNH98zXFwYRovwdK93b2LCT+3Q2YtY//WT6FfuFFw4tiJrNwmCcF0pqDqDrIxgdgIhDAGzAwjDu9ntG0XcxIkTsXnzZr0tRd+DDz6oa64yT5AeP9YtrFq1qg73UhB2794dzz33HLy9vREZGakb1Awf8+/sFGZv4oPn4/DAV+sxfUQrVAv1t64g5EN+xTvAX1OMXLKbngF8SqoFIgKdFj7IY88A+5eqabExFjLHCa59J1DzdqNjSk7i7twu4NdxwOWjxrB9de6yNSiuDwXRmzhfYpAG6vjx4zrMcfbsWW0s2Xq+WqJ1QVBcxCCJikvE559/iDEeM+E+eKFqdVRUc8WwCML1pCDEIMUde/zyldP27dtx4cIFvPXWW1ctOk3hyHW5jBNtoP3fXM5X2jDaLb7ncv7Nieub87NTWGKQ9QUX7jiL/1t2AEsfbwcvK+YM0osTc9YYASLmFND5daNIMT2DlrtYIfcoCaTuQ2Smq4f6SWDtp8Dh34yxkDkCSuuHgdBaRhoB1dKJtcDch1Tr0A+4XzUsdG/h61un8bqXlqFxY8uXic/Md2Enkvnz5ztFBxLCD/1CiXpIS1Q/mmhlZPIsqwVBKE5QkN1yyy3o2LGjbtwyd5CCjOLtatBjaHYi4XuKO77STvC9fQcTcx6Xm/Ny8jgWNuxJvPnoJdQuW8LIF7SaNmJYmGPI/9hbXax632uqMSYsS8aIEBQ06ndA7x8bB0FK2N3xPjBwoTFEH38jswYD0+4Hlr8G/PEm8PMwo2zMgLlq/apqOw9L/JbyJQbZmmX5BPacY85MxYoVdbiY850Bd2XQvQJLY29aeeCIMjiiBgXBElD00QtH7yAn5vjR40gBZyXYk3jLicuoUy4AruqBZh15pGxxciywbRqw4FEgtKZ6eM8DKjQ1HvoSwRFygp0+KO5KVTJK1Nz3NfDADKBcY+MZzyHw2j4B3DLO6JhCj6BFyJdlY+uWPezY247Fp/lKY1nUrdvrBVvS4SEBWJVeDzi4jOrYtkQQBEeG0Y1du3Zh586demJZGOb8XQ/vXWESGZeMiJhk1Czjr2y3Ra5LJ/enAEueA35/A2j9CHDXeMAn0FIPb6GwUfcDGw7lGho9kdkvYPBioMVQwMvPEI4WIl9Xw0RnxqhZ9qBhw4Y6Ybp8+fJO4xmkGKxeNhBbM2siPfIIEHNGzRVBKAiODkUfw8S0aRwdhHbOvm6gVTgWGQ8PNxeEBnhbw1dGIRixx+gdenozcOcH6uE9zBhNRLyBQl6h8PMuCZQoZ3gOLfhbyre0pdFs1qyZ7hnHSv1nzpy5al4NRSJrbR09ehQnTpz4R4FV1is8duyYToaMiIgo9rmHDKvUKFMSF1AK0elewNltvBDbUkEQHBXmQ9MTyJ7BhLbo66+/1nmDVmrsHr0YD093V4T6X7+ekAVGegpweAXwQw8gRQn33j8YvULdxBsoCP9FnsUgjSTFHCdW56eR5HQ1AUcDym2++eYbPRQTX9n5xDS2hEJy6dKl2LBhA8aNG4dNmzYVa8PLaFFICW94lSyNy+k+yDy91WiZCoLg0JiNU7OHMF+ZM2gleI3HLybA19NNjz7i0CQr8ffne8C8h4B69wL95/7dy1M8goLwn+RZDFL0seYWB1o3p6efflpX7c8pyZoGlWKRydjcjqEXFmblAO6m4KtSpYrOO7z77rvRsmVL/PXXX1nLuD29igzV8LW4iEQ3N1fUDi+LI+7VgAv7RAwKggWgDWMtQA4Tt3DhQj3mMFNgGAmxCunKhJ64nIB65UvCyz3fQaLrA+0ty4EsfALY8RPQ7mmg4zjAN1h9idev7JggOBp5tgA0lq+//rruOGJO77zzDqZOnZqjwaR44/id3I65hiynwMKsnEeYlM2JYpLjeM6ePRu9e/fW87gtxSAHc2etLZZ7uFoouqhxU9fTODwIy1IbIvPCfhGDgmAB2DmO4wHffvvtur5gu3bt8NRTT+n5VuhAwqZ0RkYmTl5KQLNKpXTKi2OhroCjRJzdAUy+Ezi33RgTttlAwMPHCNsIgnDN5FkMsi4WRxoxh0oyp6CgoBw9g4QC0F7E0VNovy7f16lTB0uWLNGtclb05/o0vhSY//d//6cLybKmIY1ycYAd8KqWDsC6tNpIi78ERB6i8rUtFQTBEWED9Ndff0X9+vUxdOhQtGjRAmvXri32eczXjDJRcclpiIhJQnNHFIMcTWSrEn8z+hplP3r/CJStb0vuFwQhtxRZbIBCj5XzKSLZ0qZHkGHgUqVK6c4izB1k+Jf5hyVKlEBYWBj27t1r29rALM7KqbhAIxro5wUX7wCc9QhD5t6FytCKd1AQHBmKPjZGzcYqG6VspNJOFZcUlfyQqf5tPXEZAT4eKFvSx7EcaYmXgT/eMsrGNOgJdP/SKBZssVIfglCUFNndQ+8exdzw4cN1xxHmDT7yyCMoW7YsXn75Zd0RhR1HWOmftQuZW8j5V/MyFhcoBkv6eMLH2wsbEysaYpDhC0EQHBYKPkYfOPQlG6iJiYmIjo4u9vYoN6w7EolKQb7GyCOOgB4u7BQwayiwey5w18dA+zGAu7cIQUHIJ/kamzi38FDslcfWNY0qQ78UiWyF0/Dy1exdTOHIKXt+DvdRXMYmNklMSceI7zag9rn5eM57DtyGLjVaqoIgFDkFMTYx7RQ7jjB3mSMrnT59Go0aNdIN2JzsUmHDlJqCHJs4NT0DPSesQ+OwQDx/R53i24GEURaWjLl0DDi5Hlj1f0BgONDlTaBMXQkLC4Liuo9NnFtM76Cvr6/uREIxyBNn2Nd89fPz0xPfF7XBzSus3N+schDOelZGBg3X5SO2JYIgOCK0R3fccYfuFDdgwAAtBH/66SeHsUn/Blv/sUlpOB+ThPAgX533XKygf4LRFeYFntkG/DzcKCK9/FWgZheg53dAuQYiBAWhABHfegFAY9qicjB2JoUiHUqVS71BQXBYGH1g/jI7kLz33ns6dYV/f/vtt1nRDEeG13cxLhkp6ZkID6YYLEbXw1DwxQPAmvHA5LuAqfcqUZgEdHgBGLUKuP19wC9YwsKCUMDIHVUA0JjWr1ASsfBFRJ3ByNz0LRCx27ZUEARHgrVMb731Vmzbtg0vvfQSevbsiTvvvBO1atWyhmcwU+mtWCUG0zK0Z/C6XxIbzgmXgKMrgRkDgG+7GD2FyzcGhv9ujCTSpB8QUIHhJdtGgiAUJCIGCwDaJ093N1QODcAvPncgk6UOFj9jGDgdlBEEwVFgKgtLW23fvl3nDTIHkd40KwhBQot0LDIB3p6uKF/S5/p4BqlIGQY+vxf45UUjDDx7OODmCdzzJTBwPnDrG0buNeexgLQIQUEoNEQMFgAu6h975FUL9cfq44lIv2kMEH8BWPc/IP3v4fYEQSj+MF/5ueee03VN2YN49erVmDJlCn755RdL1BlkseldZ6LRNCwQHkXZccTsDMIRQ/bMBeY+BHzfHTi9Gah6M9BnphKCXwA1OwMlw5QI9JJwsCAUEXKnFQBssLITSVUlBg9FJiE+oBrQ5XVg87fA/iXKCFqkUK0gOAGsdEBByF7Eo0ePxvTp03U5rFWrVmkxSC+hI5Ohzn/X6Wi0rBpc+J1H+FmZnUFizgLLxgHfdAHmPwokXjI6g/SbDXR+FSjXEPBgmZjiMaCAIDgTIgYLCBrVSsG+SEvPwNl41QKufCNQ63bgz/eB+Ei1hoSLBcHRYGiY1Q8qVKiAt956y6GqHOQErVBMUhqORyagReWgQgwRqyNRCCYo27dFCT6OFPJFK+DUJqD1Q8DQZUoEzgLCbgC8SogHUBCuM3IHFiBaDGZk4kxUkmrh+gG3vQ24uQNzHwSS42xrCYIgXB/o1dx/Lha+nm4IKeFVCGl4SgAmxwJndwJLxgCfNAbWfAy4+wB9fwYGLwZaKXsYWks8gIJQjBAxWEAwb7BiKaNn3tGL8cjgR+upBGHHccDpv4DtM4AMCRcLgnD9UG1V7D0bjVK+nvDxcNN2K9/QA8jcaOZJr/4ImHoPMK2XUVGBo4T0nwvcNxGo0EyJQi/11FENZPEECkKxQu7IgkLZVLa2ezYLw5ytp3E+Lll9uqrlW6kt0OZRYN1nwBklCiVcLAjCdYKdR/afi0Owvye82Xkkv1qQHUKOrQF+eQH48mZg12ygTAOjI0jfmUC9e4HgqsaQcbSHgiAUS0QMFhC0qe5urhh+U1X9+v7S/Uhn3Wm2hFsMAUrXAZY8ByRGqZkiCAVBKHqS09IREZOEysF+2k7l2y8YFwEsUI3dIyuB294BBi0C7vwAqNbBiIxoAVgA3kdBEAoVEYMFCE1egLc7+t4QjtWHLmL3mWgdQdEJ0h2eV0LwMrDyQzbP9fqCIAhFSWJqBi7GJ6NBhZL5zxdkqZhTW4D0ZCUCFwB17gK8S6qnirttBUEQHAURgwWMu6sr7mhYDk3DA/Hqgj1ISElTKlFZXSZMs9zMtu+BfQuVIZX8QUEQipaE5DRciktB/YpKDNrm5RmWjNk+3agR6FNKHICC4MCIGCxgqPuYi/Nwh+o4HZWI6ZtOGuFiVw+gSjugtmo9r3gbSIo2Eq8FQRCKANYXPBARC09lnyoF+ao5+VRvUSeAs1uBGrfavIGiBgXBURExWAi4ubqiWml/3NO4AmYoMRgZn4JMftQsN9PpVcArAJj7iCEIBUEQigD2JN507DJqlilhjDySL+2mdsaOIx4+tjIxIgQFwZERMVgI0C56urli9C3V4e3hirFzdyKV7kEmU/sEAjc/D5xYa/S8k3IzgiAUAexJvPnYJdQpGwA3ZaTyJd+Y93xiPeBfFggMt80UBMFRETFYSHCsYm8PNwxvV1UZ4Mu6Q4kOCruqj5yjk7R7Clg73qjILwiCUMhEJabgVFQiapT118Nn5h1lyVhXkKWyGj2gjJ2nbb4gCI6KiMFChEM9dapbBs3CS+GrlYcRl5Sm5iojzFFJmg4EyjYw6nMlXFLzJX9QEITC4/jFBN1ILVfSO58RYmWrTq4zRlWqfafRwBUEwaGRu7gQYbjYy90VL99dF5fiUzDhz8M6iVsLQtbguuUlQwiufM8IuwiCIBQSxyLjdfpKqL+XbU4eoQ3b8JUxrrBnAXREEQThuiNisJChdzC0hBfuaVIBi3acwbGL8UYnYuYPlqoMdH4V2DkT2DNf8gcFQSgUaHOORSbo1JWQ/IhB7oiFpjnEZngrZcekpqAgWAERg0WAp5sb+rWshEBfT7ynRyahGlQw16Z6J6BqB+DPd4CUBMPYCoIgFCCMSJyIjEfNMv7w9szHsHAsNH3xAJCWCFRsIWJQECyCiMEigOFiH2WAx9xaCxuPXcKSXWeNcDEXsDQDh3Fi5f7ZQ4HkGNtWgiAI+YfNSzZAT1xORIvKQboncZ6hGDy6CgioCITUVDZMHiGCYAXkTi4iOA5oo/BA3FgjBJPWHEV8si0kTGPK6v03P2eEXljRnwZXEAShIFBqMCk1HWeiEtG8UimdupJnOPTc/sVAs0HKqEkvYkGwCiIGiwiaX293N4y9ow6iE1PxyW8HkKaHJlGwN16ltkb9wbWfSLkZQRAKjEz1b8fpaPh4uKFikK8OSOQJNlJPbwUSIoFatyujlo9wsyAIxQoRg0UIa3uV8vPEwDaVMXfbGWw/FW1LEVTWma3sBj2ACs2BZexlrAyulJsRBKEAWH8kEuFKCLq75cMryLGI9y0yOr7psYjl8SEIVkHu5iKEZtjd1RX3NqmAEH9PfL36iDEyiUYt9fIHOo4Dok8Bqz4yjK8IQkEQ8gEbnBuPXEJ4sG/+8gVZV/DsNqB8E8DDW5msfOxLEIRiRZGLwYyMjKwpM1vPWf5tv9yK0H76e3ng/R6NsOd0DGZuOfl3B2KGXQLDjA4l234A9iwwQjOCIAh5gKYlNikNp6MTUYliMD8jj8RfAC4fB+p0VbZK/AiCYCWK7I6m0EtLS8Py5cvRrVs33H333Zg1a1aW6OOyP/74A3379tXLn3jiCURHR+tlVoOCsHppf3SsUxrfrT2O87FJf/v/XD3UwluAWncAK98H4s6rmVeKZkEQhGuBdjcyPhkpaRmoFOSX984jrIF6cBngGwRUaKZmiFdQEKxEkYrB1NRUTJ48GZ988gk+//xzfPbZZzh79qxe7ubmhqZNm+LTTz/F1KlTUatWLSxbtkxvZ2L/3tHxdHfF8Juq6RIzX3JkErP2II21uw/Q5XXAOxCYPQJIijWWCYIg5AKazMi4FC0GGSbOc2Q3PcWIVnD4OdZHzfOOBEEojhSZGKQHMDY2FgkJCShbtiyCgoLQqFEjXLx4UYs8F2VcAgMD9XwvLy+cO3cOlStXtm1tbD9//nx89NFHWkg6ehiZLfRgP0882bmm7kzCBG9jqDoudFNCMABoPwa4sN8wwjI6iSAIuYQW5cSlBHi4uaBCoI+2s3ni7HYgMQqo1EbZJwkRC4LVKNK7OiUlRXsACY0SRV96+t8ihwKP68yYMQORkZFo2LChXo9ikcvatGmDXr16oWfPnpbwEnq4ueLG6iE6ZPzN6qNIVa33rKuiIKzcFrjpGWD1/yljvMNo5guCUOygPUpOTsalS5f0lJSUdIWNop2LiYnRdu3y5cs6SkKbxleuz/ncpqAbuWxg7jodjfoVSsLb3TVvwV1ex7E1gFcJILi6miFeQUGwGkUmBk3PH6Hgo3Hcu3cvAgICtNHkxPnTp0/HgQMH8Pbbb8PT0yhqym3d3d0RGhqKChUq6FdTVDoybKT7ernjzXvqY9/ZGPy0+aR6GJgPELWQ4ZiGvYCwVsCSMUCSaplL/qAgFDtov5jiQrv1yiuv4LXXXtN50OYy2rT+/ftjypQpGDNmDH766SctBPk6btw4vd0jjzyiBWFBkqnsCcVgy6rBurRVnshUDfZTG4HyTQG/UNtMQRCsRJGJQVdXV+0JpHePhu/dd99F+fLlUaZMGYwePRpRUVGYN2+eNqRhYWFYsGABdu3apQ2plWHvvsohfujZPAz/++MwjlyIsy2xwdb4LS8adQdXfgCkp9oWCIJQHKCNoojbtm0bXn75ZbzzzjvYsWMHLly4oD19nPbt26fTY0aNGoU77rgDK1eu1I3fadOm4cUXX8Srr76KkydPYs+ePba9GnBbikpOebGFCSnpOHQ+Di0qldKN6lzDYyZGA+d2Ao0fUAbLw7ZAEAQrUaSeQXr3aAw5jRgxQuf/+fr6YuzYsfD390fHjh11p5EuXbqgdevWqFixom1r60LzTEHYp2W4zuuZsv743yOTEJZwCKoC3PqmMVTd7nmSPygIxQyGftnYZcSCE/OdmR9NAceGcIcOHeDh4YGbb74ZX3zxBV566SXEx8cjLi5O2z4ua9asmc6hNqEQnDBhAtq1a4f27dvj9OnTuRKEDBEfPB+rO6uVD/TJo7FXx9s9B/ANNuoLSkkZQbAkRXpnUxD6+flpQ1mpUiX9noazXLly2hiGhISgZs2aqFatGqpWrYpSpfLYmnUw2JkkxN8Lb93bAL/vO48VBy5cGQx29QQq3wjUvRtY8zEQe4bxH9tCQRCuN7Rf9vl+TIOh7eLE+atWrdJCjmHi+++/X4eGKRI5zxR4DBtzngm3HTx4MBYvXoyFCxdqz2Ju4G73nI3Vox75eLoZLc/cYvYiDm8JuHvZZgqCYDWkmVdMoHewSaVSeiD5z34/hJjE1L8FIQWxhy/Q+TXAU73OHgmkxNsWCoJwvSlZsqQWgPT0saPIoUOHdGOXtVIZ4t2/fz+qV6+uc57r1auHnTt3wtvbW6fJRERE6PVWr16tU2dMKAZ9fHx0o5gTIyu5aRzTM8hc5CBfT3h7uOVqWw0bnFEngGg1hSkx6OpuWyAIgtUQMViM8FWt91Htq+FCbDJm6ZFJ7PyD7F1MIdhhLHB+L7B1qjLWEi4WhOsNRRY9gyyWz/QXToMGDdKd49hZhGKwR48eOqeQnr7x48fjvffe02Lw0UcfxfPPP4+hQ4diwIABqFGjhm2v+Sc5LQPnYpIQFuQLT7c89CSmGIzYDaQlAxVbqAt1/E57giDkjIsSHFdEJIs7PF2WYrjnnnuwYsUKS/QqtocGfObmk/hw2X78OKIVapUJ0I5BA/VVcbziDROB9f8Dun8NVGptWyYIAmE9Uxaw37JlixZkRQXDwaY5pUDkxL9Nj5x9GNlcTsz55jxzvj3sbMI8ao7SdK3XdDEuGYMmbcL9zcPQt1V47kcfoQhc8JhRxaDnZMDd27ZAEITixMGDB7Fu3To9glteNBGjGuIZLGawE8lt9cqiTIA3vlp5BGl2DxD1uDBCNU36AuWaAMteNMYLdSw9LwiWhPl+ZgcSvqeoM185mcvsl9vPN+cVFEmpGVoQNqhY0jYnNyibkhIHHPoVaDFcmR7xCgqClRExWMxg672krwfGda2LtYcjsfLABaRn1R4k6mHh6Q/cMtYQhj8+ABxbZXgMBUEQFMwXPHIxToeGq4X6qddcikw2Qg8qIUhbU66hsjUiBgXByogYLIa4u7qiWaUgdK5TBq8s2I3zscm2JTZomEOqAz2+NUI3HL94zwIgNVG8hIIgaDOw6eglPbqRl7uyF7l1OGakAgd+AYKrGYKwAD2WgiAUP0QMFkNodxkuHtCmMpJTjRzCK72DCnoFA8oDvacBTQcCCx8DfnkRSIkVQSgITg7txaZjl1CrbAldqSDXUo6FpiMPAVXaGyMh5X4PgiA4ECIGiykMF1cN8cMzt9bC9E0nsedMjG2JHSwAyxFK2j8NdPsfcHQlMK03cGGfCEJBcGLiktP0yCM1y5RAroeho+24fFTtJAKofadhZwRBsDRylxdjaMS71CuLGqX98d4v+5CYkkMpGboR6SWseSvQ9ydj3pR7gL0LJI9QEJyU45HxcHN1RYVAn9z79FiyaoeyJeUaASXDxCkoCE6AiMFiDG2wn5e7rj3IVv5v+yJ0Yvg/UWsylBMYDtz3DVD/XuCXF4A/3wcSLomXUBCcjOORCTrVpHSJPIwaQptxcJlqYN5uG4tY1KAgWB0Rg8Ucd1cXNA4LRK/mYXhtwR6cj0m+urajh7BEGaDTK0C7J4GtU4AFjwOx55QgtC9RIwiCVaF9OBYZr8ckDs2LGDy5Uf1P7aR8I6UD5REhCM6A3OkOgJeHK3o0q6he3fDN6iNIv6L2YDZovNnDmJ1KWCiWw0lN6wmc2myEf64c9VgQBIuRqf6dupyI6qH+8PVUDcTcwEbj8bWAdyAQVM02UxAEqyNi0AFgZ5IyJb3xZOeamL/9LPafi/3vyC/Lz3AIqd4/ACE1ge/vAzYrcZiWYltBEAQrQnvx8l118crd9eDhlhsTr4wK84xPq4YjO454+dnmC4JgdUQMOggMF99WvyyaVyqFp2ftQHRiqm3Jv0AvYYmyQNfxQIcXgN9fB2YNkTxCQbA4/j4eKMfOI7lJ96NJuHwciDwMNHpA2Y9cehUFQXBYRAw6CGztc7D5wW0r40JsMhbtPPPP2oM5QQ+hp2rhN1cikOVnLh1RgnAwcHKDMv459E4WBMHhoQbMfbePDGDT10DZ+kpNhqodSMcRQXAWRAw6ECw10zAsEANaV9LjFkfEJNmW/Ac6j9ALqHkb0HeWMY+jlhz6HUhV+xAvoSA4OcoGJMcB+xcB4a2UsWEvYkEQnAURgw4E2+n0DvZpGY4Qfy+8u3QfUtJy0UuYXkKOWtJ9ItCglyEI/3gLSE8RQSgIzgzvf4aHk+OBsJbKVkiIWBCcCRGDDkigrycGtamMdYcjMWvLKaSk50IQMvTjF2qMWtLldWDPHGB6X+DiAbVQBKEgOCVMGWHFAUYQWGzaVR4NguBMyB3vgHCs0c51y2D0LTXw3tJ9+OrPI0jNrSB0U0a/4f1An5+Ay8eM3sZHVqqHQi72IwiCNchQYnDfAqBBD8DTX82QfEFBcCZEDDogOlzs7oruTSvgmds4dvEJvP/Lft3D+Jp9e1oQehhlZwbOB2p0BuY9BKz6CEiOlbCxIDgLbABeOgpE7DHSR5hOIgiCUyFi0EFh72IWlO3ZPAxPdKqJ+dvOYPzyg4jJjSAkNPwlygG3vgm0GQ1s+gpYMgaIP294CwRBsDYUg/uXGKMXBXIsYnksCIKzIXe9A0PnHjuUdGtcAe/3bAiOXfz87J2IS0rLnWOPO/LwBZoNBnpMBk7/BUzrDZzdJoJQEKxOaqIx6khobSNELGJQEJwOuestgLubC1pXC8Hr3erj0Pk4PDZ9K85EJ+Y+0svk8fCWQO9pgH9p4KcBwPYfjVEJBEGwJolRwKXDxqgjEiIWBKdExKBFYKeS1tWC8VmfJjgQEYvR07YiNikVGblVhPQKBFUB7vva6GCybCyw4HEgJV46lwiC1eA9zV7ErDdavbOaIR1HBMEZETFoEWjCOQ5p1RA/fDuoBbw8XNH/mw3YcyYmb4KQo5bc9Axw10fAsdXADz2NziXndgFpySIMBcEKpKcBW6cCNbuoe95HtKAgOClFKgYzlShJSUnRU3r6lbloXJaWlpbjMuHacVeCsHqoP97t3lC/f2LGNuxWgvCahq6zh4LQwxuofRcwYA4QUBHYMQP4/l5g5kDgwDIg6rgShkmSVygIjkrUMSBiJ1Cto7rnWWha1KAgOCNFJgYzMjK00JswYQLuv/9+/PTTT3qeCQXg7NmzMWTIEHz55ZdaHAp5g8PWhQX74vO+TVE11E+HjLedjMq9h5APBpafKVUFuPcLJQrnAvdMALwCgJ+HAlPuUcJwiBKGvxhJ6Mwt1B5D+e4EwSFgxxF2HgutpW53EYKC4KwUmRik1+/777/HoUOH8Pbbb+O3337D5s2bbUsNypUrh3vvvRenTp0SMZhPaNZLl/DG290bokWVUhj23WYs2x2Rew+hiR7KrhxQ7RYlCJUwfPQvoPUjhvhb+DjweStg+avAkT+BpFjbRoIgFFvo0T+xHgisZJSUEQTBaSkyMUjP34IFCzBgwABUqlQJnTt3xowZM2xLATc3N9xwww2oW7euaqBe2UI1Q8jnz5/XQpGvEkr+b/gxBvp44OWu9XBb/TIYM2sHFu88i7T0vApttUPulMLQrzTQbCDQazLwyCbgxieBvQuNHsifNAF+fRmIPm2MeyyeQkEoXrCxnZFqdB5p1NsYkUgQBKelSMPEycnJKFmypBZ+fn5+uHTpkm0pNYYLXF1d/yEEibls69atWLx4MZYsWZLjesI/YcjY19MNL91VF0NurIxXF+zB5LXHkJKWzw4gWhS6A+7egFcJoHEfYNSfQJ/pQOuHgZMbgW86AT+qB83KD2wdT5IMT6IgCNcZJQbpxacg5OhDMhaxIDg1RWYBKAADAgIQERGhvXyXL19G+fLltYePnr+cJnsoBrt06YIRI0Zg4MCB+m/h2uBoJT4e7hjVvhoevLkaJq46gv/9cQiJKeqzt62TL9jZhLmFzCWs1BZo+yjQbxbQfSLgEwTsVO859jHzC/cuMsZCZo4hB8cXr6FjwvtT8kMdF4aIN08CKjQ3KgdIxxFBcGqKTFFRvPXs2RMTJ07EwYMHsWjRIvTp00d3JFm5cqX2HDL8e/z4cURFReHYsWP/CAWLNzDv8KPz9nBD35bhGHNrLXy//jheX7QHSakU47aVCgp6DPmAqXyjEoRfGR1P+OrlD8wfDUzpBvw8DNj/C5CSoB5MZscToXhhE3ycKB74PaWnGqWFok8BJzep9ynGsgL/EQmFBr8rDjfJEYZYZN5VNeQEQXBqikwMenh4oFu3brj99tvx448/YtiwYahZsyZ8fHzg5eWlhd+qVat0GJjrTp06Vfc+FgoWCsK7G5fHG/fWx7Ld5/Dq/N2ITVYP+MKCXkOOfVzlJqNH8kPrgDaPGQJjoXqdoAQj8wuPrACSYtQGIiqKBRQMHJkiYjdwYCmwaSKw5Fng++7A+EbAp02BH3qo768dsOU7Q1yIIHQMeO9dPAikqoZY2A3qKSCjjgiCs+OSmT0eW4jwUKa3z8wPpEfQDPlyGf/mfE4MLWf3BnIfzDW85557sGLFCr2OkDv4jaeqz/lQRBwGT96ESkG+mNC/GUr5eRZ+sMje08Qcwl1zgA1KJMaeNZLYGz0AVG5rW1edqF7f5nnSk/lezYe5L9t73VPaNs9+0svVMnM9cz49mMHVgdL1AJ9AdXz1N70knK9/kxb3RJufJzv50OOXcBk4tQE4tgY4sRaIUd8JhYKe1OcSVBUIbwNUam2EFzPTgNUfG0MWevgAHZWo55BmLFWS7b4tSmJjY9G0aVNs2bJFp6ZYATaMW7dujT/++CP/18Tv+4+3gIPLgWG/Gt+dIAgOC6Ot69atQ9++ffOkiai9ilQMFgQiBgsGfutpShz9deIyxs7ZhYqlfPDq3fURpoRhkT3HeRIMPXKou/N7gZPrgUO/AXERaqE6CZ4IPYtZ73li2V6zlqsXOrpzXMf+vd3+KEh5rMRLhoDxVoKQotC7JOAXApQMMyaW3eAr51MYuVAc8Vi2fRVrbCJYh+LV9SbHGl6hiweAC2qKPQPEX1DTRSAp2hiTOqiaIZI5LCG9uiXKqvlljDC/ee06qKD2TRHJfe2ZD2z7QX1OFYG63YyhDH1KGZ9XESNi8N9Q31myut++utno6NWkr2oEedqWCYLgiIgYFDGYb1h38HhkPJ78abse3/jDno0QHuyrO50ULRQt9FIpcUHRksW1nIdtnauuerUF6pj0EDI8femIIZIiDxlTQqThueSYrWmJakoGfIMM7xjFkp6UWPJRAtFDiSQvP/XKiUN6qeNRKOqJx77qidnBc7G9/fuNemu+z2keyT5fTczjS1bXRHGXeNkQa+d2GtPlo4C7OkdPJX491XlT5JVtAJRrrF7rq2sMVgKOntFcekfpbYo9D6x63wj5Uzi3edRID+Dnxv0VESIG/wX+3tmLeM5IYNjvRu1QCRMLgkMjYlDEYIGQoQThiUsJePbnHTgfm4zP+jRBnXIB10EQFhcoqJT4o8dST3GGYIxUYvH8fiWu9hleNXoVKf7oVaS4ohik8AmpqaZaxqgO9LDR22j/WWYXcxTAWnTahGfWezVliVHz/VXmmdsxD4xePopBPalzp8Ar3xSo2Ey9NjG8fxRr7P3Ncy/I75nXwmEKN31rhI/pVWz1ENCwlyEIswRy4SFi8F+gaP/lReDMNqD/bKNB4LT3uXORmpqqbL1qDAgODVPn3N3ds9LriIhBEYMFBoeqOxOViLFzd+H05UTdwaRF5SAnFoT22G6RK+4U9QeFFnvV6umkMcWegxaJejpvdMKg95AldnRvXPUwpudO5+nZJu0JVZ8zQ7As0cOJOXpmDmPW3/bv1TKG9yiwrliu5lH8BTPUW0OJUjX5hap92wxH1tdZmN+r+mxoVi4o4bzpG2D/IuMcbhgB1LpDnV8ptU7hHV/E4L/AlIgf+xiNgi5vqN+N2E+rw2dmTEyMLufm6SkpAY4OBT3FYOnSpbMEoYhBEYMFCkPGyWkZGDNrOzYcvYSP72+MVlWDdfhYyAmb6DFf7d+brxSMF5UoYmcMdy/DE+fhbXulV9HmWWToNuu3nO3zzlGQ/9s66j3/zlWYuhDQnXeUAE5QAoQdFvYtBLyVkLn1baBKO6P8UCGcm4jBq6F+jxePAJOVIL9/ClCxhfEbESwNxQNLtpUtWxbe3sr2CA4Nv8/Tp0/r4XspCukpLAgxKJZAyIKiz9vDVQ9fd3fD8nhh9k78/NcppOV1PGPLYwoudfOZHjp65ij6ODILhR47olRqA9TvbvS0rd7B+Lt8YyC0tjEurH+oEkklbALRXiTaJu7rHxOPYTfxuFkTPYW2kOz1EoKEx+f5MCx9x3tAv5+BOncDCx4DfuhlhJLpOWWuqFD4MES4dx4QUN7IE82xkSFYDTpQOFEkmJU6ZHLcid5ATgUd8hcxKFwBw8Ih/l54vHMNdKpbBh8vP4AF28/o0UoYShZZmEvU56lFkS7PoiYKRy0gOXEZH8gWfyjzWilgKYBvGQsMXqxEcDiwZjwwTYnC/epv5jnSiygUHswn3TEDqHmrEumqAWH1351wXaBI4dCziYmJekpKStITvU9XC0RyPr1dHKHsauucOHFC7yc/cN/MneQoaFc7jrMiYlD4B9Qn/t4eeKJzTQxtWwWvLtiNd5bsxYYjkYhJSNXjGqemZyAtPVOHlrVIlPtK+E/UD4ueQnaq6aqEYN9Zhnd03iPAd12BPQuA9GSbp1B+UAUOe5Ozh3l4K6NhIgiFAEXdrbfeio4dO+KWW27R07333otTp05pQWiKQvM9xaP5N4WaOc9+OScKOKZLcN3sy0n2fZrz7eE8jny2YcMGvT8Tc3985X5yOj/7ZfZ/229rvufEZcRch8cz1+FkLrd/fz2RnEHhqvCHkZyajhmbTmLO1tO6x3F8chrKlfRBlRA/NfmiUrAfwoJ8ULGULyoE+sDXy138DcK1w7zCszuAzd8C+5cooVgVaD4UqHmbkV+YByRnMCfU3bzyQ2D7NGDgQiNULDgFFCbMGaxYsaIe3YsN+IJ46DOKlFM+OcVNfHw8Dh8+jAEDBuDXX3/NGl523759aNmypfbwbdy4UY9ARuHIzhBbt27VOY01atTAwoUL9bP93Llzenl4eLgWcLVr19b3wm+//aZHLuO93rVrVwQHB+tOMnPmzNGdZAIDA/V+qlevrkOrhNph7dq1+Pzzz1GyZEl88MEH8PX11eeydOlSnDx5EnXr1sVNN92kh8RdsmSJ3n+bNm30cZmT1759e70fXtPNN9+MP//8E6VKlcJff/2Fzp0748CBAzhy5IjOz7ztttvg5+enBS5HVqNns0GDBvpaqWG4XzJ9+nR06dIFISEhWef6b/D4FNyhoaH6WrmN5AwKhQp/ll7ubujbqhJmjGyNNc/dgl+fbI8nOtfQAnDzscuY8OdhPDNrB3p8sRYt3lyOO8evwktzd2HettM4ejEel+JTtICkJ9Gxmh1CkcAQcrmGwJ0fAMOWK5FSAVj6LPBNZ+DoKqOsj3gJ84n6/NLTgJMbgYotjTxWwengXUSb3FzZ6YavLMvX1Pi1X/Hp7we1sMwO89lKlCihhRDf8/XQoUN4+umnUatWLS2GoqOjtZiicHz55ZeRkJCgh6OlqKLYe+GFF7S4o6gbMmSIFpcUgBRR9DByGwpbhqGfffZZHZZ+/fXX9d8UmE8++ST27NmjhZMJBc+8efPw4osv4uLFi1qscru33noLy5cv1x5MCimKt0ceeUQvu/HGG/WxeU4UdDxfevh++uknLSJnzpyJd955B+3atdPCkvvt1KkTdu7ciUWLFunrevXVV7WQ5XyKTMJzjouL0wKUQ+9y22sRgoWJiEHhX+Hv0121/rzcXeHj4aZHKrmzYXmMvbOuFohzH26LqUNb4n99m+L1bvVxS+3SiIxPxhcrDqPXhHXoMWEt+n+zEaO+34Kxc3di0pqjWH3woi5jwzxEhpwLqqUqOCgUhAwfc6SXbv8D+vwEVGkPzBpklEHZ9iP0yCn0Igq5hzcXi4+f2wE0HaCsvrsxX3AqKDVC/D3xcte6eK1bvXxNr95dV9v6/9IvFDicKMqGDRuGJk2aaE8aBdt3332H9evXa68hhRXXMUOm9OrdcccdOrxM7xzFI8WcuZw9ac0QNEUkRSBfu3Xrpj2J9evXz1rXhCKOAoxilKHi2bNn6+NSqFKw8Zj0CnI7et+5Dj2FpgePx+f+zPM09//QQw9pDyQ9e/7+/vjyyy+xf/9+LQbPnz+vvZXDhw9HzZo19flxXe53+/bt2js6ePDgYhHhFDEo5AqGBigOPSkOPd1QJsAbdcsFoF2NUHRvWhGPd6qJ/+vVGD8/2AY/P9QGz99eGzfXCtVC8tD5OMzcfAovzNmpnvlr0PPLtXhu9g58veoIft8bga0nonTLNSYxVXsSmYsoOBEUhew9XbE50OV1oP8coz7hireBuQ8pa55sW7F4wocFPQic+KAw4QODDyI+eMyEejM3iq/825xn//AqONQ+d82yjTZT3/icBackwMcT9zapiB7Nw/I13dcsDA0rBuaqDi3DmhQ9vDc++ugjHVYdNWqUEbpW94I9DBdzPkuncLK/nwg9aVzOMKl5v/HeMcUnt7GHy9esWaNTRwYNGoSvvvoKO3bs0NvynOjBND1z5vbmvsx53Acnevu4nTm/TJkyeh+bN2/GZ599hvvuuw+9e/fW65nbc/8mPO9HH31Uh6wZDm/VqtU/zvd6IFZBKDD4u3d3Y3kaN/h5uSM8yBed65bFox1r4NMHmmLy4BswZegNmKqmL/s1Qy9lVPic+mnzSTwybSuGfrcJ/b/ZgPu/Woc3Fu3F+iOXkJBihJhZ3kZ6MzsL/CF5GeVP7vmf0dGEYx0XY48WH0T0BvTq1Uvn7TCHx3yAcdkPP/ygw2KcGFJ66aWXtEB86qmndB4S5zP0VShikIXNt/4AhN1glB0SnB5KlPxO/4UppszJXnCx4UNPGnP12EAyl2V/Nd9fbTnhe4pH5tQyz495tdu2bdPLTHiv0fv3f//3fzrEO2vWLO2lZB5flSpVdKiYuX70VHK/DFFzHeYAUuTxGPRg7t27F2+//bYWr1zP/lx4TYTeQeYU8v5nmLt79+6YPHmy3v8vv/yi7/GqVati9erV2uPJfMfi4Bl0e0Vhe+8w8MfDpEsqfH4RQvGH962Hmyt8Pd0R6OuJcoE+aBQWiC71y6J/60ro36oSbq5VWnsZfTzcse9cDCatOYbv1h7TBbDZeSUhNV1v7+dp1MsSrI76jikAmeMWWlO9vzaDyVY7QzUjR47USeaFDY07HwTMRRo9ejSaN2+uc54YEuLxaaMYFmLYiUKRYSk+IBjqYg7Tu+++q0NN7H1Jr4E9fIhx37ymSZMmaZuXq2tiaP3SUWDjRKDZIKBMXfWxis10Jvj7pOhg6LMoRQePS4/XDTfcoO01w7MUgDwHdgihMGrcuLHuVFGvXj09v0KFCvq+4LYM9XJ7/v6bNWum743KlStr4ccwM7c1xVjbtm31ROFmjrbCfL9q1arpdZirx9w/3pPclh7FoKAgXcqGXjzmIrIDhtnxhNuyQwu9hxSLYWFheqLQvP322/U58vwIO5dQAPLcmR/J0C8bfNxPw4YNdej5zJkz2jNZvnx5vT9e18qVK9GjRw/UqVMn155Bhs55LH5mvD4zl5LHy4sm4uctvYmFYgF/hPxu+WukB5B5yemqZfXX8Sgs2nFGC8KYpDQkpqahWqg/7mxQTueshJTwgr+XuxaagkCKujcxf7d82FIITpgwQdskJqBTHFaqVCnLONNTwAfS0KFDtbDjw425REx058OR3gnmE5k2jeuPHz8e33zzjfZEMDmdQpI9Ia8Z1m7cuwhYMBoYtQYoWdFomQlOA387Zm/iohyOzrDnRuiWr4TvOfG3zYnv7efbr2/OM9ez3wfnmfeVOX/37t1aEB09ehSffvqp1gcUoOa29vsk9vO4P/O9/f2afZ69R9Ae82+ub39d9udozqe4pch8//33dd4kG3e50THcl/QmFiwLbx2zVAGFne6w4umO1tWC8Wq3+joHcfLgFvigZyO0rhqMX3afQ79vNqDvxA0YOXULPvr1ANYdjlSCMRUp0nNZKGIoQE0vII0zc5ro1aPhtufHH39Eo0aNtBCkN4A9IBcsWIDHHnsM/fr1Q2RkpG1N4wFDjyGNPENK9DzkGtZs3LcAqNrBGOlG7VMQigL+fs37ga/me8L3/P1TuHCyX8/+1Vw3+z64DV/t59Prxn2yQcWex/alWsz1zL+J/Tzuzzwf/n21eebf5jHNyVzO9/bXldN8ikLe52+++WaWzSgOiBgUii28bSkO2VmllJ8n6lcoidvqlcPTt9bSPZinDLkBPZtX1OJxxf7zeHrmdtzzvzUYO2eXrou47WQUzsUk6fGWpceyUJiwhyQ7gbCFzenChQu61U7Db3oYmFA+ZcoU3UuSDwY+JCjw6L2gQKTHgOEtEy7nw4JlOjiZD5drhkKUvYiP/gk07a+svURRBOvC3Dt2SmHNPgpD3i/FETYUGWpm7+Jc39OFiIhBwaHgfUPxxw4qtcoGYHDbKvi8b1N8N6QlfhjWEqNvqY6ohBRdxmbo5E3o/eU6PDxtC2b/dUrPN0dPyRo5xbZfQcgPFG3MN2ICOxPUGQ5mThIT1ikOKQYZvmLeEXOE6A2gePz+++91Yvq3336rH2Z58v5dDeYLHvpN3TB+trGIRQwKgpAzIgYFh4few0BfD1QO8dNlE77s3xybXuykax8+0DJcF87+7I9DuOHN5bjvi7V6eL2ft5zC7jMxiIhJ0kWxpYyNkFfYsmfYl51Gzp49q2uZsXQFE90ZsjJDxXx95plnsjqJUBDSazht2jQtHH/++WediF5gsBfxkT+AoKqAd0mjJSUIgpAD0oFEsCT8UfO3wo4oukOKenM2KgmLd53F8j0RiIhNRgJHRlHz6SV0U8/JID9PBPt7IbSEevXzRoh6DVF/h6j57KjC5RSWLJ/DWouc3JgLYvubotRd/S3P3OtLUXcgMdG/NyXuiJkHxHkUi5zMZebf5vrmOtyGrznB3sS5Ho4u7jzwfXeg0QNAq1HiGXRS6Jm+Hh1IrgX+/vk8ZyOII34QpkTY3z/sLMFUCjairnZ/mHD4Ot4f7DH8X+s6KuZnUtAdSEQMCk4DRSGFH8PE55UYPB+TjMTUdCSpKTYxFdFJaYhWryx6nfWaZP6dhjRluDyUkfJwd4WnEoAMV3uqyfjbeGXHF/ZupqeypI+n7dUDJbzddeFtTqzD6OPparyqyV1tS7NlGi++XPG33Ty+Mf/Wf/Kf7b1gcL3EYGGSazHIEPGJ9cDMQcDQX4HA8L9/NIJTUdRikM9n9oBn73p6x/nMZhkVngfLrDBf1oR5suwk9d577+kyL1yfPfBN20exyNI0HM3D7BlsD4eUY49c1u3kfjlWMMurMIc3+7rXAs+V9oND53344Yc6v6+4aQyeo4hBBU9XxKBQ0PB3RS+ivUeRr7w7MtRcvjKcHJVgCMUoCkTb++jEFGOe+juBQ+wpscncRL6mmq+2PMUrJu5UQa8ihSEnc9g/870539tDvXdXr55/zzfWMwSoJz2W9E4qkUpham5PT6aX3tZ4Ty8mjQfNJG3lFe/5zvjPoRExqEhPBRY9qX60F4BeU2zFph39mxXywhViUNkApCcr42Z4qfOO+i2xQxKLw2f7XbGjVM+ePfWYvayvSUFHkUKBxR72rAPIOn3msgcffFDX2mR5Jgo6nifFDksu8f0DDzyAZcuWaaG4a9cufS9QMLLmIEfwYK/csWPHomXLllocMieX5ZcokHjdTMGgQOS+WYyaAooeRI6TzBxde3HKz+qTTz7RYySzI8r999+vl/PcWHeQy1nfkPnBLGPDYzBfmLVF+Td7MPN4HIaOnk6ux0LWnMf6yKypyOuijeL5sw4ivaDscMbxjGmP+bnwvLmM2zG3mEPXURTzXPhcEjGo4OmKGBSKI7yR+PtMSzfEHkdNoTfRFH/qv6yQNd9zGcdnpsiMT1avKXxVk/maNc+2jvlevTLEHa+2TUo1Q4/KNqv/KT2YVaLHDF3bT36e7np8Uh3+LqEmvurJE6G2eb4s6m3ulC+2/xl/8dX4w/w7O7bNcsSQnnbY/vyXTXKNiEFFXAQw4Sagw3NA04HqA5b0cGflCjEYfwaY3kfNNEbLyDO8yZsNBlqOzPG39cUXX+j82eeff16P4kHBN3XqVP3MZk1N1gHkiCAUZKzJyVE9OEoPxQ+HcxswYICezCHbli9frgUTr4P3Aod9o0eQI4LQK/jxxx/r3rksz/Taa6/p9yzQPmLECF2AniLprrvu0hO9kywIzc5eEydO1MWbTagtOCIQxy1+/PHHMWPGDP35de3aVY+TzBzgsmXLagHI/TMHmBqERabZCYxjJVO0UbyyfAyLZVNUsp4oXxm+phjkPUzPI6+Bom7w4MHo1KmTFpMMk1MY8hgDBw7UXlEKyjfeeCPL0ypiUCFiUBD+hsKSpXPoieRrclq6HsIvVonGuKQ0xCWn6tdYJR5j+bd+n6rfG9OVy7k9PYv+3u4o4eVue/XQrwx/M9xtvrJHN8v+ME/SQwlNhruz8ikZNtev/Nucb7wy1K7/znEZRWv+8i5FDCr2zAeWKiF4/1SgQjPbTMEZuUIMpsYAm78pADGoBGB4a6Bq+xzFIAukM/xL0UeRxPF76eFj/T969+h5oxAcM2aMrrFpLwYpiH7//Xft8ePIIbfeeqseto7CZ/HixdoDx2c/RR+hGGStToonlmwZN24cNmzYoEPF/fv310KJwovex2HDhunyTvSwPfHEE/q49N6ZcP/0wj355JN6/xRjrALw9ddf6+0oxii+KHb5nvs3vXX0hHJYyexikKOeUMzy82dYnOdKgcx7maMScWi6+fPn65qjDEsTlpjidXGISn5GPFd6PJk3KWLQhohBQfgn+ibOupP/Lplj3t1/L7r6Mt5bzJ+8GJ+CyNhkXIxTr/HqNTYFF+KSEammi2qiR9L0fprlebgt96f/Vq+ca/xt/95cltP6xnr0HFIH6vxLJQ4Z1mLIu3KwL77o10yLz//C6cUgQ4DLxgKH/wCGLDV6EgtOyxVikD3ZdYiYd1x+UXfqVWpX8pgc6ZYeNQox5hDS20YxSPG3atUqPVYvvV3ZxSAFEQUZQ7/83dPrRpHGUXv422ctQY70w2HkGGKlaKKYojgzxSDFF71/HCucIVt6KD/66CMtqj7//HOtGyj4eHyKRvOcKbzoMaTAY5iXgpbhXM6j95GCk+KLnkmGqnk8Uwwy75FD4rVq1UqfD8tLMXzMoSfp4aTopODjfIpAikvum8PZMaeS52iKQYbPWZ2Aw9VRiPLceWxeL49VGGJQYgeCYAEooOhNMyaGi43JDA9rb5321Lnqji+684sSVpyM3EIjz7CkryeqhfijRZUg3Fa/LPq0rITRHavj1bvr4dM+TTFteCvMfrANZo5qjekjWuFHNU0bZtR4/J4Ti4EPvQHfDbkBkwdzaoFJg1rgm4HG9PXA5pg4oDm+6t8cX/ZvpieKPNaK/LR3E3zYqxHe7t4AY++sgyc618Twm6rigRvC0LluGWUIeZXCf6M+p2odgZueATz/DoEJgjYQFHAc8zvf09VFB0ULQ6YUOMzLo2hhriDFHsUKx+k1GoT/FKUUVAylcpo8eXLWSD4s2UQBxnw/iifOY4iXYu/kyZNaZFFE8dgUgfQmcog6DvNIDx1FG6F9zAl6IenNo1ePopUePE4MDW/atEmPpczwLb16bGyyhijncyxievJ4ndOnT9dCluFfCiwT85h0ZFHEMQ+QOYi8Bu6LuY4MBXNbTpzPcDWFMsdJvpae1PnFTan3V2zvCx1+Ufww+EPgxVMpm0qY0IVqfihM2KRrmV9sdpiIyQ+dMfuclguCkDdobmhzrioobSLSx9NNh44DvI3e0oFKRJZSk1meh3mIoSW8UDrAG2XUVK6kN8oH+qCCmiqW8kFYkC/C1VQp2E/Xh6yipmql/VGjTAnULhuAuuUD9IgzjSoGonF4Kf2eYvBazCG9CcwTGjlypG5NWwE+WOhdoc37z2viF1iqMlC6Np/KnGHMF5wSCgs+T+lVK6pIGu0Hn+8cg5feLXrAGOakmOLQihQ47ETCzhjsRUyxRrHHZz7Dx/Ri0hNYv359nWfHfDp60FjQnSFocwSPKlWqaJE3Z84cfQxqCIZpOZ96g+tzf8zJ433DY7Vo0ULrBopIHt+s+0lxxh7L9Obxs6LH8MyZM1oMMsRNzybD202aNNHnxdxH7p9ClJ1XeBzmMDIiQY8or48CkcdkviCPQ+HHHs8MldPTz33zungtzE/k58XOLvwcKHQZjqYHkwLSXusw+sHl/D75WVNXMXzObfOiifgbKbIwMQ/DL4pxePb04RfIkMesWbN0q4FfHIUgFT3dvvzg6dLlh2eviLkfCRMLgnA1JGdQEP6GDYmsMLF61grFH4aoKTTpeWT42QxPE2oghw4TU+zRNUq3LXsWMZGTF8KhmHhxdAXTNcuLodCjkh8/fvwVrlYaRH5IZnFKQRAEQRAEK0FdRJ1Dx5i9ECxMikwMUvDRVU3VSq8gXZnsRcNWPKFYpDuVLlPC3AKqXW5nikUmVLJbOAd6txeJgiAIgiAIVoBh4yFDhujxyotCCJIiE4OE+YEMFVP4UeAx4dOM1/OC2RvIFIf0ArLeDuEyikf2xGGXc9bdyUtcXBAEQRCcDT5D6UDhc1co/piaJ7vOMZ1j1FAFLRKLLGeQJ2921eYwNfQQsqcMB2lnkma9evV0YiV74bAeEHvxcBuubx8D5+lKzqAgCFdDcgYF4W/4zGRvV3a8NOvkCY4LRT2daix+bYpFh6szyANyOBhW9qbQY2IkexGxOjdr//DC2GOOVcHbtGmju27bVwcnIgYFQfg3RAwKwpXwuUlnjKRXWQOKenvtI0WnRQwKgpANEYOCIDgTUnRaEARBEARByBcO6Rlk0Un2KJ47d654BgVBuIKEhAR06NBBF7i1iheNIT4WtmX9VftC/YIgCBw/mQWvBwwYkDXSSm5wyDAxYZj4mWeeuaYCmrw8s74hQ0dW6YXML+/s2bP6wcAyPFbhwoULOjm2fPnytjmOD3+DHFWH+bFWKfrK3x+Hi+L4n8xfKU7w3Ahzjv39/fV7R4dhYpbW4igN19IBgOuz8kLHjh2zKjY4Ovxe2bHwzjvvtMw1EQp9Pp84soVVOnfwmjisGp+5eREnxRGWt+MweCxvV9yuiX0w7rvvPj1SS140jsOKQZ4yp2u5cfgFUjyyLA0He7bKD5M3G8dQZFX5Ro0aWULk8jtl3gPrUd52222WMYz8DbKTFMUJh2iywnXx9/fOO+/oAvIhISHF7vfH35JVGn4mNPjkWn4/vIc4Nizzqs0SXY4OG/Uc8otDeVHkW+E+4u+UPX05fi6raFgl0sVn7nPPPYePP/7YMp5slsLr3r27HvqOQ+QVp9+fqYfyek4Ugw5pLXnBNPTmxf/XlJt1HWXiNZnXZdXry2m+I07235NVrqu4XxPPyWrk5rM21yuO301eJ/trssp1mddilesxJ/N6rHRd9tdS3K7LPJ/84PaKwvbekvADYmuLoVQOLJ3fD6y4wOtgeI5emezldxwVXhPDqPyuOH61VeB18XqqVatmmZY/r4kep7CwMEuF7KwCvx8Ous/6rVb6zfGaGAmxUq44H+SMGPBe4jVaAV4T7XjlypX1eyvA74YjgtA7bZVrMtGeRfU/hwsT5xbzEq1yoxH7r81K18VQGK/HStdErHZdVv39WQWxD44DvytOVhIY8vtzLBw2Z1AQBEEQBEHIP04hBqnkmcDPy6SaZ3jB0UMMvB5el3lN7BRjlVal/ffFkLEjt8B4Deb18Dr4HfG35+itSl4TjQdfiXlPOfp1WQV+N5ysYh/s7yPCazHvJSvAa2MFBSt8V4TfV/ZnrqNfk/3vj5g2zypYXgzy0qKiovD000/rnIxz587pCt233367Qz+4zp8/r3tyMg9t//79eOCBB3S5BUe/4Qh7bI0bN04PWzh//nzdE81RvysaD44Y8eOPP+rcGY4l2a9fP4fvXXfy5Ek8+eSTqF27tu612rhx4zzXtxIKFto83jvsuc4cNJafYo9O1lt01PuID6pPP/0UEREROk/61KlT+OCDDyyRV8zv6/jx4xg4cCDatm2Ll19+GV5eXraljgevh/aBPaOZz06bwEoKZcqUcdjfH4XgL7/8onsRV6hQQY9s9Oabb+p8XCs8cwnvMWtcyVXgw/j06dM60f3tt9/GJ598outU8cIdGd5k77//Pp599ln9o1y6dGmWl8aR4feydu1a1K1bF+XKlbPNdVxY62369Ol45JFHdKkcliUobjX58gKNPcXFU089hYceegibN2+2xO/PCvB7eO2119C/f3+MHTtWP4TnzZunH9KOCh+4jz76qC4PxlqLFEsHDhywxG+OjSl+T1ZpzPN3xmcT693R5rGRGBoa6tDOF16TWd9yzJgxqFSpEvbt22c5m2dpMcgvkV40igu2UOjWZX00R/8SaTQ48fomT56MBg0aOPTNRvidsIgxxRNHl3H06yEM/bBIKUeNYGty9OjR2lPt6NAjyAZJt27ddJ1Betut8H1ZATZADh06hKpVq+pe3vXr19cjEzgy/G3R3tF+8/pYmL569eoO/5ujs4LepmHDhunIAa/H0a+Jz6SFCxdi0aJFWjANHjxYR68c+ZnL74TRxa+++gpdu3bV3xsLT1tBvNtjaTFIaEDsPYGOfrMR3nAUtRQZDKsy9OjoP0xeE282jmjB6zp27JgOr3K+I8NSBPTgsoVMbycfZI4OvxuGHxmKfOKJJ7SAF4oHtAO0cXz48t6h7bNCbhOvh7+5kSNHaoFhhaLTJ06cwJQpU3QR7VWrVmHHjh16WDFHd1bQc0uB27NnT+1N40ACjgzvIzpdKASZcsHi52vWrHH47yk7lhaDNIysS8WbjF8gW5UM0zm6cOJ1TJ06VbuuX3rpJUuEHgnDqRw1gZ5O1k5kToYjQ280awvSmHCip9AKrUnmbHHoLNbbat68uc55spphdFToDeT9Q28MG4x//fWXrsvnyPDeof1mWsLDDz+Mdu3aWeI+Yvj0ww8/1MNUcvhN1uVj+gWv11GhQG/Tpk1WY4TOCkfOgSS8jiVLlujvifac13fkyBHL2TzLdyDhWJ7sbHH48GHt3mXiO79MR4YtSrqpOe4jk6j5ytwtq/RuogHh9Xz++ecO3YGE4o9DBk6aNEkPX0Rxy9wnK3QgYaI7r4/cddddelxM6UBy/aHNo3eJeYMUgxyukt8VG1eOeh/RblMEcqzlVq1aacE7atQo3RCxgiikqJg7d67u+MP8QUcev5y/P+ZzMkef3xvFLX9/dMo46u+P38/y5cu1d5DfDe0enTA1a9a0xO+PMIJg+dIyvDwzTMwfIydH/wJ5PebXZpVrssdsVfKaHNWAEF4DJ7MFaV6PI18TMb8f8zdoleuyCvbfD78TK9xHvCZO5u/MvC6rYF6jo39XxLwW8/dnhe/K/P2Z8Hqs9PtzCjEoCIIgCIIg5AzFoHWkrSAIgiAIgpBrRAwKgiAIgiA4MSIGBUsjWRCCIDgTYvOEvCBiULAkNIjs9cXSGuxVKQiCYHUuXryoR90SQSjkFhGDQrGAPbVYuZ41xDh16NABzzzzTL6MGksbsJQLh3wSBEEoTjBpn7UTOSZx+/bt0bFjR914te+1mls4NCTLWeVnH4JzIr2JhWIBjdcPP/yAjRs34rnnntM161jTaevWrbpGH4eqK1u2LLp06aK79LOW2ooVK/RIBKxyzzpqsbGxuhYZW8ccyaRFixa6HiP3FxMTgxtvvFEPY8UB71k3isa4ZcuWqFOnjsOXcxAEwbFg5IKF9ocOHYrw8HBtg2jHOJY0x9PnaEUUirRZHGiA9o4F3/k357OuLIce5HjufM+xgDdt2qTnmeMBc2hPDkqwfv16Xf+PdWm5Huv/ic0TTKQ3sVDsoFGjCOTE4rLz58/Xg4PTAM6cOVO3fOnp4xB8HB+XBbjZuqZh5fBoHAOYRbhZZJztHAo/CsdSpUppw8gi5CzIy+OwCDRDKoIgCNcDCjKz4cuJvPDCC7rxGxgYiHvuuQeRkZFaCHJ4To76M27cON1I5igY/fv31yOXVKpUSTeGafO+/vprXeSZAnDp0qXYvXs33n33XT1ONUVgQkKCPo4g2OP2isL2XhCuGzRiHDbwt99+Q2JiojZgNJQ0it26ddMewTJlyuDTTz/VrWYKwscee0wLOo4qw3U++ugjvP/++9pgcrg0tnYoIN988000bNhQb0vjyrF1KRarVKmiw9FWKh4qCIJjwGjIzz//jHPnzuHgwYPa1nHEmF9//RWvv/46brjhBm0TOaY5h0OjveOQaHXr1tUeQIo/joLRp08fVK1aVYtC2jUObde7d29tGxkpoQhcvHix9jpyBBceQ2yeYA+fv/KLEIoNFH8UcRyK7sEHH9QhXLPlTGjAaEA5mcbMDHXwb743/zbhtpw4ny1vvjJszEHUGY4ZMWKE5NcIgnBdYJoLoxwMF48cOVJ79OyHFaXt4oNaP6xtNs+cx/VM22gPPYq0c1zGiAmFIhvF3Pfw4cN19IT51IJgj4hBodhAA0ePH0O/HP+WLWYKtYkTJ+rw8NSpU/WYpMz927lzp/YiMs+wc+fOCAsLQ6dOnfDNN9/o1vSMGTP0tvYCkfunt/D777/Xg6cznHz8+HG9TBAEoaihWKOdox2i3eO47HxPjyG9eX/++aeOdNx888068sHQ74svvqg9hIx20CaywwjnM+KRU8OW89etW6dzo5l3zciLaRMFwUTCxEKxgYaMhnHXrl16onG8dOmSFnv79+9Ho0aNcOutt8LX11cnUK9Zs0aHPtjrmPMaN26MM2fOaDHIhGx2IqH4Y0cSegXZGmaYhDkzGzZs0C1tDgzP1rkYR0EQihrmMLMHMdNiaPMqVKig7RobqsxnfvbZZ3U6C3MCKRy3b9+Orl276ooLwcHBWhSy0x3tZoMGDbQ9ZLiY+zG9g9yWx+D+2ZCmsDSjJIJA6CiR3sRCsYXi8Pnnn8ftt9+uewWbYRJBEAQrwpqozH9m9IId5AShKKDTRMSgUGzhT3Pbtm06IZr5LtKSFQTByjB6wVIxjGawpJYgFAUiBoVij/nzFCEoCIIzIDZPKGooBiXuJhRraBDFKAqC4CyIzROuByIGBUEQBEEQnBgRg4IgCIIgCE6MiEFBEARBEAQnRsSgIAiCIAiCEyNiUBAEQRAEwYkRMSgIgiAIguDEiBgUBEEQBEFwYkQMCoIgCIIgODEiBgVBEARBEJwW4P8BHxMQNcI/i8wAAAAASUVORK5CYII=)"
      ],
      "metadata": {
        "id": "haOmHNA8eS61"
      }
    },
    {
      "cell_type": "markdown",
      "source": [
        "This looks a bit better. Also notice that we reached better performance with fewer epochs of training with Transfer Learning.\n",
        "\n",
        "Now that we have a good model, we can use it to classify the test data where we don't know the correct labels."
      ],
      "metadata": {
        "id": "98SqKS10eVG8"
      }
    },
    {
      "cell_type": "markdown",
      "source": [
        "**Task 2.7.16:** Create a dataset for the test data.  The data is located in the `potato_dataset/test` directory. Then make a data loader from this data set and make sure to **not** shuffle this data! We'll use a smaller batch size here (`batch_size = 10`) because the test dataset contains only 35 images."
      ],
      "metadata": {
        "id": "ZCg_wxFVfMrO"
      }
    },
    {
      "cell_type": "code",
      "source": [
        "from training import predict\n",
        "\n",
        "test_dir = os.path.join(\"potato_dataset\", \"test\")\n",
        "\n",
        "test_dataset = datasets.ImageFolder(root=test_dir, transform=transform_norm)\n",
        "\n",
        "batch_size = 10\n",
        "\n",
        "test_loader = DataLoader(test_dataset, batch_size=batch_size, shuffle=False)\n",
        "\n",
        "print(\"Number of test images:\", len(test_dataset))\n",
        "\n",
        "#output\n",
        "Number of test images: 35\n"
      ],
      "metadata": {
        "id": "Oom-SIQHgy4g"
      },
      "execution_count": null,
      "outputs": []
    },
    {
      "cell_type": "markdown",
      "source": [
        "We want to know the right category (healthy, early blight, or late blight) for each test image. We're not asked for the probabilities, so we'll need to get the actual predicted categories. Someone else looking at this won't know what our class numbers mean, so there is also code that turns the numbers into names."
      ],
      "metadata": {
        "id": "QKCPW6W5sEHG"
      }
    },
    {
      "cell_type": "markdown",
      "source": [
        "**Task 2.7.17:** Make a prediction for each of the test images."
      ],
      "metadata": {
        "id": "hBC6t97FsHb_"
      }
    },
    {
      "cell_type": "code",
      "source": [
        "# Predict the probabilities for each test image\n",
        "test_probabilities = predict(model, test_loader, device)\n",
        "\n",
        "# Get the index associated with the largest probability for each test image\n",
        "test_predictions = torch.argmax(test_probabilities, dim=1)\n",
        "\n",
        "# Converts the class index to the class name for each test image.\n",
        "test_classes = [train_dataset.dataset.classes[i] for i in test_predictions]\n",
        "\n",
        "print(\"Number of predictions:\", test_predictions.shape)\n",
        "print(\"Predictions (class index):\", test_predictions.tolist())\n",
        "print()\n",
        "print(\"Predictions (class name):\", test_classes)\n",
        "\n",
        "#output\n",
        "Number of predictions: torch.Size([35])\n",
        "Predictions (class index): [1, 0, 0, 2, 0, 0, 2, 2, 1, 0, 2, 0, 0, 2, 0, 2, 2, 2, 1, 2, 1, 0, 1, 2, 0, 1, 2, 2, 1, 0, 2, 0, 1, 0, 1]\n",
        "\n",
        "Predictions (class name): ['Potato_Late_blight', 'Potato_Early_blight', 'Potato_Early_blight', 'Potato_healthy', 'Potato_Early_blight', 'Potato_Early_blight', 'Potato_healthy', 'Potato_healthy', 'Potato_Late_blight', 'Potato_Early_blight', 'Potato_healthy', 'Potato_Early_blight', 'Potato_Early_blight', 'Potato_healthy', 'Potato_Early_blight', 'Potato_healthy', 'Potato_healthy', 'Potato_healthy', 'Potato_Late_blight', 'Potato_healthy', 'Potato_Late_blight', 'Potato_Early_blight', 'Potato_Late_blight', 'Potato_healthy', 'Potato_Early_blight', 'Potato_Late_blight', 'Potato_healthy', 'Potato_healthy', 'Potato_Late_blight', 'Potato_Early_blight', 'Potato_healthy', 'Potato_Early_blight', 'Potato_Late_blight', 'Potato_Early_blight', 'Potato_Late_blight']"
      ],
      "metadata": {
        "id": "ddnA0EBYw3nW"
      },
      "execution_count": null,
      "outputs": []
    },
    {
      "cell_type": "markdown",
      "source": [
        "### Training with Callbacks"
      ],
      "metadata": {
        "id": "e0HS2i2Ew2vx"
      }
    },
    {
      "cell_type": "markdown",
      "source": [
        "The learning curve we obtained after training this model suggests that we've likely fit long enough. But a couple more epochs could help. The best way would be to just train for very long, but stop when training stops improving. This requires us using Callbacks.\n",
        "\n",
        "In lesson `025-callbacks`, we modified the training loop to include a few callbacks. That code is in this assignment's `training.py`, but it's now named `train_callback`. Let's import it."
      ],
      "metadata": {
        "id": "g-2s2k0pxD2O"
      }
    },
    {
      "cell_type": "code",
      "source": [
        "from training import train_callbacks"
      ],
      "metadata": {
        "id": "cqQ7nhCjyNA0"
      },
      "execution_count": null,
      "outputs": []
    },
    {
      "cell_type": "code",
      "source": [
        "train_callbacks?\n",
        "\n",
        "#output\n",
        "Signature:\n",
        "train_callbacks(\n",
        "    model,\n",
        "    optimizer,\n",
        "    loss_fn,\n",
        "    train_loader,\n",
        "    val_loader,\n",
        "    epochs=20,\n",
        "    device='cpu',\n",
        "    scheduler=None,\n",
        "    checkpoint_path=None,\n",
        "    early_stopping=None,\n",
        ")\n",
        "Docstring: <no docstring>\n",
        "File:      /app/training.py\n",
        "Type:      function"
      ],
      "metadata": {
        "id": "r7CdEcswyQcv"
      },
      "execution_count": null,
      "outputs": []
    },
    {
      "cell_type": "markdown",
      "source": [
        "**Task 2.7.18:** Continue training the model for another 50 epochs and make sure to include Early Stopping and Checkpointing. You'll need to define the checkpointing path, use `\"LR_model.pth\"`. For `early_stopping_function`, there's an `early_stopping` function in the `training.py`. Import that and use it."
      ],
      "metadata": {
        "id": "qe8-y3KYyXfm"
      }
    },
    {
      "cell_type": "code",
      "source": [
        "# Import the early_stopping function\n",
        "from training import early_stopping\n",
        "\n",
        "epochs_to_train = 50\n",
        "checkpoint_path = \"LR_model.pth\"\n",
        "early_stopping_function = early_stopping\n",
        "\n",
        "train_results = train_callbacks(\n",
        "    model,\n",
        "    optimizer,\n",
        "    loss_fn,\n",
        "    train_loader,\n",
        "    val_loader,\n",
        "    epochs=epochs_to_train,\n",
        "    device=device,\n",
        "    checkpoint_path=checkpoint_path,\n",
        "    early_stopping=early_stopping_function,\n",
        ")\n",
        "\n",
        "(\n",
        "    learning_rates,\n",
        "    train_losses,\n",
        "    valid_losses,\n",
        "    train_accuracies,\n",
        "    valid_accuracies,\n",
        "    epochs,\n",
        ") = train_results\n",
        "\n",
        "\n",
        "#output\n",
        "Model evaluation before start of training...\n",
        "\n",
        "\n",
        "Starting epoch 1/50\n",
        "Epoch: 1\n",
        "Training loss: 0.0005\n",
        "Training accuracy: 95.74%\n",
        "Validation loss: 0.0330\n",
        "Validation accuracy: 86.46%\n",
        "Checkpoint saved with validation loss 0.0330\n",
        "\n",
        "\n",
        "Starting epoch 2/50\n",
        "Epoch: 2\n",
        "Training loss: 0.0013\n",
        "Training accuracy: 95.74%\n",
        "Validation loss: 0.1510\n",
        "Validation accuracy: 81.25%\n",
        "\n",
        "\n",
        "Starting epoch 3/50\n",
        "Epoch: 3\n",
        "Training loss: 0.0005\n",
        "Training accuracy: 95.74%\n",
        "Validation loss: 0.0366\n",
        "Validation accuracy: 86.46%\n",
        "\n",
        "\n",
        "Starting epoch 4/50\n",
        "Epoch: 4\n",
        "Training loss: 0.0005\n",
        "Training accuracy: 95.74%\n",
        "Validation loss: 0.0285\n",
        "Validation accuracy: 86.46%\n",
        "Checkpoint saved with validation loss 0.0285\n",
        "\n",
        "\n",
        "Starting epoch 5/50\n",
        "Epoch: 5\n",
        "Training loss: 0.0004\n",
        "Training accuracy: 95.74%\n",
        "Validation loss: 0.0437\n",
        "Validation accuracy: 85.42%\n",
        "\n",
        "\n",
        "Starting epoch 6/50\n",
        "Epoch: 6\n",
        "Training loss: 0.0007\n",
        "Training accuracy: 95.74%\n",
        "Validation loss: 0.1184\n",
        "Validation accuracy: 82.29%\n",
        "\n",
        "\n",
        "Starting epoch 7/50\n",
        "Epoch: 7\n",
        "Training loss: 0.0008\n",
        "Training accuracy: 95.74%\n",
        "Validation loss: 0.0470\n",
        "Validation accuracy: 86.46%\n",
        "\n",
        "\n",
        "Starting epoch 8/50\n",
        "Epoch: 8\n",
        "Training loss: 0.0007\n",
        "Training accuracy: 95.74%\n",
        "Validation loss: 0.0322\n",
        "Validation accuracy: 86.46%\n",
        "\n",
        "\n",
        "Starting epoch 9/50\n",
        "Epoch: 9\n",
        "Training loss: 0.0005\n",
        "Training accuracy: 95.74%\n",
        "Validation loss: 0.0474\n",
        "Validation accuracy: 85.42%\n",
        "Early stopping triggered after 9 epochs"
      ],
      "metadata": {
        "id": "ZDXL9P-l3dVC"
      },
      "execution_count": null,
      "outputs": []
    },
    {
      "cell_type": "markdown",
      "source": [
        "With early stopping, the model trained a few epochs past the best model. But the checkpointing saved that best model. Let's load it."
      ],
      "metadata": {
        "id": "hl7i1QOR30Nn"
      }
    },
    {
      "cell_type": "markdown",
      "source": [
        "**Task 2.7.19:** Load the saved best model from the checkpointing."
      ],
      "metadata": {
        "id": "eyHtXEMa31-Q"
      }
    },
    {
      "cell_type": "code",
      "source": [
        "# Load the model with `torch.load`\n",
        "checkpoint = torch.load(\"LR_model.pth\")\n",
        "\n",
        "# Load model state dictionaries\n",
        "model.load_state_dict(checkpoint[\"model_state_dict\"])\n",
        "\n",
        "print(model)\n",
        "\n",
        "\n",
        "#output\n",
        "ResNet(\n",
        "  (conv1): Conv2d(3, 64, kernel_size=(7, 7), stride=(2, 2), padding=(3, 3), bias=False)\n",
        "  (bn1): BatchNorm2d(64, eps=1e-05, momentum=0.1, affine=True, track_running_stats=True)\n",
        "  (relu): ReLU(inplace=True)\n",
        "  (maxpool): MaxPool2d(kernel_size=3, stride=2, padding=1, dilation=1, ceil_mode=False)\n",
        "  (layer1): Sequential(\n",
        "    (0): Bottleneck(\n",
        "      (conv1): Conv2d(64, 64, kernel_size=(1, 1), stride=(1, 1), bias=False)\n",
        "      (bn1): BatchNorm2d(64, eps=1e-05, momentum=0.1, affine=True, track_running_stats=True)\n",
        "      (conv2): Conv2d(64, 64, kernel_size=(3, 3), stride=(1, 1), padding=(1, 1), bias=False)\n",
        "      (bn2): BatchNorm2d(64, eps=1e-05, momentum=0.1, affine=True, track_running_stats=True)\n",
        "      (conv3): Conv2d(64, 256, kernel_size=(1, 1), stride=(1, 1), bias=False)\n",
        "      (bn3): BatchNorm2d(256, eps=1e-05, momentum=0.1, affine=True, track_running_stats=True)\n",
        "      (relu): ReLU(inplace=True)\n",
        "      (downsample): Sequential(\n",
        "        (0): Conv2d(64, 256, kernel_size=(1, 1), stride=(1, 1), bias=False)\n",
        "        (1): BatchNorm2d(256, eps=1e-05, momentum=0.1, affine=True, track_running_stats=True)\n",
        "      )\n",
        "    )\n",
        "    (1): Bottleneck(\n",
        "      (conv1): Conv2d(256, 64, kernel_size=(1, 1), stride=(1, 1), bias=False)\n",
        "      (bn1): BatchNorm2d(64, eps=1e-05, momentum=0.1, affine=True, track_running_stats=True)\n",
        "      (conv2): Conv2d(64, 64, kernel_size=(3, 3), stride=(1, 1), padding=(1, 1), bias=False)\n",
        "      (bn2): BatchNorm2d(64, eps=1e-05, momentum=0.1, affine=True, track_running_stats=True)\n",
        "      (conv3): Conv2d(64, 256, kernel_size=(1, 1), stride=(1, 1), bias=False)\n",
        "      (bn3): BatchNorm2d(256, eps=1e-05, momentum=0.1, affine=True, track_running_stats=True)\n",
        "      (relu): ReLU(inplace=True)\n",
        "    )\n",
        "    (2): Bottleneck(\n",
        "      (conv1): Conv2d(256, 64, kernel_size=(1, 1), stride=(1, 1), bias=False)\n",
        "      (bn1): BatchNorm2d(64, eps=1e-05, momentum=0.1, affine=True, track_running_stats=True)\n",
        "      (conv2): Conv2d(64, 64, kernel_size=(3, 3), stride=(1, 1), padding=(1, 1), bias=False)\n",
        "      (bn2): BatchNorm2d(64, eps=1e-05, momentum=0.1, affine=True, track_running_stats=True)\n",
        "      (conv3): Conv2d(64, 256, kernel_size=(1, 1), stride=(1, 1), bias=False)\n",
        "      (bn3): BatchNorm2d(256, eps=1e-05, momentum=0.1, affine=True, track_running_stats=True)\n",
        "      (relu): ReLU(inplace=True)\n",
        "    )\n",
        "  )\n",
        "  (layer2): Sequential(\n",
        "    (0): Bottleneck(\n",
        "      (conv1): Conv2d(256, 128, kernel_size=(1, 1), stride=(1, 1), bias=False)\n",
        "      (bn1): BatchNorm2d(128, eps=1e-05, momentum=0.1, affine=True, track_running_stats=True)\n",
        "      (conv2): Conv2d(128, 128, kernel_size=(3, 3), stride=(2, 2), padding=(1, 1), bias=False)\n",
        "      (bn2): BatchNorm2d(128, eps=1e-05, momentum=0.1, affine=True, track_running_stats=True)\n",
        "      (conv3): Conv2d(128, 512, kernel_size=(1, 1), stride=(1, 1), bias=False)\n",
        "      (bn3): BatchNorm2d(512, eps=1e-05, momentum=0.1, affine=True, track_running_stats=True)\n",
        "      (relu): ReLU(inplace=True)\n",
        "      (downsample): Sequential(\n",
        "        (0): Conv2d(256, 512, kernel_size=(1, 1), stride=(2, 2), bias=False)\n",
        "        (1): BatchNorm2d(512, eps=1e-05, momentum=0.1, affine=True, track_running_stats=True)\n",
        "      )\n",
        "    )\n",
        "    (1): Bottleneck(\n",
        "      (conv1): Conv2d(512, 128, kernel_size=(1, 1), stride=(1, 1), bias=False)\n",
        "      (bn1): BatchNorm2d(128, eps=1e-05, momentum=0.1, affine=True, track_running_stats=True)\n",
        "      (conv2): Conv2d(128, 128, kernel_size=(3, 3), stride=(1, 1), padding=(1, 1), bias=False)\n",
        "      (bn2): BatchNorm2d(128, eps=1e-05, momentum=0.1, affine=True, track_running_stats=True)\n",
        "      (conv3): Conv2d(128, 512, kernel_size=(1, 1), stride=(1, 1), bias=False)\n",
        "      (bn3): BatchNorm2d(512, eps=1e-05, momentum=0.1, affine=True, track_running_stats=True)\n",
        "      (relu): ReLU(inplace=True)\n",
        "    )\n",
        "    (2): Bottleneck(\n",
        "      (conv1): Conv2d(512, 128, kernel_size=(1, 1), stride=(1, 1), bias=False)\n",
        "      (bn1): BatchNorm2d(128, eps=1e-05, momentum=0.1, affine=True, track_running_stats=True)\n",
        "      (conv2): Conv2d(128, 128, kernel_size=(3, 3), stride=(1, 1), padding=(1, 1), bias=False)\n",
        "      (bn2): BatchNorm2d(128, eps=1e-05, momentum=0.1, affine=True, track_running_stats=True)\n",
        "      (conv3): Conv2d(128, 512, kernel_size=(1, 1), stride=(1, 1), bias=False)\n",
        "      (bn3): BatchNorm2d(512, eps=1e-05, momentum=0.1, affine=True, track_running_stats=True)\n",
        "      (relu): ReLU(inplace=True)\n",
        "    )\n",
        "    (3): Bottleneck(\n",
        "      (conv1): Conv2d(512, 128, kernel_size=(1, 1), stride=(1, 1), bias=False)\n",
        "      (bn1): BatchNorm2d(128, eps=1e-05, momentum=0.1, affine=True, track_running_stats=True)\n",
        "      (conv2): Conv2d(128, 128, kernel_size=(3, 3), stride=(1, 1), padding=(1, 1), bias=False)\n",
        "      (bn2): BatchNorm2d(128, eps=1e-05, momentum=0.1, affine=True, track_running_stats=True)\n",
        "      (conv3): Conv2d(128, 512, kernel_size=(1, 1), stride=(1, 1), bias=False)\n",
        "      (bn3): BatchNorm2d(512, eps=1e-05, momentum=0.1, affine=True, track_running_stats=True)\n",
        "      (relu): ReLU(inplace=True)\n",
        "    )\n",
        "  )\n",
        "  (layer3): Sequential(\n",
        "    (0): Bottleneck(\n",
        "      (conv1): Conv2d(512, 256, kernel_size=(1, 1), stride=(1, 1), bias=False)\n",
        "      (bn1): BatchNorm2d(256, eps=1e-05, momentum=0.1, affine=True, track_running_stats=True)\n",
        "      (conv2): Conv2d(256, 256, kernel_size=(3, 3), stride=(2, 2), padding=(1, 1), bias=False)\n",
        "      (bn2): BatchNorm2d(256, eps=1e-05, momentum=0.1, affine=True, track_running_stats=True)\n",
        "      (conv3): Conv2d(256, 1024, kernel_size=(1, 1), stride=(1, 1), bias=False)\n",
        "      (bn3): BatchNorm2d(1024, eps=1e-05, momentum=0.1, affine=True, track_running_stats=True)\n",
        "      (relu): ReLU(inplace=True)\n",
        "      (downsample): Sequential(\n",
        "        (0): Conv2d(512, 1024, kernel_size=(1, 1), stride=(2, 2), bias=False)\n",
        "        (1): BatchNorm2d(1024, eps=1e-05, momentum=0.1, affine=True, track_running_stats=True)\n",
        "      )\n",
        "    )\n",
        "    (1): Bottleneck(\n",
        "      (conv1): Conv2d(1024, 256, kernel_size=(1, 1), stride=(1, 1), bias=False)\n",
        "      (bn1): BatchNorm2d(256, eps=1e-05, momentum=0.1, affine=True, track_running_stats=True)\n",
        "      (conv2): Conv2d(256, 256, kernel_size=(3, 3), stride=(1, 1), padding=(1, 1), bias=False)\n",
        "      (bn2): BatchNorm2d(256, eps=1e-05, momentum=0.1, affine=True, track_running_stats=True)\n",
        "      (conv3): Conv2d(256, 1024, kernel_size=(1, 1), stride=(1, 1), bias=False)\n",
        "      (bn3): BatchNorm2d(1024, eps=1e-05, momentum=0.1, affine=True, track_running_stats=True)\n",
        "      (relu): ReLU(inplace=True)\n",
        "    )\n",
        "    (2): Bottleneck(\n",
        "      (conv1): Conv2d(1024, 256, kernel_size=(1, 1), stride=(1, 1), bias=False)\n",
        "      (bn1): BatchNorm2d(256, eps=1e-05, momentum=0.1, affine=True, track_running_stats=True)\n",
        "      (conv2): Conv2d(256, 256, kernel_size=(3, 3), stride=(1, 1), padding=(1, 1), bias=False)\n",
        "      (bn2): BatchNorm2d(256, eps=1e-05, momentum=0.1, affine=True, track_running_stats=True)\n",
        "      (conv3): Conv2d(256, 1024, kernel_size=(1, 1), stride=(1, 1), bias=False)\n",
        "      (bn3): BatchNorm2d(1024, eps=1e-05, momentum=0.1, affine=True, track_running_stats=True)\n",
        "      (relu): ReLU(inplace=True)\n",
        "    )\n",
        "    (3): Bottleneck(\n",
        "      (conv1): Conv2d(1024, 256, kernel_size=(1, 1), stride=(1, 1), bias=False)\n",
        "      (bn1): BatchNorm2d(256, eps=1e-05, momentum=0.1, affine=True, track_running_stats=True)\n",
        "      (conv2): Conv2d(256, 256, kernel_size=(3, 3), stride=(1, 1), padding=(1, 1), bias=False)\n",
        "      (bn2): BatchNorm2d(256, eps=1e-05, momentum=0.1, affine=True, track_running_stats=True)\n",
        "      (conv3): Conv2d(256, 1024, kernel_size=(1, 1), stride=(1, 1), bias=False)\n",
        "      (bn3): BatchNorm2d(1024, eps=1e-05, momentum=0.1, affine=True, track_running_stats=True)\n",
        "      (relu): ReLU(inplace=True)\n",
        "    )\n",
        "    (4): Bottleneck(\n",
        "      (conv1): Conv2d(1024, 256, kernel_size=(1, 1), stride=(1, 1), bias=False)\n",
        "      (bn1): BatchNorm2d(256, eps=1e-05, momentum=0.1, affine=True, track_running_stats=True)\n",
        "      (conv2): Conv2d(256, 256, kernel_size=(3, 3), stride=(1, 1), padding=(1, 1), bias=False)\n",
        "      (bn2): BatchNorm2d(256, eps=1e-05, momentum=0.1, affine=True, track_running_stats=True)\n",
        "      (conv3): Conv2d(256, 1024, kernel_size=(1, 1), stride=(1, 1), bias=False)\n",
        "      (bn3): BatchNorm2d(1024, eps=1e-05, momentum=0.1, affine=True, track_running_stats=True)\n",
        "      (relu): ReLU(inplace=True)\n",
        "    )\n",
        "    (5): Bottleneck(\n",
        "      (conv1): Conv2d(1024, 256, kernel_size=(1, 1), stride=(1, 1), bias=False)\n",
        "      (bn1): BatchNorm2d(256, eps=1e-05, momentum=0.1, affine=True, track_running_stats=True)\n",
        "      (conv2): Conv2d(256, 256, kernel_size=(3, 3), stride=(1, 1), padding=(1, 1), bias=False)\n",
        "      (bn2): BatchNorm2d(256, eps=1e-05, momentum=0.1, affine=True, track_running_stats=True)\n",
        "      (conv3): Conv2d(256, 1024, kernel_size=(1, 1), stride=(1, 1), bias=False)\n",
        "      (bn3): BatchNorm2d(1024, eps=1e-05, momentum=0.1, affine=True, track_running_stats=True)\n",
        "      (relu): ReLU(inplace=True)\n",
        "    )\n",
        "  )\n",
        "  (layer4): Sequential(\n",
        "    (0): Bottleneck(\n",
        "      (conv1): Conv2d(1024, 512, kernel_size=(1, 1), stride=(1, 1), bias=False)\n",
        "      (bn1): BatchNorm2d(512, eps=1e-05, momentum=0.1, affine=True, track_running_stats=True)\n",
        "      (conv2): Conv2d(512, 512, kernel_size=(3, 3), stride=(2, 2), padding=(1, 1), bias=False)\n",
        "      (bn2): BatchNorm2d(512, eps=1e-05, momentum=0.1, affine=True, track_running_stats=True)\n",
        "      (conv3): Conv2d(512, 2048, kernel_size=(1, 1), stride=(1, 1), bias=False)\n",
        "      (bn3): BatchNorm2d(2048, eps=1e-05, momentum=0.1, affine=True, track_running_stats=True)\n",
        "      (relu): ReLU(inplace=True)\n",
        "      (downsample): Sequential(\n",
        "        (0): Conv2d(1024, 2048, kernel_size=(1, 1), stride=(2, 2), bias=False)\n",
        "        (1): BatchNorm2d(2048, eps=1e-05, momentum=0.1, affine=True, track_running_stats=True)\n",
        "      )\n",
        "    )\n",
        "    (1): Bottleneck(\n",
        "      (conv1): Conv2d(2048, 512, kernel_size=(1, 1), stride=(1, 1), bias=False)\n",
        "      (bn1): BatchNorm2d(512, eps=1e-05, momentum=0.1, affine=True, track_running_stats=True)\n",
        "      (conv2): Conv2d(512, 512, kernel_size=(3, 3), stride=(1, 1), padding=(1, 1), bias=False)\n",
        "      (bn2): BatchNorm2d(512, eps=1e-05, momentum=0.1, affine=True, track_running_stats=True)\n",
        "      (conv3): Conv2d(512, 2048, kernel_size=(1, 1), stride=(1, 1), bias=False)\n",
        "      (bn3): BatchNorm2d(2048, eps=1e-05, momentum=0.1, affine=True, track_running_stats=True)\n",
        "      (relu): ReLU(inplace=True)\n",
        "    )\n",
        "    (2): Bottleneck(\n",
        "      (conv1): Conv2d(2048, 512, kernel_size=(1, 1), stride=(1, 1), bias=False)\n",
        "      (bn1): BatchNorm2d(512, eps=1e-05, momentum=0.1, affine=True, track_running_stats=True)\n",
        "      (conv2): Conv2d(512, 512, kernel_size=(3, 3), stride=(1, 1), padding=(1, 1), bias=False)\n",
        "      (bn2): BatchNorm2d(512, eps=1e-05, momentum=0.1, affine=True, track_running_stats=True)\n",
        "      (conv3): Conv2d(512, 2048, kernel_size=(1, 1), stride=(1, 1), bias=False)\n",
        "      (bn3): BatchNorm2d(2048, eps=1e-05, momentum=0.1, affine=True, track_running_stats=True)\n",
        "      (relu): ReLU(inplace=True)\n",
        "    )\n",
        "  )\n",
        "  (avgpool): AdaptiveAvgPool2d(output_size=(1, 1))\n",
        "  (fc): Sequential(\n",
        "    (0): Linear(in_features=2048, out_features=256, bias=True)\n",
        "    (1): ReLU()\n",
        "    (2): Dropout(p=0.5, inplace=False)\n",
        "    (3): Linear(in_features=256, out_features=3, bias=True)\n",
        "  )\n",
        ")"
      ],
      "metadata": {
        "id": "XQjDE7Nc4qgA"
      },
      "execution_count": null,
      "outputs": []
    },
    {
      "cell_type": "markdown",
      "source": [
        "And with that best model, we should be able to improve our predictions."
      ],
      "metadata": {
        "id": "_KTbcAtG43sm"
      }
    },
    {
      "cell_type": "markdown",
      "source": [
        "**Task 2.7.20:** Use the loaded best model to make predictions on each test image."
      ],
      "metadata": {
        "id": "AAX3LZTz46CA"
      }
    },
    {
      "cell_type": "code",
      "source": [
        "# Predict the probabilities for each test image\n",
        "test_probabilities = predict(model, test_loader, device)\n",
        "\n",
        "# Get the index associated with the largest probability for each test image\n",
        "test_predictions = torch.argmax(test_probabilities, dim=1)\n",
        "\n",
        "# Converts the class index to the class name for each test image.\n",
        "test_classes = [train_dataset.dataset.classes[i] for i in test_predictions]\n",
        "\n",
        "print(\"Number of predictions:\", test_predictions.shape)\n",
        "print(\"Predictions (class index):\", test_predictions.tolist())\n",
        "print()\n",
        "print(\"Predictions (class name):\", test_classes)\n",
        "\n",
        "\n",
        "#output\n",
        "Number of predictions: torch.Size([35])\n",
        "Predictions (class index): [1, 0, 0, 2, 0, 0, 2, 2, 1, 0, 2, 0, 0, 2, 0, 2, 2, 2, 1, 2, 1, 0, 1, 2, 0, 1, 2, 2, 1, 0, 2, 0, 1, 0, 1]\n",
        "\n",
        "Predictions (class name): ['Potato_Late_blight', 'Potato_Early_blight', 'Potato_Early_blight', 'Potato_healthy', 'Potato_Early_blight', 'Potato_Early_blight', 'Potato_healthy', 'Potato_healthy', 'Potato_Late_blight', 'Potato_Early_blight', 'Potato_healthy', 'Potato_Early_blight', 'Potato_Early_blight', 'Potato_healthy', 'Potato_Early_blight', 'Potato_healthy', 'Potato_healthy', 'Potato_healthy', 'Potato_Late_blight', 'Potato_healthy', 'Potato_Late_blight', 'Potato_Early_blight', 'Potato_Late_blight', 'Potato_healthy', 'Potato_Early_blight', 'Potato_Late_blight', 'Potato_healthy', 'Potato_healthy', 'Potato_Late_blight', 'Potato_Early_blight', 'Potato_healthy', 'Potato_Early_blight', 'Potato_Late_blight', 'Potato_Early_blight', 'Potato_Late_blight']"
      ],
      "metadata": {
        "id": "zLd_RaK_5Q0h"
      },
      "execution_count": null,
      "outputs": []
    }
  ]
}